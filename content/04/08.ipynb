{
    "cells": [
        {
            "cell_type": "markdown",
            "metadata": {},
            "source": [
                "### \u8fd9\u4e00\u8282\u6211\u4eec\u4e3b\u8981\u5b66\u4e60",
                "\n",
                "+ Fizz Buzz in Tensorflow"
            ]
        },
        {
            "cell_type": "markdown",
            "metadata": {},
            "source": [
                "",
                "\n",
                "+ \u5c06\u770b\u4f3c\u4e0d\u80fd\u8bad\u7ec3\u7684\u901a\u8fc7\u8bad\u7ec3\u6765\u6c42\u89e3\u3002\n",
                "+ Fizz Buzz\uff1a\u8f93\u51fa 1 \u5230 100\uff0c\u9047 3 \u7684\u500d\u6570\u8f93\u51fa Fizz\uff0c\u9047 5 \u7684\u500d\u6570\u8f93\u51fa Buzz\uff0c\u9047 15 \u7684\u500d\u6570\u8f93\u51fa Fizz Buzz\u3002\n",
                "+ Fizz Buzz in Tensorflow\uff1ahttp://joelgrus.com/2016/05/23/fizz-buzz-in-tensorflow/  \u8fd9\u662f\u4e2a\u6709\u8da3\u7684\u6545\u4e8b\u3002<br>\n",
                "![](https://imgbed.momodel.cn/yingtrain20-1.png)"
            ]
        },
        {
            "cell_type": "markdown",
            "metadata": {},
            "source": [
                ""
            ]
        },
        {
            "cell_type": "code",
            "execution_count": 2,
            "metadata": {},
            "outputs": [
                {
                    "name": "stderr",
                    "output_type": "stream",
                    "text": [
                        "Using TensorFlow backend.\n"
                    ]
                },
                {
                    "ename": "NameError",
                    "evalue": "name 'fizzbuzz' is not defined",
                    "output_type": "error",
                    "traceback": [
                        "\u001b[0;31m---------------------------------------------------------------------------\u001b[0m",
                        "\u001b[0;31mNameError\u001b[0m                                 Traceback (most recent call last)",
                        "\u001b[0;32m<ipython-input-2-5e94fa6008ed>\u001b[0m in \u001b[0;36m<module>\u001b[0;34m\u001b[0m\n\u001b[1;32m      8\u001b[0m '''\n\u001b[1;32m      9\u001b[0m \u001b[0;34m\u001b[0m\u001b[0m\n\u001b[0;32m---> 10\u001b[0;31m \u001b[0mx_train\u001b[0m\u001b[0;34m,\u001b[0m\u001b[0my_train\u001b[0m \u001b[0;34m=\u001b[0m \u001b[0mfizzbuzz\u001b[0m\u001b[0;34m(\u001b[0m\u001b[0;36m101\u001b[0m\u001b[0;34m,\u001b[0m\u001b[0;36m1000\u001b[0m\u001b[0;34m)\u001b[0m \u001b[0;31m#fizzbuzz()\u6b64\u5904\u672a\u505a\u89e3\u91ca\uff0c\u4f46\u5b83\u662f\u4e00\u4e2a\u5c06\u6574\u6570\u8f6c\u6362\u6210\u5341\u4f4d\u4e8c\u8fdb\u5236\uff0c\u5e76\u7528\u56db\u7ef4\u6570\u7ec4\u8868\u793a\u8f93\u51fa\u7684\u51fd\u6570\u001b[0m\u001b[0;34m\u001b[0m\u001b[0m\n\u001b[0m\u001b[1;32m     11\u001b[0m \u001b[0mx_test\u001b[0m\u001b[0;34m,\u001b[0m\u001b[0my_test\u001b[0m \u001b[0;34m=\u001b[0m \u001b[0mfizzbuzz\u001b[0m\u001b[0;34m(\u001b[0m\u001b[0;36m1\u001b[0m\u001b[0;34m,\u001b[0m\u001b[0;36m100\u001b[0m\u001b[0;34m)\u001b[0m\u001b[0;34m\u001b[0m\u001b[0m\n\u001b[1;32m     12\u001b[0m \u001b[0;34m\u001b[0m\u001b[0m\n",
                        "\u001b[0;31mNameError\u001b[0m: name 'fizzbuzz' is not defined"
                    ]
                }
            ],
            "source": [
                "from keras.layers.normalization import BatchNormalization\n",
                "\n",
                "# \u611f\u5174\u8da3\u7684\u540c\u5b66\u53ef\u4ee5\u628a\u8fd9\u4e2a\u51fd\u6570\u5199\u51fa\u6765\n",
                "'''\n",
                "def fizzbuzz(a, b):\n",
                "\n",
                "    return x_train,y_train\n",
                "'''\n",
                "\n",
                "x_train,y_train = fizzbuzz(101,1000) #fizzbuzz()\u6b64\u5904\u672a\u505a\u89e3\u91ca\uff0c\u4f46\u5b83\u662f\u4e00\u4e2a\u5c06\u6574\u6570\u8f6c\u6362\u6210\u5341\u4f4d\u4e8c\u8fdb\u5236\uff0c\u5e76\u7528\u56db\u7ef4\u6570\u7ec4\u8868\u793a\u8f93\u51fa\u7684\u51fd\u6570\n",
                "x_test,y_test = fizzbuzz(1,100)\n",
                "\n",
                "print(x_train.shape)\n",
                "print(x_train[0]) #\u7528\u5341\u4f4d\u7684\u4e8c\u8fdb\u5236\u8868\u793a\n",
                "print(y_train[0]) #array([1, 0, 0, 0]) \u56db\u4e2a\u7ef4\u5ea6\u5206\u522b\u4ee3\u8868\u8f93\u51fa\u539f\u6765\u7684\u6570\u5b57\u3001Fizz\u3001 Buzz\u3001 Fizz Buzz\n",
                "\n",
                "model = Sequential()\n",
                "model.add(Dense(input_dim=10, output_dim=100))#output_dim=1000 \u5c06\u7f51\u7edc\u53d8\u5927\uff0c\u6548\u679c\u53d8\u597d\n",
                "model.add(Activation('relu'))\n",
                "model.add(Dense(output_dim=4))\n",
                "model.add(Activation('softmax'))\n",
                "\n",
                "model.compile(loss='categorical_crossentropy',optimizer='adam',metrics=['accuracy'])\n",
                "\n",
                "model.fit(x_train,y_train,batch_size=20,nb_epoch=100)\n",
                "\n",
                "result = model.evaluate(x_test,y_test,batch_size=1000)\n",
                "print('Acc:', format(result[1], '0.2f'))"
            ]
        }
    ],
    "metadata": {
        "kernelspec": {
            "display_name": "Python 3",
            "language": "python",
            "name": "python3"
        },
        "language_info": {
            "codemirror_mode": {
                "name": "ipython",
                "version": 3
            },
            "file_extension": ".py",
            "mimetype": "text/x-python",
            "name": "python",
            "nbconvert_exporter": "python",
            "pygments_lexer": "ipython3",
            "version": "3.5.2"
        }
    },
    "nbformat": 4,
    "nbformat_minor": 2
}