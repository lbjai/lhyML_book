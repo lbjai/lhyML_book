{
 "cells": [
  {
   "cell_type": "markdown",
   "metadata": {},
   "source": [
    "### 这一节我们主要学习\n",
    "+ Fizz Buzz in Tensorflow"
   ]
  },
  {
   "cell_type": "markdown",
   "metadata": {},
   "source": [
    "\n",
    "+ 将看似不能训练的通过训练来求解。\n",
    "+ Fizz Buzz：输出 1 到 100，遇 3 的倍数输出 Fizz，遇 5 的倍数输出 Buzz，遇 15 的倍数输出 Fizz Buzz。\n",
    "+ Fizz Buzz in Tensorflow：http://joelgrus.com/2016/05/23/fizz-buzz-in-tensorflow/  这是个有趣的故事。<br>\n",
    "![](https://imgbed.momodel.cn/yingtrain20-1.png)"
   ]
  },
  {
   "cell_type": "markdown",
   "metadata": {},
   "source": []
  },
  {
   "cell_type": "code",
   "execution_count": 2,
   "metadata": {},
   "outputs": [
    {
     "name": "stderr",
     "output_type": "stream",
     "text": [
      "Using TensorFlow backend.\n"
     ]
    },
    {
     "ename": "NameError",
     "evalue": "name 'fizzbuzz' is not defined",
     "output_type": "error",
     "traceback": [
      "\u001b[0;31m---------------------------------------------------------------------------\u001b[0m",
      "\u001b[0;31mNameError\u001b[0m                                 Traceback (most recent call last)",
      "\u001b[0;32m<ipython-input-2-5e94fa6008ed>\u001b[0m in \u001b[0;36m<module>\u001b[0;34m\u001b[0m\n\u001b[1;32m      8\u001b[0m '''\n\u001b[1;32m      9\u001b[0m \u001b[0;34m\u001b[0m\u001b[0m\n\u001b[0;32m---> 10\u001b[0;31m \u001b[0mx_train\u001b[0m\u001b[0;34m,\u001b[0m\u001b[0my_train\u001b[0m \u001b[0;34m=\u001b[0m \u001b[0mfizzbuzz\u001b[0m\u001b[0;34m(\u001b[0m\u001b[0;36m101\u001b[0m\u001b[0;34m,\u001b[0m\u001b[0;36m1000\u001b[0m\u001b[0;34m)\u001b[0m \u001b[0;31m#fizzbuzz()此处未做解释，但它是一个将整数转换成十位二进制，并用四维数组表示输出的函数\u001b[0m\u001b[0;34m\u001b[0m\u001b[0m\n\u001b[0m\u001b[1;32m     11\u001b[0m \u001b[0mx_test\u001b[0m\u001b[0;34m,\u001b[0m\u001b[0my_test\u001b[0m \u001b[0;34m=\u001b[0m \u001b[0mfizzbuzz\u001b[0m\u001b[0;34m(\u001b[0m\u001b[0;36m1\u001b[0m\u001b[0;34m,\u001b[0m\u001b[0;36m100\u001b[0m\u001b[0;34m)\u001b[0m\u001b[0;34m\u001b[0m\u001b[0m\n\u001b[1;32m     12\u001b[0m \u001b[0;34m\u001b[0m\u001b[0m\n",
      "\u001b[0;31mNameError\u001b[0m: name 'fizzbuzz' is not defined"
     ]
    }
   ],
   "source": [
    "from keras.layers.normalization import BatchNormalization\n",
    "\n",
    "# 感兴趣的同学可以把这个函数写出来\n",
    "'''\n",
    "def fizzbuzz(a, b):\n",
    "\n",
    "    return x_train,y_train\n",
    "'''\n",
    "\n",
    "x_train,y_train = fizzbuzz(101,1000) #fizzbuzz()此处未做解释，但它是一个将整数转换成十位二进制，并用四维数组表示输出的函数\n",
    "x_test,y_test = fizzbuzz(1,100)\n",
    "\n",
    "print(x_train.shape)\n",
    "print(x_train[0]) #用十位的二进制表示\n",
    "print(y_train[0]) #array([1, 0, 0, 0]) 四个维度分别代表输出原来的数字、Fizz、 Buzz、 Fizz Buzz\n",
    "\n",
    "model = Sequential()\n",
    "model.add(Dense(input_dim=10, output_dim=100))#output_dim=1000 将网络变大，效果变好\n",
    "model.add(Activation('relu'))\n",
    "model.add(Dense(output_dim=4))\n",
    "model.add(Activation('softmax'))\n",
    "\n",
    "model.compile(loss='categorical_crossentropy',optimizer='adam',metrics=['accuracy'])\n",
    "\n",
    "model.fit(x_train,y_train,batch_size=20,nb_epoch=100)\n",
    "\n",
    "result = model.evaluate(x_test,y_test,batch_size=1000)\n",
    "print('Acc:', format(result[1], '0.2f'))"
   ]
  }
 ],
 "metadata": {
  "kernelspec": {
   "display_name": "Python 3",
   "language": "python",
   "name": "python3"
  },
  "language_info": {
   "codemirror_mode": {
    "name": "ipython",
    "version": 3
   },
   "file_extension": ".py",
   "mimetype": "text/x-python",
   "name": "python",
   "nbconvert_exporter": "python",
   "pygments_lexer": "ipython3",
   "version": "3.6.7"
  }
 },
 "nbformat": 4,
 "nbformat_minor": 2
}
