{
    "cells": [
        {
            "cell_type": "markdown",
            "metadata": {},
            "source": [
                "### \u8fd9\u4e00\u8282\u6211\u4eec\u4e3b\u8981\u5b66\u4e60",
                "\n",
                "+ Keras \u7b80\u4ecb\n",
                "+ \u7528 Keras \u5b9e\u73b0\u624b\u5199\u6570\u5b57\u8bc6\u522b\u6a21\u578b\n",
                "+ \u5c0f\u6279\u91cf\u68af\u5ea6\u4e0b\u964d\uff08Mini-batch Gradient Descent\uff09\n"
            ]
        },
        {
            "cell_type": "markdown",
            "metadata": {},
            "source": [
                "### 1. Keras \u7b80\u4ecb"
            ]
        },
        {
            "cell_type": "markdown",
            "metadata": {},
            "source": [
                "",
                "\n",
                "+ TensorFlow\u3001theano \u7684\u7279\u70b9\uff1a\u65b9\u4fbf\u7075\u6d3b\u4f46\u662f\u96be\u4ee5\u4e0a\u624b\uff1b\n",
                "+ Keras \u662f TensorFlow \u548c theano \u7684\u63a5\u53e3\uff0c\u5bb9\u6613\u4e0a\u624b\u4f7f\u7528\u4e14\u5177\u5907\u4e00\u5b9a\u7684\u7075\u6d3b\u6027\uff1b\n",
                "+ Documentation: <font size=3.5> http://keras.io/ </font>\n",
                "+ Example: <font size=3.5> https://github.com/fchollet/keras/tree/master/examples </font>\n",
                "+ \u7528 Keras \u5b9e\u73b0\u6df1\u5ea6\u5b66\u4e60\uff0c\u5c31\u50cf\u662f\u5728\u642d\u79ef\u6728\u3002"
            ]
        },
        {
            "cell_type": "markdown",
            "metadata": {},
            "source": [
                "### 2. \u7528 Keras \u5b9e\u73b0\u6df1\u5ea6\u5b66\u4e60\u7684\u201cHello World\uff01\u201d \u2014\u2014 \u624b\u5199\u6570\u5b57\u8bc6\u522b\u6a21\u578b"
            ]
        },
        {
            "cell_type": "markdown",
            "metadata": {},
            "source": [
                "#### 2.1  \u624b\u5199\u6570\u5b57\u8bc6\u522b\n",
                "\n",
                "",
                "\n",
                "![](http://imgbed.momodel.cn/15-4 \u624b\u5199\u6570\u5b57\u8bc6\u522b.png)",
                "\n",
                "+ MNIST Data: <font size=3.5> http://yann.lecun.com/exdb/mnist/ </font>\n",
                "+ Keras \u63d0\u4f9b\u6570\u636e\u96c6\u52a0\u8f7d\u529f\u80fd: <font size=3.5> http://keras.io/datasets/ </font>"
            ]
        },
        {
            "cell_type": "markdown",
            "metadata": {},
            "source": [
                "#### 2.2 \u6784\u5efa\u7f51\u7edc\n",
                "\n",
                "",
                "\n",
                "![](http://imgbed.momodel.cn/15-5 \u6784\u5efa\u7f51\u7edc.png)"
            ]
        },
        {
            "cell_type": "markdown",
            "metadata": {},
            "source": [
                "#### 2.3 \u8bc4\u4ef7\u6a21\u578b\u7684\u597d\u574f\n",
                "\n",
                "",
                "\n",
                "+ loss=\u2018categorical_crossentropy\u2019\n",
                "+ Keras \u4e2d\u635f\u5931\u51fd\u6570\u7684\u51e0\u79cd\u9009\u62e9\uff1a<font size=3.5> https://keras.io/objectives/ </font >\n",
                "\n",
                "![](http://imgbed.momodel.cn/15-6 \u8f6e\u5ed3123.png)"
            ]
        },
        {
            "cell_type": "markdown",
            "metadata": {},
            "source": [
                "#### 2.4 \u9009\u62e9\u6700\u4f73\u7684\u51fd\u6570\u2014\u2014\u8bad\u7ec3\n",
                "\n",
                "",
                "\n",
                "+ \u7b2c\u4e00\u6b65\uff0c\u914d\u7f6e\u4f18\u5316\u65b9\u5f0f\n",
                "\n",
                "![](http://imgbed.momodel.cn/15-a1 step3.1.png)",
                "\n",
                "+ \u7b2c\u4e8c\u6b65\uff0c\u8bad\u7ec3\n",
                "\n",
                "![](http://imgbed.momodel.cn/15-a2 step3.2.png)",
                "\n",
                "+ \u5176\u4e2d\uff0cx_train \u548c y_train \u90fd\u662f numpy array \u7684\u5f62\u5f0f\uff1a\n",
                "\n",
                "\n",
                "\n",
                "![](http://imgbed.momodel.cn/15-7 \u9009\u62e9\u6700\u4f73\u7684\u51fd\u6570.png)",
                "\n",
                "\u5176\u4e2d\uff1a\n",
                "+ batch_size: \u5728\u5b9e\u9645\u64cd\u4f5c\u4e2d\uff0c\u6211\u4eec\u5e76\u4e0d\u4f1a\u6700\u5c0f\u5316\u603b\u7684\u635f\u5931\u51fd\u6570\uff0c\u800c\u662f\u628a\u8bad\u7ec3\u96c6\u5206\u6210\u591a\u4e2a batch\uff0c\u6bcf\u6b21\u6700\u5c0f\u5316\u4e00\u4e2a batch \u7684\u603b\u635f\u5931 \u2014\u2014 \u5c0f\u6279\u91cf\u68af\u5ea6\u4e0b\u964d\u6cd5\uff08Mini-batch\uff09\u3002\n",
                "+ nb_epoch: \u5c06\u6240\u6709\u7684 batch \u90fd\u8dd1\u4e00\u904d\u53eb\u505a\u4e00\u4e2a epoch\u3002\n",
                "\n",
                "\n",
                "![](http://imgbed.momodel.cn/15-8 Mini-batch.png)",
                "    \n",
                "![](http://imgbed.momodel.cn/15-9 batch size.png)",
                "\n",
                "+ \u5982\u679c batch_size \u8bbe\u4e3a1\uff0c\u5c0f\u6279\u91cf\u68af\u5ea6\u4e0b\u964d\u6cd5\uff08Mini-batch Gradient Descent\uff09\u5c31\u76f8\u5f53\u4e8e\u968f\u673a\u68af\u5ea6\u4e0b\u964d\u6cd5\uff08SGD\uff09\u3002\n",
                "+ \u968f\u673a\u68af\u5ea6\u4e0b\u964d\u6cd5\u7279\u70b9\u662f\u53c2\u6570\u66f4\u65b0\u7684\u66f4\u5feb\uff0c\u4e0d\u7a33\u5b9a\u3002\u5c0f\u6279\u91cf\u68af\u5ea6\u4e0b\u964d\u6cd5\u7279\u70b9\u662f\u53c2\u6570\u66f4\u65b0\u6162\uff0c\u66f4\u7a33\u5b9a\u3002\n",
                "+ \u5b9e\u9645\u64cd\u4f5c\u4e2d\uff0c\u76f8\u540c\u65f6\u95f4\u5185\uff0c\u4e24\u79cd\u68af\u5ea6\u4e0b\u964d\u7b97\u6cd5\u53c2\u6570\u66f4\u65b0\u7684\u6b21\u6570\u76f8\u5f53\uff0c\u6240\u4ee5\u6211\u4eec\u66f4\u503e\u5411\u4e8e\u7a33\u5b9a\u7684\u5c0f\u6279\u91cf\u68af\u5ea6\u4e0b\u964d\u6cd5\u3002\n",
                "    \n",
                "![](http://imgbed.momodel.cn/15-10 \u5bf9\u901f\u5ea6\u7684\u5f71\u54cd.png)",
                "    \n",
                "+ Batch_size \u4e0d\u80fd\u8fc7\u5927\u7684\u539f\u56e0\uff1a1. GPU \u5e73\u884c\u8fd0\u7b97\u7684\u80fd\u529b\u662f\u6709\u9650\u5ea6\u7684\uff1b2. \u5bb9\u6613\u9677\u5165\u5c40\u90e8\u6700\u4f18\u70b9\uff08\u8fd9\u4e5f\u662f SGD \u7684\u968f\u673a\u6027\u53ef\u4ee5\u89e3\u51b3\u7684\u95ee\u9898\uff09\u3002\n",
                "+ \u5c0f\u6279\u91cf\u68af\u5ea6\u4e0b\u964d\u6cd5\u6bd4\u968f\u673a\u68af\u5ea6\u4e0b\u964d\u6cd5\u66f4\u5feb\u7684\u539f\u56e0\u662f\u524d\u8005\u53ef\u4ee5\u8c03\u7528 GPU \u5e73\u884c\u8fd0\u7b97\uff1a\n",
                "    \n",
                "![](http://imgbed.momodel.cn/15-12 \u968f\u673a\u68af\u5ea6\u4e0b\u964d\u548cminibatch.png)"
            ]
        },
        {
            "cell_type": "markdown",
            "metadata": {},
            "source": [
                "**\u725b\u5200\u5c0f\u8bd5**\n",
                "\n",
                "batcha_size \u7684\u4e0d\u540c\u9009\u62e9\u5e26\u6765\u7684\u5f71\u54cd\u3002"
            ]
        },
        {
            "cell_type": "markdown",
            "metadata": {},
            "source": [
                "<span class='md-hint-alone-link pop 0'>\u67e5\u770b\u7b54\u6848</span>"
            ]
        },
        {
            "cell_type": "markdown",
            "metadata": {},
            "source": [
                "### 3. Keras \u8865\u5145"
            ]
        },
        {
            "cell_type": "markdown",
            "metadata": {},
            "source": [
                "",
                "\n",
                "+ \u4fdd\u5b58\u548c\u52a0\u8f7d\u6a21\u578b\uff1a <font size=3.5>http://keras.io/getting-started/faq/#how-can-i-save-a-keras-model <font>\n",
                "\n",
                "+ \u5e2e\u4f60\u505a\u6d4b\u8bd5\uff1a1. \u6709\u6d4b\u8bd5\u96c6\u7684\u60c5\u51b5\u4e0b\u7b97\u6b63\u786e\u7387\uff08score[0]:\u635f\u5931\uff0cscore[1]:\u6b63\u786e\u7387\uff09 2. \u53ea\u6709\u8f93\u5165\u7684\u60c5\u51b5\u4e0b\u505a\u9884\u6d4b\u3002\n",
                "\n",
                "![](http://imgbed.momodel.cn/15-13 \u6d4b\u8bd5.png)"
            ]
        }
    ],
    "metadata": {
        "kernelspec": {
            "display_name": "Python 3",
            "language": "python",
            "name": "python3"
        },
        "language_info": {
            "codemirror_mode": {
                "name": "ipython",
                "version": 3
            },
            "file_extension": ".py",
            "mimetype": "text/x-python",
            "name": "python",
            "nbconvert_exporter": "python",
            "pygments_lexer": "ipython3",
            "version": "3.5.2"
        }
    },
    "nbformat": 4,
    "nbformat_minor": 2
}