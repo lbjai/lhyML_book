{
    "cells": [
        {
            "cell_type": "markdown",
            "metadata": {},
            "source": [
                "### \u8fd9\u4e00\u8282\u6211\u4eec\u4e3b\u8981\u5b66\u4e60",
                "\n",
                "+ \u68af\u5ea6\u4e0b\u964d\u6cd5\n",
                "+ \u94fe\u5f0f\u6cd5\u5219\n",
                "+ \u524d\u5411\u4f20\u64ad\n",
                "+ \u53cd\u5411\u4f20\u64ad"
            ]
        },
        {
            "cell_type": "markdown",
            "metadata": {},
            "source": [
                "### 1.\u57fa\u7840\u77e5\u8bc6"
            ]
        },
        {
            "cell_type": "markdown",
            "metadata": {},
            "source": [
                "#### 1.1 \u68af\u5ea6\u4e0b\u964d\u7b97\u6cd5\n",
                "\n",
                "",
                "\n",
                "+ \u7f51\u7edc\u7684\u53c2\u6570 ** $\u03b8=$ {$w_1,w_2,...,b_1,b_2,..$}**\n",
                "\n",
                "+ \u8d77\u59cb\u53c2\u6570\uff1a $\u03b8^ 0 \\longrightarrow \u03b8^ 1 \\longrightarrow \u03b8^ 2 \\longrightarrow ...... $\n",
                "\n",
                "+ \u5728\u795e\u7ecf\u7f51\u7edc\u4f7f\u7528\u68af\u5ea6\u4e0b\u964d\u7b97\u6cd5\u6c42\u89e3\u6700\u4f18\u5316\u7684\u635f\u5931\u51fd\u6570\uff0c\u53cd\u5411\u4f20\u64ad\u7b97\u6cd5\u80fd\u591f\u4f7f\u68af\u5ea6\u8ba1\u7b97\u66f4\u9ad8\u6548\u3002 \n",
                "\n",
                "![](http://imgbed.momodel.cn/14-1 \u68af\u5ea6\u4e0b\u964d.png)"
            ]
        },
        {
            "cell_type": "markdown",
            "metadata": {},
            "source": [
                "#### 1.2 \u94fe\u5f0f\u6cd5\u5219\n",
                "\n",
                "",
                "\n",
                "+ \u56e0\u4e3a\u795e\u7ecf\u7f51\u7edc\u6709\u7740\u591a\u4e2a\u9690\u85cf\u5c42\uff0c\u6240\u4ee5\u5728\u8ba1\u7b97\u504f\u5bfc\u6570\u7684\u8fc7\u7a0b\u4e2d\u8981\u4f7f\u7528\u5230\u94fe\u5f0f\u6c42\u5bfc\u6cd5\u5219\u3002\n",
                "\n",
                "![](http://imgbed.momodel.cn/14-2 \u94fe\u5f0f\u6cd5\u5219.png)"
            ]
        },
        {
            "cell_type": "markdown",
            "metadata": {},
            "source": [
                "### 2.\u53cd\u5411\u4f20\u64ad\u7b97\u6cd5"
            ]
        },
        {
            "cell_type": "markdown",
            "metadata": {},
            "source": [
                "#### 2.1 \u68af\u5ea6\u8ba1\u7b97\n",
                "\n",
                "",
                "\n",
                "+ \u6211\u4eec\u8981\u6700\u5c0f\u5316\u7684\u635f\u5931\u51fd\u6570 L(\u03b8) \u662f\u6bcf\u4e00\u7ec4\u6570\u636e\u7684\u635f\u5931 C(\u03b8) \u4e4b\u548c\u3002\uff08\u6ce8\uff1a\u8fd9\u91cc\u7684 C(\u03b8) \u5bf9\u5e94\u89c6\u9891\u4e2d\u7684 l(\u03b8)\uff09\n",
                "+ \u56e0\u6b64\u8ba1\u7b97 L(\u03b8) \u7684\u504f\u5fae\u5206\u7b49\u4ef7\u4e8e\u8ba1\u7b97\u6bcf\u4e00\u4e2a C(\u03b8) \u7684\u504f\u5fae\u5206\uff0c\u518d\u5c06\u4e4b\u52a0\u603b\u3002\u6240\u4ee5\u63a5\u4e0b\u6765\u7b97 C(\u03b8) \u7684\u504f\u5fae\u5206\u3002\n",
                "\n",
                "![](http://imgbed.momodel.cn/14-3 \u8ba1\u7b97\u504f\u5bfc.png)",
                "\n",
                "+ \u5bf9\u7b2c\u4e00\u5c42\u7684\u67d0\u4e00\u4e2a\u795e\u7ecf\u5143\u8fdb\u884c\u5206\u6790\u53d1\u73b0\uff1a<font  size=4 >$\\frac{\\partial C}{\\partial w} = \\frac{\\partial z}{\\partial w} \\frac{\\partial C}{\\partial z}$</font>\n",
                "+ \u524d\u5411\u4f20\u64ad\u9636\u6bb5\uff1a\u8ba1\u7b97\u6240\u6709\u53c2\u6570\u7684 <font  size=4 > $\\frac{\\partial z}{\\partial w}$ <font>\n",
                "+ \u53cd\u5411\u4f20\u64ad\u9636\u6bb5\uff1a\u8ba1\u7b97\u6240\u6709\u53c2\u6570\u7684 <font size=4> $\\frac{\\partial C}{\\partial z}$ <font>\n",
                "    \n",
                "![](http://imgbed.momodel.cn/14-4 \u504f\u5bfc\u6570\u8ba1\u7b972.png)"
            ]
        },
        {
            "cell_type": "markdown",
            "metadata": {},
            "source": [
                "#### 2.2 \u524d\u5411\u4f20\u64ad\n",
                "\n",
                "",
                "\n",
                "+ \u4e3a\u6240\u6709\u7684\u53c2\u6570\u8ba1\u7b97 <font  size=4 > $\\frac{\\partial z}{\\partial w}$ <font>  \n",
                "    \n",
                "![](http://imgbed.momodel.cn/14-5 \u524d\u5411\u8ba1\u7b97.png)",
                "\n",
                "+ \u5b9e\u4f8b\uff1a\n",
                "\n",
                "![](http://imgbed.momodel.cn/14-6 \u524d\u5411\u4f20\u64ad\u7684\u4f8b\u5b50.png)"
            ]
        },
        {
            "cell_type": "markdown",
            "metadata": {},
            "source": [
                "#### 2.3 \u540e\u5411\u4f20\u64ad\n",
                "\n",
                "",
                "\n",
                "+ \u8ba1\u7b97 <font size=4> $\\frac{\\partial C}{\\partial z} : \\frac{\\partial C}{\\partial z} = \\frac{\\partial a}{\\partial z} \\frac{\\partial C}{\\partial a}$ <font>\n",
                "\n",
                "![](http://imgbed.momodel.cn/14-7 \u540e\u5411\u4f20\u64ad\u8ba1\u7b97.png)"
            ]
        },
        {
            "cell_type": "markdown",
            "metadata": {},
            "source": [
                "+ \u7b2c\u4e00\u6b65\uff0c\u8ba1\u7b97 <font size=4> $\\frac{\\partial a}{\\partial z}= \u03c3'(z)$  <font>:\n",
                "    \n",
                "![](http://imgbed.momodel.cn/14-8 \u540e\u5411\u4f20\u64ad1.png)"
            ]
        },
        {
            "cell_type": "markdown",
            "metadata": {},
            "source": [
                "+ \u7b2c\u4e8c\u6b65\uff0c\u8ba1\u7b97 <font size=4> $\\frac{\\partial C}{\\partial a}$  <font>:\n",
                "\n",
                "![](http://imgbed.momodel.cn/14-9 \u540e\u5411\u504f\u5bfc\u7684\u8ba1\u7b97.png)",
                "\n",
                "+ \u5047\u8bbe <font size=4> $\\frac{\\partial C}{\\partial z'}$ </font>\u548c <font size=4>$\\frac{\\partial C}{\\partial z''}$  </font>  \u5df2\u77e5,\u540e\u5411\u4f20\u64ad\u9636\u6bb5\u7684\u7ed3\u679c\uff1a\n",
                "\n",
                "![](http://imgbed.momodel.cn/14-10 \u8ba1\u7b97\u7ed3\u679c.png)",
                "    \n",
                "+ \u4f46\u5b9e\u9645<font size=4> $\\frac{\\partial C}{\\partial z'}$ </font>\u548c <font size=4>$\\frac{\\partial C}{\\partial z''}$  </font>\u662f\u672a\u77e5\u7684\uff0c\u63a5\u4e0b\u6765\u5206\u4e24\u79cd\u60c5\u51b5\u8fdb\u884c\u8ba8\u8bba\uff1a\n",
                "   \n",
                "+ \u60c5\u51b51\uff1a\u8be5\u5c42\u662f\u8f93\u51fa\u5c42\uff0c<font size=4> $\\frac{\\partial C}{\\partial z'}$ </font>\u548c <font size=4>$\\frac{\\partial C}{\\partial z''}$  </font>\u4e3a\u8f93\u51fa\u5c42\u7684\u8f93\u5165\n",
                "\n",
                "![](http://imgbed.momodel.cn/14-11 \u60c5\u51b51.png)",
                "    \n",
                "+ \u60c5\u51b52\uff1a\u8be5\u5c42\u4e0d\u662f\u8f93\u51fa\u5c42\uff0c\u6211\u4eec\u53ef\u4ee5\u9012\u5f52\u5730\u8ba1\u7b97\uff0c\u76f4\u5230\u6211\u4eec\u5230\u8fbe\u8f93\u51fa\u5c42\u3002\u7136\u540e\uff0c\u4ece\u8f93\u51fa\u5c42\u4e0d\u65ad\u5411\u524d\u8ba1\u7b97\uff0c\u5f97\u5230 <font size=4>$\\frac{\\partial C}{\\partial z}$ <font>\n",
                "\n",
                "![](http://imgbed.momodel.cn/14-12 \u60c5\u51b52.png)",
                "\n",
                "![](http://imgbed.momodel.cn/14-13 \u9012\u5f52\u8ba1\u7b97\u76f4\u5230\u8f93\u51fa\u5c42.png)",
                "    \n",
                "+ \u60c5\u51b52\uff1a \u4ece\u8f93\u5165\u5f00\u59cb\u7b97\u611f\u89c9\u5f88\u9ebb\u70e6\uff0c\u4ece\u8f93\u51fa\u5f00\u59cb\u7b97\u4f1a\u53d1\u73b0\u548c\u524d\u9988\u7f51\u7edc\u8fd0\u7b97\u91cf\u4e00\u6837\uff1a\n",
                "\n",
                "![](http://imgbed.momodel.cn/14-14 \u4ece\u8f93\u51fa\u5c42\u5f00\u59cb\u53cd\u5411\u8ba1\u7b97.png)"
            ]
        },
        {
            "cell_type": "markdown",
            "metadata": {},
            "source": [
                "#### 2.4 \u53cd\u5411\u4f20\u64ad\u7b97\u6cd5\u603b\u7ed3\n",
                "\n",
                "",
                "\n",
                "![](http://imgbed.momodel.cn/14-15 \u603b\u7ed3.png)"
            ]
        },
        {
            "cell_type": "markdown",
            "metadata": {},
            "source": [
                "\u5148\u505a\u524d\u5411\u4f20\u64ad\uff0c\u8ba1\u7b97\u51fa\u6fc0\u6d3b\u51fd\u6570\u7684\u8f93\u51fa$\\frac{\\partial z}{\\partial w} = a$,<br>\n",
                "\u518d\u4ece\u53cd\u5411\u4f20\u64ad\u4e2d\u6c42\u51fa$\\frac{\\partial C}{\\partial z}$\uff0c\u5c06\u4e0a\u8ff0\u7ed3\u679c\u76f8\u4e58\u5373\u5f97\u5230$\\frac{\\partial C}{\\partial w}$"
            ]
        },
        {
            "cell_type": "markdown",
            "metadata": {},
            "source": [
                "**\u725b\u5200\u5c0f\u8bd5**\n",
                "\n",
                "\u6c42\u51fay\u5bf9z\u7684\u5bfc\u6570\uff1a\n",
                "$y=\\frac{1}{1+e^{-z}}$"
            ]
        },
        {
            "cell_type": "markdown",
            "metadata": {},
            "source": [
                "<span class='md-hint-alone-link pop 0'>\u67e5\u770b\u7b54\u6848</span>"
            ]
        }
    ],
    "metadata": {
        "kernelspec": {
            "display_name": "Python 3",
            "language": "python",
            "name": "python3"
        },
        "language_info": {
            "codemirror_mode": {
                "name": "ipython",
                "version": 3
            },
            "file_extension": ".py",
            "mimetype": "text/x-python",
            "name": "python",
            "nbconvert_exporter": "python",
            "pygments_lexer": "ipython3",
            "version": "3.5.2"
        }
    },
    "nbformat": 4,
    "nbformat_minor": 2
}