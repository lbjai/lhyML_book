{
    "cells": [
        {
            "cell_type": "markdown",
            "metadata": {},
            "source": [
                "<br>"
            ]
        },
        {
            "cell_type": "markdown",
            "metadata": {},
            "source": [
                "### \u8fd9\u4e00\u8282\u6211\u4eec\u4e3b\u8981\u5b66\u4e60",
                "\n",
                "+ \u7528 Keras 2.0 \u6784\u5efa\u4e00\u4e2a\u6700\u57fa\u7840\u7684\u5168\u8fde\u63a5\u524d\u9988\u7f51\u7edc\u6765\u5b9e\u73b0\u624b\u5199\u6570\u5b57\u8bc6\u522b"
            ]
        },
        {
            "cell_type": "markdown",
            "metadata": {},
            "source": [
                "",
                "\n",
                "![](https://imgbed.momodel.cn/16-1.png)",
                "\n",
                "",
                "\n",
                "+ \u635f\u5931\u51fd\u6570\u7684\u51e0\u79cd\u9009\u62e9\uff1a<font size=3.5> https://keras.io/objectives/ </font >\n",
                "\n",
                "+ \u4f18\u5316\u5668\u9009\u62e9\uff1aSGD, RMSprop, Adagrad, Adadelta, Adam, Adamax, Nadam\n",
                "\n",
                "![](https://imgbed.momodel.cn/16-2.png)",
                "\n",
                "",
                "\n",
                "![](https://imgbed.momodel.cn/16-3.png)",
                "\n",
                "",
                "\n",
                "+ \u4fdd\u5b58\u548c\u52a0\u8f7d\u6a21\u578b\uff1a <font size=3.5>http://keras.io/getting-started/faq/#how-can-i-save-a-keras-model <font>\n",
                "\n",
                "+ \u6d4b\u8bd5\uff1a1. \u6709\u6d4b\u8bd5\u96c6\u7684\u60c5\u51b5\u4e0b\u7b97\u6b63\u786e\u7387\uff08score[0]:\u635f\u5931\uff0cscore[1]:\u6b63\u786e\u7387\uff09 2. \u53ea\u6709\u8f93\u5165\u7684\u60c5\u51b5\u4e0b\u505a\u9884\u6d4b\u3002\n",
                "\n",
                "![](http://imgbed.momodel.cn/15-13 \u6d4b\u8bd5.png)"
            ]
        }
    ],
    "metadata": {
        "kernelspec": {
            "display_name": "Python 3",
            "language": "python",
            "name": "python3"
        },
        "language_info": {
            "codemirror_mode": {
                "name": "ipython",
                "version": 3
            },
            "file_extension": ".py",
            "mimetype": "text/x-python",
            "name": "python",
            "nbconvert_exporter": "python",
            "pygments_lexer": "ipython3",
            "version": "3.5.2"
        }
    },
    "nbformat": 4,
    "nbformat_minor": 2
}