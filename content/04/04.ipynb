{
 "cells": [
  {
   "cell_type": "markdown",
   "metadata": {},
   "source": [
    "<br>"
   ]
  },
  {
   "cell_type": "markdown",
   "metadata": {},
   "source": [
    "### 这一节我们主要学习\n",
    "+ 用 Keras 2.0 构建一个最基础的全连接前馈网络来实现手写数字识别"
   ]
  },
  {
   "cell_type": "markdown",
   "metadata": {},
   "source": [
    "\n",
    "![](https://imgbed.momodel.cn/16-1.png)\n",
    "\n",
    "+ 损失函数的几种选择：<font size=3.5> https://keras.io/objectives/ </font >\n",
    "\n",
    "+ 优化器选择：SGD, RMSprop, Adagrad, Adadelta, Adam, Adamax, Nadam\n",
    "\n",
    "![](https://imgbed.momodel.cn/16-2.png)\n",
    "\n",
    "![](https://imgbed.momodel.cn/16-3.png)\n",
    "\n",
    "+ 保存和加载模型： <font size=3.5>http://keras.io/getting-started/faq/#how-can-i-save-a-keras-model <font>\n",
    "\n",
    "+ 测试：1. 有测试集的情况下算正确率（score[0]:损失，score[1]:正确率） 2. 只有输入的情况下做预测。\n",
    "\n",
    "![](http://imgbed.momodel.cn/15-13 测试.png)"
   ]
  }
 ],
 "metadata": {
  "kernelspec": {
   "display_name": "Python 3",
   "language": "python",
   "name": "python3"
  },
  "language_info": {
   "codemirror_mode": {
    "name": "ipython",
    "version": 3
   },
   "file_extension": ".py",
   "mimetype": "text/x-python",
   "name": "python",
   "nbconvert_exporter": "python",
   "pygments_lexer": "ipython3",
   "version": "3.6.7"
  }
 },
 "nbformat": 4,
 "nbformat_minor": 2
}
