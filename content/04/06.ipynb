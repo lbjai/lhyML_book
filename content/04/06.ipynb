{
    "cells": [
        {
            "cell_type": "markdown",
            "metadata": {},
            "source": [
                "\n",
                "### \u8fd9\u4e00\u8282\u6211\u4eec\u4e3b\u8981\u5b66\u4e60",
                "\n",
                "+ \u6fc0\u6d3b\u51fd\u6570\uff08activation function\uff09\n",
                "+ \u81ea\u9002\u5e94\u5b66\u4e60\u7387\uff08Adaptive Learning Rate\uff09\n",
                "+ \u65e9\u505c\u6cd5\uff08Early Stopping\uff09\n",
                "+ \u6b63\u5219\u5316\uff08Regularization\uff09\n",
                "+ Dropout"
            ]
        },
        {
            "cell_type": "markdown",
            "metadata": {},
            "source": [
                "### 1. \u524d\u8a00"
            ]
        },
        {
            "cell_type": "markdown",
            "metadata": {},
            "source": [
                "#### 1.1 \u5982\u4f55\u8bc4\u4f30\u8bad\u7ec3\u51fa\u7684\u795e\u7ecf\u7f51\u7edc\n",
                "\n",
                "",
                "\n",
                "+ \u6211\u4eec\u901a\u8fc7\u6df1\u5ea6\u5b66\u4e60\u7684\u4e09\u4e2a\u6b65\u9aa4\u5f97\u5230\u4e00\u4e2a\u795e\u7ecf\u7f51\u7edc\uff0c\u90a3\u4e48\u5982\u4f55\u5224\u65ad\u6211\u4eec\u5f97\u5230\u7684\u662f\u4e0d\u662f\u4e00\u4e2a\u597d\u7684\u795e\u7ecf\u7f51\u7edc\u5462\uff1f\n",
                "+ \u9996\u5148\uff0c\u8981\u5224\u65ad\u8be5\u795e\u7ecf\u7f51\u7edc\u5728\u8bad\u7ec3\u96c6\u4e0a\u7684\u8868\u73b0\uff08\u6df1\u5ea6\u5b66\u4e60\u4e0d\u80fd\u4fdd\u8bc1\u6a21\u578b\u5728\u8bad\u7ec3\u96c6\u4e0a\u7684\u8868\u73b0\uff09\u3002<br>\n",
                "    \u5982\u679c\u8868\u73b0\u4e0d\u597d\uff0c\u8981\u56de\u5230\u5f00\u59cb\u7684\u4e09\u4e2a\u6b65\u9aa4\u8fdb\u884c\u8c03\u6574\uff0c\u76f4\u5230\u5176\u5728\u8bad\u7ec3\u96c6\u4e0a\u8868\u73b0\u597d\u4e3a\u6b62\u3002<br>\n",
                "+ \u5176\u6b21\uff0c\u68c0\u67e5\u6211\u4eec\u5df2\u7ecf\u5f97\u5230\u7684\u5728\u8bad\u7ec3\u96c6\u4e0a\u8868\u73b0\u597d\u7684\u795e\u7ecf\u7f51\u7edc\u5728\u6d4b\u8bd5\u96c6\u7684\u8868\u73b0\u3002<br>\n",
                "    \u5982\u679c\u8868\u73b0\u4e0d\u597d\uff0c\u5219\u662f\u51fa\u73b0\u4e86\u8fc7\u62df\u5408\uff0c\u56de\u5230\u5f00\u59cb\u7684\u4e09\u4e2a\u6b65\u9aa4\u8fdb\u884c\u8c03\u6574\u3002<br>\n",
                "    \u5982\u679c\u8868\u73b0\u662f\u597d\u7684\uff0c\u90a3\u4e48\u6211\u4eec\u5f97\u5230\u4e86\u4e00\u4e2a\u597d\u7684\u6df1\u5ea6\u795e\u7ecf\u7f51\u7edc\u3002<br>\n",
                "\n",
                "![](http://imgbed.momodel.cn/18-1 \u6df1\u5ea6\u5b66\u4e60\u7684\u79d8\u8bc0.png)",
                "\n",
                "+ \u6ce8\u610f\u8981\u901a\u8fc7\u6b63\u786e\u7684\u6b65\u9aa4\u5bf9\u6df1\u5ea6\u795e\u7ecf\u7f51\u7edc\u8fdb\u884c\u8bc4\u4f30\uff0c<br>\n",
                "    \u8fd9\u6837\u624d\u80fd\u53d1\u73b0\u95ee\u9898\u6240\u5728\uff0c\u800c\u4e0d\u662f\u6548\u679c\u4e0d\u597d\u5219\u76f2\u76ee\u8d23\u602a\u8fc7\u62df\u5408,\u6bd4\u5982\uff1a\n",
                "\n",
                "![](http://imgbed.momodel.cn/18-2 \u4e0d\u8981\u8d23\u602a\u8fc7\u62df\u5408.png)",
                "\n",
                "\u8be5\u56fe\u7247\u53d6\u81ea\u8bba\u6587\uff1a\u56fe\u50cf\u8bc6\u522b\u4e2d\u7684\u6df1\u5ea6\u6b8b\u5dee\u5b66\u4e60 <font size=3.5>http://arxiv.org/abs/1512.03385</font>"
            ]
        },
        {
            "cell_type": "markdown",
            "metadata": {},
            "source": [
                "#### 1.2 \u5bf9\u6a21\u578b\u8fdb\u884c\u6539\u8fdb\n",
                "\n",
                "",
                "    \n",
                "+ \u63d0\u9ad8\u6a21\u578b\u5728\u8bad\u7ec3\u96c6\u4e0a\u7684\u8868\u73b0\uff1a\n",
                "    + 1.\u6fc0\u6d3b\u51fd\u6570\n",
                "    + 2.\u81ea\u9002\u5e94\u5b66\u4e60\u7387\n",
                "+ \u63d0\u9ad8\u6a21\u578b\u5728\u6d4b\u8bd5\u96c6\u4e0a\u7684\u8868\u73b0\uff1a\n",
                "    + 1.\u65e9\u505c\u6cd5\n",
                "    + 2.\u6b63\u5219\u5316\n",
                "    + 3.Dropout\n",
                "\n",
                "![](http://imgbed.momodel.cn/18-4 \u4e0d\u7528\u60c5\u51b5\u5bf9\u5e94\u7684\u89e3\u51b3\u529e\u6cd5.png)"
            ]
        },
        {
            "cell_type": "markdown",
            "metadata": {},
            "source": [
                "### 2. \u63d0\u9ad8\u6a21\u578b\u5728\u8bad\u7ec3\u96c6\u4e0a\u7684\u8868\u73b0"
            ]
        },
        {
            "cell_type": "markdown",
            "metadata": {},
            "source": [
                "#### 2.1 \u66f4\u6362\u65b0\u7684\u6fc0\u6d3b\u51fd\u6570\n",
                "\n",
                "",
                "\n",
                "+ \u5f53\u795e\u7ecf\u7f51\u7edc\u6bd4\u8f83\u6df1\u7684\u65f6\u5019\uff0c\u82e5\u6fc0\u6d3b\u51fd\u6570\u4e3a sigmoid \u51fd\u6570\u4e14\u6bcf\u4e2a\u53c2\u6570\u5b66\u4e60\u7387\u4e00\u81f4\uff0c\u4f1a\u53d1\u751f\u68af\u5ea6\u6d88\u5931\u95ee\u9898\uff0c\u5bfc\u81f4\u6a21\u578b\u53ef\u80fd\u6536\u655b\u7684\u7ed3\u679c\u6bd4\u8f83\u5dee\u3002\n",
                "+ \u7406\u8bba\u4e0a\uff0c\u53ef\u4ee5\u8bbe\u7f6e\u52a8\u6001\u7684\u5b66\u4e60\u7387\u6765\u89e3\u51b3\u68af\u5ea6\u4e0d\u4e00\u81f4\u7684\u95ee\u9898\u3002\u4f46\u662f\u66f4\u6709\u6548\u7684\u65b9\u6cd5\u662f\u6362\u6389\u5bfc\u81f4\u8be5\u95ee\u9898\u7684\u5143\u51f6 \u2014\u2014 sigmoid \u51fd\u6570\u3002\n",
                "\n",
                "![](http://imgbed.momodel.cn/18-6 \u68af\u5ea6\u6d88\u5931.png)",
                "\n",
                "![](http://imgbed.momodel.cn/18-7 \u68af\u5ea6\u6d88\u59312.png)"
            ]
        },
        {
            "cell_type": "markdown",
            "metadata": {},
            "source": [
                "",
                "\n",
                "+ \u4f7f\u7528 ReLU \u51fd\u6570\u7684\u539f\u56e0\uff1a\n",
                "    + 1.\u8ba1\u7b97\u901f\u5ea6\u5feb \n",
                "    + 2.\u751f\u7269\u5b66\u4e0a\u7684\u7406\u7531 \n",
                "    + 3.\u76f8\u5f53\u4e8e\u65e0\u9650\u4e2a\u4e0d\u540c\u504f\u5dee\u7684 sigmoid \u51fd\u6570\u53e0\u5728\u4e00\u8d77\n",
                "    + 4.\u53ef\u4ee5\u89e3\u51b3\u68af\u5ea6\u6d88\u5931\u95ee\u9898\n",
                "\n",
                "+ Rectified Linear Unit\uff08ReLU\uff09\uff1a\n",
                "\n",
                "![](http://imgbed.momodel.cn/18-8 RElu.png)"
            ]
        },
        {
            "cell_type": "markdown",
            "metadata": {},
            "source": [
                "+ \u4f7f\u7528 ReLU \u51fd\u6570\u4ee3\u66ff sigmoid \u51fd\u6570\u53ef\u4ee5\u89e3\u51b3\u68af\u5ea6\u6d88\u5931\u7684\u95ee\u9898\u662f\u56e0\u4e3a\uff1a\n",
                "    + \u4f5c\u7528\u5728\u8f93\u5165\u5927\u4e8e\u96f6\u533a\u57df\u7684\u795e\u7ecf\u5143\u76f8\u5f53\u4e8e\u7ebf\u6027\u51fd\u6570\uff0c\u4f5c\u7528\u5728\u8f93\u5165\u5c0f\u4e8e\u96f6\u533a\u57df\u7684\u795e\u7ecf\u5143\u76f8\u5f53\u4e8e\u6d88\u5931\u3002\n",
                "    + \u6574\u4e2a\u7f51\u7edc\u4f1a\u53d8\u6210\u4e00\u4e2a\u5f88\u7626\u7684\u7ebf\u6027\u7f51\u7edc\uff0c\u9760\u8fd1\u8f93\u5165\u5c42\u7684\u53c2\u6570\u68af\u5ea6\u5c31\u4e0d\u4f1a\u7279\u522b\u5c0f\uff0c\u4ece\u800c\u89e3\u51b3\u4e86\u68af\u5ea6\u6d88\u5931\u95ee\u9898\u3002\n",
                "    + \u4f46\u662f\u7f51\u7edc\u53ea\u662f\u5728\u5c0f\u8303\u56f4\u5185\u662f\u7ebf\u6027\u7684\uff0c\u6574\u4f53\u6765\u8bf4\u603b\u7684\u7f51\u7edc\u8fd8\u662f\u975e\u7ebf\u6027\u7684\u3002\n",
                "\n",
                "![](http://imgbed.momodel.cn/18-9 \u793a\u610f\u56fe.png)",
                "\n",
                "![](http://imgbed.momodel.cn/18-10 \u4ea7\u751f\u7684\u6548\u679c.png)",
                "\n",
                "+ ReLU \u7684\u53d8\u5f62\uff1a\u5e26\u6cc4\u9732\u7ebf\u6027\u6574\u6d41\u51fd\u6570\uff08Leaky ReLU\uff09\u3001\u53c2\u6570\u7ebf\u6027\u6574\u6d41\u51fd\u6570\uff08Parametric ReLU\uff09\u3001Exponential Linear Unit\n",
                "\n",
                "![](https://imgbed.momodel.cn/18-a1.png)"
            ]
        },
        {
            "cell_type": "markdown",
            "metadata": {},
            "source": [
                "",
                "\n",
                "+ Maxout Network \u7684\u8fd0\u4f5c\u65b9\u5f0f\uff1a\n",
                "\n",
                "![](http://imgbed.momodel.cn/18-12 MAXout.png)",
                "\n",
                "+ Maxout Network \u600e\u4e48\u4ea7\u751f ReLU\uff1a\n",
                "\n",
                "![](http://imgbed.momodel.cn/18-13 maxout\u662f\u7279\u6b8a\u7684relu\u51fd\u6570.png)",
                "\n",
                "+ Maxout Network \u53ef\u4ee5\u4ea7\u751f\u5176\u4ed6\u7684\u7c7b\u4f3c ReLU \u7684\u51fd\u6570\uff1a\n",
                "\n",
                "![](http://imgbed.momodel.cn/18-14 maxout\u66f4\u591a\u7684\u529f\u80fd.png)",
                "\n",
                "+ Maxout Network \u751f\u6210\u6fc0\u6d3b\u51fd\u6570\u7684\u7279\u70b9\uff1a1.\u5206\u6bb5\u7ebf\u6027\u51f8\u51fd\u6570 2.\u5206\u6bb5\u6570\u53d6\u51b3\u4e8e\u7ec4\u4e2d\u7684\u5143\u7d20\u6570\n",
                "\n",
                "![](https://imgbed.momodel.cn/18-a4.png)",
                "\n",
                "+ Maxout Network \u8bad\u7ec3\uff1a\u770b\u4f3c\u4e0d\u80fd\u7b97\u504f\u5fae\u5206\uff0c\u5176\u5b9e\u7ed9\u5b9a\u8f93\u5165\u7684\u65f6\u5019\uff0c\u7f51\u7edc\u662f\u7ebf\u6027\u7684\u3002\u800c\u4e14\u5bf9\u4e8e\u4e0d\u540c\u7684\u8f93\u5165\u5bf9\u5e94\u4e0d\u540c\u7684\u7ebf\u6027\u7f51\u7edc\uff0c\u4fdd\u8bc1\u6240\u6709\u7684\u53c2\u6570\u90fd\u53ef\u4ee5\u88ab\u8bad\u7ec3\u5230\u3002\n",
                "\n",
                "![](http://imgbed.momodel.cn/18-15 \u5bf9\u6570\u636e\u8fdb\u884c\u8bad\u7ec3.png)",
                "\n",
                "![](https://imgbed.momodel.cn/18-a6.png)"
            ]
        },
        {
            "cell_type": "markdown",
            "metadata": {},
            "source": [
                "**\u725b\u5200\u5c0f\u8bd5**\n",
                "\n",
                "\u5f53\u8bad\u7ec3\u7ed3\u679c\u5728\u8bad\u7ec3\u96c6\u4e0a\u8868\u73b0\u4e0d\u597d\u65f6\uff0c\u9664\u4e86\u53ef\u4ee5\u6539\u53d8\u6fc0\u6d3b\u51fd\u6570\u5916\uff0c\u8fd8\u53ef\u6709\u4ec0\u4e48\u63aa\u65bd\uff1f"
            ]
        },
        {
            "cell_type": "markdown",
            "metadata": {},
            "source": [
                "<span class='md-hint-alone-link pop 0'>\u67e5\u770b\u7b54\u6848</span>"
            ]
        },
        {
            "cell_type": "markdown",
            "metadata": {},
            "source": [
                "#### 2.2 \u81ea\u9002\u5e94\u5b66\u4e60\u7387\uff08Adaptive Learning Rate\uff09\n",
                "\n",
                "",
                "\n",
                "+ \u5728\u8bb2\u68af\u5ea6\u4e0b\u964d\u65f6\u5df2\u7ecf\u8ba8\u8bba\u8fc7 Adagrad\u2014\u2014\u6211\u4eec\u7528\u4e00\u6b21\u5fae\u5206\u6765\u4f30\u8ba1\u4e8c\u6b21\u5fae\u5206\u7684\u503c\u3002\u8fd9\u5efa\u7acb\u5728\u4e8c\u6b21\u5fae\u5206\u6bd4\u8f83\u56fa\u5b9a\u7684\u60c5\u51b5\u4e0b\uff0c\u4f46\u662f\u5b9e\u9645\u60c5\u51b5\u662f\u5f88\u590d\u6742\u7684\u3002\n",
                "\n",
                "![](http://imgbed.momodel.cn/18-18 Adagrad.png)"
            ]
        },
        {
            "cell_type": "markdown",
            "metadata": {},
            "source": [
                "",
                "\n",
                "+ \u5b9e\u9645\u8bad\u7ec3\u795e\u7ecf\u7f51\u7edc\u65f6\uff0c\u8bef\u5dee\u66f2\u9762\u53ef\u80fd\u975e\u5e38\u7684\u590d\u6742\u3002\n",
                "+ \u5982\u56fe\uff0c\u5728\u68af\u5ea6\u6bd4\u8f83\u5927\u7684\u65f6\u5019\uff0c\u6211\u4eec\u9700\u8981\u5c0f\u4e00\u70b9\u7684\u5b66\u4e60\u7387\uff1b\u5728\u68af\u5ea6\u6bd4\u8f83\u5c0f\u7684\u65f6\u5019\uff0c\u6211\u4eec\u9700\u8981\u5927\u4e00\u70b9\u7684\u5b66\u4e60\u7387\uff0c\u4ee5\u4fdd\u8bc1\u635f\u5931\u51fd\u6570\u6b63\u5e38\u6536\u655b\u3002\u6240\u4ee5\u6211\u4eec\u4e00\u822c\u4f1a\u7528\u6bd4 Adagrad \u6548\u679c\u597d\u4e00\u70b9\u7684 RMSProp\u3002\n",
                "\n",
                "![](http://imgbed.momodel.cn/18-19 \u8bef\u5dee\u66f2\u9762.png)",
                "\n",
                "+ RMSProp \u5176\u5b9e\u662f\u548c Adagrad \u4e00\u6837\u7684\u601d\u8def\uff0c\u53ea\u662f\u5728\u6c42\u5206\u6bcd\u7684\u65f6\u5019\u8003\u8651\u4e86\u5386\u53f2\u68af\u5ea6\u548c\u65b0\u68af\u5ea6\u7684\u6743\u91cd\uff0c\u5982\u56fe\uff1a\n",
                "\n",
                "![](http://imgbed.momodel.cn/18-20 rmsprop.png)"
            ]
        },
        {
            "cell_type": "markdown",
            "metadata": {},
            "source": [
                "",
                "\n",
                "+ \u5728\u8bad\u7ec3\u65f6\u53ef\u80fd\u4f1a\u9047\u5230\u4e09\u5927\u95ee\u9898\uff1a\n",
                "    + \u53c2\u6570\u66f4\u65b0\u592a\u6162 \n",
                "    + \u51fd\u6570\u5361\u5728\u978d\u70b9 \n",
                "    + \u51fd\u6570\u5361\u5728\u5c40\u90e8\u6700\u5c0f\u70b9\n",
                "\n",
                "![](http://imgbed.momodel.cn/18-22 \u5c40\u90e8\u6700\u4f18.png)"
            ]
        },
        {
            "cell_type": "markdown",
            "metadata": {},
            "source": [
                "+ \u628a\u7269\u7406\u4e16\u754c\u4e2d\u201c\u60ef\u6027\u201d\u8fd9\u4e00\u6982\u5ff5\u5e94\u7528\u5230\u68af\u5ea6\u4e0b\u964d\u4e2d\uff0c\u4f7f\u5f97\u53c2\u6570\u79fb\u52a8\u4e0d\u4ec5\u53d6\u51b3\u4e8e\u5f53\u524d\u7684\u68af\u5ea6\uff0c\u800c\u4e14\u53d7\u524d\u4e00\u6b21\u79fb\u52a8\u7684\u5f71\u54cd\uff0c\u4ece\u800c\u6709\u5e0c\u671b\u51b2\u51fa\u5c40\u90e8\u6700\u4f18\u70b9\uff0c\u53bb\u5bfb\u627e\u5168\u5c40\u6700\u4f18\u70b9\u3002\n",
                "\n",
                "![](https://imgbed.momodel.cn/18-b1.png)",
                "\n",
                "+ \u7b80\u5355\u68af\u5ea6\u4e0b\u964d\u548c\u6dfb\u52a0\u52a8\u91cf\u7684\u68af\u5ea6\u4e0b\u964d\u7684\u5bf9\u6bd4\uff1a"
            ]
        },
        {
            "cell_type": "markdown",
            "metadata": {},
            "source": [
                "![](http://imgbed.momodel.cn/18-23 \u4e00\u822c\u7684\u68af\u5ea6\u4e0b\u964d.png)",
                "![](http://imgbed.momodel.cn/18-24 \u52a8\u91cf\u7684\u5f71\u54cd.png)"
            ]
        },
        {
            "cell_type": "markdown",
            "metadata": {},
            "source": [
                "\n",
                "+ \u8bf4\u660e\u4e3a\u4ec0\u4e48\u53ea\u8003\u8651\u524d\u4e00\u6b21\u7684\u79fb\u52a8\u65b9\u5411\u5c31\u662f\u8003\u8651\u8fc7\u53bb\u6240\u6709\u7684\u79fb\u52a8\u65b9\u5411\uff1a\n",
                "\n",
                "![](http://imgbed.momodel.cn/18-25 \u52a8\u91cf\u66f4\u65b0.png)"
            ]
        },
        {
            "cell_type": "markdown",
            "metadata": {},
            "source": [
                "",
                "\n",
                "+ Adam = RMSProp + Momentum\uff1a\n",
                "\n",
                "![](http://imgbed.momodel.cn/18-27 Adam.png)"
            ]
        },
        {
            "cell_type": "markdown",
            "metadata": {},
            "source": [
                "### 3. \u63d0\u9ad8\u6a21\u578b\u5728\u6d4b\u8bd5\u96c6\u4e0a\u7684\u8868\u73b0"
            ]
        },
        {
            "cell_type": "markdown",
            "metadata": {},
            "source": [
                "#### 3.1 \u65e9\u505c\u6cd5\uff08Early Stopping\uff09\n",
                "\n",
                "",
                "\n",
                "+ \u5728\u5b9e\u9645\u8bad\u7ec3\u7684\u8fc7\u7a0b\u4e2d\uff0c\u5b66\u4e60\u7387\u8bbe\u7f6e\u6b63\u786e\u7684\u60c5\u51b5\u4e0b\uff0c\u968f\u7740\u8bad\u7ec3\u7684\u6b21\u6570\uff08epochs\uff09\u589e\u52a0\uff0c\u6a21\u578b\u5728\u8bad\u7ec3\u96c6\u4e0a\u7684\u51c6\u786e\u7387\u4f1a\u8d8a\u6765\u8d8a\u9ad8\uff0c\u4f46\u5728\u6d4b\u8bd5\u96c6\u4e0a\u7684\u51c6\u786e\u7387\u968f\u7740\u8fc7\u62df\u5408\u7684\u51fa\u73b0\u53cd\u800c\u5f00\u59cb\u53d8\u5dee\u3002\u6240\u4ee5\u6211\u4eec\u9700\u8981\u4e00\u4e2a\u544a\u77e5\u6211\u4eec\u5373\u5c06\u51fa\u73b0\u8fc7\u62df\u5408\u7684\u673a\u5236\u2014\u2014\u65e9\u671f\u505c\u6b62\uff0c\u6765\u4fdd\u8bc1\u6d4b\u8bd5\u96c6\u4e0a\u6700\u597d\u7684\u6548\u679c\u3002\u4f46\u7531\u4e8e\u4e0d\u80fd\u8fb9\u8bad\u7ec3\u8fb9\u6d4b\u8bd5\uff0c\u4e8e\u662f\u5f15\u5165\u4e86\u9a8c\u8bc1\u96c6\uff08Validation set\uff09\u6765\u505a\u8ba1\u7b97\u3002\n",
                "![](http://imgbed.momodel.cn/18-28 \u65e9\u505c\u6cd5.png)",
                "\n",
                "+ Keras: <font size=3.5>http://keras.io/getting-started/faq/#how-can-i-interrupt-training-when-the-validation-loss-isnt-decreasing-anymore </font>"
            ]
        },
        {
            "cell_type": "markdown",
            "metadata": {},
            "source": [
                "#### 3.2 \u6b63\u5219\u5316\uff08Regularization\uff09\n",
                "\n",
                "",
                "\n",
                "+ \u5728\u635f\u5931\u51fd\u6570\u540e\u9762\u6dfb\u52a0\u4e00\u4e2a\u7cfb\u6570\u7684\u201c\u60e9\u7f5a\u9879\u201d\u662f\u6b63\u5219\u5316\u7684\u5e38\u7528\u65b9\u5f0f\uff0c\u4e3a\u4e86\u9632\u6b62\u7cfb\u6570\u8fc7\u5927\u4ece\u800c\u8ba9\u6a21\u578b\u53d8\u5f97\u590d\u6742\u3002\n",
                "+ $\\lambda$ \u662f\u4e00\u4e2a\u8d85\u53c2\u6570\uff0c\u7528\u4e8e\u63a7\u5236\u6b63\u5219\u5316\u7a0b\u5ea6\n",
                "+ \u4f7f\u65b0\u7684\u635f\u5931\u51fd\u6570\u8fbe\u5230\u6700\u5c0f\uff0c\u627e\u5230\u4e00\u7ec4\u6743\u91cd\u4e0d\u4ec5\u4f7f\u539f\u59cb\u7684\u635f\u5931\u51fd\u6570\u6700\u5c0f\uff0c\u800c\u4e14\u4f7f\u6743\u91cd\u63a5\u8fd1 0\n",
                "\n",
                "![](http://imgbed.momodel.cn/18-29 L2\u6b63\u5219\u5316.png)",
                "\n",
                "",
                "\n",
                "+ L2 \u6b63\u5219\u5316\u901a\u8fc7\u8ba9\u539f\u635f\u5931\u51fd\u6570\u52a0\u4e0a\u4e86\u6240\u6709\u7279\u5f81\u7cfb\u6570\u7684\u5e73\u65b9\u548c\u6765\u5b9e\u73b0\u6b63\u5219\u5316\u3002\n",
                "+ \u53ef\u4ee5\u770b\u51fa\u6bcf\u6b21\u66f4\u65b0\u65f6\uff0c\u4f1a\u5bf9\u7279\u5f81\u7cfb\u6570\u8fdb\u884c\u4e00\u4e2a\u6bd4\u4f8b\u7684\u7f29\u653e\uff0c\u8fd9\u4f1a\u8ba9\u7cfb\u6570\u8d8b\u5411\u53d8\u5c0f\u800c\u4e0d\u4f1a\u53d8\u4e3a 0\uff0c\u56e0\u6b64 L2 \u6b63\u5219\u5316\u4f1a\u8ba9\u6a21\u578b\u53d8\u5f97\u66f4\u7b80\u5355\uff0c\u9632\u6b62\u8fc7\u62df\u5408\u3002\n",
                "\n",
                "![](http://imgbed.momodel.cn/18-30 \u53c2\u6570\u7684\u66f4\u65b0.png)",
                "\n",
                "",
                "\n",
                "+ L1 \u6b63\u5219\u5316\u901a\u8fc7\u8ba9\u539f\u635f\u5931\u51fd\u6570\u52a0\u4e0a\u4e86\u6240\u6709\u7279\u5f81\u7cfb\u6570\u7edd\u5bf9\u503c\u7684\u548c\u6765\u5b9e\u73b0\u6b63\u5219\u5316\u3002\n",
                "+ \u6bcf\u6b21\u66f4\u65b0\u4f1a\u52a0\u51cf\u4e00\u4e2a\u5e38\u6570\uff0c\u6240\u4ee5\u5f88\u5bb9\u6613\u4ea7\u751f\u7279\u5f81\u7684\u7cfb\u6570\u4e3a 0 \u7684\u60c5\u51b5\uff0c\u7279\u5f81\u7cfb\u6570\u4e3a 0 \u8868\u793a\u8be5\u7279\u5f81\u4e0d\u4f1a\u5bf9\u7ed3\u679c\u6709\u4efb\u4f55\u5f71\u54cd\uff0c\u56e0\u6b64 L1 \u6b63\u5219\u5316\u4f1a\u8ba9\u7279\u5f81\u53d8\u5f97\u7a00\u758f\uff0c\u8d77\u5230\u7279\u5f81\u9009\u62e9\u7684\u4f5c\u7528\uff0c\u4ece\u800c\u9632\u6b62\u8fc7\u62df\u5408\u3002\n",
                "\n",
                "![](http://imgbed.momodel.cn/18-31 \u53c2\u6570\u7684\u66f4\u65b0L1.png)",
                "\n",
                "+ \u540c\u4e3a\u9632\u6b62\u8fc7\u62df\u5408\u7684\u529e\u6cd5\uff0c\u5982\u679c\u5728\u6df1\u5ea6\u5b66\u4e60\u4e2d\u4f7f\u7528\u65e9\u671f\u505c\u6b62\u7684\u8bdd\uff0c\u6b63\u5219\u5316\u76f8\u5bf9\u6ca1\u6709\u5fc5\u8981\u3002"
            ]
        },
        {
            "cell_type": "markdown",
            "metadata": {},
            "source": [
                "#### 3.3 Dropout\n",
                "\n",
                "",
                "\n",
                "+ Dropout \u662f\u4e00\u79cd\u6709\u6df1\u5ea6\u5b66\u4e60\u7279\u8272\u7684\u529e\u6cd5\u3002\n",
                "+ Dropout \u8fd0\u4f5c\u65b9\u5f0f\n",
                "    + \u6bcf\u6b21\u66f4\u65b0\u53c2\u6570\u4e4b\u524d\uff0c\u5bf9\u795e\u7ecf\u5143\uff08\u5305\u62ec\u8f93\u5165\u5c42\u7684\u7ef4\u5ea6\uff09\u8fdb\u884c\u62bd\u6837\u3002\u6bcf\u4e2a\u795e\u7ecf\u5143\u6709 p% \u7684\u6982\u7387\u5931\u6d3b\u3002\n",
                "    + \u62bd\u6837\u540e\uff0c\u5bf9\u53d8\u7626\u7684\u795e\u7ecf\u7f51\u7edc\u8fdb\u884c\u8bad\u7ec3\u3002\u5bf9\u4e8e\u6bcf\u4e00\u4e2amini-batch\uff0c\u90fd\u8981\u91cd\u65b0\u91c7\u6837\u795e\u7ecf\u5143\u3002\n",
                "\n",
                "![](http://imgbed.momodel.cn/18-33 dropout.png)",
                "\n",
                "![](http://imgbed.momodel.cn/18-34 thinner.png)",
                "\n",
                "+ \u5bf9\u8bad\u7ec3\u5b8c\u6210\u7684\u6574\u4e2a\u7f51\u7edc\u7ed3\u6784\u8fdb\u884c\u6d4b\u8bd5\u3002\u5982\u679c\u8bad\u7ec3\u65f6\u795e\u7ecf\u5143\u7684\u5931\u6d3b\u7387\u4e3a p% \uff0c\u6d4b\u8bd5\u65f6\u7684\u6240\u6709\u6743\u91cd\u90fd\u8981\u4e58\u4ee5 1-p%\n",
                "\n",
                "![](http://imgbed.momodel.cn/18-35 \u6d4b\u8bd5\u96c6.png)"
            ]
        },
        {
            "cell_type": "markdown",
            "metadata": {},
            "source": [
                "",
                "\n",
                "+ \u4e3a\u4ec0\u4e48\u8bad\u7ec3\u7684\u65f6\u5019\u8981\u7528 Dropout\uff0c\u6d4b\u8bd5\u7684\u65f6\u5019\u4e0d\u7528\uff1a\n",
                "\n",
                "![](http://imgbed.momodel.cn/18-36 dropout\u7684\u76f4\u89c2\u7406\u89e3.png)"
            ]
        },
        {
            "cell_type": "markdown",
            "metadata": {},
            "source": [
                "![](http://imgbed.momodel.cn/18-37 \u76f4\u89c2\u7406\u89e3.png)",
                "\n",
                "+ \u56e2\u961f\u5408\u4f5c\u65f6\uff0c\u5982\u679c\u6bcf\u4e2a\u4eba\u90fd\u671f\u671b\u5176\u4ed6\u4eba\u6765\u5de5\u4f5c\uff0c\u90a3\u4e48\u56e2\u961f\u6700\u7ec8\u4ec0\u4e48\u90fd\u505a\u4e0d\u6210\uff1b<br>\n",
                "    \u7136\u800c\uff0c\u5982\u679c\u4f60\u77e5\u9053\u4f60\u7684\u5408\u4f5c\u4f19\u4f34\u4f1a\u4ec0\u4e48\u90fd\u4e0d\u505a\uff0c\u90a3\u4f60\u4f1a\u505a\u5f97\u597d\u4e00\u70b9\uff1b<br>\n",
                "    \u5230\u6d4b\u8bd5\u65f6\u4f1a\u53d1\u73b0\u5176\u5b9e\u6bcf\u4e2a\u4eba\u90fd\u6709\u597d\u597d\u5de5\u4f5c\uff0c\u6240\u4ee5\u6700\u7ec8\u4f1a\u53d6\u5f97\u597d\u7684\u7ed3\u679c\u3002<br>\n",
                "\n",
                "+ \u6d4b\u8bd5\u65f6\u6240\u6709\u6743\u91cd\u90fd\u8981\u4e58\u4ee5(1-p%)\u7684\u76f4\u89c2\u539f\u56e0\uff1a\n",
                "\n",
                "![](http://imgbed.momodel.cn/18-38 \u4e3a\u4ec0\u4e48\u8981\u4e58\u4ee5\u6982\u7387.png)"
            ]
        },
        {
            "cell_type": "markdown",
            "metadata": {},
            "source": [
                "",
                "\n",
                "+ \u96c6\u6210\u5b66\u4e60\u7684\u8fd0\u4f5c\u65b9\u5f0f\uff1a\u8bad\u7ec3\u65f6\uff0c\u5212\u5206\u8bad\u7ec3\u96c6\u5206\u522b\u8bad\u7ec3\uff1b\u6d4b\u8bd5\u65f6\uff0c\u5c06\u6570\u636e\u8f93\u5165\u6240\u6709\u8bad\u7ec3\u597d\u7684\u6a21\u578b\u6c42\u5e73\u5747\u4f5c\u4e3a\u6700\u540e\u7684\u7ed3\u679c\u3002\n",
                "\n",
                "![](http://imgbed.momodel.cn/18-39 \u96c6\u6210\u7ed3\u6784.png)",
                "\n",
                "![](http://imgbed.momodel.cn/18-40 \u96c6\u62102.png)",
                "\n",
                "+ Dropout \u7684\u8fd0\u4f5c\u65b9\u5f0f\uff1a\u8bad\u7ec3\u65f6\uff0c\u4e00\u4e2aMini-batch\u8bad\u7ec3\u4e00\u4e2a\u7f51\u7edc\uff0c\u4f46\u7f51\u7edc\u4e2d\u7684\u53c2\u6570\u662f\u5171\u4eab\u7684\uff1b<br>\n",
                "    \u6d4b\u8bd5\u65f6\uff0c\u5c06\u6240\u6709\u6743\u91cd\u4e58\u4ee5\uff081-p%\uff09\uff0c\u8f93\u5165\u6570\u636e\u5f97\u51fa\u7ed3\u679c\u3002\u4e14\u8fd9\u4e2a\u7ed3\u679c\u548c\u7ee7\u627f\u5b66\u4e60\u53d6\u5e73\u5747\u5f97\u5230\u7684\u7ed3\u679c\u8fd1\u4f3c\u76f8\u7b49\u3002\n",
                "   \n",
                "![](http://imgbed.momodel.cn/18-41 \u8bad\u7ec3\u4e2d\u7684\u5931\u6d3b.png)",
                "   \n",
                "![](http://imgbed.momodel.cn/18-42 \u5931\u6d3b\u7684\u6d4b\u8bd5.png)",
                "\n",
                "+ \u4e3a\u4ec0\u4e48 Dropout \u7684\u6d4b\u8bd5\u7ed3\u679c\u548c\u7ee7\u627f\u5b66\u4e60\u7684\u7ed3\u679c\u8fd1\u4f3c\u76f8\u7b49\uff0c\u8fd9\u91cc\u4e3e\u4e00\u4e2a\u6700\u7b80\u5355\u7684\u7f51\u7edc\u4f5c\u4e3a\u4f8b\u5b50\u3002<br>\n",
                "    \u4f46\u662f\u8fd9\u4e2a\u4f8b\u5b50\u7684\u7406\u8bba\u4e0d\u9002\u7528\u4e8e\u975e\u7ebf\u6027\u7f51\u7edc\u3002\u4e0d\u8fc7\uff0cDropout \u5bf9\u4e8e\u975e\u7ebf\u6027\u7684\u7f51\u7edc\u8fd8\u662f\u9002\u7528\u7684\uff0c<br>\n",
                "    \u53ea\u662f Dropout \u5e94\u7528\u4e8e\u7ebf\u6027\u7f51\u7edc\u7684\u8bdd\u6548\u679c\u4f1a\u7279\u522b\u597d\u3002\n",
                "\n",
                "![](http://imgbed.momodel.cn/18-43 \u8bad\u7ec3\u7684\u4f8b\u5b50.png)"
            ]
        }
    ],
    "metadata": {
        "kernelspec": {
            "display_name": "Python 3",
            "language": "python",
            "name": "python3"
        },
        "language_info": {
            "codemirror_mode": {
                "name": "ipython",
                "version": 3
            },
            "file_extension": ".py",
            "mimetype": "text/x-python",
            "name": "python",
            "nbconvert_exporter": "python",
            "pygments_lexer": "ipython3",
            "version": "3.5.2"
        }
    },
    "nbformat": 4,
    "nbformat_minor": 2
}