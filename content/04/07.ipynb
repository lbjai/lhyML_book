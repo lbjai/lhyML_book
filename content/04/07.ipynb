{
    "cells": [
        {
            "cell_type": "markdown",
            "metadata": {},
            "source": [
                "\n",
                "### \u8fd9\u4e00\u8282\u6211\u4eec\u4e3b\u8981\u5b66\u4e60",
                "\n",
                "+ \u6839\u636e\u4e0a\u8282\u8bfe\u5b66\u4e60\u7684\u6df1\u5ea6\u795e\u7ecf\u7f51\u7edc\u8bad\u7ec3\u6280\u5de7\uff0c\u6539\u5584\u8868\u73b0\u4e0d\u597d\u7684\u624b\u5199\u6570\u5b57\u8bc6\u522b\u7f51\u7edc\u3002"
            ]
        },
        {
            "cell_type": "code",
            "execution_count": 1,
            "metadata": {},
            "outputs": [
                {
                    "name": "stderr",
                    "output_type": "stream",
                    "text": [
                        "Using TensorFlow backend.\n"
                    ]
                }
            ],
            "source": [
                "# \u5bfc\u5165\u76f8\u5e94\u7684\u5de5\u5177\u5305\n",
                "\n",
                "import numpy as np \n",
                "from keras.models import Sequential\n",
                "from keras.layers.core import Dense, Dropout, Activation\n",
                "from keras.layers import Conv2D, MaxPooling2D, Flatten\n",
                "from keras.optimizers import SGD, Adam\n",
                "from keras.utils import np_utils\n",
                "from keras.datasets import mnist\n",
                "#categorical_crossentropy"
            ]
        },
        {
            "cell_type": "code",
            "execution_count": 2,
            "metadata": {},
            "outputs": [
                {
                    "name": "stdout",
                    "output_type": "stream",
                    "text": [
                        "A local file was found, but it seems to be incomplete or outdated because the auto file hash does not match the original value of 8a61469f7ea1b51cbae51d4f78837e45 so we will re-download the data.\n",
                        "Downloading data from https://s3.amazonaws.com/img-datasets/mnist.npz\n",
                        "  679936/11490434 [>.............................] - ETA: 9:55:44"
                    ]
                },
                {
                    "ename": "ConnectionResetError",
                    "evalue": "[Errno 104] Connection reset by peer",
                    "output_type": "error",
                    "traceback": [
                        "\u001b[0;31m---------------------------------------------------------------------------\u001b[0m",
                        "\u001b[0;31mConnectionResetError\u001b[0m                      Traceback (most recent call last)",
                        "\u001b[0;32m<ipython-input-2-df067d22b24b>\u001b[0m in \u001b[0;36m<module>\u001b[0;34m\u001b[0m\n\u001b[1;32m     19\u001b[0m     \u001b[0;32mreturn\u001b[0m \u001b[0;34m(\u001b[0m\u001b[0mx_train\u001b[0m\u001b[0;34m,\u001b[0m \u001b[0my_train\u001b[0m\u001b[0;34m)\u001b[0m\u001b[0;34m,\u001b[0m \u001b[0;34m(\u001b[0m\u001b[0mx_test\u001b[0m\u001b[0;34m,\u001b[0m \u001b[0my_test\u001b[0m\u001b[0;34m)\u001b[0m\u001b[0;34m\u001b[0m\u001b[0m\n\u001b[1;32m     20\u001b[0m \u001b[0;34m\u001b[0m\u001b[0m\n\u001b[0;32m---> 21\u001b[0;31m \u001b[0;34m(\u001b[0m\u001b[0mx_train\u001b[0m\u001b[0;34m,\u001b[0m\u001b[0my_train\u001b[0m\u001b[0;34m)\u001b[0m\u001b[0;34m,\u001b[0m \u001b[0;34m(\u001b[0m\u001b[0mx_test\u001b[0m\u001b[0;34m,\u001b[0m\u001b[0my_test\u001b[0m\u001b[0;34m)\u001b[0m \u001b[0;34m=\u001b[0m \u001b[0mload_data\u001b[0m\u001b[0;34m(\u001b[0m\u001b[0;34m)\u001b[0m\u001b[0;34m\u001b[0m\u001b[0m\n\u001b[0m\u001b[1;32m     22\u001b[0m \u001b[0;34m\u001b[0m\u001b[0m\n\u001b[1;32m     23\u001b[0m \u001b[0mmodel\u001b[0m \u001b[0;34m=\u001b[0m \u001b[0mSequential\u001b[0m\u001b[0;34m(\u001b[0m\u001b[0;34m)\u001b[0m\u001b[0;34m\u001b[0m\u001b[0m\n",
                        "\u001b[0;32m<ipython-input-2-df067d22b24b>\u001b[0m in \u001b[0;36mload_data\u001b[0;34m()\u001b[0m\n\u001b[1;32m      1\u001b[0m \u001b[0;31m# \u8fd9\u662f\u6211\u4eec\u4e0a\u8282\u8bfe\u8bad\u7ec3\u574f\u6389\u7684\u6a21\u578b\u001b[0m\u001b[0;34m\u001b[0m\u001b[0;34m\u001b[0m\u001b[0m\n\u001b[1;32m      2\u001b[0m \u001b[0;32mdef\u001b[0m \u001b[0mload_data\u001b[0m\u001b[0;34m(\u001b[0m\u001b[0;34m)\u001b[0m\u001b[0;34m:\u001b[0m\u001b[0;34m\u001b[0m\u001b[0m\n\u001b[0;32m----> 3\u001b[0;31m     \u001b[0;34m(\u001b[0m\u001b[0mx_train\u001b[0m\u001b[0;34m,\u001b[0m \u001b[0my_train\u001b[0m\u001b[0;34m)\u001b[0m \u001b[0;34m,\u001b[0m \u001b[0;34m(\u001b[0m\u001b[0mx_test\u001b[0m\u001b[0;34m,\u001b[0m \u001b[0my_test\u001b[0m\u001b[0;34m)\u001b[0m \u001b[0;34m=\u001b[0m \u001b[0mmnist\u001b[0m\u001b[0;34m.\u001b[0m\u001b[0mload_data\u001b[0m\u001b[0;34m(\u001b[0m\u001b[0;34m)\u001b[0m\u001b[0;34m\u001b[0m\u001b[0m\n\u001b[0m\u001b[1;32m      4\u001b[0m     \u001b[0mnumber\u001b[0m \u001b[0;34m=\u001b[0m \u001b[0;36m10000\u001b[0m\u001b[0;34m\u001b[0m\u001b[0m\n\u001b[1;32m      5\u001b[0m     \u001b[0mx_train\u001b[0m \u001b[0;34m=\u001b[0m \u001b[0mx_train\u001b[0m\u001b[0;34m[\u001b[0m\u001b[0;36m0\u001b[0m\u001b[0;34m:\u001b[0m\u001b[0mnumber\u001b[0m\u001b[0;34m]\u001b[0m\u001b[0;34m\u001b[0m\u001b[0m\n",
                        "\u001b[0;32m~/.virtualenvs/basenv/lib/python3.5/site-packages/keras/datasets/mnist.py\u001b[0m in \u001b[0;36mload_data\u001b[0;34m(path)\u001b[0m\n\u001b[1;32m     21\u001b[0m     path = get_file(path,\n\u001b[1;32m     22\u001b[0m                     \u001b[0morigin\u001b[0m\u001b[0;34m=\u001b[0m\u001b[0;34m'https://s3.amazonaws.com/img-datasets/mnist.npz'\u001b[0m\u001b[0;34m,\u001b[0m\u001b[0;34m\u001b[0m\u001b[0m\n\u001b[0;32m---> 23\u001b[0;31m                     file_hash='8a61469f7ea1b51cbae51d4f78837e45')\n\u001b[0m\u001b[1;32m     24\u001b[0m     \u001b[0mf\u001b[0m \u001b[0;34m=\u001b[0m \u001b[0mnp\u001b[0m\u001b[0;34m.\u001b[0m\u001b[0mload\u001b[0m\u001b[0;34m(\u001b[0m\u001b[0mpath\u001b[0m\u001b[0;34m)\u001b[0m\u001b[0;34m\u001b[0m\u001b[0m\n\u001b[1;32m     25\u001b[0m     \u001b[0mx_train\u001b[0m\u001b[0;34m,\u001b[0m \u001b[0my_train\u001b[0m \u001b[0;34m=\u001b[0m \u001b[0mf\u001b[0m\u001b[0;34m[\u001b[0m\u001b[0;34m'x_train'\u001b[0m\u001b[0;34m]\u001b[0m\u001b[0;34m,\u001b[0m \u001b[0mf\u001b[0m\u001b[0;34m[\u001b[0m\u001b[0;34m'y_train'\u001b[0m\u001b[0;34m]\u001b[0m\u001b[0;34m\u001b[0m\u001b[0m\n",
                        "\u001b[0;32m~/.virtualenvs/basenv/lib/python3.5/site-packages/keras/utils/data_utils.py\u001b[0m in \u001b[0;36mget_file\u001b[0;34m(fname, origin, untar, md5_hash, file_hash, cache_subdir, hash_algorithm, extract, archive_format, cache_dir)\u001b[0m\n\u001b[1;32m    220\u001b[0m         \u001b[0;32mtry\u001b[0m\u001b[0;34m:\u001b[0m\u001b[0;34m\u001b[0m\u001b[0m\n\u001b[1;32m    221\u001b[0m             \u001b[0;32mtry\u001b[0m\u001b[0;34m:\u001b[0m\u001b[0;34m\u001b[0m\u001b[0m\n\u001b[0;32m--> 222\u001b[0;31m                 \u001b[0murlretrieve\u001b[0m\u001b[0;34m(\u001b[0m\u001b[0morigin\u001b[0m\u001b[0;34m,\u001b[0m \u001b[0mfpath\u001b[0m\u001b[0;34m,\u001b[0m \u001b[0mdl_progress\u001b[0m\u001b[0;34m)\u001b[0m\u001b[0;34m\u001b[0m\u001b[0m\n\u001b[0m\u001b[1;32m    223\u001b[0m             \u001b[0;32mexcept\u001b[0m \u001b[0mHTTPError\u001b[0m \u001b[0;32mas\u001b[0m \u001b[0me\u001b[0m\u001b[0;34m:\u001b[0m\u001b[0;34m\u001b[0m\u001b[0m\n\u001b[1;32m    224\u001b[0m                 \u001b[0;32mraise\u001b[0m \u001b[0mException\u001b[0m\u001b[0;34m(\u001b[0m\u001b[0merror_msg\u001b[0m\u001b[0;34m.\u001b[0m\u001b[0mformat\u001b[0m\u001b[0;34m(\u001b[0m\u001b[0morigin\u001b[0m\u001b[0;34m,\u001b[0m \u001b[0me\u001b[0m\u001b[0;34m.\u001b[0m\u001b[0mcode\u001b[0m\u001b[0;34m,\u001b[0m \u001b[0me\u001b[0m\u001b[0;34m.\u001b[0m\u001b[0mmsg\u001b[0m\u001b[0;34m)\u001b[0m\u001b[0;34m)\u001b[0m\u001b[0;34m\u001b[0m\u001b[0m\n",
                        "\u001b[0;32m/usr/lib/python3.5/urllib/request.py\u001b[0m in \u001b[0;36murlretrieve\u001b[0;34m(url, filename, reporthook, data)\u001b[0m\n\u001b[1;32m    215\u001b[0m \u001b[0;34m\u001b[0m\u001b[0m\n\u001b[1;32m    216\u001b[0m             \u001b[0;32mwhile\u001b[0m \u001b[0;32mTrue\u001b[0m\u001b[0;34m:\u001b[0m\u001b[0;34m\u001b[0m\u001b[0m\n\u001b[0;32m--> 217\u001b[0;31m                 \u001b[0mblock\u001b[0m \u001b[0;34m=\u001b[0m \u001b[0mfp\u001b[0m\u001b[0;34m.\u001b[0m\u001b[0mread\u001b[0m\u001b[0;34m(\u001b[0m\u001b[0mbs\u001b[0m\u001b[0;34m)\u001b[0m\u001b[0;34m\u001b[0m\u001b[0m\n\u001b[0m\u001b[1;32m    218\u001b[0m                 \u001b[0;32mif\u001b[0m \u001b[0;32mnot\u001b[0m \u001b[0mblock\u001b[0m\u001b[0;34m:\u001b[0m\u001b[0;34m\u001b[0m\u001b[0m\n\u001b[1;32m    219\u001b[0m                     \u001b[0;32mbreak\u001b[0m\u001b[0;34m\u001b[0m\u001b[0m\n",
                        "\u001b[0;32m/usr/lib/python3.5/http/client.py\u001b[0m in \u001b[0;36mread\u001b[0;34m(self, amt)\u001b[0m\n\u001b[1;32m    446\u001b[0m             \u001b[0;31m# Amount is given, implement using readinto\u001b[0m\u001b[0;34m\u001b[0m\u001b[0;34m\u001b[0m\u001b[0m\n\u001b[1;32m    447\u001b[0m             \u001b[0mb\u001b[0m \u001b[0;34m=\u001b[0m \u001b[0mbytearray\u001b[0m\u001b[0;34m(\u001b[0m\u001b[0mamt\u001b[0m\u001b[0;34m)\u001b[0m\u001b[0;34m\u001b[0m\u001b[0m\n\u001b[0;32m--> 448\u001b[0;31m             \u001b[0mn\u001b[0m \u001b[0;34m=\u001b[0m \u001b[0mself\u001b[0m\u001b[0;34m.\u001b[0m\u001b[0mreadinto\u001b[0m\u001b[0;34m(\u001b[0m\u001b[0mb\u001b[0m\u001b[0;34m)\u001b[0m\u001b[0;34m\u001b[0m\u001b[0m\n\u001b[0m\u001b[1;32m    449\u001b[0m             \u001b[0;32mreturn\u001b[0m \u001b[0mmemoryview\u001b[0m\u001b[0;34m(\u001b[0m\u001b[0mb\u001b[0m\u001b[0;34m)\u001b[0m\u001b[0;34m[\u001b[0m\u001b[0;34m:\u001b[0m\u001b[0mn\u001b[0m\u001b[0;34m]\u001b[0m\u001b[0;34m.\u001b[0m\u001b[0mtobytes\u001b[0m\u001b[0;34m(\u001b[0m\u001b[0;34m)\u001b[0m\u001b[0;34m\u001b[0m\u001b[0m\n\u001b[1;32m    450\u001b[0m         \u001b[0;32melse\u001b[0m\u001b[0;34m:\u001b[0m\u001b[0;34m\u001b[0m\u001b[0m\n",
                        "\u001b[0;32m/usr/lib/python3.5/http/client.py\u001b[0m in \u001b[0;36mreadinto\u001b[0;34m(self, b)\u001b[0m\n\u001b[1;32m    486\u001b[0m         \u001b[0;31m# connection, and the user is reading more bytes than will be provided\u001b[0m\u001b[0;34m\u001b[0m\u001b[0;34m\u001b[0m\u001b[0m\n\u001b[1;32m    487\u001b[0m         \u001b[0;31m# (for example, reading in 1k chunks)\u001b[0m\u001b[0;34m\u001b[0m\u001b[0;34m\u001b[0m\u001b[0m\n\u001b[0;32m--> 488\u001b[0;31m         \u001b[0mn\u001b[0m \u001b[0;34m=\u001b[0m \u001b[0mself\u001b[0m\u001b[0;34m.\u001b[0m\u001b[0mfp\u001b[0m\u001b[0;34m.\u001b[0m\u001b[0mreadinto\u001b[0m\u001b[0;34m(\u001b[0m\u001b[0mb\u001b[0m\u001b[0;34m)\u001b[0m\u001b[0;34m\u001b[0m\u001b[0m\n\u001b[0m\u001b[1;32m    489\u001b[0m         \u001b[0;32mif\u001b[0m \u001b[0;32mnot\u001b[0m \u001b[0mn\u001b[0m \u001b[0;32mand\u001b[0m \u001b[0mb\u001b[0m\u001b[0;34m:\u001b[0m\u001b[0;34m\u001b[0m\u001b[0m\n\u001b[1;32m    490\u001b[0m             \u001b[0;31m# Ideally, we would raise IncompleteRead if the content-length\u001b[0m\u001b[0;34m\u001b[0m\u001b[0;34m\u001b[0m\u001b[0m\n",
                        "\u001b[0;32m/usr/lib/python3.5/socket.py\u001b[0m in \u001b[0;36mreadinto\u001b[0;34m(self, b)\u001b[0m\n\u001b[1;32m    573\u001b[0m         \u001b[0;32mwhile\u001b[0m \u001b[0;32mTrue\u001b[0m\u001b[0;34m:\u001b[0m\u001b[0;34m\u001b[0m\u001b[0m\n\u001b[1;32m    574\u001b[0m             \u001b[0;32mtry\u001b[0m\u001b[0;34m:\u001b[0m\u001b[0;34m\u001b[0m\u001b[0m\n\u001b[0;32m--> 575\u001b[0;31m                 \u001b[0;32mreturn\u001b[0m \u001b[0mself\u001b[0m\u001b[0;34m.\u001b[0m\u001b[0m_sock\u001b[0m\u001b[0;34m.\u001b[0m\u001b[0mrecv_into\u001b[0m\u001b[0;34m(\u001b[0m\u001b[0mb\u001b[0m\u001b[0;34m)\u001b[0m\u001b[0;34m\u001b[0m\u001b[0m\n\u001b[0m\u001b[1;32m    576\u001b[0m             \u001b[0;32mexcept\u001b[0m \u001b[0mtimeout\u001b[0m\u001b[0;34m:\u001b[0m\u001b[0;34m\u001b[0m\u001b[0m\n\u001b[1;32m    577\u001b[0m                 \u001b[0mself\u001b[0m\u001b[0;34m.\u001b[0m\u001b[0m_timeout_occurred\u001b[0m \u001b[0;34m=\u001b[0m \u001b[0;32mTrue\u001b[0m\u001b[0;34m\u001b[0m\u001b[0m\n",
                        "\u001b[0;32m/usr/lib/python3.5/ssl.py\u001b[0m in \u001b[0;36mrecv_into\u001b[0;34m(self, buffer, nbytes, flags)\u001b[0m\n\u001b[1;32m    927\u001b[0m                   \u001b[0;34m\"non-zero flags not allowed in calls to recv_into() on %s\"\u001b[0m \u001b[0;34m%\u001b[0m\u001b[0;34m\u001b[0m\u001b[0m\n\u001b[1;32m    928\u001b[0m                   self.__class__)\n\u001b[0;32m--> 929\u001b[0;31m             \u001b[0;32mreturn\u001b[0m \u001b[0mself\u001b[0m\u001b[0;34m.\u001b[0m\u001b[0mread\u001b[0m\u001b[0;34m(\u001b[0m\u001b[0mnbytes\u001b[0m\u001b[0;34m,\u001b[0m \u001b[0mbuffer\u001b[0m\u001b[0;34m)\u001b[0m\u001b[0;34m\u001b[0m\u001b[0m\n\u001b[0m\u001b[1;32m    930\u001b[0m         \u001b[0;32melse\u001b[0m\u001b[0;34m:\u001b[0m\u001b[0;34m\u001b[0m\u001b[0m\n\u001b[1;32m    931\u001b[0m             \u001b[0;32mreturn\u001b[0m \u001b[0msocket\u001b[0m\u001b[0;34m.\u001b[0m\u001b[0mrecv_into\u001b[0m\u001b[0;34m(\u001b[0m\u001b[0mself\u001b[0m\u001b[0;34m,\u001b[0m \u001b[0mbuffer\u001b[0m\u001b[0;34m,\u001b[0m \u001b[0mnbytes\u001b[0m\u001b[0;34m,\u001b[0m \u001b[0mflags\u001b[0m\u001b[0;34m)\u001b[0m\u001b[0;34m\u001b[0m\u001b[0m\n",
                        "\u001b[0;32m/usr/lib/python3.5/ssl.py\u001b[0m in \u001b[0;36mread\u001b[0;34m(self, len, buffer)\u001b[0m\n\u001b[1;32m    789\u001b[0m             \u001b[0;32mraise\u001b[0m \u001b[0mValueError\u001b[0m\u001b[0;34m(\u001b[0m\u001b[0;34m\"Read on closed or unwrapped SSL socket.\"\u001b[0m\u001b[0;34m)\u001b[0m\u001b[0;34m\u001b[0m\u001b[0m\n\u001b[1;32m    790\u001b[0m         \u001b[0;32mtry\u001b[0m\u001b[0;34m:\u001b[0m\u001b[0;34m\u001b[0m\u001b[0m\n\u001b[0;32m--> 791\u001b[0;31m             \u001b[0;32mreturn\u001b[0m \u001b[0mself\u001b[0m\u001b[0;34m.\u001b[0m\u001b[0m_sslobj\u001b[0m\u001b[0;34m.\u001b[0m\u001b[0mread\u001b[0m\u001b[0;34m(\u001b[0m\u001b[0mlen\u001b[0m\u001b[0;34m,\u001b[0m \u001b[0mbuffer\u001b[0m\u001b[0;34m)\u001b[0m\u001b[0;34m\u001b[0m\u001b[0m\n\u001b[0m\u001b[1;32m    792\u001b[0m         \u001b[0;32mexcept\u001b[0m \u001b[0mSSLError\u001b[0m \u001b[0;32mas\u001b[0m \u001b[0mx\u001b[0m\u001b[0;34m:\u001b[0m\u001b[0;34m\u001b[0m\u001b[0m\n\u001b[1;32m    793\u001b[0m             \u001b[0;32mif\u001b[0m \u001b[0mx\u001b[0m\u001b[0;34m.\u001b[0m\u001b[0margs\u001b[0m\u001b[0;34m[\u001b[0m\u001b[0;36m0\u001b[0m\u001b[0;34m]\u001b[0m \u001b[0;34m==\u001b[0m \u001b[0mSSL_ERROR_EOF\u001b[0m \u001b[0;32mand\u001b[0m \u001b[0mself\u001b[0m\u001b[0;34m.\u001b[0m\u001b[0msuppress_ragged_eofs\u001b[0m\u001b[0;34m:\u001b[0m\u001b[0;34m\u001b[0m\u001b[0m\n",
                        "\u001b[0;32m/usr/lib/python3.5/ssl.py\u001b[0m in \u001b[0;36mread\u001b[0;34m(self, len, buffer)\u001b[0m\n\u001b[1;32m    573\u001b[0m         \"\"\"\n\u001b[1;32m    574\u001b[0m         \u001b[0;32mif\u001b[0m \u001b[0mbuffer\u001b[0m \u001b[0;32mis\u001b[0m \u001b[0;32mnot\u001b[0m \u001b[0;32mNone\u001b[0m\u001b[0;34m:\u001b[0m\u001b[0;34m\u001b[0m\u001b[0m\n\u001b[0;32m--> 575\u001b[0;31m             \u001b[0mv\u001b[0m \u001b[0;34m=\u001b[0m \u001b[0mself\u001b[0m\u001b[0;34m.\u001b[0m\u001b[0m_sslobj\u001b[0m\u001b[0;34m.\u001b[0m\u001b[0mread\u001b[0m\u001b[0;34m(\u001b[0m\u001b[0mlen\u001b[0m\u001b[0;34m,\u001b[0m \u001b[0mbuffer\u001b[0m\u001b[0;34m)\u001b[0m\u001b[0;34m\u001b[0m\u001b[0m\n\u001b[0m\u001b[1;32m    576\u001b[0m         \u001b[0;32melse\u001b[0m\u001b[0;34m:\u001b[0m\u001b[0;34m\u001b[0m\u001b[0m\n\u001b[1;32m    577\u001b[0m             \u001b[0mv\u001b[0m \u001b[0;34m=\u001b[0m \u001b[0mself\u001b[0m\u001b[0;34m.\u001b[0m\u001b[0m_sslobj\u001b[0m\u001b[0;34m.\u001b[0m\u001b[0mread\u001b[0m\u001b[0;34m(\u001b[0m\u001b[0mlen\u001b[0m\u001b[0;34m)\u001b[0m\u001b[0;34m\u001b[0m\u001b[0m\n",
                        "\u001b[0;31mConnectionResetError\u001b[0m: [Errno 104] Connection reset by peer"
                    ]
                }
            ],
            "source": [
                "# \u8fd9\u662f\u6211\u4eec\u4e0a\u8282\u8bfe\u8bad\u7ec3\u574f\u6389\u7684\u6a21\u578b\n",
                "def load_data():\n",
                "    (x_train, y_train) , (x_test, y_test) = mnist.load_data()\n",
                "    number = 10000\n",
                "    x_train = x_train[0:number]\n",
                "    y_train = y_train[0:number]\n",
                "    x_train = x_train.reshape(number, 28*28)\n",
                "    x_test = x_test.reshape(x_test.shape[0], 28*28)\n",
                "    x_train = x_train.astype('float32')\n",
                "    x_test = x_test.astype('float32')\n",
                "    # convert class vectors to binary class matrices\n",
                "    y_train = np_utils.to_categorical(y_train,10)\n",
                "    y_test = np_utils.to_categorical(y_test,10)\n",
                "    x_train = x_train\n",
                "    x_test = x_test\n",
                "    # x_test = np.random.normal(x_test)\n",
                "    x_train = x_train / 255\n",
                "    x_test = x_test / 255\n",
                "    return (x_train, y_train), (x_test, y_test)\n",
                "\n",
                "(x_train,y_train), (x_test,y_test) = load_data()\n",
                "\n",
                "model = Sequential()\n",
                "model.add(Dense(units=689,activation='sigmoid'))\n",
                "model.add(Dense(units=689,activation='sigmoid'))\n",
                "#for i in range(10):\n",
                "#   model.add(Dense(units=689,activation='sigmoid'))  \n",
                "model.add(Dense(units=10,activation='softmax'))\n",
                "\n",
                "model.compile(loss='mse',optimizer=SGD(lr=0.1),metrics=['accuracy'])\n",
                "\n",
                "model.fit(x_train,y_train,batch_size=100,epochs=20)\n",
                "\n",
                "result = model.evaluate(x_test,y_test,batch_size=10000)\n",
                "print(\"\\nTest Acc:\"+\"{:.4f}\".format(result[1]))"
            ]
        },
        {
            "cell_type": "code",
            "execution_count": null,
            "metadata": {},
            "outputs": [],
            "source": [
                "# \u7b2c\u4e00\u6b65\uff0c\u68c0\u67e5\u8bad\u7ec3\u96c6\u4e0a\u7684\u8868\u73b0\uff1a\n",
                "# \u5176\u5b9e keras \u5728\u8bad\u7ec3\u7684\u65f6\u5019\u5c31\u5df2\u7ecf\u544a\u8bc9\u4f60\u6a21\u578b\u5728\u8bad\u7ec3\u96c6\u4e0a\u7684\u6548\u679c\uff0c\u4e0d\u8fc7\u6211\u4eec\u7279\u522b\u628a\u5b83\u6253\u5370\u51fa\u6765\n",
                "result = model.evaluate(x_train,y_train,batch_size=10000)\n",
                "print(\"\\nTrain Acc:\"+\"{:.4f}\".format(result[1]))\n",
                "\n",
                "# \u6211\u4eec\u4f1a\u53d1\u73b0\u8bad\u7ec3\u96c6\u6b63\u786e\u7387\u5f88\u4f4e\uff0c\u6240\u4ee5\u8bad\u7ec3\u7684\u65f6\u5019\u5c31\u6ca1\u6709\u8bad\u7ec3\u597d\u3002\n",
                "# \u6240\u4ee5\u6211\u4eec\u8981\u60f3\u529e\u6cd5\u63d0\u9ad8\u6a21\u578b\u5728\u8bad\u7ec3\u96c6\u4e0a\u7684\u8868\u73b0\u3002\n",
                "# \u8fd9\u91cc\u53ef\u4ee5\u7528\u5230\u4e00\u4e9b\u57fa\u672c\u7684\u7f51\u7edc\u8bad\u7ec3\u77e5\u8bc6\u3001\u6362\u6fc0\u6d3b\u51fd\u6570\u548c\u81ea\u9002\u5e94\u5b66\u4e60\u7387\uff08\u68af\u5ea6\u4e0b\u964d\u7b56\u7565\uff09\u7684\u529e\u6cd5\u3002"
            ]
        },
        {
            "cell_type": "code",
            "execution_count": null,
            "metadata": {},
            "outputs": [],
            "source": [
                "# \u7b2c\u4e8c\u6b65\uff0c\u6362\u5408\u9002\u7684\u635f\u5931\u51fd\u6570\uff1a\n",
                "# \u4ee3\u7801\u4e2d\u7684\u95ee\u9898\u662f\u635f\u5931\u51fd\u6570\u8bbe\u7684\u4e0d\u5bf9\uff0c\u4e4b\u524d\u5df2\u7ecf\u8bb2\u8fc7\u5728\u5206\u7c7b\u95ee\u9898\u4e2d\u7528\u5747\u65b9\u8bef\u5dee\uff08mse\uff09\u662f\u4e0d\u80fd\u5f97\u5230\u597d\u7684\u7ed3\u679c\u7684\uff0c\u8fd9\u91cc\u4e0d\u518d\u89e3\u91ca\u3002\n",
                "# \u6240\u4ee5\uff0c\u628a\u635f\u5931\u51fd\u6570\u6362\u6210\u4ea4\u53c9\u71b5\uff08categorical_crossentropy\uff09\u8fd0\u884c\u4e00\u904d\u3002\u4f1a\u53d1\u73b0\u6a21\u578b\u5728\u8bad\u7ec3\u96c6\u4e0a\u7684\u8868\u73b0\u660e\u663e\u63d0\u5347\u3002\n",
                "model.compile(loss='categorical_crossentropy',optimizer=SGD(lr=0.1),metrics=['accuracy'])"
            ]
        },
        {
            "cell_type": "code",
            "execution_count": null,
            "metadata": {},
            "outputs": [],
            "source": [
                "# \u7b2c\u4e09\u6b65\uff0c\u6539\u53d8 batch_size \u7684\u5f71\u54cd\uff1a\n",
                "# batch_size \u8bbe\u5927\uff0810000\uff09\uff0c\u8fd0\u884c\u901f\u5ea6\u4f1a\u52a0\u5feb\uff0c\u4f46\u662f\u8868\u73b0\u4f1a\u53d8\u5dee\u3002\n",
                "# batch_size \u8bbe\u5c0f\uff081\uff09\uff0c\u8fd0\u884c\u901f\u5ea6\u4f1a\u53d8\u6162\u3002\n",
                "# \u6240\u4ee5\u60f3\u8981\u5229\u7528 GPU \u52a0\u901f\uff0c\u8981\u628a batch_size \u8bbe\u5927\u4e00\u70b9\u3002"
            ]
        },
        {
            "cell_type": "code",
            "execution_count": null,
            "metadata": {},
            "outputs": [],
            "source": [
                "# \u7b2c\u56db\u6b65\uff0c\u6539\u53d8\u7f51\u7edc\u6df1\u5ea6\u7684\u5f71\u54cd\uff1a\n",
                "# \u53d1\u73b0\u7f51\u7edc\u52a0\u6df1\uff0c\u8bad\u7ec3\u6548\u679c\u4e0d\u597d\u3002\n",
                "for i in range(10):\n",
                "    model.add(Dense(units=689,activation='sigmoid'))  "
            ]
        },
        {
            "cell_type": "code",
            "execution_count": null,
            "metadata": {},
            "outputs": [],
            "source": [
                "# \u7b2c\u4e94\u6b65\uff0c\u6362\u6fc0\u6d3b\u51fd\u6570\uff1a\n",
                "# \u628a sigmoid \u6362\u6210 relu. \u53d1\u73b0\u8bad\u7ec3\u96c6\u4e0a\u6b63\u786e\u7387\u6709\u5f88\u5927\u63d0\u5347\uff0c\u6d4b\u8bd5\u96c6\u4e0a\u6b63\u786e\u7387\u4e5f\u5f88\u4e0d\u9519\u3002\n",
                "model.add(Dense(units=689,activation='relu'))\n",
                "model.add(Dense(units=689,activation='relu'))\n",
                "for i in range(10):\n",
                "    model.add(Dense(units=689,activation='relu'))  "
            ]
        },
        {
            "cell_type": "code",
            "execution_count": null,
            "metadata": {},
            "outputs": [],
            "source": [
                "# \u7b2c\u516d\u6b65\uff0c\u6570\u636e\u89c4\u8303\u5316\uff08normalization\uff09\u7684\u91cd\u8981\u6027\uff1a\n",
                "# \u628a x_train = x_train / 255 \u548c x_test = x_test / 255 \u6ce8\u91ca\u6389\uff0c\u53d1\u73b0\u6a21\u578b\u8bad\u7ec3\u5931\u8d25\u3002\n",
                "# \u7136\u540e\u628a\u89c4\u8303\u5316\u91cd\u65b0\u52a0\u4e0a\u3002"
            ]
        },
        {
            "cell_type": "code",
            "execution_count": null,
            "metadata": {},
            "outputs": [],
            "source": [
                "# \u7b2c\u4e03\u6b65\uff0c\u6539\u53d8\u68af\u5ea6\u4e0b\u964d\u7b56\u7565\uff1a\n",
                "\n",
                "# 1.\u5148\u628a\u7f51\u7edc\u6df1\u5ea6\u53d8\u5c0f\uff08\u628a 10 \u5c42\u6ce8\u91ca\u6389\uff09\uff0c\u8dd1\u4e00\u6b21\u3002\n",
                "#for i in range(10):\n",
                "#    model.add(Dense(units=689,activation='relu')) \n",
                "\n",
                "# 2.\u518d\u6539\u4e00\u4e0b\u68af\u5ea6\u4e0b\u964d\u7684\u7b56\u7565\uff0c\u4ece SGD \u6539\u6210 \u2018adam\u2019 \u8dd1\u4e00\u904d\u3002\u4f1a\u53d1\u73b0\u8bad\u7ec3\u65f6\u6b63\u786e\u7387\u4e0a\u5347\u7684\u901f\u5ea6\u53d8\u5feb\u3002\n",
                "model.compile(loss='categorical_crossentropy',optimizer='adam',metrics=['accuracy'])"
            ]
        },
        {
            "cell_type": "code",
            "execution_count": null,
            "metadata": {},
            "outputs": [],
            "source": [
                "# \u7b2c\u516b\u6b65\uff0c\u6dfb\u52a0\u566a\u58f0\uff0c\u4f7f\u7528 Dropout\uff1a\n",
                "\n",
                "# 1.\u5bf9\u6d4b\u8bd5\u96c6\u52a0\u566a\u58f0\uff0c\u53d1\u73b0\u6d4b\u8bd5\u96c6\u6b63\u786e\u7387\u4e0b\u964d\u3002\n",
                "x_test = np.random.normal(x_test)\n",
                "\n",
                "# 2. Dropout \u7684\u6548\u679c\u3002\n",
                "# \u52a0\u4e0a Dropout \u4e4b\u540e\uff0c\u4f1a\u53d1\u73b0\u6bcf\u4e00\u4e2a epoch \u8bad\u7ec3\u65f6\u8bad\u7ec3\u96c6\u4e0a\u7684\u6548\u679c\u53d8\u5dee\u3002\n",
                "# \u4f46\u8ba1\u7b97\u8bad\u7ec3\u96c6\u7684\u6b63\u786e\u7387\u548c\u6d4b\u8bd5\u7684\u65f6\u5019\u662f\u7528\u6574\u4e2a\u7f51\u7edc\u6d4b\u8bd5\uff0c\u6240\u4ee5\u6548\u679c\u53d8\u597d\u3002\n",
                "model.add(Dense(input_dim=28*28,units=689,activation='relu'))\n",
                "model.add(Dropout(0.7))\n",
                "model.add(Dense(units=689,activation='relu'))\n",
                "model.add(Dropout(0.7))\n",
                "model.add(Dense(units=689,activation='relu'))\n",
                "model.add(Dropout(0.7))"
            ]
        }
    ],
    "metadata": {
        "kernelspec": {
            "display_name": "Python 3",
            "language": "python",
            "name": "python3"
        },
        "language_info": {
            "codemirror_mode": {
                "name": "ipython",
                "version": 3
            },
            "file_extension": ".py",
            "mimetype": "text/x-python",
            "name": "python",
            "nbconvert_exporter": "python",
            "pygments_lexer": "ipython3",
            "version": "3.5.2"
        }
    },
    "nbformat": 4,
    "nbformat_minor": 2
}