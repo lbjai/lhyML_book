{
    "cells": [
        {
            "cell_type": "markdown",
            "metadata": {},
            "source": [
                "### \u8fd9\u4e00\u8282\u6211\u4eec\u4e3b\u8981\u5b66\u4e60",
                "+ \u4ecb\u7ecd\u5206\u7c7b\u6a21\u578b\n",
                "+ \u5229\u7528\u751f\u6210\u6a21\u578b\u6c42\u89e3\u5206\u7c7b\u95ee\u9898\n",
                "+ \u5229\u7528\u6781\u5927\u4f3c\u7136\u4f30\u8ba1\u6cd5\u6c42\u89e3\u8bad\u7ec3\u96c6\u6570\u636e\u7684\u6982\u7387\u5206\u5e03\n",
                "+ \u901a\u8fc7\u51e0\u7387\u6a21\u578b\uff0c\u6c42\u89e3\u751f\u6210\u6a21\u578b\u4e2d\u53d8\u91cf\u7684\u6982\u7387\u5206\u5e03"
            ]
        },
        {
            "cell_type": "markdown",
            "metadata": {},
            "source": [
                "### 1.\u5206\u7c7b\u6a21\u578b"
            ]
        },
        {
            "cell_type": "markdown",
            "metadata": {},
            "source": [
                "\u5206\u7c7b\u6a21\u578b\uff1a\u8f93\u5165\u4e00\u4e2a\u5bf9\u8c61\u7684\u7279\u5f81\uff0c\u8f93\u51fa\u8be5\u5bf9\u8c61\u6240\u5c5e\u7684\u5177\u4f53\u7c7b\u522b\u3002<br>\n",
                "\u8be5\u6a21\u578b\u5728\u533b\u7597\u8bca\u65ad\u3001\u4eba\u8138\u8bc6\u522b\u7b49\u95ee\u9898\u4e2d\u6709\u7740\u5e7f\u6cdb\u7684\u5e94\u7528\u3002<br>"
            ]
        },
        {
            "cell_type": "markdown",
            "metadata": {},
            "source": [
                "#### 1.1 \u5206\u7c7b\u6a21\u578b\u7684\u5e94\u7528"
            ]
        },
        {
            "cell_type": "markdown",
            "metadata": {},
            "source": [
                "![](http://imgbed.momodel.cn/11-1 \u5206\u7c7b\u95ee\u9898\u7684\u5e94\u7528.png)"
            ]
        },
        {
            "cell_type": "markdown",
            "metadata": {},
            "source": [
                "\u63a5\u4e0b\u4ee5\u5b9d\u53ef\u68a6\u7684\u4f8b\u5b50\u4f5c\u4e3a\u5177\u4f53\u5b9e\u4f8b\u6765\u8fdb\u884c\u5206\u6790\u3002\n",
                "\n",
                "![](http://imgbed.momodel.cn/11-2 \u5b9d\u53ef\u68a6\u4f8b\u5b50.png)"
            ]
        },
        {
            "cell_type": "markdown",
            "metadata": {},
            "source": [
                "\u5728\u8be5\u5b9e\u4f8b\u4e2d\uff0c\u6211\u4eec\u5c06\u603b\u8bc4\u5206\u3001HP\u503c\u3001\u653b\u51fb\u529b\u3001\u9632\u5fa1\u529b\u7b49\u53c2\u6570\u4f5c\u4e3a\u6570\u636e\u7279\u5f81\u8f93\u5165\uff0c\u6765\u9884\u6d4b\u8f93\u51fa\u5b9d\u53ef\u68a6\u7684\u5c5e\u6027\uff0c\u4ece\u800c\u8fdb\u884c\u5206\u7c7b\u3002\n",
                "\n",
                "![](http://imgbed.momodel.cn/11-3 \u6570\u636e\u7279\u5f81.png)"
            ]
        },
        {
            "cell_type": "markdown",
            "metadata": {},
            "source": [
                "#### 1.2 \u5206\u7c7b\u6d41\u7a0b\u6b65\u9aa4"
            ]
        },
        {
            "cell_type": "markdown",
            "metadata": {},
            "source": [
                "\n",
                "\n",
                "+ \u6536\u96c6\u6570\u636e\u8fdb\u884c\u8bad\u7ec3\n",
                "\n",
                "![](http://imgbed.momodel.cn/11-5 \u8bad\u7ec3\u6570\u636e\u8fdb\u884c\u5206\u7c7b.png)"
            ]
        },
        {
            "cell_type": "markdown",
            "metadata": {},
            "source": [
                "\n",
                "\n",
                "\u6211\u4eec\u5e94\u8be5\u5c06\u5206\u7c7b\u95ee\u9898\u5f52\u7c7b\u81f3\u56de\u5f52\u5206\u6790\u4e2d\u5417\uff1f\n",
                "\n",
                "\u4e3e\u4e2a\u4f8b\u5b50\uff0c\u6211\u4eec\u9996\u5148\u6765\u770b\u770b\u4e8c\u5206\u7c7b\u95ee\u9898\u3002\n",
                "\n",
                "\u5728\u8bad\u7ec3\u96c6\u4e2d\uff0c\u6211\u4eec\u5c06\u7c7b\u522b 1 \u5bf9\u5e94\u7684\u6807\u7b7e\u503c\u8bbe\u4e3a 1 \uff1b\u7c7b\u522b 2 \u5bf9\u5e94\u7684\u6807\u7b7e\u503c\u8bbe\u4e3a -1 \u3002\n",
                "\n",
                "\u5728\u6d4b\u8bd5\u96c6\u4e2d\uff0c\u5f53\u9884\u6d4b\u503c\u66f4\u63a5\u8fd1 1 \u65f6\uff0c\u5c06\u5176\u5f52\u4e3a\u7c7b\u522b 1 \uff1b\u66f4\u63a5\u8fd1 -1 \u65f6\uff0c\u5f52\u4e3a\u7c7b\u522b 2 \u3002\n",
                "\n",
                "\u8fd9\u6837\u505a\u4f1a\u9047\u5230\u4ec0\u4e48\u95ee\u9898\u5462\uff1f"
            ]
        },
        {
            "cell_type": "markdown",
            "metadata": {},
            "source": [
                "![](http://imgbed.momodel.cn/11-6 \u5229\u7528\u7ebf\u6027\u56de\u5f52\u8fdb\u884c\u5206\u7c7b.png)\n",
                "\n",
                "\u5de6\u56fe\u4e2d\uff0c\u5de6\u4e0a\u89d2\u4ee3\u8868\u5c0f\u4e8e 0 \uff0c\u53f3\u4e0b\u89d2\u4ee3\u8868\u5927\u4e8e 0 \uff0c\u5f53\u7279\u5f81\u6570\u636e\u65b9\u5dee\u8f83\u5c0f\u65f6\uff0c\u5206\u7c7b\u826f\u597d\u3002\n",
                "\n",
                "\u53f3\u56fe\u4e2d\uff0c\u5f53\u7279\u5f81\u6570\u636e\u65b9\u5dee\u8f83\u5927\uff0c\u6bd4\u8f83\u5206\u6563\uff0c\u5bfc\u81f4\u51b3\u7b56\u8fb9\u754c\u53f3\u4e0b\u89d2\u504f\u79fb\u3002\n",
                "\n",
                "\u4e3a\u7167\u987e\u90a3\u4e9b\u8fc7\u4e8e\u201c\u6b63\u786e\u201d\uff08\u9884\u6d4b\u503c\u8fc7\u5927\uff09\u7684\u6837\u672c\u70b9\uff0c\u51b3\u7b56\u8fb9\u754c\u5c06\u4f1a\u5411\u53f3\u4e0b\u89d2\u504f\u79fb\uff0c\u4ece\u800c\u4e0d\u80fd\u8fdb\u884c\u6b63\u786e\u7684\u5206\u7c7b\u3002"
            ]
        },
        {
            "cell_type": "markdown",
            "metadata": {},
            "source": [
                "\u5bf9\u4e8e\u591a\u5143\u5206\u7c7b\u95ee\u9898\uff0c\u6211\u4eec\u5c06\u7c7b\u522b 1\u30012\u30013\u2026\u2026 \u7684\u6807\u7b7e\u503c\u5206\u522b\u7f6e\u4e3a 1\u30012\u30013\u2026\u2026"
            ]
        },
        {
            "cell_type": "markdown",
            "metadata": {},
            "source": [
                "#### 1.3 \u6a21\u578b\u6539\u8fdb"
            ]
        },
        {
            "cell_type": "markdown",
            "metadata": {},
            "source": [
                "\n",
                "\u9488\u5bf9\u4e0a\u8ff0\u95ee\u9898\uff0c\u6211\u4eec\u9700\u8981\u627e\u5230\u4e00\u4e2a\u7406\u60f3\u7684\u66ff\u4ee3\u51fd\u6570\uff0c\u6765\u4ee3\u66ff\u7ebf\u6027\u56de\u5f52\u6a21\u578b\u3002"
            ]
        },
        {
            "cell_type": "markdown",
            "metadata": {},
            "source": [
                "+ \u51fd\u6570\uff08\u6a21\u578b\uff09\uff1a\n",
                "  \n",
                "\n",
                "![](http://imgbed.momodel.cn/11-7\u51fd\u6570\u6a21\u578b.png)\n",
                "   \n",
                "\u5bfb\u627e\u4e00\u4e2a\u51fd\u6570 $f(x)$ \uff0c\u5f53 $g(x)>0$ \u65f6\uff0c\u8f93\u51fa\u7c7b\u522b 1 \uff1b\u5426\u5219\uff0c\u8f93\u51fa\u7c7b\u522b 2\u3002\n",
                "\n",
                "+ \u635f\u5931\u51fd\u6570\uff1a\n",
                "\n",
                "![](http://imgbed.momodel.cn/11-8 \u635f\u5931\u51fd\u6570.png)\n",
                "  \n",
                "\u786e\u5b9a\u635f\u5931\u51fd\u6570 $L(f)$ \uff0c\u8bb0\u5f55\u8bad\u7ec3\u4e2d\u9884\u6d4b\u9519\u8bef\u7684\u6b21\u6570\u3002\n",
                "+ \u786e\u5b9a\u6700\u4f73\u51fd\u6570\n",
                "   \n",
                "\u901a\u8fc7\u611f\u77e5\u795e\u7ecf\u5143\u3001\u652f\u6301\u5411\u91cf\u673a\u7b49\u65b9\u6cd5\uff0c\u786e\u5b9a\u6700\u7ec8\u7684\u6700\u4f73\u51fd\u6570\u6a21\u578b\u3002\n",
                "\n"
            ]
        },
        {
            "cell_type": "markdown",
            "metadata": {},
            "source": [
                "<br>"
            ]
        },
        {
            "cell_type": "markdown",
            "metadata": {},
            "source": [
                "### 2. \u5206\u7c7b\u95ee\u9898"
            ]
        },
        {
            "cell_type": "markdown",
            "metadata": {},
            "source": [
                "####  2.1 \u76d2\u5b50\u95ee\u9898"
            ]
        },
        {
            "cell_type": "markdown",
            "metadata": {},
            "source": [
                "![](http://imgbed.momodel.cn/11-9 \u4e24\u4e2a\u76d2\u5b50.png)"
            ]
        },
        {
            "cell_type": "markdown",
            "metadata": {},
            "source": [
                "\u90a3\u4e48\u95ee\u9898\u6765\u4e86\uff1a\u53d6\u51fa\u4e00\u4e2a\u7403\uff0c\u786e\u5b9a\u8be5\u7403\u7684\u989c\u8272\u4e3a\u84dd\u8272\uff0c\u5224\u65ad\u8be5\u7403\u6765\u81ea\u54ea\u4e2a\u76d2\u5b50\uff1f\n",
                "\n",
                "(\u5df2\u77e5\u53d6\u51fa\u7684\u7403\u662f\u84dd\u8272\u7684\uff0c\u6c42\u6765\u81ea\u7bb1\u5b50 1 \u7684\u6982\u7387\u3002\uff09\n",
                "\n",
                "\u6211\u4eec\u9700\u8981\u7528\u4e0b\u9762\u516c\u5f0f\u5b8c\u6210\u8ba1\u7b97\uff1a"
            ]
        },
        {
            "cell_type": "markdown",
            "metadata": {},
            "source": [
                "<font size=4>$P(B_1|Blue)=$</font><font size=5>$\\frac{P(Blue|B_1)P(B_1)}{P(Blue|B_1)P(B_1)+P(Blue|B_2)P(B_2)}$</font>\n",
                "\n",
                "\n",
                "\u4e0a\u8ff0\uff0c\u662f[\u8d1d\u53f6\u65af\u516c\u5f0f](https://baike.baidu.com/item/%E8%B4%9D%E5%8F%B6%E6%96%AF%E5%85%AC%E5%BC%8F)\u3002"
            ]
        },
        {
            "cell_type": "markdown",
            "metadata": {},
            "source": [
                "#### 2.2 \u4e8c\u5206\u7c7b\u95ee\u9898\n",
                "\n"
            ]
        },
        {
            "cell_type": "markdown",
            "metadata": {},
            "source": [
                "\n",
                "\n",
                "\u63a8\u800c\u5e7f\u4e4b\uff1a\u5982\u679c\u6211\u4eec\u770b\u6210\u5206\u7c7b\uff0c\u4e24\u4e2a\u7c7b\u522b\u5982\u4f55\u533a\u5206\u5462\uff1f\n",
                "\n",
                "\u601d\u8def\uff1a\u901a\u8fc7\u5927\u91cf\u7684\u8bad\u7ec3\u96c6\u6570\u636e\uff0c\u6765\u4f30\u6d4b $P(C_1),P(C_2),P(x|C_1),P(x|C_2)$ \u7684\u503c \uff0c\u518d\u8fdb\u884c\u6b63\u786e\u7684\u5206\u7c7b\u9884\u6d4b\u3002\n",
                "\n",
                "\n",
                "![](http://imgbed.momodel.cn/11-10 \u9884\u6d4b\u53ef\u80fd\u6027.png)"
            ]
        },
        {
            "cell_type": "markdown",
            "metadata": {},
            "source": [
                "\u5df2\u77e5\u4e00\u4e2a\u5b9d\u53ef\u68a6\u5bf9\u8c61\u7684\u7279\u5f81\u53d8\u91cf\u4e3a $x$ ,\u5224\u65ad\u5b9d\u53ef\u68a6\u7684\u7c7b\u522b\u5c5e\u6027\uff08\u6765\u81ea\u54ea\u4e2a Class \u7684\u6982\u7387\u6700\u5927\uff09\u3002\n",
                "\n",
                "\u90a3\u4e48\u7ed9\u4e00\u4e2a x \uff0c\u5b83\u7684\u5206\u7c7b\u7684\u6982\u7387\u662f\uff1a<font size=4>$P(C_1|x)=$</font> <font size=5>$\\frac{P(x|C_1)P(C_1)}{P(x|C_1)P(C_1)+P(x|C_2)P(C_2)}$</font>\n",
                "\n",
                "\u6574\u4f53 $P(x)$ \u7684\u6982\u7387\u662f\uff1a\n",
                "\n",
                "\n",
                "\u751f\u6210\u6a21\u578b\uff1a <font size=4>$P(x)=P(x|C_1)P(C_1)+P(x|C_2)P(C_2)$<font>"
            ]
        },
        {
            "cell_type": "markdown",
            "metadata": {},
            "source": [
                "\n",
                "![](http://imgbed.momodel.cn/11-11 \u5148\u9a8c\u6982\u7387.png)\n",
                "\n",
                "\u8003\u8651\u4e24\u4e2a\u7c7b\u522b\uff0cClass1 \u662f\u6c34\u7cfb\u5b9d\u53ef\u68a6\uff0cClass2 \u662f\u666e\u901a\u7cfb\u5b9d\u53ef\u68a6\u3002\n",
                "\n",
                "\u6211\u4eec\u5c06 ID \u5c0f\u4e8e 400 \u7684\u5b9d\u53ef\u68a6\u7528\u4f5c\u8bad\u7ec3\uff0c\u5269\u4f59\u7684\u5b9d\u53ef\u68a6\u7528\u4e8e\u6d4b\u8bd5\u3002\n",
                "\n",
                "\u5176\u4e2d\u8bad\u7ec3\u96c6\uff1a\u6c34\u7cfb\u5b9d\u53ef\u68a6 79 \u53ea\uff1b\u666e\u901a\u7cfb\u5b9d\u53ef\u68a6 61 \u53ea\u3002\n",
                "\n",
                "\u5f97\u5230\uff0c <font size=4>$P(C_1)=$</font> <font size=5>$\\frac{79}{79+61}$ </font>; <font size=4 >$P(C_2)=$<font> <font size=5>$\\frac{61}{79+61}$</font>\n"
            ]
        },
        {
            "cell_type": "markdown",
            "metadata": {},
            "source": [
                "![](http://imgbed.momodel.cn/11-12 \u5206\u7c7b\u53ef\u80fd\u6027.png)\n",
                "\n",
                "$P(x|C_1)$ \u8868\u793a\u4ece\u6c34\u7cfb\u91cc\u9762\u6311\u4e00\u53ea\u5b9d\u53ef\u68a6\uff0c\u8fd9\u53ea\u5b9d\u53ef\u68a6\u662f $x$ \u7684\u6982\u7387\u503c\u3002\n",
                "\n",
                "\u6bcf\u53ea\u5b9d\u53ef\u68a6\u90fd\u662f\u7528\u4e00\u4e2a\u5411\u91cf\u8868\u793a\u7684\uff0c\u5b83\u7684\u5c5e\u6027\u503c\u5c31\u662f\u5411\u91cf\u91cc\u7684\u503c\u3002"
            ]
        },
        {
            "cell_type": "markdown",
            "metadata": {},
            "source": [
                "\u6839\u636e\u6570\u636e\u7279\u5f81\u8fdb\u884c\u5206\u7c7b\uff1a\n",
                "\n",
                "![](http://imgbed.momodel.cn/11-13 \u8003\u8651\u9632\u5fa1\u529b\u548c\u7279\u6b8a\u9632\u5fa1\u6280\u80fd.png)\n",
                "\n",
                "\u73b0\u5728\u53d6\u5b9d\u53ef\u68a6\u7684\u4e24\u4e2a\u5c5e\u6027\u9632\u5fa1\u548c\u7279\u6b8a\u653b\u51fb\u9632\u5fa1\u4f5c\u4e3a\u4e00\u4e2a\u7279\u5f81\u5411\u91cf\u3002\n",
                "\n",
                "\u8fd9\u6837\u5c31\u5f97\u5230\u4e86\u4e0a\u56fe\u3002\u8fd9\u4e2a\u4e8c\u7ef4\u5e73\u9762\u4e0a\u6bcf\u4e00\u4e2a\u70b9\u90fd\u4ee3\u8868\u4e00\u53ea\u5b9d\u53ef\u68a6\u3002\n",
                "\n",
                "\u6211\u4eec\u5047\u8bbe\u4e0a\u9762\u7684\u6570\u636e\u70b9\u91c7\u6837\u81ea\u9ad8\u65af\u5206\u5e03\u3002"
            ]
        },
        {
            "cell_type": "markdown",
            "metadata": {},
            "source": [
                "### 3. \u6700\u5927\u4f3c\u7136\u4f30\u8ba1"
            ]
        },
        {
            "cell_type": "markdown",
            "metadata": {},
            "source": [
                "#### 3.1 \u9ad8\u65af\u5206\u5e03"
            ]
        },
        {
            "cell_type": "markdown",
            "metadata": {},
            "source": [
                "\n",
                "\n",
                "<font size=5> $f_{\u03bc,\\sum}(x)=$ </font>  <font size=5> $\\frac{1}{(2\u03c0)^{D/2}}$ $\\frac{1}{|\\sum|^{1/2}}$$\\cdot exp\\{-\\frac{1}{2}(x-\u03bc)^T\\sum^{-1}(x-\u03bc)\\}$ </font>\n",
                "<br>\n",
                "\n",
                "\u8f93\u5165\uff1a\u6837\u672c\u503c $x$ \uff1b<br>\n",
                "\u8f93\u51fa\uff1a\u6837\u672c\u7684\u6982\u7387\u5bc6\u5ea6\u3002<br>\n",
                "\u51fd\u6570\u7684\u5f62\u72b6\u53d6\u51b3\u4e8e\u5747\u503c $\u03bc$ \u548c\u534f\u65b9\u5dee\u77e9\u9635 $\\sum$\n",
                "\n",
                "\n",
                "![](http://imgbed.momodel.cn/11-14 \u9ad8\u65af\u5206\u5e03.png)"
            ]
        },
        {
            "cell_type": "markdown",
            "metadata": {},
            "source": [
                "#### 3.2 \u5229\u7528\u6781\u5927\u4f3c\u7136\u6cd5\u6c42\u89e3\u9ad8\u65af\u5206\u5e03"
            ]
        },
        {
            "cell_type": "markdown",
            "metadata": {},
            "source": [
                "+ \u5047\u8bbe\u8fd9\u4e9b\u70b9\u91c7\u6837\u81ea\u9ad8\u65af\u5206\u5e03\uff0c\u6211\u4eec\u8981\u901a\u8fc7[\u6781\u5927\u4f3c\u7136\u4f30\u8ba1\u6cd5](https://baike.baidu.com/item/%E6%9E%81%E5%A4%A7%E4%BC%BC%E7%84%B6%E4%BC%B0%E8%AE%A1/3350286)\u627e\u5230\u8fd9\u4e2a\u5206\u5e03\uff0c\u4e14\u80fd\u591f\u9884\u6d4b\u65b0\u7684\u6837\u672c\u70b9\u7684\u6982\u7387\u3002\n",
                "\n",
                "\n",
                "\n"
            ]
        },
        {
            "cell_type": "markdown",
            "metadata": {},
            "source": [
                "![](http://imgbed.momodel.cn/11-16 \u6700\u5927\u4f3c\u7136\u4f30\u8ba1.png)"
            ]
        },
        {
            "cell_type": "markdown",
            "metadata": {},
            "source": [
                "\n",
                "\u6211\u4eec\u62e5\u6709\u6c34\u7cfb\u7684\u5b9d\u53ef\u68a6\uff1a<font size=4>$x^1,x^2,x^3,...,x^{79}$</font> \uff0c\u6211\u4eec\u5047\u8bbe\u8fd9\u4e9b\u6837\u672c\u70b9\u5747\u6765\u81ea\u9ad8\u65af\u5206\u5e03 $(\u03bc,\\sum)$ ,\u4f7f\u5f97\u6700\u5927\u4f3c\u7136\u51fd\u6570 $L(\\mu,\\sum)$ \u6700\u5927\u3002\n",
                "\n",
                "![](http://imgbed.momodel.cn/11-17 \u6700\u5927\u4f3c\u7136\u51fd\u6570.png)"
            ]
        },
        {
            "cell_type": "markdown",
            "metadata": {},
            "source": [
                "+ \u901a\u8fc7\u4e0a\u8ff0\u516c\u5f0f\uff0c\u6211\u4eec\u53ef\u4ee5\u6c42\u51fa\u6c34\u7cfb\u548c\u666e\u901a\u7cfb\u5b9d\u53ef\u68a6\u7684\u9ad8\u65af\u5206\u5e03\u3002\n",
                "\n",
                "![](http://imgbed.momodel.cn/11-18 \u6c34\u5c5e\u6027\u7684\u9ad8\u65af\u5206\u5e03.png)"
            ]
        },
        {
            "cell_type": "markdown",
            "metadata": {},
            "source": [
                "#### 3.3 \u5206\u7c7b\u9884\u6d4b"
            ]
        },
        {
            "cell_type": "markdown",
            "metadata": {},
            "source": [
                "+ \u901a\u8fc7\u751f\u6210\u6a21\u578b\uff0c\u6211\u4eec\u53ef\u4ee5\u5bf9\u65b0\u7684\u6837\u672c\u70b9\u8fdb\u884c\u9884\u6d4b\u5206\u7c7b\u3002\n",
                "\n",
                "![](http://imgbed.momodel.cn/11-19 \u901a\u8fc7\u751f\u6210\u6a21\u578b\u8fdb\u884c\u9884\u6d4b.png)"
            ]
        },
        {
            "cell_type": "markdown",
            "metadata": {},
            "source": [
                "+ \u6a21\u578b\u7684\u9884\u6d4b\u7ed3\u679c\uff1a\u8be5\u6a21\u578b\u7684\u51c6\u786e\u7387\u4ec5\u4ec5\u4e3a 54% \uff0c\u6548\u679c\u4e0d\u662f\u7279\u522b\u7406\u60f3\u3002\n",
                "\n",
                "![](http://imgbed.momodel.cn/11-20 \u6a21\u578b\u7684\u9884\u6d4b\u7ed3\u679c.png)"
            ]
        },
        {
            "cell_type": "markdown",
            "metadata": {},
            "source": [
                "#### 3.4 \u6a21\u578b\u6539\u8fdb"
            ]
        },
        {
            "cell_type": "markdown",
            "metadata": {},
            "source": [
                "\n",
                "+ \u9488\u5bf9\u4e24\u4e2a\u5c5e\u6027\u7684\u4e0d\u540c\u9ad8\u65af\u5206\u5e03\uff0c\u5c06\u4e24\u4e2a\u5206\u5e03\u7684\u534f\u65b9\u5dee\u77e9\u9635\u8bbe\u4e3a\u76f8\u540c\u7684\u503c\uff0c\u51cf\u5c11\u53c2\u6570\u7684\u6570\u91cf\uff0c\u907f\u514d\u8fc7\u62df\u5408\u3002\n",
                "\n",
                "![](http://imgbed.momodel.cn/11-21 \u6a21\u578b\u7684\u6539\u826f.png)"
            ]
        },
        {
            "cell_type": "markdown",
            "metadata": {},
            "source": [
                "+ \u4f7f\u7528\u6700\u5927\u4f3c\u7136\u4f30\u8ba1\u6cd5\u6c42\u89e3\uff1a\n",
                "\n",
                "![](http://imgbed.momodel.cn/11-21 \u4f7f\u7528\u6700\u5927\u4f3c\u7136\u4f30\u8ba1\u6cd5\u5bf9\u6a21\u578b\u8fdb\u884c\u6539\u826f.png)"
            ]
        },
        {
            "cell_type": "markdown",
            "metadata": {},
            "source": [
                "+ \u6539\u826f\u540e\u7684\u6a21\u578b\uff1a\u51c6\u786e\u7387\u7531\u4e4b\u524d\u7684 54% \u63d0\u5347\u81f3 73% \n",
                "\n",
                "![](http://imgbed.momodel.cn/11- 22 \u6539\u826f\u540e\u7684\u6a21\u578b.png)"
            ]
        },
        {
            "cell_type": "markdown",
            "metadata": {},
            "source": [
                "<br>\n",
                "\n",
                "\n"
            ]
        },
        {
            "cell_type": "markdown",
            "metadata": {},
            "source": [
                "### 4.\u51e0\u7387\u6a21\u578b"
            ]
        },
        {
            "cell_type": "markdown",
            "metadata": {},
            "source": [
                "#### 4.1 \u51e0\u7387\u6a21\u578b\u7684\u4e09\u4e2a\u6b65\u9aa4"
            ]
        },
        {
            "cell_type": "markdown",
            "metadata": {},
            "source": [
                "\n",
                "+ \u5bfb\u627e\u51fd\u6570\u96c6\uff08\u6a21\u578b\uff09\n",
                "+ \u8bc4\u4ef7\u6a21\u578b\u7684\u597d\u574f\n",
                "+ \u786e\u5b9a\u6700\u7ec8\u7684\u6a21\u578b\n",
                "\n",
                "\n",
                "![](http://imgbed.momodel.cn/11-23 \u4e09\u90e8\u66f2.png)"
            ]
        },
        {
            "cell_type": "markdown",
            "metadata": {},
            "source": [
                "#### 4.2 \u6982\u7387\u5206\u5e03"
            ]
        },
        {
            "cell_type": "markdown",
            "metadata": {},
            "source": [
                "\n",
                "+ \u6309\u7167\u81ea\u5df1\u7684\u610f\u613f\u9009\u62e9\u6570\u636e\u7684\u6982\u7387\u5206\u5e03\n",
                "\n",
                "![](http://imgbed.momodel.cn/11-24 \u6982\u7387\u5206\u5e03\u6a21\u578b.png)\n",
                "\n",
                "\u5982\u679c\u4f60\u5047\u8bbe <font size=4>$x$</font> \u5404\u4e2a\u7ef4\u5ea6\u662f\u76f8\u4e92\u72ec\u7acb\u7684\uff0c\u90a3\u4e48\u4f60\u6b63\u5728\u4f7f\u7528[\u6734\u7d20\u8d1d\u53f6\u65af\u5206\u7c7b\u5668](https://baike.baidu.com/item/%E6%9C%B4%E7%B4%A0%E8%B4%9D%E5%8F%B6%E6%96%AF%E5%88%86%E7%B1%BB%E5%99%A8/22657525?fr=aladdin)\u3002<br>\u4f46\u662f\u8fd9\u6837\u7684\u6a21\u578b\u6709\u65f6\u53ef\u80fd\u8fc7\u4e8e\u7b80\u5355\uff0c\u6548\u679c\u4e0d\u662f\u7279\u522b\u597d\uff1b\u9700\u8981\u5728\u5404\u4e2a\u7279\u5f81\u4e4b\u95f4\u6dfb\u52a0\u4e00\u4e9b\u8054\u7cfb\uff0c\u4f7f\u6a21\u578b\u66f4\u52a0\u590d\u6742\u3002<br>\n",
                "\n",
                "\n",
                "\u5e76\u4e0d\u662f\u6240\u6709\u7684\u6a21\u578b\u90fd\u662f\u9ad8\u65af\u5206\u5e03\u3002\u5bf9\u4e8e\u4e00\u4e9b\u4e8c\u5206\u7c7b\u95ee\u9898\uff0c\u4f60\u53ef\u4ee5\u5047\u8bbe\u5b83\u4eec\u6765\u81ea[\u4f2f\u52aa\u5229\u5206\u5e03](https://baike.baidu.com/item/%E4%BC%AF%E5%8A%AA%E5%88%A9%E5%88%86%E5%B8%83/7167021?fr=aladdin)\u6765\u751f\u6210\u6982\u7387\u6a21\u578b\uff0c\u7136\u540e\u8fdb\u884c\u5206\u7c7b\u9884\u6d4b\u3002"
            ]
        },
        {
            "cell_type": "markdown",
            "metadata": {},
            "source": [
                " #### 4.3 \u540e\u9a8c\u6982\u7387"
            ]
        },
        {
            "cell_type": "markdown",
            "metadata": {},
            "source": [
                "![](http://imgbed.momodel.cn/11-25 \u5148\u9a8c\u6982\u7387\u6a21\u578b\u548csigmoid\u51fd\u6570.png)\n"
            ]
        },
        {
            "cell_type": "markdown",
            "metadata": {},
            "source": [
                "\n",
                "\u901a\u8fc7\u4ee3\u6570\u53d8\u6362\uff0c\u6211\u4eec\u5c06**\u5206\u7c7b\u9884\u6d4b**\u53d8\u6210\u5173\u4e8e <font size=4>$z$</font> \u7684 <font size=4>$sigmoid$</font> \u51fd\u6570\uff0c\u5176\u4e2d <font size=3.5>$P(x|C_1),P(x|C_2)$</font> \u6ee1\u8db3\u9ad8\u65af\u5206\u5e03\u3002\n",
                "\n",
                "![](http://imgbed.momodel.cn/11-25 \u5148\u9a8c\u6982\u73872.png)"
            ]
        },
        {
            "cell_type": "markdown",
            "metadata": {},
            "source": [
                "+ \u6211\u4eec\u5c06 <font size=3.5>$P(x|C_1),P(x|C_2)$ </font>\u548c <font size=3.5>$P(C_1),P(C_2)$</font> \u7684\u8868\u8fbe\u5f0f\u5e26\u5165\u5316\u7b80\u5f97\u5230 <font size=4>$z$</font> \u7684\u65b0\u7684\u8868\u8fbe\u5f0f\uff1a\n",
                "\n",
                "![](http://imgbed.momodel.cn/11-26 \u4ee3\u6570\u53d8\u6362\u5316\u7b80.png)"
            ]
        },
        {
            "cell_type": "markdown",
            "metadata": {},
            "source": [
                "+ \u5f53\u4e24\u4e2a\u9ad8\u65af\u5206\u5e03\u7684\u534f\u65b9\u5dee\u76f8\u540c\u65f6\uff0c\u5373 $\\sum^1 = \\sum^2$,\u8fdb\u4e00\u6b65\u7b80\u5316 <font size=4>$z$</font> \u7684\u8868\u8fbe\u5f0f\uff1a\n",
                "\n",
                "![](http://imgbed.momodel.cn/11-27 \u8fdb\u4e00\u6b65\u5316\u7b80.png)\n",
                "\n",
                "\u5728\u751f\u6210\u6a21\u578b\u4e2d\uff0c\u6211\u4eec\u901a\u8fc7\u8bad\u7ec3\u96c6\u6570\u636e\uff0c\u4f30\u8ba1 <font size=3.5>$N_1,N_2,\u03bc^1,\u03bc^2,$</font>$\\sum$ ."
            ]
        },
        {
            "cell_type": "code",
            "execution_count": null,
            "metadata": {},
            "outputs": [],
            "source": []
        }
    ],
    "metadata": {
        "kernelspec": {
            "display_name": "Python 3",
            "language": "python",
            "name": "python3"
        },
        "language_info": {
            "codemirror_mode": {
                "name": "ipython",
                "version": 3
            },
            "file_extension": ".py",
            "mimetype": "text/x-python",
            "name": "python",
            "nbconvert_exporter": "python",
            "pygments_lexer": "ipython3",
            "version": "3.6.7"
        }
    },
    "nbformat": 4,
    "nbformat_minor": 2
}