{
    "cells": [
        {
            "cell_type": "markdown",
            "metadata": {},
            "source": [
                "### \u8fd9\u4e00\u8282\u6211\u4eec\u4e3b\u8981\u5b66\u4e60"
            ]
        },
        {
            "cell_type": "markdown",
            "metadata": {},
            "source": [
                "### 1.\u6570\u636e\u96c6\u548c\u4efb\u52a1\u4ecb\u7ecd\n",
                "![](http://imgbed.momodel.cn/12_1.png)"
            ]
        },
        {
            "cell_type": "markdown",
            "metadata": {},
            "source": [
                "\n",
                "\u6570\u636e\u96c6\uff1ahttps://archive.ics.uci.edu/ml/datasets/Adult"
            ]
        },
        {
            "cell_type": "markdown",
            "metadata": {},
            "source": [
                "![](http://imgbed.momodel.cn/12_2_datasets_information.png)"
            ]
        },
        {
            "cell_type": "markdown",
            "metadata": {},
            "source": [
                "### 2. \u7279\u5f81\u5904\u7406"
            ]
        },
        {
            "cell_type": "markdown",
            "metadata": {},
            "source": [
                "![](http://imgbed.momodel.cn/12_3_\u7279\u5f81\u5904\u7406.png)"
            ]
        },
        {
            "cell_type": "markdown",
            "metadata": {},
            "source": [
                "### 3.requirements\n",
                "\n",
                "![](http://imgbed.momodel.cn/12_4_requirements.png)"
            ]
        },
        {
            "cell_type": "markdown",
            "metadata": {},
            "source": [
                "\u7ecf\u8fc7\u4ee5\u4e0a\u4fe1\u606f\u7684\u4ecb\u7ecd\uff0c\u5927\u5bb6\u8d76\u7d27\u52a8\u52a8\u81ea\u5df1\u7684\u5c0f\u624b\u6307\uff0c\u5b9e\u6218\u8d77\u6765\u5427\uff01"
            ]
        }
    ],
    "metadata": {
        "kernelspec": {
            "display_name": "Python 3",
            "language": "python",
            "name": "python3"
        },
        "language_info": {
            "codemirror_mode": {
                "name": "ipython",
                "version": 3
            },
            "file_extension": ".py",
            "mimetype": "text/x-python",
            "name": "python",
            "nbconvert_exporter": "python",
            "pygments_lexer": "ipython3",
            "version": "3.6.7"
        }
    },
    "nbformat": 4,
    "nbformat_minor": 2
}