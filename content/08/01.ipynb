{
    "cells": [
        {
            "cell_type": "markdown",
            "metadata": {},
            "source": [
                "### \u8fd9\u4e00\u8282\u6211\u4eec\u4e3b\u8981\u5b66\u4e60",
                "\n",
                "+ \u4ecb\u7ecd\u8fc1\u79fb\u5b66\u4e60\n",
                "+ \u8fc1\u79fb\u5b66\u4e60\u7684\u5206\u7c7b\n",
                "+ \u6a21\u578b\u5fae\u8c03\uff08Model Fine-tuning\uff09\n",
                "+ \u591a\u4efb\u52a1\u5b66\u4e60\uff08Multitask Learning\uff09\n",
                "+ \u9886\u57df\u5bf9\u6297\u8bad\u7ec3\uff08Domain-adversarial training\uff09\n",
                "+ \u96f6\u6837\u672c\u5b66\u4e60\uff08Zero-shot Learning\uff09"
            ]
        },
        {
            "cell_type": "markdown",
            "metadata": {},
            "source": [
                "### 1.\u4ecb\u7ecd\u8fc1\u79fb\u5b66\u4e60"
            ]
        },
        {
            "cell_type": "markdown",
            "metadata": {},
            "source": [
                "",
                "\n",
                "+ \u8fc1\u79fb\u5b66\u4e60\u662f\u4e00\u79cd\u5229\u7528\u5df2\u6709\u7684\u89e3\u51b3\u67d0\u79cd\u95ee\u9898\u7684\u6a21\u578b\uff08\u77e5\u8bc6\uff09\u6765\u89e3\u51b3\u5176\u4ed6\u4e0d\u540c\u4f46\u662f\u76f8\u5173\u95ee\u9898\u7684\u65b9\u6cd5\u3002<br>\n",
                "\n",
                "![](http://imgbed.momodel.cn/30_01_TL.png)"
            ]
        },
        {
            "cell_type": "markdown",
            "metadata": {},
            "source": [
                "\u8fc1\u79fb\u5b66\u4e60\u8981\u89e3\u51b3\u7684\u95ee\u9898\u662f\uff1a\u5047\u8bbe\u6211\u4eec\u73b0\u5728\u624b\u4e0a\u6709\u4e0e\u4efb\u52a1\u4e0d\u76f4\u63a5\u76f8\u5173\u7684\u6570\u636e\uff0c\u8fd9\u4e9b\u6570\u636e\u80fd\u5426\u5e2e\u52a9\u6211\u4eec\u5b8c\u6210\u4efb\u52a1\u5462\uff1f<br> \n",
                "\n",
                "\u4f8b\u5982\uff0c\u6211\u4eec\u73b0\u5728\u8981\u505a\u732b\u548c\u72d7\u7684\u5206\u7c7b\u5668\uff0c\u73b0\u5728\u6211\u4eec\u624b\u4e0a\u6709\u4e00\u5806\u548c\u732b\u72d7\u4e0d\u662f\u76f4\u63a5\u76f8\u5173\u7684\u6570\u636e\uff1a\n",
                "+ \u5927\u91cf\u7684\u5728\u81ea\u7136\u754c\u62cd\u6444\u7684\u8001\u864e\u548c\u5927\u8c61\u7684\u56fe\u7247\uff1b\n",
                "+ \u5927\u91cf\u7684\u732b\u548c\u72d7\u7684\u5361\u901a\u56fe\u7247\u3002\n",
                "\n",
                "\u8fd9\u4e9b\u6570\u636e\u90fd\u548c\u73b0\u5b9e\u4e16\u754c\u4e2d\u7684\u732b\u72d7\u56fe\u7247\u6709\u4e00\u5b9a\u7684\u5173\u8054\u6027\uff0c\u4f46\u540c\u65f6\u4e5f\u6709\u8f83\u5927\u7684\u5dee\u522b\u3002<br>\n",
                "\u6211\u4eec\u9700\u8981\u5c06\u5229\u7528\u8fd9\u4e9b\u6570\u636e\u8bad\u7ec3\u5f97\u5230\u7684\u6a21\u578b\u8fd0\u7528\u5230\u732b\u72d7\u5206\u7c7b\u7684\u95ee\u9898\u4e0a\uff0c\u8fd9\u5c31\u662f\u8fc1\u79fb\u5b66\u4e60\u3002<br>"
            ]
        },
        {
            "cell_type": "markdown",
            "metadata": {},
            "source": [
                "",
                "\n",
                "![](http://imgbed.momodel.cn/30_02_TL.png)"
            ]
        },
        {
            "cell_type": "markdown",
            "metadata": {},
            "source": [
                "\u5f53\u6211\u4eec\u53ea\u62e5\u6709\u5c11\u91cf\u7684\u7b26\u5408\u4efb\u52a1\u8981\u6c42\u7684\u76ee\u6807\u6570\u636e\uff0c\u4f46\u7c7b\u4f3c\u7684\u6e90\u6570\u636e\u5374\u5f88\u591a\u7684\u65f6\u5019\uff0c<br>\n",
                "\u6211\u4eec\u53ef\u4ee5\u8003\u8651\u4f7f\u7528\u8fc1\u79fb\u5b66\u4e60\uff0c\u6bd4\u5982\u4ee5\u4e0b\u60c5\u51b5\u3002<br>\n",
                "\n",
                "\u76ee\u6807\u9886\u57df|\t\u76ee\u6807\u4efb\u52a1|\t\u4e0d\u76f8\u5173\u7684\u6570\u636e\n",
                "----------- | ------------- | -------------\n",
                "\u8bed\u97f3\u8bc6\u522b|\t\u5bf9\u53f0\u6e7e\u8bed\u505a\u8bc6\u522b\t|\u4ece youtube \u4e0a\u722c\u53d6\u82f1\u6587\u3001\u4e2d\u6587\u8bed\u97f3\u6570\u636e\u8bad\u7ec3\u6a21\u578b\u6765\u8fc1\u79fb\u5b66\u4e60\n",
                "\u56fe\u50cf\u5206\u7c7b|\t\u533b\u7597\u6570\u636e\u6781\u5ea6\u7f3a\u4e4f\uff0c\u505a\u533b\u7597\u8bca\u65ad\u65f6\t|\u4f7f\u7528\u5df2\u6709\u7684\u6d77\u91cf\u56fe\u50cf\u6570\u636e\uff08 coco , imagenet \u7b49\uff09\n",
                "\u6587\u672c\u5206\u6790|\t\u7279\u5b9a\u9886\u57df\uff0c\u6bd4\u5982\u6cd5\u5f8b\u6587\u4ef6\u5206\u6790\t|\u53ef\u4ee5\u4ece\u5176\u4ed6\u9886\u57df\u7684\u6587\u672c\u5206\u6790\u8fc1\u79fb"
            ]
        },
        {
            "cell_type": "markdown",
            "metadata": {},
            "source": [
                "\n",
                ""
            ]
        },
        {
            "cell_type": "markdown",
            "metadata": {},
            "source": [
                "![](http://imgbed.momodel.cn/30_03_TL.png)"
            ]
        },
        {
            "cell_type": "markdown",
            "metadata": {},
            "source": [
                "<br>"
            ]
        },
        {
            "cell_type": "markdown",
            "metadata": {},
            "source": [
                "### 2.\u8fc1\u79fb\u5b66\u4e60\u7684\u5206\u7c7b"
            ]
        },
        {
            "cell_type": "markdown",
            "metadata": {},
            "source": [
                "",
                "\n",
                "![](http://imgbed.momodel.cn/30_04_TL.png)"
            ]
        },
        {
            "cell_type": "markdown",
            "metadata": {},
            "source": [
                "\u8fc1\u79fb\u5b66\u4e60\u4e2d\uff1a \u76ee\u6807\u6570\u636e\u6709\u6709\u6807\u7b7e\u548c\u65e0\u6807\u7b7e\u4e24\u79cd\u60c5\u51b5\uff1b\u6e90\u6570\u636e\u4e5f\u6709\u6709\u6807\u7b7e\u548c\u65e0\u6807\u7b7e\u4e24\u79cd\u60c5\u51b5\u3002<br>\n",
                "\u6240\u4ee5\u4e00\u5171\u6709\u5982\u4e0a\u56fe\u6240\u793a\u7684\u56db\u79cd\u60c5\u51b5\uff0c\u5206\u522b\u5bf9\u5e94\u4e0d\u540c\u7684\u8fc1\u79fb\u5b66\u4e60\u7684\u65b9\u6cd5\uff1a\n",
                "+ Target Data: labelled,Source Data: labelled\u2014\u2014Model Fine-tuning,Multitask Learning.\n",
                "+ Target Data: labelled,Source Data: unlabelled\u2014\u2014Self-taught learning.\n",
                "+ Target Data: unlabelled, Source Data: labelled\u2014\u2014Domain-adversarial training, Zero-shot learning.\n",
                "+ Target Data: unlabelled, Source Data: unlabelled\u2014\u2014Self-taught Clustering.\n",
                "\n",
                "\n"
            ]
        },
        {
            "cell_type": "markdown",
            "metadata": {},
            "source": [
                "<br>"
            ]
        },
        {
            "cell_type": "markdown",
            "metadata": {},
            "source": [
                "### 3.\u6a21\u578b\u5fae\u8c03\uff08Model Fine-tuning\uff09"
            ]
        },
        {
            "cell_type": "markdown",
            "metadata": {},
            "source": [
                "",
                "\n",
                "![](http://imgbed.momodel.cn/30_05_TL.png)"
            ]
        },
        {
            "cell_type": "markdown",
            "metadata": {},
            "source": [
                "\u5f53\u6211\u4eec\u7684\u7279\u5b9a\u4efb\u52a1\u6240\u62e5\u6709\u7684\u6570\u636e\u96c6\u975e\u5e38\u5c11,\u4f46\u662f\u975e\u76f8\u5173\u7684\u6570\u636e\u96c6\u5f88\u591a\u65f6\uff0c\u8fd9\u79cd\u95ee\u9898\u6211\u4eec\u79f0\u4e4b\u4e3a\u4e00\u6b21\u6027\u5b66\u4e60\uff08one-shot learning\uff09\u3002<br>\n",
                "\n",
                "\u4f8b\u5982\uff0c\u5f53\u6211\u4eec\u8981\u5bf9\u67d0\u4e2a\u4eba\u7684\u8bed\u97f3\u8fdb\u884c\u8bed\u97f3\u8fa8\u8bc6\u7684\u65f6\u5019\uff0c\u90a3\u4e2a\u4eba\u7684\u8bed\u97f3\u97f3\u6570\u636e\u7279\u522b\u5c11\u3002\u4f46\u662f\u6211\u4eec\u6709\u5f88\u591a\u6765\u81ea\u5176\u4ed6\u4eba\u7684\u8bed\u97f3\u6570\u636e\u3002<br>\n",
                "\u8fd9\u65f6\uff0c\u6211\u4eec\u9700\u8981\u4f7f\u7528\u8fc1\u79fb\u5b66\u4e60\u7684\u65b9\u6cd5\uff1a\u7528\u8bb8\u591a\u4eba\u7684\u8bed\u97f3\u6570\u636e\u8bad\u7ec3\u6a21\u578b\uff0c\u7136\u540e\u518d\u7528\u7279\u5b9a\u4eba\u9009\u7684\u8bed\u97f3\u6570\u636e\u5bf9\u6a21\u578b\u8fdb\u884c\u5fae\u8c03\u3002<br>\n",
                "\n",
                "\u5904\u7406\u8be5\u7c7b\u95ee\u9898\u7684\u65f6\u5019\u9700\u8981\u6ce8\u610f\u7684\u5730\u65b9\uff1a\u7531\u4e8e\u76ee\u6807\u6570\u636e\u5f88\u5c11\uff0c\u5728\u7528\u76ee\u6807\u6570\u636e\u8fdb\u884c\u8bad\u7ec3\u7684\u65f6\u5019\u8981\u9632\u6b62\u8fc7\u62df\u5408\u3002<br>"
            ]
        },
        {
            "cell_type": "markdown",
            "metadata": {},
            "source": [
                "#### 3.1 \u8fc1\u79fb\u5b66\u4e60\u6280\u5de7:\u4fdd\u5b88\u8bad\u7ec3"
            ]
        },
        {
            "cell_type": "markdown",
            "metadata": {},
            "source": [
                "",
                "\n",
                "\n",
                "![](http://imgbed.momodel.cn/30_06_TL.png)"
            ]
        },
        {
            "cell_type": "markdown",
            "metadata": {},
            "source": [
                "\u5047\u8bbe\uff0c\u6211\u4eec\u5df2\u7ecf\u6709\u5927\u91cf\u7684\u6e90\u8bed\u97f3\u6570\u636e\u4ee5\u53ca\u5c11\u91cf\u7684\u76ee\u6807\u6570\u636e\u96c6\uff0c\u6211\u4eec\u5148\u4f7f\u7528\u6e90\u6570\u636e\u8bad\u7ec3\u51fa\u4e00\u4e2a\u6a21\u578b\uff0c<br>\n",
                "\u7136\u540e\u5728\u539f\u6a21\u578b\u7684\u57fa\u7840\u4e4b\u4e0a\uff0c\u6211\u4eec\u518d\u4f7f\u7528\u76ee\u6807\u6570\u636e\u5bf9\u6a21\u578b\u8fdb\u884c\u8bad\u7ec3\uff0c\u5f97\u5230\u7684\u65b0\u6a21\u578b\u53ef\u80fd\u53d1\u751f\u8fc7\u62df\u5408\u800c\u4ea7\u751f\u8f83\u5927\u504f\u5dee\u3002<br>\n",
                "\n",
                "\u56e0\u6b64\uff0c\u6211\u4eec\u9700\u8981\u5728\u8bad\u7ec3\u65b0\u6a21\u578b\u7684\u65f6\u5019\uff0c\u9700\u8981\u7ed9\u6a21\u578b\u6dfb\u52a0\u4e00\u4e9b\u9650\u5236\uff0c\u4f7f\u5f97\u8bad\u7ec3\u5b8c\u6210\u4e4b\u540e\uff0c\u524d\u540e\u4e24\u6b21\u6a21\u578b\u4e0d\u8981\u5dee\u592a\u591a\u3002<br>\n",
                "\u4f8b\u5982\uff0c\u5f53\u8f93\u5165\u76f8\u540c\u65f6\uff0c\u6211\u4eec\u5e0c\u671b\u524d\u540e\u4e24\u4e2a\u6a21\u578b\u7684\u8f93\u51fa\u4e0d\u8981\u76f8\u5dee\u592a\u591a\u3002<br>\n",
                "\u5728\u8bad\u7ec3\u65b0\u7684\u6a21\u578b\u7684\u65f6\u5019\uff0c\u6211\u4eec\u53ef\u4ee5\u5c06\u65e7\u6a21\u578b\u7684\u53c2\u6570\u4f5c\u4e3a\u6b63\u5219\u9879\u52a0\u8fdb\u53bb\uff0c\u4f7f\u5f97\u65b0\u6a21\u578b\u7684\u53c2\u6570\u4e0e\u65e7\u6a21\u578b\u53c2\u6570\u4e0d\u4f1a\u76f8\u5dee\u592a\u5927\u3002<br>"
            ]
        },
        {
            "cell_type": "markdown",
            "metadata": {},
            "source": [
                "#### 3.2 \u8fc1\u79fb\u5b66\u4e60\u6280\u5de7\uff1a\u5c42\u8f6c\u79fb"
            ]
        },
        {
            "cell_type": "markdown",
            "metadata": {},
            "source": [
                "",
                "\n",
                "![](http://imgbed.momodel.cn/30_07_TL.png)"
            ]
        },
        {
            "cell_type": "markdown",
            "metadata": {},
            "source": [
                "\u6211\u4eec\u5728\u8bad\u7ec3\u65b0\u6a21\u578b\u7684\u65f6\u5019\u53ef\u4ee5\u5bf9\u53c2\u6570\u505a\u4e00\u4e9b\u9650\u5236\uff0c\u53ea\u9700\u8981\u8c03\u6574\u67d0\u4e00\u4e9b\u7f51\u7edc\u5c42\u7684\u53c2\u6570\u3002<br>\n",
                "\u5f53\u6211\u4eec\u4f7f\u7528\u6e90\u6570\u636e\u8bad\u7ec3\u597d\u4e00\u4e2a\u6a21\u578b\u7684\u65f6\u5019\uff0c<br>\n",
                "\u5982\u679c\u6211\u4eec\u53ea\u6709\u5c11\u91cf\u7684\u76ee\u6807\u6570\u636e\uff0c\u6211\u4eec\u53ef\u4ee5\u5c06\u539f\u6a21\u578b\u4e2d\u7684\u67d0\u4e9b\u5c42\u7684\u53c2\u6570\u76f4\u63a5\u590d\u5236\u5230\u65b0\u7684\u7f51\u7edc\u4e2d\uff0c\u6211\u4eec\u53ea\u9700\u8981\u8bad\u7ec3\u4f59\u4e0b\u5c42\u7684\u53c2\u6570\uff1b<br>\n",
                "\u5982\u679c\u76ee\u6807\u6570\u636e\u8f83\u591a\uff0c\u6211\u4eec\u4e5f\u53ef\u4ee5\u5728\u539f\u6a21\u578b\u7684\u57fa\u7840\u4e4b\u4e0a\u8c03\u6574\u6574\u4e2a\u7f51\u7edc\u7684\u53c2\u6570\u5f97\u5230\u65b0\u7684\u6a21\u578b\u3002<br>"
            ]
        },
        {
            "cell_type": "markdown",
            "metadata": {},
            "source": [
                "![](http://imgbed.momodel.cn/30_08_TL.png)"
            ]
        },
        {
            "cell_type": "markdown",
            "metadata": {},
            "source": [
                "\u5728\u4e0d\u540c\u7684\u4efb\u52a1\u4e4b\u4e2d\uff0c\u9700\u8981\u8f6c\u79fb\u7684\u7f51\u7edc\u5c42\u4e0d\u540c\u3002<br>\n",
                "<br>\n",
                "+ \u8bed\u97f3\u8bc6\u522b\u4e2d\uff0c\u901a\u5e38\u53ea\u590d\u5236\u6700\u540e\u51e0\u5c42\u7f51\u7edc\uff0c\u7136\u540e\u91cd\u65b0\u8bad\u7ec3\u8f93\u5165\u5c42\u7f51\u7edc\u3002<br>\n",
                "    \u8bed\u97f3\u8bc6\u522b\u7684\u7ed3\u679c\uff0c\u5e94\u8be5\u8ddf\u53d1\u97f3\u8005\u6ca1\u6709\u5173\u7cfb\u7684\uff0c\u6240\u4ee5\u6700\u540e\u51e0\u5c42\u662f\u53ef\u4ee5\u88ab\u590d\u5236\u7684\u3002<br>\n",
                "    \u800c\u4e0d\u540c\u7684\u5730\u65b9\u5728\u4e8e\uff0c\u4ece\u58f0\u97f3\u4fe1\u53f7\u5230\u53d1\u97f3\u65b9\u5f0f\uff0c\u6bcf\u4e2a\u4eba\u90fd\u4e0d\u4e00\u6837\u3002<br>\n",
                "<br>\n",
                "+ \u5728\u56fe\u50cf\u4efb\u52a1\u4e2d\u3002\u901a\u5e38\u53ea\u590d\u5236\u524d\u9762\u51e0\u5c42\uff0c\u800c\u8bad\u7ec3\u6700\u540e\u51e0\u5c42\u3002<br>\n",
                "    \u901a\u5e38\u524d\u51e0\u5c42\u505a\u7684\u5c31\u662f\u68c0\u6d4b\u56fe\u50cf\u4e2d\u6709\u6ca1\u6709\u7b80\u5355\u7684\u51e0\u5c42\u56fe\u5f62\uff0c<br>\n",
                "    \u800c\u8fd9\u4e9b\u662f\u53ef\u4ee5\u8fc1\u79fb\u5230\u5176\u4ed6\u4efb\u52a1\u4e2d\u3002<br>\n",
                "    \u800c\u901a\u5e38\u6700\u540e\u51e0\u5c42\u901a\u5e38\u662f\u6bd4\u8f83\u7279\u5f02\u5316\u7684\uff0c\u8fd9\u4e9b\u662f\u9700\u8981\u8bad\u7ec3\u7684\u3002<br>"
            ]
        },
        {
            "cell_type": "markdown",
            "metadata": {},
            "source": [
                "![](http://imgbed.momodel.cn/30_09_TL.png)"
            ]
        },
        {
            "cell_type": "markdown",
            "metadata": {},
            "source": [
                "+ \u7f51\u7edc\u5c42\u8fc1\u79fb\u5b66\u4e60\u7684\u5b9e\u9a8c\u7ed3\u679c(\u56fe\u50cf\u4efb\u52a1)<br>\n",
                "Image\u5728 Layer Transfer \u4e0a\u7684\u5b9e\u9a8c\uff0c\u51fa\u81ea Bengio \u5728 NIPS2014 \u7684\u8bba\u6587\u3002<br>\n",
                "ImageNet\u7684\u6570\u636e120\u4e07\u56fe\u50cf\u5206\u4e3a source \u548c target \uff0c<br>\n",
                "\u6309\u7167\u5206\u7c7b\u6570\u91cf\u5212\u5206\uff0c\u5176\u4e2d500\u4e2a\u5206\u7c7b\u4f5c\u4e3a source \uff0c\u53e6\u5916500\u4e2a\u4e3a target\u3002<br>\n",
                "\n",
                "co-adaptation\uff1a\u76f8\u4e92\u9002\u5e94\n",
                "\n",
                "feature representation\uff1a\u7279\u5f81\u8868\u793a"
            ]
        },
        {
            "cell_type": "markdown",
            "metadata": {},
            "source": [
                "+ \u6a2a\u5750\u6807\u8868\u660e\u7f51\u7edc\u4ece\u7b2cn\u5c42\u5f00\u59cb\u91cd\u65b0\u8bad\u7ec3\uff1b\u7eb5\u5750\u6807\u8868\u660e Top-1 \u51c6\u786e\u7387\uff1b\u7ed3\u679c\u8868\u660e\uff1a\n",
                "\n",
                "    + \u53ef\u4ee5\u53d1\u73b0\uff0c\u5f53\u6211\u4eec\u53ea\u590d\u5236\u524d\u9762\u51e0\u4e2a\u7f51\u7edc\u5c42\u65f6\uff0c\u6548\u679c\u6709\u63d0\u5347\uff0c\u4f46\u662f\u590d\u5236\u5f97\u592a\u591a\u6548\u679c\u5c31\u5f00\u59cb\u53d8\u5dee\u3002<br>\n",
                "\n",
                "    + \u66f2\u7ebf5\u8868\u660e\uff0cLayer Transfer + Fine-tuning \u5728\u6240\u6709\u60c5\u51b5\u4e0b\uff0caccuracy\u5747\u6709\u63d0\u9ad8\u3002<br>\n",
                "    \u8fd9\u4e00\u7ed3\u679c\u7684\u60ca\u4eba\u4e4b\u5904\u5728\u4e8e\uff0c\u8fd9\u91cc\u7684target data\u5df2\u7ecf\u975e\u5e38\u591a\uff08ImageNet\u7684\u4e00\u534a\uff09\uff0c<br>\n",
                "    \u4f46\u662f\u518d\u52a0\u4e0aSource data\uff08ImageNet\u7684\u53e6\u4e00\u534a\uff09\u4ecd\u7136\u6709\u6240\u5e2e\u52a9\u3002<br>\n",
                "\n",
                "    + \u66f2\u7ebf2\u8868\u793a\uff0c\u5982\u679c\u7528target domain\u8bad\u7ec3\u51fa\u4e00\u4e2a\u6a21\u578b\uff0c\u56fa\u5b9a\u4f4f\u524d\u51e0\u4e2alayer\uff0c<br>\n",
                "    \u518d\u7528target domain\u8bad\u7ec3\u540e\u51e0\u4e2alayer\uff0c\u7ed3\u679c\u53ef\u80fd\u574f\u6389\u3002<br>\n",
                "\n",
                "    + \u66f2\u7ebf3\u8868\u660e\uff0c\u5728\u66f2\u7ebf2\u57fa\u7840\u4e0afine-tune\uff0c\u7ed3\u679c\u4f1a\u6062\u590d\u3002<br> \n",
                "    \n",
                "    + \u7efc\u4e0a\uff1a\u524d\u9762\u51e0\u5c42\u90fd\u5b66\u4e60\u5230\u7684\u662f\u901a\u7528\u7684\u7279\u5f81\uff08general feature\uff09\uff0c\u968f\u7740\u7f51\u7edc\u7684\u52a0\u6df1\uff0c\u540e\u9762\u7684\u7f51\u7edc\u66f4\u504f\u91cd\u4e8e\u5b66\u4e60\u7279\u5b9a\u7684\u7279\u5f81\uff08specific feature\uff09\n"
            ]
        },
        {
            "cell_type": "markdown",
            "metadata": {},
            "source": [
                "![](http://imgbed.momodel.cn/30_10_TL.png)"
            ]
        },
        {
            "cell_type": "markdown",
            "metadata": {},
            "source": [
                "\u968f\u7740\u53ef\u8fc1\u79fb\u5c42\u6570\u7684\u589e\u52a0\uff0c\u6a21\u578b\u6027\u80fd\u4e0b\u964d\u3002\u4f46\u662f\uff0c\u524d3\u5c42\u4ecd\u7136\u8fd8\u662f\u53ef\u4ee5\u8fc1\u79fb\u7684\uff01\u540c\u65f6\uff0c\u4e0e\u968f\u673a\u521d\u59cb\u5316\u6240\u6709\u6743\u91cd\u6bd4\u8f83\uff0c\u8fc1\u79fb\u5b66\u4e60\u7684\u7cbe\u5ea6\u662f\u5f88\u9ad8\u7684!"
            ]
        },
        {
            "cell_type": "markdown",
            "metadata": {},
            "source": [
                "**\u725b\u5200\u5c0f\u8bd5**<br>\n",
                "\u5fae\u8c03\u7684\u4f7f\u7528\u60c5\u51b5\u6709\u54ea\u4e9b\uff1f"
            ]
        },
        {
            "cell_type": "markdown",
            "metadata": {},
            "source": [
                "<span class='md-hint-alone-link pop 0'>\u67e5\u770b\u7b54\u6848</span>"
            ]
        },
        {
            "cell_type": "markdown",
            "metadata": {},
            "source": [
                "<br>"
            ]
        },
        {
            "cell_type": "markdown",
            "metadata": {},
            "source": [
                "### 4.\u591a\u4efb\u52a1\u5b66\u4e60\uff08Multitask Learning\uff09"
            ]
        },
        {
            "cell_type": "markdown",
            "metadata": {},
            "source": [
                "",
                "\n",
                "+ \u591a\u4efb\u52a1\u5b66\u4e60\uff1a\u5f53\u6211\u4eec\u6709\u591a\u4e2a\u4efb\u52a1\u9700\u8981\u5b8c\u6210\u65f6\uff0c\u6211\u4eec\u5e0c\u671b\u80fd\u591f\u540c\u65f6\u8bad\u7ec3\u591a\u4e2a\u4efb\u52a1\u800c\u5f97\u5230\u8f83\u597d\u7684\u7ed3\u679c\u3002\n",
                "\n",
                "![](http://imgbed.momodel.cn/30_11_TL.png)"
            ]
        },
        {
            "cell_type": "markdown",
            "metadata": {},
            "source": [
                "+ \u5f53\u4e24\u4e2a\u4efb\u52a1\u53ef\u4ee5\u5171\u7528\u540c\u4e00\u7ec4\u7279\u5f81\uff0c\u6211\u4eec\u5c31\u53ef\u4ee5\u91c7\u7528\u5de6\u8fb9\u7684\u7f51\u7edc\u7ed3\u6784\uff0c\u8ba9\u4e24\u4e2a\u4efb\u52a1\u5171\u7528\u524d\u9762\u51e0\u4e2a\u7f51\u7edc\u5c42\uff0c<br>\n",
                "  \u5728\u67d0\u4e00\u4e2a\u7f51\u7edc\u5c42\u4ea7\u751f\u5206\u652f\uff0c\u4e00\u4e2a\u5206\u652f\u7528\u4e8e\u89e3\u51b3\u4efb\u52a1 A\uff0c\u53e6\u4e00\u4e2a\u5206\u652f\u7528\u4e8e\u89e3\u51b3\u4efb\u52a1 B\u3002<br>\n",
                "+ \u5f53\u4e24\u4e2a\u4efb\u52a1\u4e0d\u80fd\u5171\u7528\u7279\u5f81\u7684\u65f6\u5019\uff0c\u6211\u4eec\u5c31\u53ef\u4ee5\u91c7\u7528\u53f3\u8fb9\u7684\u7f51\u7edc\u7ed3\u6784\uff0c\u5bf9\u4e24\u7ec4\u7279\u5f81\u505a\u4e00\u4e9b\u7279\u5f81\u8f6c\u6362\uff0c<br>\n",
                "  \u7136\u540e\u518d\u8f93\u5165\u5230\u540c\u4e00\u4e2a\u7f51\u7edc\u7ed3\u6784\u4e2d\u8bad\u7ec3\uff0c\u6700\u540e\u518d\u4ea7\u751f\u5206\u652f\u5206\u522b\u7528\u4e8e\u89e3\u51b3\u4efb\u52a1 A \u548c\u4efb\u52a1 B\u3002"
            ]
        },
        {
            "cell_type": "markdown",
            "metadata": {},
            "source": [
                "",
                "\n",
                "\n",
                "![](http://imgbed.momodel.cn/30_12_TL.png)"
            ]
        },
        {
            "cell_type": "markdown",
            "metadata": {},
            "source": [
                "+ \u591a\u79cd\u8bed\u8a00\u7684\u8bed\u97f3\u8bc6\u522b\u7684\u4f8b\u5b50\uff1a<br>\n",
                "   \u4e0d\u8bba\u4f55\u79cd\u8bed\u8a00\uff0c\u5b83\u4eec\u7684\u58f0\u97f3\u4fe1\u53f7\u90fd\u662f\u4e00\u6837\u7684\uff0c\u6240\u4ee5\u53ef\u4ee5\u4f7f\u7528\u76f8\u540c\u7684\u7f51\u7edc\u5c42\u7ed3\u6784\u5bf9\u58f0\u97f3\u4fe1\u53f7\u8fdb\u884c\u7279\u5f81\u63d0\u53d6\uff1b<br>\n",
                "   \u5f53\u5230\u8fbe\u67d0\u4e00\u4e2a\u7279\u5b9a\u7684\u9690\u85cf\u5c42\u7684\u65f6\u5019\uff0c\u7f51\u7edc\u7ed3\u6784\u5f00\u59cb\u4ea7\u751f\u5206\u652f\u5904\u7406\u4e0d\u540c\u7684\u4efb\u52a1\uff0c\u7136\u540e\u540c\u65f6\u8fdb\u884c\u8bad\u7ec3\u3002<br>\n",
                "   \u6700\u540e\u5f97\u5230\u7684\u591a\u79cd\u8bed\u8a00\u8bed\u97f3\u8bc6\u522b\u7684\u6548\u679c\u6bd4\u67d0\u79cd\u5355\u4e00\u8bed\u8a00\u8bed\u97f3\u8bc6\u522b\u7684\u6548\u679c\u66f4\u597d\u3002<br>"
            ]
        },
        {
            "cell_type": "markdown",
            "metadata": {},
            "source": [
                "",
                "\n",
                "![](http://imgbed.momodel.cn/30_13_TL.png)",
                "\n",
                "\u5982\u56fe\uff0c\u6a2a\u5750\u6807\u8868\u793a\u8bad\u7ec3\u6837\u672c\u7684\u6570\u91cf\uff0c\u7eb5\u5750\u6807\u8868\u793a\u9519\u8bef\u7387\n"
            ]
        },
        {
            "cell_type": "markdown",
            "metadata": {},
            "source": [
                "+ \u84dd\u8272\u66f2\u7ebf\u8868\u793a\u505a\u5355\u4e00\u4e2d\u6587\u8bed\u97f3\u8bc6\u522b\u65f6\u4e2d\u6587\u8bed\u97f3\u8bc6\u522b\u7684\u9519\u8bef\u7387\u3002<br>\n",
                "+ \u7ea2\u8272\u66f2\u7ebf\u8868\u793a\u5c06\u4e2d\u6587\u540c\u5176\u4ed6\u6b27\u6d32\u8bed\u8a00\u4e00\u8d77\u505a\u8bed\u97f3\u8bc6\u522b\u65f6\u4e2d\u6587\u8bed\u97f3\u8bc6\u522b\u7684\u9519\u8bef\u7387\u3002<br>\n",
                "+ \u5bf9\u6bd4\u4e24\u66f2\u7ebf\u6211\u4eec\u53ef\u4ee5\u53d1\u73b0\uff0c\u5c06\u4e2d\u6587\u548c\u5176\u4ed6\u6b27\u6d32\u8bed\u8a00\u653e\u5728\u4e00\u8d77\u8fdb\u884c\u8bed\u97f3\u8bc6\u522b\u8bad\u7ec3\u7684\u8bad\u7ec3\u6548\u679c\u6bd4\u5355\u4e00\u8bad\u7ec3\u4e2d\u6587\u65f6\u7684\u8bad\u7ec3\u6548\u679c\u66f4\u597d\u3002<br>"
            ]
        },
        {
            "cell_type": "markdown",
            "metadata": {},
            "source": [
                "",
                "\n",
                "![](http://imgbed.momodel.cn/30_14_TL.png)"
            ]
        },
        {
            "cell_type": "markdown",
            "metadata": {},
            "source": [
                "\u5148\u8bad\u7ec3\u4e00\u4e2a\u89e3\u51b3\u4efb\u52a1 1 \u7684\u7f51\u7edc\u6a21\u578b 1\uff0c\u8bad\u7ec3\u5b8c\u6210\u4e4b\u540e\uff0c\u56fa\u5b9a\u8be5\u6a21\u578b\u7684\u53c2\u6570\uff1b\u518d\u53bb\u8bad\u7ec3\u4e00\u4e2a\u4efb\u52a1 2 \u7684\u7f51\u7edc\u6a21\u578b 2\uff0c\u5b83\u7684\u6bcf\u4e2a\u9690\u85cf\u5c42\u90fd\u4f1a\u53bb\u63a5\u6536\u6a21\u578b 1 \u7684\u9690\u85cf\u5c42\u8f93\u51fa\u3002<br>\n",
                "\u5b83\u7684\u597d\u5904\u662f\uff0c\u5373\u4fbf\u4efb\u52a1 1 \u548c\u4efb\u52a1 2 \u5b8c\u5168\u4e0d\u50cf\uff0c\u4efb\u52a1 2 \u7684\u6570\u636e\u4e5f\u4e0d\u4f1a\u5f71\u54cd\u5230\u6a21\u578b 1 \u7684\u53c2\u6570\uff0c<br>\n",
                "\u6240\u4ee5\u8fc1\u79fb\u7684\u7ed3\u679c\u4e00\u5b9a\u4e0d\u4f1a\u66f4\u5dee\uff0c\u6700\u7cdf\u7cd5\u7684\u60c5\u51b5\u5c31\u662f\u76f4\u63a5\u8bad\u7ec3\u4efb\u52a1 2 \u7684\u6a21\u578b(\u6b64\u65f6\u7f51\u7edc\u6a21\u578b 1 \u7684\u8f93\u51fa\u8bbe\u7f6e\u4e3a 0)\u3002 <br>\n",
                "\n",
                "[\u535a\u5ba2\u53c2\u8003](https://caoxiaoqing.github.io/2018/12/26/%E5%A4%9A%E4%BB%BB%E5%8A%A1%E5%AD%A6%E4%B9%A0%E7%BB%BC%E8%BF%B0/)"
            ]
        },
        {
            "cell_type": "markdown",
            "metadata": {},
            "source": [
                "<br>"
            ]
        },
        {
            "cell_type": "markdown",
            "metadata": {},
            "source": [
                "### 5.\u9886\u57df\u5bf9\u6297\u8bad\u7ec3\uff08Domain-adversarial training\uff09"
            ]
        },
        {
            "cell_type": "markdown",
            "metadata": {},
            "source": [
                "",
                "\n",
                "![](http://imgbed.momodel.cn/30_15_TL.png)"
            ]
        },
        {
            "cell_type": "markdown",
            "metadata": {},
            "source": [
                "\u5f53\u6e90\u6570\u636e\u96c6\u6709\u6807\u7b7e\u3001\u76ee\u6807\u6570\u636e\u96c6\u65e0\u6807\u7b7e\u7684\u65f6\u5019\uff0c\u6211\u4eec\u5e94\u8be5\u5982\u4f55\u5904\u7406\u8be5\u95ee\u9898\u5462\uff1f<br>\n",
                "\u5176\u4e2d\u4e00\u79cd\u505a\u6cd5\u662f\uff0c\u5c06\u6e90\u6570\u636e\u89c6\u4f5c\u8bad\u7ec3\u96c6\u6570\u636e\uff0c\u5c06\u76ee\u6807\u6570\u636e\u5f53\u505a\u6d4b\u8bd5\u96c6\u6570\u636e\u6765\u8fdb\u884c\u9884\u6d4b\u3002<br>\n",
                "\u8fd9\u79cd\u505a\u6cd5\u7684\u95ee\u9898\u5728\u4e8e\u6e90\u6570\u636e\u96c6\u548c\u76ee\u6807\u6570\u636e\u96c6\u7684\u5206\u5e03\u53ef\u80fd\u5b8c\u5168\u4e0d\u540c\uff0c\u51fa\u73b0\u4e0d\u5339\u914d\u7684\u60c5\u51b5\u3002<br>\n",
                "\u6b64\u65f6\uff0c\u6211\u4eec\u9700\u8981\u91c7\u7528**\u9886\u57df\u5bf9\u6297\u8bad\u7ec3**\u7684\u65b9\u6cd5\u3002<br>\n"
            ]
        },
        {
            "cell_type": "markdown",
            "metadata": {},
            "source": [
                "",
                "\n",
                "+ \u9886\u57df\u5bf9\u6297\u53ef\u4ee5\u770b\u505a\u662f GAN \u6a21\u578b\u7684\u4e00\u79cd\uff0c\u76ee\u7684\u662f\u628a\u6e90\u6570\u636e\u548c\u76ee\u6807\u6570\u636e\u7684\u7279\u5f81\u8f6c\u6362\u5230\u540c\u4e00\u4e2a\u9886\u57df\u4e2d\uff0c<br>\n",
                "  \u4f7f\u5f97\u6e90\u6570\u636e\u548c\u76ee\u6807\u6570\u636e\u670d\u4ece\u7c7b\u4f3c\u7684\u5206\u5e03\u3002<br>\n",
                "\n",
                "![](http://imgbed.momodel.cn/30_16_TL.png)"
            ]
        },
        {
            "cell_type": "markdown",
            "metadata": {},
            "source": [
                "\u5982\u679c\u6211\u4eec\u4e0d\u9760\u6e90\u6570\u636e\u548c\u76ee\u6807\u6570\u636e\u4e0d\u5339\u914d\u7684\u95ee\u9898\u7684\uff0c\u4e0d\u5bf9\u6570\u636e\u7279\u5f81\u505a\u4efb\u4f55\u5904\u7406\uff0c<br>\n",
                "\u53ef\u80fd\u4f1a\u5f97\u5230\u5982\u4e0a\u56fe\u6240\u793a\u7684\u6570\u636e\u5206\u5e03\uff1a\u84dd\u8272\u70b9\u8868\u793a\u6e90\u6570\u636e\u7684\u5206\u5e03\uff1b\u7ea2\u8272\u70b9\u8868\u793a\u76ee\u6807\u6570\u636e\u7684\u5206\u5e03\u3002<br>\n",
                "<br>\n",
                "\u6211\u4eec\u53ef\u4ee5\u770b\u51fa\u84dd\u8272\u70b9\u7684\u5206\u5e03\u662f\u4e00\u4e2a\u4e00\u4e2a\u7684\u96c6\u7fa4\uff0c\u4f46\u662f\u7ea2\u8272\u7684\u6570\u636e\u70b9\u5806\u79ef\u5728\u4e00\u8d77\uff0c\u6e90\u6570\u636e\u548c\u76ee\u6807\u6570\u636e\u7684\u7279\u5f81\u5206\u5e03\u5b8c\u5168\u4e0d\u4e00\u6837\u3002<br>\n",
                "\u82e5\u6211\u4eec\u65e0\u6cd5\u5c06\u6e90\u6570\u636e\u548c\u7279\u5f81\u6570\u636e\u7684\u5206\u5e03\u8f6c\u6362\u5230\u540c\u4e00\u9886\u57df\u4e0a\u7684\u76f8\u540c\u5206\u5e03\uff0c\u6211\u4eec\u5c31\u4e0d\u80fd\u4f7f\u7528\u5206\u7c7b\u5668\u5c06\u76ee\u6807\u6570\u636e\u5f88\u597d\u7684\u5206\u7c7b\u3002<br>"
            ]
        },
        {
            "cell_type": "markdown",
            "metadata": {},
            "source": [
                "",
                "\n",
                "+ \u6211\u4eec\u4f7f\u7528\u7279\u5f81\u63d0\u53d6\u5668\u6765\u6d88\u9664\u6e90\u6570\u636e\u96c6\u548c\u76ee\u6807\u6570\u636e\u96c6\u7684\u9886\u57df\u7279\u6027\uff0c\u8ba9\u5b83\u4eec\u6570\u636e\u7684\u7279\u5f81\u670d\u4ece\u540c\u4e00\u5206\u5e03\u3002<br>\n",
                "\n",
                "\n",
                "![](http://imgbed.momodel.cn/30_17_TL.png)"
            ]
        },
        {
            "cell_type": "markdown",
            "metadata": {},
            "source": [
                "\n",
                "+ \u5177\u4f53\u505a\u6cd5\uff1a<br>\n",
                "  \u6211\u4eec\u9700\u8981\u5728\u7279\u5f81\u63d0\u53d6\u5668\u540e\u9762\u589e\u52a0\u4e00\u4e2a\u9886\u57df\u5206\u7c7b\u5668\u3002<br>\n",
                "  \u7279\u5f81\u63d0\u53d6\u5668\u7684\u76ee\u6807\u662f\uff1a\u7531\u5b83\u63d0\u53d6\u51fa\u6765\u7684\u6570\u636e\u7279\u5f81\u80fd\u591f\u8ba9\u9886\u57df\u5206\u7c7b\u5668\u65e0\u6cd5\u5206\u8fa8\u8be5\u6570\u636e\u6765\u81ea\u54ea\u4e2a\u9886\u57df\uff0c<br>\n",
                "  \u4ece\u800c\u6d88\u9664\u6e90\u6570\u636e\u96c6\u548c\u76ee\u6807\u6570\u636e\u96c6\u7684\u9886\u57df\u7279\u6027\uff0c\u4f7f\u8fd9\u4e9b\u6570\u636e\u7279\u5f81\u670d\u4ece\u540c\u4e00\u5206\u5e03\u3002<br>\n",
                "  \n"
            ]
        },
        {
            "cell_type": "markdown",
            "metadata": {},
            "source": [
                "+ \u5b58\u5728\u7684\u95ee\u9898\uff1a<br>\n",
                "  \u4ec5\u4ec5\u589e\u52a0\u4e00\u4e2a\u9886\u57df\u5206\u7c7b\u5668\u5e76\u4e0d\u80fd\u8fbe\u5230\u9884\u671f\u7684\u6548\u679c\uff0c\u53ea\u8981\u7279\u5f81\u63d0\u53d6\u5668\u6bcf\u6b21\u8f93\u51fa\u4e00\u4e2a\u7279\u5b9a\u7684\u503c\uff0c\u5c31\u53ef\u4ee5\u9a97\u8fc7\u9886\u57df\u5206\u7c7b\u5668\u3002<br>\n",
                "  \u56e0\u6b64\uff0c\u6211\u4eec\u9700\u8981\u7ed9\u7279\u5f81\u63d0\u53d6\u5668\u589e\u52a0\u53e6\u5916\u4e00\u4e2a\u9650\u5236\u3002"
            ]
        },
        {
            "cell_type": "markdown",
            "metadata": {},
            "source": [
                "",
                "\n",
                "+ \u7279\u5f81\u63d0\u53d6\u5668\u9664\u4e86\u8981\u6d88\u9664\u6570\u636e\u7279\u5f81\u7684\u9886\u57df\u7279\u6027\u4e4b\u5916\uff0c\u8fd8\u9700\u8981\u63d0\u9ad8\u6807\u7b7e\u9884\u6d4b\u7684\u51c6\u786e\u7387\u3002\n",
                "\n",
                "\n",
                "![](http://imgbed.momodel.cn/30_18_TL.png)"
            ]
        },
        {
            "cell_type": "markdown",
            "metadata": {},
            "source": [
                "\u6574\u4e2a\u7f51\u7edc\u7ed3\u6784\u5982\u4e0a\u56fe\u6240\u793a\uff0c\u9886\u57df\u5206\u7c7b\u5668\u60f3\u8981\u5224\u65ad\u6570\u636e\u7279\u5f81\u6765\u81ea\u54ea\u4e2a\u9886\u57df\uff0c\u6807\u7b7e\u9884\u6d4b\u5668\u60f3\u8981\u5c3d\u53ef\u80fd\u51c6\u786e\u5730\u9884\u6d4b\u51fa\u6570\u636e\u7684\u6807\u7b7e\uff0c<br>\n",
                "\u800c\u7279\u5f81\u63d0\u53d6\u5668\u5e0c\u671b\u63d0\u53d6\u51fa\u6765\u7684\u6570\u636e\u7279\u5f81\u5c3d\u53ef\u80fd\u6ee1\u8db3\u6807\u7b7e\u9884\u6d4b\u5668\u7684\u8981\u6c42\uff0c\u800c\u4f7f\u9886\u57df\u5206\u7c7b\u5668\u5931\u6548\u3002<br>\n",
                "\u90a3\u4e48\u5177\u4f53\u5e94\u8be5\u600e\u4e48\u505a\u6765\u8fbe\u5230\u4e0a\u9762\u7684\u8981\u6c42\u5462\uff1f<br>"
            ]
        },
        {
            "cell_type": "markdown",
            "metadata": {},
            "source": [
                "",
                "\n",
                "![](http://imgbed.momodel.cn/30_19_TL.png)"
            ]
        },
        {
            "cell_type": "markdown",
            "metadata": {},
            "source": [
                "\u9886\u57df\u5206\u7c7b\u5668\u548c\u6807\u7b7e\u9884\u6d4b\u5668\u90fd\u4f1a\u4f7f\u7528\u68af\u5ea6\u4e0b\u964d\u7684\u65b9\u6cd5\u4f7f\u81ea\u5df1\u7684\u635f\u5931\u51fd\u6570\u6700\u5c0f\uff0c<br>\n",
                "\u4f46\u5173\u952e\u70b9\u5728\u4e8e\u7279\u5f81\u63d0\u53d6\u5668\u4f1a\u5c3d\u91cf\u6ee1\u8db3\u6807\u7b7e\u9884\u6d4b\u5668\u7684\u8981\u6c42\u800c\u53cd\u5bf9\u9886\u57df\u5206\u7c7b\u5668\u7684\u505a\u6cd5\u3002<br>\n",
                "\u56e0\u6b64\uff0c\u5f53\u53cd\u5411\u4f20\u64ad\u7684\u68af\u5ea6\u7ecf\u8fc7\u7279\u5f81\u63d0\u53d6\u5668\u7684\u65f6\u5019\uff0c\u6807\u7b7e\u9884\u6d4b\u5668\u7684\u68af\u5ea6\u4f1a\u4fdd\u6301\u539f\u6765\u7684\u65b9\u5411\uff0c\u800c\u9886\u57df\u5206\u7c7b\u5668\u7684\u68af\u5ea6\u65b9\u5411\u4f1a\u671d\u7740\u76f8\u53cd\u7684\u65b9\u5411\u5411\u540e\u4f20\u9012\u3002<br>\n",
                "\u7531\u4e8e\u9886\u57df\u5206\u7c7b\u5668\u7684\u7684\u8f93\u5165\u6570\u636e\u662f\u7531\u7279\u5f81\u5206\u7c7b\u5668\u6765\u63d0\u53d6\u8f93\u51fa\u7684\u6570\u636e\u7279\u5f81\uff0c\u6240\u4ee5\u6700\u7ec8\u7684\u7ed3\u679c\u4f1a\u662f\u9886\u57df\u5206\u7c7b\u5668\u65e0\u6cd5\u5224\u65ad\u6570\u636e\u7279\u5f81\u6765\u81ea\u54ea\u4e00\u4e2a\u9886\u57df\u3002<br>"
            ]
        },
        {
            "cell_type": "markdown",
            "metadata": {},
            "source": [
                "\n",
                "\u56e0\u6b64\uff0c\u4e0a\u8ff0\u7684\u7f51\u7edc\u6a21\u578b\u80fd\u591f\u5f88\u597d\u7684\u6d88\u9664\u6e90\u6570\u636e\u548c\u76ee\u6807\u6570\u636e\u7684\u9886\u57df\u7279\u6027\uff0c\u4f7f\u5b83\u4eec\u670d\u4ece\u540c\u4e00\u5206\u5e03\uff1b<br>\n",
                "\u540c\u65f6\u6ee1\u8db3\u4e86\u6807\u7b7e\u9884\u6d4b\u5668\u7684\u8981\u6c42\uff0c\u80fd\u591f\u5f88\u597d\u7684\u5bf9\u6570\u636e\u8fdb\u884c\u9884\u6d4b\u5206\u7c7b\u3002<br>"
            ]
        },
        {
            "cell_type": "markdown",
            "metadata": {},
            "source": [
                "",
                "\n",
                "![](http://imgbed.momodel.cn/30_20_TL.png)"
            ]
        },
        {
            "cell_type": "markdown",
            "metadata": {},
            "source": [
                "+ \u5b9e\u9a8c\u7ed3\u679c\uff1a<br>\n",
                "  \u7b2c\u4e00\u884c\uff08SOURCE ONLY\uff09\u662f\u5c06\u6e90\u6570\u636e\u4f5c\u4e3a\u8bad\u7ec3\u96c6\u6570\u636e\u76ee\u6807\u6570\u636e\u4f5c\u4e3a\u6d4b\u8bd5\u96c6\u6570\u636e\u7684\u5b9e\u9a8c\u7ed3\u679c\uff0c\u53ef\u4ee5\u770b\u51fa\u6a21\u578b\u7684\u8868\u73b0\u6bd4\u8f83\u5dee\uff1b<br>\n",
                "  \u6700\u540e\u4e00\u884c\uff08TRAIN TARGET\uff09\u662f\u76f4\u63a5\u4f7f\u7528\u76ee\u6807\u6570\u636e\u6765\u8bad\u7ec3\u7684\u5b9e\u9a8c\u7ed3\u679c\uff0c\u6548\u679c\u8f83\u597d\uff1b<br>\n",
                "  \u7b2c\u4e09\u884c\uff08PROPOSED APPROACH\uff09\u662f\u4f7f\u7528\u9886\u57df\u5bf9\u6297\u8bad\u7ec3\u7684\u5b9e\u9a8c\u7ed3\u679c\uff0c\u6548\u679c\u4ecb\u4e8e\u4e24\u8005\u4e4b\u95f4\u3002<br>\n",
                "  \n",
                "+ \u7ed3\u8bba:<br>\n",
                "  \u5f53\u6e90\u6570\u636e\u548c\u76ee\u6807\u6570\u636e\u4e0d\u5339\u914d\u4f46\u9700\u8981\u5b8c\u6210\u7684\u4efb\u52a1\u76f8\u540c\u7684\u65f6\u5019\uff0c\u4f7f\u7528\u9886\u57df\u5bf9\u6297\u8bad\u7ec3\u7684\u65b9\u6cd5\u53ef\u4ee5\u8ba9\u6a21\u578b\u7684\u8868\u73b0\u66f4\u597d\u3002"
            ]
        },
        {
            "cell_type": "markdown",
            "metadata": {},
            "source": [
                "<br>"
            ]
        },
        {
            "cell_type": "markdown",
            "metadata": {},
            "source": [
                "### 6. \u96f6\u6837\u672c\u5b66\u4e60\uff08Zero-shot Learning\uff09"
            ]
        },
        {
            "cell_type": "markdown",
            "metadata": {},
            "source": [
                ""
            ]
        },
        {
            "cell_type": "markdown",
            "metadata": {},
            "source": [
                "![](http://imgbed.momodel.cn/30_21_TL.png)"
            ]
        },
        {
            "cell_type": "markdown",
            "metadata": {},
            "source": [
                "\u5f53\u6e90\u6570\u636e\u96c6\uff08\u6709\u6807\u7b7e\uff09\u548c\u76ee\u6807\u6570\u636e\u96c6\uff08\u65e0\u6807\u7b7e\uff09\u5904\u7406\u7684\u95ee\u9898\u4e0d\u540c\u65f6\uff0c\u6211\u4eec\u9700\u8981\u8fd0\u7528\u96f6\u6837\u672c\u5b66\u4e60\u7684\u65b9\u6cd5\u6765\u5904\u7406\u95ee\u9898\u3002<br>\n",
                "\u4f8b\u5982\uff0c\u5f53\u6e90\u6570\u636e\u96c6\u90fd\u662f\u732b\u548c\u72d7\u7684\u56fe\u7247\u7684\u65f6\u5019\uff0c\u6211\u4eec\u9700\u8981\u8bc6\u522b\u7684\u76ee\u6807\u6570\u636e\u96c6\u90fd\u662f\u8349\u6ce5\u9a6c\u7684\u56fe\u7247\uff0c\u6211\u4eec\u5e94\u8be5\u600e\u4e48\u5904\u7406\uff1f<br>\n",
                "\n",
                "\u5148\u770b\u770b\u8bed\u97f3\u8bc6\u522b\u7684\u4f8b\u5b50\uff1a\u6211\u4eec\u5728\u8fdb\u884c\u8bed\u97f3\u8bc6\u522b\u7684\u65f6\u5019\uff0c\u673a\u5668\u53ef\u80fd\u9047\u5230\u4ece\u6765\u6ca1\u6709\u89c1\u8fc7\u7684\u5355\u8bcd\uff0c\u6211\u4eec\u5982\u4f55\u5904\u7406\u8fd9\u79cd\u60c5\u51b5\u5462\uff1f<br>\n",
                "\u5b9e\u9645\u4e0a\uff0c\u673a\u5668\u8bc6\u522b\u7684\u4e0d\u662f\u4e00\u4e2a\u5355\u8bcd\u7684\u53d1\u97f3\uff0c\u800c\u662f\u8bc6\u522b\u6bcf\u4e2a\u5355\u8bcd\u7684\u5404\u4e2a\u97f3\u6807\uff0c\u518d\u6839\u636e\u97f3\u6807\u548c\u8bcd\u6c47\u7684\u5173\u7cfb\u5e93\u5224\u65ad\u51fa\u662f\u54ea\u4e2a\u5355\u8bcd\u3002<br>"
            ]
        },
        {
            "cell_type": "markdown",
            "metadata": {},
            "source": [
                "",
                "\n",
                "<figure class=\"half\">\n",
                "![](http://imgbed.momodel.cn/30_22_TL.png)",
                "</figure>"
            ]
        },
        {
            "cell_type": "markdown",
            "metadata": {},
            "source": [
                "\u5728\u56fe\u50cf\u95ee\u9898\u4e0a\uff0c\u6211\u4eec\u628a\u56fe\u50cf\u7684\u7c7b\u522b\u7528\u7c7b\u7684\u5c5e\u6027\u8868\u793a\u3002\u5982\u4e0a\u56fe\u4e2d\u7684 Database \u6240\u793a\uff0c<br>\n",
                "\u5f53\u7c7b\u7684\u5c5e\u6027\u8db3\u591f\u4e30\u5bcc\u53ef\u4ee5\u4ee3\u8868\u4e00\u4e2a\u7c7b\u7684\u65f6\u5019\uff0c\u6211\u4eec\u53ef\u4ee5\u76f4\u63a5\u901a\u8fc7\u5224\u65ad\u56fe\u50cf\u62e5\u6709\u54ea\u4e9b\u5c5e\u6027\u6765\u5224\u65ad\u56fe\u7247\u6240\u5c5e\u7684\u7c7b\u522b\u3002<br>\n",
                "\u5f53\u6211\u4eec\u5728\u8bc6\u522b\u76ee\u6807\u6570\u636e\u96c6\u7684\u6570\u636e\u7684\u65f6\u5019\uff0c\u6211\u4eec\u5c31\u53ef\u4ee5\u76f4\u63a5\u901a\u8fc7\u56fe\u7247\u7684\u5c5e\u6027\u6765\u5224\u65ad\u56fe\u7247\u7684\u7c7b\u522b\u3002"
            ]
        },
        {
            "cell_type": "markdown",
            "metadata": {},
            "source": [
                "",
                "\n",
                "![](http://imgbed.momodel.cn/30_24_TL.png)"
            ]
        },
        {
            "cell_type": "markdown",
            "metadata": {},
            "source": [
                "\u5f53\u56fe\u50cf\u7684\u5c5e\u6027\u7ef4\u5ea6\u8f83\u9ad8\u65f6\uff0c\u6211\u4eec\u53ef\u4ee5\u5efa\u7acb\u4e00\u4e2a\u5c5e\u6027\u5d4c\u5165\u7a7a\u95f4\uff0c\u5c06\u8bad\u7ec3\u96c6\u4e2d\u7684\u6bcf\u5f20\u56fe\u7247\u53d8\u6210\u5d4c\u5165\u7a7a\u95f4\u4e2d\u7684\u4e00\u4e2a\u70b9\u3002<br>\n",
                "\u51fd\u6570 $f$ \u548c $g$ \u90fd\u8868\u793a\u795e\u7ecf\u7f51\u7edc\uff0c\u5b83\u4eec\u5c06\u56fe\u7247\u548c\u5c5e\u6027\u7684\u7279\u5f81\u8f6c\u6362\u6210\u5d4c\u5165\u7a7a\u95f4\u4e2d\u7684\u4e00\u4e2a\u70b9\uff0c<br>\n",
                "\u5982\u679c\u4e24\u4e2a\u70b9\u6bd4\u8f83\u63a5\u8fd1\u7684\u8bdd\uff0c\u8bf4\u660e\u8be5\u56fe\u7247\u5177\u6709\u8be5\u5c5e\u6027\uff0c\u518d\u6839\u636e\u5c5e\u6027\u548c\u7c7b\u7684\u5173\u7cfb\u5224\u65ad\u56fe\u7247\u7684\u5c5e\u6027\u3002<br>"
            ]
        },
        {
            "cell_type": "markdown",
            "metadata": {},
            "source": [
                "",
                "\n",
                "![](http://imgbed.momodel.cn/30_26_TL.png)"
            ]
        },
        {
            "cell_type": "markdown",
            "metadata": {},
            "source": [
                "\u9996\u5148\uff0c\u6211\u4eec\u60f3\u5230\u662f\u7684\u4f7f $f(x)$ \u548c $g(x)$ \u7684\u7a7a\u95f4\u8ddd\u79bb\u8f83\u5c0f\uff0c\u4f46\u662f\u4ec5\u4ec5\u8fd9\u4e2a\u7ea6\u675f\u8fd8\u4e0d\u80fd\u6ee1\u8db3\u8981\u6c42\uff1b<br>\n",
                "\u6211\u4eec\u9700\u8981\u6dfb\u52a0\u53e6\u5916\u4e00\u4e2a\u7ea6\u675f\u6761\u4ef6\uff1a\u56fe\u7247\u548c\u5bf9\u5e94\u5c5e\u6027\u7684\u6570\u636e\u7279\u5f81\u7684\u5185\u79ef\u8981\u6bd4\u5176\u4ed6\u4e0d\u5bf9\u5e94\u7684\u5c5e\u6027\u7684\u5185\u79ef\u8981\u5927\u4e00\u4e2a\u95f4\u9694 $K$\u3002<br>\n",
                "\u8fd9\u6837\u6211\u4eec\u5c31\u53ef\u4ee5\u4f7f\u56fe\u7247\u548c\u5bf9\u5e94\u5c5e\u6027\u70b9\u4e4b\u95f4\u7684\u8ddd\u79bb\u5c3d\u53ef\u80fd\u7684\u5c0f\uff0c\u4e14\u5bf9\u5e94\u70b9\u4e0e\u4e0d\u5bf9\u5e94\u7684\u70b9\u4e4b\u95f4\u6709\u4e00\u4e2a\u660e\u663e\u7684\u5206\u754c\u3002<br>"
            ]
        },
        {
            "cell_type": "markdown",
            "metadata": {},
            "source": [
                "",
                "\n",
                "![](http://imgbed.momodel.cn/30_25_TL.png)"
            ]
        },
        {
            "cell_type": "markdown",
            "metadata": {},
            "source": [
                "\u5982\u679c\u6211\u4eec\u6ca1\u6709\u7c7b\u548c\u5c5e\u6027\u7684\u5173\u7cfb\u6570\u636e\u5e93\uff0c\u6211\u4eec\u53ef\u4ee5\u901a\u8fc7\u5355\u8bcd\u5d4c\u5165\uff0c\u5c06\u5c5e\u6027\u8f6c\u6362\u6210\u5355\u8bcd\u5411\u91cf\u3002"
            ]
        },
        {
            "cell_type": "markdown",
            "metadata": {},
            "source": [
                "",
                "\n",
                "![](http://imgbed.momodel.cn/30_27_TL.png)"
            ]
        },
        {
            "cell_type": "markdown",
            "metadata": {},
            "source": [
                "\u8bed\u4e49\u5d4c\u5165\u7684\u51f8\u7ed3\u5408\u662f\u5904\u7406\u96f6\u6837\u672c\u5b66\u4e60\u7684\u4e00\u4e2a\u66f4\u7b80\u5355\u7684\u65b9\u6cd5\uff0c\u5b83\u4e0d\u9700\u8981\u6211\u4eec\u6765\u8bad\u7ec3\u6a21\u578b\uff1b<br>\n",
                "\u6211\u4eec\u53ef\u4ee5\u6839\u636e\u539f\u6709\u7684\u6a21\u578b\u7684\u5f97\u5230\u4e00\u4e2a\u5206\u7c7b\u7684\u8f93\u51fa\u7ed3\u679c\uff0c\u518d\u5728\u5355\u8bcd\u5d4c\u5165\u7a7a\u95f4\u4e2d\u627e\u5230\u548c\u8f93\u51fa\u7ed3\u679c\uff08\u56fe\u4e2d\u7684\u9ed1\u8272\u70b9\uff09\u6700\u63a5\u8fd1\u7684\u4e00\u4e2a\u6570\u636e\u70b9\uff08liger \u70b9\uff09\u3002<br>\n",
                "\u8bba\u6587:https://arxiv.org/pdf/1312.5650v3.pdf"
            ]
        },
        {
            "cell_type": "markdown",
            "metadata": {},
            "source": [
                "",
                "\n",
                "![](http://imgbed.momodel.cn/30_28_TL.png)",
                "\n"
            ]
        },
        {
            "cell_type": "markdown",
            "metadata": {},
            "source": [
                "\u5f53\u6211\u4eec\u8981\u628a\u65e5\u6587\u7ffb\u8bd1\u6210\u97e9\u6587\u7684\u65f6\u5019\uff0c\u7531\u4e8e\u6211\u4eec\u6ca1\u6709\u65e5\u6587\u5230\u97e9\u6587\u7684\u6570\u636e\u6837\u672c\uff0c\u6211\u4eec\u9700\u8981\u4f7f\u7528\u96f6\u6837\u672c\u5b66\u4e60\u7684\u65b9\u6cd5\u6765\u89e3\u51b3\u8fd9\u4e2a\u95ee\u9898\u3002<br>\n",
                "\u7531\u4e8e\u6211\u4eec\u6709\u5c06\u82f1\u6587\u7ffb\u8bd1\u6210\u97e9\u6587\u3001\u82f1\u6587\u7ffb\u8bd1\u6210\u65e5\u6587\u7684\u4f8b\u5b50\uff0c\u6211\u4eec\u53ef\u4ee5\u5c06\u82f1\u6587\u3001\u65e5\u6587\u3001\u97e9\u6587\u90fd\u5bf9\u5e94\u5230\u4e00\u4e2a\u5c5e\u6027\u7684\u6837\u672c\u7a7a\u95f4\u4e0a\uff0c<br>\n",
                "\u56e0\u6b64\uff0c\u5373\u4f7f\u6ca1\u6709\u65e5\u6587\u5230\u97e9\u6587\u7684\u6570\u636e\u6837\u672c\uff0c\u6211\u4eec\u4e5f\u53ef\u4ee5\u5b9e\u73b0\u65e5\u6587\u5230\u97e9\u6587\u7684\u6587\u672c\u7ffb\u8bd1\u3002<br>"
            ]
        },
        {
            "cell_type": "markdown",
            "metadata": {},
            "source": [
                "![](http://imgbed.momodel.cn/30_29_TL.png)"
            ]
        },
        {
            "cell_type": "markdown",
            "metadata": {},
            "source": [
                "\n",
                "\u6839\u636e\u5b66\u4e60\u597d\u7684\u7f16\u7801\u5668\uff0c\u628a\u5404\u79cd\u8bed\u8a00\u7684\u8bcd\u6c47\u6620\u5c04\u5230\u7a7a\u95f4\u4e2d\u7684\u5411\u91cf\uff0c\u4f1a\u51fa\u73b0\u4e0a\u56fe\u7684\u7ed3\u679c\uff1a<br>\n",
                "\u4e0d\u540c\u989c\u8272\u4ee3\u8868\u4e0d\u540c\u8bed\u8a00\uff0c\u5904\u4e8e\u76f8\u540c\u4f4d\u7f6e\u7684\u4ee3\u8868\u610f\u4e49\u76f8\u540c\u3002<br>"
            ]
        },
        {
            "cell_type": "markdown",
            "metadata": {},
            "source": [
                "<br>"
            ]
        },
        {
            "cell_type": "markdown",
            "metadata": {},
            "source": [
                "### 7. \u81ea\u6211\u5b66\u4e60"
            ]
        },
        {
            "cell_type": "markdown",
            "metadata": {},
            "source": [
                "![](http://imgbed.momodel.cn/30_30_TL.png)"
            ]
        },
        {
            "cell_type": "markdown",
            "metadata": {},
            "source": [
                "\u81ea\u6211\u5b66\u4e60\u9002\u7528\u4e8e\u76ee\u6807\u6570\u636e\u5e26\u6807\u7b7e\u800c\u6e90\u6570\u636e\u4e0d\u5e26\u6807\u7b7e\u7684\u60c5\u51b5\u3002<br>\n",
                "\u81ea\u6211\u5b66\u4e60\u7684\u505a\u6cd5\u662f\uff0c\u5982\u679c\u73b0\u5728\u7684\u6e90\u6570\u636e\u8db3\u591f\u591a\u7684\uff0c\u53ef\u4ee5\u8bad\u7ec3\u5f97\u5230\u4e00\u4e2a\u7279\u5f81\u63d0\u53d6\u5668\uff0c<br>\n",
                "\u7136\u540e\u7528\u8fd9\u4e2a\u7279\u5f81\u63d0\u53d6\u5668\u5728\u76ee\u6807\u6570\u636e\u4e0a\u63d0\u53d6\u6570\u636e\u7279\u5f81\u3002<br>"
            ]
        },
        {
            "cell_type": "markdown",
            "metadata": {},
            "source": [
                "<br>"
            ]
        },
        {
            "cell_type": "markdown",
            "metadata": {},
            "source": [
                "### 8. \u603b\u7ed3"
            ]
        },
        {
            "cell_type": "markdown",
            "metadata": {},
            "source": [
                "\u672c\u7ae0\u4e3b\u8981\u4ecb\u7ecd\u4e86\u6a21\u578b\u5fae\u8c03\uff08Model Fine-tuning\uff09\u3001\u591a\u4efb\u52a1\u5b66\u4e60\uff08Multitask Learning\uff09\u3001\u9886\u57df\u5bf9\u6297\u8bad\u7ec3\uff08Domain-adversarial training\uff09\u3001\u96f6\u6837\u672c\u5b66\u4e60\uff08Zero-shot learning\uff09\u3001\u81ea\u6211\u5b66\u4e60\uff08Self-taught Learning\uff09\u7b49\u591a\u79cd\u8fc1\u79fb\u5b66\u4e60\u7684\u65b9\u6cd5\u53ca\u5176\u5177\u4f53\u7684\u9002\u7528\u60c5\u51b5\u3002\n"
            ]
        }
    ],
    "metadata": {
        "kernelspec": {
            "display_name": "Python 3",
            "language": "python",
            "name": "python3"
        },
        "language_info": {
            "codemirror_mode": {
                "name": "ipython",
                "version": 3
            },
            "file_extension": ".py",
            "mimetype": "text/x-python",
            "name": "python",
            "nbconvert_exporter": "python",
            "pygments_lexer": "ipython3",
            "version": "3.5.2"
        }
    },
    "nbformat": 4,
    "nbformat_minor": 2
}