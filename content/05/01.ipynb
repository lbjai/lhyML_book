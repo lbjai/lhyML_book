{
    "cells": [
        {
            "cell_type": "markdown",
            "metadata": {},
            "source": [
                "\n",
                "",
                "\n",
                "\n",
                "+ 1.\u5377\u79ef\u795e\u7ecf\u7f51\u7edc\uff08CNN\uff09\u7b80\u4ecb\n",
                "+ 2.CNN\u6a21\u578b\n",
                "+ 3.\u5728Keras\u4e2d\u5b9e\u73b0CNN\n",
                "+ 4.\u7406\u89e3CNN\u5b9e\u9645\u5728\u505a\u4ec0\u4e48\n",
                "+ 5.CNN\u7684\u4e00\u4e9b\u5e94\u7528"
            ]
        },
        {
            "cell_type": "markdown",
            "metadata": {},
            "source": [
                "### 1. CNN \u7b80\u4ecb\n",
                "\n",
                "",
                "\n"
            ]
        },
        {
            "cell_type": "markdown",
            "metadata": {},
            "source": [
                "#### 1.1 \u4e3a\u4ec0\u4e48\u4f7f\u7528\u5377\u79ef\u795e\u7ecf\u7f51\u7edc"
            ]
        },
        {
            "cell_type": "markdown",
            "metadata": {},
            "source": [
                "\u5178\u578b\u7684\u6df1\u5ea6\u5b66\u4e60\u6a21\u578b\u5c31\u662f\u5f88\u6df1\u7684\u795e\u7ecf\u7f51\u7edc\uff0c\u5305\u542b\u591a\u4e2a\u9690\u542b\u5c42\uff0c\u591a\u9690\u542b\u5c42\u7684\u795e\u7ecf\u7f51\u7edc\u5f88\u96be\u76f4\u63a5\u4f7f\u7528BP\u7b97\u6cd5\u8fdb\u884c\u76f4\u63a5\u8bad\u7ec3\u3002\n",
                "\n",
                "\u56e0\u4e3a\u53cd\u5411\u4f20\u64ad\u8bef\u5dee\u662f\u5f80\u5f80\u4f1a\u53d1\u6563\uff0c\u5f88\u96be\u6536\u655b\u3002\n",
                "\n",
                "\u4e3a\u4ec0\u4e48\u4f7f\u7528\u5377\u79ef\u795e\u7ecf\u7f51\u7edc\u5904\u7406\u56fe\u50cf\u95ee\u9898\uff1a\n",
                "  + \u4f7f\u7528\u6bd4\u6574\u4e2a\u56fe\u7247\u5c0f\u5f88\u591a\u7684\u56fe\u6848\n",
                "  <br>\u901a\u5e38\u4e00\u4e2a\u795e\u7ecf\u5143\u4e0d\u9700\u8981\u901a\u8fc7\u6574\u4e2a\u56fe\u7247\u6765\u53d1\u73b0\u4e00\u4e9b\u56fe\u6848\uff1b\n",
                "  <br>\u5373\u795e\u7ecf\u5143\u53ea\u9700\u8981\u9009\u53d6\u4e00\u4e9b\u7279\u5f81\u56fe\u6848\u5c31\u53ef\u505a\u51fa\u5224\u65ad\uff0c\u5982\u901a\u8fc7\u5224\u65ad\u9e1f\u5634\u6765\u5206\u7c7b\u9e1f\uff0c\u800c\u4e0d\u662f\u4f7f\u7528\u9e1f\u7684\u6574\u5f20\u56fe\u7247\u3002\n",
                "\n",
                "![](http://imgbed.momodel.cn/21-1 \u4e0e\u66f4\u5c0f\u7684\u533a\u57df\u8fde\u63a5.png)"
            ]
        },
        {
            "cell_type": "markdown",
            "metadata": {},
            "source": [
                "  + \u76f8\u540c\u7684\u56fe\u6848\u51fa\u73b0\u5728\u4e0d\u540c\u7684\u5730\u533a\n",
                "  <br>\u5bf9\u6574\u5f20\u56fe\u7247\u4e2d\u4e0d\u540c\u4f4d\u7f6e\u7684\u76f8\u540c\u56fe\u6848\u8fdb\u884c\u63d0\u53d6\uff0c\u5e76\u4e14\u53ef\u4ee5\u4f7f\u7528\u76f8\u540c\u7684\u53c2\u6570\u8bbe\u7f6e\u8fdb\u884c\u8bad\u7ec3\u3002\n",
                "  <br>\u5982\u4e0b\u56fe\uff0c\u4e0d\u540c\u4f4d\u7f6e\u7684\u9e1f\u5634\uff0c\u4e0d\u7528\u5206\u522b\u8bbe\u7f6e detector \u5904\u7406\uff0c\u76f4\u63a5\u4f7f\u7528\u76f8\u540c\u53c2\u6570\u76f8\u540c detector\uff08\u4e0b\u6587\u8be6\u89e3\uff09\u3002\n",
                "\n",
                "![](http://imgbed.momodel.cn/21-2 \u51fa\u73b0\u5728\u4e0d\u540c\u7684\u533a\u57df.png)"
            ]
        },
        {
            "cell_type": "markdown",
            "metadata": {},
            "source": [
                "  + \u5bf9\u50cf\u7d20\u8fdb\u884c\u4e8c\u6b21\u91c7\u6837\u4e0d\u4f1a\u66f4\u6539\u5bf9\u8c61\n",
                "\u3000<br>\u4e8c\u6b21\u91c7\u7528\u53ef\u4ee5\u51cf\u5c0f\u56fe\u7247\u5c3a\u5bf8\uff0c\u4f46\u4e0d\u6539\u53d8\u56fe\u50cf\u4e2d\u7279\u5f81\u56fe\u6848\uff0c\u5373\u5bf9\u8bad\u7ec3\u7ed3\u679c\u6ca1\u6709\u5f71\u54cd\u3002<br>\n",
                "![](http://imgbed.momodel.cn/21-3 \u4e8c\u6b21\u91c7\u6837\u4e0d\u5f71\u54cd.png)"
            ]
        },
        {
            "cell_type": "markdown",
            "metadata": {},
            "source": [
                "#### 1.2 \u6574\u4e2a CNN \u6a21\u578b\u67b6\u6784\n"
            ]
        },
        {
            "cell_type": "markdown",
            "metadata": {},
            "source": [
                "\n",
                "![](http://imgbed.momodel.cn/21-4 \u6574\u4e2aCNN.png)",
                "\n",
                "CNN \u6a21\u578b\u4e2d\u56fe\u50cf\u5904\u7406\u5177\u6709\u4ee5\u4e0b\u6027\u8d28\uff1a\n",
                "\n",
                "\u6027\u8d281\uff1a\u4f7f\u7528\u6bd4\u6574\u4e2a\u56fe\u7247\u5c0f\u5f88\u591a\u7684\u56fe\u6848\n",
                "\n",
                "\u6027\u8d282\uff1a\u80fd\u591f\u5904\u7406\u4e0d\u540c\u533a\u57df\u76f8\u540c\u7684\u56fe\u6848\n",
                "\n",
                "\u6027\u8d283\uff1a \u5bf9\u50cf\u7d20\u8fdb\u884c\u4e8c\u6b21\u91c7\u6837\u4e0d\u4f1a\u66f4\u6539\u5bf9\u8c61\n",
                "\n",
                "\u6027\u8d281\u548c2\u4f7f\u7528\u5377\u79ef\u64cd\u4f5c\u5b9e\u73b0\uff0c\u6027\u8d283\u4f7f\u7528\u6700\u5927\u6c60\u5316\u64cd\u4f5c\u5b9e\u73b0\u3002\n",
                "\n",
                "![](http://imgbed.momodel.cn/21-5 \u6574\u4e2acnn2.png)"
            ]
        },
        {
            "cell_type": "markdown",
            "metadata": {},
            "source": [
                "<br>"
            ]
        },
        {
            "cell_type": "markdown",
            "metadata": {},
            "source": [
                "<br>"
            ]
        },
        {
            "cell_type": "markdown",
            "metadata": {},
            "source": [
                "### 2. \u5377\u79ef\u795e\u7ecf\u7f51\u7edc\u4e3b\u8981\u5185\u5bb9\n",
                ""
            ]
        },
        {
            "cell_type": "markdown",
            "metadata": {},
            "source": [
                "#### 2.1 \u5377\u79ef\u64cd\u4f5c"
            ]
        },
        {
            "cell_type": "markdown",
            "metadata": {},
            "source": [
                "   \u5377\u79ef\u8fc7\u7a0b\u5982\u4e0b\u3002\u9996\u5148\uff0c\u5c06\u8fc7\u6ee4\u5668\u53e0\u52a0\u5728\u56fe\u50cf\u6570\u7ec4\u7684\u5de6\u4e0a\u90e8\u3002\n",
                "   \n",
                "   \u63a5\u4e0b\u6765\uff0c\u5bf9\u8fc7\u6ee4\u5668\u53ca\u5176\u76ee\u524d\u6240\u5728\u7684\u56fe\u50cf\u5b50\u90e8\u5206\u6267\u884c\u5bf9\u5e94\u5143\u7d20\u4e58\u79ef\u3002\n",
                "   \n",
                "   \u4e5f\u5c31\u662f\u8bf4\uff0c\u5c06\u8fc7\u6ee4\u5668\u7684\u5de6\u4e0a\u90e8\u5143\u7d20\u4e0e\u56fe\u50cf\u7684\u5de6\u4e0a\u90e8\u5143\u7d20\u76f8\u4e58\uff0c\u4f9d\u6b64\u7c7b\u63a8\u3002\n",
                "   \n",
                "   \u7136\u540e\uff0c\u5c06\u8fd9\u4e9b\u7ed3\u679c\u76f8\u52a0\u6765\u751f\u6210\u4e00\u4e2a\u503c\u3002\u63a5\u7740\uff0c\u5c06\u8fc7\u6ee4\u5668\u5728\u56fe\u50cf\u4e0a\u79fb\u52a8\u4e00\u6bb5\u8ddd\u79bb\uff08\u79f0\u4e3a\u6b65\u5e45\uff09\uff0c\u5e76\u91cd\u590d\u8be5\u8fc7\u7a0b\u3002"
            ]
        },
        {
            "cell_type": "markdown",
            "metadata": {},
            "source": [
                "\n",
                "![](http://imgbed.momodel.cn/21-6 \u5377\u79ef\u64cd\u4f5c.png)",
                "\n",
                "\u5377\u79ef\u6838\uff08\u4e5f\u53eb\u8fc7\u6ee4\u5668\uff09\uff1a Filter1\uff0cFilter2\uff0c$...$\uff1b\u9700\u8981\u4e00\u4e2a\u4eba\u4e3a\u8bbe\u8ba1\u5377\u79ef\u6838\u7684\u5927\u5c0f\u548c\u4e2a\u6570, \u8fd9\u91cc\u5927\u5c0f\u662f\u4e00\u4e2a 3X3 \u7684\u77e9\u9635\u3002\n",
                "<br>\u56e0\u4e3a\u4f7f\u7528\u5377\u79ef\u64cd\u4f5c\u53ef\u4ee5\u5c06\u56fe\u7247\u7684\u5c40\u90e8\u7279\u6027\u63d0\u53d6\u51fa\u6765\uff0c\u6240\u4ee5\u5b9e\u73b0\u4e86\u6027\u8d281\uff0c\u4f7f\u7528\u6bd4\u56fe\u50cf\u5c0f\u7684\u7279\u5f81\u56fe\u6848\u3002"
            ]
        },
        {
            "cell_type": "markdown",
            "metadata": {},
            "source": [
                "\u786e\u5b9a\u5377\u79ef\u64cd\u4f5c\u7684\u6b65\u957f stride\uff1a<br>\n",
                "stride=1\uff08\u6bcf\u6b21\u64cd\u4f5c\u5411\u53f3\u79fb\u52a8\u4e00\u5217\uff09\uff1a\n",
                "\n",
                "![](http://imgbed.momodel.cn/21-7 \u786e\u5b9a\u5377\u79ef\u64cd\u4f5c\u7684\u6b65\u957f.png)",
                "\n",
                "stride=2\uff08\u6bcf\u6b21\u64cd\u4f5c\u5411\u53f3\u79fb\u52a8\u4e24\u5217\uff09\uff1a\n",
                "\n",
                "\n",
                "![](http://imgbed.momodel.cn/21-8 \u6b65\u957f2.png)",
                "<br>\n",
                "![ZUl7DO.gif](https://s2.ax1x.com/2019/07/04/ZUl7DO.gif)"
            ]
        },
        {
            "cell_type": "markdown",
            "metadata": {},
            "source": [
                "\u4f7f\u7528\u5377\u79ef\u64cd\u4f5c\u63d0\u53d6\u56fe\u50cf\u7684\u7279\u5f81\uff0c\u56e0\u4e3a\u5377\u79ef\u6838\u626b\u63cf\u6574\u4e2a\u56fe\u50cf,\u6240\u4ee5\u5728\u4e0d\u540c\u533a\u57df\u7684\u7279\u5f81\u56fe\u6848\u90fd\u4f1a\u88ab\u63d0\u53d6\u5230\uff0c\u8fd9\u4e5f\u662f\u6027\u8d28\uff12\u7684\u5b9e\u73b0\u3002\n",
                "\n",
                "\n",
                "![](http://imgbed.momodel.cn/21-9 \u89e3\u51b3\u6027\u8d282.png)"
            ]
        },
        {
            "cell_type": "markdown",
            "metadata": {},
            "source": [
                "\u7279\u5f81\u56fe\u8c31\uff1a\n",
                "\u91c7\u7528\u4e0d\u540c\u7684\u8fc7\u6ee4\u5668\uff0c\u5f97\u5230\u4e0d\u540c\u7684\u7279\u5f81\u56fe\u8c31\u3002"
            ]
        },
        {
            "cell_type": "markdown",
            "metadata": {},
            "source": [
                "**\u725b\u5200\u5c0f\u8bd5**\n",
                "\n",
                "\u5377\u79ef\u795e\u7ecf\u7f51\u7edc\u4e2d\uff0c\u56fe\u50cf\u77e9\u9635\u5927\u5c0f\u4e3a5x5x1\uff0c\u5377\u79ef\u6838\u5927\u5c0f\u4e3a3x3\uff0c\u6b65\u957f\u5927\u5c0f\u4e3a1\uff0c\u8bf7\u95ee\u505a\u4e86\u591a\u5c11\u6b21\u5377\u79ef\u64cd\u4f5c\uff1f"
            ]
        },
        {
            "cell_type": "markdown",
            "metadata": {},
            "source": [
                "<span class='md-hint-alone-link pop 0'>\u67e5\u770b\u7b54\u6848</span>"
            ]
        },
        {
            "cell_type": "markdown",
            "metadata": {},
            "source": [
                "#### 2.2 \u5bf9\u5f69\u8272\u56fe\u7247\u4f5c\u5377\u79ef"
            ]
        },
        {
            "cell_type": "markdown",
            "metadata": {},
            "source": [
                "\u56fe\u50cf\u662f\u4e00\u79cd\u4e8c\u9636\u6216\u4e09\u9636\u5b57\u8282\u6570\u7ec4\uff0c\u4e8c\u9636\u6570\u7ec4\u5305\u542b\u5bbd\u5ea6\u548c\u9ad8\u5ea6\u4e24\u4e2a\u7ef4\u5ea6\uff0c\u4e09\u9636\u6570\u7ec4\u6709 3 \u4e2a\u7ef4\u5ea6\uff0c\u5305\u62ec\u5bbd\u5ea6\u3001\u9ad8\u5ea6\u548c\u591a\u4e2a\u901a\u9053\u3002\n",
                "\n",
                "\u6240\u4ee5\u7070\u9636\u56fe\u662f\u4e8c\u9636\u7684\uff0c\u800c RGB \u56fe(\u5f69\u8272\u56fe\u7247)\u662f\u4e09\u9636\u7684\uff08\u5305\u542b 3 \u4e2a\u901a\u9053\uff09\u3002\n",
                "\n",
                "\u90a3\u4e48\u5bf9\u5e94\u7684\u5377\u79ef\u6838\u5c31\u8981\u8bbe\u8ba1\u6210\u4e00\u4e2a\u4e09\u7ef4\u77e9\u9635, \u8fd9\u4e5f\u662f\u548c\u4e0a\u9762\u7070\u9636\u56fe\u4f5c\u5377\u79ef\u4e0d\u540c\u7684\u5730\u65b9\u3002\n",
                "<br>\n",
                "![](https://s2.ax1x.com/2019/07/04/ZUYzxs.png)"
            ]
        },
        {
            "cell_type": "markdown",
            "metadata": {},
            "source": [
                "#### 2.3 \u5377\u79ef\u548c\u5168\u8fde\u63a5\u5bf9\u6bd4\n",
                ""
            ]
        },
        {
            "cell_type": "markdown",
            "metadata": {},
            "source": [
                "\n",
                "![](http://imgbed.momodel.cn/21-12 \u5377\u79ef\u548c\u5168\u8fde\u63a5\u7684\u5bf9\u6bd4.png)"
            ]
        },
        {
            "cell_type": "markdown",
            "metadata": {},
            "source": [
                "\u66f4\u5c11\u7684\u53c2\u6570\uff1a\u8fc7\u6ee4\u5668\u4e2d\u7684\u6bcf\u4e2a\u53c2\u6570\uff0c\u4ec5\u4ec5\u8fde\u63a5\u52309\u4e2a\u8f93\u5165\uff0c\u800c\u4e0d\u662f\u5168\u8fde\u63a5\u3002\n",
                "\n",
                "![](http://imgbed.momodel.cn/21-13 \u66f4\u5c11\u7684\u53c2\u6570.png)"
            ]
        },
        {
            "cell_type": "markdown",
            "metadata": {},
            "source": [
                "\u6743\u503c\u5171\u4eab\uff1a\u6bcf\u6b21\u5377\u79ef\u64cd\u4f5c\u4f7f\u7528\u76f8\u540c\u7684\u5377\u79ef\u6838\uff0c\u5b9e\u73b0\u4e86\u6743\u503c\u5171\u4eab\u3002\n",
                "\n",
                "![](http://imgbed.momodel.cn/21-14 \u6743\u503c\u5171\u4eab.png)",
                "\n"
            ]
        },
        {
            "cell_type": "markdown",
            "metadata": {},
            "source": [
                "**\u725b\u5200\u5c0f\u8bd5**\n",
                "\n",
                "\u601d\u8003\u6743\u503c\u5171\u4eab\u7684\u4f5c\u7528\u3002"
            ]
        },
        {
            "cell_type": "markdown",
            "metadata": {},
            "source": [
                "<span class='md-hint-alone-link pop 1'>\u67e5\u770b\u7b54\u6848</span>"
            ]
        },
        {
            "cell_type": "markdown",
            "metadata": {},
            "source": [
                "#### 2.2 \u6700\u5927\u6c60\u5316\n",
                ""
            ]
        },
        {
            "cell_type": "markdown",
            "metadata": {},
            "source": [
                "\u53d6\u6bcf\u4e2a\u6c60\u5316\u533a\u57df\u7684\u6700\u5927\u503c\uff1a\n",
                "    \n",
                "![](http://imgbed.momodel.cn/21-15 \u6700\u5927\u6c60\u5316.png)",
                "\n",
                "\u6700\u7ec8\u5f97\u5230\u4e00\u4e2a 2X2 \u7684\u7ed3\u679c\uff1a\n",
                "\n",
                "\n",
                "![](http://imgbed.momodel.cn/21-16 \u6c60\u5316\u7ed3\u679c.png)",
                "\n",
                "\u5f97\u5230\u7684\u65b0\u7684\u56fe\u7247\u66f4\u5c0f\uff0c\u6bcf\u4e00\u4e2a\u8fc7\u6ee4\u5668\u4ee3\u8868\u4e00\u4e2a\u901a\u9053\u3002"
            ]
        },
        {
            "cell_type": "markdown",
            "metadata": {},
            "source": [
                "\u7ecf\u8fc7\u5377\u79ef\u548c\u6c60\u5316\u64cd\u4f5c\u4e4b\u540e\u5f97\u5230\u7684\u56fe\u7247\u6bd4\u539f\u56fe\u7247\u66f4\u5c0f\uff1b\u901a\u9053\u7684\u6570\u91cf\u548c\u5377\u79ef\u6838\u7684\u6570\u91cf\u76f8\u540c\u3002 \n",
                "\n",
                "![](http://imgbed.momodel.cn/21-17 \u6c60\u5316\u7684\u6548\u679c.png)"
            ]
        },
        {
            "cell_type": "markdown",
            "metadata": {},
            "source": [
                "**\u725b\u5200\u5c0f\u8bd5**\n",
                "\n",
                "\u5e38\u89c1\u7684\u6c60\u5316\u64cd\u4f5c\u6709\u54ea\u4e9b\uff1f"
            ]
        },
        {
            "cell_type": "markdown",
            "metadata": {},
            "source": [
                "<span class='md-hint-alone-link pop 2'>\u67e5\u770b\u7b54\u6848</span>"
            ]
        },
        {
            "cell_type": "markdown",
            "metadata": {},
            "source": [
                "#### 2.3 Flatten"
            ]
        },
        {
            "cell_type": "markdown",
            "metadata": {},
            "source": [
                "\u7ecf\u8fc7\u4e00\u4e9b\u5217\u7684\u5377\u79ef\u548c\u6c60\u5316\u64cd\u4f5c\u4e4b\u540e\uff0c\u6211\u4eec\u9700\u8981\u5c06\u5f97\u5230\u7684\u56fe\u7247\u5e73\u5c55\u5f00\u6765\uff0c\u7ecf\u8fc7\u6700\u540e\u4e00\u5c42\u7684\u5168\u8fde\u63a5\u5c42\u8fbe\u5230\u6700\u7ec8\u7684\u8f93\u51fa\u7ed3\u679c\u3002\n",
                "\n",
                "![](http://imgbed.momodel.cn/21-18 \u5e73\u94fa.png)"
            ]
        },
        {
            "cell_type": "markdown",
            "metadata": {},
            "source": [
                "<br>"
            ]
        },
        {
            "cell_type": "markdown",
            "metadata": {},
            "source": [
                "### 3. \u5728 Keras \u4e2d\u5b9e\u73b0 CNN\n",
                "\n",
                ""
            ]
        },
        {
            "cell_type": "markdown",
            "metadata": {},
            "source": [
                "\u5728 Keras \u4e2d\uff0c\u6211\u4eec\u53ea\u9700\u8981\u4fee\u6539\u7f51\u7edc\u7684\u7ed3\u6784\u548c\u8f93\u5165\u7684\u5f62\u5f0f\u3002\n",
                "\n",
                "![](http://imgbed.momodel.cn/21-19 \u5728keras\u4e2d\u5b9e\u73b0CNN.png)",
                "\n",
                "\u5982\u56fe\uff0c\u6211\u4eec\u670925\u4e2a 3X3 \u7684\u8fc7\u6ee4\u5668\uff0c\u8f93\u5165\u7684 shape \u4e3a\uff0828,28,1\uff09\uff1a\n",
                "\n",
                "\u5f53\u4e3a\u9ed1\u767d\u56fe\u50cf\u65f6\uff0c\u6700\u540e\u4e00\u4f4d\u4e3a1\uff1b\u5f53\u4e3a\u5f69\u8272\u56fe\u7247\u65f6\uff0c\u6700\u540e\u4e00\u4f4d\u4e3a3\u3002\n",
                "\n",
                "\u5de6\u4e0b\u89d2\u4f7f\u7528\u6700\u5927\u6c60\u5316\u64cd\u4f5c\uff0c\u6c60\u5316\u7684\u7ed3\u679c\u4e3a\u4e00\u4e2a\u5355\u72ec\u7684\u50cf\u7d20\u503c3\u3002"
            ]
        },
        {
            "cell_type": "markdown",
            "metadata": {},
            "source": [
                "\u6bcf\u4e00\u4e2a\u5377\u79ef\u5c42\u4e2d\uff0c\u6bcf\u4e2a\u6ee4\u6ce2\u5668\u6240\u5305\u542b\u7684\u53c2\u6570\u7684\u591a\u5c11\uff1a\n",
                "\n",
                "![](http://imgbed.momodel.cn/21-20 keras\u4e2d\u7684cnn2.png)",
                "\n",
                "\u7b2c\u4e00\u4e2a\u5377\u79ef\u5c42\u4e3a\u5355\u901a\u9053\uff0c\u6bcf\u4e00\u4e2a\u901a\u9053\u7684\u5377\u79ef\u6838\u7684\u5927\u5c0f\u4e3a 3X3\uff0c\u6bcf\u4e2a\u8fc7\u6ee4\u5668\u5305\u542b\u7684\u53c2\u6570\u7684\u4e2a\u6570\u4e3a9\u3002\n",
                "\n",
                "\u7b2c\u4e8c\u4e2a\u5377\u79ef\u5c42\u670925\u4e2a\u901a\u9053\uff0c\u6bcf\u4e00\u4e2a\u901a\u9053\u7684\u5377\u79ef\u6838\u7684\u5927\u5c0f\u4e3a 3X3\uff0c\u6bcf\u4e2a\u8fc7\u6ee4\u5668\u5305\u542b\u7684\u53c2\u6570\u7684\u4e2a\u6570\u4e3a225\u3002"
            ]
        },
        {
            "cell_type": "markdown",
            "metadata": {},
            "source": [
                "**\u5168\u8fde\u63a5\u5c42\uff1a**\n",
                "\n",
                "\u7ecf\u8fc7\u5377\u79ef\u548c\u6c60\u5316\u64cd\u4f5c\u4e4b\u540e\uff0c\u5c06\u7279\u5f81\u56fe\u50cf\u5e73\u94fa\uff0c\u5e76\u6dfb\u52a0\u4e24\u4e2a\u5168\u8fde\u63a5\u5c42\uff0c\u5f97\u5230\u6700\u7ec8\u7684\u8f93\u51fa\u7ed3\u679c\u3002\n",
                "\n",
                "![](http://imgbed.momodel.cn/21-21 keras\u4e2d\u7684\u5168\u8fde\u63a5\u5c42.png)"
            ]
        },
        {
            "cell_type": "markdown",
            "metadata": {},
            "source": [
                "<br>"
            ]
        },
        {
            "cell_type": "markdown",
            "metadata": {},
            "source": [
                "### 4. CNN \u5b9e\u9645\u5728\u505a\u4ec0\u4e48\n",
                ""
            ]
        },
        {
            "cell_type": "markdown",
            "metadata": {},
            "source": [
                "\u5b9e\u9645\u4e0a\uff0c\u673a\u5668\u53ef\u80fd\u4e0d\u4f1a\u8bc6\u522b\u8fd9\u662f\u4e00\u53cc\u978b\u5b50\uff0c\u800c\u662f\u4e00\u5934\u7f8e\u6d32\u72ee\u3002\n",
                "\n",
                "![](http://imgbed.momodel.cn/21-22 \u7f8e\u6d32\u72ee.png)"
            ]
        },
        {
            "cell_type": "markdown",
            "metadata": {},
            "source": [
                "#### 4.1 \u7b2c\u4e00\u4e2a\u5377\u79ef\u5c42\n",
                ""
            ]
        },
        {
            "cell_type": "markdown",
            "metadata": {},
            "source": [
                "AlexNet \u7f51\u7edc\u4e2d\u7b2c\u4e00\u4e2a\u5377\u79ef\u5c42\u7684\u8fc7\u6ee4\u5668\u7684\u53ef\u89c6\u5316\u7ed3\u679c\uff1a\n",
                "\n",
                "![](http://imgbed.momodel.cn/21-23 \u7b2c\u4e00\u4e2a\u5377\u79ef\u5c42.png)"
            ]
        },
        {
            "cell_type": "markdown",
            "metadata": {},
            "source": [
                "#### 4.2 \u66f4\u9ad8\u7684\u5377\u79ef\u5c42\n",
                "",
                "  \n",
                "  + \u54ea\u5f20\u56fe\u7247\u4f1a\u4f7f\u4e00\u4e2a\u7279\u5b9a\u7684\u795e\u7ecf\u5143\u6d3b\u8dc3\n",
                "  \n",
                "  \n",
                "![](http://imgbed.momodel.cn/21-24 \u54ea\u5f20\u56fe\u7247\u66f4\u6d3b\u8dc3.png)",
                "\n",
                "\n",
                "\u53d6\u51fa\u4e00\u4e2a\u7279\u5b9a\u7684\u795e\u7ecf\u5143\u548c\u76f8\u5e94\u7684\u8fc7\u6ee4\u5668\uff0c\u5c06\u56fe\u7247\u7ecf\u8fc7CNN\u7f51\u7edc\u7684\u8bad\u7ec3\u4ece\u8be5\u8fc7\u6ee4\u5668\u8f93\u51fa\uff1b\n",
                "\n",
                "\u89c2\u5bdf\u8f93\u51fa\u7684\u7ed3\u679c\uff0c\u53ef\u4ee5\u5224\u65ad\u8be5\u795e\u7ecf\u5143\u7a76\u7adf\u5728\u5e72\u4ec0\u4e48\u3002"
            ]
        },
        {
            "cell_type": "markdown",
            "metadata": {},
            "source": [
                "\u7b2ck\u4e2a\u6ee4\u6ce2\u5668\u7684\u8f93\u51fa\u662f 11X11 \u77e9\u9635\uff0c\u7b2ck\u4e2a\u6ee4\u6ce2\u5668\u7684\u6d3b\u8dc3\u7a0b\u5ea6\uff1a\n",
                "\n",
                "$a^k=\\sum_{i=1}^{11} \\sum_{j=1}^{11} a^{k}_{ij} $\n",
                "\n",
                "<font size=4>$x^* = arg$ $ \\smash{\\displaystyle\\max_{x}}a^k$ <font>(gradient descent)\n",
                "\n",
                "$\\frac{\\partial a^k}{\\partial x_{ij}}$\uff0c\u6211\u4eec\u901a\u8fc7\u68af\u5ea6\u4e0b\u964d\u7684\u65b9\u6cd5\u627e\u5230\u4f7f $a^k$ \u6700\u5927\u7684 $x$\u3002\n",
                "\n",
                "\n",
                "![](http://imgbed.momodel.cn/21-25 \u68af\u5ea6\u4e0b\u964d\u7684\u65b9\u6cd5.png)"
            ]
        },
        {
            "cell_type": "markdown",
            "metadata": {},
            "source": [
                "\u5982\u56fe\uff0c\u662f\u5bf9\u7b2c\u4e8c\u4e2a\u5377\u79ef\u5c42\u7684\u524d12\u4e2a\u5377\u79ef\u6838\u6c42\u51fa\u7684\u4f7f $a^k$ \u6700\u5927\u5bf9\u5e94\u7684 $x$ \u56fe\u50cf\u3002\n",
                "\n",
                "![](http://imgbed.momodel.cn/21-26 \u6700\u7ec8\u7684\u7ed3\u679c.png)"
            ]
        },
        {
            "cell_type": "markdown",
            "metadata": {},
            "source": [
                "#### 4.3 \u5168\u8fde\u63a5\u5c42\n",
                ""
            ]
        },
        {
            "cell_type": "markdown",
            "metadata": {},
            "source": [
                "\u5bf9\u4e8e\u5168\u8fde\u63a5\u5c42\uff0c\u6211\u4eec\u53ef\u4ee5\u4f7f\u7528\u4e0e\u5377\u79ef\u5c42\u76f8\u540c\u7684\u65b9\u6cd5\uff0c\u627e\u5230\u54ea\u4e00\u5f20\u56fe\u7247\u4f7f\u8be5\u795e\u7ecf\u5143\u7684\u6fc0\u6d3b\u7a0b\u5ea6\u6700\u5927\u3002\n",
                "\n",
                "\n",
                "![](http://imgbed.momodel.cn/21-27 \u5168\u8fde\u63a5\u5c42.png)",
                "\n",
                "\u4e0a\u56fe\u5c55\u793a\u4e86\u524d\u4e5d\u4e2a\u795e\u7ecf\u5143\u5bf9\u5e94\u7684\u7ed3\u679c\u3002"
            ]
        },
        {
            "cell_type": "markdown",
            "metadata": {},
            "source": [
                "#### 4.4 \u6700\u540e\u4e00\u5c42\n",
                ""
            ]
        },
        {
            "cell_type": "markdown",
            "metadata": {},
            "source": [
                "\u7c7b\u4f3c\u4e0a\u8ff0\u5904\u7406\u5f97\u5230\u7684 $x$\u3002\n",
                "\n",
                "![](http://imgbed.momodel.cn/21-28 \u6700\u540e\u4e00\u5c42.png)"
            ]
        },
        {
            "cell_type": "markdown",
            "metadata": {},
            "source": [
                "\u56fe\u7247\u53ef\u89c6\u5316\u7ed3\u679c\u7684\u6539\u826f\uff1a\n",
                "\n",
                "\n",
                "![](http://imgbed.momodel.cn/21-29 regularization.png)"
            ]
        },
        {
            "cell_type": "markdown",
            "metadata": {},
            "source": [
                "\u5f69\u8272\u56fe\u7247\u5f97\u5230\u7684\u7ed3\u679c\uff1a\n",
                "\n",
                "![](http://imgbed.momodel.cn/21-30 \u5f69\u8272\u56fe\u7247\u5904\u7406\u7684\u7ed3\u679c.png)"
            ]
        },
        {
            "cell_type": "markdown",
            "metadata": {},
            "source": [
                "\u5224\u65ad\u67d0\u4e9b\u50cf\u7d20\u70b9\u5bf9\u5206\u7c7b\u5f71\u54cd\u7684\u5927\u5c0f\uff1a\n",
                "\n",
                "\u901a\u8fc7\u5fae\u5206\u7684\u5927\u5c0f\u5224\u65ad\u67d0\u4e9b\u50cf\u7d20\u70b9\u7684\u5f71\u54cd\u5927\u5c0f\uff1a\n",
                "\n",
                "![](http://imgbed.momodel.cn/21-31 \u5224\u65ad\u67d0\u4e9bpixel\u5bf9\u5206\u7c7b\u7684\u5f71\u54cd.png)",
                "\n",
                "\u901a\u8fc7\u5c06\u67d0\u4e00\u90e8\u5206\u906e\u4f4f\uff0c\u5224\u65ad\u8be5\u533a\u57df\u5bf9\u6700\u7ec8\u5206\u7c7b\u7684\u5f71\u54cd\uff1a\n",
                "\n",
                "![](http://imgbed.momodel.cn/21-32 \u5f71\u54cd\u5927\u5c0f.png)",
                "\n",
                "\n",
                "![](http://imgbed.momodel.cn/21-33 \u906e\u4f4f\u4e00\u4e9b\u90e8\u5206.png)"
            ]
        },
        {
            "cell_type": "markdown",
            "metadata": {},
            "source": [
                "<br>"
            ]
        },
        {
            "cell_type": "markdown",
            "metadata": {},
            "source": [
                "### 5. CNN \u7684\u5e94\u7528\n",
                ""
            ]
        },
        {
            "cell_type": "markdown",
            "metadata": {},
            "source": [
                "#### 5.1 Deep Dream"
            ]
        },
        {
            "cell_type": "markdown",
            "metadata": {},
            "source": [
                "\n",
                "![](http://imgbed.momodel.cn/21-34 Deep Dream.png)",
                "\n",
                "\u5c06\u5f97\u5230\u7684\u7ed3\u679c\u5938\u5f20\u5316\uff1a\n",
                "\n",
                "\n",
                "![](http://imgbed.momodel.cn/21-35 \u5f97\u5230\u7684\u7ed3\u679c\u5938\u5f20\u5316.png)",
                "\n",
                "\u53c2\u8003\u7f51\u5740\uff1a<font size=4>http://deepdreamgenerator.com/<font>"
            ]
        },
        {
            "cell_type": "markdown",
            "metadata": {},
            "source": [
                "#### 5.2 Deep Style"
            ]
        },
        {
            "cell_type": "markdown",
            "metadata": {},
            "source": [
                "\u98ce\u683c\u8fc1\u79fb\uff1a\n",
                "\n",
                "![](http://imgbed.momodel.cn/21-36 \u98ce\u683c\u8fc1\u79fb.png)",
                "\n",
                "\u7ed3\u679c\uff1a\n",
                "\n",
                "![](http://imgbed.momodel.cn/21-37 \u98ce\u683c\u8fc1\u79fb\u7ed3\u679c.png)",
                "\n",
                "\n",
                "\n",
                "\u53c2\u8003\u7f51\u5740\uff1a<font size=1>https://dreamscopeapp.com/<font>"
            ]
        },
        {
            "cell_type": "markdown",
            "metadata": {},
            "source": [
                "\u539f\u7406\uff1a\n",
                "\n",
                "\u5c06\u5de6\u53f3\u4e24\u5f20\u56fe\u7247\u5206\u522b\u5377\u79ef\u5f97\u5230\u4ed6\u4eec\u7684\u5185\u5bb9\u548c\u98ce\u683c\uff0c\u5728\u627e\u51fa\u4e00\u5f20\u56fe\u7247\uff0c\u4f7f\u5176\u5185\u5bb9\u4e0e\u5de6\u8fb9\u7684\u76f8\u4f3c\uff0c\u98ce\u683c\u4e0e\u53f3\u8fb9\u7684\u76f8\u4f3c\u3002\n",
                "\n",
                "![](http://imgbed.momodel.cn/21-38 \u8fc1\u79fb\u7684\u539f\u7406.png)"
            ]
        },
        {
            "cell_type": "markdown",
            "metadata": {},
            "source": [
                "#### 5.3 CNN \u7f51\u7edc\u66f4\u591a\u5e94\u7528"
            ]
        },
        {
            "cell_type": "markdown",
            "metadata": {},
            "source": [
                "\n",
                "![](http://imgbed.momodel.cn/21-39 \u66f4\u591a\u7684\u5e94\u7528.png)",
                "\n",
                "\u4f7f\u7528 CNN \u7f51\u7edc\u80fd\u5c06\u68cb\u76d8\u5f53\u505a\u56fe\u7247\u6765\u5904\u7406\uff0c\u800c\u4e0d\u662f\u4e00\u4e2a 19X19 \u7684\u5411\u91cf\u3002"
            ]
        },
        {
            "cell_type": "markdown",
            "metadata": {},
            "source": [
                "\u8bad\u7ec3\u8fc7\u7a0b\u5c31\u662f\u8f93\u5165\u4ee5\u524d\u4e0b\u8fc7\u7684\u68cb\u8c31\uff0c\u5f97\u5230\u4e0b\u4e00\u6b65\u7684\u843d\u5b50\u4f4d\u7f6e\u3002\n",
                "\n",
                "\n",
                "![](http://imgbed.momodel.cn/21-40 \u56f4\u68cb\u8bad\u7ec3.png)"
            ]
        },
        {
            "cell_type": "markdown",
            "metadata": {},
            "source": [
                "\u4f7f\u7528 CNN \u7684\u539f\u56e0\uff1a\n",
                "  \n",
                "  + \u6709\u4e9b\u56fe\u6848\u6bd4\u6574\u4e2a\u56fe\u50cf\u5c0f\u5f97\u591a\n",
                "  \n",
                "  + \u76f8\u540c\u7684\u56fe\u6848\u51fa\u73b0\u5728\u4e0d\u540c\u7684\u5730\u533a\n",
                "\n",
                "\n",
                "![](http://imgbed.momodel.cn/21-41 \u4f7f\u7528cnn\u7684\u539fyin.png)",
                "\n",
                "\u4e0b\u56f4\u68cb\u4e5f\u6709\u76f8\u4f3c\u7684\u7279\u70b9\u3002"
            ]
        },
        {
            "cell_type": "markdown",
            "metadata": {},
            "source": [
                "+ \u5bf9\u50cf\u7d20\u8fdb\u884c\u4e8c\u6b21\u91c7\u6837\u4e0d\u4f1a\u66f4\u6539\u5bf9\u8c61\n",
                "\n",
                "\u5728\u56fe\u50cf\u8bc6\u522b\u4e2d\u5177\u6709\u8fd9\u6837\u7684\u7279\u70b9\uff0c\u9700\u8981\u8fdb\u884c\u6c60\u5316\u64cd\u4f5c\uff0c\u90a3\u4e48\u5728\u4e0b\u56f4\u68cb\u65f6\u4e5f\u6709\u540c\u6837\u7684\u7279\u70b9\u5417\uff1f"
            ]
        },
        {
            "cell_type": "markdown",
            "metadata": {},
            "source": [
                "\n",
                "![](http://imgbed.momodel.cn/21-42 \u4e0d\u9700\u8981\u8fdb\u884c\u6c60\u5316\u64cd\u4f5c.png)"
            ]
        },
        {
            "cell_type": "markdown",
            "metadata": {},
            "source": [
                "\u5728\u8bed\u97f3\u5904\u7406\u4e0a\u5e94\u7528\uff1a\n",
                "\n",
                "\n",
                "![](http://imgbed.momodel.cn/21-43 \u8bed\u97f3\u8fa8\u8bc6.png)",
                "\n",
                "\u6ee4\u6ce2\u5668\u5728\u58f0\u8c31\u9891\u7387\u65b9\u5411\u4e0a\u79fb\u52a8\u3002"
            ]
        }
    ],
    "metadata": {
        "kernelspec": {
            "display_name": "Python 3",
            "language": "python",
            "name": "python3"
        },
        "language_info": {
            "codemirror_mode": {
                "name": "ipython",
                "version": 3
            },
            "file_extension": ".py",
            "mimetype": "text/x-python",
            "name": "python",
            "nbconvert_exporter": "python",
            "pygments_lexer": "ipython3",
            "version": "3.5.2"
        }
    },
    "nbformat": 4,
    "nbformat_minor": 2
}