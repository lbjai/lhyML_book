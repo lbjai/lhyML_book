{
    "cells": [
        {
            "cell_type": "markdown",
            "metadata": {},
            "source": [
                "\n",
                "",
                "\n",
                "\n",
                "+ 1.\u7f51\u7edc\u7ed3\u6784\u662f\u5426\u8d8a\u6df1\u8d8a\u597d\n",
                "+ 2.\u795e\u7ecf\u7f51\u7edc\u6a21\u5757\u5316\u601d\u60f3\n",
                "+ 3.\u7aef\u5230\u7aef\u5b66\u4e60\n",
                "+ 4.\u5904\u7406\u590d\u6742\u95ee\u9898\u4e2d\u6df1\u5c42\u7f51\u7edc\u7684\u4f5c\u7528"
            ]
        },
        {
            "cell_type": "markdown",
            "metadata": {},
            "source": [
                "### 1. \u7f51\u7edc\u662f\u5426\u8d8a\u6df1\u8d8a\u597d\n",
                ""
            ]
        },
        {
            "cell_type": "markdown",
            "metadata": {},
            "source": [
                "\u7406\u8bba\u4e0a\uff0c\u4e00\u5c42\u9690\u85cf\u5c42\u7684\u795e\u7ecf\u7f51\u7edc\u5c31\u53ef\u4ee5\u8868\u793a\u4efb\u610f\u7684\u51fd\u6570\uff0c\u4f46\u662f\u4ece\u6548\u7387\u3001\u7cbe\u5ea6\u8003\u91cf\uff0c\n",
                "\n",
                "\u5728\u5b9e\u9645\u7684\u795e\u7ecf\u7f51\u7edc\u6784\u5efa\u4e2d\u5f80\u5f80\u91c7\u7528\u591a\u4e2a\u9690\u85cf\u5c42\uff08\u5373\u6df1\u5ea6\u5b66\u4e60\uff09\u3002\n",
                "\n",
                "![](http://imgbed.momodel.cn/22-1 \u53c2\u6570\u8d8a\u591a\u6548\u679c\u8d8a\u597d.png)",
                "\n",
                "\u4ece\u4e0a\u56fe\u5bf9\u6bd4\u53ef\u5f97\uff0c\u5728\u795e\u7ecf\u5143\u4e2a\u6570\u76f8\u540c\u7684\u60c5\u51b5\u4e0b\uff0c\u591a\u5c42\u795e\u7ecf\u7f51\u7edc\u7684\u7cbe\u5ea6\u9ad8\u4e8e\u5355\u5c42\u795e\u7ecf\u7f51\u7edc\u3002"
            ]
        },
        {
            "cell_type": "markdown",
            "metadata": {},
            "source": [
                "#### 1.1 \u80d6+\u77ed\u7684\u7f51\u7edc VS. \u7626+\u9ad8\u7684\u7f51\u7edc"
            ]
        },
        {
            "cell_type": "markdown",
            "metadata": {},
            "source": [
                "\u90a3\u4e48\uff0c\u5728\u53c2\u6570\u76f8\u540c\u7684\u60c5\u51b5\u4e0b\uff0c\u54ea\u79cd\u7f51\u7edc\u7684\u8868\u73b0\u66f4\u597d\u5462\uff1f\n",
                "\n",
                "![](http://imgbed.momodel.cn/22-2 \u7f51\u7edc\u7684\u5bf9\u6bd4.png)"
            ]
        },
        {
            "cell_type": "markdown",
            "metadata": {},
            "source": [
                "\u5b9e\u9a8c\u7ed3\u679c\u8868\u660e\u7626\u800c\u9ad8\u7684\u7f51\u7edc\uff08\u5c42\u6570\u591a\u7684\uff09\uff0c\u5373\u6df1\u5ea6\u795e\u7ecf\u7f51\u7edc\uff0c\u5b9e\u9a8c\u7ed3\u679c\u66f4\u597d\u3002\n",
                "\n",
                "![](http://imgbed.momodel.cn/22-3 \u5bf9\u6bd4\u7ed3\u679c.png)"
            ]
        },
        {
            "cell_type": "markdown",
            "metadata": {},
            "source": [
                "<br>"
            ]
        },
        {
            "cell_type": "markdown",
            "metadata": {},
            "source": [
                "### 2. \u6a21\u5757\u5316\n",
                ""
            ]
        },
        {
            "cell_type": "markdown",
            "metadata": {},
            "source": [
                "\u901a\u5e38\uff0c\u6211\u4eec\u5728\u5199\u7a0b\u5e8f\u65f6\uff0c\u6211\u4eec\u4e0d\u4f1a\u5c06\u6240\u6709\u7684\u529f\u80fd\u90fd\u653e\u5230\u4e3b\u51fd\u6570\u4e2d\uff0c\n",
                "\n",
                "\u6211\u4eec\u4f1a\u5c06\u4e00\u4e9b\u5e38\u7528\u7684\u529f\u80fd\u5199\u6210\u6a21\u5757\uff0c\u4ee5\u4f9b\u53cd\u590d\u8c03\u7528\uff0c\u8fd9\u5176\u5b9e\u5c31\u662f\u6a21\u5757\u5316\u601d\u60f3\u3002\n",
                "\n",
                "![](http://imgbed.momodel.cn/22-4 \u6a21\u7ec4\u5316.png)",
                "\n",
                "\u7f51\u5740\u94fe\u63a5\uff1a<font size=1> http://rinuboney.github.io/2015/10/18/theoretical-motivations-deep-learning.html<font>"
            ]
        },
        {
            "cell_type": "markdown",
            "metadata": {},
            "source": [
                "#### 2.1 \u5206\u7c7b\u95ee\u9898"
            ]
        },
        {
            "cell_type": "markdown",
            "metadata": {},
            "source": [
                "\u6211\u4eec\u9700\u8981\u5c06\u4e00\u4e2a\u56fe\u50cf\u5206\u4e3a\u957f\u5934\u53d1\u7537\u5b69\uff0c\u77ed\u5934\u53d1\u7537\u5b69\uff0c\u957f\u5934\u53d1\u5973\u5b69\uff0c\u77ed\u5934\u53d1\u5973\u5b69\u56db\u7c7b\uff1b\n",
                "\n",
                "\u4f46\u662f\u6211\u4eec\u9047\u5230\u4e00\u4e2a\u95ee\u9898\uff0c\u957f\u5934\u53d1\u7537\u5b69\u7684\u4f8b\u5b50\u6bd4\u8f83\u5c11\uff0c\u4e0d\u597d\u5206\u7c7b\u3002\n",
                "\n",
                "\u6240\u4ee5\u6a21\u578b\u8bad\u7ec3\u51fa\u6765\u7684\u6548\u679c\u5bf9\u6d4b\u8bd5\u96c6\u4e0a\u7684\u957f\u53d1\u7537\u751f\u6548\u679c\u4f1a\u6bd4\u8f83\u5dee\uff08\u6837\u672c\u4e0d\u5e73\u8861\uff09\u3002 \n",
                "\n",
                "![](http://imgbed.momodel.cn/22-5 \u957f\u5934\u53d1\u7537\u5973\u5b69\u7684\u5206\u7c7b.png)"
            ]
        },
        {
            "cell_type": "markdown",
            "metadata": {},
            "source": [
                "\u6211\u4eec\u5c06\u8be5\u95ee\u9898\u8fdb\u884c\u6a21\u5757\u5316\u5904\u7406\uff0c\u53d8\u6210\u4e24\u4e2a\u57fa\u7840\u5206\u7c7b\u95ee\u9898\uff0c\u662f\u7537\u5b69\u8fd8\u662f\u5973\u5b69\u4ee5\u53ca\u662f\u957f\u53d1\u8fd8\u662f\u77ed\u53d1\u3002\n",
                "\n",
                "![](http://imgbed.momodel.cn/22-6 \u57fa\u7840\u7684\u5206\u7c7b\u95ee\u9898.png)",
                "\n",
                "\u8fd9\u6837\u6bcf\u4e00\u4e2a\u57fa\u7840\u7684\u5206\u7c7b\u90fd\u6709\u8db3\u591f\u7684\u4f8b\u5b50\u8fdb\u884c\u8bad\u7ec3\u3002\n",
                "\n",
                "\u6b64\u65f6\u6837\u672c\u6bd4\u4f8b\u662f\u76f8\u5f53\u7684\uff0c\u7531\u6b64\u8bad\u7ec3\u7684\u6548\u679c\u4e0d\u4f1a\u53d8\u5dee\uff0c\u4e14\u7531\u4e24\u4e2a\u57fa\u7840\u7c7b\u522b\u7684\u7ec4\u5408\u53ef\u4ee5\u5f97\u5230\u6700\u7ec8\u7684\u56db\u4e2a\u7c7b\u522b\u3002 "
            ]
        },
        {
            "cell_type": "markdown",
            "metadata": {},
            "source": [
                "\u901a\u8fc7\u5c06\u7b80\u5355\u5206\u7c7b\u7684\u7ed3\u679c\u7ec4\u5408\u5f97\u5230\u6700\u7ec8\u7684\u5206\u7c7b\u7ed3\u679c\uff1a\n",
                "\n",
                "![](http://imgbed.momodel.cn/22-7  \u5c06\u57fa\u7840\u7684\u5206\u7c7b\u7ec4\u5408.png)"
            ]
        },
        {
            "cell_type": "markdown",
            "metadata": {},
            "source": [
                "#### 2.2 \u6df1\u5ea6\u5b66\u4e60\u4e2d\u7684\u6a21\u5757\u5316"
            ]
        },
        {
            "cell_type": "markdown",
            "metadata": {},
            "source": [
                "\u6df1\u5ea6\u5b66\u4e60\u7684\u4f18\u52bf\u5c31\u4f53\u73b0\u5728\u6a21\u5757\u5316\u7684\u5904\u7406\u65b9\u5f0f\u4e0a\u3002\n",
                "\n",
                "\u5728\u6df1\u5ea6\u5b66\u4e60\u7684\u7f51\u7edc\u7ed3\u6784\u4e2d\uff0c\u4e0a\u4e00\u5c42\u7684\u795e\u7ecf\u5143\u53ef\u4ee5\u4f5c\u4e3a\u4e0b\u4e00\u5c42\u7684\u6a21\u5757\uff0c\u6a21\u5757\u662f\u901a\u8fc7\u5b66\u4e60\u6570\u636e\u81ea\u52a8\u751f\u6210\u7684\u3002\n",
                "\n",
                "\n",
                "![](http://imgbed.momodel.cn/22-8 \u6df1\u5ea6\u5b66\u4e60\u4e2d\u7684\u6a21\u7ec4\u5316.png)",
                "\n",
                "\n",
                "\u7531\u4e0a\u8ff0\u4f8b\u5b50\u53ef\u4ee5\u770b\u51fa\uff0c\u4f7f\u7528\u6a21\u5757\u5316\u7684\u7f51\u7edc\uff0c\u6211\u4eec\u53ef\u4ee5\u4f7f\u7528\u66f4\u5c11\u7684\u6570\u636e\u8fdb\u884c\u8bad\u7ec3\u3002"
            ]
        },
        {
            "cell_type": "markdown",
            "metadata": {},
            "source": [
                "#### 2.3 \u6a21\u5757\u5316\u5e94\u7528\u4e4b\u8bed\u97f3\u8bc6\u522b\n",
                ""
            ]
        },
        {
            "cell_type": "markdown",
            "metadata": {},
            "source": [
                "+ \u4eba\u7c7b\u8bed\u8a00\u7684\u5c42\u6b21\u67b6\u6784\n",
                "\n",
                "\u6bd4\u5982\u4e00\u53e5 what do you think\uff0c\u8fd9\u4e00\u53e5\u8bdd\u5176\u5b9e\u662f\u6709\u5f88\u591a\u97f3\u4f4d\uff08\u533a\u5206\u5355\u8bcd\u6700\u5c0f\u8bed\u97f3\u5355\u5143\uff09\u7ec4\u6210\u3002\n",
                "\n",
                "\u540c\u6837\u7684\u97f3\u4f4d\u53ef\u80fd\u4f1a\u6709\u4e0d\u4e00\u6837\u7684\u53d1\u97f3\uff08\u6bd4\u5982 d uw \u548c y uw \u4e2d\uff0c\u7531\u4e8e\u524d\u4e00\u4e2a\u97f3\u7d20\u4e0d\u540c\uff0c\u6240\u4ee5\u5bfc\u81f4\u53e3\u8154\u771f\u6b63\u53d1\u51fa\u7684\u4e24\u4e2a uw \u4e0d\u4e00\u6837\uff09\uff0c\n",
                "\n",
                "\u56e0\u6b64\u6211\u4eec\u7ed9\u540c\u6837\u7684\u97f3\u4f4d\u4e0d\u540c\u7684\u6a21\u5757\uff08Tri-phone\uff0c\u8be5\u97f3\u7d20\u52a0\u4e0a\u524d\u540e\u4e24\u4e2a\u97f3\u7d20\uff09\u3002\n",
                "\n",
                "\u8bed\u97f3\u8bc6\u522b\u7b80\u800c\u8a00\u4e4b\uff1a\u4ece\u58f0\u97f3\u4fe1\u53f7\u8f93\u51fa\u58f0\u97f3\u7684\u7279\u6027\uff08state\uff09\uff0c\u518d\u4ece\u7279\u6027\u8f6c\u6210\u97f3\u4f4d \uff0c\u6700\u540e\u97f3\u4f4d\u8f6c\u6210\u6587\u5b57\u3002\n",
                "\n",
                "\n",
                "![](http://imgbed.momodel.cn/22-9 \u8bed\u97f3\u8bc6\u522b\u4e2d\u7684module .png)",
                "\n",
                "\u7531\u4e8e\u4eba\u5728\u8bf4\u8bdd\u65f6\uff0c\u6bcf\u4e2a\u5b57\u6bcd\u7684\u53d1\u97f3\u56e0\u524d\u540e\u5b57\u6bcd\u7684\u4e0d\u540c\u800c\u6709\u7740\u4e0d\u540c\u7684\u53d1\u97f3\uff0c\n",
                "\n",
                "\u6240\u4ee5\u6211\u4eec\u5c06\u4e00\u4e2a Tri-phone \u79f0\u4e3a\u4e00\u4e2a\u53d1\u97f3\u5355\u5143\uff0c\u6bcf\u4e00\u4e2a Tri-phone \u67093\u4e2a\u7279\u5f81\u3002"
            ]
        },
        {
            "cell_type": "markdown",
            "metadata": {},
            "source": [
                "+ \u8bed\u97f3\u8bc6\u522b\u6b65\u9aa4\u4e00\uff08\u6574\u4e2a\u8bed\u97f3\u8bc6\u522b\u6bd4\u8f83\u590d\u6742\uff0c\u8bfe\u7a0b\u91cc\u9762\u53ea\u8bb2\u7b2c\u4e00\u4e2a\u6b65\u9aa4\uff09\n",
                "     + \u5206\u7c7b\uff1a\u8f93\u5165\u2192\u58f0\u5b66\u7279\u5f81\uff0c\u8f93\u51fa\u2192\u72b6\u6001\n",
                "\n",
                "\n",
                "![](http://imgbed.momodel.cn/22-10 \u8bed\u97f3\u8bc6\u522b\u7684\u7b2c\u4e00\u9636\u6bb5.png)",
                "\n",
                "   \u5728\u8bed\u97f3\u7684\u65f6\u5e8f\u56fe\u4e2d\u4ee5\u4e00\u5b9a\u5927\u5c0f\u7684 window\uff08\u5982\uff1a250\u6beb\u79d2\uff0c\u4e0a\u56fe\u4e2d\u7eff\u8272\u6846\u6846\uff09\u53d6\u51fa\u6570\u636e\uff0c\u7136\u540e\u7528 acousitc feature \u8868\u793a\u3002\n",
                "   \n",
                "   \u4e00\u6bb5\u58f0\u97f3\u5c31\u8868\u793a\u6210\u4e3a acousitc feature sequence \u3002\n",
                "   \n",
                "   \u8bed\u97f3\u8bc6\u522b\u7684\u7b2c\u4e00\u6b65\u5c31\u662f\u8981\u51b3\u5b9a acousitc feature \u5c5e\u4e8e\u54ea\u4e2a state \uff0c\u76f8\u5f53\u4e8e\u4e00\u4e2a\u5206\u7c7b\u95ee\u9898\u3002\n",
                "   \n",
                "   \u4e5f\u5c31\u662f\u8981\u6784\u5efa\u4e00\u4e2a\u5206\u7c7b\u5668\uff0c\u628a acousitc feature \u5206\u7c7b\uff0c\u51b3\u5b9a\u662f\u54ea\u4e2a state \uff0c\u540e\u7eed\u8fd8\u8981\u628a state \u8f6c\u5316\u6210\u97f3\u4f4d\uff0c\u6700\u540e\u7ec4\u5408\u6210\u5b57\u5e76\u8003\u8651\u591a\u4e49\u5b57\u3002"
            ]
        },
        {
            "cell_type": "markdown",
            "metadata": {},
            "source": [
                "+ \u6bcf\u4e2a\u72b6\u6001\u90fd\u6709\u4e00\u4e2a\u58f0\u5b66\u7279\u5f81\u7684\u56fa\u5b9a\u5206\u5e03\n",
                "\n",
                "\u9ad8\u65af\u6df7\u5408\u6a21\u578b\uff08 Gaussian Mixture Model \uff09\uff1a\n",
                "\n",
                "\n",
                "![](http://imgbed.momodel.cn/22-11 \u9ad8\u65af\u6df7\u5408\u6a21\u578b.png)"
            ]
        },
        {
            "cell_type": "markdown",
            "metadata": {},
            "source": [
                "\u6bcf\u4e2a state \u7528\u4e00\u4e2a\u9ad8\u65af\u5206\u5e03\u6765\u63cf\u8ff0\uff0c\u53c2\u6570\u8fc7\u591a\uff0c\u4f20\u7edf\u8bed\u97f3\u8bc6\u522b\u89e3\u51b3\u95ee\u9898\u7684\u65b9\u6cd5\u5c31\u662f tied-state \uff0c\n",
                "\n",
                "\u610f\u601d\u5c31\u662f\u6709\u4e9b state \u4f1a\u5171\u7528\u4e00\u4e2a\u9ad8\u65af\u5206\u5e03\uff08\u5c31\u597d\u6bd4\u7f16\u7a0b\u91cc\u9762\u7684\u4e0d\u540c\u6307\u9488\u6307\u5411\u7684\u662f\u76f8\u540c\u5730\u5740\uff09\uff0c\n",
                "\n",
                "\u81f3\u4e8e\u5982\u4f55\u51b3\u5b9a\u54ea\u4e9b state \u4f1a\u5171\u7528\u4e00\u4e2a\u9ad8\u65af\u5206\u5e03\uff0c\u5219\u9700\u8981 domain knowledge \u6765\u51b3\u5b9a\u3002\n",
                "\n",
                "![](http://imgbed.momodel.cn/22-12 tied state.png)"
            ]
        },
        {
            "cell_type": "markdown",
            "metadata": {},
            "source": [
                "\u5728 HMM-GMM \u6a21\u578b\uff08\u9690\u9a6c\u5c14\u53ef\u592b\u6a21\u578b-\u9ad8\u65af\u6df7\u5408\u6a21\u578b\uff09\u4e2d\uff0c\u6240\u6709\u97f3\u4f4d\u90fd\u662f\u72ec\u7acb\u5efa\u6a21\u7684\u3001\u4e0d\u76f8\u5173\u7684\u3002\n",
                "\n",
                "\u53ef\u4ee5\u53d1\u73b0 state1 \u548c state \u5728\u67d0\u4e9b\u65f6\u5019\u53ef\u4ee5\u5171\u4eab\u9ad8\u65af\u5206\u5e03\uff0c\u6709\u7684\u65f6\u5019\u53c8\u53ef\u4ee5\u72ec\u7acb\u5206\u5e03\u3002\n",
                "\n",
                "\u4f46\u662f\u8fd9\u6837\u6548\u7387\u4e0d\u9ad8\uff0c\u56e0\u4e3a\u4eba\u7c7b\u8bed\u8a00\u53d1\u97f3\u662f\u6709\u4e00\u5b9a\u5173\u7cfb\u3002\n",
                "   \n",
                "![](http://imgbed.momodel.cn/22-13 \u4eba\u7c7b\u97f3\u5143\u7684\u53d1\u97f3.png)",
                "\n",
                "\u5143\u97f3\u7684\u53d1\u97f3\u53d7\u51e0\u4e2a\u56e0\u7d20\u7684\u63a7\u5236\u3002\n",
                "\u5b83\u53d7\u4e09\u4e2a\u56e0\u7d20\u5f71\u54cd\uff1a\n",
                " \u820c\u5934\u524d\u540e\u7684\u4f4d\u7f6e\u3001\n",
                " \u820c\u5934\u4e0a\u4e0b\u7684\u4f4d\u7f6e\u3001\n",
                " \u5634\u578b\u3002"
            ]
        },
        {
            "cell_type": "markdown",
            "metadata": {},
            "source": [
                "#### 2.4 \u4f7f\u7528 DNN \u5904\u7406\u8bed\u97f3\u8bc6\u522b\n",
                ""
            ]
        },
        {
            "cell_type": "markdown",
            "metadata": {},
            "source": [
                "\n",
                "![](http://imgbed.momodel.cn/22-14 \u4f7f\u7528DNN\u5904\u7406\u8bed\u97f3\u8bc6\u522b.png)",
                "\n",
                "\u8f93\u5165\u4e3a\u58f0\u5b66\u7279\u5f81\uff1b\u8f93\u51fa\u4e3a\u6bcf\u4e2a state \u7684\u6982\u7387\u3002\n",
                "\n",
                "\u5728 DNN \u4e2d\uff0c\u6240\u6709\u7684 state \u4f7f\u7528\u540c\u4e00\u7684\u6a21\u578b\uff0c\u867d\u7136 DNN \u6a21\u578b\u4e2d\u4f7f\u7528\u7684\u53c2\u6570\u66f4\u591a\uff1b\n",
                "\n",
                "\u4f46\u662f\u7531\u4e8e\u53ea\u9700\u8981\u4f7f\u7528\u4e00\u4e2a\u6a21\u578b\uff0c\u53c2\u6570\u7684\u6570\u91cf\u4e0e HMM-GMM \u6a21\u578b\u4e2d\u4f7f\u7528\u7684\u53c2\u6570\u6570\u91cf\u76f8\u5dee\u65e0\u51e0\u3002\n"
            ]
        },
        {
            "cell_type": "markdown",
            "metadata": {},
            "source": [
                "DNN \u6a21\u5757\u5316\uff1a\n",
                "\n",
                "\u5c06\u4e2d\u95f4\u5c42\u7684\u8f93\u51fa\u7ed3\u679c\u8fdb\u884c\u964d\u7ef4\u53ef\u89c6\u5316\uff0c\u5f97\u5230\u5982\u4e0b\u7ed3\u679c\uff1a\n",
                "\n",
                "![](http://imgbed.momodel.cn/22-15 \u8bed\u97f3\u8bc6\u522bDNN\u4e2d\u7684\u6a21\u7ec4\u5316.png)",
                "\n",
                "+ \u9690\u85cf\u5c42\u53ef\u4ee5\u68c0\u6d4b\u5173\u8282\u5904\u7684\u52a8\u4f5c\uff0c\u6a21\u62df\u4eba\u7c7b\u53d1\u97f3\u65f6\u820c\u5934\u7684\u52a8\u4f5c\uff0c\u5224\u65ad\u8fd9\u4e2a\u58f0\u97f3\u4eba\u7c7b\u662f\u5982\u4f55\u53d1\u51fa\u6765\u7684\uff08\u820c\u5934\u4f4d\u7f6e\uff09\uff1b\n",
                "\n",
                "+ \u6240\u6709\u97f3\u4f4d\uff08phoneme\uff09\u5171\u4eab\u6765\u81ea\u540c\u4e00\u7ec4\u63a2\u6d4b\u5668\u7684\u7ed3\u679c\uff0c\u5373\u6a21\u5757\u5316\uff1b\n",
                "\n",
                "    \u6839\u636e\u8fd9\u4e2a\u7ed3\u679c\u6765\u5224\u65ad acousitc feature \u5c5e\u4e8e\u54ea\u4e2a\u97f3\u4f4d\u6216\u5c5e\u4e8e\u54ea\u4e2a state\u3002\n",
                "\n",
                "+ \u8fd9\u6837\u53ef\u4ee5\u6709\u6548\u5730\u4f7f\u7528\u53c2\u6570\uff1b cousitc feature \u53ef\u4ee5\u7528\u540c\u4e00\u4e2a DNN \u6765\u8fdb\u884c\u8bc6\u522b\u3002\n"
            ]
        },
        {
            "cell_type": "markdown",
            "metadata": {},
            "source": [
                "#### 2.5 \u901a\u7528\u539f\u7406\u603b\u7ed3"
            ]
        },
        {
            "cell_type": "markdown",
            "metadata": {},
            "source": [
                "\u4efb\u4f55\u8fde\u7eed\u7684\u51fd\u6570\u90fd\u53ef\u4ee5\u7528\u5355\u5c42\u795e\u7ecf\u7f51\u7edc\u6765\u8868\u793a\uff08\u7ed9\u5b9a\u8db3\u591f\u591a\u7684\u795e\u7ecf\u5143\uff09\uff0c\u8fd9\u4e2a\u5df2\u7ecf\u6709\u8bc1\u660e\uff0c\u89c1[\u300a\u6df1\u5ea6\u5b66\u4e60\u300b\u7b2c\u56db\u7ae0](http://neuralnetworksanddeeplearning.com/chap4.html)\u3002\n",
                "\n",
                "![](http://imgbed.momodel.cn/22-16 \u666e\u904d\u6027\u5b9a\u7406.png)",
                "\n",
                "\u867d\u7136\u6d45\u5c42\u7f51\u7edc\u80fd\u591f\u4ee3\u8868\u4efb\u4f55\u51fd\u6570\uff0c\u4f46\u662f\u6df1\u5ea6\u7f51\u7edc\u66f4\u52a0\u9ad8\u6548\u3002"
            ]
        },
        {
            "cell_type": "markdown",
            "metadata": {},
            "source": [
                "#### **2.6 \u903b\u8f91\u7535\u8def\u7c7b\u6bd4\u795e\u7ecf\u7f51\u7edc**\n",
                "",
                "\n",
                "\u4f7f\u7528\u4e24\u5c42\u903b\u8f91\u95e8\u7535\u8def\u53ef\u4ee5\u8868\u793a\u4efb\u4f55\u7684\u5e03\u5c14\u51fd\u6570\uff0c\u4f46\u662f\u4f7f\u7528\u591a\u5c42\u903b\u8f91\u95e8\u7535\u8def\u5b9e\u73b0\u4e00\u4e9b\u51fd\u6570\u66f4\u52a0\u7b80\u5355\uff1b\u6df1\u5ea6\u795e\u7ecf\u7f51\u7edc\u4ea6\u662f\u5982\u6b64\u3002\n",
                "\n",
                "\u795e\u7ecf\u7f51\u7edc\u9700\u8981\u7684\u53c2\u6570\u5c11\uff0c\u597d\u5904\u591a\u591a\uff0c\u4e0d\u5bb9\u6613\u8fc7\u62df\u5408\uff0c\u9700\u8981\u6bd4\u8f83\u5c11\u7684\u6570\u636e\u5c31\u5b8c\u6210\u8bad\u7ec3\u3002\n",
                "\n",
                "![](http://imgbed.momodel.cn/22-17 \u7c7b\u63a8.png)"
            ]
        },
        {
            "cell_type": "markdown",
            "metadata": {},
            "source": [
                "\u4e3e\u4e2a\u6817\u5b50\uff0c\u5947\u5076\u6821\u9a8c\uff08 parity check \uff09\uff1a\n",
                "\n",
                "\u6211\u4eec\u4f7f\u7528\u591a\u4e2a\u540c\u6216\u95e8\u5b9e\u9a8c\u5947\u5076\u6821\u9a8c\u7684\u7535\u8def\uff0c\u53f3\u4e0a\u89d2\u662f XNOR \u771f\u503c\u8868\u3002\n",
                "\n",
                "![](http://imgbed.momodel.cn/22-18 \u5947\u5076\u6821\u9a8c.png)",
                "\n",
                "\u5982\u679c\u4f7f\u7528\u4e24\u5c42\u903b\u8f91\u95e8\u7535\u8def\u65f6\uff0c\u6211\u4eec\u9700\u8981 $O(2^d)$ \u4e2a\u903b\u8f91\u95e8\uff1b\n",
                "\n",
                "\u5982\u679c\u4f7f\u7528\u591a\u5c42\u903b\u8f91\u95e8\u7535\u8def\u65f6\uff0c\u6211\u4eec\u53ea\u9700\u8981 $O(d)$ \u4e2a\u903b\u8f91\u95e8\u7535\u8def\u3002"
            ]
        },
        {
            "cell_type": "markdown",
            "metadata": {},
            "source": [
                "\u53e6\u5916\u4e00\u4e2a\u6817\u5b50\uff0c\u526a\u7a97\u82b1\uff1a\n",
                "\n",
                "\u6298\u4e86\u518d\u526a\uff0c\u53ea\u7528\u526a\u51e0\u4e0b\u5c31\u80fd\u6784\u9020\u51fa\u66f4\u52a0\u590d\u6742\u7684\u5f62\u72b6\uff0c\u8fd9\u4e2a\u4e0e\u795e\u7ecf\u7f51\u7edc\u6709\u4ec0\u4e48\u8054\u7cfb\uff1f\n",
                "\n",
                "![](http://imgbed.momodel.cn/22-19 \u66f4\u591a\u7c7b\u6bd4.png)"
            ]
        },
        {
            "cell_type": "markdown",
            "metadata": {},
            "source": [
                "\u56de\u5230\u4e4b\u524d\u8bb2\u903b\u8f91\u56de\u5f52\u5212\u5206\u5f02\u6216\u5750\u6807\u70b9\u7684\u4f8b\u5b50\uff1a\n",
                "\n",
                "\u589e\u52a0\u4e00\u4e2a\u9690\u85cf\u5c42\u5b9e\u9645\u4e0a\u662f\u5c06 feature \u8fdb\u884c\u7279\u5f81\u8f6c\u6362\uff0c\u4ee5\u4fbf\u4e8e\u5206\u7c7b\u3002\n",
                "\n",
                "![](http://imgbed.momodel.cn/22-20 \u4f8b\u5b50.png)"
            ]
        },
        {
            "cell_type": "markdown",
            "metadata": {},
            "source": [
                "\u8ba9\u6211\u4eec\u505a\u4e2a\u5c0f\u5b9e\u9a8c\uff1a\n",
                "\n",
                "![](http://imgbed.momodel.cn/22-21 \u5b9e\u9a8c.png)",
                "\n",
                "\u5de6\u56fe\u662f\u51fd\u6570\uff0c\u8f93\u5165\u7684\u662f\u5bf9\u5e94\u7684 X\uff0cY \u5750\u6807\uff0c\u8f93\u51fa\u4e3a0\u548c1\uff0c\u51fd\u6570\u5f62\u72b6\u5c31\u662f\u83f1\u5f62\u7684\u7eb9\u8def\u3002\n",
                "\n",
                "\u53f3\u56fe\u4e0a\u4e3a1\u4e2a\u9690\u85cf\u5c42\uff0c\u4e0b\u4e3a3\u4e2a\u9690\u85cf\u5c42\uff0c\u4e0d\u540c\u8bad\u7ec3\u6837\u672c\u4e2a\u6570\u7684\u5b66\u4e60\u6548\u679c\uff0c\n",
                "\n",
                "\u8fd9\u91cc\u8981\u6ce8\u610f\u7684\u662f1\u4e2a\u9690\u85cf\u5c42\u548c3\u4e2a\u9690\u85cf\u5c42\u7684\u53c2\u6570\u662f\u57fa\u672c\u76f8\u540c\u7684\u3002\n",
                "\n",
                "\u53ef\u4ee5\u770b\u51fa\uff0c10\u4e07\u8bad\u7ec3\u6570\u636e\u7684\u65f6\u5019\u4e24\u4e2a\u795e\u7ecf\u7f51\u7edc\u90fd\u5dee\u4e0d\u591a\uff0c\n",
                "\n",
                "\u5f53\u53ea\u67092\u4e07\u8bad\u7ec3\u6570\u636e\u7684\u65f6\u50193\u4e2a\u9690\u85cf\u5c42\u7684\u795e\u7ecf\u7f51\u7edc\u7684\u7ed3\u679c\u8fd8\u662f\u6bd4\u8f83\u597d\u3002"
            ]
        },
        {
            "cell_type": "markdown",
            "metadata": {},
            "source": [
                "**\u725b\u5200\u5c0f\u8bd5**\n",
                "\n",
                "\u6df1\u5ea6\u5b66\u4e60\u4e2d\u6a21\u5757\u5316\u7684\u597d\u5904\u6709\u54ea\u4e9b\uff1f"
            ]
        },
        {
            "cell_type": "markdown",
            "metadata": {},
            "source": [
                "<span class='md-hint-alone-link pop 0'>\u67e5\u770b\u7b54\u6848</span>"
            ]
        },
        {
            "cell_type": "markdown",
            "metadata": {},
            "source": [
                "<br>"
            ]
        },
        {
            "cell_type": "markdown",
            "metadata": {},
            "source": [
                "### 3. \u7aef\u5230\u7aef\u5b66\u4e60\n",
                ""
            ]
        },
        {
            "cell_type": "markdown",
            "metadata": {},
            "source": [
                "+ \u751f\u4ea7\u7ebf\uff08 production line \uff09\n",
                "\n",
                "\u4e00\u4e2a\u6a21\u5757\u7531\u8bb8\u591a\u4e2a\u7b80\u5355\u7684\u529f\u80fd\u5757\u7ec4\u6210\uff0c\u800c\u6bcf\u4e00\u4e2a\u529f\u80fd\u5757\u5bf9\u5e94\u6df1\u5c42\u7f51\u7edc\u4e2d\u7684\u4e00\u5c42\uff0c\u53ef\u4ee5\u901a\u8fc7\u6570\u636e\u8bad\u7ec3\u81ea\u52a8\u7684\u751f\u6210\u3002\n",
                "\n",
                "![](http://imgbed.momodel.cn/22-22 \u7aef\u5230\u7aef\u5b66\u4e60.png)",
                "\n",
                "\u6bd4\u5982\uff0c\u5728\u8bed\u97f3\u8fa8\u8bc6\u4e2d\u5148\u5c06\u8bed\u97f3\u4fe1\u53f7\u9001\u8fdb\u53bb\uff0c\u901a\u8fc7\u6a21\u5757\u4e00\u5c42\u4e00\u5c42\u7684\u8f6c\u6362\uff0c\u76f4\u63a5\u8f93\u51fa\u7ed3\u679c\u3002"
            ]
        },
        {
            "cell_type": "markdown",
            "metadata": {},
            "source": [
                "#### 3.1 \u8bed\u97f3\u8bc6\u522b"
            ]
        },
        {
            "cell_type": "markdown",
            "metadata": {},
            "source": [
                "+ \u6d45\u65b9\u6cd5\n",
                "\n",
                "\u6bcf\u4e2a\u76d2\u5b50\u90fd\u662f\u751f\u4ea7\u7ebf\u4e0a\u7684\u4e00\u4e2a\u7b80\u5355\u529f\u80fd\uff1a\n",
                "\n",
                "\u5176\u4e2d\u53ea\u6709 GMM \u662f\u901a\u8fc7\u6570\u636e\u8bad\u7ec3\u81ea\u52a8\u751f\u6210\u7684\uff0c\u5176\u4ed6\u7684\u90fd\u662f\u7531\u79d1\u5b66\u5bb6\u4eec\u624b\u52a8\u8bbe\u8ba1\u7684\u3002\n",
                "\n",
                "![](http://imgbed.momodel.cn/22-23 \u8bed\u97f3\u8bc6\u522b.png)"
            ]
        },
        {
            "cell_type": "markdown",
            "metadata": {},
            "source": [
                "+ \u6df1\u5ea6\u5b66\u4e60\n",
                "\n",
                "![](http://imgbed.momodel.cn/22-24 \u6df1\u5ea6\u5b66\u4e60\u6a21\u578b.png)",
                "\n",
                "\u901a\u8fc7\u6df1\u5ea6\u5b66\u4e60\u7684\u65b9\u6cd5\u8fdb\u884c\u8bed\u97f3\u8bc6\u522b\uff0c\u53ef\u4ee5\u51cf\u5c11\u5de5\u7a0b\u8bbe\u8ba1\u7684\u90e8\u5206\uff0c\u66f4\u591a\u5730\u901a\u8fc7\u673a\u5668\u81ea\u4e3b\u5b66\u4e60\u3002"
            ]
        },
        {
            "cell_type": "markdown",
            "metadata": {},
            "source": [
                "#### 3.2 \u56fe\u50cf\u8bc6\u522b"
            ]
        },
        {
            "cell_type": "markdown",
            "metadata": {},
            "source": [
                "+ \u6d45\u65b9\u6cd5\n",
                "\n",
                "![](http://imgbed.momodel.cn/22-25 \u56fe\u50cf\u8bc6\u522b\u6d45\u65b9\u6cd5.png)",
                "\n",
                "\u540c\u4e0a\uff0c\u539f\u6765\u662f\u7eff\u8272\uff08\u624b\u5de5\u8bbe\u8ba1\uff09+\u84dd\u8272\uff08\u5b66\u4e60\u5f97\u5230\uff09\u6765\u5f04\uff0c\u73b0\u5728\u53d8\u6210\uff1a"
            ]
        },
        {
            "cell_type": "markdown",
            "metadata": {},
            "source": [
                "+ \u6df1\u5ea6\u5b66\u4e60\n",
                "\n",
                "![](http://imgbed.momodel.cn/22-26 \u56fe\u50cf\u8bc6\u522b\u6df1\u5ea6\u5b66\u4e60.png)",
                "\n",
                "\u73b0\u5728\uff0c\u901a\u8fc7\u6df1\u5ea6\u5b66\u4e60\u65b9\u5f0f\uff0c\u628a\u624b\u5de5\u8bbe\u8ba1\u7684\u6a21\u5757\u53bb\u9664\u4e86\uff0c\u6240\u6709\u529f\u80fd\u5757\u90fd\u662f\u5b66\u4e60\u5f97\u6765\u7684\u3002"
            ]
        },
        {
            "cell_type": "markdown",
            "metadata": {},
            "source": [
                "<br>"
            ]
        },
        {
            "cell_type": "markdown",
            "metadata": {},
            "source": [
                "### 4. \u590d\u6742\u7684\u4efb\u52a1\n",
                ""
            ]
        },
        {
            "cell_type": "markdown",
            "metadata": {},
            "source": [
                "\u5728\u9762\u5bf9\u4e00\u4e9b\u590d\u6742\u7684\u4efb\u52a1\u65f6\uff0c\u6211\u4eec\u9700\u8981\u6df1\u5c42\u6b21\u7684\u7f51\u7edc\u7ed3\u6784\u6765\u89e3\u51b3\u4e00\u4e9b\u95ee\u9898\uff0c\n",
                "\n",
                "\u800c\u8fd9\u4e9b\u4efb\u52a1\u901a\u8fc7\u4e00\u4e24\u5c42\u7684\u795e\u7ecf\u7f51\u7edc\u662f\u65e0\u6cd5\u5b8c\u6210\u7684\u3002\n",
                "\n",
                "![](http://imgbed.momodel.cn/22-27 \u590d\u6742\u7684\u4efb\u52a1.png)"
            ]
        },
        {
            "cell_type": "markdown",
            "metadata": {},
            "source": [
                "\u8f93\u5165\u7684\u58f0\u5b66\u7279\u5f81\u4e2d\uff0c\u76f8\u540c\u7684\u989c\u8272\u8868\u793a\u540c\u4e00\u4e2a\u4eba\u8bf4\u7684\u8bdd\uff0c\u4ed6\u4eec\u8bf4\u7684\u8bdd\u662f\u5b8c\u5168\u76f8\u540c\u7684\uff0c\n",
                "\n",
                "\u4f46\u662f\u5728\u56fe\u4e2d\u7684\u663e\u793a\u7ed3\u679c\u5b8c\u5168\u6742\u4e71\u65e0\u7ae0\uff0c\u6211\u4eec\u901a\u8fc7\u591a\u5c42\u7684\u795e\u7ecf\u7f51\u7edc\u7684\u8f93\u51fa\u7ed3\u679c\u53ef\u4ee5\u89c2\u5bdf\u5230\n",
                "\n",
                "\u76f8\u540c\u989c\u8272\u7684\u4fe1\u53f7\u805a\u96c6\u5728\u4e00\u8d77\uff0c\u7279\u5f81\u66f4\u52a0\u660e\u663e\u3002\n",
                "\n",
                "![](http://imgbed.momodel.cn/22-28 \u590d\u6742\u4efb\u52a1mcff.png)",
                "\n",
                "\u4e0a\u56fe\u4e2d\u4e0d\u540c\u989c\u8272\u4ee3\u8868\u7684\u662f\u4e0d\u540c\u4eba\u8bb2\u8bdd\uff0c\u53ef\u4ee5\u770b\u51fa\u6765\u540c\u4e00\u53e5\u8bdd\uff0c\n",
                "\n",
                "\u4e0d\u540c\u4eba\u8bb2\u8bdd\uff0c\u5728\u4e8c\u7ef4\u5e73\u9762\u7684\u6295\u5f71\u6bd4\u8f83\u96be\u4ee5\u533a\u5206\uff0c\u7528\u4e00\u5c42\u795e\u7ecf\u7f51\u7edc\u8fdb\u884c\u5904\u7406\u5f97\u5230\u53f3\u8fb9\u7684\u56fe\u3002\n",
                "\n",
                "![](http://imgbed.momodel.cn/22-29 MFCC2.png)",
                "\n",
                "\u7ecf\u8fc7\u7f51\u7edc\u5c42\u52a0\u6df1\uff0c\u4f7f\u7528\u516b\u5c42\u9690\u85cf\u5c42\u7684\u795e\u7ecf\u7f51\u7edc\u5c31\u660e\u663e\u5206\u5f00\u4e86\u3002"
            ]
        },
        {
            "cell_type": "markdown",
            "metadata": {},
            "source": [
                "\n",
                "MNIST \u624b\u5199\u6570\u5b57\u8bc6\u522b\u7684\u8f93\u51fa\u7ed3\u679c\uff1a\n",
                "\n",
                "![](http://imgbed.momodel.cn/22-30 Mnist\u805a\u7c7b\u7ed3\u679c.png)",
                "\n",
                "\u540c\u6837\u7684\uff0c\u62e5\u6709\u66f4\u591a\u9690\u85cf\u5c42\u7684\u7f51\u7edc\u7ed3\u6784\uff0c\u8bc6\u522b\u7684\u66f4\u660e\u786e\u3002"
            ]
        },
        {
            "cell_type": "markdown",
            "metadata": {},
            "source": [
                "\u66f4\u591a\u53c2\u8003\uff1a\n",
                "\n",
                "\n",
                "![](http://imgbed.momodel.cn/22-31 \u66f4\u591a\u53c2\u8003\u8d44\u6599.png)",
                "\n",
                "\u7f51\u5740\uff1a<font size=1> http://research.microsoft.com/apps/video/default.aspx?id=232373&r=1<font>"
            ]
        },
        {
            "cell_type": "markdown",
            "metadata": {},
            "source": [
                "+ \u6df1\u5ea6\u5b66\u4e60\uff1a\u7406\u8bba\u52a8\u673a\n",
                "\n",
                "  <font size=1>http://videolectures.net/deeplearning2015_bengio_theoretical_motivations/<font>\n",
                "  \n",
                "\n",
                "+ \u7269\u7406\u5b66\u4e0e\u6df1\u5ea6\u5b66\u4e60\u4e4b\u95f4\u7684\u8054\u7cfb\n",
                " \n",
                "  <font size=1> https://www.youtube.com/watch?v=5MdSE-N0bxs<font>\n",
                "  \n",
                "  \n",
                "+ \u4e3a\u4ec0\u4e48\u6df1\u5ea6\u5b66\u4e60\u8d77\u4f5c\u7528\uff1a\u7406\u8bba\u5316\u5b66\u7684\u89c6\u89d2\n",
                "\n",
                "  <font size=1>https://www.youtube.com/watch?v=kIbKHIPbxiU<font>"
            ]
        },
        {
            "cell_type": "code",
            "execution_count": null,
            "metadata": {},
            "outputs": [],
            "source": []
        }
    ],
    "metadata": {
        "kernelspec": {
            "display_name": "Python 3",
            "language": "python",
            "name": "python3"
        },
        "language_info": {
            "codemirror_mode": {
                "name": "ipython",
                "version": 3
            },
            "file_extension": ".py",
            "mimetype": "text/x-python",
            "name": "python",
            "nbconvert_exporter": "python",
            "pygments_lexer": "ipython3",
            "version": "3.5.2"
        }
    },
    "nbformat": 4,
    "nbformat_minor": 2
}