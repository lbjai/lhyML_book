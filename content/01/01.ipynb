{
    "cells": [
        {
            "cell_type": "markdown",
            "metadata": {},
            "source": [
                "\u6b22\u8fce\u5927\u5bb6\u6765\u4e00\u8d77\u5b66\u4e60\uff01"
            ]
        },
        {
            "cell_type": "markdown",
            "metadata": {},
            "source": [
                "### \u8fd9\u4e00\u8282\u6211\u4eec\u4e3b\u8981\u5b66\u4e60",
                "\n",
                "+ \u4eba\u5de5\u667a\u80fd\u53d1\u5c55\u53f2\n",
                "+ \u4eba\u5de5\u667a\u80fd/\u673a\u5668\u5b66\u4e60/\u6df1\u5ea6\u5b66\u4e60\u5173\u7cfb\n",
                "+ \u751f\u7269\u7684\u672c\u80fd\u4e0e\u673a\u5668\u7684\u672c\u80fd\n",
                "+ \u4ec0\u4e48\u662f\u673a\u5668\u5b66\u4e60?\n",
                "+ \u673a\u5668\u5b66\u4e60\u5206\u7c7b\u4ee5\u53ca\u5404\u4e2a\u6a21\u578b\u7684\u5e94\u7528\u573a\u666f\n"
            ]
        },
        {
            "cell_type": "markdown",
            "metadata": {},
            "source": [
                "### 1. \u4eba\u5de5\u667a\u80fd\u53d1\u5c55\u53f2\n",
                "\u4eba\u5de5\u667a\u80fd\u7684\u5386\u53f2\u6e90\u8fdc\u6d41\u957f\u30021956\u5e74\uff0c\u5728\u8fbe\u7279\u8305\u65af\u5b66\u9662\u4e3e\u884c\u7684\u4e00\u6b21\u4f1a\u8bae\u4e0a\u6b63\u5f0f\u786e\u7acb\u4e86[\u4eba\u5de5\u667a\u80fd](https://zh.wikipedia.org/wiki/%E4%BA%BA%E5%B7%A5%E6%99%BA%E8%83%BD%E5%8F%B2)\u7684\u7814\u7a76\u9886\u57df\u3002\n",
                "\u4eba\u5de5\u667a\u80fd\u5f53\u65f6\u7b80\u5355\u7684\u5b9a\u4e49\u5c31\u662f\u5e0c\u671b\u673a\u5668\u80fd\u591f\u50cf\u4eba\u4e00\u6837\u7684\u806a\u660e\u3002\n",
                "\n",
                "\n"
            ]
        },
        {
            "cell_type": "markdown",
            "metadata": {},
            "source": [
                "<br>"
            ]
        },
        {
            "cell_type": "markdown",
            "metadata": {},
            "source": [
                "### 2. \u4eba\u5de5\u667a\u80fd/\u673a\u5668\u5b66\u4e60/\u6df1\u5ea6\u5b66\u4e60\u5173\u7cfb\n",
                "![](http://imgbed.momodel.cn/0.png)"
            ]
        },
        {
            "cell_type": "markdown",
            "metadata": {},
            "source": [
                "###  3. \u751f\u7269\u7684\u672c\u80fd\u4e0e\u673a\u5668\u7684\u672c\u80fd\n",
                "+ \u751f\u7269\u672c\u80fd\n",
                "    + \u5148\u5929\u6761\u4ef6\n",
                "    + \u540e\u5929\u5b66\u4e60\n",
                "+ \u673a\u5668\u672c\u80fd\n",
                "    + \u8bbe\u5b9a\u89c4\u5219\n",
                "    + \u6c38\u8fdc\u65e0\u6cd5\u8d85\u8fc7\u521b\u9020\u8005"
            ]
        },
        {
            "cell_type": "markdown",
            "metadata": {},
            "source": [
                "<br>"
            ]
        },
        {
            "cell_type": "markdown",
            "metadata": {},
            "source": [
                "\n"
            ]
        },
        {
            "cell_type": "markdown",
            "metadata": {},
            "source": [
                "### 4. \u4ec0\u4e48\u662f\u673a\u5668\u5b66\u4e60?\n",
                "\n",
                "\u673a\u5668\u5b66\u4e60\u5728\u8fd130\u591a\u5e74\u5df2\u53d1\u5c55\u4e3a\u4e00\u95e8\u591a\u9886\u57df\u4ea4\u53c9\u5b66\u79d1\uff0c\u6d89\u53ca\u6982\u7387\u8bba\u3001\u7edf\u8ba1\u5b66\u3001\u903c\u8fd1\u8bba\u3001\u51f8\u5206\u6790\u3001\u8ba1\u7b97\u590d\u6742\u6027\u7406\u8bba\u7b49\u591a\u95e8\u5b66\u79d1\u3002<br>\n",
                "\u673a\u5668\u5b66\u4e60\u7406\u8bba\u4e3b\u8981\u662f\u8bbe\u8ba1\u548c\u5206\u6790\u4e00\u4e9b\u8ba9\u8ba1\u7b97\u673a\u53ef\u4ee5\u81ea\u52a8\u201c\u5b66\u4e60\u201d\u7684\u7b97\u6cd5\u3002<br>\n",
                "**\u673a\u5668\u5b66\u4e60\u7b97\u6cd5\u662f\u4e00\u7c7b\u4ece\u6570\u636e\u4e2d\u81ea\u52a8\u5206\u6790\u83b7\u5f97\u89c4\u5f8b\uff0c\u5e76\u5229\u7528\u89c4\u5f8b\u5bf9\u672a\u77e5\u6570\u636e\u8fdb\u884c\u9884\u6d4b\u7684\u7b97\u6cd5**\u3002<br>\n",
                "\u673a\u5668\u5b66\u4e60\u5df2\u5e7f\u6cdb\u5e94\u7528\u4e8e\u6570\u636e\u6316\u6398\u3001\u8ba1\u7b97\u673a\u89c6\u89c9\u3001\u81ea\u7136\u8bed\u8a00\u5904\u7406\u3001\u751f\u7269\u7279\u5f81\u8bc6\u522b\u3001\u641c\u7d22\u5f15\u64ce\u3001\u533b\u5b66\u8bca\u65ad\u3001<br>\n",
                "\u68c0\u6d4b\u4fe1\u7528\u5361\u6b3a\u8bc8\u3001\u8bc1\u5238\u5e02\u573a\u5206\u6790\u3001DNA\u5e8f\u5217\u6d4b\u5e8f\u3001\u8bed\u97f3\u548c\u624b\u5199\u8bc6\u522b\u3001\u6218\u7565\u6e38\u620f\u548c\u673a\u5668\u4eba\u7b49\u9886\u57df\u3002<br>\n",
                "\n",
                "\n",
                "\n",
                "+ \u7b2c\u4e00\u6b65:\u7c7b\u4f3c\u4e8e\u4ece\u6570\u636e(DATA)\u4e2d\u5bfb\u627e\u4e00\u79cd\u51fd\u6570(Function)\n",
                "\n",
                "    + \u8bed\u97f3\u8bc6\u522b\n",
                "    \n",
                "    ![](http://imgbed.momodel.cn/1_11.png)\n",
                "   \n",
                "    + \u56fe\u50cf\u8bc6\u522b\n",
                "    \n",
                "     ![](http://imgbed.momodel.cn/02.png)\n",
                "    \n",
                "    + \u963f\u5c14\u6cd5\u72d7\n",
                "    \n",
                "     ![](http://imgbed.momodel.cn/03.png)\n",
                "\n",
                "    + \u804a\u5929\u673a\u5668\u4eba\n",
                "    \n",
                "     ![](http://imgbed.momodel.cn/114.png)"
            ]
        },
        {
            "cell_type": "markdown",
            "metadata": {},
            "source": [
                "+ \u7b2c\u4e8c\u6b65:\u5bfb\u627e\u51fd\u6570,\u5efa\u7acb\u673a\u5668\u5b66\u4e60\u6a21\u578b\n",
                "\n",
                "  ![](http://imgbed.momodel.cn/115.png)"
            ]
        },
        {
            "cell_type": "markdown",
            "metadata": {},
            "source": [
                "+ \u7b2c\u4e09\u6b65:\u8bc4\u4ef7\u6a21\u578b\u7684\u597d\u574f\n",
                "\n",
                "  ![](http://imgbed.momodel.cn/118.png)\n"
            ]
        },
        {
            "cell_type": "markdown",
            "metadata": {},
            "source": [
                "+ **\u673a\u5668\u5b66\u4e60\u6d41\u7a0b\u603b\u7ed3**:\n",
                "\n",
                "\n",
                "  ![](http://imgbed.momodel.cn/117.png)\n",
                "\n",
                "\n",
                "  ![](http://imgbed.momodel.cn/119.png)\n",
                "\u5176\u5b9e\u673a\u5668\u5b66\u4e60\u7684\u6d41\u7a0b\u4e0e\u5c06\u5927\u8c61\u653e\u5728\u51b0\u7bb1\u91cc\u7684\u6d41\u7a0b\u662f\u4e00\u6837\u7684,\u5bf9\u6bd4\u5982\u4e0b:\n",
                "\n",
                "| \u7c7b\u522b | \u7b2c\u4e00\u6b65 |\u7b2c\u4e8c\u6b65 | \u7b2c\u4e09\u6b65 |\n",
                "|:------ |:------ |:------ |:------ |\n",
                "| \u673a\u5668\u5b66\u4e60 | \u7c7b\u4f3c\u5bfb\u627e\u51fd\u6570\u89c4\u5219|\u5efa\u7acb\u6a21\u578bModel|\u8bc4\u4ef7\u6a21\u578b\u7684\u597d\u574f|\n",
                "| \u5927\u8c61\u653e\u51b0\u7bb1 | \u6253\u5f00\u51b0\u7bb1 | \u5927\u8c61\u653e\u8fdb\u53bb |\u5173\u4e0a\u51b0\u7bb1 |"
            ]
        },
        {
            "cell_type": "markdown",
            "metadata": {},
            "source": [
                "<br>"
            ]
        },
        {
            "cell_type": "markdown",
            "metadata": {},
            "source": [
                "### 5. **\u673a\u5668\u5b66\u4e60\u8def\u7ebf (Learning Map)**\n",
                "\n",
                "\n",
                "  ![](http://imgbed.momodel.cn/11_10_\u673a\u5668\u5b66\u4e60\u8def\u7ebf.png)\n",
                "\n",
                "#### 5.1 \u76d1\u7763\u5b66\u4e60(Supervised learning )\n",
                "\n",
                "  \u76d1\u7763\u5b66\u4e60\u662f\u6307\u5728\u6709\u6807\u7b7e\u7684\u6570\u636e\u4e0b\u8fdb\u884c\u5b66\u4e60\u3002\n",
                "  \n",
                "  + \u56de\u5f52\u6a21\u578b\n",
                "  \n",
                "    \u56de\u5f52\u95ee\u9898\u4e00\u822c\u662f\u901a\u8fc7\u5927\u91cf\u7684\u8bad\u7ec3\u6570\u636e,\u627e\u5230\u76f8\u5bf9\u8f83\u597d\u7684\u51fd\u6570,\u8f93\u51fa\u662f\u4e00\u4e2a\u6570\u503c,\n",
                "    \n",
                "    \u6bd4\u5982\u9884\u6d4bPM2.5.\u6211\u4eec\u5148\u4ece\u5386\u53f2\u6570\u636e\u4e2d\u627e\u5230PM2.5\u7684\u89c4\u5f8b,\u4ece\u800c\u9884\u6d4b\u672a\u6765PM2.5\u7684\u503c\u3002\n",
                "    \n",
                "  + \u5206\u7c7b\uff08Classification\uff09 \n",
                "    + \u4e8c\u5206\u7c7b(\u662f/\u5426,0/1)\n",
                "    + \u591a\u5206\u7c7b(\u7c7b\u522b1,\u7c7b\u522b2,...,\u7c7b\u522b N)\n",
                "    \n",
                "    \u5e94\u7528:\n",
                "    + \u5224\u65ad\u90ae\u4ef6\u662f\u5426\u4e3a\u5783\u573e\u90ae\u4ef6(http://spam-filter.toptenreviews.coms/)\n",
                "    + \u5c06\u65b0\u95fb\u8fdb\u884c\u5206\u7c7b(http://top-breaking-news.com/)\n",
                " \n",
                "  + \u6df1\u5ea6\u5b66\u4e60(Deep Learning)"
            ]
        },
        {
            "cell_type": "markdown",
            "metadata": {},
            "source": [
                "&nbsp;\n",
                "\n",
                "#### 5.2 \u534a\u76d1\u7763\u5b66\u4e60(Semi-Supervised learning)\n",
                "\n",
                "  \u6570\u636e\u96c6\u4e2d\u65e2\u5305\u542b\u5e26\u6807\u8bb0\u7684\u6570\u636e\u96c6,\u4e5f\u5305\u542b\u4e0d\u5e26\u6807\u8bb0\u7684\u6570\u636e,\u4f46\u662f\u5e26\u6807\u8bb0\u7684\u6570\u636e\u6bd4\u8f83\u5c11.\n",
                "\n",
                "  \u6bd4\u5982\u8bc6\u522b\u732b\u548c\u72d7:\n",
                "\n",
                "  ![](http://imgbed.momodel.cn/11_11.\u534a\u76d1\u7763\u5b66\u4e60.png)"
            ]
        },
        {
            "cell_type": "markdown",
            "metadata": {},
            "source": [
                "&nbsp;\n",
                "#### 5.3 \u8fc1\u79fb\u5b66\u4e60(Transfer learning) \n",
                "\n",
                "  \u8fc1\u79fb\u5b66\u4e60\u662f\u5728\u5df2\u7ecf\u5b66\u4e60\u7684\u57fa\u7840\u4e0a\uff0c\u53bb\u505a\u770b\u4f3c\u548c\u4ee5\u524d\u5b66\u4e60\u4e0d\u76f8\u5173\u7684\u4e8b\u60c5\uff0c\u4f46\u662f\u5b9e\u9645\u6548\u679c\u5f88\u597d\u3002\n",
                "  \n",
                "  \u4f8b\u5982\uff1a\u8fd8\u662f\u8bc6\u522b\u732b\u72d7\u7684\u4f8b\u5b50\uff0c\u6211\u4eec\u53ef\u4ee5\u5728\u8bc6\u522b\u732b\u72d7\u7684\u57fa\u7840\u4e0a\u8bc6\u522b\u5927\u8c61\u3001\u8001\u864e\u3002\uff08\u5728\u4e00\u5b9a\u7684\u57fa\u7840\u4e0a\u8fdb\u884c\u5b66\u4e60\uff09 \n",
                "  \n",
                "  ![](http://imgbed.momodel.cn/11_12_\u8fc1\u79fb\u5b66\u4e60.png)"
            ]
        },
        {
            "cell_type": "markdown",
            "metadata": {},
            "source": [
                "&nbsp;\n",
                "\n",
                "#### 5.4 \u975e\u76d1\u7763\u5b66\u4e60(Unsupervised learning) \n",
                "\n",
                "  \u975e\u76d1\u7763\u5b66\u4e60\u5c31\u662f\u6307\u5728\u6570\u636e\u96c6\u6ca1\u6709\u6807\u6ce8\u7684\u60c5\u51b5\u4e0b\u8fdb\u884c\u5b66\u4e60.\n",
                "  \n",
                "  \u6bd4\u5982:\n",
                "  \n",
                "  + \u673a\u5668\u9605\u8bfb\uff1a\u673a\u5668\u5728\u5927\u91cf\u7684\u6587\u6863\u4e2d\u5b66\u4f1a\u8bcd\u8bed\u7684\u610f\u601d\n",
                "  + \u673a\u5668\u7ed8\u753b\uff1a\u673a\u5668\u5728\u770b\u8fc7\u56fe\u7247\u4fe1\u606f\u540e\uff0c\u81ea\u5df1\u7ed8\u5236\u56fe\u7247"
            ]
        },
        {
            "cell_type": "markdown",
            "metadata": {},
            "source": [
                "&nbsp;\n",
                "#### 5.5 \u7ed3\u6784\u5316\u5b66\u4e60(Structed learning) \n",
                "\n",
                "\u7ed3\u6784\u5316\u5b66\u4e60\u5c31\u662f\u8f93\u5165\u6216\u8005\u8f93\u51fa\u5177\u6709\u7ed3\u6784\u7684\u6570\u636e\uff0c\u800c\u5728\u4e4b\u524d\u7684\u5b66\u4e60\u4e4b\u4e2d\uff0c\u8f93\u5165\u548c\u8f93\u51fa\u90fd\u662f\u5411\u91cf\u3002<br>\n",
                "\u5728\u7ed3\u6784\u5b66\u4e60\u4e2d\uff0c\u6211\u4eec\u9700\u8981\u5b66\u4e60\u7684\u662f\u4e00\u4e2a\u51fd\u6570 F \u3002<br>\n",
                "\u7ed3\u6784\u5316\u5b66\u4e60\u7684\u8f93\u5165\u548c\u8f93\u51fa\u90fd\u662f\u5bf9\u8c61\uff0c\u800c\u5bf9\u8c61\u53ef\u80fd\u662f\u5e8f\u5217\u3001\u5217\u8868\u6216\u8005\u6811\u7b49\u7b49,\u5f62\u5f0f\u53ef\u4ee5\u4e0d\u540c\u3002<br>\n",
                "\n",
                "  \n",
                "  \u5e94\u7528:\n",
                "  + \u8bed\u97f3\u8bc6\u522b\n",
                "  + \u673a\u5668\u7ffb\u8bd1\n",
                "  + \u4eba\u8138\u8bc6\u522b"
            ]
        },
        {
            "cell_type": "markdown",
            "metadata": {},
            "source": [
                "&nbsp;\n",
                "\n",
                "#### 5.6 \u589e\u5f3a\u5b66\u4e60(Reinforcement Learning\uff0cRL)\n",
                "\n",
                "  \u589e\u5f3a\u5b66\u4e60\u53c8\u53eb\u505a\u5f3a\u5316\u5b66\u4e60\uff0c\u662f\u8fd1\u5e74\u6765\u673a\u5668\u5b66\u4e60\u548c\u667a\u80fd\u63a7\u5236\u9886\u57df\u7684\u4e3b\u8981\u65b9\u6cd5\u4e4b\u4e00\u3002<br>\n",
                "  \u589e\u5f3a\u5b66\u4e60\u5173\u6ce8\u7684\u662f\u667a\u80fd\u4f53\u5982\u4f55\u5728\u73af\u5883\u4e2d\u91c7\u53d6\u4e00\u7cfb\u5217\u884c\u4e3a\uff0c\u4ece\u800c\u83b7\u5f97\u6700\u5927\u7684\u7d2f\u79ef\u56de\u62a5<br>\n",
                "  \u901a\u8fc7\u589e\u5f3a\u5b66\u4e60\uff0c\u4e00\u4e2a\u667a\u80fd\u4f53\u5e94\u8be5\u77e5\u9053\u5728\u4ec0\u4e48\u72b6\u6001\u4e0b\u5e94\u8be5\u91c7\u53d6\u4ec0\u4e48\u884c\u4e3a\u3002<br>\n",
                "  \u589e\u5f3a\u5b66\u4e60\u662f\u4ece\u73af\u5883\u72b6\u6001\u5230\u52a8\u4f5c\u7684\u6620\u5c04\u7684\u5b66\u4e60\uff0c\u6211\u4eec\u628a\u8fd9\u4e2a\u6620\u5c04\u79f0\u4e3a**\u7b56\u7565**\u3002<br>\n",
                "  **\u589e\u5f3a\u5b66\u4e60\u9700\u8981\u667a\u80fd\u4f53\u81ea\u5df1\u4e0d\u65ad\u5730\u4e0e\u6570\u636e/\u73af\u5883\u8fdb\u884c\u4ea4\u4e92\uff0c\u901a\u8fc7\u8bd5\u9519\u5b66\u4e60\u7684\u65b9\u5f0f\u83b7\u5f97\u6700\u4f73\u7b56\u7565\u3002**"
            ]
        }
    ],
    "metadata": {
        "kernelspec": {
            "display_name": "Python 3",
            "language": "python",
            "name": "python3"
        },
        "language_info": {
            "codemirror_mode": {
                "name": "ipython",
                "version": 3
            },
            "file_extension": ".py",
            "mimetype": "text/x-python",
            "name": "python",
            "nbconvert_exporter": "python",
            "pygments_lexer": "ipython3",
            "version": "3.6.7"
        }
    },
    "nbformat": 4,
    "nbformat_minor": 2
}