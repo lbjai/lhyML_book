{
    "cells": [
        {
            "cell_type": "markdown",
            "metadata": {},
            "source": [
                "### \u8fd9\u4e00\u8282\u6211\u4eec\u4e3b\u8981\u5b66\u4e60",
                "+ \u4e3a\u4ec0\u4e48\u8981\u4f7f\u7528\u8bcd\u5d4c\u5165\uff08Word Embedding\uff09\n",
                "+ \u4e3a\u4ec0\u4e48\u8bcd\u5d4c\u5165\u662f\u65e0\u76d1\u7763\u5b66\u4e60\n",
                "+ \u57fa\u4e8e\u7edf\u8ba1\uff08Count based \uff09\n",
                "+ \u57fa\u4e8e\u9884\u6d4b\uff08Predition based\uff09\n",
                "+ \u8bcd\u5d4c\u5165\u7684\u7279\u70b9\n",
                "+ \u8bcd\u5d4c\u5165\u7684\u4e3b\u8981\u5e94\u7528"
            ]
        },
        {
            "cell_type": "markdown",
            "metadata": {},
            "source": [
                "<br>"
            ]
        },
        {
            "cell_type": "markdown",
            "metadata": {},
            "source": [
                "### 1. \u4e3a\u4ec0\u4e48\u8981\u4f7f\u7528\u8bcd\u5d4c\u5165\n",
                ""
            ]
        },
        {
            "cell_type": "markdown",
            "metadata": {},
            "source": [
                "\n",
                "\n",
                "\u5728\u8bcd\u5d4c\u5165\u4e4b\u524d\u5f80\u5f80\u91c7\u7528 1-of-N Encoding \u7684\u65b9\u6cd5\uff0c\u5982\u4e0b\u56fe\u6240\u793a <br>"
            ]
        },
        {
            "cell_type": "markdown",
            "metadata": {},
            "source": [
                "![](http://imgbed.momodel.cn/25_1_ul_we.png)"
            ]
        },
        {
            "cell_type": "markdown",
            "metadata": {},
            "source": [
                "\u8fd9\u79cd\u65b9\u6cd5\u4e3b\u8981\u6709\u4e24\u4e2a\u7f3a\u70b9\uff0c\u9996\u5148\u8fd9\u79cd\u8868\u793a\u662f\u6b63\u4ea4\u7684\uff0c\u4f46\u662f\u6b63\u662f\u7531\u4e8e\u6b63\u4ea4\u6027\u4f7f\u5f97\u5177\u6709\u76f8\u4f3c\u5c5e\u6027\u7684\u8bcd\u4e4b\u95f4\u7684\u5173\u7cfb\u53d8\u5f97\u5fae\u5f31\uff1b<br>\n",
                "\u5176\u6b21\u8fd9\u79cd\u7f16\u7801\u65b9\u5f0f\u4f7f\u5f97\u8bcd\u5411\u91cf\u5f88\u957f\uff0c\u6bd4\u5982\u8bf4\u4e00\u5171\u670910\u4e07\u4e2a\u5355\u8bcd\uff0c\u90a3\u4e48\u5c31\u9700\u8981\u4e00\u4e2a\u957f\u5ea6\u4e3a10\u4e07\u7684\u8bcd\u5411\u91cf\u8fdb\u884c\u7f16\u7801\u3002<br>\n",
                "<br>\n",
                "\u4e3a\u4e86\u514b\u670d\u8fd9\u6837\u7684\u7f3a\u70b9\uff0c\u91c7\u7528\u4e86\u8bcd\u5d4c\u5165\u7684\u65b9\u6cd5\u3002\u8fd9\u79cd\u65b9\u6cd5\u5c06\u8bcd\u6620\u5c04\u5230\u9ad8\u7ef4\u4e4b\u4e2d\uff08\u4f46\u662f\u7ef4\u6570\u4ecd\u6bd4 1-of-N Encoding \u4f4e\u5f88\u591a\uff09\uff0c<br>\n",
                "\u76f8\u4f3c\u7684\u5355\u8bcd\u4f1a\u805a\u96c6\u5728\u4e00\u8d77\uff0c\u800c\u4e0d\u540c\u7684\u5355\u8bcd\u4f1a\u5206\u5f00\uff1b\u6bcf\u4e2a\u5750\u6807\u8f74\u53ef\u4ee5\u770b\u4f5c\u662f\u533a\u5206\u8fd9\u4e9b\u5355\u8bcd\u7684\u4e00\u79cd\u5c5e\u6027\uff0c<br>\n",
                "\u6bd4\u5982\u8bf4\u5728\u4e0a\u56fe\u4e2d\uff0c\u6a2a\u5750\u6807\u53ef\u4ee5\u8ba4\u4e3a\u662f\u751f\u7269\u4e0e\u5176\u4ed6\u7684\u533a\u522b\uff0c\u7eb5\u5750\u6807\u53ef\u4ee5\u8ba4\u4e3a\u662f\u4f1a\u52a8\u548c\u4e0d\u4f1a\u52a8\u7684\u533a\u522b\u3002<br>\n"
            ]
        },
        {
            "cell_type": "markdown",
            "metadata": {},
            "source": [
                "<br>"
            ]
        },
        {
            "cell_type": "markdown",
            "metadata": {},
            "source": [
                "### 2. \u4e3a\u4ec0\u4e48\u8bcd\u5d4c\u5165\u662f\u65e0\u76d1\u7763\u5b66\u4e60\n",
                "\n",
                ""
            ]
        },
        {
            "cell_type": "markdown",
            "metadata": {},
            "source": [
                "\u56e0\u4e3a\u5728\u8fdb\u884c\u5b66\u4e60\u7684\u8fc7\u7a0b\u4e2d\uff0c\u6211\u4eec\u53ea\u77e5\u9053\u8f93\u5165\u7684\u662f\u8bcd\u7684\u4e00\u79cd\u7f16\u7801\uff0c\u8f93\u51fa\u7684\u662f\u8bcd\u7684\u53e6\u4e00\u79cd\u7f16\u7801\uff0c\u4f46\u662f\u5e76\u4e0d\u77e5\u9053\u5177\u4f53\u5e94\u8be5\u662f\u600e\u6837\u7684\u4e00\u79cd\u7f16\u7801\uff0c\u6240\u4ee5\u662f\u65e0\u76d1\u7763\u5b66\u4e60\u3002<br> \n",
                "\u6709\u7684\u4eba\u53ef\u80fd\u60f3\u53ef\u4ee5\u901a\u8fc7\u81ea\u7f16\u7801\u7684\u65b9\u5f0f\u5b9e\u73b0\u8bcd\u5d4c\u5165\uff0c\u4f46\u662f\u5982\u679c\u4f60\u5f97\u8f93\u5165\u662f 1-of-N Encoding \u7684\u8bdd\uff0c\u662f\u57fa\u672c\u4e0a\u4e0d\u53ef\u4ee5\u91c7\u7528\u8fd9\u6837\u7684\u65b9\u6cd5\u5904\u7406\u7684 \uff0c\u56e0\u4e3a\u8f93\u5165\u7684\u5411\u91cf\u90fd\u662f\u65e0\u5173\u7684\uff0c\u5f88\u96be\u901a\u8fc7\u81ea\u7f16\u7801\u7684\u8fc7\u7a0b\u63d0\u53d6\u51fa\u4ec0\u4e48\u6709\u7528\u7684\u4fe1\u606f\u3002<br>\n"
            ]
        },
        {
            "cell_type": "markdown",
            "metadata": {},
            "source": [
                "**\u8bcd\u5d4c\u5165**\u7684\u4e24\u79cd\u65b9\u5f0f:<br>\n",
                "\u8bcd\u5d4c\u5165 \u4e3b\u8981\u6709**\u57fa\u4e8e\u7edf\u8ba1 \uff08Count based \uff09** \u548c**\u57fa\u4e8e\u9884\u6d4b \uff08Predition based\uff09** \u7684\u4e24\u79cd\u65b9\u6cd5\u3002"
            ]
        },
        {
            "cell_type": "markdown",
            "metadata": {},
            "source": [
                "<br>"
            ]
        },
        {
            "cell_type": "markdown",
            "metadata": {},
            "source": [
                "### 3. \u57fa\u4e8e\u7edf\u8ba1\uff08Count based \uff09<br>\n",
                "",
                "<br>\u2003\n",
                "\u8fd9\u79cd\u65b9\u6cd5\u7684\u4e3b\u8981\u601d\u8def\u5982\u4e0b\u56fe\u6240\u793a "
            ]
        },
        {
            "cell_type": "markdown",
            "metadata": {},
            "source": [
                "![](http://imgbed.momodel.cn/25_2_ul_we.png)"
            ]
        },
        {
            "cell_type": "markdown",
            "metadata": {},
            "source": [
                "\u4e24\u8bcd\u5411\u91cf\u5171\u540c\u51fa\u73b0\u7684\u9891\u7387\u6bd4\u8f83\u9ad8\u7684\u8bdd\uff0c\u90a3\u4e48\u8fd9\u4e24\u4e2a\u8bcd\u5411\u91cf\u4e5f\u5e94\u8be5\u6bd4\u8f83\u76f8\u4f3c\u3002<br>\n",
                "\u6240\u4ee5\u4e24\u4e2a\u8bcd\u5411\u91cf\u7684\u70b9\u79ef\u5e94\u8be5\u4e0e\u5b83\u4eec\u516c\u5171\u51fa\u73b0\u7684\u6b21\u6570\u6210\u6b63\u6bd4\uff0c\u8fd9\u4e0e\u4e0a\u8282\u8bfe\u8bb2\u7684\u77e9\u9635\u5206\u89e3\u5c31\u5f88\u50cf\u4e86\u3002<br>\n",
                "\u5177\u4f53\u53ef\u4ee5\u53c2\u8003\uff1aGlove Vector : http://nlp.stanford.edu/projects/glove/<br>"
            ]
        },
        {
            "cell_type": "markdown",
            "metadata": {},
            "source": [
                "<br>"
            ]
        },
        {
            "cell_type": "markdown",
            "metadata": {},
            "source": [
                "### 4. \u57fa\u4e8e\u9884\u6d4b\uff08Prediction based\uff09\n",
                "\u7528\u524d\u4e00\u4e2a\u8bcd\u9884\u6d4b\u540e\u4e00\u4e2a\u8bcd\uff1a"
            ]
        },
        {
            "cell_type": "markdown",
            "metadata": {},
            "source": [
                "#### 4.1 \u8bcd\u9884\u6d4b\u8bad\u7ec3\u8fc7\u7a0b\n",
                "\n",
                "\n",
                ""
            ]
        },
        {
            "cell_type": "markdown",
            "metadata": {},
            "source": [
                "![](http://imgbed.momodel.cn/25_3_ul_we.png)"
            ]
        },
        {
            "cell_type": "markdown",
            "metadata": {},
            "source": [
                "\u4e2d\u6587\u4e2d\u201c\u6f6e\u201d\u3001\u201c\u6c34\u201d\u662f\u4e00\u4e2a\u5b57\uff0c\u800c\u201c\u6f6e\u6c34\u201d\u662f\u4e00\u4e2a\u8bcd\u3002<br>\n",
                "\u4e2d\u6587\u662f\u4ee5\u8bcd\u548c\u5b57\u4e3a\u5355\u4f4d\u8fdb\u884c\u5206\u8bcd\u5904\u7406\uff0c\u6545\u5bf9\u4e2d\u6587\u5982\u4f55\u5206\u8bcd\u662f\u5341\u5206\u91cd\u8981\u7684\u3002<br>\n",
                "\u4f46\u662f\u5bf9\u4e2d\u6587\u6709\u4e00\u4e2a\u65ad\u8bcd\u95ee\u9898\uff0c\u5c31\u662f\u4e00\u4e2a\u53e5\u5b50\u6709\u597d\u51e0\u79cd\u4e0d\u540c\u7684\u5206\u65ad\u6cd5\u3002<br>\n",
                "\u5176\u4f5c\u7528\u53ef\u4ee5\u62ff\u6765\u505a\u63a8\u6587\u63a5\u8bdd\uff0c\u5982\u4e0b\uff1a"
            ]
        },
        {
            "cell_type": "markdown",
            "metadata": {},
            "source": [
                "![](http://imgbed.momodel.cn/25_4_ul_we.png)"
            ]
        },
        {
            "cell_type": "markdown",
            "metadata": {},
            "source": [
                "\u4e0a\u56fe\u4e2d\u7ea2\u8272\u90e8\u5206\u90fd\u662f\u4e00\u4e2a\u8bcd\u63a5\u4e00\u4e2a\u8bcd\u9884\u6d4b\u51fa\u6765\uff0c\u7136\u540e\u5f62\u6210\u4e00\u53e5\u8bdd\u3002<br>\n",
                "\u63a8\u6587\u63a5\u8bdd\u53c2\u8003\uff1ahttps://www.ptt.cc/bbs/Teacher/M.1317226791.A.558.html<br>\n",
                "\u9884\u6d4b\u7684\u53e6\u5916\u4e00\u4e2a\u4f5c\u7528\uff1aLanguage Modeling<br>"
            ]
        },
        {
            "cell_type": "markdown",
            "metadata": {},
            "source": [
                "![](http://imgbed.momodel.cn/25_5_ul_we.png)"
            ]
        },
        {
            "cell_type": "markdown",
            "metadata": {},
            "source": [
                "\u9884\u6d4b\u4e00\u4e2a\u53e5\u5b50\u51fa\u73b0\u7684\u51e0\u7387\uff0c\u901a\u5e38\u91c7\u7528\u4f30\u6d4b\u8be5\u53e5\u5b50\u4e2d\u9996\u4e2a\u5355\u8bcd\u63a5\u4e0b\u6765\u7684\u5355\u8bcd\u6982\u7387\uff08\u6bd4\u5982\u901a\u8fc7 wreck \u5f97\u5230 a \u7684\u6982\u7387\uff09\uff0c<br>\n",
                "\u4f9d\u6b21\u7c7b\u63a8\u6700\u7ec8\u5f97\u5230\u53e5\u5b50\u7684\u6982\u7387\u7b49\u4e8e\u6240\u6709\u5355\u8bcd\u7684\u6982\u7387\u7684\u4e58\u79ef\u3002<br>\n",
                "\u6bd4\u5982\u56fe\u4e2dp(wrek|START)p(a|wreck)p(nice|a)p(beach|nice)<br>\n",
                "\u4e3b\u8981\u5e94\u7528\u5728\u673a\u5668\u7ffb\u8bd1\u3001\u8bed\u97f3\u8bc6\u522b\u4e2d\u3002<br>"
            ]
        },
        {
            "cell_type": "markdown",
            "metadata": {},
            "source": [
                "![](http://imgbed.momodel.cn/25_6_ul_we.png)"
            ]
        },
        {
            "cell_type": "markdown",
            "metadata": {},
            "source": [
                " \u4e0a\u56fe\u4e3b\u8981\u8868\u8fbe\uff1a\u9884\u6d4b$w_t$\u51fa\u73b0\u7684\u51e0\u7387\uff0c<br>\n",
                "    \u8f93\u5165\u662f\uff1a$w_{t-1},w_{t-2},...,w_{t-n+1}$<br>\n",
                "   \u6bcf\u4e00\u4e2a\u8f93\u5165\u90fd\u4f1a\u4e58\u4e0a\u4e00\u4e2a\u77e9\u9635C\uff0c\u6210\u4e3a$C(w_{t-1})\uff0cC\uff08w_{t-2}\uff09,...,C(w_{t-n+1})$<br>\n",
                "   \u7136\u540e\u5c06\u4e0a\u8ff0\u7ed3\u679c\u5e76\u8d77\u6765\u5e76\u901a\u8fc7 tanh \u6fc0\u6d3b\u51fd\u6570\u548c softmax \u5904\u7406\u5f97\u5230\u67d0\u4e2a\u5355\u8bcd\u51fa\u73b0\u7684\u51e0\u7387\u3002<br>"
            ]
        },
        {
            "cell_type": "markdown",
            "metadata": {},
            "source": [
                "#### 4.2 \u57fa\u4e8e\u9884\u6d4b\u7684\u539f\u7406 \n",
                "\n",
                ""
            ]
        },
        {
            "cell_type": "markdown",
            "metadata": {},
            "source": [
                "![](http://imgbed.momodel.cn/25_7_ul_we.png)"
            ]
        },
        {
            "cell_type": "markdown",
            "metadata": {},
            "source": [
                "\u9996\u5148\u5bf9\u8bcd\u8fdb\u884c one-hot \u7f16\u7801\uff0c\u7136\u540e\u8fdb\u884c\u7c7b\u4f3c\u4e8e\u964d\u7ef4\u7684\u5904\u7406\uff0c<br>\n",
                "\u5f97\u5230\u7b2c\u4e00\u4e2a\u9690\u85cf\u5c42\u7684\u8f93\u5165 $z_1,z_2,...$<br>\n",
                "\u8bad\u7ec3\u51fa\u795e\u7ecf\u7f51\u7edc\uff0c\u6240\u4ee5\u6211\u4eec\u5c06\u5b83\u7684\u7b2c\u4e00\u4e2a\u9690\u85cf\u5c42\u62ff\u51fa\u6765\uff0c\u5c31\u80fd\u5c06\u5b83\u4eec\u5bf9\u5e94\u5230\u76f8\u5e94\u7684\u7a7a\u95f4\u3002<br>\n"
            ]
        },
        {
            "cell_type": "markdown",
            "metadata": {},
            "source": [
                "![](http://imgbed.momodel.cn/25_8_ul_we.png)"
            ]
        },
        {
            "cell_type": "markdown",
            "metadata": {},
            "source": [
                "\u7528\u7b2c\u4e00\u4e2a\u9690\u85cf\u5c42\u7684\u8f93\u51fa\u4ee3\u8868\u8be5\u8bcd\u7684\u8bcd\u5411\u91cf\u3002\uff08\u56fe\u4e2d\u7eff\u8272\u7684\u4e00\u5c42\uff09<br>\n",
                "\u4f8b\u5b50\u4e2d\u201c\u8521\u82f1\u6587\u201d\u3001\u201c\u9a6c\u82f1\u4e5d\u201d\u8981\u8ba9\u5b83\u4eec\u5728\u8fdb\u5165\u9690\u85cf\u5c42\u4e4b\u540e\u8f93\u5165\u76f8\u8fd1\uff08\u4e3a\u4e86\u5f97\u51fa\u5171\u540c\u7ed3\u679c\u201c\u5ba3\u8a93\u5c31\u804c\u201d\uff09\u3002<br>\n",
                "\u800c\u4e14\uff0c\u4ec5\u901a\u8fc7\u4e00\u4e2a\u8bcd\u6c47\u5c31\u8981\u9884\u6d4b\u4e0b\u4e00\u4e2a\u8bcd\u6c47\u662f\u5f88\u96be\u7684\uff0c\u6240\u4ee5\u901a\u8fc7\u5171\u4eab\u53c2\u6570\u6765\u8fdb\u884c\u589e\u5f3a\u3002<br>"
            ]
        },
        {
            "cell_type": "markdown",
            "metadata": {},
            "source": [
                "#### 4.3 \u5171\u4eab\u53c2\u6570\uff08Sharing Parameters\uff09\n",
                "",
                "\n",
                "\n",
                "\u4e0d\u4ec5\u7528\u524d\u4e00\u4e2a\u8bcd\uff0c\u8fd8\u7528\u524d n \u4e2a\u8bcd\u6765\u4e00\u8d77\u9884\u6d4b\u3002"
            ]
        },
        {
            "cell_type": "markdown",
            "metadata": {},
            "source": [
                "![](http://imgbed.momodel.cn/25_9_ul_we.png)"
            ]
        },
        {
            "cell_type": "markdown",
            "metadata": {},
            "source": [
                "\u540c\u6837\u7684\u6743\u91cd\u662f\u4e3a\u4e86\u8ba9\u540c\u4e00\u4e2a\u8bcd\u653e\u5728 i-1 \u7684\u4f4d\u7f6e\u548c i-2 \u7684\u4f4d\u7f6e\u90fd\u6709\u540c\u6837\u7684\u8f93\u51fa\uff0c\u6216\u8005\u4e24\u4e2a\u8fd1\u4e49\u8bcd\u53ef\u4ee5\u5f97\u5230\u8fd1\u4f3c\u7684\u8bcd\u5411\u91cf\u8f93\u51fa\uff0c\u53e6\u5916\u7684\u597d\u5904\u662f\u53ef\u4ee5\u51cf\u5c11\u53c2\u6570\u91cf\u3002 <br>\n",
                "\u8ba1\u7b97\u8fc7\u7a0b\uff1a"
            ]
        },
        {
            "cell_type": "markdown",
            "metadata": {},
            "source": [
                "![](http://imgbed.momodel.cn/25_10_ul_we.png)"
            ]
        },
        {
            "cell_type": "markdown",
            "metadata": {},
            "source": [
                "#### 4.4 \u57fa\u4e8e\u9884\u6d4b\u7684\u5176\u4ed6\u7ed3\u6784\n",
                "\n",
                "",
                "\n",
                "\n",
                "\u7528\u524d\u4e24\u4e2a\u8bcd\u9884\u6d4b\u540e\u4e00\u4e2a\u8bcd\u548c\u901a\u8fc7\u4e2d\u95f4\u8bcd\u6c47\u9884\u6d4b\u524d\u540e2\u4e2a\u8bcd\u6c47"
            ]
        },
        {
            "cell_type": "markdown",
            "metadata": {},
            "source": [
                "![](http://imgbed.momodel.cn/25_11_ul_we.png)"
            ]
        },
        {
            "cell_type": "markdown",
            "metadata": {},
            "source": [
                "### 5. \u8bcd\u5d4c\u5165\u7684\u7279\u70b9\n",
                ""
            ]
        },
        {
            "cell_type": "markdown",
            "metadata": {},
            "source": [
                "![](http://imgbed.momodel.cn/25_12_ul_we.png)"
            ]
        },
        {
            "cell_type": "markdown",
            "metadata": {},
            "source": [
                "![](http://imgbed.momodel.cn/25_13_ul_we.png)"
            ]
        },
        {
            "cell_type": "markdown",
            "metadata": {},
            "source": [
                "\u56fd\u5bb6\u4e0e\u9996\u90fd\u6709\u7740\u56fa\u5b9a\u7684\u5173\u7cfb\u3001\u52a8\u8bcd\u7684\u4e09\u6001\u53d8\u5316\u662f\u4e00\u4e2a\u6709\u8da3\u7684\u4e09\u89d2\u5f62\u3002<br>\n",
                "\u53ef\u4ee5\u53d1\u73b0\uff0c\u6211\u4eec\u628a\u540c\u6837\u7c7b\u578b\u7684\u5355\u8bcd\u6446\u5728\u4e00\u8d77\uff0c\u4ed6\u4eec\u4e4b\u95f4\u662f\u6709\u56fa\u5b9a\u7684\u5173\u7cfb\u7684\u3002<br>\n",
                "\u6bd4\u5982\u8ba9\u4e24\u4e2a\u5355\u8bcd\u4e24\u4e24\u76f8\u51cf\uff0c\u7136\u540e\u90e8\u7f72\u5230\u4e00\u4e2a\u7a7a\u95f4\u4e0a\uff0c\u5982\u679c\u843d\u5230\u540c\u4e00\u5904\uff0c\u5219\u4ed6\u4eec\u4e4b\u95f4\u7684\u5173\u7cfb\u662f\u5f88\u7c7b\u4f3c\u7684\u3002<br>\n",
                "\u53c2\u8003\u8d44\u6599\uff1a http://www.slideshare.net/hustwj/cikm-keynotenov2014"
            ]
        },
        {
            "cell_type": "markdown",
            "metadata": {},
            "source": [
                "<br>"
            ]
        },
        {
            "cell_type": "markdown",
            "metadata": {},
            "source": [
                "### 6. \u5e94\u7528\n",
                "\n",
                ""
            ]
        },
        {
            "cell_type": "markdown",
            "metadata": {},
            "source": [
                "+ \u591a\u8bed\u79cd\u8bcd\u5411\u91cf \uff08Multi-lingual Embedding\uff09"
            ]
        },
        {
            "cell_type": "markdown",
            "metadata": {},
            "source": [
                "![](http://imgbed.momodel.cn/25_14_ul_we.png)"
            ]
        },
        {
            "cell_type": "markdown",
            "metadata": {},
            "source": [
                "\u4e2d\u6587\u7684 word embedding \u548c\u82f1\u6587\u7684 word embedding \u65e0\u6cd5\u5c06\u5176\u6df7\u5728\u4e00\u8d77\u4f7f\u7528\u3002<br>\n",
                "\u4f46\u662f\u5c06\u4e00\u4e9b\u4e2d\u6587\u82f1\u6587\u5bf9\u5e94\u7684\u8bcd\u653e\u5728\u4e00\u8d77\u8bad\u7ec3\u540e\uff0c\u9ec4\u8272\u90e8\u5206\u8bcd\u6c47\u9760\u8fd1\u5176\u76f8\u8fd1\u610f\u601d\u7684\u4e2d\u6587\u8bcd\u6c47\u9644\u8fd1\u3002"
            ]
        },
        {
            "cell_type": "markdown",
            "metadata": {},
            "source": [
                "+ \u6587\u7ae0 Embedding\uff08Document Embedding\uff09"
            ]
        },
        {
            "cell_type": "markdown",
            "metadata": {},
            "source": [
                "![](http://imgbed.momodel.cn/25_15_ul_we.png)"
            ]
        },
        {
            "cell_type": "markdown",
            "metadata": {},
            "source": [
                "![](http://imgbed.momodel.cn/25_16_ul_we.png)"
            ]
        },
        {
            "cell_type": "markdown",
            "metadata": {},
            "source": [
                "\u96be\u70b9\uff1a\u4e0d\u540c\u6587\u7ae0\u957f\u5ea6\u4e0d\u4e00\u81f4\uff1b\u4e0d\u540c\u7684\u6587\u7ae0\u5185\u5bb9\u6709\u4e0d\u540c\u7684\u8bcd\u6c47\u6570\u76ee\uff1b<br>\n",
                "\u89e3\u51b3\u65b9\u5f0f\uff1a\u91c7\u7528 bag-of-word \u6765\u63cf\u8ff0\u6587\u7ae0"
            ]
        },
        {
            "cell_type": "markdown",
            "metadata": {},
            "source": [
                "![](http://imgbed.momodel.cn/25_17_ul_we.png)"
            ]
        },
        {
            "cell_type": "markdown",
            "metadata": {},
            "source": [
                "\u76f8\u540c\u8bcd\u6c47\uff0c\u4e0d\u540c\u987a\u5e8f\u8868\u8fbe\u4e0d\u540c\u7684\u610f\u601d\u3002"
            ]
        },
        {
            "cell_type": "markdown",
            "metadata": {},
            "source": [
                "### 7. \u603b\u7ed3\n",
                "+ \u8bcd\u5d4c\u5165\u7684\u4f5c\u7528\u548c\u5206\u7c7b\n",
                "+ \u57fa\u4e8e\u7edf\u8ba1\u7684\u8bcd\u5d4c\u5165\u6a21\u578b\u539f\u7406\n",
                "+ \u57fa\u4e8e\u9884\u6d4b\u7684\u8bcd\u5d4c\u5165\u6a21\u578b\u539f\u7406"
            ]
        },
        {
            "cell_type": "markdown",
            "metadata": {},
            "source": [
                "**\u725b\u5200\u5c0f\u8bd5**\n",
                "\n",
                "\u4e3a\u4f55\u4e2d\u6587\u9700\u8981\u5206\u8bcd\uff1f"
            ]
        },
        {
            "cell_type": "markdown",
            "metadata": {},
            "source": [
                "\n",
                "<span class='md-hint-alone-link pop 0'>\u67e5\u770b\u7b54\u6848</span>"
            ]
        }
    ],
    "metadata": {
        "kernelspec": {
            "display_name": "Python 3",
            "language": "python",
            "name": "python3"
        },
        "language_info": {
            "codemirror_mode": {
                "name": "ipython",
                "version": 3
            },
            "file_extension": ".py",
            "mimetype": "text/x-python",
            "name": "python",
            "nbconvert_exporter": "python",
            "pygments_lexer": "ipython3",
            "version": "3.5.2"
        }
    },
    "nbformat": 4,
    "nbformat_minor": 2
}