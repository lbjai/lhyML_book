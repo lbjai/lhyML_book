{
    "cells": [
        {
            "cell_type": "markdown",
            "metadata": {},
            "source": [
                "### \u8fd9\u4e00\u8282\u6211\u4eec\u4e3b\u8981\u5b66\u4e60",
                "\n",
                "\n",
                "+ \u4ecb\u7ecd Auto-encoder\n",
                "+ \u6df1\u5ea6\u81ea\u52a8\u7f16\u7801\n",
                "+ \u6df1\u5ea6\u81ea\u52a8\u7f16\u7801\u5b9e\u4f8b\u5316"
            ]
        },
        {
            "cell_type": "markdown",
            "metadata": {},
            "source": [
                "### 1. \u4ecb\u7ecd Auto-encoder <br>\n",
                "",
                "\n",
                "\u57fa\u672c\u4e0a Auto-encoder \u662f\u4f7f\u7528\u795e\u7ecf\u7f51\u7edc\u8fdb\u884c\u964d\u7dad\u3002<br>\n",
                "\u7f16\u7801\u5668\uff08Encoder\uff09\u5c06\u8f93\u5165\u964d\u7ef4\u6210\u4e00\u6bb5 code \uff1b\u7136\u540e\u901a\u8fc7\u89e3\u7801\u5668\uff08Decoder\uff09\u8fdb\u884c\u89e3\u7801\u8f93\u51fa\u3002\u6700\u7ec8\u76ee\u6807\u662f\u8ba9\u8f93\u5165\u548c\u8f93\u51fa\u76f8\u7b49\u6216\u5341\u5206\u63a5\u8fd1\u3002<br>"
            ]
        },
        {
            "cell_type": "markdown",
            "metadata": {},
            "source": [
                "![](http://imgbed.momodel.cn/27_01_ul_ae.png)"
            ]
        },
        {
            "cell_type": "markdown",
            "metadata": {},
            "source": [
                "\u5728\u624b\u5199\u6570\u5b57\u8bc6\u522b\u4efb\u52a1\u4e2d\uff0c\u60f3\u8bad\u7ec3\u4e00\u4e2a NN encoder \uff0c\u5f97\u5230\u56fe\u50cf\u7684\u7cbe\u7b80\u8868\u8fbe\u3002<br>\n",
                "\u4f46\u505a\u7684\u662f\u65e0\u76d1\u7763\u5b66\u4e60\uff0c\u53ef\u4ee5\u627e\u5230\u5f88\u591a input image \uff0c\u4f46\u662f\u4e0d\u77e5\u9053 code \u6700\u7ec8\u7ed3\u679c\u65e0\u6cd5\u8ba1\u7b97\u8bef\u5dee\uff0c\u6240\u4ee5\u6ca1\u6cd5\u5b66\u4e60\u66f4\u65b0\u7f16\u7801\u5668\uff08NN Encoder\uff09\u3002<br>\n",
                "\u4e8e\u662f\u53c8\u63d0\u51fa\u4e00\u4e2a NN decoder\uff08\u4e5f\u6ca1\u6cd5\u5355\u72ec\u66f4\u65b0\uff09\uff0c\u628a\u4e24\u8005\u8fde\u63a5\u5728\u4e00\u8d77\u901a\u8fc7\u6bd4\u8f83\u8f93\u5165\u548c\u8f93\u51fa\u7684\u8bef\u5dee\u66f4\u65b0\u7f16\u7801\u5668\u548c\u89e3\u7801\u5668 \u3002<br> "
            ]
        },
        {
            "cell_type": "markdown",
            "metadata": {},
            "source": [
                "![](http://imgbed.momodel.cn/27_02_ul_pca.png)"
            ]
        },
        {
            "cell_type": "markdown",
            "metadata": {},
            "source": [
                "PCA \u8fc7\u7a0b\u56de\u987e\uff1a<br>\n",
                "\u9996\u5148\u901a\u8fc7\u8f93\u5165\u7684\u56fe\u7247\uff0c\u4e58\u4ee5\u77e9\u9635W\uff0c\u5f97\u5230\u964d\u7ef4\u540e\u7684\u6570\u636e\uff0c<br>\n",
                "\u7136\u540e\u5bf9\u4e8e\u964d\u7ef4\u6570\u636e\u4e58\u4ee5\u524d\u8ff0\u77e9\u9635\u7684\u8f6c\u7f6e\uff0c\u53ef\u4ee5\u5f97\u5230\u9884\u6d4b\u7684\u8f93\u51fa\u56fe\u7247\u3002<br>"
            ]
        },
        {
            "cell_type": "markdown",
            "metadata": {},
            "source": [
                "### 2. \u6df1\u5ea6\u81ea\u52a8\u7f16\u7801\n",
                "\n",
                ""
            ]
        },
        {
            "cell_type": "markdown",
            "metadata": {},
            "source": [
                "![](http://imgbed.momodel.cn/27_03_ul_ae.png)"
            ]
        },
        {
            "cell_type": "markdown",
            "metadata": {},
            "source": [
                "\u5f53\u8fd9\u4e2a\u7ed3\u6784\u53d8\u5f97\u5f88\u6df1\uff0c\u5c31\u53d8\u6210\u4e86deep auto-encoder\uff0cencoder \u548c decoder \u7684\u7cfb\u6570\u4e0d\u4e00\u5b9a\u662f\u5bf9\u79f0\u7684\u3002"
            ]
        },
        {
            "cell_type": "markdown",
            "metadata": {},
            "source": [
                "![](http://imgbed.momodel.cn/27_04_ul_ae.png)"
            ]
        },
        {
            "cell_type": "markdown",
            "metadata": {},
            "source": [
                "\u4e0a\u56fe\u4e0a\u9762\u90e8\u5206\u662f\u624b\u5199\u6570\u5b57\u91c7\u7528 PCA \u964d\u7ef4:\u628a784\u7ef4\u964d\u523030\u7ef4\u518d\u6062\u590d\u5230784\u7ef4<br>\n",
                "\u4e0b\u9762\u662f\u91c7\u7528 deep auto-encoder \u964d\u7ef4\uff1a784-1000-500-250-30-250-500-1000-784<br>\n",
                "PCA&Deep Auto-encoder \u6bd4\u8f83\uff0c\u660e\u663e\u540e\u8005\u6548\u679c\u66f4\u597d\u3002<br>\n",
                "\u4e0d\u8fc7\u4ee5\u4e0a\u4e0d\u662f\u91cd\u70b9\uff0c\u91cd\u70b9\u5982\u4e0b\uff1a"
            ]
        },
        {
            "cell_type": "markdown",
            "metadata": {},
            "source": [
                "![](http://imgbed.momodel.cn/27_05_ul_ae.png)"
            ]
        },
        {
            "cell_type": "markdown",
            "metadata": {},
            "source": [
                "\u5f53 code \u4e3a\u4e8c\u7ef4\u65f6\uff0c\u5f88\u660e\u663e\u770b\u5230 Deep Auto-encoder \u4f7f\u6570\u5b57\u624b\u5199\u8bc6\u522b\u96c6\u5206\u7c7b\u5730\u66f4\u597d\u3002"
            ]
        },
        {
            "cell_type": "markdown",
            "metadata": {},
            "source": [
                "+ \u6dfb\u52a0\u566a\u58f0"
            ]
        },
        {
            "cell_type": "markdown",
            "metadata": {},
            "source": [
                "![](http://imgbed.momodel.cn/27_06_ul_ae.png)"
            ]
        },
        {
            "cell_type": "markdown",
            "metadata": {},
            "source": [
                "\u4e3a\u4e86\u8ba9 auto-encoder \u5b66\u7684\u66f4\u597d\uff0c\u6211\u4eec\u53ef\u4ee5\u5728\u8f93\u5165\u52a0\u5165\u566a\u97f3"
            ]
        },
        {
            "cell_type": "markdown",
            "metadata": {},
            "source": [
                "### 3. \u6df1\u5ea6\u81ea\u52a8\u7f16\u7801\u5b9e\u4f8b\u5316\n",
                "\n",
                "\n",
                "\n",
                "#### 3.1 \u5e94\u7528\u4e8e\u56fe\u7247\n"
            ]
        },
        {
            "cell_type": "markdown",
            "metadata": {},
            "source": [
                "\n",
                ""
            ]
        },
        {
            "cell_type": "markdown",
            "metadata": {},
            "source": [
                "![](http://imgbed.momodel.cn/27_07_ul_ae.png)"
            ]
        },
        {
            "cell_type": "markdown",
            "metadata": {},
            "source": [
                "\u76f4\u63a5\u5bf9\u50cf\u7d20\u505a t-SEN \uff0c\u628a PCA \u964d\u7ef4\u523032\u7ef4\uff0c\u989c\u8272\u5206\u5f00\u6548\u679c\u8fd8\u597d\u3002<br>\n",
                "\u4e0e\u4e0a\u9762 Deep auto-encoder \u5bf9\u6bd4:<br>\n",
                "1\u6210\u529f\u7684\u88ab\u5206\u5f00\u4e86\uff0c4\u4e0e9\u4e0e\u5206\u5f00\u6ca1\u6709\u5f88\u660e\u663e\uff0c\u4f46\u662f\u6548\u679c\u6bd4\u539f\u672c\u6df7\u5728\u4e00\u8d77\u597d\u3002<br>"
            ]
        },
        {
            "cell_type": "markdown",
            "metadata": {},
            "source": [
                "#### 3.2 \u5e94\u7528\u4e8e\u6587\u5b57\u5904\u7406\n",
                "\n",
                "\n",
                ""
            ]
        },
        {
            "cell_type": "markdown",
            "metadata": {},
            "source": [
                "![](http://imgbed.momodel.cn/27_08_ul_ae.png)"
            ]
        },
        {
            "cell_type": "markdown",
            "metadata": {},
            "source": [
                "\u628a\u6587\u7ae0\u53d8\u6210\u4e00\u6bb5 code \uff0c\u5f97\u5230 vector space model \uff0c<br>\n",
                "\u628a\u67e5\u8be2\u8bcd\u6c47\u4e5f\u53d8\u6210\u4e00\u4e2a vector \uff0c\u4ece\u800c\u8fdb\u884c\u67e5\u8be2\u3002<br> \n",
                "\u6bd4\u5982\u56fe\u4e2d\u4e0e\u67e5\u8be2\u7684\u5411\u91cf\u63a5\u8fd1\u7684\u4e3a\u7ea2\u8272\u5de6\u8fb9\u548c\u53f3\u8fb9\u7684\u6587\u7ae0\u5411\u91cf\uff0c\u5c06\u5411\u91cf\u89e3\u7801\u540e\u53ef\u80fd\u5c31\u662f\u6240\u67e5\u8be2\u5f97\u5230\u7684\u7ed3\u679c<br>\n",
                "\u4e00\u79cd\u65b9\u6cd5\u662f**\u8bcd\u888b**\uff0c\u4f46\u662f\u8fd9\u79cd\u65b9\u6cd5\u4e2d\u6bcf\u4e2a\u8bcd\u90fd\u72ec\u7acb\uff0c\u4e0d\u80fd\u77e5\u9053\u8bed\u610f\u3002<br> "
            ]
        },
        {
            "cell_type": "markdown",
            "metadata": {},
            "source": [
                "![](http://imgbed.momodel.cn/27_09_ul_ae.png)"
            ]
        },
        {
            "cell_type": "markdown",
            "metadata": {},
            "source": [
                "\u8981\u628a\u8bed\u610f\u8003\u8651\u8fdb\u6765\u7684\u8bdd\uff0c\u8981\u7528 Auto-encoder \u3002<br>\n",
                "\u8bcd\u888b\u7ecf\u8fc7 auto-encoder \u4e4b\u540e\u5f97\u5230 code \u3002\u4e0a\u56fe\u4e2d\u4e0d\u540c\u989c\u8272\u4ee3\u8868\u6587\u6863\u7684\u4e0d\u540c\u79cd\u7c7b\u3002<br>"
            ]
        },
        {
            "cell_type": "markdown",
            "metadata": {},
            "source": [
                "#### 3.3 \u5e94\u7528\u4e8e\u4ee5\u56fe\u627e\u56fe\n",
                "\n",
                "\n",
                "",
                "\n"
            ]
        },
        {
            "cell_type": "markdown",
            "metadata": {},
            "source": [
                "![](http://imgbed.momodel.cn/27_10_ul_ae.png)"
            ]
        },
        {
            "cell_type": "markdown",
            "metadata": {},
            "source": [
                "\u5982\u679c\u57fa\u4e8e\u50cf\u7d20\u8ba1\u7b97\u56fe\u7247\u4e4b\u95f4\u76f8\u4f3c\u5ea6\u7684\u8bdd\uff0c\u5f97\u5230\u7684\u7ed3\u679c\u4f1a\u6bd4\u8f83\u5dee\u3002<br>\n",
                "\u6bd4\u5982\uff0c\u4f1a\u5f97\u5230\u8fc8\u514b\u5c14\u6770\u514b\u900a\u7684\u7167\u7247\u6bd4\u8f83\u50cf\u9a6c\u8e44\u94c1\u3002 <br>"
            ]
        },
        {
            "cell_type": "markdown",
            "metadata": {},
            "source": [
                "![](http://imgbed.momodel.cn/27_11_ul_ae.png)"
            ]
        },
        {
            "cell_type": "markdown",
            "metadata": {},
            "source": [
                "\u76f4\u63a5\u56fe\u50cf\u50cf\u7d20\u67e5\u627e\u7684\u6548\u679c\u4e0d\u662f\u592a\u7406\u60f3\uff0c\u9009\u7528\u6df1\u5ea6\u81ea\u52a8\u7f16\u7801\uff0c<br>\n",
                "\u5148\u628a\u56fe\u50cf\u50cf\u7d20\u4f5c\u4e3a input \uff0c\u603b\u51715\u5c42\uff0c\u76f4\u81f3\u7f16\u7801\u6210256\u7ef4\u5ea6\u3002<br>\n",
                "\u56fe\u7247\u53f3\u4e0a\u89d2\u662f\u7f16\u7801\u540e\u89e3\u7801\u56de\u6765\u7684\u56fe\u50cf\uff0c\u6bd4\u539f\u56fe\u50cf\u6a21\u7cca\u3002<br>\n"
            ]
        },
        {
            "cell_type": "markdown",
            "metadata": {},
            "source": [
                "![](http://imgbed.momodel.cn/27_12_ul_ae.png)"
            ]
        },
        {
            "cell_type": "markdown",
            "metadata": {},
            "source": [
                "\u7528\u7f16\u7801\u540e256\u7ef4\u7684\u4fe1\u606f\u5bfb\u627e\u76f8\u4f3c\u5ea6\u63a5\u8fd1\u7684\uff0c\u7ed3\u679c\u5c31\u4f1a\u597d\u5f88\u591a\uff0c\u6700\u8d77\u7801\u90fd\u662f\u4eba\u8138\u4e86\u3002"
            ]
        },
        {
            "cell_type": "markdown",
            "metadata": {},
            "source": [
                "#### 3.4 \u5e94\u7528\u5728CNN\u4e2d\n",
                "\n",
                "\n",
                ""
            ]
        },
        {
            "cell_type": "markdown",
            "metadata": {},
            "source": [
                "![](http://imgbed.momodel.cn/27_13_ul_ae.png)"
            ]
        },
        {
            "cell_type": "markdown",
            "metadata": {},
            "source": [
                "\u9700\u8981\u589e\u52a0\u7684\u9690\u85cf\u5c42\u6709 deconvolution \u548c unpooling <br>"
            ]
        },
        {
            "cell_type": "markdown",
            "metadata": {},
            "source": [
                "![](http://imgbed.momodel.cn/27_14_ul_ae.png)"
            ]
        },
        {
            "cell_type": "markdown",
            "metadata": {},
            "source": [
                "\u5bf9\u4e8e unpooling \uff0c\u6211\u4eec\u53ea\u9700\u8981\u5728 maxpooling \u8fc7\u7a0b\u4e2d\u628a\u8981\u628a max locations \u8bb0\u5f55\u4e0b\u6765\uff0c<br>\n",
                "\u7136\u540e unpooling \u65f6\u5019\u8fd8\u539f\u5176\u4f4d\u7f6e\uff0c\u5176\u4ed6\u5168\u4e3a0<br>"
            ]
        },
        {
            "cell_type": "markdown",
            "metadata": {},
            "source": [
                "![](http://imgbed.momodel.cn/27_15_ul_ae.png)"
            ]
        },
        {
            "cell_type": "markdown",
            "metadata": {},
            "source": [
                "\u800c deconvolution \u5b9e\u8d28\u4e0a\u5c31\u662f convolution \u3002<br>\n",
                "\u4e2d\u95f4\u4ece\u4e09\u7ef4\u6269\u5c55\u6210\u4e94\u7ef4\u7684\u8fc7\u7a0b\u76f8\u5f53\u4e8e\u53f3\u8fb9\u901a\u8fc7CNN\u5c06\u4e03\u7ef4\u964d\u62105\u7ef4\uff08\u7070\u8272\u7684\u8f93\u5165\u4ee3\u88680\uff09\u3002"
            ]
        },
        {
            "cell_type": "markdown",
            "metadata": {},
            "source": [
                "#### 3.5 Pre-train DNN\n",
                "\n",
                "\n",
                ""
            ]
        },
        {
            "cell_type": "markdown",
            "metadata": {},
            "source": [
                "Auto-encoder \u8fd8\u53ef\u4ee5Pre-train DNN\uff0c\u7b2c\u4e00\u6b65\u5148\u5c06784\u7ef4\u7684\u6570\u636e\u8f6c\u6362\u62101000\u7ef4\uff0c\u518d\u5c061000\u7ef4\u7684\u6570\u636e\u89e3\u7801\u8f6c\u6362\u6210784\u7ef4\uff0c\u8fd9\u6837\u5c31\u53ef\u4ee5\u901a\u8fc7\u6bd4\u8f83\u5148\u540e784\u7ef4\u5ea6\u7684\u6570\u636e\u66f4\u65b0\u5f97\u5230w1\u3002"
            ]
        },
        {
            "cell_type": "markdown",
            "metadata": {},
            "source": [
                "![](http://imgbed.momodel.cn/27_16_ul_ae.png)"
            ]
        },
        {
            "cell_type": "markdown",
            "metadata": {},
            "source": [
                "\u7b2c\u4e8c\u6b65\u53ef\u4ee5\u5f97\u5230 w2 \uff0c\u4f9d\u6b21\u7c7b\u63a8"
            ]
        },
        {
            "cell_type": "markdown",
            "metadata": {},
            "source": [
                "![](http://imgbed.momodel.cn/27_17_ul_ae.png)"
            ]
        },
        {
            "cell_type": "markdown",
            "metadata": {},
            "source": [
                "\u628a w1,w2,w3 \u5f53\u505a\u521d\u59cb\u7684\u53c2\u6570\uff0c\u628a\u6700\u540e output \u63a5\u4e0a\u53bb\uff0c\u518d\u7528\u53cd\u5411\u4f20\u64ad\u66f4\u65b0\u6240\u6709\u53c2\u6570"
            ]
        },
        {
            "cell_type": "markdown",
            "metadata": {},
            "source": [
                "![](http://imgbed.momodel.cn/27_18_ul_ae.png)"
            ]
        },
        {
            "cell_type": "markdown",
            "metadata": {},
            "source": [
                "\u5728\u8bad\u7ec3\u7b2c\u4e00\u4e2a auto-encoder \u65f6\uff0c\u7531\u4e8e hidden layer \u7684\u7ef4\u6570\u5927\u4e8e input \u7ef4\u6570\uff0c\u8981\u52a0\u5f88\u5f3a\u7684\u6b63\u5219\u9879\uff0c<br>\n",
                "e.g.: \u5bf91000\u7ef4\u7684\u8f93\u51fa\u505aL1\u6b63\u5219\u5316\uff08\u5e0c\u671b output \u7a00\u758f\uff09\u3002<br>\n",
                "\u5426\u5219 hidden layer \u53ef\u80fd\u76f4\u63a5\u8bb0\u4f4f input \uff0c\u6ca1\u6709 learn \u5230\u4efb\u4f55\u4e1c\u897f\u3002 <br>\n",
                "\u5728\u8bad\u7ec3\u7b2c\u4e8c\u4e2a auto-encoder \u65f6\uff0c\u8981\u628a\u6570\u636e\u96c6\u4e2d\u6240\u6709 digit \u90fd\u53d8\u62101000\u7ef4vector\u3002 <br>\n",
                "\u4ee5\u6b64\u7c7b\u63a8\uff0c\u6700\u540e\u968f\u673a\u521d\u59cb\u5316\u8f93\u51fa\u5c42\u4e4b\u524d\u7684\u6743\u91cd\u3002\u7136\u540e\u7528\u53cd\u5411\u4f20\u64ad\u505a fine-tune \uff08W1,W2,W3\u5df2\u7ecf\u5f88\u597d\uff0c\u5fae\u8c03\u5373\u53ef\uff09\u3002<br> \n",
                "<br>\n",
                "\u4e4b\u524d\u5728\u8bad\u7ec3\u8f83\u6df1\u7684NN\u65f6\u8981\u7528\u5230\u9884\u8bad\u7ec3\uff0c\u4f46\u662f\u73b0\u5728\u6ca1\u5fc5\u8981\u4e86\uff0c\u56e0\u4e3a\u8bad\u7ec3\u6280\u672f\u8fdb\u6b65\u4e86\u3002 <br>\n",
                "\u4f46\u5728\u6709\u5927\u91cf\u65e0\u6807\u6ce8\u6570\u636e \u3001\u5c11\u91cf\u6807\u6ce8\u6570\u636e\u65f6\u4ecd\u9700\u8981\u9884\u8bad\u7ec3\uff0c<br>\n",
                "\u53ef\u4ee5\u5148\u7528\u5927\u91cf\u65e0\u6807\u6ce8\u6570\u636e\u5148\u628aW1,W2,W3\u5148\u8bad\u7ec3\u597d\uff0c\u6700\u540e\u7684\u6807\u6ce8\u7684\u6570\u636e\u53ea\u9700\u7a0d\u5fae\u8c03\u6574\u6743\u91cd\u5c31\u597d\u3002<br>\n"
            ]
        },
        {
            "cell_type": "markdown",
            "metadata": {},
            "source": [
                "\u5982\u679c\u4f60\u60f3\u4e86\u89e3\u66f4\u591a\uff0c\u4e0b\u9762\u662f\u5173\u4e8erestricted Boltzmann machine\u7684\u8d44\u6599"
            ]
        },
        {
            "cell_type": "markdown",
            "metadata": {},
            "source": [
                "+ Neural networks [5.1] : Restricted Boltzmann machine\u2013definition\n",
                "    + https://www.youtube.com/watchv=p4Vh_zMwHQ&index=36&list=PL6Xpj9I5qXYEcOhn7TqghAJ6NAPrN\n",
                "<br>\n",
                "+ Neural networks [5.2] : Restricted Boltzmann machine\u2013inference\n",
                "    +  https://www.youtube.com/watchv=lekCh_i32iE&list=PL6Xpj9I5qXYEcOhn7TqghAJ6NAPrNmUBH&index=37\n",
                "<br>\n",
                "+ Neural networks [5.3] : Restricted Boltzmann machine - free energy\n",
                "    + https://www.youtube.com/watchv=e0Ts_7Y6hZU&list=PL6Xpj9I5qXYEcOhn7TqghAJ6NAPrNmUBH&index=38\n",
                "<br>"
            ]
        },
        {
            "cell_type": "markdown",
            "metadata": {},
            "source": [
                "\u4e0b\u9762\u662f\u5173\u4e8edeep belief network\u7684\u8d44\u6599"
            ]
        },
        {
            "cell_type": "markdown",
            "metadata": {},
            "source": [
                "+  Neural networks [7.7] : Deep learning - deep belief networks\n",
                "    + https://www.youtube.com/watchv=vkb6AWYXZ5I&list=PL6Xpj9I5qXYEcOhn7TqghAJ6NAPrNmUBH&index=57\n",
                "<br>\n",
                "+ Neural networks [7.8] : Deep learning - variational bound\n",
                "    + https://www.youtube.com/watchv=pStDscJh2Wo&list=PL6Xpj9I5qXYEcOhn7TqghAJ6NAPrNmUBH&index=58\n",
                "<br>\n",
                "+ Neural networks [7.9] : Deep learning - DBN pre-training\n",
                "    + https://www.youtube.com/watchv=35MUlYCColk&list=PL6Xpj9I5qXYEcOhn7TqghAJ6NAPrNmUBH&index=59"
            ]
        },
        {
            "cell_type": "markdown",
            "metadata": {},
            "source": [
                "Decoder \u8fd8\u53ef\u4ee5\u751f\u6210\u6211\u4eec\u60f3\u8981\u7684\u4e1c\u897f\uff0c\u6bd4\u5982\u56fe\u50cf"
            ]
        },
        {
            "cell_type": "markdown",
            "metadata": {},
            "source": [
                "![](http://imgbed.momodel.cn/27_20_ul_ae.png)"
            ]
        },
        {
            "cell_type": "markdown",
            "metadata": {},
            "source": [
                "![](http://imgbed.momodel.cn/27_19_ul_ae.png)"
            ]
        },
        {
            "cell_type": "markdown",
            "metadata": {},
            "source": [
                "784\u7ef4\u964d\u52302\u7ef4\uff0c\u6839\u636e\u5411\u91cf\u7684\u5206\u5e03\u9009\u62e9\u7ea2\u6846\uff0c\u5728\u7ea2\u6846\u4e2d\u7b49\u95f4\u9694\u91c7\u6837\uff0c<br>\n",
                "\u4f5c\u4e3a\u89e3\u7801\u7684\u8f93\u5165\uff0c\u5f97\u5230\u8ba1\u7b97\u673a\u751f\u6210\u7684\u56fe\u7247\u3002<br> \n",
                "\u5982\u679c\u7ea2\u6846\u9009\u9519\u4e86\u4f4d\u7f6e\uff0c\u6bd4\u5982\u9009\u5728\u53f3\u4e0b\u65b9\uff0c\u53ef\u80fd\u5f97\u4e0d\u5230\u6570\u5b57\u3002<br> \n",
                "\u201c\u9700\u77e5\u9053\u8bcd\u5411\u91cf\u5206\u5e03\u201d\u7565\u9ebb\u70e6\uff0c\u6539\u8fdb\u65b9\u6cd5\uff1a\u52a0\u6b63\u5219\u5316\u3002 <br>\n",
                "\u5728\u8bad\u7ec3\u65f6\uff0c\u5bf9 code \u52a0L2\u6b63\u5219\u5316\uff0c\u8fd9\u6837 code \u6bd4\u8f83\u63a5\u8fd10\u3002<br>\n",
                "\u91c7\u6837\u65f6\u57280\u9644\u8fd1\u91c7\u6837\uff0c\u8fd9\u6837\u91c7\u6837\u5f97\u5230\u7684\u8bcd\u5411\u91cf\u6bd4\u8f83\u6709\u53ef\u80fd\u90fd\u5bf9\u5e94\u6570\u5b57\u3002<br>\n"
            ]
        },
        {
            "cell_type": "markdown",
            "metadata": {},
            "source": [
                "### 4. \u603b\u7ed3\n",
                "+ Auto-encoder \u539f\u7406\n",
                "+ Deep Auto-encoder \u539f\u7406\u53ca\u5176\u5e94\u7528"
            ]
        },
        {
            "cell_type": "markdown",
            "metadata": {},
            "source": [
                "**\u725b\u5200\u5c0f\u8bd5**\n",
                "\n",
                "\u4e3a\u4ec0\u4e48 Auto-encoder \u5bfb\u627e\u76f8\u4f3c\u7684\u4eba\u8138\u6548\u679c\u6bd4\u901a\u8fc7\u6bd4\u8f83\u50cf\u7d20\u76f8\u4f3c\u5ea6\u6548\u679c\u597d\uff1f"
            ]
        },
        {
            "cell_type": "markdown",
            "metadata": {},
            "source": [
                "<span class='md-hint-alone-link pop 0'>\u67e5\u770b\u7b54\u6848</span>"
            ]
        }
    ],
    "metadata": {
        "kernelspec": {
            "display_name": "Python 3",
            "language": "python",
            "name": "python3"
        },
        "language_info": {
            "codemirror_mode": {
                "name": "ipython",
                "version": 3
            },
            "file_extension": ".py",
            "mimetype": "text/x-python",
            "name": "python",
            "nbconvert_exporter": "python",
            "pygments_lexer": "ipython3",
            "version": "3.5.2"
        }
    },
    "nbformat": 4,
    "nbformat_minor": 2
}