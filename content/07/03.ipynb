{
    "cells": [
        {
            "cell_type": "markdown",
            "metadata": {},
            "source": [
                "### \u8fd9\u4e00\u8282\u6211\u4eec\u4e3b\u8981\u5b66\u4e60",
                "\n",
                "+ \u6d41\u5f62\u5b66\u4e60\uff08Manifold Learning\uff09\n",
                "+ \u5c40\u90e8\u7ebf\u6027\u5d4c\u5165(Locally Linear Embedding (LLE))\n",
                "+ \u62c9\u666e\u62c9\u65af\u7279\u5f81\u6620\u5c04(Laplacian Eigenmaps)\n",
                "+ T-distributed Stochastic Neighbor Embedding (t-SNE)"
            ]
        },
        {
            "cell_type": "markdown",
            "metadata": {},
            "source": [
                "### 1. \u6d41\u5f62\u5b66\u4e60\n",
                ""
            ]
        },
        {
            "cell_type": "markdown",
            "metadata": {},
            "source": [
                "![](http://imgbed.momodel.cn/26_01_ul_TSNE_ml.png)"
            ]
        },
        {
            "cell_type": "markdown",
            "metadata": {},
            "source": [
                "\u6211\u4eec\u8981\u505a\u7684\u662f\u975e\u7ebf\u6027\u7684\u964d\u7ef4\uff0c\u6570\u636e\u662f\u5206\u5e03\u5728\u4f4e\u7ef4\u7a7a\u95f4\u91cc\u9762\uff0c\u53ea\u662f\u88ab\u626d\u66f2\u5230\u4e86\u9ad8\u7ef4\u7a7a\u95f4\u3002<br> \n",
                "\u6bd4\u5982\u5730\u7403\u7684\u8868\u9762\u662f\u4e00\u4e2a\u4e8c\u7ef4\u5e73\u9762\uff0c\u4f46\u662f\u88ab\u585e\u5230\u4e00\u4e2a\u4e09\u7ef4\u7a7a\u95f4\u4e2d\u3002<br> \n",
                "\u6d41\u884c\u5b66\u4e60\u5c31\u662f\u628a S \u578b\u644a\u5e73\uff0c\u5c06\u9ad8\u7ef4\u7a7a\u95f4\u5185\u7684\u4f4e\u7ef4\u6570\u636e\u5c55\u5f00\uff0c\u8fd9\u6837\u624d\u80fd\u8ba1\u7b97\u70b9\u5bf9\u70b9\u7684\u8ddd\u79bb\u3002<br>"
            ]
        },
        {
            "cell_type": "markdown",
            "metadata": {},
            "source": [
                "<br>"
            ]
        },
        {
            "cell_type": "markdown",
            "metadata": {},
            "source": [
                "### 2. \u5c40\u90e8\u7ebf\u6027\u5d4c\u5165\n",
                "\n",
                "\n",
                "",
                "\n"
            ]
        },
        {
            "cell_type": "markdown",
            "metadata": {},
            "source": [
                "![](http://imgbed.momodel.cn/26_02_ul_TSNE_ml.png)"
            ]
        },
        {
            "cell_type": "markdown",
            "metadata": {},
            "source": [
                "![](http://imgbed.momodel.cn/26_03_ul_TSNE_ml.png)"
            ]
        },
        {
            "cell_type": "markdown",
            "metadata": {},
            "source": [
                "\u4ece\u539f\u6765\u7684\u5206\u5e03\u4e2d\u627e\u4e00\u70b9$x^i$\uff0c\u7136\u540e\u627e\u5b83\u7684 neighbour $x^j$\uff0c\u8ba1\u7b97\u5b83\u4eec\u4e4b\u95f4\u7684\u5173\u7cfb$w_{ij}$\u3002<br>\n",
                "\u628a$x^i$,$x^j$ \u964d\u7ef4\u6210$z^i$,$z^j$ \u4e4b\u540e\u8981\u4fdd\u8bc1\u5b83\u4eec\u4e4b\u95f4\u7684$w_{ij}$ \u4e0d\u53d8\u3002<br>"
            ]
        },
        {
            "cell_type": "markdown",
            "metadata": {},
            "source": [
                "![](http://imgbed.momodel.cn/26_04_ul_TSNE_ml.png)"
            ]
        },
        {
            "cell_type": "markdown",
            "metadata": {},
            "source": [
                "\"\u5728\u5929\"\u7b49\u4ef7\u4e8e\u5728\u539f\u6765\u7684\u6570\u636e\u96c6$x^i,x^j$,\u4ed6\u4eec\u4e4b\u95f4\u7684\u5173\u7cfb:\"\u6bd4\u7ffc\u9e1f\"\u7b49\u4ef7\u4e8e**$w_{ij}$**<br>\n",
                "**transform \u540e**:<br>\n",
                "\"\u5728\u5730\"\u7b49\u4ef7\u4e8e\u5728\u539f\u6765\u7684\u6570\u636e\u96c6$z^i,z^j$,\u4ed6\u4eec\u4e4b\u95f4\u7684\u5173\u7cfb\u4f9d\u7136\u662f:\"\u8fde\u7406\u679d\"\u7b49\u4ef7\u4e8e**$w_{ij}$**<br>"
            ]
        },
        {
            "cell_type": "markdown",
            "metadata": {},
            "source": [
                "![](http://imgbed.momodel.cn/26_05_ul_TSNE_ml.png)"
            ]
        },
        {
            "cell_type": "markdown",
            "metadata": {},
            "source": [
                "LLE\u6ca1\u6709\u660e\u786e\u7684 function \u505a\u964d\u7ef4\u3002 <br>\n",
                "LLE\u7684\u597d\u5904\u662f\uff0c\u5c31\u7b97\u4e0d\u77e5\u9053xi,xj \u53ea\u77e5\u9053wijwij \uff0c\u4e5f\u53ef\u4ee5\u7528 LLE \u3002<br> \n",
                "\u8981\u597d\u597d\u8c03 neighbour \u7684\u4e2a\u6570\uff0c\u521a\u521a\u597d\u624d\u4f1a\u5f97\u5230\u597d\u7684\u7ed3\u679c\u3002<br> \n",
                "\u70b9\u4e4b\u95f4\u7684\u8ddd\u79bb\u5173\u7cfb\u4fdd\u6301\u4e0d\u53d8\u9700\u8981\u70b9\u4e4b\u95f4\u591f\u8fd1\uff0c\u6240\u4ee5 k \u4e0d\u80fd\u592a\u5927\u3002<br>\n"
            ]
        },
        {
            "cell_type": "markdown",
            "metadata": {},
            "source": [
                "<br>"
            ]
        },
        {
            "cell_type": "markdown",
            "metadata": {},
            "source": [
                "### 3. \u62c9\u666e\u62c9\u65af\u7279\u5f81\u6620\u5c04\n",
                "\n",
                "",
                "\n"
            ]
        },
        {
            "cell_type": "markdown",
            "metadata": {},
            "source": [
                "![](http://imgbed.momodel.cn/26_06_ul_TSNE_le.png)"
            ]
        },
        {
            "cell_type": "markdown",
            "metadata": {},
            "source": [
                "\u4e24\u4e2a\u7ea2\u70b9\u4e4b\u95f4\u7684\u8ddd\u79bb\u4e0d\u80fd\u7528\u6b27\u6c0f\u8ddd\u79bb\u8fd8\u8861\u91cf\uff0c<br>\n",
                "\u8981\u770b\u4e24\u70b9\u4e4b\u95f4\u6709\u6ca1\u6709\u9ad8\u5bc6\u5ea6\u533a\u57df\u7684\u94fe\u63a5\uff0c\u53ef\u4ee5\u5efa\u7acb\u4e00\u4e2a\u56fe\uff0c\u7528\u56fe\u4e2d\u7684\u8ddd\u79bb\u6765\u8868\u793a\u3002<br> "
            ]
        },
        {
            "cell_type": "markdown",
            "metadata": {},
            "source": [
                "![](http://imgbed.momodel.cn/26_07_ul_TSNE_le.png)"
            ]
        },
        {
            "cell_type": "markdown",
            "metadata": {},
            "source": [
                "\u56de\u987e\u534a\u76d1\u7763\u5b66\u4e60\uff1a\u7ea2\u6846\u91cc\u90a3\u9879\u4e0e labelled data \u65e0\u5173\uff0c<br>\n",
                "\u5b83\u5229\u7528 unlabelled data \u8003\u8651\u5f97\u5230\u7684 label \u662f\u5426 smooth\uff0c\u4f5c\u7528\u7c7b\u4f3c\u4e8e\u6b63\u5219\u9879\u3002<br>"
            ]
        },
        {
            "cell_type": "markdown",
            "metadata": {},
            "source": [
                "![](http://imgbed.momodel.cn/26_08_ul_TSNE_le.png)"
            ]
        },
        {
            "cell_type": "markdown",
            "metadata": {},
            "source": [
                " \n",
                "\u8ba1\u7b97 S \u65f6\u5bf9 z \u8981\u52a0\u4e00\u4e2a\u7ea6\u675f\uff1a<br>\n",
                "\u8bbe z \u662f M \u7ef4\u7684\uff0c\u5219 $z^1,z^2,...,z^N$ \u5f20\u6210 $R^M$ \u7a7a\u95f4\u3002 <br>\n",
                "\u8fd9\u6837\u89e3\u51fa z \u3002z \u5c31\u662f graph laplacion L \u7684\u7279\u5f81\u5411\u91cf\uff0c\u5bf9\u5e94\u6bd4\u8f83\u5c0f\u7684\u7279\u5f81\u503c\u3002 <br>\n"
            ]
        },
        {
            "cell_type": "markdown",
            "metadata": {},
            "source": [
                "<br>"
            ]
        },
        {
            "cell_type": "markdown",
            "metadata": {},
            "source": [
                "### 4. T-distributed Stochastic Neighbor Embedding (t-SNE)\n",
                "\n",
                "\n",
                "",
                "\n",
                "\n",
                "\n",
                "T \u5206\u5e03\u968f\u673a\u8fd1\u90bb\u5d4c\u5165\u7b97\u6cd5(t-SNE)"
            ]
        },
        {
            "cell_type": "markdown",
            "metadata": {},
            "source": [
                "\u524d\u9762\u65b9\u6cd5\u53ea\u5047\u8bbe\u76f8\u8fd1\u7684\u70b9\u63a5\u8fd1\uff0c\u4f46\u672a\u5047\u8bbe\u4e0d\u76f8\u8fd1\u7684\u70b9\u8981\u5206\u5f00\u3002<br>"
            ]
        },
        {
            "cell_type": "markdown",
            "metadata": {},
            "source": [
                "![](http://imgbed.momodel.cn/26_09_ul_TSNE.png)"
            ]
        },
        {
            "cell_type": "markdown",
            "metadata": {},
            "source": [
                "\u628a\u76f8\u540c\u7684\u6570\u5b57\u653e\u5728\u4e00\u8d77\uff0c\u4f46\u662f\u6ca1\u529e\u6cd5\u628a\u4e0d\u540c\u7684\u6570\u5b57\u5206\u5f00\u3002<br>\n",
                "\u6545\u6709\u53ef\u80fd\u628a\u4e0d\u76f8\u4f3c\u7684\u7269\u4f53\u4e5f\u653e\u5728\u4e00\u8d77\u3002\u6545\u6324\u6210\u4e00\u56e2\uff0c\u5982\u4e0a\u56fe\u6240\u793a\u3002"
            ]
        },
        {
            "cell_type": "markdown",
            "metadata": {},
            "source": [
                "+ t-SNE \u8ba1\u7b97\u8fc7\u7a0b"
            ]
        },
        {
            "cell_type": "markdown",
            "metadata": {},
            "source": [
                "![](http://imgbed.momodel.cn/26_10_ul_TSNE.png)"
            ]
        },
        {
            "cell_type": "markdown",
            "metadata": {},
            "source": [
                "t-SNE \u5148\u5206\u522b\u8ba1\u7b97\u539f\u7a7a\u95f4\u3001\u65b0\u7a7a\u95f4\u4e2d\u6240\u6709\u70b9\u5bf9\u7684\u76f8\u4f3c\u5ea6\u518d\u5f52\u4e00\u5316\u3002<br>\n",
                "\u5f52\u4e00\u5316\u662f\u5fc5\u8981\u7684\uff0c\u4e3a\u4e86\u9632\u6b62\u4e24\u4e2a\u7a7a\u95f4\u4e2d\u8ddd\u79bb\u7684 scale \u4e0d\u540c\u3002<br> \n",
                "\u7136\u540e\u6700\u5c0f\u5316\u4e8c\u8005\u4e4b\u95f4\u7684 K-L \u8ddd\u79bb\uff0c\u4ee3\u5165\u516c\u5f0f\u7528 GD \u5373\u53ef\u3002<br> \n",
                "t-SNE \u8ba1\u7b97\u91cf\u5927\uff0c\u53ef\u5148\u7528 PCA \u964d\u7ef4\uff0c\u518d\u7528 t-SNE \u964d\u7ef4\u3002<br> \n",
                "t-SNE \u9700\u8981\u4e00\u5806 data point \uff0c\u7136\u540e\u627e\u5230z\u3002<br>\n",
                "\u5982\u679c\u4e4b\u540e\u518d\u7ed9\u4e00\u4e2a\u6570\u636e\uff0ct-SNE \u662f\u6ca1\u6cd5\u505a\u7684\uff0c\u53ea\u80fd\u518d\u8dd1\u4e00\u904d\u3002 <br>\n"
            ]
        },
        {
            "cell_type": "markdown",
            "metadata": {},
            "source": [
                "![](http://imgbed.momodel.cn/26_11_ul_TSNE.png)"
            ]
        },
        {
            "cell_type": "markdown",
            "metadata": {},
            "source": [
                "t-SNE \u7684\u795e\u5999\u4e4b\u5904\u5728\u4e8e\u539f\u7a7a\u95f4\u4e0e\u65b0\u7a7a\u95f4\u4e2d\u76f8\u4f3c\u5ea6\u8ba1\u7b97\u516c\u5f0f\u4e0d\u540c\u3002<br> \n",
                "\u539f\u7a7a\u95f4\u7684\u8ba1\u7b97\u516c\u5f0f\uff0c\u4f7f\u5f97\u4e24\u4e2a\u70b9\u7684\u76f8\u4f3c\u5ea6\u968f\u8ddd\u79bb\u589e\u52a0\u5feb\u901f\u4e0b\u964d\u3002<br>  \n",
                "\u800c\u65b0\u7a7a\u95f4\u7684\u8ba1\u7b97\u516c\u5f0f\uff0c\u662f\u957f\u5c3e\u7684\uff0c\u4e3a\u4e86\u7ef4\u6301\u76f8\u540c\u7684\u76f8\u4f3c\u5ea6\uff0c\u4e24\u4e2a\u70b9\u4e4b\u95f4\u8981\u5206\u5f97\u66f4\u5f00\u3002<br> \n",
                "\u5bf9\u539f\u6765\u8ddd\u79bb\u5f88\u8fd1\u7684\u70b9\uff0c\u5f71\u54cd\u5f88\u5c0f\u3002\u800c\u539f\u6765\u79bb\u5f97\u8fdc\u7684\u70b9\uff0c\u4f1a\u88ab\u62c9\u5f00\u3002<br> \n",
                "\u6548\u679c\u5982\u56fe\uff1a<br>"
            ]
        },
        {
            "cell_type": "markdown",
            "metadata": {},
            "source": [
                "![](http://imgbed.momodel.cn/26_12_ul_TSNE.png)"
            ]
        },
        {
            "cell_type": "markdown",
            "metadata": {},
            "source": [
                " t-SNE\u53c2\u8003\u8d44\u6599\uff1a\n",
                "+ https://github.com/oreillymedia/t-SNE-tutorial\n",
                "+ Laurens van der Maaten, Geoffrey Hinton,\u201cVisualizing Data using t-SNE\u201d, JMLR, 2008"
            ]
        },
        {
            "cell_type": "markdown",
            "metadata": {},
            "source": [
                "### 5. \u603b\u7ed3\n",
                "+ \u6d41\u5f62\u5b66\u4e60\n",
                "+ \u5c40\u90e8\u7ebf\u6027\u5d4c\u5165\n",
                "+ \u62c9\u666e\u62c9\u65af\u7279\u5f81\u6620\u5c04\n",
                "+ T-distributed Stochastic Neighbor Embedding (t-SNE)"
            ]
        },
        {
            "cell_type": "markdown",
            "metadata": {},
            "source": [
                "**\u725b\u5200\u5c0f\u8bd5**\n",
                "\n",
                "t-SEN\u4e0ePCA\u7684\u533a\u522b\uff1f"
            ]
        },
        {
            "cell_type": "markdown",
            "metadata": {},
            "source": [
                "<span class='md-hint-alone-link pop 0'>\u67e5\u770b\u7b54\u6848</span>"
            ]
        }
    ],
    "metadata": {
        "kernelspec": {
            "display_name": "Python 3",
            "language": "python",
            "name": "python3"
        },
        "language_info": {
            "codemirror_mode": {
                "name": "ipython",
                "version": 3
            },
            "file_extension": ".py",
            "mimetype": "text/x-python",
            "name": "python",
            "nbconvert_exporter": "python",
            "pygments_lexer": "ipython3",
            "version": "3.5.2"
        }
    },
    "nbformat": 4,
    "nbformat_minor": 2
}