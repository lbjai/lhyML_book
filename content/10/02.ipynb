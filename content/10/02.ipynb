{
    "cells": [
        {
            "cell_type": "markdown",
            "metadata": {},
            "source": [
                "\n",
                "### \u8fd9\u4e00\u8282\u6211\u4eec\u4e3b\u8981\u5b66\u4e60",
                "\n",
                "\n",
                "+ RNN\u539f\u7406\n",
                "+ \u89e3\u51b3\u68af\u5ea6\u6d88\u5931\u6216\u8005\u68af\u5ea6\u7206\u70b8\u7684\u65b9\u6cd5\n",
                "+ RNN \u5e94\u7528\n",
                "+ Sequence to sequence\n",
                "+ \u57fa\u4e8e\u6ce8\u610f\u529b\u6a21\u578b\n",
                "+ RNN\u4e0e\u7ed3\u6784\u5316\u5b66\u4e60\u7684\u8054\u7cfb\u4e0e\u533a\u522b\n",
                "\n",
                "\n"
            ]
        },
        {
            "cell_type": "markdown",
            "metadata": {},
            "source": [
                "### 1. RNN\u539f\u7406"
            ]
        },
        {
            "cell_type": "markdown",
            "metadata": {},
            "source": [
                "#### 1.1 \u635f\u5931\u51fd\u6570\n",
                "\n",
                ""
            ]
        },
        {
            "cell_type": "markdown",
            "metadata": {},
            "source": [
                "![](http://imgbed.momodel.cn/37-1 learning target.png)"
            ]
        },
        {
            "cell_type": "markdown",
            "metadata": {},
            "source": [
                "RNN \u7684\u8f93\u51fa\u7ed3\u679c $y^1,y^2,y^3,...$ \u4e0e\u53c2\u8003\u7ed3\u679c $\\hat y^1,\\hat y^2,\\hat y^3...$ \u6bd4\u8f83\uff0c\n",
                "\n",
                "\u8ba1\u7b97\u4ea4\u53c9\u71b5\u51fd\u6570\uff0c\u5373\u635f\u5931\u51fd\u6570\uff1b\u6211\u4eec\u9700\u8981\u901a\u8fc7\u8bad\u7ec3\u4f7f\u635f\u5931\u51fd\u6570\u6700\u5c0f\u3002"
            ]
        },
        {
            "cell_type": "markdown",
            "metadata": {},
            "source": [
                "#### 1.2 \u5b66\u4e60\u8fc7\u7a0b\n",
                "\n",
                ""
            ]
        },
        {
            "cell_type": "markdown",
            "metadata": {},
            "source": [
                "\n",
                "\n",
                "\u6211\u4eec\u901a\u8fc7BPTT\u6f14\u7b97\u6cd5\u6765\u8bad\u7ec3RNN\u7f51\u7edc\u7684\u53c2\u6570\uff0c\u4f7f\u635f\u5931\u51fd\u6570\u8fbe\u5230\u6700\u5c0f\u3002\n",
                "\n",
                "![](http://imgbed.momodel.cn/37-2 BPTT.png)"
            ]
        },
        {
            "cell_type": "markdown",
            "metadata": {},
            "source": [
                "\u6709\u4e86\u8fd9\u4e2aloss function\u4ee5\u540e\uff0c\u5bf9\u4e8etraining\uff0c\u4e5f\u662f\u7528\u68af\u5ea6\u4e0b\u964d\u6765\u505a\u3002<br>\n",
                "\u4e5f\u5c31\u662f\u8bf4\u6211\u4eec\u73b0\u5728\u5b9a\u4e49\u51fa\u4e86loss function(L)\uff0c\u6211\u8981update\u8fd9\u4e2aneural network\u91cc\u9762\u7684\u67d0\u4e2a\u53c2\u6570w\uff0c<br>\n",
                "\u5c31\u662f\u8ba1\u7b97\u5bf9w\u7684\u504f\u5fae\u5206\uff0c\u504f\u5fae\u5206\u8ba1\u7b97\u51fa\u6765\u4ee5\u540e\uff0c\u5c31\u7528GD\u7684\u65b9\u6cd5\u53bbupdate\u91cc\u9762\u7684\u53c2\u6570\u3002<br>\n",
                "\u5728\u8bb2feedforward neural network\u7684\u65f6\u5019\uff0c<br>\n",
                "\u6211\u4eec\u8bf4GD\u7528\u5728feedforward neural network\u91cc\u9762\u4f60\u8981\u7528\u4e00\u4e2a\u6709\u6548\u7387\u7684\u7b97\u6cd5\u53eb\u505aBackpropagation\u3002<br>\n",
                "\u90a3Recurrent Neural Network\u91cc\u9762\uff0c\u4e3a\u4e86\u8981\u8ba1\u7b97\u65b9\u4fbf\uff0c\u6240\u4ee5\u4e5f\u6709\u5f00\u53d1\u4e00\u5957\u7b97\u6cd5\u662fBackpropagation\u7684\u8fdb\u9636\u7248\uff0c\u53eb\u505aBPTT\u3002<br>\n",
                "\u5b83\u8ddfBackpropagation\u5176\u5b9e\u662f\u5f88\u7c7b\u4f3c\u7684\uff0c\u53ea\u662fRecurrent Neural Network\u5b83\u662f\u5728high sequence\u4e0a\u8fd0\u4f5c\uff0c<br>\n",
                "\u6240\u4ee5BPTT\u5b83\u8981\u8003\u8651\u65f6\u95f4\u4e0a\u7684information\u3002<br>"
            ]
        },
        {
            "cell_type": "markdown",
            "metadata": {},
            "source": [
                "\u4e0d\u5e78\u5730\u662f\uff1a\n",
                "\n",
                "+ \u57fa\u4e8eRNN\u7684\u8bad\u7ec3\u662f\u6bd4\u8f83\u56f0\u96be\u7684\n",
                "\n",
                "\u8bed\u8a00\u6a21\u578b\u7684\u771f\u5b9e\u5b9e\u9a8c\u7ed3\u679c\uff1a\n",
                "\n",
                "\n",
                "![](http://imgbed.momodel.cn/37-3 real experiment.png)",
                "\n"
            ]
        },
        {
            "cell_type": "markdown",
            "metadata": {},
            "source": [
                "\u4e00\u822c\u800c\u8a00\uff0c\u4f60\u5728\u505atraining\u7684\u65f6\u5019\uff0c\u4f60\u4f1a\u671f\u5f85\uff0c\u4f60\u7684learning curve\u662f\u50cf\u84dd\u8272\u8fd9\u6761\u7ebf\uff0c<br>\n",
                "\u8fd9\u8fb9\u7684\u7eb5\u8f74\u662ftotal loss\uff0c\u6a2a\u8f74\u662fepoch\u7684\u6570\u76ee\uff0c\u4f60\u4f1a\u5e0c\u671b\u8bf4\uff1a<br>\n",
                "\u968f\u7740epoch\u7684\u6570\u76ee\u8d8a\u6765\u8d8a\u591a\uff0c\u968f\u7740\u53c2\u6570\u4e0d\u65ad\u7684update\uff0closs\u4f1a\u6162\u6162\u7684\u4e0b\u964d\u6700\u540e\u8d8b\u5411\u6536\u655b\u3002<br>\n",
                "\u4f46\u662f\u4e0d\u5e78\u7684\u662f\u4f60\u5728\u8bad\u7ec3Recurrent Neural Network\u7684\u65f6\u5019\uff0c\u4f60\u6709\u65f6\u5019\u4f1a\u770b\u5230\u7eff\u8272\u8fd9\u6761\u7ebf\u3002<br>\n",
                "\u5b66\u4e60\u66f2\u7ebf\u4ea7\u751f\u5267\u70c8\u7684\u6296\u52a8\uff0c\u51fa\u73b0\u4e0d\u5e73\u6ed1\u7684\u60c5\u51b5\u3002\n"
            ]
        },
        {
            "cell_type": "markdown",
            "metadata": {},
            "source": [
                "#### 1.3 error surface"
            ]
        },
        {
            "cell_type": "markdown",
            "metadata": {},
            "source": [
                "\n",
                "",
                "\n",
                "![](http://imgbed.momodel.cn/37-4 error surface.png)",
                "\n",
                "\u8bef\u5dee\u66f2\u9762\u9762\u8981\u4e48\u975e\u5e38\u5e73\u5766\uff0c\u8981\u4e48\u5f02\u5e38\u9661\u5ced\u3002\u8fd9\u6837\u4f1a\u9020\u6210\u4ec0\u4e48\u6837\u7684\u95ee\u9898\u5462\uff1f<br>\n",
                "\u5047\u8bbe\u4f60\u4ece\u6a59\u8272\u7684\u70b9\u5f53\u505a\u4f60\u7684\u521d\u59cb\u70b9\uff0c\u7528GD\u5f00\u59cb\u8c03\u6574\u4f60\u7684\u53c2\u6570(updata\u4f60\u7684\u53c2\u6570\uff0c\u53ef\u80fd\u4f1a\u8df3\u8fc7\u4e00\u4e2a\u60ac\u5d16\uff0c<br>\n",
                "\u8fd9\u65f6\u5019\u4f60\u7684loss\u4f1a\u7a81\u7136\u7206\u957f\uff0closs\u4f1a\u975e\u5e38\u4e0a\u4e0b\u5267\u70c8\u7684\u9707\u8361)\u3002<br>\n",
                "\u6709\u65f6\u5019\u4f60\u53ef\u80fd\u4f1a\u9047\u5230\u66f4\u60e8\u7684\u72b6\u51b5\uff0c\u5c31\u662f\u4ee5\u6b63\u597d\u4f60\u4e00\u811a\u8e29\u5230\u8fd9\u4e2a\u60ac\u5d16\u4e0a\uff0c\u4f1a\u53d1\u751f\u8fd9\u6837\u7684\u4e8b\u60c5\uff0c<br>\n",
                "\u56e0\u4e3a\u5728\u60ac\u5d16\u4e0a\u7684gradient\u5f88\u5927\uff0c\u4e4b\u524d\u7684gradient\u4f1a\u5f88\u5c0f\uff0c\u6240\u4ee5\u4f60\u63aa\u624b\u4e0d\u53ca\uff0c<br>\n",
                "\u56e0\u4e3a\u4e4b\u524dgradient\u5f88\u5c0f\uff0c\u6240\u4ee5\u4f60\u53ef\u80fd\u628alearning rate\u8c03\u7684\u6bd4\u8f83\u5927\u3002<br>\n",
                "\u5f88\u5927\u7684gradient\u4e58\u4e0a\u5f88\u5927\u7684learning rate\u7ed3\u679c\u53c2\u6570\u5c31update\u5f88\u591a\uff0c\u6574\u4e2a\u53c2\u6570\u5c31\u98de\u51fa\u53bb\u4e86\u3002<br>"
            ]
        },
        {
            "cell_type": "markdown",
            "metadata": {},
            "source": [
                "\u7528\u5de5\u7a0b\u7684\u601d\u60f3\u6765\u89e3\u51b3\u5c31\u662f\u91c7\u7528clipping(\u5f53gradient\u5927\u4e8e\u67d0\u4e00\u4e2athreshold\u7684\u65f6\u5019\uff0c\u4e0d\u8981\u8ba9\u5b83\u8d85\u8fc7\u90a3\u4e2athreshold)\uff0c<br>\n",
                "\u5f53gradient\u5927\u4e8e15\u65f6\uff0c\u8ba9gradient\u7b49\u4e8e15\u7ed3\u675f\u3002<br>\n",
                "\u56e0\u4e3agradient\u4e0d\u4f1a\u592a\u5927\uff0c\u6240\u4ee5\u4f60\u8981\u505aclipping\u7684\u65f6\u5019\uff0c\u5c31\u7b97\u662f\u8e29\u7740\u8fd9\u4e2a\u60ac\u5d16\u4e0a\uff0c\u4e5f\u4e0d\u98de\u51fa\u6765\uff0c\u4f1a\u98de\u5230\u4e00\u4e2a\u6bd4\u8f83\u8fd1\u7684\u5730\u65b9\uff0c<br>\n",
                "\u8fd9\u6837\u4f60\u8fd8\u53ef\u4ee5\u7ee7\u7eed\u505a\u4f60\u5f97RNN\u7684training\u3002<br>"
            ]
        },
        {
            "cell_type": "markdown",
            "metadata": {},
            "source": [
                "**\u725b\u5200\u5c0f\u8bd5**\n",
                "\n",
                "\u5f53\u67d0\u4e00\u65f6\u523b\u53c2\u6570\u70b9\u5904\u4e8e\u60ac\u5d16\u8fb9\u4e0a\u7684\u65f6\u5019\uff0c\u68af\u5ea6\u4f1a\u975e\u5e38\u7684\u5927\uff1b\u5982\u679c\u4e58\u4ee5\u5f53\u524d\u7684\u5b66\u4e60\u7387\uff0c\u4f1a\u98de\u51fa\u8fd9\u4e2a\u8bef\u5dee\u66f2\u9762\uff0c\u90a3\u4e48\u6211\u4eec\u5e94\u8be5\u91c7\u7528\u4ec0\u4e48\u6837\u7684\u65b9\u6cd5\u6765\u907f\u514d\u6b64\u79cd\u60c5\u51b5\u7684\u51fa\u73b0\uff1f"
            ]
        },
        {
            "cell_type": "markdown",
            "metadata": {},
            "source": [
                "<span class='md-hint-alone-link pop 0'>\u67e5\u770b\u7b54\u6848</span>"
            ]
        },
        {
            "cell_type": "markdown",
            "metadata": {},
            "source": [
                "\n",
                "\n",
                "![](http://imgbed.momodel.cn/37-5 why.png)",
                "\n",
                "\u7531\u56fe\u4e2d\u7684\u4f8b\u5b50\uff0c\u6211\u4eec\u53ef\u4ee5\u770b\u51fa\uff1a\u635f\u5931\u51fd\u6570\u7684\u68af\u5ea6\u5728\u540c\u4e00\u4e2a\u70b9\u9644\u8fd1\u53ef\u80fd\u6709\u7740\u5de8\u5927\u7684\u5dee\u522b\uff0c\n",
                "\n",
                "\u6709\u65f6\u5019\u975e\u5e38\u5927\uff0c\u6709\u65f6\u5019\u975e\u5e38\u5c0f\u3002\n"
            ]
        },
        {
            "cell_type": "markdown",
            "metadata": {},
            "source": [
                "**\u725b\u5200\u5c0f\u8bd5**\n",
                "\n",
                "\u601d\u8003\uff1a\u8fd9\u79cd\u73b0\u8c61\u53d1\u751f\u7684\u539f\u56e0\u3002"
            ]
        },
        {
            "cell_type": "markdown",
            "metadata": {},
            "source": [
                "<span class='md-hint-alone-link pop 1'>\u67e5\u770b\u7b54\u6848</span>"
            ]
        },
        {
            "cell_type": "markdown",
            "metadata": {},
            "source": [
                "### 2.\u89e3\u51b3RNN\u68af\u5ea6\u6d88\u5931\u6216\u8005\u68af\u5ea6\u7206\u70b8\u95ee\u9898"
            ]
        },
        {
            "cell_type": "markdown",
            "metadata": {},
            "source": [
                "#### 2.1 LSTM\n",
                "\n",
                "",
                "\n",
                "![](http://imgbed.momodel.cn/37-6 LSTM.png)"
            ]
        },
        {
            "cell_type": "markdown",
            "metadata": {},
            "source": [
                "\u6709\u4ec0\u4e48\u6837\u7684\u6280\u5de7\u53ef\u4ee5\u544a\u8bc9\u6211\u4eec\u53ef\u4ee5\u89e3\u51b3\u8fd9\u4e2a\u95ee\u9898\u5462\uff1f<br>\n",
                "\u5176\u5b9e\u5e7f\u6cdb\u88ab\u4f7f\u7528\u7684\u6280\u5de7\u5c31\u662fLSTM\uff0cLSTM\u53ef\u4ee5\u8ba9\u4f60\u7684error surface\u4e0d\u8981\u90a3\u4e48\u5d0e\u5c96\u3002<br>\n",
                "\u5b83\u53ef\u4ee5\u505a\u5230\u7684\u4e8b\u60c5\u662f\uff0c\u5b83\u4f1a\u628a\u90a3\u4e9b\u5e73\u5766\u7684\u5730\u65b9\u62ff\u6389\uff0c\u89e3\u51b3gradient vanish\u7684\u95ee\u9898\uff0c\u4e0d\u4f1a\u89e3\u51b3gradient explode\u7684\u95ee\u9898\u3002<br>\n",
                "\u6709\u4e9b\u5730\u65b9\u8fd8\u662f\u975e\u5e38\u7684\u5d0e\u5c96\u7684(\u6709\u4e9b\u5730\u65b9\u4ecd\u7136\u662f\u53d8\u5316\u975e\u5e38\u5267\u70c8\u7684\uff0c\u4f46\u662f\u4e0d\u4f1a\u6709\u7279\u522b\u5e73\u5766\u7684\u5730\u65b9)\u3002<br>\n",
                "\n",
                "\u5982\u679c\u4f60\u8981\u505aLSTM\u65f6\uff0c\u5927\u90e8\u5206\u5730\u65b9\u53d8\u5316\u7684\u5f88\u5267\u70c8\uff0c\u6240\u4ee5\u5f53\u4f60\u505aLSTM\u7684\u65f6\u5019\uff0c<br>\n",
                "\u4f60\u53ef\u4ee5\u653e\u5fc3\u7684\u628a\u4f60\u7684learning rate\u8bbe\u7f6e\u7684\u5c0f\u4e00\u70b9\uff0c\u4fdd\u8bc1\u5728learning rate\u5f88\u5c0f\u7684\u60c5\u51b5\u4e0b\u8fdb\u884c\u8bad\u7ec3\u3002<br>\n",
                "\n",
                "\u90a3\u4e3a\u4ec0\u4e48LSTM \u53ef\u4ee5\u89e3\u51b3\u68af\u5ea6\u6d88\u5931\u7684\u95ee\u9898\u5462\uff0c\u4e3a\u4ec0\u4e48\u53ef\u4ee5\u907f\u514dgradient\u7279\u522b\u5c0f\u5462\uff1f<br>\n",
                "\n",
                "RNN\u4e0eLSTM\u5728\u9762\u5bf9memory\u7684\u65f6\u5019\uff0c\u5904\u7406\u64cd\u4f5c\u4e0d\u4e00\u6837\uff1b<br><br>\n",
                "RNN \u91cc\u9762\u6bcf\u4e00\u4e2a\u65f6\u95f4\u70b9\uff0cmemory\u91cc\u9762\u7684\u503c\u90fd\u4f1a\u88ab\u8986\u76d6\u6389\uff1b<br>\n",
                "\u800c LSTM \u662f\u628a\u539f\u6765\u7684memory\u91cc\u9762\u7684\u503c\u4e58\u4ee5\u4e00\u4e2a\u503c\u4e0e input \u7684\u503c\u4e4b\u548c\u653e\u5728cell\u4e2d\uff0c\u5373LSTM\u7684memory input \u662f\u76f8\u52a0\u7684\u3002<br>\n",
                "\u6240\u4ee5\u4eca\u5929\u5b83\u548cRNN\u4e0d\u540c\u7684\u662f\uff0c\u5982\u679c\u4eca\u5929\u4f60\u7684weight\u53ef\u4ee5\u5f71\u54cd\u5230memory\u91cc\u9762\u7684\u503c\u7684\u8bdd\uff0c\u4e00\u65e6\u53d1\u751f\u5f71\u54cd\u4f1a\u6c38\u8fdc\u90fd\u5b58\u5728\u3002<br>\n",
                "\u4e0d\u50cfRNN\u5728\u6bcf\u4e2a\u65f6\u95f4\u70b9\u7684\u503c\u90fd\u4f1a\u88abformat\u6389\uff0c\u6240\u4ee5\u53ea\u8981\u8fd9\u4e2a\u5f71\u54cd\u88abformat\u6389\u5b83\u5c31\u6d88\u5931\u4e86\u3002<br>\n",
                "\u4f46\u662f\u5728LSTM\u91cc\u9762\uff0c\u4e00\u65e6\u5bf9memory\u9020\u6210\u5f71\u54cd\uff0c\u90a3\u5f71\u54cd\u4e00\u76f4\u4f1a\u88ab\u7559\u7740\u3002<br>\n",
                "\n",
                "\u73b0\u5728\u6709\u53e6\u5916\u4e00\u4e2a\u7248\u672c\u7528gate\u64cd\u63a7memory cell\uff0c\u53eb\u505aGates Recurrent Unit(GRU)\uff0c<br>\n",
                "LSTM\u6709\u4e09\u4e2aGate\uff0c\u800cGRU\u6709\u4e24\u4e2agate\uff0c\u6240\u4ee5GRU\u9700\u8981\u7684\u53c2\u6570\u662f\u6bd4\u8f83\u5c11\u7684\u3002<br>\n",
                "\u56e0\u4e3a\u5b83\u9700\u8981\u7684\u53c2\u6570\u91cf\u6bd4\u8f83\u5c11\uff0c\u6240\u4ee5\u5b83\u5728training\u7684\u65f6\u5019\u662f\u6bd4\u8f83\u9c81\u68d2\u7684\u3002<br><br>\n",
                "\u5982\u679c\u4f60\u4eca\u5929\u5728train LSTM\uff0c\u4f60\u89c9\u5f97overfitting\u7684\u60c5\u51b5\u5f88\u4e25\u91cd\uff0c\u4f60\u53ef\u4ee5\u8bd5\u4e0bGRU\u3002<br>\n",
                "GRU\u7684\u7cbe\u795e\u5c31\u662f\uff1a**\u65e7\u7684\u4e0d\u53bb\uff0c\u65b0\u7684\u4e0d\u6765\u3002**<br>\n",
                "\u5b83\u4f1a\u628ainput gate\u8ddfforget gate\u8054\u52a8\u8d77\u6765\uff0c<br>\n",
                "\u4e5f\u5c31\u662f\u8bf4\u5f53input gate\u6253\u5f00\u7684\u65f6\u5019\uff0cforget gate\u4f1a\u81ea\u52a8\u7684\u5173\u95ed(format\u5b58\u5728memory\u91cc\u9762\u7684\u503c)\uff0c<br>\n",
                "\u5f53forget gate\u6ca1\u6709\u8981format\u91cc\u9762\u7684\u503c\uff0cinput gate\u5c31\u4f1a\u88ab\u5173\u8d77\u6765\u3002<br>\n",
                "\u4e5f\u5c31\u662f\u8bf4\u4f60\u8981\u628amemory\u91cc\u9762\u7684\u503c\u6e05\u6389\uff0c\u624d\u80fd\u628a\u65b0\u7684\u503c\u653e\u8fdb\u6765\u3002<br>"
            ]
        },
        {
            "cell_type": "markdown",
            "metadata": {},
            "source": [
                "#### 2.2 \u5176\u4ed6\u6280\u5de7\n",
                "\n",
                ""
            ]
        },
        {
            "cell_type": "markdown",
            "metadata": {},
            "source": [
                "\n",
                "![](http://imgbed.momodel.cn/37-7 other technique.png)"
            ]
        },
        {
            "cell_type": "markdown",
            "metadata": {},
            "source": [
                "\u5176\u5b9e\u8fd8\u6709\u5176\u4ed6\u7684technique\u662f\u6765handle gradient vanishing\u7684\u95ee\u9898\u3002<br>\n",
                "\u6bd4\u5982\u8bf4clockwise RNN\u6216\u8005\u8bf4\u662fStructurally Constrained Recurrent Network (SCRN)\u7b49\u7b49\u3002<br>"
            ]
        },
        {
            "cell_type": "markdown",
            "metadata": {},
            "source": [
                "### 3. RNN \u7684\u5e94\u7528"
            ]
        },
        {
            "cell_type": "markdown",
            "metadata": {},
            "source": [
                "#### 3.1 \u591a\u5bf9\u4e00\u5e8f\u5217"
            ]
        },
        {
            "cell_type": "markdown",
            "metadata": {},
            "source": [
                "+ \u8f93\u5165\u662f\u77e2\u91cf\u5e8f\u5217\uff0c\u4f46\u8f93\u51fa\u53ea\u662f\u4e00\u4e2a\u77e2\u91cf"
            ]
        },
        {
            "cell_type": "markdown",
            "metadata": {},
            "source": [
                "\n",
                "",
                "\n",
                "\n",
                "![](http://imgbed.momodel.cn/37-8 senti analysis.png)"
            ]
        },
        {
            "cell_type": "markdown",
            "metadata": {},
            "source": [
                "sentiment analysis\u6240\u505a\u7684\u4e8b\u5c31\u662f\u7ed9machine \u770b\u5f88\u591a\u7684\u6587\u7ae0\uff0c<br>\n",
                "\u7136\u540emachine\u8981\u81ea\u52a8\u7684\u8bf4\uff0c\u54ea\u4e9b\u6587\u7ae0\u662f\u6b63\u7c7b\uff0c\u54ea\u4e9b\u6587\u7ae0\u662f\u8d1f\u7c7b\u3002<br>\n",
                "\u5728\u8fd9\u4e2a\u8fc7\u7a0b\u4e2d\uff0cRNN\u7684\u8f93\u5165\u662f character sequence\uff0c<br>\n",
                "\u7136\u540eRecurrent Neural Network\u628a\u8fd9\u4e2asequence\u8bfb\u8fc7\u4e00\u904d\u3002<br>\n",
                "\u5728\u6700\u540e\u4e00\u4e2a\u65f6\u95f4\u70b9\uff0c\u628ahidden layer\u62ff\u51fa\u6765\uff0c\u5728\u901a\u8fc7\u51e0\u4e2atransform\uff0c<br>\n",
                "\u7136\u540e\u4f60\u5c31\u53ef\u4ee5\u5f97\u5230\u6700\u540e\u7684sentiment analysis<br>\n",
                "(\u8fd9\u662f\u4e00\u4e2a\u5206\u7c7b\u7684\u95ee\u9898\uff0c\u4f46\u662f\u56e0\u4e3ainput\u662fsequence\uff0c\u6240\u4ee5\u7528RNN\u6765\u5904\u7406)<br>"
            ]
        },
        {
            "cell_type": "markdown",
            "metadata": {},
            "source": [
                "\n",
                "",
                "\n",
                "![](http://imgbed.momodel.cn/37-9 key term.png)"
            ]
        },
        {
            "cell_type": "markdown",
            "metadata": {},
            "source": [
                "key term extraction\u610f\u601d\u5c31\u662f\u8bf4\u7ed9machine\u770b\u4e00\u4e2a\u6587\u7ae0\uff0cmachine\u8981\u9884\u6d4b\u51fa\u8fd9\u7bc7\u6587\u7ae0\u6709\u54ea\u4e9b\u5173\u952e\u8bcd\u6c47\u3002"
            ]
        },
        {
            "cell_type": "markdown",
            "metadata": {},
            "source": [
                "#### 3.2 \u591a\u5bf9\u591a\u5e8f\u5217"
            ]
        },
        {
            "cell_type": "markdown",
            "metadata": {},
            "source": [
                "+ \u8f93\u5165\u548c\u8f93\u51fa\u90fd\u662f\u5e8f\u5217\uff0c\u4f46\u8f93\u51fa\u6bd4\u8f93\u5165\u77ed\u3002"
            ]
        },
        {
            "cell_type": "markdown",
            "metadata": {},
            "source": [
                "\n",
                "",
                "\n",
                "![](http://imgbed.momodel.cn/37-10 speech recognize.png)",
                "\n",
                "\u8bed\u97f3\u8fa8\u8bc6\u4e2d\u8f93\u5165\u662f\u4e00\u6bb5\u8bed\u97f3\u4fe1\u53f7\uff0c\u6bcf\u4e00\u4e2a vector \u662f\u4fe1\u53f7\u7684\u975e\u5e38\u5c0f\u7684\u4e00\u5c0f\u6bb5\u65f6\u95f4\uff08\u4f8b\u59820.1s\uff09\u6240\u4ee5\u4e00\u6bb5\u4fe1\u53f7\u4e2d\u4f1a\u6709\u5f88\u591a vector <br>\n",
                "\u90fd\u4f1a\u8f93\u51fa\u76f8\u540c\u7684\u5b57 \uff08\u5982\u4e0a\u56fe\u6240\u793a\uff09\uff0c\u7528 trimming \u7684\u65b9\u6cd5\u628a\u91cd\u590d\u7684\u8f93\u51fa\u53bb\u6389\uff0c\u4f46\u662f\u8fd9\u6837\u4f1a\u51fa\u73b0\u65e0\u6cd5\u533a\u5206\u201c\u597d\u68d2\u201d\uff08\u8912\u4e49\uff09\u548c\u201c\u597d\u68d2\u68d2\u201d\uff08\u8d2c\u4e49\uff09\u7684\u95ee\u9898\u3002<br>"
            ]
        },
        {
            "cell_type": "markdown",
            "metadata": {},
            "source": [
                ""
            ]
        },
        {
            "cell_type": "markdown",
            "metadata": {},
            "source": [
                "\n",
                "\n",
                "![](http://imgbed.momodel.cn/37-11 CTC.png)"
            ]
        },
        {
            "cell_type": "markdown",
            "metadata": {},
            "source": [
                "\u9700\u8981\u628a\u201c\u597d\u68d2\u201d\u8ddf\u201c\u597d\u68d2\u68d2\u201d\u5206\u5f00\u6765\uff0c\u600e\u4e48\u529e\uff0c\u6211\u4eec\u6709\u4e00\u62db\u53eb\u505a\u201cCTC\u201d(\u8fd9\u62db\u5f88\u795e\u5999)\uff0c\u5b83\u8bf4\uff1a<br>\n",
                "\u6211\u4eec\u5728output\u65f6\u5019\uff0c\u6211\u4eec\u4e0d\u53ea\u662foutput\u6240\u6709\u4e2d\u6587\u7684character\uff0c\u6211\u4eec\u8fd8\u6709output\u4e00\u4e2a\u7b26\u53f7\uff0c\u53eb\u505a\"null\"\"(\u6ca1\u6709\u4efb\u4f55\u4e1c\u897f)\u3002<br>\n",
                "\u6240\u4ee5\u6211\u4eca\u5929input\u4e00\u6bb5acoustic feature sequence,\u5b83\u7684 output \u662f\u201c\u597d null null \u68d2 null null null null\u201d\uff0c<br>\n",
                "\u7136\u540e\u6211\u5c31\u628a\u201cnull\u201d\u7684\u90e8\u5206\u62ff\u6389\uff0c\u5b83\u5c31\u53d8\u6210\u201c\u597d\u68d2\u201d\u3002\u5982\u679c\u6211\u4eec\u8f93\u5165\u53e6\u5916\u4e00\u4e2asequence\uff0c<br>\n",
                "\u5b83\u7684output\u662f\u201c\u597d null null \u68d2 null \u68d2 null null\u201d\uff0c\u7136\u540e\u628a\u201cnull\u201d\u62ff\u6389\uff0c\u6240\u4ee5\u5b83\u7684output\u5c31\u662f\u201c\u597d\u68d2\u68d2\u201d\u3002<br>\n",
                "\u8fd9\u6837\u5c31\u53ef\u4ee5\u89e3\u51b3\u53e0\u5b57\u7684\u95ee\u9898\u4e86\u3002<br>"
            ]
        },
        {
            "cell_type": "markdown",
            "metadata": {},
            "source": [
                "+ CTC\u7684\u8bad\u7ec3\u8fc7\u7a0b\uff1a\n",
                "\n",
                "\n",
                "![](http://imgbed.momodel.cn/37-12 CTC Training.png)",
                "\n",
                "CTC\u5728\u505atraining\u7684\u65f6\u5019\uff0c\u4f60\u624b\u4e0a\u7684train data\u5c31\u4f1a\u544a\u8bc9\u4f60\u8bf4\uff0c<br>\n",
                "\u8fd9\u4e00\u4e32acoustic features\u5bf9\u5e94\u5230\u8fd9\u4e00\u4e32character sequence\uff0c<br>\n",
                "\u4f46\u5b83\u4e0d\u4f1a\u544a\u8bc9\u4f60\u8bf4\u201c\u597d\u201d\u662f\u5bf9\u5e94\u7b2c\u51e0\u4e2acharacter \u5230\u7b2c\u51e0\u4e2acharacter\u3002<br>\n",
                "\u8fd9\u8be5\u600e\u4e48\u529e\u5462\uff0c\u7a77\u4e3e\u6240\u6709\u53ef\u80fd\u7684alignments\u3002<br>\n",
                "\u7b80\u5355\u6765\u8bf4\u5c31\u662f\uff0c\u6211\u4eec\u4e0d\u77e5\u9053\u201c\u597d\u201d\u5bf9\u5e94\u5230\u90a3\u51e0\u4e2acharacter\uff0c\u201c\u68d2\u201d\u5bf9\u5e94\u5230\u54ea\u51e0\u4e2acharacter\u3002<br>\n",
                "\u5047\u8bbe\u6211\u4eec\u6240\u6709\u7684\u72b6\u51b5\u90fd\u662f\u53ef\u80fd\u7684\u3002<br>\n",
                "\u53ef\u80fd\u7b2c\u4e00\u4e2a\u662f\u201c\u597d null \u68d2 null null null\u201d\uff0c\u53ef\u80fd\u662f\u201c\u597d null null \u68d2 null null\u201d\uff0c<br>\n",
                "\u4e5f\u53ef\u80fd\u662f\u201c\u597d null null null \u68d2 null\u201d\u3002\u6211\u4eec\u4e0d\u77e5\u9053\u54ea\u4e2a\u662f\u5bf9\u7684\uff0c\u90a3\u5047\u8bbe\u5168\u90e8\u90fd\u662f\u5bf9\u7684\u3002<br>\n",
                "\u5728training\u7684\u65f6\u5019\uff0c\u5168\u90e8\u90fd\u5f53\u505a\u662f\u6b63\u786e\u7684\uff0c\u7136\u540e\u4e00\u8d77train\u3002<br>"
            ]
        },
        {
            "cell_type": "markdown",
            "metadata": {},
            "source": [
                "+ CTC \u5b9e\u4f8b\uff1a\n",
                "\n",
                "\n",
                "\n",
                "![](http://imgbed.momodel.cn/37-13 CTC example.png)"
            ]
        },
        {
            "cell_type": "markdown",
            "metadata": {},
            "source": [
                "\u5728\u505a\u82f1\u6587\u8fa8\u8bc6\u7684\u65f6\u5019\uff0c\u4f60\u7684RNN output target \u5c31\u662fcharacter(\u82f1\u6587\u7684\u5b57\u6bcd+\u7a7a\u767d)\u3002<br>\n",
                "\u76f4\u63a5output\u5b57\u6bcd\uff0c\u7136\u540e\u5982\u679c\u5b57\u548c\u5b57\u4e4b\u95f4\u6709boundary\uff0c\u5c31\u81ea\u52a8\u6709\u7a7a\u767d\u3002<br>\n",
                "\n",
                "\u5047\u8bbe\u6709\u4e00\u4e2a\u4f8b\u5b50\uff0c\u7b2c\u4e00\u4e2aframe\u662foutput h\uff0c\u7b2c\u4e8c\u4e2aframe\u662foutput null\uff0c<br>\n",
                "\u7b2c\u4e09\u4e2aframe\u662foutput null\uff0c\u7b2c\u56db\u4e2aframe\u662foutput I\u7b49\u7b49\u3002<br>\n",
                "\u5982\u679c\u4f60\u770b\u5230output\u662f\u8fd9\u6837\u5b50\u8bdd\uff0c\u90a3\u6700\u540e\u628a\u201cnull\u201d\u7684\u5730\u65b9\u62ff\u6389\uff0c\u90a3\u8fd9\u53e5\u8bdd\u7684\u8fa8\u8bc6\u7ed3\u679c\u5c31\u662f\u201cHIS FRIEND'S\u201d\u3002<br>\n",
                "\u4f60\u4e0d\u9700\u8981\u544a\u8bc9machine\u8bf4\uff1a\"HIS\"\u662f\u4e00\u4e2a\u8bcd\u6c47\uff0c\u201cFRIEND's\u201d\u662f\u4e00\u4e2a\u8bcd\u6c47,machine\u901a\u8fc7training data\u4f1a\u81ea\u5df1\u5b66\u5230\u8fd9\u4ef6\u4e8b\u60c5\u3002<br>\n",
                "\u4f20\u8bf4 Google \u7684\u8bed\u97f3\u8fa8\u8bc6\u7cfb\u7edf\u5df2\u7ecf\u5168\u9762\u6362\u6210CTC\u6765\u505a\u8bed\u97f3\u8fa8\u8bc6\u3002\u5982\u679c\u4f60\u7528CTC\u6765\u505a\u8bed\u97f3\u8fa8\u8bc6\u7684\u8bdd\uff0c<br>\n",
                "\u5c31\u7b97\u662f\u6709\u67d0\u4e00\u4e2a\u8bcd\u6c47(\u6bd4\u5982\u662f\uff1a\u82f1\u6587\u4e2d\u4eba\u540d\uff0c\u5730\u540d)\u5728training data\u4e2d\u4ece\u6765\u6ca1\u6709\u51fa\u73b0\u8fc7\uff0cmachine\u4e5f\u662f\u6709\u673a\u4f1a\u628a\u5b83\u8fa8\u8bc6\u51fa\u6765\u3002<br>"
            ]
        },
        {
            "cell_type": "markdown",
            "metadata": {},
            "source": [
                "### 3.3 \u591a\u5bf9\u591a\uff08Sequence to sequence learning\uff09"
            ]
        },
        {
            "cell_type": "markdown",
            "metadata": {},
            "source": [
                "+ \u8f93\u5165\u548c\u8f93\u51fa\u957f\u5ea6\u4e4b\u95f4\u6ca1\u6709\u5173\u7cfb\u9650\u5236\u3002"
            ]
        },
        {
            "cell_type": "markdown",
            "metadata": {},
            "source": [
                "",
                "\n",
                "\u8f93\u5165\u82f1\u6587\u8bcd\u6c47\u5e8f\u5217\uff0c\u8f93\u51fa\u4e2d\u6587\u8bcd\u6c47\u5e8f\u5217\uff0c\u4e8c\u8005\u7684\u957f\u5ea6\u4e0d\u4e00\u6837\u3002\u4f8b\u5982\uff1amachine learning \u7ffb\u4e3a\uff1a\u673a\u5668\u5b66\u4e60\u3002\n",
                "\n",
                "\u628a\u8f93\u5165 machine learning \u7528 RNN \u8bfb\u4e00\u904d\uff0c\u5728\u6700\u540e\u4e00\u4e2a\u65f6\u95f4\u70b9\u7684 memory \u91cc\u9762\u5c31\u5b58\u4e86\u6574\u4e2a input sequence \u7684\u4fe1\u606f\u3002\n",
                "\n",
                "\u6700\u540e\u8f93\u51fa\u7b2c\u4e00\u4e2a\u8bcd\u201c\u673a\u201d\uff0c\u7136\u540e\u628a\u201c\u673a\u201d\u4f5c\u4e3a\u4e0b\u4e00\u4e2a\u7f51\u7edc\u7684\u8f93\u5165\uff0c\u7136\u540e\u5c31\u4f1a\u63a8\u51fa\u4e00\u7cfb\u5217\u7684\u8bcd\u6c47\u3002\n",
                "\n",
                "![](http://imgbed.momodel.cn/37-14 machine translation.png)"
            ]
        },
        {
            "cell_type": "markdown",
            "metadata": {},
            "source": [
                "\u95ee\u9898\u70b9\uff1a\u4e0d\u77e5\u9053\u4ec0\u4e48\u65f6\u5019\u505c\u4e0b\u6765\n",
                "\n",
                "\n",
                "![](http://imgbed.momodel.cn/37-15 when to stop.png)"
            ]
        },
        {
            "cell_type": "markdown",
            "metadata": {},
            "source": [
                "\u63a8\u6587\u63a5\u9f99\uff1a\n",
                "\n",
                "\n",
                "![](http://imgbed.momodel.cn/37-16 tlkagk.png)"
            ]
        },
        {
            "cell_type": "markdown",
            "metadata": {},
            "source": [
                "\u89e3\u51b3\u529e\u6cd5\uff1a\n",
                "\n",
                " \u589e\u52a0\u4e00\u4e2a\u201c\u65ad\u201d\u6807\u5fd7\u3002\n",
                "\n",
                "![](http://imgbed.momodel.cn/37-17 solution.png)",
                "\n"
            ]
        },
        {
            "cell_type": "markdown",
            "metadata": {},
            "source": [
                "\u76f4\u63a5\u8f93\u5165\u82f1\u6587\u7684\u58f0\u97f3\u4fe1\u53f7\uff0c\u8f93\u51fa\u53e6\u4e00\u79cd\u8bed\u8a00\u7684\u6587\u5b57\uff0c\n",
                "\n",
                "\u800c\u4e0d\u5fc5\u5148\u5c06\u8bed\u97f3\u4fe1\u53f7\u8f6c\u6362\u6210\u6587\u5b57\u3002\n",
                "\n",
                "![](http://imgbed.momodel.cn/37-18 speech translation.png)"
            ]
        },
        {
            "cell_type": "markdown",
            "metadata": {},
            "source": [
                "\u8fd9\u7bc7\u7684papre\u662f\u8fd9\u6837\u505a\u7684\uff0csequence to sequence learning\u6211\u4eec\u539f\u6765\u662finput <br>\n",
                "\u67d0\u79cd\u8bed\u8a00\u7684\u6587\u5b57\u7ffb\u8bd1\u6210\u53e6\u5916\u4e00\u79cd\u8bed\u8a00\u7684\u6587\u5b57(\u5047\u8bbe\u505a\u7ffb\u8bd1\u7684\u8bdd)\u3002<br>\n",
                "\u90a3\u6211\u4eec\u6709\u6ca1\u6709\u53ef\u80fd\u76f4\u63a5input\u67d0\u79cd\u8bed\u8a00\u7684\u58f0\u97f3\u8baf\u53f7\uff0c<br>\n",
                "output\u53e6\u5916\u4e00\u79cd\u8bed\u8a00\u7684\u6587\u5b57\u5462\uff1f\u6211\u4eec\u5b8c\u5168\u4e0d\u505a\u8bed\u97f3\u8fa8\u8bc6\u3002<br>\n",
                "\u6bd4\u5982\u8bf4\u4f60\u8981\u628a\u82f1\u6587\u7ffb\u8bd1\u6210\u4e2d\u6587\uff0c\u4f60\u5c31\u6536\u96c6\u4e00\u5927\u5806\u82f1\u6587\u7684\u53e5\u5b50\uff0c<br>\n",
                "\u770b\u770b\u5b83\u5bf9\u5e94\u7684\u4e2d\u6587\u7ffb\u8bd1\u3002\u4f60\u5b8c\u5168\u4e0d\u8981\u505a\u8bed\u97f3\u8fa8\u8bc6\uff0c<br>\n",
                "\u76f4\u63a5\u628a\u82f1\u6587\u7684\u58f0\u97f3\u8baf\u53f7\u4e22\u5230\u8fd9\u4e2amodel\u91cc\u9762\u53bb\uff0c<br><br>\n",
                "\u770b\u5b83\u80fd\u4e0d\u80fdoutput\u6b63\u786e\u7684\u4e2d\u6587\u3002\u8fd9\u4e00\u62db\u5c45\u7136\u662f\u884c\u5f97\u901a\u7684\u3002<br>\n",
                "\u5047\u8bbe\u4f60\u4eca\u5929\u8981\u628a\u53f0\u8bed\u8f6c\u6210\u82f1\u6587\uff0c\u4f46\u662f\u53f0\u8bed\u7684\u8bed\u97f3\u8fa8\u8bc6\u7cfb\u7edf\u4e0d\u597d\u505a\uff0c<br>\n",
                "\u56e0\u4e3a\u53f0\u8bed\u6839\u672c\u5c31\u6ca1\u6709standard\u6587\u5b57\u7cfb\u7edf\uff0c\u6240\u4ee5\u8fd9\u9879\u6280\u672f\u53ef\u4ee5\u6210\u529f\u7684\u8bdd\uff0c<br>\n",
                "\u672a\u6765\u4f60\u5728\u8bad\u7ec3\u53f0\u8bed\u8f6c\u82f1\u6587\u8bed\u97f3\u8fa8\u8bc6\u7cfb\u7edf\u7684\u65f6\u5019\uff0c\u4f60\u53ea\u9700\u8981\u6536\u96c6\u53f0\u8bed\u7684\u58f0\u97f3\u8baf\u53f7\u8ddf\u5b83\u7684\u82f1\u6587\u7ffb\u8bd1\u5c31\u53ef\u4ee5\u523b\u4e86\u3002<br>\n",
                "\u4f60\u5c31\u4e0d\u9700\u8981\u53f0\u8bed\u8bed\u97f3\u8fa8\u8bc6\u7684\u7ed3\u679c\uff0c\u4f60\u4e5f\u4e0d\u9700\u8981\u77e5\u9053\u53f0\u8bed\u7684\u6587\u5b57\uff0c\u4e5f\u53ef\u4ee5\u505a\u8fd9\u4ef6\u4e8b\u3002<br>"
            ]
        },
        {
            "cell_type": "markdown",
            "metadata": {},
            "source": [
                "",
                "\n",
                "\n",
                "![](http://imgbed.momodel.cn/37-19 syntactic prasing.png)",
                "\n"
            ]
        },
        {
            "cell_type": "markdown",
            "metadata": {},
            "source": [
                "\u5229\u7528sequence to sequence\u7684\u6280\u672f\uff0c\u751a\u81f3\u53ef\u4ee5\u505a\u5230Beyond Sequence\u3002\u8fd9\u4e2a\u6280\u672f\u4e5f\u88ab\u7528\u5230syntactic parsing\u3002<br>\n",
                "synthetic parsing\u8fd9\u4e2a\u610f\u601d\u5c31\u662f\u8bf4\uff0c\u8ba9machine\u770b\u4e00\u4e2a\u53e5\u5b50\uff0c\u5b83\u8981\u5f97\u5230\u8fd9\u4e2a\u53e5\u5b50\u7684\u7ed3\u6784\u6811\uff0c\u5f97\u5230\u4e00\u4e2a\u6811\u72b6\u7684\u7ed3\u6784\u3002<br>\n",
                "\u600e\u4e48\u8ba9machine\u5f97\u5230\u8fd9\u6837\u7684\u7ed3\u6784\u5462\uff1f<br>\n",
                "\u8fc7\u53bb\u4f60\u53ef\u80fd\u8981\u7528structured learning\u7684\u6280\u672f\u80fd\u591f\u89e3\u8fd9\u4e2a\u95ee\u9898\u3002<br>\n",
                "\u4f46\u662f\u73b0\u5728\u6709\u4e86 sequence to sequence learning\u7684\u6280\u672f\u4ee5\u540e\uff0c<br>\n",
                "\u4f60\u53ea\u8981\u628a\u8fd9\u4e2a\u6811\u72b6\u56fe\u63cf\u8ff0\u6210\u4e00\u4e2asequence(\u5177\u4f53\u770b\u56fe\u4e2d john has a dog)\u3002<br>\n",
                "\u6240\u4ee5\u4eca\u5929\u662fsequence to sequence learning \u7684\u8bdd\uff0c<br>\n",
                "\u4f60\u5c31\u76f4\u63a5learn \u4e00\u4e2asequence to sequence model\u3002<br>\n",
                "\u5b83\u7684output\u76f4\u63a5\u5c31\u662fsyntactic parsing tree\u3002\u8fd9\u4e2a\u662f\u53ef\u4ee5train\u7684\u8d77\u6765\u7684\uff0c\u975e\u5e38\u7684surprised<br>"
            ]
        },
        {
            "cell_type": "markdown",
            "metadata": {},
            "source": [
                "\u6709\u5174\u8da3\u7684\u540c\u5b66\u53ef\u4ee5\u770b\u4e0b\u8bba\u6587\uff1a<br>\n",
                "Oriol Vinyals, Lukasz Kaiser, Terry Koo, Slav Petrov, Ilya Sutskever, Geoffrey Hinton, Grammar as a Foreign Language, NIPS 2015\n"
            ]
        },
        {
            "cell_type": "markdown",
            "metadata": {},
            "source": [
                "#### 3.4 Document\u8f6c\u6210Vector"
            ]
        },
        {
            "cell_type": "markdown",
            "metadata": {},
            "source": [
                ""
            ]
        },
        {
            "cell_type": "markdown",
            "metadata": {},
            "source": [
                "\n",
                "![](http://imgbed.momodel.cn/37-20 seq to seq.png)",
                "\n",
                "\u90a3\u6211\u4eec\u8981\u5c06\u4e00\u4e2adocument\u8868\u793a\u6210\u4e00\u4e2avector\u7684\u8bdd\uff0c\u5f80\u5f80\u4f1a\u7528bag-of-word\u7684\u65b9\u6cd5\uff0c<br>\n",
                "\u7528\u8fd9\u4e2a\u65b9\u6cd5\u7684\u65f6\u5019\uff0c\u5f80\u5f80\u4f1a\u5ffd\u7565\u6389 word order information\u3002<br>\n",
                "\u4e3e\u4f8b\u6765\u8bf4\uff0c\u6709\u4e00\u4e2aword sequence\u662f\u201cwhite blood cells destroying an infection\u201d\uff0c<br>\n",
                "\u53e6\u5916\u4e00\u4e2aword sequence\u662f\uff1a\u201can infection destroying white blood cells\u201d\uff0c\u8fd9\u4e24\u53e5\u8bdd\u7684\u610f\u601d\u5b8c\u5168\u662f\u76f8\u53cd\u7684\u3002<br>\n",
                "\u4f46\u662f\u6211\u4eec\u7528bag-of-word\u7684\u65b9\u6cd5\u6765\u63cf\u8ff0\u7684\u8bdd\uff0c\u4ed6\u4eec\u7684bag-of-word\u5b8c\u5168\u662f\u4e00\u6837\u7684\u3002\u5b83\u4eec\u91cc\u9762\u6709\u5b8c\u5168\u4e00\u6478\u4e00\u6837\u7684\u516d\u4e2a\u8bcd\u6c47\uff0c<br>\n",
                "\u56e0\u4e3a\u8bcd\u6c47\u7684order\u662f\u4e0d\u4e00\u6837\u7684\uff0c\u6240\u4ee5\u4ed6\u4eec\u7684\u610f\u601d\u4e00\u4e2a\u53d8\u6210positive\uff0c\u4e00\u4e2a\u53d8\u6210negative\uff0c\u4ed6\u4eec\u7684\u610f\u601d\u662f\u5f88\u4e0d\u4e00\u6837\u7684\u3002<br>\n",
                "\n",
                "\u90a3\u6211\u4eec\u53ef\u4ee5\u7528sequence to sequence Auto-encoder\u8fd9\u79cd\u505a\u6cd5\u6765\u8003\u8651word sequence order\u7684\u60c5\u51b5\u4e0b<br>\n",
                "\u628a\u4e00\u4e2adocument\u53d8\u6210\u4e00\u4e2avector\u3002<br>"
            ]
        },
        {
            "cell_type": "markdown",
            "metadata": {},
            "source": [
                "### 4. Sequence-to-sequence -Text"
            ]
        },
        {
            "cell_type": "markdown",
            "metadata": {},
            "source": [
                "",
                "\n",
                "![](http://imgbed.momodel.cn/37-21 decode encode.png)"
            ]
        },
        {
            "cell_type": "markdown",
            "metadata": {},
            "source": [
                "input\u4e00\u4e2aword sequence\uff0c\u901a\u8fc7Recurrent Neural Network\u53d8\u6210\u4e00\u4e2ainvalid vector\uff0c<br>\n",
                "\u7136\u540e\u628a\u8fd9\u4e2ainvalid vector\u5f53\u505adecoder\u7684\u8f93\u5165\uff0c\u7136\u540e\u8ba9\u8fd9\u4e2adecoder\uff0c\u627e\u56de\u4e00\u6a21\u4e00\u6837\u7684\u53e5\u5b50\u3002<br>\n",
                "\u5982\u679c\u4eca\u5929Recurrent Neural Network\u53ef\u4ee5\u505a\u5230\u8fd9\u4ef6\u4e8b\u60c5\u7684\u8bdd\uff0c<br>\n",
                "\u90a3Encoding\u8fd9\u4e2avector\u5c31\u4ee3\u8868\u8fd9\u4e2ainput sequence\u91cc\u9762\u91cd\u8981\u7684information\u3002<br>\n",
                "\u5728trian Sequence-to-sequence Auto-encoder\u7684\u65f6\u5019\uff0c<br>\n",
                "\u4e0d\u9700\u8981label data\uff0c\u4f60\u53ea\u9700\u8981\u6536\u96c6\u5927\u91cf\u7684\u6587\u7ae0\uff0c\u7136\u540e\u76f4\u63a5train\u4e0b\u53bb\u5c31\u597d\u3002<br>"
            ]
        },
        {
            "cell_type": "markdown",
            "metadata": {},
            "source": [
                "Sequence-to-sequence \u8fd8\u6709\u53e6\u5916\u4e00\u4e2a\u7248\u672c\u53ebskip thought\uff0c<br>\n",
                "\u5982\u679c\u7528Sequence-to-sequence\u7684\uff0c\u8f93\u5165\u8f93\u51fa\u90fd\u662f\u540c\u4e00\u4e2a\u53e5\u5b50\uff0c<br>\n",
                "\u5982\u679c\u7528skip thought\u7684\u8bdd\uff0c\u8f93\u51fa\u7684\u76ee\u6807\u5c31\u4f1a\u662f\u4e0b\u4e00\u4e2a\u53e5\u5b50\uff0c<br>\n",
                "\u7528sequence-to-sequence\u5f97\u5230\u7684\u7ed3\u679c\u901a\u5e38\u5bb9\u6613\u8868\u8fbe\uff0c<br>\n",
                "\u5982\u679c\u8981\u5f97\u5230\u8bed\u4e49\u7684\u610f\u601d\u7684\uff0c\u90a3\u4e48skip thought\u4f1a\u5f97\u5230\u6bd4\u8f83\u597d\u7684\u7ed3\u679c\u3002<br>\n",
                "\n",
                "![](http://imgbed.momodel.cn/37-22 decode encode2.png)"
            ]
        },
        {
            "cell_type": "markdown",
            "metadata": {},
            "source": [
                "\u8fd9\u4e2a\u7ed3\u6784\u751a\u81f3\u53ef\u4ee5\u662fhierarchical,\u4f60\u53ef\u4ee5\u6bcf\u4e00\u4e2a\u53e5\u5b50\u90fd\u5148\u5f97\u5230\u4e00\u4e2avector <br>\n",
                "(Mary was hungry\u5f97\u5230\u4e00\u4e2avector\uff0cshe didn't find any food\u5f97\u5230\u4e00\u4e2avector)\uff0c<br>\n",
                "\u7136\u540e\u628a\u8fd9\u4e9bvector\u52a0\u8d77\u6765\uff0c\u7136\u540e\u53d8\u6210\u4e00\u4e2a\u6574\u4e2a document high label vector\uff0c<br>\n",
                "\u5728\u8ba9\u8fd9\u6574\u4e2avector\u53bb\u4ea7\u751f\u4e00\u4e32sentence vector\uff0c<br>\n",
                "\u5728\u6839\u636e\u6bcf\u4e00\u4e2asentence vector\u518d\u53bb\u89e3\u56deword sequence\u3002<br>\n",
                "\u8fd9\u662f\u4e00\u4e2a\u56db\u5c42\u7684LSTM(\u4eceword \u53d8\u6210sentence sequence \uff0c<br>\n",
                "\u53d8\u6210document lable\uff0c\u518d\u89e3\u56desentence sequence\uff0c\u518d\u89e3\u56deword sequence)<br>"
            ]
        },
        {
            "cell_type": "markdown",
            "metadata": {},
            "source": [
                "### 5 Sequence-to-sequence -Speech\n",
                "\n",
                ""
            ]
        },
        {
            "cell_type": "markdown",
            "metadata": {},
            "source": [
                "\n",
                "![](http://imgbed.momodel.cn/37-23 speech encoder.png)",
                "\n",
                "\u5728\u8bed\u97f3\u4e0a\uff0c\u5b83\u53ef\u4ee5\u628a\u4e00\u6bb5audio segment\u53d8\u6210\u4e00\u4e2afixed length vector\u3002<br>\n",
                "\u6bd4\u5982\u8bf4\uff0c\u5de6\u8fb9\u6709\u4e00\u6bb5\u58f0\u97f3\u8baf\u53f7\uff0c\u957f\u957f\u77ed\u77ed\u90fd\u4e0d\u4e00\u6837\uff0c\u90a3\u4f60\u628a\u4ed6\u4eec\u53d8\u6210vector\u7684\u8bdd\uff0c<br>\n",
                "\u53ef\u80fddog\u8ddfdogs\u6bd4\u8f83\u63a5\u8fd1\uff0cnever\u548cever\u6bd4\u8f83\u63a5\u8fd1\u3002\u6211\u79f0\u4e4b\u4e3aaudio auto vector\u3002<br>\n",
                "\u4e00\u822c\u7684auto vector\u5b83\u662f\u628aword\u53d8\u6210vector\uff0c\u8fd9\u4e2a\u662f\u628a\u4e00\u6bb5\u58f0\u97f3\u8baf\u53f7\u53d8\u6210\u4e00\u4e2avector\u3002<br>"
            ]
        },
        {
            "cell_type": "markdown",
            "metadata": {},
            "source": [
                "+ \u8bed\u97f3\u641c\u7d22\uff1a\n",
                "\n",
                "\u5c06\u8bed\u97f3\u5e93\u4e2d\u7684\u8bed\u97f3\u4fe1\u53f7\u5168\u90e8\u8f6c\u6362\u4e3a\u5411\u91cf\uff0c\u8f93\u5165\u4fe1\u53f7\u4e5f\u8f6c\u6362\u4e3a\u5411\u91cf\uff0c\n",
                "\n",
                "\u5728\u8bed\u97f3\u5e93\u4e2d\u5bfb\u627e\u6700\u76f8\u4f3c\u7684\u5411\u91cf\uff0c\u5f97\u5230\u641c\u5bfb\u7ed3\u679c\u3002\n",
                "\n",
                "![](http://imgbed.momodel.cn/37-24 audio archive.png)"
            ]
        },
        {
            "cell_type": "markdown",
            "metadata": {},
            "source": [
                "\u5982\u4f55\u5c06\u97f3\u9891\u6bb5\u8f6c\u5316\u4e3a\u5411\u91cf\uff1f\n",
                "\n",
                "\n",
                "![](http://imgbed.momodel.cn/37-25 encode and decode.png)",
                "\n",
                "\u901a\u8fc7 RNN Encoder \u5c06\u97f3\u9891\u4fe1\u53f7\u8fdb\u884c\u8bad\u7ec3\uff0c\u6700\u540e\u5b58\u5230 memory \u4e2d\u7684\u4fe1\u606f\u5c31\u662f\u5411\u91cf\uff1b\n",
                "\n",
                "\n",
                "![](http://imgbed.momodel.cn/37-26 jointly trained.png)",
                "\n",
                "\u6211\u4eec\u5c06 encoder \u548c decoder \u653e\u5728\u4e00\u8d77\u8bad\u7ec3\uff0c\u5e0c\u671b\u6700\u7ec8\u7684\u8f93\u51fa\u7ed3\u679c $y_1,y_2,y_3,..$\u548c$x_1,x_2,x_3,...$ \u63a5\u8fd1\u3002"
            ]
        },
        {
            "cell_type": "markdown",
            "metadata": {},
            "source": [
                "+ \u5d4c\u5165\u5411\u91cf\u7684\u53ef\u89c6\u5316\n",
                "\n",
                "\n",
                "![](http://imgbed.momodel.cn/37-27 visualization.png)"
            ]
        },
        {
            "cell_type": "markdown",
            "metadata": {},
            "source": [
                "\u6211\u4eec\u5728\u5b9e\u9a8c\u4e0a\u5f97\u5230\u4e00\u4e9b\u6709\u8da3\u7684\u7ed3\u679c\uff0c\u56fe\u4e0a\u7684\u6bcf\u4e2a\u70b9\u5176\u5b9e\u90fd\u662f\u4e00\u6bb5\u58f0\u97f3\u8baf\u53f7\uff0c<br>\n",
                "\u4f60\u628a\u58f0\u97f3\u8baf\u53f7\u7528\u521a\u624d\u8bb2\u7684 Sequence-to-sequence Auto-encoder\u6280\u672f\u53d8\u6210\u5e73\u9762\u4e0a\u4e00\u4e2avector\u3002<br>\n",
                "\u53d1\u73b0\u8bf4\uff1afear\u8fd9\u4e2a\u4f4d\u7f6e\u5728\u5de6\u4e0a\u89d2\uff0cnear\u7684\u4f4d\u7f6e\u5728\u53f3\u4e0b\u89d2\uff0c\u4ed6\u4eec\u4e2d\u95f4\u8fd9\u6837\u7684\u5173\u7cfb(fame\u5728\u5de6\u4e0a\u89d2\uff0cname\u5728\u53f3\u4e0b\u89d2)\u3002<br>\n",
                "\u4f60\u4f1a\u53d1\u73b0\u8bf4\uff1a\u628afear\u7684\u5f00\u5934f\u6362\u6210n\uff0c\u8ddffame\u7684\u5f00\u5934f\u6362\u6210n\uff0c\u5b83\u4eec\u7684word vector\u7684\u53d8\u5316\u65b9\u5411\u662f\u4e00\u6837\u7684\u3002<br>\n",
                "\u73b0\u5728\u8fd9\u4e2a\u6280\u672f\u8fd8\u6ca1\u6709\u628a\u8bed\u4e49\u52a0\u8fdb\u53bb\u3002<br>"
            ]
        },
        {
            "cell_type": "markdown",
            "metadata": {},
            "source": [
                ""
            ]
        },
        {
            "cell_type": "markdown",
            "metadata": {},
            "source": [
                "\u8bad\u7ec3\u804a\u5929\u673a\u5668\u4eba\uff0c\u6a21\u4eff\u4eba\u7c7b\u5bf9\u8bdd\u3002\n",
                "\n",
                "![](http://imgbed.momodel.cn/37-28 chat bot.png)",
                "\n",
                "\u8fd9\u4e2ademo\u662f\u7528Sequence-to-sequence Auto-encoder\u6765\u8bad\u7ec3\u4e00\u4e2achat-bot(\u804a\u5929\u673a\u5668\u4eba)\u3002<br>\n",
                "\u600e\u4e48\u7528sequence to sequence learning\u6765train chat-bot\u5462\uff1f<br>\n",
                "\u4f60\u5c31\u6536\u96c6\u5f88\u591a\u7684\u5bf9\u8bdd\uff0c\u6bd4\u5982\u8bf4\u7535\u5f71\u7684\u53f0\u8bcd\uff0c\u5728\u7535\u5f71\u4e2d\u6709\u4e00\u4e2a\u53f0\u8bcd\u662f\u201cHow are you\u201d\uff0c\u53e6\u5916\u4e00\u4e2a\u4eba\u63a5\u201cI am fine\u201d\u3002<br>\n",
                "\u90a3\u5c31\u544a\u8bc9machine\u8bf4\u8fd9\u4e2asequence to sequence learning<br>\n",
                "\u5f53\u5b83input\u662f\u201cHow are you\u201d\u7684\u65f6\u5019\uff0c\u8fd9\u4e2amodel\u7684output\u5c31\u8981\u662f\u201cI am fine\u201d\u3002<br>\n",
                "\u4f60\u53ef\u4ee5\u6536\u96c6\u5230\u8fd9\u79cddata\uff0c\u7136\u540e\u5c31\u8ba9machine\u53bb train\u3002<br>\n",
                "\u8fd9\u91cc\u6211\u4eec\u5c31\u6536\u96c6\u4e86\u56db\u4e07\u53e5\u548c\u7f8e\u56fd\u603b\u7edf\u8fa9\u8bba\u7684\u53e5\u5b50\uff0c\u7136\u540e\u8ba9machine\u53bb\u5b66\u8fd9\u4e2asequence to sequence\u8fd9\u4e2amodel\u3002<br>"
            ]
        },
        {
            "cell_type": "markdown",
            "metadata": {},
            "source": [
                "### 6.\u57fa\u4e8e\u6ce8\u610f\u529b\u7684\u6a21\u578b\uff08RNN\u8fdb\u9636\u7248\u672c\uff09"
            ]
        },
        {
            "cell_type": "markdown",
            "metadata": {},
            "source": [
                "\n",
                "",
                "\n",
                "![](http://imgbed.momodel.cn/37-29 attention based.png)",
                "\n",
                "RNN \u7684\u8fdb\u9636\u7248\u672c\uff0c\u5148\u7ed9\u51fa\u4e86\u4eba\u7c7b\u8111\u888b\u53ef\u4ee5\u8bb0\u5fc6\u5f88\u591a\u4e1c\u897f\uff0c\u4ece\u4eca\u5929\u7684\u65e9\u9910\uff0c\u5230 10 \u5e74\u524d\u7684\u590f\u5929\uff0c\u8fd8\u53ef\u4ee5\u6839\u636e\u8bb0\u5fc6\u8fdb\u884c\u5f52\u7eb3\u6574\u7406\u77e5\u8bc6\n",
                "\n",
                "\u673a\u5668\u4e5f\u53ef\u4ee5\u505a\u7c7b\u4f3c\u7684\u4e8b\u60c5\uff0c\u5927\u4f53\u7ed3\u6784\u5982\u4e0b\u56fe\u6240\u793a\uff0c\u8f93\u5165\u7ecf\u8fc7 DNN \u6216 RNN\uff08\u76f8\u5f53\u4e8e CPU\uff09\uff0c\u7136\u540e\u64cd\u63a7\u8bfb\u5199\u5934\uff0c<br>\n",
                "\u8bfb\u53d6\u76f8\u5e94\u4f4d\u7f6e\u7684\u6570\u636e\uff08\u6574\u4e2a\u8fc7\u7a0b\u7c7b\u4f3c\u7535\u8111\u8bfb\u53d6\u786c\u76d8\uff09\uff0c\u4e0d\u5177\u4f53\u5c55\u5f00\u3002<br>\n",
                "\u5927\u5bb6\u53ef\u4ee5\u53c2\u8003\u76f8\u5173\u8d44\u6599\uff1a\n",
                "                [Attention-Based Model\u674e\u5b8f\u6bc5\u7cbe\u8bb2](http://speech.ee.ntu.edu.tw/~tlkagk/courses/MLDS_2015_2/Lecture/Attain%20%28v3%29.ecm.mp4/index.html)\u3002\n",
                "\n",
                "        "
            ]
        },
        {
            "cell_type": "markdown",
            "metadata": {},
            "source": [
                "\u5f53\u5f97\u5230\u65b0\u7684\u8f93\u5165\u4fe1\u53f7\u65f6\uff0c\u6211\u4eec\u4f7f\u7528 DNN \u6216\u8005 RNN \u8bad\u7ec3\u8be5\u6570\u636e\uff0c\u5f97\u5230\u673a\u5668\u5185\u5b58\u4e2d\u76f8\u5e94\u4f4d\u7f6e\u7684\u4fe1\u606f\u5e76\u8f93\u51fa\u3002\n",
                "\n",
                "![](http://imgbed.momodel.cn/37-30 attention based machanisim.png)"
            ]
        },
        {
            "cell_type": "markdown",
            "metadata": {},
            "source": [
                "\u5176\u5b9emachine\u4e5f\u53ef\u4ee5\u505a\u5230\u7c7b\u4f3c\u7684\u4e8b\u60c5\uff0cmachine\u4e5f\u53ef\u4ee5\u6709\u5f88\u5927\u7684\u8bb0\u5fc6\u7684\u5bb9\u91cf\u3002<br>\n",
                "\u5b83\u53ef\u4ee5\u6709\u5f88\u5927\u7684data base\uff0c\u5728\u8fd9\u4e2adata base\u91cc\u9762\uff0c\u6bcf\u4e00\u4e2avector\u5c31\u4ee3\u8868\u4e86\u67d0\u79cdinformation\u88ab\u5b58\u5728machine\u7684\u8bb0\u5fc6\u91cc\u9762\u3002<br>\n",
                "\n",
                "\u5f53\u4f60\u8f93\u5165\u4e00\u4e2ainput\u7684\u65f6\u5019\uff0c\u8fd9\u4e2ainput\u4f1a\u88ab\u4e22\u8fdb\u4e00\u4e2a\u4e2d\u592e\u5904\u7406\u5668\uff0c\u8fd9\u4e2a\u4e2d\u592e\u5904\u7406\u5668\u53ef\u80fd\u662f\u4e00\u4e2aDNN/RNN\uff0c<br>\n",
                "\u90a3\u8fd9\u4e2a\u4e2d\u592e\u5904\u7406\u5668\u4f1a\u64cd\u63a7\u4e00\u4e2aReading Head Controller\uff0c<br>\n",
                "\u8fd9\u4e2aReading Head Controller\u4f1a\u53bb\u51b3\u5b9a\u8fd9\u4e2areading head\u653e\u7684\u4f4d\u7f6e\u3002<br>\n",
                "machine\u518d\u4ece\u8fd9\u4e2areading head \u7684\u4f4d\u7f6e\u53bb\u8bfb\u53d6information\uff0c\u7136\u540e\u4ea7\u751f\u6700\u540e\u7684output<br>"
            ]
        },
        {
            "cell_type": "markdown",
            "metadata": {},
            "source": [
                "![](http://imgbed.momodel.cn/37-31 model 2.png)"
            ]
        },
        {
            "cell_type": "markdown",
            "metadata": {},
            "source": [
                "\u8fd9\u4e2amodel\u8fd8\u6709\u4e00\u4e2a2.0\u7684\u7248\u672c\uff0c\u5b83\u4f1a\u53bb\u64cd\u63a7writing head controller\u3002<br>\n",
                "\u8fd9\u4e2awriting head controller\u4f1a\u53bb\u51b3\u5b9awriting head \u653e\u7684\u4f4d\u7f6e\u3002<br>\n",
                "\u7136\u540emachine\u4f1a\u53bb\u628a\u5b83\u7684information\u901a\u8fc7\u8fd9\u4e2awriting head\u5199\u8fdb\u5b83\u7684data base\u91cc\u9762\u3002<br>\n",
                "\u6240\u4ee5\uff0c\u5b83\u4e0d\u4ec5\u6709\u8bfb\u7684\u529f\u80fd\uff0c\u8fd8\u53ef\u4ee5discover\u51fa\u6765\u7684\u4e1c\u897f\u5199\u5165\u5b83\u7684memory\u91cc\u9762\u53bb\u3002<br>\n",
                "\u8fd9\u4e2a\u5c31\u662f\u5927\u540d\u9f0e\u9f0e\u7684Neural Turing Machine\u3002<br>"
            ]
        },
        {
            "cell_type": "markdown",
            "metadata": {},
            "source": [
                "#### 6.1 \u9605\u8bfb\u7406\u89e3\n",
                ""
            ]
        },
        {
            "cell_type": "markdown",
            "metadata": {},
            "source": [
                "\u5c06Text\u4e2d\u7684\u53e5\u5b50\u53d8\u6210\u4e00\u4e2a\u4e2a\u53e5\u5b50\uff0c\u6839\u636e\u8f93\u5165\u7684\u961f\u5217\uff0c\u7ecf\u8fc7 RNN \u6216\u8005 DNN \u5904\u7406\uff0c\u627e\u5230\u6700\u5408\u9002\u7684\u7b54\u6848\u3002\n",
                "\n",
                "![](http://imgbed.momodel.cn/37-32 reading compression.png)"
            ]
        },
        {
            "cell_type": "markdown",
            "metadata": {},
            "source": [
                "\u7ed3\u679c\uff1a\n",
                "\n",
                "![](http://imgbed.momodel.cn/37-33 exresult.png)",
                "\n",
                "<font size=4>https://github.com/fchollet/keras/blob/master/examples/babi_memnn.py<font>"
            ]
        },
        {
            "cell_type": "markdown",
            "metadata": {},
            "source": [
                "\u4e0a\u56fe\u662f\u5728baby corpus\u4e0a\u7684\u7ed3\u679c\uff0cbaby corpus\u662f\u4e00\u4e2aQ&A\u7684\u4e00\u4e2a\u7b80\u5355\u7684\u6d4b\u8bd5\u3002<br>\n",
                "\u6211\u4eec\u9700\u8981\u505a\u7684\u4e8b\u5c31\u662f\u8bfb\u8fc7\u8fd9\u4e94\u4e2a\u53e5\u5b50\uff0c\u7136\u540e\u8bf4\uff1awhat color is Grey?\uff0c\u5f97\u5230\u6b63\u786e\u7684\u7b54\u6848\uff0cyes\u3002<br>\n",
                "\u90a3\u4f60\u53ef\u4ee5\u4ecemachine attention\u7684\u4f4d\u7f6e(\u4e5f\u5c31\u662freading head \u7684\u4f4d\u7f6e)\u770b\u51famachine\u7684\u601d\u8def\u3002<br>\n",
                "\u56fe\u4e2d\u84dd\u8272\u4ee3\u8868\u4e86machine reading head \u7684\u4f4d\u7f6e\uff0cHop1\uff0cHop2\uff0cHop3\u4ee3\u8868\u7684\u662f\u65f6\u95f4\uff0c<br>\n",
                "\u5728\u7b2c\u4e00\u4e2a\u65f6\u95f4\u70b9\uff0cmachine\u5148\u628a\u5b83\u7684reading head\u653e\u5728\u201cgreg is a frog\u201d\uff0c\u628a\u8fd9\u4e2ainformation\u63d0\u53d6\u51fa\u6765\u3002<br>\n",
                "\u63a5\u4e0b\u6765\u63d0\u53d6\u201cbrian is a frog\u201d information \uff0c\u518d\u63d0\u53d6\u201cbrian is yellow\u201dinformation\u3002<br>\n",
                "\u6700\u540e\u5b83\u5f97\u5230\u7ed3\u8bba\u8bf4\uff1agreg \u7684\u989c\u8272\u662fyellow\u3002\u8fd9\u4e9b\u4e8b\u60c5\u662fmachine\u81ea\u52a8learn\u51fa\u6765\u7684\u3002<br>\n",
                "\u4e5f\u5c31\u662fmachine attention\u5728\u54ea\u4e2a\u4f4d\u7f6e\uff0c\u8fd9\u4e9b\u901a\u8fc7neural network\u5b66\u5230\u8be5\u600e\u4e48\u505a\uff0c\u5e76\u4e0d\u662f\u53bb\u5199\u7a0b\u5e8f\uff0c<br>\n",
                "\u4f60\u8981\u5148\u770b\u8fd9\u4e2a\u53e5\u5b50\uff0c\u5728\u770b\u8fd9\u4e2a\u53e5\u5b50\u3002\u8fd9\u662fmachine\u81ea\u52a8\u53bb\u51b3\u5b9a\u7684\u3002<br>"
            ]
        },
        {
            "cell_type": "markdown",
            "metadata": {},
            "source": [
                "#### 6.2 \u89c6\u89c9\u95ee\u9898\u56de\u7b54(Visual Question Answering)\n",
                "\n",
                ""
            ]
        },
        {
            "cell_type": "markdown",
            "metadata": {},
            "source": [
                "\u5224\u65ad\u80e1\u5b50\u662f\u4ec0\u4e48\u6784\u6210\u7684\uff1f\n",
                "\n",
                "![](http://imgbed.momodel.cn/37-34 visual question.png)"
            ]
        },
        {
            "cell_type": "markdown",
            "metadata": {},
            "source": [
                "\u4e0e\u9605\u8bfb\u7406\u89e3\u7684\u95ee\u9898\u7c7b\u4f3c\uff0c\u6bcf\u4e00\u4e2a\u5411\u91cf\u4ee3\u8868\u56fe\u7247\u4e2d\u7684\u67d0\u4e00\u90e8\u5206\u7684\u533a\u57df\uff1b\n",
                "\n",
                "\u901a\u8fc7 RNN \u7684\u5904\u7406\uff0c\u627e\u5230\u6700\u76f8\u4f3c\u7684\u90e8\u5206\u3002\n",
                "\n",
                "![](http://imgbed.momodel.cn/37-35 answer.png)"
            ]
        },
        {
            "cell_type": "markdown",
            "metadata": {},
            "source": [
                "\u8fd9\u4e2aVisual Question Answering\u8be5\u600e\u4e48\u505a\u5462\uff1f<br>\n",
                "\u5148\u8ba9machine\u770b\u4e00\u5f20\u56fe\uff0c\u7136\u540e\u901a\u8fc7CNN\u4f60\u53ef\u4ee5\u628a\u8fd9\u5f20\u56fe\u7684\u4e00\u5c0f\u5757region\u7528\u4e00\u5c0f\u5757\u7684vector\u6765\u8868\u793a\u3002<br>\n",
                "\u63a5\u4e0b\u91cc\uff0c\u8f93\u5165\u4e00\u4e2aquery\uff0c\u8fd9\u4e2aquery\u88ab\u4e22\u5230\u4e2d\u592e\u5904\u7406\u5668\u4e2d\uff0c\u8fd9\u4e2a\u4e2d\u592e\u5904\u7406\u5668\u53bb\u64cd\u63a7\u8fd9\u4e2areading head controller\uff0c<br>\n",
                "\u8fd9\u4e2areading head controller\u51b3\u5b9a\u8bfb\u53d6\u7684\u4f4d\u7f6e(\u662f\u8ddf\u73b0\u5728\u8f93\u5165\u7684\u95ee\u9898\u662f\u6709\u5173\u7cfb\u7684\uff0c<br>\n",
                "\u8fd9\u4e2a\u8bfb\u53d6\u7684process\u53ef\u80fd\u8981\u597d\u51e0\u4e2a\u6b65\u9aa4\uff0cmachine\u4f1a\u5206\u597d\u51e0\u6b21\u628ainformation\u8bfb\u5230\u4e2d\u592e\u5904\u7406\u5668\uff0c\u6700\u540e\u5f97\u5230\u7b54\u6848\u3002<br>"
            ]
        },
        {
            "cell_type": "markdown",
            "metadata": {},
            "source": [
                "#### 6.3 Speech Question Answering\n",
                "\n",
                ""
            ]
        },
        {
            "cell_type": "markdown",
            "metadata": {},
            "source": [
                "+ \u8ba9\u673a\u5668\u8fdb\u884c\u6258\u798f\u7684\u542c\u529b\u6d4b\u8bd5\n",
                "\n",
                "![](http://imgbed.momodel.cn/37-36 model test.png)"
            ]
        },
        {
            "cell_type": "markdown",
            "metadata": {},
            "source": [
                "**\u6a21\u578b\u7ed3\u6784**\uff1a\n",
                "\n",
                "+ \u5c06\u95ee\u9898\u8fdb\u884c\u8bed\u4e49\u5206\u6790\uff0c\u5f97\u5230\u95ee\u9898\u7684\u8bed\u4e49\uff1b\n",
                "+ \u5c06\u97f3\u9891\u6545\u4e8b\u5148\u8fdb\u884c\u8bed\u97f3\u8bc6\u522b\u8f6c\u6362\u4e3a\u6587\u5b57\u5728\u8fdb\u884c\u8bed\u4e49\u5206\u6790\uff1b\n",
                "+ \u5c06\u95ee\u9898\u548c\u6587\u7ae0\u6545\u4e8b\u505a \u201cattention\u201d \u5904\u7406\u627e\u5230\u7b54\u6848\uff0c\u627e\u5230\u7b54\u6848\u4e4b\u540e\u8fd8\u53ef\u4ee5\u5c06\u7b54\u6848\u548c\u539f\u6587\u5728\u6bd4\u8f83\u627e\u5230\u6700\u5408\u9002\u7684\u7b54\u6848\u3002\n",
                "\n",
                "![](http://imgbed.momodel.cn/37-37 model architecture.png)"
            ]
        },
        {
            "cell_type": "markdown",
            "metadata": {},
            "source": [
                "\u5b9e\u9a8c\u7ed3\u679c\uff1a\n",
                "\n",
                "![](http://imgbed.momodel.cn/37-38 experiment result.png)",
                "\n",
                "\u8fd9\u4e9b\u662f\u4e00\u4e9b\u5b9e\u9a8c\u7ed3\u679c\uff0c\u8fd9\u4e2a\u5b9e\u9a8c\u7ed3\u679c\u662f\uff1arandom \u6b63\u786e\u7387\u662f25 percent\u3002\u6709\u4e24\u4e2a\u65b9\u6cd5\u8981\u6bd425 percent\u8981\u5f3a\u7684\u3002<br>\n",
                "\n",
                "\u8fd9\u4e94\u4e2a\u65b9\u6cd5\u90fd\u662fnaive\u7684\u65b9\u6cd5\uff0c\u4e5f\u5c31\u662f\u5b8c\u5168\u4e0d\u7ba1\u6587\u7ae0\u7684\u5185\u5bb9\uff0c\u76f4\u63a5\u770b\u95ee\u9898\u8ddf\u9009\u9879\u5c31\u731c\u7b54\u6848\u3002<br>\n",
                "\u6211\u4eec\u53d1\u73b0\u8bf4\uff0c\u5982\u679c\u4f60\u9009\u6700\u77ed\u7684\u90a3\u4e2a\u9009\u9879\uff0c\u4f60\u5c31\u4f1a\u5f97\u523035 percent\u7684\u6b63\u786e\u7387\u3002<br>\n",
                "\u5982\u679c\u5206\u6790\u56db\u4e2a\u9009\u9879\u7684semantic\uff0c\u7528sequence-to-sequence autoencoder\uff0c\u53bb\u628a\u4e00\u4e2a\u9009\u9879\u7684semantic\u627e\u51fa\u6765\uff0c<br>\n",
                "\u7136\u540e\u518d\u53bb\u770b\u67d0\u4e2a\u9009\u9879\u548c\u53e6\u5916\u4e09\u4e2a\u9009\u9879\u7684\u76f8\u4f3c\u5ea6\uff0c\u5982\u679c\u6bd4\u8f83\u9ad8\u7684\u8bdd\uff0c\u90a3\u5c31\u628a\u8be5\u9009\u9879\u9009\u51fa\u6765\u3002<br>\n",
                "\u548c\u4eba\u7684\u76f4\u89c9\u662f\u76f8\u53cd\u7684\uff0c\u76f4\u89c9\u5e94\u8be5\u662f\u9009\u4e00\u4e2a\u8bed\u4e49\u548c\u53e6\u5916\u4e09\u4e2a\u8bed\u4e49\u662f\u4e0d\u50cf\u7684\uff0c\u4f46\u662f\u522b\u4eba\u5df2\u7ecf\u8ba1\u7b97\u5230\u4f1a\u8fd9\u4e48\u505a\u7684\u4e86\uff0c<br>\n",
                "\u6240\u4ee5\u7528\u4e86\u8ba1\u4e2d\u8ba1\uff0c\u5982\u679c\u8981\u9009\u548c\u5176\u4ed6\u9009\u9879\u8bed\u4e49\u6bd4\u8f83\u76f8\u4f3c\u7684\u7b54\u6848\uff0c\u53cd\u800c\u6bd4\u968f\u4fbf\u9009\u5f97\u5230\u6b63\u786e\u7b54\u6848\u7684\u6982\u7387\u8981\u9ad8\uff0c<br>\n",
                "\u5982\u679c\u9009\u6700\u4e0d\u50cf\u7684\u90a3\u4e2a\u9009\u9879\uff0c\u5f97\u5230\u7684\u7b54\u6848\u5c31\u4f1a\u63a5\u8fd1\u968f\u673a\uff0c\u90fd\u662f\u8bbe\u8ba1\u597d\u7684\u3002<br>\n",
                "\n",
                "<br>\n",
                "Memory Network \u7684\u6b63\u786e\u7387\u4e3a 39.2%\u3002<br>\n",
                "\n",
                "![](http://imgbed.momodel.cn/37-39 memory network.png)",
                "\n",
                "Attention-based Model \u7684\u6b63\u786e\u7387\u4e3a 48.8%\n",
                "\n",
                "![](http://imgbed.momodel.cn/37-40 proposed approach.png)"
            ]
        },
        {
            "cell_type": "markdown",
            "metadata": {},
            "source": [
                "\u53c2\u8003\u8d44\u6599\uff1a\n",
                "\n",
                "+ \u5faa\u73af\u795e\u7ecf\u7f51\u7edc\u7684\u4e0d\u5408\u7406\u6709\u6548\u6027\n",
                "\n",
                "<font size=4>http://karpathy.github.io/2015/05/21/rnn-effectiveness/<font>\n",
                "\n",
                "+ \u4e86\u89e3 LSTM \u7f51\u7edc\n",
                "\n",
                "<font size=4>http://colah.github.io/posts/2015-08-Understanding-LSTMs/<font>"
            ]
        },
        {
            "cell_type": "markdown",
            "metadata": {},
            "source": [
                "#### 6.4 RNN\u4e0e\u7ed3\u6784\u5316\u5b66\u4e60\u7684\u8054\u7cfb\u4e0e\u533a\u522b\n",
                "\n",
                ""
            ]
        },
        {
            "cell_type": "markdown",
            "metadata": {},
            "source": [
                "\n",
                "![](http://imgbed.momodel.cn/37-41 RNN vs Structed learning.png)"
            ]
        },
        {
            "cell_type": "markdown",
            "metadata": {},
            "source": [
                "\u4f7f\u7528deep learning\u8ddfstructure learning\u7684\u6280\u672f\u6709\u4ec0\u4e48\u4e0d\u540c\u5462\uff1f<br>\n",
                "\u9996\u5148\u5047\u5982\u6211\u4eec\u7528\u7684\u662funidirectional RNN/LSTM\uff0c\u5f53\u4f60\u5728 decision\u7684\u65f6\u5019\uff0c\u4f60\u53ea\u770b\u4e86sentence\u7684\u4e00\u534a\uff0c<br>\n",
                "\u800c\u4f60\u662f\u7528structure learning\u7684\u8bdd\uff0c\u6bd4\u5982\u7528Viterbi algrithm\u4f60\u8003\u8651\u7684\u662f\u6574\u4e2a\u53e5\u5b50\u3002<br>\n",
                "\u4ece\u8fd9\u4e2a\u7ed3\u679c\u6765\u770b\uff0c\u4e5f\u8bb8HMM\uff0cSVM\u7b49\u8fd8\u662f\u5360\u5230\u4e00\u4e9b\u4f18\u52bf\u7684\u3002<br>\n",
                "\u4f46\u662f\u8fd9\u4e2a\u4f18\u52bf\u5e76\u4e0d\u662f\u5f88\u660e\u663e\uff0c\u56e0\u4e3aRNN\u548cLSTM\u4ed6\u4eec\u53ef\u4ee5\u505aBidirectional \uff0c<br>\n",
                "\u6240\u4ee5\u4ed6\u4eec\u4e5f\u53ef\u4ee5\u8003\u8651\u4e00\u6574\u4e2a\u53e5\u5b50\u7684information\u3002<br>\n",
                "\n",
                "\u5728HMM/SVM\u91cc\u9762\uff0c\u4f60\u53ef\u4ee5explicitly\u7684\u8003\u8651label\u4e4b\u95f4\u7684\u5173\u7cfb<br>\n",
                "\n",
                "\u4e3e\u4f8b\u8bf4\uff0c\u5982\u679c\u505ainference\u7684\u65f6\u5019\uff0c\u518d\u7528Viterbi algrithm\u6c42\u89e3\uff0c<br>\n",
                "\uff08\u5047\u8bbe\u6bcf\u4e2alabel\u51fa\u73b0\u7684\u65f6\u5019\u90fd\u8981\u51fa\u73b0\u4e94\u6b21\uff09\u8fd9\u4e2a\u7b97\u6cd5\u53ef\u4ee5\u8f7b\u677e\u505a\u5230\uff0c<br>\n",
                "\u56e0\u4e3a\u53ef\u4ee5\u4fee\u6539\u673a\u5668\u5728\u9009\u62e9\u5206\u6570\u6700\u9ad8\u7684\u65f6\u5019\uff0c\u6392\u9664\u6389\u4e0d\u7b26\u5408constraint\u7684\u90a3\u4e9b\u7ed3\u679c\uff0c<br>\n",
                "\u4f46\u662f\u5982\u679c\u662fLSTM/RNN\uff0c\u76f4\u63a5\u4e0b\u4e00\u4e2aconstraint\u8fdb\u53bb\u662f\u6bd4\u8f83\u96be\u7684\uff0c<br>\n",
                "\u56e0\u4e3a\u6ca1\u529e\u6cd5\u8ba9RNN\u8fde\u7eed\u5410\u51fa\u67d0\u4e2alabel\u4e94\u6b21\u624d\u662f\u6b63\u786e\u7684\uff0c<br>\n",
                "\u6240\u4ee5\u5728\u8fd9\u70b9\u4e0a\uff0cstructured learning\u4f3c\u4e4e\u662f\u6709\u70b9\u4f18\u52bf\u7684\u3002<br>\n",
                "\u5982\u679c\u662fRNN/LSTM\uff0c\u4f60\u7684cost function\u8ddf\u4f60\u5b9e\u9645\u4e0a\u8981\u8003\u8651\u7684error\u5f80\u5f80\u662f\u6ca1\u6709\u5173\u7cfb\u7684\uff0c<br>\n",
                "\u5f53\u4f60\u505aRNN/LSTM\u7684\u65f6\u5019\uff0c\u8003\u8651\u7684cost\u662f\u6bcf\u4e00\u4e2a\u65f6\u95f4\u70b9\u7684cross entropy(\u6bcf\u4e00\u4e2a\u65f6\u95f4\u7684RNN\u7684output cross entropy)\uff0c<br>\n",
                "\u5b83\u8ddf\u4f60\u7684error\u4e0d\u89c1\u5f97\u662f\u76f4\u63a5\u76f8\u5173\u7684\u3002\u4f46\u662f\u4f60\u7528structure learning\u7684\u8bdd\uff0cstructure learning \u7684cost\u4f1a\u5f71\u54cd\u4f60\u7684error\uff0c<br>\n",
                "\u4ece\u8fd9\u4e2a\u89d2\u5ea6\u6765\u770b\uff0cstructured learning\u4e5f\u662f\u6709\u4e00\u4e9b\u4f18\u52bf\u7684\u3002<br>\n",
                "\u6700\u91cd\u8981\u7684\u662f\uff0cRNN/LSTM\u53ef\u4ee5\u662fdeep\uff0cHMMM,SVM\u7b49\u5b83\u4eec\u5176\u5b9e\u4e5f\u53ef\u4ee5\u662fdeep\uff0c\u4f46\u662f\u5b83\u4eec\u8981\u60f3\u62ff\u6765\u505adeep learning \u662f\u6bd4\u8f83\u56f0\u96be\u7684\u3002<br>\n",
                "\u5728\u6211\u4eec\u4e0a\u4e00\u5802\u8bfe\u8bb2\u7684\u5185\u5bb9\u91cc\u9762\u3002\u5b83\u4eec\u90fd\u662flinear\uff0c\u56e0\u4e3a\u4ed6\u4eec\u5b9a\u4e49\u7684evaluation\u51fd\u6570\u662f\u7ebf\u6027\u7684\u3002<br>\n",
                "\u5982\u679c\u4e0d\u662f\u7ebf\u6027\u7684\u8bdd\u4e5f\u4f1a\u5f88\u9ebb\u70e6\uff0c\u56e0\u4e3a\u53ea\u6709\u662f\u7ebf\u6027\u7684\u6211\u4eec\u624d\u80fd\u5957\u7528\u4e0a\u8282\u8bfe\u8bb2\u7684\u90a3\u4e9b\u65b9\u6cd5\u6765\u505ainference\u3002<br>\n",
                "<br>\n",
                "\u6700\u540e\u6765\u770b\uff0cRNN/LSTM\u5728deep\u8fd9\u4ef6\u4e8b\u7684\u8868\u73b0\u5176\u5b9e\u4f1a\u6bd4\u8f83\u597d\uff0c\u540c\u65f6\u8fd9\u4ef6\u4e8b\u4e5f\u5f88\u91cd\u8981\uff0c<br>\n",
                "\u5982\u679c\u53ea\u662f\u7ebf\u6027\u7684\u6a21\u578b\uff0cfunction space\u5c31\u8fd9\u4e48\u5927\uff0c\u53ef\u4ee5\u76f4\u63a5\u6700\u5c0f\u5316\u4e00\u4e2a\u9519\u8bef\u7684\u4e0a\u754c\uff0c<br>\n",
                "\u4f46\u662f\u8fd9\u6837\u6ca1\u4ec0\u4e48\uff0c\u56e0\u4e3a\u6240\u6709\u7684\u7ed3\u679c\u90fd\u662f\u574f\u7684\uff0c\u6240\u4ee5\u76f8\u6bd4\u4e4b\u4e0b\uff0cdeep learning\u5360\u5230\u5f88\u5927\u7684\u4f18\u52bf\u3002<br>"
            ]
        },
        {
            "cell_type": "markdown",
            "metadata": {},
            "source": [
                "### 7.Integerated Together\n",
                "\n",
                "",
                "\n",
                "![](http://imgbed.momodel.cn/37-42 integrated.png)"
            ]
        },
        {
            "cell_type": "markdown",
            "metadata": {},
            "source": [
                "deep learning\u548cstructured learning\u7ed3\u5408\u8d77\u6765\u3002<br>\n",
                "input features \u5148\u901a\u8fc7RNN/LSTM\uff0c\u7136\u540eRNN/LSTM\u7684output\u518d\u505a\u4e3aHMM/svm\u7684input\u3002<br>\n",
                "\u7528RNN/LSTM\u7684output\u6765\u5b9a\u4e49HMM/structured SVM\u7684evaluation function\uff0c<br>\n",
                "\u5982\u6b64\u5c31\u53ef\u4ee5\u540c\u65f6\u4eab\u6709deep learning\u7684\u597d\u5904\uff0c\u4e5f\u53ef\u4ee5\u6709structure learning\u7684\u597d\u5904\u3002<br>"
            ]
        },
        {
            "cell_type": "markdown",
            "metadata": {},
            "source": [
                "+ \u8bed\u97f3\u8bc6\u522b\uff1aCNN/LSTM/DNN + HMM\n",
                "\n",
                "\n",
                "![](http://imgbed.momodel.cn/37-43 speech recognize.png)"
            ]
        },
        {
            "cell_type": "markdown",
            "metadata": {},
            "source": [
                "+ \u8bed\u4e49\u6807\u8bb0\uff1aBi-directional LSTM + CRF/Structured SVM\n",
                "\n",
                "\n",
                "![](http://imgbed.momodel.cn/37-44 semantic tagging.png)"
            ]
        },
        {
            "cell_type": "markdown",
            "metadata": {},
            "source": [
                "\u5148\u7528Bi-directional LSTM\u505afeature\uff0c\u7136\u540e\u628a\u8fd9\u4e9bfeature\u62ff\u6765\u5728\u505aCRF\u6216\u8005Structured SVM\uff0c<br>\n",
                "\u7136\u540e\u5b66\u4e60\u4e00\u4e2a\u6743\u91cdw\uff0c\u8fd9\u4e2a$\\phi(x,y)$\u7684feature\uff0c\u8981\u76f4\u63a5\u4eceBidirectional LSTM\u7684\u8f93\u51fa\u53ef\u4ee5\u5f97\u5230\u6bd4\u8f83\u597d\u7684\u7ed3\u679c\u3002"
            ]
        },
        {
            "cell_type": "markdown",
            "metadata": {},
            "source": [
                "\n",
                ""
            ]
        },
        {
            "cell_type": "markdown",
            "metadata": {},
            "source": [
                "\n",
                "![](http://imgbed.momodel.cn/37-45 GAN.png)",
                "\n",
                "\u6709\u4eba\u8bf4structured learning\u662f\u5426\u73b0\u5b9e\uff1f<br>\n",
                "\n",
                "structured learning\u9700\u8981\u89e3\u4e09\u4e2a\u95ee\u9898\uff0c\u5176\u4e2dinput\u7684\u95ee\u9898\u5f80\u5f80\u5f88\u56f0\u96be\uff0c<br>\n",
                "\u56e0\u4e3a\u8981\u7a77\u4e3e\u6240\u6709\u7684y\u8ba9\u5176\u6700\u5927\uff0c\u89e3\u4e00\u4e2aoptimization\u7684\u95ee\u9898\uff0c<br>\n",
                "\u5176\u5b9e\u5927\u90e8\u5206\u72b6\u51b5\u90fd\u6ca1\u6709\u597d\u7684\u89e3\u51b3\u529e\u6cd5\uff0c\u53ea\u6709\u5c11\u6570\u6709\uff0c\u5176\u4ed6\u90fd\u662f\u4e0d\u597d\u7684\u72b6\u51b5\u3002<br>\n",
                "\u6240\u4ee5\u6709\u4eba\u8bf4structured learning\u5e94\u7528\u5e76\u4e0d\u5e7f\u6cdb\uff0c\u4f46\u662f\u672a\u6765\u672a\u5fc5\u662f\u8fd9\u6837\u7684\u3002<br>\n",
                "\n",
                "\u5176\u5b9eGAN\u5c31\u662f\u4e00\u79cdstructured learning\uff0c<br>\n",
                "\u53ef\u4ee5\u628adiscriminator\u770b\u505a\u662fevaluation function\uff08\u4e5f\u5c31\u662fproblem 1\uff09\u6700\u540e\u8981\u89e3\u4e00\u4e2ainference\u7684\u95ee\u9898\uff0c<br>\n",
                "\u6211\u4eec\u8981\u7a77\u4e3e\u6211\u4eec\u672a\u77e5\u7684\u4e1c\u897f\uff0c\u770b\u770b\u54ea\u4e2a\u53ef\u4ee5\u8ba9\u6211\u4eec\u7684evaluation function\u6700\u5927\u3002<br>\n",
                "\u8fd9\u6b65\u5f80\u5f80\u6bd4\u8f83\u56f0\u96be\uff0c\u56e0\u4e3ax\u7684\u53ef\u80fd\u6027\u592a\u591a\u4e86\u3002<br>\n",
                "\u4f46\u5176\u5b9e\u8fd9\u4e2a\u53ef\u4ee5\u5c31\u662fgenerator\uff0c\u6211\u4eec\u53ef\u4ee5\u60f3\u6210generator\u5c31\u662f\u7528\u6240\u7ed9\u7684noise\uff0c\u8f93\u51fa\u4e00\u4e2aupdate\uff0c<br>\n",
                "\u5b83\u8f93\u51fa\u7684\u8fd9\u4e2a\u9ad8\u65af\u6a21\u578b\uff0c\u5c31\u662f\u8ba9discriminator\u5206\u8fa8\u4e0d\u51fa\u7684\u9ad8\u65af\u6a21\u578b\uff0c<br>\n",
                "\u5982\u679cdiscriminator\u5c31\u662fevaluation function\u7684\u8bdd\uff0c<br>\n",
                "\u90a3output\u7684\u503c\u5c31\u662f\u8ba9evaluation function\u7684\u503c\u5f88\u5927\u7684\u90a3\u4e2a\u5bf9\u5e94\u503c\uff0c<br>\n",
                "\u6240\u4ee5\u8fd9\u4e2agenerator\u5c31\u662f\u5728\u89e3\u8fd9\u4e2a\u95ee\u9898\uff0c<br>\n",
                "\u5176\u5b9egenerator\u7684\u8f93\u51fa\u5c31\u662fargmax\u7684\u8f93\u51fa\uff0c\u53ef\u4ee5\u628agenerator\u5f53\u505a\u5728\u89e3inference\u8fd9\u4e2a\u95ee\u9898\uff0c\u7136\u540e\u5c31\u76f4\u63a5\u6c42problem 3\u3002<br>\n",
                "structured learning\u8fc7\u7a0b\u548cGAN\u6a21\u578bgenerator\u4e0d\u65ad\u4ea7\u751f\u8ba9discriminator\u6700\u5927\u7684\u90a3\u4e2a\u503c\uff0c<br>\n",
                "\u7136\u540e\u518d\u53bb\u8bad\u7ec3discriminator\u4e0d\u65ad\u8bc6\u522b\u771f\u5b9e\u503c\uff0c\u7136\u540e\u66f4\u65b0\u503c\u7684\u8fc7\u7a0b\u662f\u5f02\u66f2\u540c\u5de5\u7684\u3002<br>\n",
                "<br>\n",
                "![](http://imgbed.momodel.cn/37-46 conditional gan.png)",
                "\n",
                "GAN\u4e5f\u53ef\u4ee5\u662fconditional\u7684GAN\uff0c\u73b0\u5728\u7684\u4efb\u52a1\u662f\u7ed9\u5b9ax\uff0c\u627e\u51fa\u6700\u6709\u53ef\u80fd\u7684y\uff0c\u60f3\u6210\u8bed\u97f3\u8fa8\u8bc6\uff0cx\u662f\u58f0\u97f3\u8baf\u53f7\uff0cy\u662f\u8fa8\u8bc6\u51fa\u6765\u7684\u6587\u5b57\uff0c<br>\n",
                "\u5982\u679c\u662f\u7528conditional\u7684\u6982\u5ff5\uff0cgenerator\u8f93\u5165\u4e00\u4e2ax\uff0c\u5c31\u4f1aoutput\u4e00\u4e2ay\uff0cdiscriminator\u662f\u53bb\u68c0\u67e5y\u7684pair\u662f\u4e0d\u662f\u5bf9\u7684\uff0c<br>\n",
                "\u5982\u679c\u7ed9\u4ed6\u4e00\u4e2a\u771f\u6b63\u7684x\uff0cy\u7684pair\uff0c\u4f1a\u5f97\u5230\u4e00\u4e2a\u6bd4\u8f83\u9ad8\u7684\u5206\u6570\uff0c\u7ed9\u4e00\u4e2agenerator\u8f93\u51fa\u7684\u4e00\u4e2ay\u914d\u4e0a\u8f93\u5165\u7684x\uff0c<br>\n",
                "\u6240\u4ea7\u751f\u7684\u4e00\u4e2a\u5047\u7684pair\uff0c\u5c31\u4f1a\u7ed9\u4ed6\u4e00\u4e2a\u6bd4\u8f83\u4f4e\u7684\u5206\u6570\u3002<br>\n",
                "\n",
                "\u8bad\u7ec3\u7684\u8fc7\u7a0b\u5c31\u548c\u539f\u6765\u7684GAN\u5c31\u662f\u4e00\u6837\u7684\uff0c\u8fd9\u4e2a\u5df2\u7ecf\u6210\u529f\u8fd0\u7528\u5728\u6587\u5b57\u4ea7\u751f\u56fe\u7247\u8fd9\u4e2atask\u4e0a\u9762\u3002<br>\n",
                "\u8fd9\u4e2atask\u7684input\u5c31\u662f\u4e00\u53e5\u8bdd\uff0coutput\u5c31\u662f\u4e00\u5f20\u56fe\uff0c<br>\n",
                "generator\u505a\u7684\u4e8b\u5c31\u662f\u8f93\u5165\u4e00\u53e5\u8bdd\uff0c\u7136\u540e\u4ea7\u751f\u4e00\u5f20\u56fe\u7247\uff0c<br>\n",
                "\u800cdiscriminator\u8981\u505a\u7684\u4e8b\u5c31\u662f\u7ed9\u4ed6\u4e00\u5f20\u56fe\u7247\uff0c\u8981\u4ed6\u5224\u65ad\u8fd9\u4e2ax\uff0cy\u7684pair\u662f\u4e0d\u662f\u771f\u7684\uff0c<br>\n",
                "\u5982\u679c\u628a discriminator\u6362\u6210evaluation function\uff0c\u628agenerator\u6362\u6210\u89e3inference\u7684problem\uff0c<br>\n",
                "\u5176\u5b9econditional GAN\u548cstructured learning\u5c31\u662f\u53ef\u4ee5\u7c7b\u6bd4\uff0c\u6216\u8005\u8bf4GAN\u5c31\u662f\u8bad\u7ec3structured learning\u7684\u4e00\u79cd\u65b9\u6cd5\u3002<br>"
            ]
        },
        {
            "cell_type": "markdown",
            "metadata": {},
            "source": [
                "\n",
                "![](http://imgbed.momodel.cn/37-47 future.png)"
            ]
        },
        {
            "cell_type": "markdown",
            "metadata": {},
            "source": [
                "\u5f88\u591a\u4eba\u90fd\u6709\u7c7b\u4f3c\u7684\u60f3\u6cd5\uff0c\u6bd4\u5982GAN\u53ef\u4ee5\u548cEnergy\u2014based\u6a21\u578b\u4e00\u8d77\u505a\u3002\u8fd9\u91cc\u7ed9\u51fa\u4e00\u4e9bReference\u3002"
            ]
        }
    ],
    "metadata": {
        "kernelspec": {
            "display_name": "Python 3",
            "language": "python",
            "name": "python3"
        },
        "language_info": {
            "codemirror_mode": {
                "name": "ipython",
                "version": 3
            },
            "file_extension": ".py",
            "mimetype": "text/x-python",
            "name": "python",
            "nbconvert_exporter": "python",
            "pygments_lexer": "ipython3",
            "version": "3.6.7"
        }
    },
    "nbformat": 4,
    "nbformat_minor": 2
}