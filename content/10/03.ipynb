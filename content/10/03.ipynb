{
    "cells": [
        {
            "cell_type": "markdown",
            "metadata": {},
            "source": [
                "\n",
                "",
                "\n",
                "\n",
                "+ \u96c6\u6210\u5b66\u4e60\u4ecb\u7ecd\n",
                "+ Bagging \n",
                "+ Boosting\n",
                "+ Stacking\n",
                "+ AdaBoost\n",
                "\n"
            ]
        },
        {
            "cell_type": "markdown",
            "metadata": {},
            "source": [
                "### 1. \u96c6\u6210\u5b66\u4e60\u4ecb\u7ecd\n",
                "\n",
                ""
            ]
        },
        {
            "cell_type": "markdown",
            "metadata": {},
            "source": [
                "\u96c6\u6210\u5b66\u4e60\u80fd\u591f\u8ba9\u4f60\u53ea\u5bf9\u6a21\u578b\u7a0d\u52a0\u4fee\u6539\u5c31\u53ef\u4ee5\u5f97\u5230\u66f4\u597d\u7684\u7ed3\u4e00\u4e2a\u7ed3\u679c"
            ]
        },
        {
            "cell_type": "markdown",
            "metadata": {},
            "source": [
                "#### \u96c6\u6210\u5b66\u4e60\u7684\u67b6\u6784"
            ]
        },
        {
            "cell_type": "markdown",
            "metadata": {},
            "source": [
                "+ \u83b7\u53d6\u4e00\u7cfb\u5217\u7684\u5206\u7c7b\u5668\n",
                "  + $f_1(x),f_2(x),f_3(x),...$\n",
                "  \n",
                "+ \u5c06\u8fd9\u4e9b\u5206\u7c7b\u4ee5\u67d0\u79cd\u5408\u9002\u7684\u65b9\u5f0f\u805a\u5728\u4e00\u8d77\n",
                "\n",
                "\n",
                "![](http://imgbed.momodel.cn/38-8 framework.png)",
                "\n",
                "\u76f8\u5f53\u4e8e\u6253\u7ec4\u56e2\u6253 boss \u4e00\u6837\u9700\u8981\u5408\u7406\u7684\u4eba\u5458\u914d\u7f6e\uff0c\u4f8b\u5982\u5766\u514b\uff0c\u8f85\u52a9\u548c\u8f93\u51fa\u3002\u4e09\u8005\u5f62\u6210\u4e92\u8865\u72b6\u6001\uff0c\u8fbe\u5230\u6574\u4f53\u5f3a\u5ea6\u6700\u9ad8\u3002"
            ]
        },
        {
            "cell_type": "markdown",
            "metadata": {},
            "source": [
                "### 2. Bagging \u65b9\u6cd5\n"
            ]
        },
        {
            "cell_type": "markdown",
            "metadata": {},
            "source": [
                "#### 2.1 \u65b9\u5dee\u4e0e\u504f\u5dee\n",
                "\n",
                "",
                "\n",
                "![](http://imgbed.momodel.cn/38-1 bias vs variance.png)"
            ]
        },
        {
            "cell_type": "markdown",
            "metadata": {},
            "source": [
                "\u590d\u6742\u7684\u6a21\u578b\u5c06\u6709\u8f83\u5927\u7684\u65b9\u5dee;\u6211\u4eec\u5c06\u6240\u6709\u7684\u6a21\u578b\u5e73\u5747\uff0c\n",
                "\n",
                "\u5f97\u5230\u65b0\u6a21\u578b $f^*$ ,\u65b0\u7684\u6a21\u578b\u53ef\u80fd\u548c\u6b63\u786e\u7b54\u6848\u5f88\u63a5\u8fd1\u3002\n",
                "\n",
                "\n",
                "![](http://imgbed.momodel.cn/38-2 reduce variance.png)"
            ]
        },
        {
            "cell_type": "markdown",
            "metadata": {},
            "source": [
                "#### 2.2 Bagging \u7684\u4f18\u70b9\n",
                "\n",
                ""
            ]
        },
        {
            "cell_type": "markdown",
            "metadata": {},
            "source": [
                "\u5bf9\u539f\u59cb\u6570\u636e\u96c6\u8fdb\u884c\u91c7\u6837\uff0c\u5f97\u5230\u65b0\u7684\u4e0d\u540c\u7684\u6570\u636e\u5b50\u96c6\uff0c\n",
                "\n",
                "\u518d\u5bf9\u8fd9\u4e9b\u65b0\u7684\u6570\u636e\u96c6\u8fdb\u884c\u8bad\u7ec3\uff0c\u5f97\u5230\u4e0d\u540c\u7684\u6a21\u578b\u3002\n",
                "\n",
                "![](http://imgbed.momodel.cn/38-3 sample.png)"
            ]
        },
        {
            "cell_type": "markdown",
            "metadata": {},
            "source": [
                "\n",
                "\n",
                "![](http://imgbed.momodel.cn/38-4 test.png)",
                "\n",
                "\u4e0a\u56fe\u8868\u793a\u4e86\u7528\u81ea\u5df1\u91c7\u6837\u7684\u6570\u636e\u8fdb\u884cBagging\u7684\u8fc7\u7a0b\u3002<br>\n",
                "\u5728\u539f\u6765\u7684N\u7b14\u8bad\u7ec3\u6570\u636e\u4e2d\u8fdb\u884c\u91c7\u6837\uff0c\u8fc7\u7a0b\u5c31\u662f\u6bcf\u6b21\u4eceN\u7b14\u8bad\u7ec3\u6570\u636e\u4e2d\u53d6N\u2018\uff08\u901a\u5e38N=N\u2019\uff09<br>\n",
                "\u5efa\u7acb\u5f88\u591a\u4e2adataset\uff0c\u8fd9\u4e2a\u8fc7\u7a0b\u62bd\u53d6\u5230\u7684\u53ef\u80fd\u4f1a\u6709\u91cd\u590d\u7684\u6570\u636e\uff0c<br>\n",
                "\u4f46\u662f\u6bcf\u6b21\u62bd\u53d6\u7684\u662f\u968f\u673a\u5f62\u6210\u7684dataset\u3002\u6bcf\u4e2adataset\u90fd\u6709N'\u7b14data\uff0c<br>\n",
                "\u4f46\u662f\u6bcf\u4e2adataset\u7684\u6570\u636e\u90fd\u662f\u4e0d\u4e00\u6837\u7684\uff0c<br>\n",
                "\u63a5\u4e0b\u6765\u5c31\u662f\u7528\u4e00\u4e2a\u590d\u6742\u7684\u6a21\u578b\u5bf9\u56db\u4e2adataset\u90fd\u8fdb\u884c\u5b66\u4e60\u5f97\u5230\u56db\u4e2afunction\uff0c<br>\n",
                "\u63a5\u4e0b\u6765\u5728testing\u7684\u65f6\u5019\uff0c\u5c31\u628a\u8fd9testing data\u653e\u5230\u8fd9\u56db\u4e2afunction\u91cc\u9762\uff0c<br>\n",
                "\u518d\u628a\u5f97\u51fa\u6765\u7684\u7ed3\u679c\u505a\u5e73\u5747\uff08\u56de\u5f52\uff09\u6216\u8005\u6295\u7968\uff08\u5206\u7c7b\uff09\uff0c<br>\n",
                "\u901a\u5e38\u6765\u8bf4\u8868\u73b0\uff08variance\u6bd4\u8f83\u5c0f\uff09\u90fd\u6bd4\u4e4b\u524d\u7684\u597d\uff0c\u8fd9\u6837\u5c31\u4e0d\u5bb9\u6613\u4ea7\u751f\u8fc7\u62df\u5408\u3002 <br>\n",
                "\u505aBagging\u7684\u60c5\u51b5\uff1a\u6a21\u578b\u6bd4\u8f83\u590d\u6742\uff0c\u5bb9\u6613\u4ea7\u751f\u8fc7\u62df\u5408\u3002<br>\n",
                "\uff08\u5bb9\u6613\u4ea7\u751f\u8fc7\u62df\u5408\u7684\u6a21\u578b\uff1a\u51b3\u7b56\u6811\uff09\u76ee\u7684\uff1a\u964d\u4f4e\u65b9\u5dee<br>"
            ]
        },
        {
            "cell_type": "markdown",
            "metadata": {},
            "source": [
                "### 3 \u51b3\u7b56\u6811\n",
                "\n",
                ""
            ]
        },
        {
            "cell_type": "markdown",
            "metadata": {},
            "source": [
                "\u7528\u51b3\u7b56\u6811\u6765\u89e3\u51b3\u5206\u7c7b\u95ee\u9898\uff1a\n",
                "\n",
                "![](http://imgbed.momodel.cn/38-5 \u51b3\u7b56\u6811.png)"
            ]
        },
        {
            "cell_type": "markdown",
            "metadata": {},
            "source": [
                "\u5b9e\u9a8c\uff1a\u4e8c\u5143\u5206\u7c7b\u95ee\u9898\n",
                "\n",
                "\n",
                "![](http://imgbed.momodel.cn/38-6 experiment.png)"
            ]
        },
        {
            "cell_type": "markdown",
            "metadata": {},
            "source": [
                "\u5b9e\u9a8c\u6761\u4ef6\uff1a\u5355\u4e00\u51b3\u7b56\u6811\n",
                "\n",
                "\n",
                "![](http://imgbed.momodel.cn/38-7 result.png)",
                "\n",
                "\u968f\u7740\u51b3\u7b56\u6811\u6df1\u5ea6\u7684\u589e\u52a0\uff0c\u5206\u7c7b\u7684\u6807\u51c6\u8d8a\u6765\u8d8a\u591a\uff0c\u8fb9\u754c\u503c\u4e5f\u8d8a\u6765\u8d8a\u660e\u663e\uff0c\u5b9e\u9a8c\u7ed3\u679c\u8d8a\u6765\u8d8a\u597d\u3002"
            ]
        },
        {
            "cell_type": "markdown",
            "metadata": {},
            "source": [
                "### 4 \u968f\u673a\u68ee\u6797\n",
                "\n",
                ""
            ]
        },
        {
            "cell_type": "markdown",
            "metadata": {},
            "source": [
                " + **\u51b3\u7b56\u6811\uff1a**\n",
                "   + \u6613\u4e8e\u5b9e\u73b0\u8bad\u7ec3\u6570\u636e\u9519\u8bef\u7387\u4e3a 0%\n",
                "   +  \u5982\u679c\u6811\u7684\u6bcf\u4e00\u4e2a\u5206\u652f\u5bf9\u5e94\u4e00\u7ec4\u8bad\u7ec3\u6570\u636e\u7684\u8bdd\uff0c\u6b63\u786e\u7387\u5c06\u8fbe 100%\n",
                "   \n",
                "+ **\u968f\u673a\u68ee\u6797\uff1a**\n",
                "   + \u4ec5\u4ec5\u91cd\u65b0\u91c7\u6837\u8bad\u7ec3\u6570\u636e\u662f\u4e0d\u591f\u7684\n",
                "   + \u968f\u673a\u9650\u5236\u6bcf\u4e2a\u62c6\u5206\u4e2d\u4f7f\u7528\u7684\u7279\u5f81/\u95ee\u9898\n",
                "   \n",
                "+ **\u888b\u88c5\u9a8c\u8bc1\uff1a**\n",
                "   + \u4f7f\u7528\u4e0d\u540c\u7684\u6a21\u578b\u53bb\u6d4b\u8bd5\u6570\u636e\u96c6\uff0c\u888b\u88c5\u8bef\u5dee\u80fd\u591f\u5f88\u597d\u7684\u9884\u6d4b\u6d4b\u8bd5\u96c6\u8bef\u5dee\n",
                "\n",
                "\n",
                "![](http://imgbed.momodel.cn/38-9 RF.png)"
            ]
        },
        {
            "cell_type": "markdown",
            "metadata": {},
            "source": [
                "\u5b9e\u9a8c\u7ed3\u679c\uff1a\n",
                "\n",
                "\n",
                "![](http://imgbed.momodel.cn/38-10 RF result.png)"
            ]
        },
        {
            "cell_type": "markdown",
            "metadata": {},
            "source": [
                "**\u725b\u5200\u5c0f\u8bd5**\n",
                "\n",
                "Bagging \u662f\u5426\u80fd\u591f\u4f7f\u968f\u673a\u68ee\u6797\u66f4\u597d\u5730\u62df\u5408\u6570\u636e"
            ]
        },
        {
            "cell_type": "markdown",
            "metadata": {},
            "source": [
                "<span class='md-hint-alone-link pop 0'>\u67e5\u770b\u7b54\u6848</span>"
            ]
        },
        {
            "cell_type": "markdown",
            "metadata": {},
            "source": [
                "### 5 Boosting"
            ]
        },
        {
            "cell_type": "markdown",
            "metadata": {},
            "source": [
                ""
            ]
        },
        {
            "cell_type": "markdown",
            "metadata": {},
            "source": [
                "\n",
                "![](http://imgbed.momodel.cn/38-11 boost.png)",
                "\n",
                "+ \u6761\u4ef6\u548c\u76ee\u6807\uff1a\n",
                "  + \u5982\u679c\u673a\u5668\u5b66\u4e60\u7b97\u6cd5\u53ef\u4ee5\u5728\u8bad\u7ec3\u6570\u636e\u4e0a\u751f\u6210\u9519\u8bef\u7387\u5c0f\u4e8e 50% \u7684\u5206\u7c7b\u5668\uff0c\n",
                "  + \u589e\u5f3a\u540e\uff0c\u9519\u8bef\u7387\u53ef\u4ee5\u964d\u4f4e\u5230 0%\n",
                "+ boosting \u7684\u6846\u67b6\uff1a\n",
                "  + \u83b7\u53d6\u7b2c\u4e00\u4e2a\u5206\u7c7b\u5668 $f_1(x)$\n",
                "  + \u627e\u5230\u53e6\u5916\u4e00\u4e2a\u51fd\u6570 $f_2(x)$ \u6765\u6539\u826f $f_1(x)$\n",
                "    + \u6211\u4eec\u5e0c\u671b $f_1(x)$ \u548c $f_2(x)$ \u4e92\u8865\n",
                "  + \u5f97\u5230\u7b2c\u4e8c\u4e2a\u5206\u7c7b\u5668 $f_2(x)$\n",
                "  + $...$ \u6700\u540e,\u5408\u5e76\u6240\u6709\u5206\u7c7b\u5668\n",
                "+ \u5206\u7c7b\u5668\u6309\u987a\u5e8f\u88ab\u5b66\u4e60"
            ]
        },
        {
            "cell_type": "markdown",
            "metadata": {},
            "source": [
                ""
            ]
        },
        {
            "cell_type": "markdown",
            "metadata": {},
            "source": [
                "+ \u5728\u4e0d\u540c\u7684\u8bad\u7ec3\u96c6\u4e0a\u8fdb\u884c\u8bad\u7ec3\n",
                "+ \u600e\u6837\u62e5\u6709\u4e0d\u540c\u7684\u8bad\u7ec3\u96c6\n",
                "   + \u91cd\u65b0\u91c7\u6837\u8bad\u7ec3\u6570\u636e\u4ee5\u5f62\u6210\u65b0\u7684\u6570\u636e\u96c6\n",
                "   + \u91cd\u65b0\u52a0\u6743\u8bad\u7ec3\u6570\u636e\u4ee5\u5f62\u6210\u65b0\u7684\u6570\u636e\u96c6\n",
                "   + \u5728\u5b9e\u73b0\u8fc7\u7a0b\u4e2d,\u53ea\u9700\u8981\u66f4\u6539\u53d8\u635f\u5931\uff08\u76ee\u6807\uff09\u51fd\u6570\n",
                "   \n",
                "\n",
                "![](http://imgbed.momodel.cn/38-12 obtain different classifier.png)",
                "\n",
                "\u4f8b\u5982\uff0c\u7cfb\u6570$u^2$\u8d8a\u5927\uff0c\u5219\u66f4\u65b0\u53c2\u6570\u65f6\u5c31\u4f1a\u66f4\u52a0\u8003\u8651\u62df\u5408\u8be5\u6570\u636e\uff08$x^2$\uff0c$y^2$\uff09\u3002"
            ]
        },
        {
            "cell_type": "markdown",
            "metadata": {},
            "source": [
                "### 6 AdaBoost\n",
                "#### 6.1 \u4ecb\u7ecd AdaBoost\n",
                ""
            ]
        },
        {
            "cell_type": "markdown",
            "metadata": {},
            "source": [
                "+ \u601d\u60f3\uff1a\u5728$f_1(x)$\u5931\u6548\u7684\u6570\u636e\u96c6\u4e0a\u8bad\u7ec3$f_2(x)$\n",
                "+ \u5982\u4f55\u627e\u5230\u4f7f$f_1(x)$\u5931\u6548\u7684\u6570\u636e\u96c6\u5462\uff1f\n",
                "\n",
                "\n",
                "![](http://imgbed.momodel.cn/38-13 find new training data.png)",
                "\n",
                "\u539f\u59cb\u6570\u636e\u96c6\u7ecf\u8fc7\u8bad\u7ec3\u540e\uff0c\u7ecf\u8fc7 $f_1(x)$ \u65f6\u9519\u8bef\u7387\u5f88\u5bb9\u6613\u5c31\u53ef\u4ee5\u8fbe\u5230\u5c0f\u4e8e 0.5\uff0c<br>\n",
                "\u4e3a\u8be5\u6570\u636e\u96c6\u5206\u914d\u65b0\u7684\u6743\u91cd $\\mu^n_2$\uff0c\u4f7f\u9519\u8bef\u7387\u8fbe\u5230 0.5\u3002<br>\n",
                "\u9519\u8bef\u7387\u5728 0.5 \u65f6\uff0c\u76f4\u89c2\u4e0a\u53ef\u4ee5\u611f\u53d7\u5230 $f_1(x)$ \u4e0e\u968f\u673a\u5206\u7c7b\u7684\u6548\u679c\u6ca1\u591a\u5927\u5dee\u522b\uff0c<br>\n",
                "\u6b64\u65f6\u5229\u7528\u8be5\u6743\u91cd\u8bad\u7ec3\u5f97\u5230\u7684\u65b0\u7684 $f_2(x)$\uff0c\u6b64\u65f6 $f_1(x),f_2(x)$ \u5c31\u4f1a\u5f62\u6210\u4e92\u8865\u3002<br>"
            ]
        },
        {
            "cell_type": "markdown",
            "metadata": {},
            "source": [
                "\u4e3a\u8bad\u7ec3\u96c6\u6570\u636e\u91cd\u65b0\u5206\u914d\u6743\u91cd\uff1a\n",
                "\n",
                "\n",
                "![](http://imgbed.momodel.cn/38-14 reweight.png)",
                "\n",
                "\u5982\u679c\u8be5\u6570\u636e\u5206\u7c7b\u9519\u8bef\uff0c\u5c06\u6743\u91cd\u4e58\u4ee5 $d_1$\uff1b\u82e5\u5206\u7c7b\u6b63\u786e\uff0c\u6743\u91cd\u9664\u4ee5 $d_1$\u3002\uff08\u7531\u4e8e\u8981\u589e\u52a0\u9519\u8bef\u6240\u9020\u6210\u7684\u6743\u91cd\uff0c$d_1$ \u53d6\u503c\u4f1a\u5927\u4e8e1\uff09\n",
                "\n",
                "![](http://imgbed.momodel.cn/38-15 how to find.png)"
            ]
        },
        {
            "cell_type": "markdown",
            "metadata": {},
            "source": [
                "\u6c42\u89e3 $d_1$ \u7684\u8fc7\u7a0b\uff1a\n",
                "\n",
                "![](http://imgbed.momodel.cn/38-16 calculate d1.png)",
                "\n",
                "\n",
                "![](http://imgbed.momodel.cn/38-17 d1.png)",
                "\n",
                "\n",
                "\u76f4\u89c2\u4e0a\u7684\u7ed3\u679c\u662f\u9884\u6d4b\u4e0e\u7ed3\u679c\u4e00\u81f4\u7684\u65b0\u7684\u6743\u91cd\u4e4b\u548c\u4e0e\u9884\u6d4b\u9519\u8bef\u7684\u6743\u91cd\u76f8\u7b49\u5404\u5360 0.5\uff0c<br>\n",
                "\u5f53\u7136\u53ef\u4ee5\u53ef\u4ee5\u4ee4\u9519\u8bef\u7387\u7b49\u4e8e 0.5\uff0c\u8fdb\u884c\u53cd\u89e3\u8868\u8fbe\u5f0f\u5f97\u5230\u66f4\u65b0\u516c\u5f0f\u3002"
            ]
        },
        {
            "cell_type": "markdown",
            "metadata": {},
            "source": [
                "#### 6.2 AdaBoost \u7b97\u6cd5\n",
                ""
            ]
        },
        {
            "cell_type": "markdown",
            "metadata": {},
            "source": [
                "\u5bf9\u4e8e\u7ed9\u5b9a\u7684\u8bad\u7ec3\u96c6\uff0c\u901a\u8fc7 T \u6b21\u5faa\u73af\uff0c\u8ba1\u7b97\u51fa T \u4e2a\u5206\u7c7b\u5668\u3002\n",
                "\n",
                "\n",
                "![](http://imgbed.momodel.cn/38-19 algorithm.png)"
            ]
        },
        {
            "cell_type": "markdown",
            "metadata": {},
            "source": [
                "\u5982\u4f55\u5c06\u5b83\u4eec\u805a\u5408\u8d77\u6765\uff1f\n",
                "\n",
                "\n",
                "![](http://imgbed.momodel.cn/38-20 aggregate.png)",
                "\n",
                "\u5f53\u8be5\u6a21\u578b\u7684\u9519\u8bef\u7387\u8d8a\u5c0f\u65f6\uff0c\u6211\u4eec\u7ed9\u8be5\u6a21\u578b\u5206\u914d\u7684\u6743\u91cd\u8d8a\u5927\u3002\uff08\u8868\u793a\u6211\u4eec\u66f4\u504f\u5411\u4e8e\u76f8\u4fe1\u8be5\u6a21\u578b\u7684\u7ed3\u679c\uff09"
            ]
        },
        {
            "cell_type": "markdown",
            "metadata": {},
            "source": [
                "#### 6.3 Toy \u5b9e\u4f8b\n",
                ""
            ]
        },
        {
            "cell_type": "markdown",
            "metadata": {},
            "source": [
                "\n",
                "\u5206\u7c7b\u5668\u7684\u8bad\u7ec3\u8fc7\u7a0b\uff1a\n",
                "\n",
                "\u6211\u4eec\u9700\u8981\u4f7f\u7528\u5f31\u5206\u7c7b\u5668\u3002\n",
                "\n",
                "\u7531\u7b2c\u4e00\u5e45\u56fe\u53ef\u77e5\uff0c\u7b2c\u4e00\u6b21\u5206\u7c7b\u6709 7 \u4e2a\u6b63\u786e\uff0c\u5de6\u8fb9\u4e24\u4e2a\u84dd\u8272\u7684\u7c7b\u522b\u548c\u53f3\u8fb9\u4e94\u4e2a\u7ea2\u8272\u7684\u7c7b\u522b\uff0c<br>\n",
                "\u7136\u540e\u66f4\u65b0\u6743\u91cd\uff0c\u4f7f\u53f3\u8fb9\u84dd\u8272\u7684\u9519\u8bef\u5206\u7c7b\u653e\u5927\u4e3a 1.53\uff0c\u53ef\u5f97 7\\*0.65 \u7ea6\u7b49\u4e8e 3\\*1.53\uff0c\u5373\u9519\u8bef\u7387\u7ea6\u7b49\u4e8e 0.5\uff0c<br>\n",
                "\u6b64\u4e3a\u7b2c\u4e00\u6b21\u66f4\u65b0\uff0c\u7136\u540e\u91cd\u590d\u66f4\u65b0\u6743\u91cd\u548c\u5206\u7c7b\u65b9\u6cd5\u3002<br>\n",
                "![](http://imgbed.momodel.cn/38-21 example t=1.png)",
                "\n",
                "\n",
                "![](http://imgbed.momodel.cn/38-22 t=2.png)",
                "\n",
                "![](http://imgbed.momodel.cn/38-23 t=3.png)"
            ]
        },
        {
            "cell_type": "markdown",
            "metadata": {},
            "source": [
                "\u6700\u7ec8\u6574\u4e2a\u6a21\u578b\u7684\u51c6\u786e\u7387\u4e3a 100%\n",
                "\n",
                "![](http://imgbed.momodel.cn/38-24 result.png)"
            ]
        },
        {
            "cell_type": "markdown",
            "metadata": {},
            "source": [
                "#### 6.4 AdaBoost\u8bc1\u660e\u63a8\u5bfc\n",
                ""
            ]
        },
        {
            "cell_type": "markdown",
            "metadata": {},
            "source": [
                "\n",
                "![](http://imgbed.momodel.cn/38-25 warning of math.png)",
                "\n",
                "\u5f53T\u8d8a\u5927\uff0c\u8fed\u4ee3\u6b21\u6570\u8d8a\u591a\u65f6\uff0c$H(x)$ \u5728\u8bad\u7ec3\u96c6\u4e0a\u7684\u9519\u8bef\u7387\u8d8a\u6765\u8d8a\u5c0f"
            ]
        },
        {
            "cell_type": "markdown",
            "metadata": {},
            "source": [
                "\u6a21\u578b\u6700\u7ec8\u7684\u9519\u8bef\u7387\u6709\u4e00\u4e2a\u4e0a\u754c\uff0c\u59cb\u7ec8 $\\leq$ $\\sum_n exp(-\\hat y^n g(x^n))$\n",
                "\n",
                "![](http://imgbed.momodel.cn/38-26 error rate of final classifier.png)"
            ]
        },
        {
            "cell_type": "markdown",
            "metadata": {},
            "source": [
                "\n",
                "![](http://imgbed.momodel.cn/38-27 error rate.png)",
                "\n",
                "$Z_t$ \u4e3a\u8bad\u7ec3\u96c6\u6570\u636e\u7684\u6743\u91cd\u7684\u603b\u548c\uff1b\u7ecf\u8fc7\u4e00\u7cfb\u5217\u7684\u6570\u5b66\u63a8\u5bfc\uff0c\u5f97\u5230 $Z_{T+1}$ \u7684\u8868\u8fbe\u5f0f\uff1b\n",
                "\n",
                "\u8054\u7acb\u8bad\u7ec3\u96c6\u9519\u8bef\u7387\u7684\u8868\u8fbe\u5f0f\uff0c\u5f97\u5230\n",
                "\n",
                "Error Rate $\\leq \\sum_n exp(-\\hat y^n g(x^n))$ = $\\frac{1}{N}Z_{T+1}$"
            ]
        },
        {
            "cell_type": "markdown",
            "metadata": {},
            "source": [
                "\n",
                "![](http://imgbed.momodel.cn/38-28 smaller and smaller.png)",
                "\n",
                "\u7531\u4e0a\u56fe\u53ef\u4ee5\u5f97\u51fa\uff0c$Z_T$ \u968f\u7740 $T$ \u7684\u589e\u5927\u4e0d\u65ad\u51cf\u5c0f\uff0c\n",
                "\n",
                "\u6240\u4ee5\uff0c\u5f53 $T$ \u589e\u5927\u65f6\uff0c\u9519\u8bef\u7387\u7684\u4e0a\u754c\u4e0d\u65ad\u51cf\u5c0f\uff0c\u9519\u8bef\u7387\u5927\u6982\u7387\u8ddf\u7740\u4e0d\u65ad\u51cf\u5c0f\u3002"
            ]
        },
        {
            "cell_type": "markdown",
            "metadata": {},
            "source": [
                "#### 6.5 AdaBoost\u7684\u795e\u79d8\u73b0\u8c61\n",
                ""
            ]
        },
        {
            "cell_type": "markdown",
            "metadata": {},
            "source": [
                "\u5f53T\u589e\u5927\u5230\u4e00\u5b9a\u7a0b\u5ea6\u65f6\uff0c\u4f1a\u53d1\u73b0\u8bad\u7ec3\u96c6\u8bef\u5dee\u7387\u5df2\u7ecf\u964d\u4e3a 0 \u4e0d\u53d1\u751f\u6539\u53d8\uff0c\u4f46\u662f\n",
                "\n",
                "\u6d4b\u8bd5\u96c6\u7684\u8bef\u5dee\u7387\u8fd8\u662f\u4f1a\u4e00\u76f4\u51cf\u5c0f\u3002\n",
                "\n",
                "![](http://imgbed.momodel.cn/38-29 error is 0.png)",
                "\n",
                "\u5b9a\u4e49\u95f4\u9694 Margin = $\\hat y g(x)$;\u5f53\u8fed\u4ee3\u6b21\u6570\u8f83\u591a\u65f6\uff0c\u95f4\u9694\u4f1a\u589e\u5927\uff0c\u4f7f\u5f97\u6a21\u578b\u5728\n",
                "\n",
                "\u6d4b\u8bd5\u96c6\u4e0a\u7684\u8868\u73b0\u66f4\u597d\u3002\uff08\u5f53\u8bad\u7ec3\u96c6\u7684\u9519\u8bef\u7387\u4e3a0\u65f6\uff0c$\\hat y g(x)$ \u59cb\u7ec8\u540c\u53f7\uff0c\u5373\u59cb\u7ec8\u5927\u4e8e 0\uff09\n",
                "\n",
                "\n",
                "![](http://imgbed.momodel.cn/38-30 large margin.png)"
            ]
        },
        {
            "cell_type": "markdown",
            "metadata": {},
            "source": [
                "#### 6.6 AdaBoost + \u51b3\u7b56\u6811 \u505a\u521d\u97f3\u7684\u5b9e\u4f8b\n",
                "\n",
                "",
                "\n",
                "![](http://imgbed.momodel.cn/38-31 adaboost\u5b9e\u9a8c.png)",
                "\n",
                "\u5f53\u6811\u7684\u6df1\u5ea6\u4e00\u5b9a\u65f6\uff0c\u8fed\u4ee3\u7684\u6b21\u6570\u8d8a\u591a\u9519\u8bef\u7387\u8d8a\u4f4e\uff0c\u6a21\u578b\u7684\u6548\u679c\u8d8a\u597d\u3002"
            ]
        },
        {
            "cell_type": "markdown",
            "metadata": {},
            "source": [
                "### 7. Gradient Boosting\n",
                "\n",
                ""
            ]
        },
        {
            "cell_type": "markdown",
            "metadata": {},
            "source": [
                "\u5efa\u7acb\u6a21\u578b\u7684\u4e00\u822c\u6b65\u9aa4\uff1a\n",
                "\n",
                "\u521d\u59cb\u5316\u4e00\u4e2a\u6a21\u578b\uff0c\u4e0d\u65ad\u7684\u8fed\u4ee3\u4e0d\u65ad\u7684\u4f18\u5316\uff0c\u4f7f\u76ee\u6807\u51fd\u6570\u6700\u5c0f\u5316\uff0c\u5f97\u5230\u6700\u540e\u7684\u6a21\u578b\n",
                "\n",
                "![](http://imgbed.momodel.cn/38-32 general.png)"
            ]
        },
        {
            "cell_type": "markdown",
            "metadata": {},
            "source": [
                "Gradient Boosting\u662fBoosting\u7684\u66f4\u6cdb\u5316\u7684\u4e00\u4e2a\u7248\u672c\u3002 \u5177\u4f53\u6b65\u9aa4\uff1a\n",
                "\n",
                "+ \u521d\u59cb\u5316\u4e00\u4e2a$g_{0}(x)=0$,<br>\n",
                "+ \u8fdb\u884c\u5f88\u591a\u6b21\u7684\u8fed\u4ee3\uff0c\u627e\u5230\u4e00\u7ec4$f_t(x)$\u548c$\\alpha_t$\u6765\u5171\u540c\u6539\u8fdb$g_{t-1}(x)$<br>\n",
                "+ $g_{t-1}(x)$\u5c31\u662f\u4e4b\u524d\u5f97\u5230\u6240\u6709\u7684f(x)\u548c$\\alpha$\u4e58\u79ef\u7684\u548c<br>\n",
                "+ \u628a\u627e\u5230\u7684\u4e00\u7ec4$f_t(x)$\u548c$\\alpha_t$\uff08\u4e0e$g_{t-1}(x)$\u4e92\u8865\uff09\u52a0\u4e0a\u539f\u6765\u7684$g_{t-1}(x)$\u5f97\u5230\u65b0\u7684$g_{t}(x)$\uff0c\u8fd9\u6837$g_{t}(x)$\u5c31\u6bd4\u539f\u6765\u7684$g_{t-1}(x)$\u66f4\u597d<br>\n",
                "+ \u6700\u540e\u518d\u5f97\u5230T\u4e2a\u8fed\u4ee3\u7684H(x) \u8fd9\u91cc\u7684cost function\u662f$L(g)=\\sum\\limits_{n}l(\\hat{y}^n,g(x^n))$,<br>\n",
                "    \u5176\u4e2dll\u662f$\\hat{y}^n$ \u548c$g(x^n)$\u7684\u5dee\u5f02\uff08loss function\uff0c\u8fd9\u4e2a\u51fd\u6570\u53ef\u4ee5\u76f4\u63a5\u9009\u62e9\uff0c\u53ef\u4ee5\u662f\u4ea4\u53c9\u71b5\uff0c\u4e5f\u53ef\u4ee5\u662f\u5747\u65b9\u8bef\u5dee\uff09<br>\n",
                "    \u8fd9\u91cc\u5b9a\u4e49\u6210\u4e86$exp(-\\hat{y}^ng(x^n))$ <br>\n",
                "+ \u63a5\u4e0b\u6765\u6211\u4eec\u8981\u6700\u5c0f\u5316\u635f\u5931\u51fd\u6570\uff0c\u6211\u4eec\u5c31\u9700\u8981\u7528\u68af\u5ea6\u4e0b\u964d\u6765\u66f4\u65b0\u6bcf\u4e2ag(x)<br>"
            ]
        },
        {
            "cell_type": "markdown",
            "metadata": {},
            "source": [
                "\n",
                "![](http://imgbed.momodel.cn/38-33 gradient.png)",
                "\n",
                "\u6211\u4eec\u5e0c\u671b\u7528\u68af\u5ea6\u4e0b\u964d\u6c42\u5f97\u90e8\u5206\u548c\u7528 AdaBoost \u6c42\u5f97\u90e8\u5206\u7684\u65b9\u5411\u8d8a\u4e00\u81f4\u8d8a\u597d\u3002"
            ]
        },
        {
            "cell_type": "markdown",
            "metadata": {},
            "source": [
                "\n",
                "![](http://imgbed.momodel.cn/38-35 maximize.png)",
                "\n",
                "\u5728\u6700\u5927\u5316\u7684\u8fc7\u7a0b\u4e2d\uff0c\u6211\u4eec\u6c42\u5f97\u7684 $f_t(x^n)$ \u548c\u7528 AdaBoost \u6c42\u5f97 $f_t(x^n)$ \u662f\u4e00\u81f4\u7684\u3002"
            ]
        },
        {
            "cell_type": "markdown",
            "metadata": {},
            "source": [
                "\u5728\u6c42\u51fa $f_t(x^n)$ \u4e4b\u540e\uff0c\u6211\u4eec\u5e0c\u671b\u6c42\u5f97\u4e00\u4e2a $\\alpha_t$ \u4f7f\u5f97\u635f\u5931\u51fd\u6570\u6700\u5c0f\n",
                "\n",
                "\n",
                "![](http://imgbed.momodel.cn/38-36 alpha.png)"
            ]
        },
        {
            "cell_type": "markdown",
            "metadata": {},
            "source": [
                "\u8fd9\u91cc\u627e\u51fa\u6765\u7684$f_t(x)$\uff0c\u5176\u5b9e\u4e5f\u5c31\u662fAdaBoost\u627e\u51fa\u6765\u7684$f_t(x)$,<br>\n",
                "\u6240\u4ee5\u5728AdaBoost\u7684\u65f6\u5019\uff0c\u627e\u4e00\u4e2a\u5f31\u7684\u5206\u7c7b\u5668$f_t(x)$\uff0c\u5c31\u76f8\u5f53\u4e8e\u7528\u68af\u5ea6\u4e0b\u964d\u66f4\u65b0\u635f\u5931\uff0c\u503c\u5f97\u635f\u5931\u4f1a\u53d8\u5c0f\u3002<br> \n",
                "\u7531\u4e8e\u6c42$f_t(x)$\u662f\u5f88\u4e0d\u5bb9\u6613\u624d\u627e\u5230\u7684\uff0c\u6240\u4ee5\u6211\u4eec\u8fd9\u91cc\u5c31\u4f1a\u7ed9$f_t(x)$\u914d\u4e00\u4e2a\u6700\u597d\u7684$\\alpha_t$\uff0c\u628a$f_t(x)$\u7684\u4ef7\u503c\u53d1\u6325\u5230\u6700\u5927\u3002<br>\n",
                "\n",
                "\u5bf9\u4e8e$\\alpha_t$\u5c31\u5f88\u50cf\u5b66\u4e60\u7387\uff0c\u4f46\u662f\u8fd9\u91cc\u6709\u70b9\u4e0d\u4e00\u6837\uff0c\u6211\u4eec\u662f\u56fa\u5b9a$f_t(x)$\uff0c<br>\n",
                "\u7a77\u4e3e\u6240\u6709\u7684$\\alpha_t$\u627e\u5230\u4e00\u4e2a$\\alpha_t$\u4f7f\u5f97$g_{t}(x)$\u7684\u635f\u5931\u66f4\u5c0f <br>\n",
                "\u5b9e\u9645\u4e2d\u5c31\u662f\u6c42\u89e3\u4e00\u4e2a\u6700\u4f18\u5316\u95ee\u9898\uff0c\u627e\u51fa\u4e00\u4e2a$\\alpha_t$\uff0c\u8ba9$L(g)$\u6700\u5c0f\u3002 <br>\n",
                " \n",
                "\u5de7\u5408\u7684\u662f\u627e\u51fa\u6765\u7684$\\alpha_t$\u5c31\u662f$\\alpha_t=ln\\sqrt{(1-\\epsilon_t)/\\epsilon_t}$<br>\n",
                "AdaBoost\u5176\u5b9e\u53ef\u4ee5\u60f3\u6210\u5728\u505a\u68af\u5ea6\u4e0b\u964d\uff0c\u53ea\u662f\u8fd9\u4e2a\u68af\u5ea6\u662f\u4e00\u4e2a\u51fd\u6570\uff0c<br>\n",
                "\u7136\u540e\u6709\u4e00\u4e2a\u5f88\u597d\u7684\u65b9\u6cd5\u6765\u51b3\u5b9a\u5b66\u4e60\u7387\u7684\u8fd9\u6837\u4e00\u4e2a\u95ee\u9898\u3002<br>\n",
                "Gradient Boosting\u6709\u4e00\u4e2a\u597d\u7684\u5c31\u662f\u6211\u4eec\u53ef\u4ee5\u4efb\u610f\u66f4\u6539\u76ee\u6807\u51fd\u6570\u3002<br>\n",
                "\u8fd9\u6837\u5c31\u53ef\u4ee5\u521b\u9020\u51fa\u5f88\u591a\u65b0\u7684\u65b9\u6cd5\u3002<br>"
            ]
        },
        {
            "cell_type": "markdown",
            "metadata": {},
            "source": [
                "<br>"
            ]
        },
        {
            "cell_type": "markdown",
            "metadata": {},
            "source": [
                "### 8. Stacking\n",
                "\n",
                ""
            ]
        },
        {
            "cell_type": "markdown",
            "metadata": {},
            "source": [
                "\u5728\u96c6\u6210\u591a\u4e2a\u6a21\u578b\u4e4b\u540e\uff0c\u6211\u4eec\u9700\u8981\u518d\u6dfb\u52a0\u4e00\u4e2a\u6700\u7ec8\u7684\u5206\u7c7b\u5668\uff0c\n",
                "\n",
                "\u4e3a\u6bcf\u4e00\u4e2a\u6a21\u578b\u5206\u914d\u4e00\u4e2a\u5408\u9002\u7684\u6743\u91cd\u3002\n",
                "\n",
                "![](http://imgbed.momodel.cn/38-37 voting.png)",
                "\n",
                "\u6211\u4eec\u5c06\u8bad\u7ec3\u96c6\u7684\u6570\u636e\u5206\u4e3a\u4e24\u4e2a\u90e8\u5206\uff0c\u4e00\u90e8\u5206\u7528\u4e8e\u8bad\u7ec3\u5404\u4e2a\u6a21\u578b\uff0c\n",
                "\n",
                "\u53e6\u4e00\u90e8\u5206\u7528\u4e8e\u8bad\u7ec3\u6700\u540e\u7684\u5206\u7c7b\u5668\uff0c\u4e24\u90e8\u5206\u6570\u636e\u6ca1\u6709\u91cd\u53e0\u3002\n",
                "\n",
                "![](http://imgbed.momodel.cn/38-38 stacking.png)"
            ]
        },
        {
            "cell_type": "markdown",
            "metadata": {},
            "source": [
                "\u4e0a\u56fe\u4e2d\uff0c\u628a\u4e00\u7b14\u6570\u636ex\u8f93\u5165\u5230\u56db\u4e2a\u4e0d\u540c\u7684\u6a21\u578b\u4e2d\uff0c\u7136\u540e\u6bcf\u4e2a\u6a21\u578b\u8f93\u51fa\u4e00\u4e2ay\uff0c\u7136\u540e\u7528\u6295\u7968\u6cd5\u51b3\u5b9a\u51fa\u6700\u597d\u7684\uff08\u5bf9\u4e8e\u5206\u7c7b\u95ee\u9898\uff09<br>\n",
                "\u4f46\u662f\u6709\u4e2a\u95ee\u9898\u5c31\u662f\u5e76\u4e0d\u662f\u6240\u6709\u7cfb\u7edf\u90fd\u662f\u597d\u7684\uff0c\u6709\u4e9b\u7cfb\u7edf\u4f1a\u6bd4\u8f83\u5dee\uff0c<br>\n",
                "\u4f46\u662f\u5982\u679c\u91c7\u7528\u4e4b\u524d\u7684\u8bbe\u7f6e\u4f4e\u6743\u91cd\u7684\u65b9\u6cd5\u53c8\u4f1a\u4f24\u5bb3\u5c0f\u6bdb\u7684\u81ea\u5c0a\u5fc3\uff0c<br>\n",
                "\u8fd9\u6837\u6211\u4eec\u5c31\u63d0\u51fa\u4e00\u79cd\u65b0\u7684\u65b9\u6cd5\uff1a <br>\n",
                "**\u628a\u5f97\u5230\u7684y\u5f53\u505a\u65b0\u7684\u7279\u5f81\u8f93\u5165\u5230\u4e00\u4e2a\u6700\u7ec8\u7684\u5206\u7c7b\u5668\u4e2d\uff0c\u7136\u540e\u518d\u51b3\u5b9a\u6700\u7ec8\u7684\u7ed3\u679c\u3002**<br>\n",
                "\u5bf9\u4e8e\u8fd9\u4e2a\u6700\u7ec8\u7684\u5206\u7c7b\u5668\uff0c\u5e94\u5f53\u91c7\u7528\u6bd4\u8f83\u7b80\u5355\u7684\u51fd\u6570\uff08\u6bd4\u5982\u8bf4\u903b\u8f91\u56de\u5f52\uff09\uff0c\u4e0d\u9700\u8981\u518d\u91c7\u7528\u5f88\u590d\u6742\u7684\u51fd\u6570\uff0c\u56e0\u4e3a\u8f93\u5165\u7684y\u5df2\u7ecf\u8bad\u7ec3\u8fc7\u4e86\u3002 <br>\n",
                "\u5728\u505astacking\u7684\u65f6\u5019\u6211\u4eec\u9700\u8981\u628a\u8bad\u7ec3\u6570\u636e\u96c6\u518d\u5206\u6210\u4e24\u90e8\u5206\uff0c\u4e00\u90e8\u5206\u62ff\u6765\u5b66\u4e60\u6700\u5f00\u59cb\u7684\u90a3\u4e9b\u6a21\u578b\uff0c\u53e6\u5916\u4e00\u90e8\u5206\u7684\u8bad\u7ec3\u6570\u636e\u96c6\u62ff\u6765\u5b66\u4e60\u6700\u7ec8\u7684\u5206\u7c7b\u5668\u3002<br>\n",
                "\u539f\u56e0\u662f\u6709\u4e9b\u524d\u9762\u7684\u5206\u7c7b\u5668\u53ea\u662f\u5355\u7eaf\u53bb\u62df\u5408training data\uff0c<br>\n",
                "\u6bd4\u5982\u5c0f\u660e\u7684\u4ee3\u7801\u53ef\u80fd\u662f\u4e71\u5199\u7684\uff0c\u4ed6\u7684\u5206\u7c7b\u5668\u5c31\u662f\u5f88\u5dee\u7684\uff0c\u4ed6\u505a\u7684\u53ea\u662f\u5355\u7eaf\u8f93\u51fa\u539f\u6765\u8bad\u7ec3\u6570\u636e\u96c6\u7684\u6807\u7b7e\uff0c<br>\n",
                "\u4f46\u662f\u6839\u672c\u6ca1\u6709\u8bad\u7ec3\u3002\u5982\u679c\u8fd8\u7528\u4e00\u6a21\u4e00\u6837\u7684\u8bad\u7ec3\u6570\u636e\u53bb\u8bad\u7ec3\u6700\u7ec8\u5206\u7c7b\u5668\uff0c\u8fd9\u4e2a\u5206\u7c7b\u5668\u5c31\u4f1a\u8003\u8651\u5c0f\u660e\u7cfb\u7edf\u7684\u529f\u80fd\u3002<br>\n",
                "\u6240\u4ee5\u6211\u4eec\u5fc5\u987b\u8981\u7528\u53e6\u5916\u4e00\u90e8\u5206\u7684\u6570\u636e\u6765\u8bad\u7ec3\u6700\u7ec8\u7684\u5206\u7c7b\u5668\uff0c\u7136\u540e\u6700\u7ec8\u7684\u5206\u7c7b\u5668\u5c31\u4f1a\u7ed9\u4e4b\u524d\u7684\u6a21\u578b\u4e0d\u540c\u7684\u6743\u91cd\u3002<br>"
            ]
        },
        {
            "cell_type": "markdown",
            "metadata": {},
            "source": [
                "**\u725b\u5200\u5c0f\u8bd5**\n",
                "\n",
                "bagging \u548c boosting \u5206\u522b\u662f\u5982\u4f55\u63d0\u9ad8\u6a21\u578b\u7684\u6548\u679c\uff1f\n"
            ]
        },
        {
            "cell_type": "markdown",
            "metadata": {},
            "source": [
                "<span class='md-hint-alone-link pop 1'>\u67e5\u770b\u7b54\u6848</span>"
            ]
        }
    ],
    "metadata": {
        "kernelspec": {
            "display_name": "Python 3",
            "language": "python",
            "name": "python3"
        },
        "language_info": {
            "codemirror_mode": {
                "name": "ipython",
                "version": 3
            },
            "file_extension": ".py",
            "mimetype": "text/x-python",
            "name": "python",
            "nbconvert_exporter": "python",
            "pygments_lexer": "ipython3",
            "version": "3.5.2"
        }
    },
    "nbformat": 4,
    "nbformat_minor": 2
}