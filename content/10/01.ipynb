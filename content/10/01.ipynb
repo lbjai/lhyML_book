{
    "cells": [
        {
            "cell_type": "markdown",
            "metadata": {},
            "source": [
                "\n",
                "### \u8fd9\u4e00\u8282\u6211\u4eec\u4e3b\u8981\u5b66\u4e60",
                "\n",
                "\n",
                "+ RNN \u7f51\u7edc\u7684\u4ecb\u7ecd\n",
                "+ \u957f\u77ed\u671f\u8bb0\u5fc6\u7f51\u7edc\uff08LSTM\uff09\u7684\u4ecb\u7ecd\u4e0e\u8be6\u89e3\n"
            ]
        },
        {
            "cell_type": "markdown",
            "metadata": {},
            "source": [
                "### 1.\u5e94\u7528\u5b9e\u4f8b"
            ]
        },
        {
            "cell_type": "markdown",
            "metadata": {},
            "source": [
                ""
            ]
        },
        {
            "cell_type": "markdown",
            "metadata": {},
            "source": [
                "\n",
                "![](http://imgbed.momodel.cn/36-1 slot fitting.png)"
            ]
        },
        {
            "cell_type": "markdown",
            "metadata": {},
            "source": [
                "\n",
                "\u6211\u4eec\u5047\u8bbe\u8ba2\u7968\u7cfb\u7edf\u542c\u5230\u7528\u6237\u8bf4\uff1a\u201c i would like to arrive Taipei on November 2nd\u201d\uff0c<br>\n",
                "\u4f60\u7684\u7cfb\u7edf\u6709\u4e00\u4e9bslot(\u6709\u4e00\u4e2aslot\u53eb\u505aDestination\uff0c\u4e00\u4e2aslot\u53eb\u505atime of arrival)\uff0c<br>\n",
                "\u7cfb\u7edf\u8981\u81ea\u52a8\u77e5\u9053\u8fd9\u8fb9\u7684\u6bcf\u4e00\u4e2a\u8bcd\u6c47\u662f\u5c5e\u4e8e\u54ea\u4e00\u4e2aslot\uff0c<br>\n",
                "\u6bd4\u5982Taipei\u5c5e\u4e8eDestination\u8fd9\u4e2aslot\uff0cNovember 2nd\u5c5e\u4e8etime of arrival\u8fd9\u4e2aslot\u3002<br>\n",
                "\n",
                "\n",
                "\n",
                "\u6211\u4eec\u5c06\u6bcf\u4e00\u4e2a\u5355\u8bcd\u7528\u4e00\u4e2a**\u5411\u91cf**\u6765\u8868\u793a\u3002\n",
                "\n",
                "![](http://imgbed.momodel.cn/36-2 1n\u7f16\u7801.png)",
                "\n",
                "\u5411\u91cf\u7684\u7ef4\u5ea6\u521a\u597d\u662f\u5b57\u5178\u7684\u5927\u5c0f\uff0c\u6bcf\u4e00\u4e2a\u7ef4\u5ea6\u4e0e\u5b57\u5178\u4e2d\u7684\u4e00\u4e2a\u5355\u8bcd\u5bf9\u5e94\u3002<br>\n",
                "\u6211\u4eec\u9996\u5148\u8981\u5bf9\u8f93\u5165\u5e8f\u5217\u5411\u91cf\u5316\uff0c\u5c06\u6bcf\u4e00\u4e2a\u8f93\u5165\u7684\u5355\u8bcd\u7528\u5411\u91cf\u8868\u793a\uff0c<br>\n",
                "\u53ef\u4ee5\u4f7f\u7528 One-of-N Encoding \u6216\u8005\u662f Word hashing \u7b49\u7f16\u7801\u65b9\u6cd5\uff0c\u8f93\u51fa\u9884\u6d4b\u69fd\u4f4d\u7684\u6982\u7387\u5206\u5e03\u3002"
            ]
        },
        {
            "cell_type": "markdown",
            "metadata": {},
            "source": [
                "\n",
                "![](http://imgbed.momodel.cn/36-3  beyond.png)",
                "\n",
                "\u5f53\u9047\u5230\u4e0d\u5728\u5b57\u5178\u4e2d\u7684\u5355\u8bcd\u65f6\uff0c\u9700\u8981\u4e3a\u5411\u91cf\u589e\u52a0\u4e00\u4e2a\u65b0\u7ef4\u5ea6\uff0c\u8868\u793a\u4e0d\u5728\u5b57\u5178\u4e2d\u7684\u5355\u8bcd\u3002\n",
                "\n",
                "\u6211\u4eec\u4e5f\u53ef\u4ee5\u4f7f\u7528\u5355\u8bcd\u54c8\u5e0c\u7684\u65b9\u6cd5\u6765\u8868\u793a\u4e00\u4e2a\u5355\u8bcd\u3002"
            ]
        },
        {
            "cell_type": "markdown",
            "metadata": {},
            "source": [
                "\u8f93\u5165\u4e00\u4e2a\u5355\u8bcd\uff0c\u8f93\u51fa\u8be5\u5355\u8bcd\u5c5e\u4e8e\u5404\u4e2a slot \u7684\u53ef\u80fd\u6027\u3002\n",
                "\n",
                "![](http://imgbed.momodel.cn/36-4 \u8f93\u51faprobability distribution.png)"
            ]
        },
        {
            "cell_type": "markdown",
            "metadata": {},
            "source": [
                "\u5f53\u78b0\u5230\"\u79bb\u5f00\u53f0\u5317\"\u6216\u8005\"\u524d\u5f80\u53f0\u5317\"\u7684\u60c5\u51b5\u65f6\uff0c\u6211\u4eec\u5c31\u65e0\u6cd5\u5224\u65ad\"\u53f0\u5317\"\u662f\u76ee\u7684\u5730\u8fd8\u662f\u51fa\u53d1\u5730\uff1b\n",
                "\n",
                "\u6240\u4ee5\u6211\u4eec\u9700\u8981\u7f51\u7edc\u62e5\u6709\u8bb0\u5fc6\u529f\u80fd,\u53bb\u89e3\u51b3input\u4e0d\u540c\u7684\u8bcd\u6c47\uff0coutput\u4e0d\u540c\u7684\u95ee\u9898\u3002\n",
                "\n",
                "![](http://imgbed.momodel.cn/36-5 \u65e0\u6cd5\u89e3\u51b3\u7684\u95ee\u9898.png)"
            ]
        },
        {
            "cell_type": "markdown",
            "metadata": {},
            "source": [
                "\u5982\u679c\u4eca\u5929\u6211\u4eec\u7684neural network\u662f\u6709\u8bb0\u5fc6\u529b\u7684\uff0c<br>\n",
                "\u5b83\u8bb0\u5f97\u5b83\u770b\u8fc7\u7ea2\u8272\u7684Taipei\u4e4b\u524d\u5b83\u5c31\u5df2\u7ecf\u770b\u8fc7arrive\u8fd9\u4e2a\u8bcd\u6c47\uff1b<br>\n",
                "\u5b83\u8bb0\u5f97\u5b83\u770b\u8fc7\u7eff\u8272\u4e4b\u524d\uff0c\u5b83\u5c31\u5df2\u7ecf\u770b\u8fc7leave\u8fd9\u4e2a\u8bcd\u6c47\uff0c\u5b83\u5c31\u53ef\u4ee5\u6839\u636e\u4e0a\u4e0b\u6587\u4ea7\u751f\u4e0d\u540c\u7684output\u3002<br>\n",
                "\u5982\u679c\u8ba9\u6211\u4eec\u7684neural network\u662f\u6709\u8bb0\u5fc6\u529b\u7684\u8bdd\uff0c\u5b83\u5c31\u53ef\u4ee5\u89e3\u51b3input\u4e0d\u540c\u7684\u8bcd\u6c47\uff0coutput\u4e0d\u540c\u7684\u95ee\u9898\u3002<br>"
            ]
        },
        {
            "cell_type": "markdown",
            "metadata": {},
            "source": [
                "### 2.RNN\n",
                ""
            ]
        },
        {
            "cell_type": "markdown",
            "metadata": {},
            "source": [
                "\n",
                "![](http://imgbed.momodel.cn/36-6 RNN.png)",
                "\n",
                "\u8fd9\u79cd\u6709\u8bb0\u5fc6\u7684neural network\u5c31\u53eb\u505aRecurrent Neural network(RNN)\u3002<br>\n",
                "\u5728RNN\u91cc\u9762\uff0c\u6bcf\u4e00\u6b21hidden layer\u7684neuron\u4ea7\u751foutput\u7684\u65f6\u5019\uff0c<br>\n",
                "\u8fd9\u4e2aoutput\u4f1a\u88ab\u5b58\u5230memory\u91cc\u53bb(\u7528\u84dd\u8272\u65b9\u5757\u8868\u793amemory)\u3002<br>\n",
                "\u90a3\u4e0b\u4e00\u6b21\u5f53\u6709input\u65f6\uff0c\u8fd9\u4e9bneuron\u4e0d\u53ea\u662f\u8003\u8651input $x_1,x_2$\uff0c\u8fd8\u4f1a\u8003\u8651\u5b58\u5230memory\u91cc\u7684\u503c\u3002<br>\n",
                "\u5bf9\u5b83\u6765\u8bf4\u9664\u4e86$x_1,x_2$\u4ee5\u5916\uff0c\u8fd9\u4e9b\u5b58\u5728memory\u91cc\u7684\u503c$a_1,a_2$\u4e5f\u4f1a\u5f71\u54cd\u5b83\u7684output\u3002<br>\n"
            ]
        },
        {
            "cell_type": "markdown",
            "metadata": {},
            "source": [
                "#### 2.1 \u5b9e\u4f8b\n",
                "\n",
                ""
            ]
        },
        {
            "cell_type": "markdown",
            "metadata": {},
            "source": [
                "\n",
                "![](http://imgbed.momodel.cn/36-7 \u4f8b\u5b50.png)",
                "\n",
                "memory \u4e2d\u7684\u521d\u59cb\u503c\u53ef\u4ee5\u8bbe\u4e3a 0\uff0c\u6240\u6709\u6743\u91cd\u90fd\u4e3a 1\uff0c\u6ca1\u6709 bias\uff0c\u6fc0\u6d3b\u51fd\u6570\u4e3a\u7ebf\u6027\u6fc0\u6d3b\u51fd\u6570\u3002"
            ]
        },
        {
            "cell_type": "markdown",
            "metadata": {},
            "source": [
                "\u5f97\u5230\u4e0b\u9762\u7684\u7ed3\u679c\uff1a\n",
                "\n",
                "\u5f53\u6211\u4eec\u6539\u53d8\u8f93\u5165\u5e8f\u5217\u7684\u987a\u5e8f\u65f6\uff0c\u4f1a\u5f97\u5230\u4e0d\u540c\u7684\u7ed3\u679c\u3002\n",
                "\n",
                "![](http://imgbed.momodel.cn/36-8 \u7ed3\u679c.png)"
            ]
        },
        {
            "cell_type": "markdown",
            "metadata": {},
            "source": [
                "#### 2.2 RNN\u67b6\u6784\n",
                ""
            ]
        },
        {
            "cell_type": "markdown",
            "metadata": {},
            "source": [
                "\u5c06 RNN \u8fd0\u7528\u5230\u63d2\u69fd\u586b\u5145\u7684\u4f8b\u5b50\u4e2d\uff0c\u524d\u4e00\u6b21\u8f93\u5165\u4f1a\u5bf9\u672c\u6b21\u7684\u8f93\u51fa\u7ed3\u679c\u4ea7\u751f\u5f71\u54cd\u3002\n",
                "\n",
                "\u76f8\u540c\u7684\u7f51\u7edc\u7ed3\u6784\u4f1a\u88ab\u4f7f\u7528\u591a\u6b21\uff0c\u4f46\u6bcf\u6b21 memory \u4e2d\u7684\u5185\u5bb9\u4e0d\u4f1a\u5b8c\u5168\u76f8\u540c\u3002\n",
                "\n",
                "![](http://imgbed.momodel.cn/36-9 rnn\u63d2\u69fd\u586b\u5145.png)"
            ]
        },
        {
            "cell_type": "markdown",
            "metadata": {},
            "source": [
                "\u4f8b\u5982\uff1a\u5f53\"arrive\" \u53d8\u6210 \"leave\" \u65f6\uff0c\u4f1a\u4f7f\u5f97 memory \u4e2d\u7684\u5185\u5bb9\u6539\u53d8\uff0c\u4ece\u800c\u5f71\u54cd\u4e0b\u4e00\u6b21\u7684\u7684\u8f93\u51fa\n",
                "\n",
                "![](http://imgbed.momodel.cn/36-10 \u4e0d\u540c\u7684\u8f93\u5165.png)"
            ]
        },
        {
            "cell_type": "markdown",
            "metadata": {},
            "source": [
                "\u90a3\u6240\u4ee5\u6211\u4eec\u6709\u4e86memory\u4ee5\u540e\uff0c\u521a\u624d\u6211\u4eec\u8bb2\u4e86\u8f93\u5165\u540c\u4e00\u4e2a\u8bcd\u6c47\uff0c\u6211\u4eec\u5e0c\u671boutput\u4e0d\u540c\u7684\u95ee\u9898\u5c31\u6709\u53ef\u80fd\u88ab\u89e3\u51b3\u3002<br>\n",
                "\u6bd4\u5982\u8bf4\uff0c\u540c\u6837\u662f\u8f93\u5165\u201cTaipei\u201d\u8fd9\u4e2a\u8bcd\u6c47\uff0c\u4f46\u662f\u56e0\u4e3a\u7ea2\u8272\u201cTaipei\u201d\u524d\u63a5\u4e86\u201cleave\u201d\uff0c<br>\n",
                "\u7eff\u8272\u201cTaipei\u201d\u524d\u63a5\u4e86\u201carrive\u201d(\u56e0\u4e3a\u201cleave\u201d\u548c\u201carrive\u201d\u7684vector\u4e0d\u4e00\u6837\uff0c\u6240\u4ee5hidden layer\u7684output\u4f1a\u4e0d\u540c)\uff0c<br>\n",
                "\u6240\u4ee5\u5b58\u5728memory\u91cc\u9762\u7684\u503c\u4f1a\u4e0d\u540c\u3002\u73b0\u5728\u867d\u7136x2\u7684\u503c\u662f\u4e00\u6837\u7684\uff0c<br>\n",
                "\u56e0\u4e3a\u5b58\u5728memory\u91cc\u9762\u7684\u503c\u4e0d\u540c\uff0c\u6240\u4ee5hidden layer\u7684output\u4f1a\u4e0d\u4e00\u6837\uff0c<br>\n",
                "\u6240\u4ee5\u6700\u540e\u7684output\u4e5f\u5c31\u4f1a\u4e0d\u4e00\u6837\u3002\u8fd9\u662fRecurrent Neural Network\u7684\u57fa\u672c\u6982\u5ff5\u3002<br>"
            ]
        },
        {
            "cell_type": "markdown",
            "metadata": {},
            "source": [
                "#### 2.3 \u5176\u4ed6RNN\n",
                "\n",
                "",
                "\n",
                "![](http://imgbed.momodel.cn/36-11 rnn\u53ef\u4ee5\u5f88\u6df1.png)"
            ]
        },
        {
            "cell_type": "markdown",
            "metadata": {},
            "source": [
                "Recurrent Neural Networ\u7684\u67b6\u6784\u662f\u53ef\u4ee5\u4efb\u610f\u8bbe\u8ba1\u7684\uff0c\u6bd4\u5982\u8bf4:<br>\n",
                "\u5b83\u5f53\u7136\u662fdeep(\u521a\u624d\u6211\u4eec\u770b\u5230\u7684Recurrent Neural Networ\u5b83\u53ea\u6709\u4e00\u4e2ahidden layer)\uff0c<br>\n",
                "\u5f53\u7136\u5b83\u4e5f\u53ef\u4ee5\u662fdeep Recurrent Neural Networ\u3002<br>\n",
                "\n",
                "\u6bd4\u5982\u8bf4\uff0c\u6211\u4eec\u628a$x^t$\u4e22\u8fdb\u53bb\u4e4b\u540e\uff0c\u5b83\u53ef\u4ee5\u901a\u8fc7\u4e00\u4e2ahidden layer\uff0c<br>\n",
                "\u518d\u901a\u8fc7\u7b2c\u4e8c\u4e2ahidden layer\uff0c\u4ee5\u6b64\u7c7b\u63a8(\u901a\u8fc7\u5f88\u591a\u7684hidden layer)\u624d\u5f97\u5230\u6700\u540e\u7684output\u3002<br>\n",
                "\u6bcf\u4e00\u4e2ahidden layer\u7684output\u90fd\u4f1a\u88ab\u5b58\u5728memory\u91cc\u9762\uff0c\u5728\u4e0b\u4e00\u4e2a\u65f6\u95f4\u70b9\u7684\u65f6\u5019\uff0c<br>\n",
                "\u6bcf\u4e00\u4e2ahidden layer\u4f1a\u628a\u524d\u4e00\u4e2a\u65f6\u95f4\u70b9\u5b58\u7684\u503c\u518d\u8bfb\u51fa\u6765\uff0c\u4ee5\u6b64\u7c7b\u63a8\u6700\u540e\u5f97\u5230output\uff0c\u8fd9\u4e2aprocess\u4f1a\u4e00\u76f4\u6301\u7eed\u4e0b\u53bb\u3002<br>"
            ]
        },
        {
            "cell_type": "markdown",
            "metadata": {},
            "source": [
                "#### 2.4 Elman Network \u548c Jordan Network\n",
                ""
            ]
        },
        {
            "cell_type": "markdown",
            "metadata": {},
            "source": [
                "\n",
                "![](http://imgbed.momodel.cn/36-12 elman\u548cjordan.png)",
                "\n",
                "Jordan Network \u7684\u8868\u73b0\u901a\u5e38\u6bd4 Elman Network \u597d\uff1a\n",
                "\n",
                "Jordan Network \u5c06\u4e0a\u4e00\u6b21\u7684\u8f93\u51fa\u7ed3\u679c\u4f5c\u7528\u4e8e\u672c\u6b21\u7684\u8f93\u5165\uff0c\u6709\u660e\u786e\u7684\u5b9e\u9645\u610f\u4e49\uff1b\n",
                "\n",
                "\u800c Elman Network \u5c06\u9690\u85cf\u5c42\u7684\u7ed3\u679c\u4f5c\u7528\u4e0b\u4e00\u6b21\u7684\u8f93\u5165\uff0c\u65e0\u6cd5\u5224\u65ad\u8be5\u8f93\u51fa\u4f1a\u4ea7\u751f\u600e\u6837\u7684\u5f71\u54cd\u3002"
            ]
        },
        {
            "cell_type": "markdown",
            "metadata": {},
            "source": [
                "#### 2.5 Bidirectional neural network(\u53cc\u5411RNN)\n",
                ""
            ]
        },
        {
            "cell_type": "markdown",
            "metadata": {},
            "source": [
                "\n",
                "![](http://imgbed.momodel.cn/36-13 \u53cc\u5411rnn.png)",
                "\n",
                "Recurrent Neural Networ\u8fd8\u53ef\u4ee5\u662f\u53cc\u5411\uff0c\u4ec0\u4e48\u610f\u601d\u5462\uff1f<br>\n",
                "\u6211\u4eec\u521a\u624dRecurrent Neural Networ\u4f60input\u4e00\u4e2a\u53e5\u5b50\u7684\u8bdd\uff0c\u5b83\u5c31\u662f\u4ece\u53e5\u9996\u4e00\u76f4\u8bfb\u5230\u53e5\u5c3e\u3002<br>\n",
                "\u5047\u8bbe\u53e5\u5b50\u91cc\u7684\u6bcf\u4e00\u4e2a\u8bcd\u6c47\u6211\u4eec\u90fd\u6709$x^t$\u8868\u793a\u5b83\u3002\u4ed6\u5c31\u662f\u5148\u8bfb$x^t$\u5728\u8bfb$x^{t+1}$\u5728\u8bfb$x^{t+2}$ \u3002<br>\n",
                "\u4f46\u662f\u5b83\u7684\u8bfb\u53d6\u65b9\u5411\u4e5f\u53ef\u4ee5\u662f\u53cd\u8fc7\u6765\u7684\uff0c\u5b83\u53ef\u4ee5\u5148\u8bfb$x^{t+2}$\uff0c\u518d\u8bfb$x^{t+1}$\uff0c\u518d\u8bfb$x^{t}$\u3002<br>\n",
                "\u4f60\u53ef\u4ee5\u540c\u65f6train\u4e00\u4e2a\u6b63\u5411\u7684Recurrent Neural Network\uff0c\u53c8\u53ef\u4ee5train\u4e00\u4e2a\u9006\u5411\u7684Recurrent Neural Network\uff0c<br>\n",
                "\u7136\u540e\u628a\u8fd9\u4e24\u4e2aRecurrent Neural Network\u7684hidden layer\u62ff\u51fa\u6765\uff0c\u90fd\u63a5\u7ed9\u4e00\u4e2aoutput layer\u5f97\u5230\u6700\u540e\u7684$y^t$ \u3002<br>\n",
                "\u6240\u4ee5\u4f60\u628a\u6b63\u5411\u7684network\u5728input $x^t$ \u7684\u65f6\u5019\u8ddf\u9006\u5411\u7684network\u5728input $x^t$ \u65f6\uff0c\u90fd\u4e22\u5230 output layer\u4ea7\u751f$y^t$\uff0c<br>\n",
                "\u7136\u540e\u4ea7\u751f$y^{t+1}$,$y^{t+2}$,\u4ee5\u6b64\u7c7b\u63a8\u3002<br>\n",
                "\u7528Bidirectional neural network\u7684\u597d\u5904\u662f\uff0cneural\u5728\u4ea7\u751foutput\u7684\u65f6\u5019\uff0c\u5b83\u770b\u7684\u8303\u56f4\u662f\u6bd4\u8f83\u5e7f\u7684\u3002<br>\n",
                "\u5982\u679c\u4f60\u53ea\u6709\u6b63\u5411\u7684network\uff0c\u518d\u4ea7\u751f$y^t$\uff0c$y^{t+1}$\u7684\u65f6\u5019\uff0c\u4f60\u7684neural\u53ea\u770b\u8fc7$x^1$\u5230$x^{t+1}$\u7684input\u3002<br>\n",
                "\u4f46\u662f\u6211\u4eec\u4eca\u5929\u662fBidirectional neural network\uff0c\u5728\u4ea7\u751f$y^{t+1}$\u7684\u65f6\u5019\uff0c<br>\n",
                "\u4f60\u7684network\u4e0d\u53ea\u662f\u770b\u8fc7$x^1$,\u5230$x^{t+1}$\u6240\u6709\u7684input\uff0c\u5b83\u4e5f\u770b\u4e86\u4ece\u53e5\u5c3e\u5230$x^{t+1}$\u7684input\u3002<br>\n",
                "\u90a3network\u5c31\u7b49\u4e8e\u6574\u4e2ainput\u7684sequence\u3002<br>\n",
                "\u5047\u8bbe\u4f60\u4eca\u5929\u8003\u8651\u7684\u662fslot filling\u7684\u8bdd\uff0c<br>\n",
                "\u4f60\u7684network\u5c31\u7b49\u4e8e\u770b\u4e86\u6574\u4e2asentence\u540e\uff0c\u624d\u51b3\u5b9a\u6bcf\u4e00\u4e2a\u8bcd\u6c47\u7684slot\u5e94\u8be5\u662f\u4ec0\u4e48\u3002<br>\n",
                "\u8fd9\u6837\u4f1a\u6bd4\u770bsentence\u7684\u4e00\u534a\u8fd8\u8981\u5f97\u5230\u66f4\u597d\u7684performance\u3002<br>"
            ]
        },
        {
            "cell_type": "markdown",
            "metadata": {},
            "source": [
                "### 3.\u957f\u77ed\u65f6\u8bb0\u5fc6\u7f51\u7edc\uff08Long Short-term Memory\uff0cLSTM\uff09\n",
                "\n",
                ""
            ]
        },
        {
            "cell_type": "markdown",
            "metadata": {},
            "source": [
                "\n",
                "![](http://imgbed.momodel.cn/36-14 LSTM.png)",
                "\n",
                "\u6700\u5927\u7684\u7279\u70b9\u662f\u6709\u4e09\u4e2a\u95e8\u63a7\u5236\u8f93\u5165\uff0c\u8f93\u51fa\u548c\u8bb0\u5fc6\u7684\u4fdd\u5b58\uff1a\u8f93\u5165\u95e8\uff08input gate\uff09\uff0c\u9057\u5fd8\u95e8\uff08forget gate\uff09\uff0c\u8f93\u51fa\u95e8\uff08output gate\uff09\u3002"
            ]
        },
        {
            "cell_type": "markdown",
            "metadata": {},
            "source": [
                "\n",
                "![](http://imgbed.momodel.cn/36-15 LSTM block.png)",
                "\n",
                "\u6fc0\u6d3b\u51fd\u6570 $f$ \u901a\u5e38\u662fsigmoid\u51fd\u6570\uff0c\n",
                "\n",
                "$c'=g(z)f(z_i)+cf(z_f)$;\n",
                "\n",
                "\u5176\u4e2d$z_i$\u4e3a\u8f93\u5165\u95e8\u7684\u4fe1\u53f7\uff0c$z$\u4e3a\u8f93\u5165\u4fe1\u53f7\uff0c$c$\u4e3amemory\u4e2d\u7684\u503c\uff0c$z_f$\u4e3a\u5fd8\u8bb0\u95e8\u7684\u4fe1\u53f7\n",
                "\n",
                "$a=h(c')f(z_0)$;$c'$\u4e3amemory\u4e2d\u6b64\u6b21\u7684\u8f93\u51fa\u4fe1\u53f7\uff0c$z_0$\u4e3a\u5fd8\u8bb0\u95e8\u7684\u8f93\u5165\u4fe1\u53f7\uff0c$a$ \u4e3a\u8be5block\u6700\u7ec8\u7684\u8f93\u51fa\u7ed3\u679c"
            ]
        },
        {
            "cell_type": "markdown",
            "metadata": {},
            "source": [
                "**\u725b\u5200\u5c0f\u8bd5**\n",
                "\n",
                "\u5fd8\u8bb0\u95e8\u4fe1\u53f7$z_f$\uff0c\u53d6100\u8fd8\u662f\u53d6-100\u65f6\uff0c\u91cd\u7f6e memory\uff1f"
            ]
        },
        {
            "cell_type": "markdown",
            "metadata": {},
            "source": [
                "<span class='md-hint-alone-link pop 0'>\u67e5\u770b\u7b54\u6848</span>"
            ]
        },
        {
            "cell_type": "markdown",
            "metadata": {},
            "source": [
                "####  3.1 LSTM \u5b9e\u4f8b\u5316\n",
                "\n",
                ""
            ]
        },
        {
            "cell_type": "markdown",
            "metadata": {},
            "source": [
                "\n",
                "![](http://imgbed.momodel.cn/36-16 LSTM\u7684\u4e00\u4e2a\u4f8b\u5b50.png)",
                "\n",
                "\u6211\u4eec\u7684network\u91cc\u9762\u53ea\u6709\u4e00\u4e2aLSTM\u7684cell\uff0c\u90a3\u6211\u4eec\u7684input\u90fd\u662f\u4e09\u7ef4\u7684vector\uff0coutput\u90fd\u662f\u4e00\u7ef4\u7684output\u3002<br>\n",
                "\u90a3\u8fd9\u4e09\u7ef4\u7684vector\u8ddfoutput\u8fd8\u6709memory\u7684\u5173\u7cfb\u662f\u8fd9\u6837\u7684\u3002<br>\n",
                "\u5047\u8bbe\u7b2c\u4e8c\u4e2adimension $x_2$ \u7684\u503c\u662f1\u65f6\uff0c$x_1$\u7684\u503c\u5c31\u4f1a\u88ab\u5199\u5230memory\u91cc\uff0c<br>\n",
                "\u5047\u8bbe$x_2$ \u7684\u503c\u662f-1\u65f6\uff0c\u5c31\u4f1areset the memory\uff0c\u5047\u8bbe$x_3$\u7684\u503c\u4e3a1\u65f6\uff0c\u4f60\u624d\u4f1a\u628aoutput\u6253\u5f00\u624d\u80fd\u770b\u5230\u8f93\u51fa\u3002<br>\n",
                "$x_1,x_2,x_3$ \u5206\u522b\u5bf9\u5e94\u8be5 block \u7684\u8f93\u5165\u503c\uff0c\u8f93\u5165\u95e8\u548c\u5fd8\u8bb0\u95e8\u7684\u63a7\u5236\u4fe1\u53f7\u4ee5\u53ca\u8f93\u51fa\u95e8\u7684\u63a7\u5236\u4fe1\u53f7\u3002<br>"
            ]
        },
        {
            "cell_type": "markdown",
            "metadata": {},
            "source": [
                "\u8be5\u5e8f\u5217\u7684\u8f93\u51fa\u7ed3\u679c\u5982\u56fe\u6240\u793a\uff0c\n",
                "\n",
                "![](http://imgbed.momodel.cn/36-17 \u4f8b\u5b50\u7684\u8f93\u51fa\u7ed3\u679c.png)"
            ]
        },
        {
            "cell_type": "markdown",
            "metadata": {},
            "source": [
                "#### 3.2 LSTM \u5b9e\u73b0\u539f\u7406"
            ]
        },
        {
            "cell_type": "markdown",
            "metadata": {},
            "source": [
                "",
                "\n",
                "\u5c06\u795e\u7ecf\u7f51\u7edc\u4e2d\u7684\u795e\u7ecf\u5143\u7528 LSTM block \u66ff\u6362\u5373\u53ef\u3002\n",
                "\n",
                "![](http://imgbed.momodel.cn/36-18 \u4e0e\u539f\u59cb\u795e\u7ecf\u5143\u7684\u5173\u7cfb.png)"
            ]
        },
        {
            "cell_type": "markdown",
            "metadata": {},
            "source": [
                "\u4f60\u53ef\u80fd\u4f1a\u60f3\u8fd9\u4e2a\u8ddf\u6211\u4eec\u7684neural network\u6709\u4ec0\u4e48\u6837\u7684\u5173\u7cfb\u5462\u3002<br>\n",
                "\u4f60\u53ef\u4ee5\u8fd9\u6837\u60f3\uff0c\u5728\u6211\u4eec\u539f\u6765\u7684neural network\u91cc\u9762\uff0c\u6211\u4eec\u4f1a\u6709\u5f88\u591a\u7684neural\uff0c<br>\n",
                "\u6211\u4eec\u4f1a\u628ainput\u4e58\u4ee5\u4e0d\u540c\u7684weight\u5f53\u505a\u4e0d\u540cneural\u7684\u8f93\u5165\uff0c<br>\n",
                "\u6bcf\u4e00\u4e2aneural\u90fd\u662f\u4e00\u4e2afunction\uff0c\u8f93\u5165\u4e00\u4e2a\u503c\u7136\u540e\u8f93\u51fa\u4e00\u4e2a\u503c\u3002<br>\n",
                "\u4f46\u662f\u5982\u679c\u662fLSTM\u7684\u8bdd\uff0c\u5176\u5b9e\u4f60\u53ea\u8981\u628aLSTM\u90a3\u4e48memory\u7684cell\u60f3\u6210\u662f\u4e00\u4e2aneuron\u5c31\u597d\u4e86\u3002<br>"
            ]
        },
        {
            "cell_type": "markdown",
            "metadata": {},
            "source": [
                "\n",
                "![](http://imgbed.momodel.cn/36-19 \u56db\u500d\u7684\u53c2\u6570.png)",
                "\n",
                "LSTM\u56e0\u4e3a\u9700\u8981\u56db\u4e2ainput\uff0c\u800c\u4e14\u56db\u4e2ainput\u90fd\u662f\u4e0d\u4e00\u6837\uff0c\u539f\u6765\u7684\u4e00\u4e2aneuron\u5c31\u53ea\u6709\u4e00\u4e2ainput\u548coutput\uff0c<br>\n",
                "\u6240\u4ee5LSTM\u9700\u8981\u7684\u53c2\u6570\u91cf(\u5047\u8bbe\u4f60\u73b0\u5728\u7528\u7684neural\u7684\u6570\u76ee\u8ddfLSTM\u662f\u4e00\u6837\u7684)\u662f\u4e00\u822cneural network\u7684\u56db\u500d\u3002<br>\n",
                "\u8fd9\u4e2a\u8ddfRecurrent Neural Network \u7684\u5173\u7cfb\u662f\u4ec0\u4e48\uff0c\u8fd9\u4e2a\u770b\u8d77\u6765\u597d\u50cf\u4e0d\u4e00\u6837\uff0c\u6240\u4ee5\u6211\u4eec\u8981\u753b\u53e6\u5916\u4e00\u5f20\u56fe\u6765\u8868\u793a\u3002<br>"
            ]
        },
        {
            "cell_type": "markdown",
            "metadata": {},
            "source": [
                "#### 3.3 LSTM \u8be6\u89e3\n",
                ""
            ]
        },
        {
            "cell_type": "markdown",
            "metadata": {},
            "source": [
                "\n",
                "![](http://imgbed.momodel.cn/36-20 \u8f93\u5165\u4fe1\u606f\u7684\u8f6c\u6362.png)",
                "\n",
                "\u5c06\u8f93\u5165\u5411\u91cf $x$ \u5206\u522b\u4e58\u4ee5\u56db\u4e2a\u8f6c\u6362\u77e9\u9635\uff0c\u5f97\u5230 4 \u4e2a\u8f93\u5165\u5411\u91cf\uff0c\u5bf9\u5e94 LSTM \u4e2d\u7684\u56db\u4e2a\u8f93\u5165\u3002"
            ]
        },
        {
            "cell_type": "markdown",
            "metadata": {},
            "source": [
                "\u5047\u8bbe\u6211\u4eec\u73b0\u5728\u6709\u4e00\u6574\u6392\u7684neuron(LSTM)\uff0c\u8fd9\u4e9bLSTM\u91cc\u9762\u7684memory\u90fd\u5b58\u4e86\u4e00\u4e2a\u503c\uff0c\u628a\u6240\u6709\u7684\u503c\u63a5\u8d77\u6765\u5c31\u53d8\u6210\u4e86vector\uff0c<br>\n",
                "\u5199\u4e3a $c^{t-1}$(\u4e00\u4e2a\u503c\u5c31\u4ee3\u8868\u4e00\u4e2adimension)\u3002\u73b0\u5728\u5728\u65f6\u95f4\u70b9t\uff0cinput\u4e00\u4e2avector $x^t$\uff0c<br>\n",
                "\u8fd9\u4e2avector\u9996\u5148\u4f1a\u4e58\u4e0a\u4e00matrix(\u4e00\u4e2alinear transform\u53d8\u6210\u4e00\u4e2avector z,z\u8fd9\u4e2avector\u7684dimension\u5c31\u4ee3\u8868\u4e86\u64cd\u63a7\u6bcf\u4e00\u4e2aLSTM\u7684input(z\u8fd9\u4e2adimension\u6b63\u597d\u5c31\u662fLSTM memory cell\u7684\u6570\u76ee)\u3002<br>\n",
                "z\u7684\u7b2c\u4e00\u7ef4\u5c31\u4e22\u7ed9\u7b2c\u4e00\u4e2acell(\u4ee5\u6b64\u7c7b\u63a8)<br>\n",
                "\n",
                "\u8fd9\u4e2a$x^t$\u4f1a\u4e58\u4e0a\u53e6\u5916\u7684\u4e00\u4e2atransform\u5f97\u5230$z^i$\uff0c\u7136\u540e\u8fd9\u4e2a$z^i$\u7684dimension\u4e5f\u8ddfcell\u7684\u6570\u76ee\u4e00\u6837\uff0c<br>\n",
                "$z^i$ \u7684\u6bcf\u4e00\u4e2adimension\u90fd\u4f1a\u53bb\u64cd\u63a7input gate(forget gate \u8ddfoutput gate\u4e5f\u90fd\u662f\u4e00\u6837\uff0c\u8fd9\u91cc\u5c31\u4e0d\u5728\u8d58\u8ff0)\u3002<br>\n",
                "\u6240\u4ee5\u6211\u4eec\u628a$x^t$\u4e58\u4ee5\u56db\u4e2a\u4e0d\u540c\u7684transform\u5f97\u5230\u56db\u4e2a\u4e0d\u540c\u7684vector\uff0c<br>\n",
                "\u56db\u4e2avector\u7684dimension\u8ddfcell\u7684\u6570\u76ee\u4e00\u6837\uff0c\u8fd9\u56db\u4e2avector\u5408\u8d77\u6765\u5c31\u4f1a\u53bb\u64cd\u63a7\u8fd9\u4e9b memory cell\u8fd0\u4f5c\u3002<br>"
            ]
        },
        {
            "cell_type": "markdown",
            "metadata": {},
            "source": [
                "\u5bf9\u4e8e\u8f93\u5165\u5411\u91cf\uff0cLSTM \u4ecd\u7136\u5177\u6709\u4e0a\u8ff0\u7684\u6027\u8d28\u3002\n",
                "\n",
                "![](http://imgbed.momodel.cn/36-21 LSTM\u8f93\u5165\u7684\u5411\u91cf\u5316.png)"
            ]
        },
        {
            "cell_type": "markdown",
            "metadata": {},
            "source": [
                "\u4e00\u4e2amemory cell\u5c31\u957f\u8fd9\u6837\uff0c\u73b0\u5728input\u5206\u522b\u5c31\u662f$z,z^i,z^o,z^f$(\u90fd\u662fvector)\uff0c<br>\n",
                "\u4e22\u5230cell\u91cc\u9762\u7684\u503c\u5176\u5b9e\u662fvector\u7684\u4e00\u4e2adimension\uff0c<br>\n",
                "\u56e0\u4e3a\u6bcf\u4e00\u4e2acell input\u7684dimension\u90fd\u662f\u4e0d\u4e00\u6837\u7684\uff0c<br>\n",
                "\u6240\u4ee5\u6bcf\u4e00\u4e2acell input\u7684\u503c\u90fd\u4f1a\u662f\u4e0d\u4e00\u6837\u3002<br>\n",
                "\u6240\u4ee5cell\u662f\u53ef\u4ee5\u5171\u540c\u4e00\u8d77\u88ab\u8fd0\u7b97\u7684,\u600e\u4e48\u5171\u540c\u4e00\u8d77\u88ab\u8fd0\u7b97\u5462\uff1f<br>\n",
                "\u6211\u4eec\u8bf4\uff0c$z^i$\u901a\u8fc7activation function\u8ddfz\u76f8\u4e58\uff0c<br>\n",
                "$z^f$\u901a\u8fc7activation function\u8ddf\u4e4b\u524d\u5b58\u5728cell\u91cc\u9762\u7684\u503c\u76f8\u4e58\uff0c<br>\n",
                "\u7136\u540e\u5c06z\u8ddf$z^i$\u76f8\u4e58\u7684\u503c\u52a0\u4e0a$z^f$\u8ddf$c^{t-1}$\u76f8\u4e58\u7684\u503c\uff0c<br>\n",
                "$z^o$\u901a\u8fc7activation function\u7684\u7ed3\u679coutput\uff0c\u8ddf\u4e4b\u524d\u76f8\u52a0\u7684\u7ed3\u679c\u518d\u76f8\u4e58\uff0c\u6700\u540e\u5c31\u5f97\u5230\u4e86output$y^t$\u3002<br>"
            ]
        },
        {
            "cell_type": "markdown",
            "metadata": {},
            "source": [
                "![](http://imgbed.momodel.cn/36-22 \u66f4\u590d\u6742\u7684\u7ed3\u6784.png)",
                "\n",
                "\u4e4b\u524d\u90a3\u4e2a\u76f8\u52a0\u4ee5\u540e\u7684\u7ed3\u679c\u5c31\u662fmemory\u91cc\u9762\u5b58\u653e\u7684\u503c$c^t$\uff0c\u8fd9\u4e2aprocess\u53cd\u590d\u7684\u8fdb\u884c\uff0c<br>\n",
                "\u5728\u4e0b\u4e00\u4e2a\u65f6\u95f4\u70b9input $x^{t+1}$\uff0c\u628a z \u8ddfinput gate\u76f8\u4e58\uff0c\u628aforget gate\u8ddf\u5b58\u5728memory\u91cc\u9762\u7684\u503c\u76f8\u4e58\uff0c<br>\n",
                "\u7136\u540e\u5c06\u524d\u9762\u4e24\u4e2a\u503c\u518d\u76f8\u52a0\u8d77\u6765\uff0c\u5728\u4e58\u4e0aoutput gate\u7684\u503c\uff0c\u7136\u540e\u5f97\u5230\u4e0b\u4e00\u4e2a\u65f6\u95f4\u70b9\u7684\u8f93\u51fa$y^{t+1}$<br>\n",
                "<br>\n",
                "\u4f60\u53ef\u80fd\u8ba4\u4e3a\u8bf4\u8fd9\u5f88\u590d\u6742\u4e86\uff0c\u4f46\u662f\u8fd9\u4e0d\u662fLSTM\u7684\u6700\u7ec8\u5f62\u6001\uff0c\u771f\u6b63\u7684LSTM,\u4f1a\u628a\u4e0a\u4e00\u4e2a\u65f6\u95f4\u7684\u8f93\u51fa\u63a5\u8fdb\u6765\uff0c<br>\n",
                "\u5f53\u505a\u4e0b\u4e00\u4e2a\u65f6\u95f4\u7684input\uff0c\u4e5f\u5c31\u8bf4\u4e0b\u4e00\u4e2a\u65f6\u95f4\u70b9\u64cd\u63a7\u8fd9\u4e9bgate\u7684\u503c\u4e0d\u662f\u53ea\u770b\u90a3\u4e2a\u65f6\u95f4\u70b9\u7684input $x^t$\uff0c<br>\n",
                "\u8fd8\u770b\u524d\u4e00\u4e2a\u65f6\u95f4\u70b9\u7684output $h^t$\u3002\u5176\u5b9e\u8fd8\u4e0d\u6b62\u8fd9\u6837\uff0c\u8fd8\u4f1a\u52a0\u4e00\u4e2a\u4e1c\u897f\u53eb\u505a\u201cpeephole\u201d\uff0c<br>\n",
                "\u8fd9\u4e2apeephole\u5c31\u662f\u628a\u5b58\u5728memory cell\u91cc\u9762\u7684\u503c\u4e5f\u62c9\u8fc7\u6765\u3002<br>\n",
                "\u90a3\u64cd\u63a7LSTM\u56db\u4e2agate\u7684\u65f6\u5019\uff0c\u4f60\u662f\u540c\u65f6\u8003\u8651\u4e86$x^{t+1}$,$h^t$,$c^t$\uff0c<br>\n",
                "\u4f60\u628a\u8fd9\u4e09\u4e2avector\u5e76\u5728\u4e00\u8d77\u4e58\u4e0a\u4e0d\u540c\u7684transform\u5f97\u5230\u56db\u4e2a\u4e0d\u540c\u7684vector\u518d\u53bb\u64cd\u63a7LSTM\u3002<br>\n",
                "\n"
            ]
        },
        {
            "cell_type": "markdown",
            "metadata": {},
            "source": [
                "#### 3.4 \u591a\u5c42 LSTM\n",
                ""
            ]
        },
        {
            "cell_type": "markdown",
            "metadata": {},
            "source": [
                "\n",
                "\n",
                "![](http://imgbed.momodel.cn/36-23 \u591a\u5c42\u7684LSTM.png)"
            ]
        },
        {
            "cell_type": "markdown",
            "metadata": {},
            "source": [
                "LSTM\u901a\u5e38\u4e0d\u4f1a\u53ea\u6709\u4e00\u5c42\uff0c\u82e5\u6709\u4e94\u516d\u5c42\u7684\u8bdd\u3002<br>\n",
                "\u5927\u6982\u662f\u8fd9\u4e2a\u6837\u5b50\u3002\u6bcf\u4e00\u4e2a\u7b2c\u4e00\u6b21\u770b\u8fd9\u4e2a\u7684\u4eba\uff0c\u53cd\u6620\u90fd\u4f1a\u5f88\u96be\u53d7\u3002<br>\n",
                "\u73b0\u5728\u8fd8\u662f quite standard now\uff0c<br>\n",
                "\u5f53\u6709\u4e00\u4e2a\u4eba\u8bf4\u6211\u7528RNN\u505a\u4e86\u4ec0\u4e48\uff0c\u4f60\u4e0d\u8981\u53bb\u95ee\u4ed6\u4e3a\u4ec0\u4e48\u4e0d\u7528LSTM,\u56e0\u4e3a\u4ed6\u5176\u5b9e\u5c31\u662f\u7528\u4e86LSTM\u3002<br>\n",
                "\u73b0\u5728\u5f53\u4f60\u8bf4\uff0c\u4f60\u5728\u505aRNN\u7684\u65f6\u5019\uff0c\u5176\u5b9e\u4f60\u6307\u7684\u5c31\u7528LSTM\u3002Keras\u652f\u6301\u4e09\u79cdRNN\uff1a\u2018\u2019LSTM\u2018\u2019,\u201cGRU\u201d,\"SimpleRNN\"<br>\n",
                "\n",
                "\n",
                "#### 3.5 GRU\n",
                "\n",
                "![](http://imgbed.momodel.cn/36-24 \u4f7f\u7528keras\u89e3\u51b3.png)",
                "\n",
                "\n",
                "GRU\u662fLSTM\u7a0d\u5fae\u7b80\u5316\u7684\u7248\u672c\uff0c\u5b83\u53ea\u6709\u4e24\u4e2agate\uff0c<br>\n",
                "\u867d\u7136\u5c11\u4e86\u4e00\u4e2agate\uff0c\u4f46\u662fperformance\u8ddfLSTM\u5dee\u4e0d\u591a(\u5c11\u4e861/3\u7684\u53c2\u6570\uff0c\u4e5f\u662f\u6bd4\u8f83\u4e0d\u5bb9\u6613overfitting)\u3002<br>\n",
                "\u5982\u679c\u4f60\u8981\u7528\u8fd9\u5802\u8bfe\u6700\u5f00\u59cb\u8bb2\u7684\u90a3\u79cdRNN\uff0c\u4f60\u8981\u8bf4\u662fsimple RNN\u624d\u884c\u3002<br>\n",
                "\n"
            ]
        }
    ],
    "metadata": {
        "kernelspec": {
            "display_name": "Python 3",
            "language": "python",
            "name": "python3"
        },
        "language_info": {
            "codemirror_mode": {
                "name": "ipython",
                "version": 3
            },
            "file_extension": ".py",
            "mimetype": "text/x-python",
            "name": "python",
            "nbconvert_exporter": "python",
            "pygments_lexer": "ipython3",
            "version": "3.5.2"
        }
    },
    "nbformat": 4,
    "nbformat_minor": 2
}