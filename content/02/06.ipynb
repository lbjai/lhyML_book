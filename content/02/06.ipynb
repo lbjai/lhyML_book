{
    "cells": [
        {
            "cell_type": "markdown",
            "metadata": {},
            "source": [
                "### \u68af\u5ea6\u4e0b\u964d\u6cd5\n",
                "\n",
                "\u7406\u89e3\u68af\u5ea6\u4e0b\u964d\u6cd5\u66f4\u65b0\u53c2\u6570\u65f6\uff0closs\u51fa\u73b0\u4e0d\u964d\u53cd\u589e\u7684\u60c5\u51b5"
            ]
        }
    ],
    "metadata": {
        "kernelspec": {
            "display_name": "Python 3",
            "language": "python",
            "name": "python3"
        },
        "language_info": {
            "codemirror_mode": {
                "name": "ipython",
                "version": 3
            },
            "file_extension": ".py",
            "mimetype": "text/x-python",
            "name": "python",
            "nbconvert_exporter": "python",
            "pygments_lexer": "ipython3",
            "version": "3.6.7"
        }
    },
    "nbformat": 4,
    "nbformat_minor": 2
}