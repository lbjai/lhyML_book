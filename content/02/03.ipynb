{
    "cells": [
        {
            "cell_type": "markdown",
            "metadata": {},
            "source": [
                "\n",
                "### \u8fd9\u8282\u6211\u4eec\u4e3b\u8981\u5b66\u4e60\n",
                "\n",
                "+ \u8bef\u5dee\u7684\u6765\u6e90\n",
                "+ \u504f\u5dee\n",
                "+ \u65b9\u5dee\n",
                "+ \u8fc7\u62df\u5408\u3001\u6b20\u62df\u5408\u4e0e\u8bef\u5dee\u7684\u5173\u7cfb\n",
                "+ \u4ea4\u53c9\u9a8c\u8bc1"
            ]
        },
        {
            "cell_type": "markdown",
            "metadata": {},
            "source": [
                "### 1. \u8bef\u5dee\u7684\u6765\u6e90"
            ]
        },
        {
            "cell_type": "markdown",
            "metadata": {},
            "source": [
                "\n",
                "\u901a\u8fc7\u4e0a\u4e00\u8282\u8bfe\u7684\u5b66\u4e60\uff0c\u6211\u4eec\u77e5\u9053\uff1a\n",
                "+ \u9009\u62e9\u4e0d\u540c\u7684\u51fd\u6570\u96c6\u5c31\u662f\u9009\u62e9\u4e0d\u540c\u7684\u6a21\u578b\uff0c\u5728\u8bad\u7ec3\u96c6\u548c\u6d4b\u8bd5\u96c6\u4e0a\u5f97\u5230\u4e0d\u540c\u7684\u8bef\u5dee (error)\u3002\n",
                "+ \u8d8a\u590d\u6742\u7684\u6a21\u578b\u4e0d\u4e00\u5b9a\u8bef\u5dee\u6700\u5c0f\u3002"
            ]
        },
        {
            "cell_type": "markdown",
            "metadata": {},
            "source": [
                "\u90a3\u4e48\u6211\u4eec\u73b0\u5728\u8ba8\u8bba\u8bef\u5dee\u7684\u6765\u6e90\uff1a\n",
                "+ bias \u504f\u5dee\n",
                "+ variance \u65b9\u5dee\n",
                "\n",
                "\u5982\u679c\u77e5\u9053\u8bef\u5dee\u7684\u6765\u6e90\uff0c\u5c31\u53ef\u4ee5\u91c7\u7528\u9002\u5f53\u7684\u65b9\u6cd5\u6765\u4f18\u5316\u6a21\u578b\u3002"
            ]
        },
        {
            "cell_type": "markdown",
            "metadata": {},
            "source": [
                "### 2. \u8bef\u5dee\u6765\u6e90\u7684\u5b9e\u4f8b\u5206\u6790"
            ]
        },
        {
            "cell_type": "markdown",
            "metadata": {},
            "source": [
                "\n",
                "\u4e0a\u4e00\u8282\u8bfe\u4e2d\uff0c\u6211\u4eec\u9700\u8981\u4f30\u6d4b\u5b9d\u53ef\u68a6\u8fdb\u5316\u540eCP\u503c\u3002\n",
                "\n",
                "\u6211\u4eec\u9700\u8981\u627e\u5230\u4e00\u4e2a\u51fd\u6570\uff0c\u80fd\u591f\u51c6\u786e\u9884\u6d4b\u6bcf\u4e00\u4e2a\u5b9d\u53ef\u68a6\u8fdb\u5316\u540e\u7684 CP \u503c\u3002\n",
                "\n",
                "\u7406\u8bba\u4e0a\uff0c\u6709\u4e00\u4e2a\u6700\u4f73\u7684\u51fd\u6570\uff0c\u6211\u4eec\u8bb0\u4f5c\uff1a$\\widehat{y}=\\widehat{f}(\u5b9d\u53ef\u68a6)$\n",
                "\n",
                "\u5b9e\u9645\u4e0a\u6211\u4eec\u662f\u4e0d\u77e5\u9053\u6700\u4f73\u6a21\u578b\u7684\u3002\n",
                "\n",
                "\u6211\u4eec\u6839\u636e\u8bad\u7ec3\u96c6\u6570\u636e\u627e\u5230\u6700\u597d\u7684\u6a21\u578b\uff0c\u8bb0\u4f5c\uff1a$f^*$\uff08$f^*$  \u662f  $\\widehat{f}$  \u7684\u4f30\u6d4b\u503c\uff09\n",
                "\n",
                "\u5b83\u4eec\u4fe9\u4e4b\u95f4\u7684\u8ddd\u79bb\u5927\u5c0f\u6765\u81ea 2 \u4e2a\u65b9\u9762\uff1a\u53ef\u80fd\u6765\u6e90\u4e8e\u504f\u5dee\uff0c\u4e5f\u53ef\u80fd\u6765\u6e90\u4e8e\u65b9\u5dee\u3002\n",
                "\n",
                "\u90a3\u4e48\u4e00\u4e2a\u8bc4\u4ef7\u6a21\u578b\u7684\u504f\u5dee\u548c\u65b9\u5dee\u6307\u7684\u662f\u4ec0\u4e48\u5462\uff1f\n"
            ]
        },
        {
            "cell_type": "markdown",
            "metadata": {},
            "source": [
                "\n",
                "### 3. \u7406\u89e3\u65b9\u5dee\u548c\u504f\u5dee"
            ]
        },
        {
            "cell_type": "markdown",
            "metadata": {},
            "source": [
                "+ \u4f30\u8ba1\u53d8\u91cf $X$ \u7684\u671f\u671b\n",
                "\n",
                "     + \u5047\u8bbe $x$ \u7684\u5e73\u5747\u503c\u662f $\\mu$\n",
                "     + \u5047\u8bbe $x$ \u7684\u65b9\u5dee\u662f $\\sigma^2$\n",
                "\n",
                "\n",
                "+ \u5747\u503c $\\mu$ \u7684\u4f30\u8ba1\u91cf\n",
                "    + \u7b80\u5355\u53d6\u6837 $N$ \u4e2a\u6837\u672c\u70b9\uff1a{$x^1,x^2,...,x^N$}\n",
                "    + \u8ba1\u7b97 $N$ \u4e2a\u70b9\u7684\u5e73\u5747\u503c\u548c\u65b9\u5dee $s^2$\uff1a\n",
                "    \n",
                "    $m={\\frac{1}{N}\\sum_n{x^n}}$\n",
                "    \n",
                "    $s^2 = \\frac{1}{N}\\sum_{n}(x^n-m)^2$\n",
                "    \n",
                "    + \u5c06\u4ee5\u4e0a\u8bd5\u9a8c\u591a\u6b21\uff0c\u7136\u540e\u8ba1\u7b97 $m$ \u7684\u5e73\u5747\u503c:\n",
                "    \n",
                "    $E[m] = E[\\frac{1}{N}\\sum_n{x^n}]=\\frac{1}{N}\\sum_{n}{E[x^n]}=\\mu$\n",
                "    \n",
                "    $Var[m]=\\frac{\\sigma^2}{N}$\n",
                "    \n",
                "    \u504f\u5dee\u4f30\u8ba1\u503c\uff1a\n",
                "    \n",
                "    $E[s^2]=\\frac{N-1}{N}\\sigma^2 \\neq \\sigma^2$\n",
                "    \n",
                "    m \u5206\u6563\u5728 $\\mu$ \u5468\u56f4\uff0c\u5206\u6563\u7684\u60c5\u5f62\u53d6\u51b3\u4e8e m \u7684\u65b9\u5dee\uff0c\u800c\u65b9\u5dee\u7684\u5927\u5c0f\u53d6\u51b3\u4e8e $N$\u3002\n",
                "    \n",
                "\u3010\u6ce8\u610f\u3011\uff1a\u89c6\u9891\u4e2d\u7684 Larger N \u548c Smaller N \u653e\u53cd\u4e86\u3002\n"
            ]
        },
        {
            "cell_type": "markdown",
            "metadata": {},
            "source": [
                "### 4. \u65b9\u5dee\u548c\u504f\u5dee\u7684\u51e0\u79cd\u60c5\u51b5\n"
            ]
        },
        {
            "cell_type": "markdown",
            "metadata": {},
            "source": [
                "  ![](http://imgbed.momodel.cn/05_01_\u504f\u5dee\u4e0e\u65b9\u5dee.png)\n",
                "\n",
                "\n",
                "\u6211\u4eec\u8981\u4f30\u6d4b\u7684\u662f\u9776\u7684\u4e2d\u5fc3\uff0c\u8fd9\u4e2a\u662f\u6211\u4eec\u7684\u76ee\u6807\u3002\n",
                "\n",
                "\u901a\u8fc7\u8bb8\u591a\u6b21\u8bd5\u9a8c\uff0c\u6211\u4eec\u53d1\u73b0\u4f60\u5176\u4e2d\u4e00\u4e2a\u5c04\u4e2d\u7684\u4f4d\u7f6e\uff0c\u8bb0\u4f5c $f^*$\uff0c\n",
                "\n",
                "\u5b83\u4e0e\u9776\u5fc3\u4e2d\u5fc3 $\\widehat{f}$ \u4e4b\u95f4\u7684\u8ddd\u79bb\uff0c\u5176\u5b9e\u662f\u53d1\u751f\u4e86\u4e24\u4ef6\u4e8b\uff0c\u5373\u7b49\u4ef7\u4e8e\u4ed6\u4eec\u4e4b\u95f4\u7684\u8bef\u5dee\u53d6\u51b3\u4e8e\u4e24\u4ef6\u4e8b\uff1a\n",
                "\n",
                "+ \u7b2c\u4e00\u4ef6\u4e8b\u60c5\u5c31\u662f\uff1a\u4f60\u7784\u51c6\u7684\u4f4d\u7f6e\u5728\u54ea\u91cc\uff1f\n",
                "\n",
                "    \u6362\u53e5\u8bdd\u8bf4\u5c31\u662f\u4f60\u7784\u51c6\u4f4d\u7f6e\u7684\u671f\u671b\u4e0e\u9776\u5fc3\u4e4b\u95f4\u7684\u504f\u5dee\uff0c\u8ba1\u7b97\u5982\u4e0b\uff1a\n",
                "    \n",
                "    $f^*$ \u7684\u5e73\u5747\u503c\uff1a$E[f^*]=\\overline{f}$\uff0c\n",
                "    \n",
                "   \u5373\uff1a\u4f60\u6ca1\u6709\u7784\u51c6\u9776\u5fc3\uff0c\u4f60\u4ee5\u4e3a\u4f60\u7784\u51c6\u7684\u9776\u5fc3\u4e0e\u5b9e\u9645\u7684\u9776\u5fc3\u662f\u6709\u504f\u5dee (bias)\n",
                "    \n",
                "\n",
                "+ \u7b2c\u4e8c\u4ef6\u4e8b\u60c5\u5c31\u662f\uff1a\n",
                "\n",
                "    \u4f60\u7784\u51c6\u7684\u9776\u5fc3 $E[f^*]=\\overline{f}$ \u4e0e\u5c04\u4e2d\u7684\u4f4d\u7f6e $f^*$ \u662f\u6709\u504f\u79fb\u7684\u3002\n",
                "    \n",
                "    \u6240\u4ee5\u6bcf\u6b21\u7684 $f^*$ \u662f\u4e0d\u4e00\u6837\u7684\uff0c\n",
                "    \n",
                "    \u800c\u6bcf\u4e00\u6b21\u7684 $f^*$ \u4e0e $E[f^*]=\\overline{f}$ \u4e4b\u95f4\u7684\u8ddd\u79bb\u5c31\u662f\u65b9\u5dee (variance)\n",
                "\n",
                "\u6240\u4ee5\u8bef\u5dee\u5927\u5c0f\u53d6\u51b3\u4e8e**\u504f\u7f6e\u548c\u65b9\u5dee**\u7684\u5927\u5c0f\u3002\n",
                "\n",
                "\u6211\u4eec\u671f\u5f85\u7684\u662f\u6ca1\u6709\u504f\u5dee\uff08Low Bias\uff09\uff0c\u800c\u4e14\u65b9\u5dee\u8f83\u5c0f\uff08Low Variance\uff09\u3002\n",
                "\n",
                "\u4f46\u662f\u6709\u65f6\u6211\u4eec\u5f97\u5230\u7684\u6709\u65f6\u65b9\u5dee\u5f88\u5c0f\uff0c\u4f46\u662f\u504f\u79bb\u9776\u5fc3\u6bd4\u8f83\u8fdc\uff0c\u6b64\u65f6\u662f High Bias \u548c Low Variance\uff0c\n",
                "\n",
                "\u53c8\u6216\u8005\u6211\u4eec\u5f97\u5230\u662f\u76ee\u6807\u662f\u5206\u6563\u5728\u9776\u5fc3\u5468\u56f4\uff0c\u8fd9\u6837\u4e5f\u4f1a\u5f97\u5230\u4e00\u4e9b\u8bef\u5dee\u3002"
            ]
        },
        {
            "cell_type": "markdown",
            "metadata": {},
            "source": [
                "### **\u591a\u6b21\u8bd5\u9a8c\u5b9d\u53ef\u68a6\u6a21\u578b\u7406\u89e3\u65b9\u5dee\u548c\u504f\u5dee**"
            ]
        },
        {
            "cell_type": "markdown",
            "metadata": {},
            "source": [
                "\u5728\u4e0d\u540c\u7684\u5e73\u884c\u5b87\u5b99\u6293\u5230 10 \u53ea\u5b9d\u53ef\u68a6\u6765\u8ba1\u7b97\u4e0d\u540c\u7684 $f^*$\uff0c\n",
                "\n",
                "\u5728\u4e0d\u540c\u7684\u5b87\u5b99\u4e2d\u6293\u5230\u7684\u5b9d\u53ef\u68a6\u662f\u4e0d\u4e00\u6837\u7684\uff1a\n",
                "\n",
                "+ \u7b2c\u4e00\u4e2a\u5b87\u5b99\u4e2d\u7684\u6211\uff0c\u6293\u5230 10 \u53ea\u5b9d\u53ef\u68a6\uff1b\n",
                "\n",
                "+ \u7b2c\u4e8c\u4e2a\u5b87\u5b99\u4e2d\u7684\u6211(\u8863\u670d\u989c\u8272\u4e0e\u7b2c\u4e00\u4e2a\u4e0d\u540c)\uff0c\u6293\u5230\u53e6\u5916 10 \u53ea\u5b9d\u53ef\u68a6\uff1b\n",
                "\n",
                "+ \u7b2c\u4e09\u4e2a\u5b87\u5b99\u4e2d\u7684\u6211(\u6027\u522b\u5df2\u7ecf\u6362\u6389),\u6293\u5230\u7684\u662f\u5176\u4ed6 10 \u53ea\u5b9d\u53ef\u68a6\uff1b\n",
                "\n",
                "\u6bcf\u4e00\u6b21\u6293\u5230\u7684\u5b9d\u53ef\u68a6\u662f\u4e0d\u4e00\u6837\u7684\u3002\n",
                "\n",
                "\u5982\u679c\u4f60\u62ff\u4e0d\u540c\u7684\u5b9d\u53ef\u68a6\u6765\u627e\u5230\u4f60\u6700\u597d\u7684 function\uff0c\u5c31\u7b97\u4f60\u7528\u540c\u4e00\u4e2a\u6a21\u578b\uff0c\u5f97\u5230\u7684\u7ed3\u679c\u4e5f\u4f1a\u4e0d\u540c\u3002\n",
                "\n",
                "\u5047\u8bbe\u6211\u4eec\u73b0\u5728\u90fd\u7528 $y=b+w \\cdot x_{cp}$ \u8fd9\u4e2a\u6a21\u578b\uff0c\n",
                "\n",
                "\u4f46\u662f\u4f60\u7ed9\u4ed6\u8f93\u5165\u7684 data \u4e0d\u4e00\u6837\uff0c\u6700\u540e\u5f97\u5230\u7684 $f^*$ \u5c31\u4e0d\u4e00\u6837\u3002\n",
                "\n",
                "\u6211\u4eec\u5728 100 \u4e2a\u5e73\u884c\u5b87\u5b99\u4e2d\u5206\u522b\u6293\u53d6 10 \u4e2a\u5b9d\u53ef\u68a6\uff0c\u6bcf\u4e2a\u5e73\u884c\u5b87\u5b99\u4e2d\u90fd\u7528 $y=b+w \\cdot x_{cp}$ \u6a21\u578b\uff0c\n",
                "\n",
                "\u53ef\u4ee5\u5f97\u5230\u4e0d\u540c\u7684 $f^*$ \u7684\u5206\u5e03\u60c5\u51b5\uff0c\u7136\u540e\u5c06\u5f97\u5230 100 \u4e2a\u4e0d\u540c $w$ \u548c $b$\uff0c\u5c06\u6bcf\u4e00\u6761\u76f4\u7ebf\u90fd\u7ed8\u5236\u51fa\u6765\uff0c\u6700\u540e\u5f97\u5230\u7684\u7ed3\u679c\u5982\u56fe\uff1a\n",
                "\n",
                "\u5982\u679c\u91c7\u7528\u4e0d\u540c\u7684 model \u5462\uff1f\n",
                "\n",
                "  ![](http://imgbed.momodel.cn/0502_\u65b9\u5dee.png)\n"
            ]
        },
        {
            "cell_type": "markdown",
            "metadata": {},
            "source": [
                "+ \u65b9\u5dee"
            ]
        },
        {
            "cell_type": "markdown",
            "metadata": {},
            "source": [
                "\u5982\u679c\u5168\u90e8\u91c7\u7528\u76f4\u7ebf\u6a21\u578b\uff0c\u5f97\u5230\u7684\u65b9\u5dee\u5c31\u6bd4\u8f83\u5c0f\u3002\n",
                "\n",
                "\u5982\u679c\u7528\u6bd4\u8f83\u590d\u6742\u7684\u6a21\u578b\uff0c\u8bef\u5dee\u70b9\u6563\u7684\u6bd4\u8f83\u5f00\uff0c\u65b9\u5dee\u5c31\u6bd4\u8f83\u5927\uff0c\u800c\u4e14\u5404\u79cd\u66f2\u7ebf\u957f\u5f97\u90fd\u4e0d\u50cf\u3002"
            ]
        },
        {
            "cell_type": "markdown",
            "metadata": {},
            "source": [
                "+ \u504f\u5dee "
            ]
        },
        {
            "cell_type": "markdown",
            "metadata": {},
            "source": [
                "\u504f\u5dee\uff1a\u6211\u4eec\u6709\u5f88\u591a $f^*$\uff0c\u627e\u5230\u5b83\u4eec\u7684\u671f\u671b\u503c $E[f^*]=\\overline{f}$\uff0c\u63cf\u8ff0 $\\overline{f}$ \u4e0e $\\widehat{f}$ \u63a5\u8fd1\u7a0b\u5ea6\u3002\n",
                "\n",
                "\u5982\u679c\u504f\u5dee\u6bd4\u8f83\u5927\uff0c\u8bf4\u660e $\\overline{f}$ \u4e0e\u9776\u5fc3 $\\widehat{f}$ \u8ddd\u79bb\u8f83\u5927\uff1b\n",
                "\n",
                "\u5982\u679c\u504f\u5dee\u6bd4\u8f83\u5c0f\uff0c\u8bf4\u660e $\\overline{f}$ \u4e0e\u9776\u5fc3 $\\widehat{f}$ \u8ddd\u79bb\u8f83\u5c0f\uff1b\n",
                "\n",
                "\u5b9e\u9645\u6d4b\u91cf\u65f6\uff0c\u65e0\u6cd5\u6e05\u6670\u7684\u83b7\u53d6 $\\widehat{f}$ \u7684\u4f4d\u7f6e\uff0c\u6545\u5047\u8bbe\u4e00\u6761\u66f2\u7ebf\u4f5c\u4e3a $\\widehat{f}$\uff0c\n",
                "\n",
                "\u5b9d\u53ef\u68a6\u4f9d\u6b21 $\\widehat{f}$ \u66f2\u7ebf\u4e0a\u53d6\u6837 10 \u4e2a\u70b9\uff0c\u7136\u540e\u6c42\u53d6 $\\overline{f}$\u3002\n",
                "\n",
                "  ![](http://imgbed.momodel.cn/0503_\u504f\u5dee.png)\n",
                "\n",
                "\u8bd5\u9a8c\u7ed3\u679c\uff1a\n",
                "\n",
                "+ \u9ed1\u8272\u66f2\u7ebf\uff1a\u771f\u5b9e\u7684\u9776\u5fc3\u4f4d\u7f6e $\\widehat{f}$\n",
                "\n",
                "+ \u7ea2\u8272\u90e8\u5206\uff1a\u8868\u793a\u6211\u4eec\u505a 5000 \u6b21\u8bd5\u9a8c\u5f97\u5230\u7684 $f^*$\n",
                "\n",
                "+ \u84dd\u8272\u66f2\u7ebf\uff1a\u8868\u793a 5000 \u6b21\u8bd5\u9a8c $f^*$ \u7684\u5e73\u5747\u503c $\\overline{f}$\n",
                "\n",
                "\u7136\u540e\u5206\u522b\u7528\u4e09\u6b21\u5f0f\u548c\u4e94\u6b21\u5f0f\u8fdb\u884c\u8bd5\u9a8c\uff0c\u53d1\u73b0\u4e94\u6b21\u5f0f\u4e2d\u6bcf\u4e00\u4e2a\u5dee\u8ddd\u5f88\u5927\uff0c\u4f46\u662f\u5e73\u5747\u540e\u7684\u84dd\u7ebf\u548c\u5b9e\u9645\u4e2d\u5fc3\u9ed1\u7ebf\u5f88\u63a5\u8fd1\u3002\n",
                "\n",
                "**\u603b\u7ed3\uff1a**\n",
                "\n",
                "+ \u7b80\u5355\u6a21\u578b\u5f97\u5230\u7684\u504f\u5dee\u6bd4\u8f83\u5927\uff0c\u65b9\u5dee\u8f83\u5c0f\u3002\n",
                "\n",
                "+ \u590d\u6742\u6a21\u578b\u5f97\u5230\u7684\u504f\u5dee\u6bd4\u8f83\u5c0f\uff0c\u65b9\u5dee\u8f83\u5927\u3002"
            ]
        },
        {
            "cell_type": "markdown",
            "metadata": {},
            "source": [
                "### 5. \u6b20\u62df\u5408\u548c\u8fc7\u62df\u5408\u4e0e\u8bef\u5dee\u4e4b\u95f4\u7684\u5173\u7cfb\n",
                "\n",
                "+ \u5982\u4f55\u77e5\u9053\u9047\u5230\u7684\u95ee\u9898\u662f\u504f\u5dee\u8f83\u5927\u8fd8\u662f\u65b9\u5dee\u8f83\u5927\u5462\uff1f\n",
                "\n",
                "\u5982\u679c\u6a21\u578b\u4e0d\u80fd\u591f\u62df\u5408\u8bad\u7ec3\u96c6\uff0c\u5219\u662f\u504f\u5dee\u6bd4\u8f83\u5927\uff0c\u6b64\u65f6\u662f**\u6b20\u62df\u5408**\uff0c\n",
                "\n",
                "\u5982\u679c\u6a21\u578b\u80fd\u591f\u5f88\u597d\u7684\u62df\u5408\u6570\u636e\uff0c\u4f46\u662f\u5728\u6d4b\u8bd5\u96c6\u4e0a\u6709\u8f83\u5927\u7684\u8bef\u5dee\uff0c\u6b64\u65f6\u6a21\u578b\u53ef\u80fd\u6709\u8f83\u5927\u7684\u65b9\u5dee\uff0c\u6b64\u65f6\u662f**\u8fc7\u62df\u5408**\u3002\n",
                "\n",
                "  ![](http://imgbed.momodel.cn/0504_\u6b20\u62df\u5408\u4e0e\u8fc7\u62df\u5408.png)"
            ]
        },
        {
            "cell_type": "markdown",
            "metadata": {},
            "source": [
                "+ \u6b20\u62df\u5408\u89e3\u51b3\u65b9\u5f0f\uff1a\n",
                "    + \u6dfb\u52a0\u66f4\u591a\u7684\u7279\u5f81\n",
                "    + \u9009\u62e9\u66f4\u590d\u6742\u7684\u6a21\u578b"
            ]
        },
        {
            "cell_type": "markdown",
            "metadata": {},
            "source": [
                "+ \u8fc7\u62df\u5408\u89e3\u51b3\u65b9\u5f0f\uff1a\n",
                "    + \u589e\u52a0\u6570\u636e(\u975e\u5e38\u6709\u6548\u4f46\u6709\u70b9\u4e0d\u5b9e\u9645)\n",
                "    + \u6b63\u5219\u5316"
            ]
        },
        {
            "cell_type": "markdown",
            "metadata": {},
            "source": [
                "+ \u6a21\u578b\u9009\u62e9\u6ce8\u610f\u4e8b\u9879\uff1a\n",
                "    +  \u5728\u65b9\u5dee\u548c\u504f\u5dee\u4e4b\u95f4\u627e\u5230\u5e73\u8861\n",
                "    +  \u9009\u62e9\u4e00\u4e2a\u80fd\u591f\u4f7f\u5f97\u504f\u5dee\u548c\u65b9\u5dee\u7efc\u5408\u8bef\u5dee\u6700\u5c0f\u7684\u6a21\u578b\n",
                "    +  \u4e0d\u80fd\u591f\u505a\u7684\uff1a\n",
                "\n",
                "\u4e0d\u80fd\u591f\u6839\u636e private testing set \u7684\u8bef\u5dee\u6765\u9009\u62e9\u6a21\u578b\uff0c\u8981\u8003\u8651 public testing set\uff0c\u6545\u53ef\u4ee5\u91c7\u7528\u4ea4\u53c9\u9a8c\u8bc1\u6765\u89e3\u51b3\u8fd9\u4e2a\u95ee\u9898\u3002\n",
                "   "
            ]
        },
        {
            "cell_type": "markdown",
            "metadata": {},
            "source": [
                "### 6. \u4ea4\u53c9\u9a8c\u8bc1\n",
                "\n",
                "![](http://imgbed.momodel.cn/0505_\u4ea4\u53c9\u9a8c\u8bc1.png)",
                "\n",
                "\u4e00\u822c\u6570\u636e\u96c6\u5206\u4e3a\u8bad\u7ec3\u96c6\u548c\u6d4b\u8bd5\u96c6\uff0c\u5c06\u8bad\u7ec3\u96c6\u5206\u4e3a\u8bad\u7ec3\u96c6\u548c\u9a8c\u8bc1\u96c6\uff0c\u7136\u540e\u6839\u636e\u9a8c\u8bc1\u96c6\u4e0a\u7684\u8bef\u5dee\u9009\u62e9\u6a21\u578b\uff0c\n",
                "\n",
                "\u4ece\u800c\u6765\u5f97\u5230\u6d4b\u8bd5\u96c6\u4e0a\u7684\u8bef\u5dee\u3002\n",
                "\n",
                "\u4e00\u822c\u6d4b\u8bd5\u96c6\u4e0a\u7684\u8bef\u5dee\u5927\u4e8e\u9a8c\u8bc1\u96c6\u4e0a\u7684\u8bef\u5dee\u3002\n",
                "\n",
                "**\u4e0d\u8981\u56e0\u4e3a\u6d4b\u8bd5\u4e0a\u7684\u8bef\u5dee\u5927\u4e8e\u9a8c\u8bc1\u96c6\u4e0a\u7684\u8bef\u5dee\u800c\u5728\u6a21\u578b\u4e0a\u505a\u5de5\u4f5c\uff0c\u6b64\u65f6\u76f8\u5f53\u4e8e\u628a\u6d4b\u8bd5\u96c6\u4e0a\u7684\u504f\u5dee\u8003\u8651\u8fdb\u53bb\u3002**"
            ]
        },
        {
            "cell_type": "markdown",
            "metadata": {},
            "source": [
                "+ **n-\u6298\u4ea4\u53c9\u9a8c\u8bc1**\n",
                "\n",
                "  ![](http://imgbed.momodel.cn/0506_n\u6298\u4ea4\u53c9\u9a8c\u8bc1.png)"
            ]
        },
        {
            "cell_type": "markdown",
            "metadata": {},
            "source": [
                "\u56fe\u793a\u662f 3-\u6298\u4ea4\u53c9\u9a8c\u8bc1\uff0c\u5373\u5c06\u8bad\u7ec3\u96c6\u5206\u6210 3 \u4efd\uff0c\u6bcf\u4e00\u6b21\u62ff\u5176\u4e2d 1 \u4efd\u4f5c\u4e3a\u9a8c\u8bc1\u96c6\uff0c\u53e6\u5916 2 \u4efd\u4f5c\u4e3a\u8bad\u7ec3\u96c6\u3002\n",
                "\n",
                "\u7136\u540e\u6bcf\u4e00\u6b21\u5206\u522b\u5f97\u5230\u6a21\u578b\u7684\u8bef\u5dee\uff0c\u6bcf\u4e00\u4e2a\u6a21\u578b\u5bf9\u5e94\u7684\u8bad\u7ec3 3 \u6b21\uff0c\u7136\u540e\u5f97\u5230\u6bcf\u4e00\u4e2a\u6a21\u578b\u7684\u5e73\u5747\u8bef\u5dee\u3002\n",
                "\n",
                "\u9009\u62e9\u5e73\u5747\u8bef\u5dee\u6700\u5c0f\u7684\u90a3\u4e2a\u6a21\u578b\u5373\u53ef\uff0c\u7136\u540e\u5c06\u9009\u62e9\u7684\u6a21\u578b\u5728\u8bad\u7ec3\u96c6\u4e0a\u8dd1\u4e00\u904d\u540e\u5728\u6d4b\u8bd5\u96c6\u4e0a\u4f7f\u7528\u3002\n"
            ]
        }
    ],
    "metadata": {
        "kernelspec": {
            "display_name": "Python 3",
            "language": "python",
            "name": "python3"
        },
        "language_info": {
            "codemirror_mode": {
                "name": "ipython",
                "version": 3
            },
            "file_extension": ".py",
            "mimetype": "text/x-python",
            "name": "python",
            "nbconvert_exporter": "python",
            "pygments_lexer": "ipython3",
            "version": "3.6.7"
        }
    },
    "nbformat": 4,
    "nbformat_minor": 2
}