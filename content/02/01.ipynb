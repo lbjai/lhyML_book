{
    "cells": [
        {
            "cell_type": "markdown",
            "metadata": {},
            "source": [
                "\n",
                "### \u7ebf\u6027\u56de\u5f52\u7684\u6848\u4f8b\u7814\u7a76\n",
                "\n",
                "\n",
                "+ \u7ebf\u6027\u56de\u5f52\u6a21\u578b\u7684\u5e94\u7528\u573a\u666f\n",
                "+ \u673a\u5668\u5b66\u4e60\u76f8\u5173\u7684\u540d\u8bcd\uff0c\u6bd4\u5982\uff1a\u7279\u5f81\u3001\u6a21\u578b\u3001\u635f\u5931\u51fd\u6570\u3001\u8bad\u7ec3\u96c6\u3001\u6d4b\u8bd5\u96c6\u3001\u8bef\u5dee\u3001\u7ebf\u6027\u6a21\u578b\u3001\u8fc7\u62df\u5408\u7b49\n",
                "+ \u7ebf\u6027\u56de\u5f52\u6a21\u578b\u7684\u539f\u7406\u548c\u5b9e\u73b0\u6d41\u7a0b\n",
                "+ \u68af\u5ea6\u4e0b\u964d\u6cd5\n",
                "+ \u8fc7\u62df\u5408\u4ea7\u751f\u7684\u539f\u56e0\u4ee5\u53ca\u89e3\u51b3\u65b9\u6cd5\n",
                "+ \u6b63\u5219\u5316"
            ]
        },
        {
            "cell_type": "markdown",
            "metadata": {},
            "source": [
                "### 1. \u56de\u5f52\u7684\u5b9a\u4e49\n",
                "\n",
                "\u56de\u5f52\u6a21\u578b\uff1a\n",
                "+ \u8f93\u5165\uff1a\u9884\u6d4b\u5bf9\u8c61\u7684\u5404\u79cd\u5df2\u6709\u4fe1\u606f\n",
                "\n",
                "+ \u8f93\u51fa\uff1a\u8f93\u51fa\u503c\u662f\u4e00\u4e2a\u6570\u5b57\n",
                "\n",
                "\u56de\u5f52\u6a21\u578b\u53ef\u4ee5\u505a\u5f88\u591a\u4e8b\u60c5\u3002\u6bd4\u5982\u9053\u743c\u65af\u6307\u6570\u9884\u6d4b\u3001\u81ea\u52a8\u9a7e\u9a76\u4e2d\u7684\u65b9\u5411\u76d8\u89d2\u5ea6\u9884\u6d4b\uff0c\n",
                "\n",
                "\u4ee5\u53ca\u63a8\u8350\u7cfb\u7edf\u4e2d\u9884\u6d4b\u5ba2\u6237\u8d2d\u4e70\u67d0\u79cd\u5546\u54c1\u7684\u53ef\u80fd\u6027\u7b49\u7b49\u3002\n",
                "\n",
                "\u674e\u8001\u5e08\u8bfe\u7a0b\u4e2d\u7684\u6848\u4f8b\u662f\u8fd0\u7528\u56de\u5f52\u6a21\u578b\u6765\u9884\u6d4b\u5b9d\u53ef\u68a6 (pokemons) \u8fdb\u5316\u540e\u7684CP\u503c\u3002\n"
            ]
        },
        {
            "cell_type": "markdown",
            "metadata": {},
            "source": [
                "&nbsp;\n",
                "+ \u9884\u6d4b\u80a1\u7968\u5e02\u573a\n",
                "\n",
                "  ![](http://imgbed.momodel.cn/03_1.png)\n"
            ]
        },
        {
            "cell_type": "markdown",
            "metadata": {},
            "source": [
                "+ \u5546\u54c1\u63a8\u8350\n",
                "\n",
                "  ![](http://imgbed.momodel.cn/3.png)"
            ]
        },
        {
            "cell_type": "markdown",
            "metadata": {},
            "source": [
                "<br>"
            ]
        },
        {
            "cell_type": "markdown",
            "metadata": {},
            "source": [
                "\n",
                "\n",
                "### 2. \u56de\u5f52\u6a21\u578b\u6848\u4f8b\uff1a\u9884\u6d4b\u5b9d\u53ef\u68a6\u8fdb\u5316\u540e\u7684CP\u503c\n"
            ]
        },
        {
            "cell_type": "markdown",
            "metadata": {},
            "source": [
                "\n",
                "\u6839\u636e\u5b9d\u53ef\u68a6\u5df2\u6709\u7684\u653b\u51fb\u529b Combat Power(CP) \uff0c\u4f30\u7b97\u51fa\u5b83\u8fdb\u5316\u540e\u7684\u653b\u51fb\u529b (CP) \u3002\n",
                "\n",
                "\u8fd9\u91cc\u6211\u4eec\u7684\u4efb\u52a1\u5c31\u662f\u627e\u5230\u4e00\u4e2a function \uff0c\u80fd\u591f\u51c6\u786e\u9884\u6d4b\u5b9d\u53ef\u68a6\u7684CP\u503c\u3002\n",
                "\n",
                "function \u7684\u8f93\u5165\u5c31\u662f\u5b9d\u53ef\u68a6\u8fdb\u5316\u524d\u7684\u5404\u79cd\u8d44\u8baf\u4fe1\u606f\uff0c\u8f93\u51fa\u5c31\u662f\u5b9d\u53ef\u68a6\u7684CP\u503c\u3002\n",
                "\n",
                "\u5728\u8fd9\u91cc\u6211\u4eec\u4f7f\u7528\u7b2c\u4e00\u8282\u7684\u673a\u5668\u5b66\u4e60\u4e09\u5927\u6b65\u9aa4\u6d41\u7a0b\u6765\u5904\u7406\uff1a\n",
                "\n",
                "- \u7b2c\u4e00\u6b65 \uff1a\u9009\u62e9\u4e00\u7cfb\u5217\u7684\u51fd\u6570\uff08a set of function\uff09\uff0c\u5373\u9009\u62e9\u4e00\u4e2a\u6a21\u578b\uff08model\uff09\n",
                "\n",
                "- \u7b2c\u4e8c\u6b65 \uff1a\u8bc4\u4ef7\u51fd\u6570\u7684\u4f18\u52a3\uff08goodness of function\uff09\n",
                "\n",
                "- \u7b2c\u4e09\u6b65 \uff1a\u9009\u51fa\u6700\u597d\u7684\u90a3\u4e2a\u51fd\u6570\uff08best function\uff09\n"
            ]
        },
        {
            "cell_type": "markdown",
            "metadata": {},
            "source": [
                "#### 2.1 \u7b2c\u4e00\u6b65\uff1a\u5efa\u7acb\u673a\u5668\u5b66\u4e60\u6a21\u578b\n",
                "\n",
                "\n",
                "\u4e00\u53ea\u5b9d\u53ef\u68a6\u53ef\u75315\u4e2a\u53c2\u6570\u8868\u793a\uff0c$x=(x_{cp}, x_s, x_{hp}, x_w, x_h)$ \u3002\n",
                "\n",
                "\u6211\u4eec\u7684\u6a21\u578b\u5148\u9009\u62e9**\u7ebf\u6027\u6a21\u578b**\uff0c\u5bf9\u4ee5\u4e0a\u7684\u8f93\u5165\u89e3\u91ca\uff1a\n",
                "\n",
                "$x_{cp}$\uff1a\u5b9d\u53ef\u68a6\u8fdb\u5316\u524d\u7684CP\u503c\uff1b\n",
                "\n",
                "$x_s$\uff1a\u5b9d\u53ef\u68a6\u7684\u7269\u79cd(\u79cd\u7c7b)\uff1b\n",
                "\n",
                "$x_{hp}$\uff1a\u5b9d\u53ef\u68a6\u7684HP\u503c\uff1b\n",
                "\n",
                "$x_w$\uff1a\u5b9d\u53ef\u68a6\u7684\u91cd\u91cf\uff1b\n",
                "\n",
                "$x_h$\uff1a\u5b9d\u53ef\u68a6\u7684\u9ad8\u5ea6\uff0c\n",
                "\n",
                "\u8f93\u51fa\uff1a\n",
                "$y$\uff1a\u4e00\u4e2a\u6570\u503c\uff0c\u8868\u793a\u5b9d\u53ef\u68a6\u8fdb\u5316\u540e\u7684CP\u503c\u3002\n",
                "\n",
                "\n",
                "  ![](http://imgbed.momodel.cn/03_4.png)\n",
                "\n",
                "\n",
                "\u6211\u4eec\u5047\u8bbe\u8f93\u51fa\u503c y \u4e0e\u8f93\u5165\u503c $x_{cp}$ \u6709\u8fd9\u6837\u7684\u5173\u7cfb\uff1a\n",
                "\n",
                "$y=b+w\u00b7x_{cp}$ \uff08$w$ \u548c $b$ \u79f0\u4f5c\u53c2\u6570\uff0c\u53ef\u4ee5\u662f\u4efb\u4f55\u503c\uff09\n",
                "\n",
                "**\u5bf9\u4e8e\u4e0d\u540c\u7684\u5bf9 $w$ \u548c $b$ \uff0c\u5f97\u5230\u7684\u6a21\u578b\u4e5f\u4e0d\u5c3d\u76f8\u540c\uff0c\u800c\u6211\u4eec\u9700\u8981\u627e\u5230\u6700\u9002\u5408\u7684\u6a21\u578b\u3002**\n",
                "\n",
                "\u5bf9 $w$\uff0c $b$ \u8f93\u5165\u4e0d\u540c\u7684\u503c\uff0c\u5f97\u5230\u7684 function \u5c31\u662f function set\uff0c\n",
                "\n",
                "function set \u5305\u542b $f_1$\uff0c$f_2$\uff0c$f_3$ \u7b49\u5404\u79cd\u6a21\u578b\u3002\n",
                "\n",
                "\u8fd9\u91cc\u9762\u7684\u6a21\u578b\u6709\u5408\u7406\u7684\uff0c\u4e5f\u6709\u4e0d\u5408\u7406\u7684\uff0c\n",
                "\n",
                "\u6bd4\u5982 $f_3$ \u5c31\u4e0d\u5408\u7406\uff0c\u56e0\u4e3a $w$\uff0c$b$ \u82e5\u90fd\u662f\u8d1f\u6570\uff0c\u800c\u5219\u8f93\u51fa\u503c y \u5c31\u662f\u8d1f\u6570\uff0c\n",
                "\n",
                "CP\u503c\u662f\u8d1f\u6570\uff0c\u663e\u7136\u662f\u4e0d\u5408\u7406\u7684\u3002\n",
                "\n",
                "\u6709\u65e0\u7a77\u591a\u4e2a\u51fd\u6570\u5c31\u7ec4\u6210\u4e86\u7ebf\u6027\u6a21\u578b\uff0c\u5173\u7cfb\u8868\u8fbe\u5f0f\u5982\u4e0b\uff1a\n",
                "\n",
                "**$y = b+\\sum w_ix_i $**\n",
                "\n",
                "\u5176\u4e2d $x_i:(x_{cp}, x_s, x_{hp}, x_w, x_h ...)$\uff0c\u8f93\u5165\u503c\u5b9d\u53ef\u68a6\u7684\u7279\u5f81 $x_i$ \u88ab\u79f0\u4f5c\u7279\u5f81\uff0c\n",
                "\n",
                "$w_i$ \u79f0\u4f5c\u6743\u91cd\uff0c$b$ \u79f0\u4f5c\u504f\u7f6e\u3002\n",
                "\n",
                "\u5230\u76ee\u524d\u4e3a\u6b62\uff0c\u6211\u4eec\u5df2\u7ecf\u53ea\u505a\u597d\u4e86\u4e00\u4e2a model\u3002\n"
            ]
        },
        {
            "cell_type": "markdown",
            "metadata": {},
            "source": [
                "#### 2.2 \u7b2c\u4e8c\u6b65\uff1a\u8bc4\u4ef7\u6a21\u578b\n",
                "\n",
                "\u5b83\u7c7b\u4f3c\u4e8e\u51fd\u6570\u7684\u51fd\u6570\uff0c\u6211\u4eec\u8f93\u5165\u4e00\u4e2a\u51fd\u6570\uff0c\u8f93\u51fa\u7684\u662f how bad it is\uff0c\u8fd9\u5c31\u9700\u8981\u5b9a\u4e49\u4e00\u4e2a\u635f\u5931\u51fd\u6570\uff0c\u7528\u6765\u5224\u65ad\u6211\u4eec\u6a21\u578b\u7684\u597d\u574f\u3002<br/>\n",
                "\n",
                "\n",
                "\u7528\u5df2\u7ecf\u77e5\u9053\u7684\u4e0d\u540c\u7684\u8f93\u5165\u503c\u53ef\u4ee5\u8bad\u7ec3\u51fa\u6765\u4e0d\u540c\u7684\u5b9d\u53ef\u68a6\u7684 CP \u503c\u3002\n",
                "\n",
                "\u4e0b\u56fe\u662f 10 \u53ea\u5b9d\u53ef\u68a6\u7684\u6570\u636e\u96c6\uff0c\u5176\u4e2d\uff1a\n",
                "\n",
                "$ x^{1},...,x^{10}$ \u8868\u793a10\u53ea\u5b9d\u53ef\u68a6\u8fdb\u5316\u524d\u7684\u4fe1\u606f\u503c\n",
                "\n",
                "$ y^{1},...,y^{10}$ \u8868\u793a10\u53ea\u5b9d\u53ef\u68a6\u8fdb\u5316\u540e\u7684CP\u503c\n",
                "\n",
                "  ![](http://imgbed.momodel.cn/03_5.png)\n"
            ]
        },
        {
            "cell_type": "markdown",
            "metadata": {},
            "source": [
                "\n",
                "\n",
                "  ![](http://imgbed.momodel.cn/03_6.png)\n",
                "\n",
                "\u6a21\u578b\u7684\u5e73\u65b9\u635f\u5931\u51fd\u6570\uff1a\n",
                "\n",
                "$L(f) = \\sum_{n=1}^{10}[y^n-f(x_{cp}^n )]^2 $\n",
                "\n",
                "\u5176\u4e2d\uff1a\n",
                "    $y^n$ \u8868\u793a\u7b2cn\u4e2a\u5b9d\u53ef\u68a6CP\u7684\u7684\u771f\u5b9e\u503c<br/>\n",
                "    \n",
                "&emsp;&emsp;  $f(x_{cp}^n)$ \u8868\u793a\u7b2c$n$\u53ea\u5b9d\u53ef\u68a6CP\u7684\u9884\u6d4b\u503c<br/>\n"
            ]
        },
        {
            "cell_type": "markdown",
            "metadata": {},
            "source": [
                "<br/>\n",
                "\u8003\u8651\u5230\u9884\u6d4b\u503cy\u4e0e\u53c2\u6570$w$\u548c$b$\u7684\u5173\u7cfb,\u5c06\u4e0a\u5f0f\u8f6c\u5316\u5982\u4e0b\uff1a\n",
                "\n",
                "$ L(f) = \\sum_{n=1}^{10}[y^n-(b+w\u00b7x_{cp}^n)]^2$\n",
                "\n",
                "  ![](http://imgbed.momodel.cn/03_7.png)\n",
                "\n",
                "\n",
                "\u4e0a\u56fe\u4e3a\u4e8c\u7ef4\u5e73\u9762\u56fe\uff0c\u56fe\u4e2d\u6bcf\u4e00\u4e2a\u70b9\u4ee3\u8868\u4e00\u4e2afunction\uff0c\n",
                "\n",
                "\u6a2a\u8f74\u8868\u793a $b$ \u7684\u5927\u5c0f\uff0c\u7eb5\u8f74\u8868\u793a $w$ \u7684\u5927\u5c0f\uff0c\u989c\u8272\u7684\u6df1\u6d45\u8868\u793a loss \u503c\u7684\u5927\u5c0f\uff0c\n",
                "\n",
                "\u7ea2\u989c\u8272\u8868\u793a loss \u7684\u503c\u8d8a\u5927\uff0c\u7eff\u7070\u8272\u8868\u793a loss \u7684\u503c\u8d8a\u5c0f\u3002\n",
                "\n",
                "\u6bd4\u5982\uff1a$w$ \u4e3a\u8d1f\u6570\u8d8a\u5c0f\uff0c\u9884\u6d4b\u51fa\u6765\u7684 CP \u503c\u4e0e\u5b9e\u9645\u7684 CP \u503c\u5dee\u8ddd\u4e5f\u5c31\u8d8a\u5927\uff0c\u7ea2\u989c\u8272\u4e5f\u5c31\u8d8a\u6df1\u3002\n",
                "\n",
                "\u4f46\u662f\u5728\u5b9e\u9645\u5de5\u4f5c\u4e2d\uff0c\u53c2\u6570\u6bd4\u8f83\u591a\uff0c\u6240\u4ee5\u65e0\u6cd5\u4f7f\u7528\u7a77\u4e3e\u6cd5\u6765\u9009\u62e9\u6a21\u578b\u3002\n",
                "\n"
            ]
        },
        {
            "cell_type": "markdown",
            "metadata": {},
            "source": [
                "#### 2.3 \u7b2c\u4e09\u6b65\uff1a\u5982\u4f55\u6311\u9009\u5230\u6700\u597d\u7684\u6a21\u578b\n",
                "\n",
                "\n",
                "\u6bcf\u4e2a function \u90fd\u6709\u81ea\u5df1\u7684\u635f\u5931\u503c\uff0c\u9009\u62e9\u6700\u597d\u7684\u6a21\u578b\u5373\u662f\u9009\u62e9\u635f\u5931\u51fd\u6570\u503c\u6700\u5c0f\u7684 function\u3002\n",
                "\n",
                "  ![](http://imgbed.momodel.cn/03_11.png)\n",
                "\n",
                "\u6c42\u89e3\u6700\u4f18\u53c2\u6570\u7684\u65b9\u6cd5(\u56fe\u7247\u4e2d\u6700\u540e\u4e00\u4e2a\u5f0f\u5b50)\u53ef\u4ee5\u7528\u7ebf\u6027\u4ee3\u6570\u7684\u57fa\u672c\u516c\u5f0f\u6765\u76f4\u63a5\u8ba1\u7b97\u51fa\u6700\u4f73\u7684 w \u548c b\u3002\n",
                "\n",
                "\u5f53\u7279\u5f81\u975e\u5e38\u591a\u65f6\uff0c\u6211\u4eec\u5c31\u53ef\u4ee5\u7528 **\u68af\u5ea6\u4e0b\u964d\u6cd5 (Gradient Descent) ** \u8fdb\u884c\u6c42\u89e3\u3002\n"
            ]
        },
        {
            "cell_type": "markdown",
            "metadata": {},
            "source": [
                "<br/>"
            ]
        },
        {
            "cell_type": "markdown",
            "metadata": {},
            "source": [
                "### 3. \u68af\u5ea6\u4e0b\u964d\u6cd5(Gradient Descent)\n",
                "\n",
                "#### 3.1 \u6211\u4eec\u9996\u5148\u4ec5\u4ec5\u8003\u8651\u4e00\u4e2a\u53c2\u6570 $w$ \u5bf9\u635f\u5931\u51fd\u6570\uff08loss function $L(w)$\uff09\u7684\u5f71\u54cd\n",
                "\n",
                "  ![](http://imgbed.momodel.cn/03_12.png)"
            ]
        },
        {
            "cell_type": "markdown",
            "metadata": {},
            "source": [
                "\u5f53\u6211\u4eec\u5728 $L(w)$ \u7684\u4e8c\u7ef4\u5e73\u9762\u4e2d\u65f6\uff0c\u6211\u4eec\u5fc5\u987b\u8981\u627e\u5230\u51fd\u6570\u7684\u6700\u4f4e\u70b9\u3002"
            ]
        },
        {
            "cell_type": "markdown",
            "metadata": {},
            "source": [
                "\n",
                "\u5728\u56fe\u50cf\u4e0a\u6211\u4eec\u5f88\u5bb9\u6613\u5f97\u5230\u5168\u5c40\u6700\u4f18\u89e3\u7684\u4f4d\u7f6e\uff0c\u4f46\u662f\u91c7\u7528 Gradient Descent\uff0c\u6b65\u9aa4\u5982\u4e0b\uff1a\n",
                "\n",
                "+ \u7b2c\u4e00\u6b65\uff1a\u968f\u673a\u6311\u9009\u51fa\u6765\u4e00\u4e2a $w_0$\uff0c\u6216\u8005\u79f0\u4e3a $w$ \u521d\u59cb\u5316\uff1b\n",
                "\n",
                "+ \u7b2c\u4e8c\u6b65\uff1a\u8ba1\u7b97\u635f\u5931\u51fd\u6570\u5728 $w_0$ \u5904\u7684\u68af\u5ea6(\u5207\u7ebf\u659c\u7387) $\\frac{dL}{dw}|_{w=w^0}$\n",
                "\n",
                "    \u5982\u679c $\\frac{dL}{dw}|_{w=w^0} $ \u4e3a\u8d1f\u6570 (Negative)\uff0c\u90a3\u4e48\u5c31\u589e\u52a0 (Increase) $w$\n",
                "\n",
                "    \u5982\u679c $\\frac{dL}{dw}|_{w=w^0} $ \u4e3a\u6b63\u6570 (Positive)\uff0c\u90a3\u4e48\u5c31\u51cf\u5c11 (Decrease) $w$\n",
                "\n",
                "    \u7efc\u5408\u4e0a\u9762\u4e24\u79cd\u60c5\u51b5\u540e\u7684\u6570\u5b66\u8868\u8fbe\u5f0f\uff1a\n",
                "    \n",
                "    **$w^1 = w^0 - \u03b7\\frac{dL}{dw}|_{w=w^0}$**\n",
                "\n",
                "    $\u03b7$\uff1a\u5b66\u4e60\u7387 (learning rate)\uff0c\u624b\u52a8\u8bbe\u7f6e\u53c2\u6570\u3002\n",
                "    \n",
                "    \u5b66\u4e60\u7387\u5982\u679c\u8bbe\u7f6e\u6bd4\u8f83\u5927\uff0c\u5b66\u4e60\u6bd4\u8f83\u5feb\uff0c\u6bcf\u6b21\u6b65\u4f10\u8de8\u7684\u6bd4\u8f83\u5927\uff1b\n",
                "    \n",
                "    \u5982\u679c\u6bd4\u8f83\u5c0f\uff0c\u5b66\u4e60\u76f8\u5bf9\u5c31\u6162\u4e00\u70b9\uff0c\u6bcf\u6b21\u8de8\u7684\u6b65\u4f10\u5c31\u5c0f\u4e00\u70b9\u3002\n",
                "\n",
                "+ \u7b2c\u4e09\u6b65\uff1a\u8fed\u4ee3\u7b2c\u4e8c\u6b65\u3002\n",
                "\n",
                "\u6839\u636e\u7b2c\u4e8c\u6b65\u7684\u89c4\u5219\u4f9d\u6b21\u8fed\u4ee3 $w^2,w^3,...,w^n$ \u76f4\u81f3\u627e\u5230\u6700\u5c0f loss \u7684 $w^T$ \u503c\uff0c\u6b64\u65f6\u635f\u5931\u51fd\u6570\u7684\u5207\u7ebf\u659c\u7387\u7b49\u4e8e\u96f6\u3002\n",
                "    \n",
                "\u5982\u679c $w^0$ \u4ece\u5de6\u8fb9\u5f00\u59cb\u521d\u59cb\u5316\uff0c\u5f80\u53f3\u8d70\uff0c\u4e00\u822c\u8d70\u5230\u5c40\u90e8\u6700\u5c0f\u503c\u5904 (local minima)\uff1b\n",
                "    \n",
                "\u5982\u679c $w^0$ \u4ece\u53f3\u8fb9\u5f00\u59cb\u5f80\u5de6\u8fb9\u8d70\uff0c\u5c31\u53ef\u4ee5\u8d70\u5230\u5168\u5c40\u6700\u5c0f\u503c\u5904 (global minima)\uff1b\n",
                "\n",
                "\u6240\u4ee5\u4e0d\u540c\u7684\u5730\u65b9\u8d77\u59cb\uff0c\u5c31\u4f1a\u5f97\u5230\u4e0d\u540c\u7684\u7ed3\u679c\uff0c\u8fd9\u662f\u4e00\u4e2a\u770b\u4eba\u54c1\u7684\u65b9\u6cd5\u3002"
            ]
        },
        {
            "cell_type": "markdown",
            "metadata": {},
            "source": [
                "#### 3.2 \u8003\u8651 w\u3001b \u4e24\u4e2a\u53c2\u6570\u5bf9\u635f\u5931\u51fd\u6570\u7684\u5f71\u54cd\uff1f\n",
                "\n",
                "\n",
                "\u5176\u5b9e\u6d41\u7a0b\u4e0e\u4e00\u4e2a\u53c2\u6570\u90fd\u662f\u4e00\u6837\u7684\uff0c\u533a\u522b\u5177\u4f53\u5982\u4e0b\uff1a\n",
                "\n",
                "  ![](http://imgbed.momodel.cn/03_13.png)"
            ]
        },
        {
            "cell_type": "markdown",
            "metadata": {},
            "source": [
                "+ \u6bcf\u6b21\u521d\u59cb\u5316\u53c2\u6570 $w^0$\u3001$b^0$\n",
                "\n",
                "+ \u7136\u540e\u6bcf\u6b21\u8ba1\u7b97 w \u548c b \u7684\u68af\u5ea6\uff0c\u7b2c\u4e00\u6b21\u7684\u8ba1\u7b97\u7ed3\u679c\u4e3a\uff1a\n",
                "\n",
                "    $\\frac{\u2202L}{\u2202w}|_{w=w^0\uff0cb=b^0}$,\n",
                "    \n",
                "    $\\frac{\u2202L}{\u2202b}|_{w=w^0\uff0cb=b^0}$\uff1b\n",
                "\n",
                "+ \u7136\u540e\u66f4\u65b0 (updata)  w\u3001b \u7684\u8868\u8fbe\u5f0f\u5982\u4e0b\uff1a\n",
                "\n",
                "    $w^1= w^0 - \u03b7\\frac{\u2202L}{\u2202w}|_{w=w^0\uff0cb=b^0}$\n",
                "    \n",
                "    $b^1= b^0 - \u03b7\\frac{\u2202L}{\u2202b}|_{w=w^0\uff0cb=b^0}$\n",
                "\n",
                "+ \u4f9d\u6b21\u53cd\u590d\u8fed\u4ee3\uff0c\u76f4\u81f3\u627e\u5230 loss function \u5bf9 w \u548c b \u504f\u5fae\u5206\u6700\u5c0f\u7684\u503c\u3002\n",
                "\n"
            ]
        },
        {
            "cell_type": "markdown",
            "metadata": {},
            "source": [
                "### 4. \u7ed3\u679c\u5206\u6790\n",
                "\n",
                "\n",
                "  ![](http://imgbed.momodel.cn/03_14.png)\n",
                "\n",
                "\u56fe\u4e2d\u6a2a\u5750\u6807\u8868\u793a\u504f\u7f6e $b$\uff0c\u7eb5\u5750\u6807\u8868\u793a\u6743\u91cd $w$\uff0c\u56fe\u4e2d\u989c\u8272\u7684\u6df1\u6d45\u8868\u793a loss \u503c\u7684\u5927\u5c0f\u3002"
            ]
        },
        {
            "cell_type": "markdown",
            "metadata": {},
            "source": [
                "3. \u5fae\u5206\u662f0\u4f46\u5374\u4e0d\u662f\u6781\u503c\u7684\u70b9\uff0c\u79f0\u4e3a saddle point\uff0c\u6216\u8005\u51fd\u6570\u6bd4\u8f83\u5e73\u6ed1\u7684\u70b9\uff0c\u600e\u4e48\u529e\uff1f\n",
                "\n",
                "![](http://imgbed.momodel.cn/03_15.png)",
                "\n"
            ]
        },
        {
            "cell_type": "markdown",
            "metadata": {},
            "source": [
                "<br>"
            ]
        },
        {
            "cell_type": "markdown",
            "metadata": {},
            "source": [
                "  ![](http://imgbed.momodel.cn/03_16.png)\n",
                "\n",
                "\n"
            ]
        },
        {
            "cell_type": "markdown",
            "metadata": {},
            "source": [
                "  ![](http://imgbed.momodel.cn/03_17.png)\n",
                "\n",
                "\u5728\u4f7f\u7528\u7a77\u4e3e\u6cd5\u7684\u65f6\u5019\u5c31\u5df2\u7ecf\u77e5\u9053\uff0c\u5f53 w = 2.7\uff0cb = -188.4 \u7684\u65f6\u5019\u5c31\u53ef\u4ee5\u83b7\u53d6\u6700\u597d\u7684 function\u3002\n",
                "\n",
                "\u7136\u540e\u6211\u4eec\u8ba1\u7b97\u5e73\u5747\u8bef\u5dee\u503c\u5927\u5c0f\u662f 31.9\u3002\n",
                "\n",
                "\u7136\u540e\u6211\u4eec\u91c7\u7528\u53e6\u5916\u7684 10 \u53ea\u5b9d\u53ef\u68a6 CP \u503c\u8fdb\u884c\u9884\u6d4b\uff0c\u5e73\u5747\u8bef\u5dee\u5927\u5c0f\u662f 35.0\uff0c\u8ddf\u8bad\u7ec3\u96c6\u7ed3\u679c\u7684\u8bef\u5dee\u76f8\u8fd1\u3002\n"
            ]
        },
        {
            "cell_type": "markdown",
            "metadata": {},
            "source": [
                "<br/>\n"
            ]
        },
        {
            "cell_type": "markdown",
            "metadata": {},
            "source": [
                "\n",
                "### 5. \u5982\u4f55\u5f97\u5230\u66f4\u597d\u7684\u6a21\u578b\n",
                "\n",
                "\n",
                "\u521a\u521a\u6211\u4eec\u9009\u7528\u4e00\u6b21\u65b9\u7a0b\u4f5c\u4e3a\u6211\u4eec\u7684\u6a21\u578b\uff0c\u90a3\u4e48\u4e8c\u6b21\u65b9\u7a0b\u3001\u4e09\u6b21\u65b9\u7a0b\u3001\u56db\u6b21\u65b9\u7a0b\u4f1a\u4e0d\u4f1a\u66f4\u597d\u4e00\u70b9\u5462\uff1f\n",
                "\n",
                "\u4e8e\u662f\u6211\u4eec\u91c7\u7528\u540c\u6837\u7684\u65b9\u6cd5\uff0c\u653e\u5230**\u591a\u6b21\u65b9\u7a0b**\u4e2d\uff0c\u8bd5\u9a8c\u7ed3\u679c\u5982\u4e0b\uff1a\n"
            ]
        },
        {
            "cell_type": "markdown",
            "metadata": {},
            "source": [
                "\u90a3\u4e48\u6b64\u65f6\u8be5\u6a21\u578b\u8fd8\u662f\u8fd8\u662f\u7ebf\u6027\u6a21\u578b\u5417\uff1f\n",
                "\u4ee5\u4e0a\u56db\u4e2a\u6a21\u578b\u4f9d\u7136\u662f\u7ebf\u6027\u6a21\u578b (linear model)\uff0c\u5728\u8fd9\u91cc\u662f\u5c06 $(x_{cp})^n$ \u770b\u4f5c\u5b9d\u53ef\u68a6\u7684\u4e00\u4e2a\u7279\u5f81\u5904\u7406\u7684\u3002"
            ]
        },
        {
            "cell_type": "markdown",
            "metadata": {},
            "source": [
                "+ \u4e8c\u6b21\u65b9\u7a0b\n",
                "\n",
                "  ![](http://imgbed.momodel.cn/18.png)\n",
                "\n",
                "+ \u4e09\u6b21\u65b9\u7a0b\n",
                "\n",
                "  ![](http://imgbed.momodel.cn/19.png)\n",
                "\n",
                "+ \u56db\u6b21\u65b9\u7a0b\n",
                "\n",
                "  ![](http://imgbed.momodel.cn/20.png)\n",
                "\n",
                "+ \u4e94\u6b21\u65b9\u7a0b\n",
                "  ![](http://imgbed.momodel.cn/21.png)"
            ]
        },
        {
            "cell_type": "markdown",
            "metadata": {},
            "source": [
                "\n",
                "  ![](http://imgbed.momodel.cn/22.png)\n",
                "\n",
                "\n",
                "\u8fd95\u4e2a\u6a21\u578b\u90fd\u662f\u6a21\u578b\u8d8a\u590d\u6742\u5f97\u5230\u7684\u8bef\u5dee\u8d8a\u5c0f\uff0c\u8fd9\u4ef6\u4e8b\u60c5\u662f\u5f88\u76f4\u89c9\u7684\u3002\n",
                "\n",
                "\u5728\u8fd9\u91cc\u9ec4\u8272\u7684\u662f\u7b2c\u4e09\u4e2a\u6a21\u578b\uff0c\u7eff\u8272\u7684\u662f\u7b2c 4 \u4e2a\u6a21\u578b\uff0c\u53d1\u73b0 3 \u4e2a\u51fd\u6570\u53ea\u662f 4 \u6b21\u51fd\u6570\u7684\u4e00\u4e2a\u5b50\u96c6\u548c\u3002 \n",
                "\n",
                "\u6211\u4eec\u5c06 $w_4$ \u8bbe\u7f6e\u4e3a\u96f6\uff0c\u5219\u5c31\u6210\u4e3a 3 \u6b21\u7684\u51fd\u6570\uff0c\u6240\u4ee5 3 \u6b21\u662f 4 \u6b21\u7684\u4e00\u4e2a\u5b50\u96c6\u548c\uff0c5 \u6b21\u53c8\u662f 4 \u6b21\u7684\u4e00\u4e2a\u5b50\u96c6\u548c\u3002\n",
                "\n",
                "\u6240\u4ee5\u6839\u636e\u8bad\u7ec3\u96c6\u627e\u5230\u4e00\u4e2a\u6700\u597d\u7684\u51fd\u6570\uff0c\u5728 5 \u6b21\u7684\u96c6\u5408\u91cc\u9762\u627e\u5230\u6700\u597d\u7684\u51fd\u6570\uff0c\u4e0d\u53ef\u80fd\u6bd4\u5728 4 \u6b21\u96c6\u5408\u91cc\u9762\u627e\u5230\u6700\u597d\u7684\u51fd\u6570\u8fd8\u8981\u66f4\u5dee\u3002\n",
                "\n",
                "\u5f53\u6211\u4eec\u7684\u6a21\u578b\u8d8a\u590d\u6742\uff0c\u5f53\u5728\u8bad\u7ec3\u96c6\u4e0a\u9762\u6211\u4eec\u7684\u8bef\u5dee\u662f\u8d8a\u6765\u8d8a\u4f4e\u7684\u3002"
            ]
        },
        {
            "cell_type": "markdown",
            "metadata": {},
            "source": [
                "\n",
                "  ![](http://imgbed.momodel.cn/23.png)\n",
                "\n",
                "\u4e0a\u56fe\u4e2d\u7684\u84dd\u8272\u7ebf\u578b\u662f\u8bad\u7ec3\u96c6\u4e0a\u7684\u8bef\u5dee\uff0c\u6a59\u8272\u7ebf\u578b\u662f\u6d4b\u8bd5\u96c6\u4e0a\u7684\u8bef\u5dee\uff0c\u6a2a\u5750\u6807\u8868\u793a\u7b2c\u51e0\u4e2a\u6a21\u578b\u3002\n",
                "\n",
                "\u6211\u4eec\u53d1\u73b0\u5728\u6d4b\u8bd5\u96c6\u4e0a\u7684\u8bef\u5dee\u662f\u4e09\u6b21\u7684\u65f6\u5019\u662f\u6700\u597d\u7684\uff0c\n",
                "\n",
                "\u5f53\u6a21\u578b\u8d8a\u6765\u8d8a\u590d\u6742\u7684\u65f6\u5019\uff0c\u8bef\u5dee\u5c31\u4f1a\u7a81\u7136\u7206\u70b8\uff0c\u6240\u4ee5\u4e00\u4e2a\u590d\u6742\u7684\u6a21\u578b\u5728\u8bad\u7ec3\u96c6\u4e0a\u7ed9\u6211\u6bd4\u8f83\u597d\u7684 performance\u3002\n",
                "\n",
                "\u4f46\u5e76\u4e0d\u603b\u662f\u5728\u6d4b\u8bd5\u96c6\u4e0a\u7ed9\u6211\u4eec\u6bd4\u8f83\u597d\u7684 performance\uff0c\u8fd9\u4ef6\u4e8b\u60c5\u53eb\u505a**\u8fc7\u62df\u5408 (overfitting)**\u3002\n",
                "\n",
                "\u4ece\u4e0a\u56fe\u6211\u4eec\u770b\u5230\uff0c\u5f53\u7b2c\u56db\u6b21\u62df\u5408\u7684\u65f6\u5019\uff0c\u8fc7\u62df\u5408\u53d1\u751f\u4e86\uff0c\u6d4b\u8bd5\u96c6\u4e0a\u7684\u8bef\u5dee\u53d8\u5f97\u5f88\u5927\u3002\n",
                "\n",
                "\u56e0\u6b64\uff0c**\u6a21\u578b\u4e0d\u662f\u8d8a\u590d\u6742\u8d8a\u597d\uff0c\u800c\u662f\u8981\u9009\u62e9\u4e00\u4e2a\u6700\u5408\u9002\u7684**\uff0c\u7efc\u5408\u6bd4\u8f83\u4e09\u6b21\u65b9\u7a0b\u8868\u73b0\u7684\u6700\u597d\u3002\n",
                "\n",
                "\u867d\u7136\u5b83\u5728\u8bad\u7ec3\u96c6\u4e0a\u4e0d\u662f\u6700\u597d\u7684\uff0c\u4f46\u662f\u5b83\u5728\u6d4b\u8bd5\u96c6\u4e0a\u662f\u6700\u597d\u7684\u3002"
            ]
        },
        {
            "cell_type": "markdown",
            "metadata": {},
            "source": [
                "<br>"
            ]
        },
        {
            "cell_type": "markdown",
            "metadata": {},
            "source": [
                "### 6. \u8fc7\u62df\u5408\u89e3\u51b3\u65b9\u5f0f \n",
                "\n",
                "\u8fc7\u62df\u5408\u7684\u89e3\u51b3\u65b9\u5f0f\uff1a\n",
                "- 1.\u6536\u96c6\u66f4\u591a\u7684\u6570\u636e;\n",
                "- 2.\u6b63\u5219\u5316"
            ]
        },
        {
            "cell_type": "markdown",
            "metadata": {},
            "source": [
                "  ![](http://imgbed.momodel.cn/24.png)\n",
                "\n",
                "\u6211\u4eec\u6536\u96c6\u4e86 60 \u53ea\u5de6\u53f3\u7684\u5b9d\u53ef\u68a6\u8fdb\u5316\u524d\u540e\u7684 CP \u503c\uff0c\u663e\u7136\u521a\u521a\u6709\u6211\u4eec\u6ca1\u6709\u8003\u8651\u5230\u7684\u4e00\u4e2a\u56e0\u7d20\u51b3\u5b9a\u4e86\u5b9d\u53ef\u68a6\u7684 CP \u503c\uff0c\n",
                "\n",
                "\u4e0d\u7136\u4f60\u4f1a\u53d1\u73b0\u8fdb\u5316\u524d\u540c\u6837\u7684 CP \u503c\uff0c\u8fdb\u5316\u540e CP \u503c\u7684\u5927\u5c0f\u5374\u76f8\u5dee\u90a3\u4e48\u591a\u3002\n",
                "\n",
                "\u90a3\u4e48\u9690\u85cf\u7684\u51b3\u5b9a\u6027\u56e0\u7d20\u53c8\u662f\u662f\u4ec0\u4e48\u5462\uff1f\n",
                "\n",
                "  ![](http://imgbed.momodel.cn/25.png)\n",
                "\n",
                "\u901a\u8fc7\u7814\u7a76\u53d1\u73b0\uff0c\u5b9d\u53ef\u68a6\u8fdb\u5316\u524d\u540e\u7684CP\u503c\u8ddf\u5b9d\u53ef\u68a6\u7684\u79cd\u7c7b\u6709\u5173\u3002\n",
                "\n",
                "\u4e0a\u56fe\u4e2d\u84dd\u8272\u7684\u662f Pidgey\uff0c\u7ea2\u8272\u7684\u662f Eevee\uff0c\u9ec4\u8272\u7684\u662f Weedle\uff0c\u7eff\u8272\u7684\u662f Caterpie\u3002\n",
                "\n",
                "\u56e0\u6b64\uff0c\u73b0\u5728\u6211\u4eec\u9700\u8981\u8bbe\u8ba1\u4e00\u4e2a\u8003\u8651\u5b9d\u53ef\u68a6\u79cd\u7c7b\u7684\u6a21\u578b\u3002"
            ]
        },
        {
            "cell_type": "markdown",
            "metadata": {},
            "source": [
                "\n",
                "  ![](http://imgbed.momodel.cn/26.png)"
            ]
        },
        {
            "cell_type": "markdown",
            "metadata": {},
            "source": [
                "\u8be5\u6a21\u578b\u76ee\u524d\u8fd8\u662f\u4e0d\u662f\u7ebf\u6027\u6a21\u578b\u5462\uff1f\u5177\u4f53\u60c5\u51b5\u53ef\u4ee5\u770b\u4e0b\u56fe\u4ee5\u53ca\u76f8\u5173\u7684\u516c\u5f0f\uff1a\n",
                "  ![](http://imgbed.momodel.cn/27.png)"
            ]
        },
        {
            "cell_type": "markdown",
            "metadata": {},
            "source": [
                "+ \u8003\u8651\u5b9d\u53ef\u68a6\u79cd\u7c7b\u540e\u5b9d\u53ef\u68a6CP\u503c\u9884\u6d4b\u6a21\u578b\u7684\u8868\u8fbe\u5f0f\uff1a\n",
                "\n",
                "$\\begin{aligned} y = & b_1\u00b7\\delta{(x_s = Pidgey)} +  w_1\u00b7\\delta(x_s = Pidgey)x_{cp}+ \\\\ & b_2\u00b7\\delta(x_s = Weedle) +  w_2\u00b7\\delta(x_s = Weedle)x_{cp}+ \\\\ &b_3\u00b7\\delta(x_s = Caterpie) +  w_3\u00b7\\delta(x_s =  Caterpie)x_{cp} +\\\\ & b_4\u00b7\\delta(x_s = Eevee) + w_4\u00b7\\delta(x_s = Eevee)x_{cp} \\end{aligned}$ \n",
                "\n"
            ]
        },
        {
            "cell_type": "markdown",
            "metadata": {},
            "source": [
                "\u5176\u4e2d\uff1a\n",
                "\n",
                "$\u03b4(x_s = Pidgey)=\\begin{cases}1& \\text{if x_s=Pidgey}\\\\ 0& \\text{otherwise}\\end{cases}$\n",
                "\n",
                "\u540c\u7406 $\u03b4(x_s = Weedle)$\u3001 $\u03b4(x_s =  Caterpie)$\u3001$\u03b4(x_s = Eevee)$\u3002\n"
            ]
        },
        {
            "cell_type": "markdown",
            "metadata": {},
            "source": [
                "\n",
                "\u56e0\u6b64\uff0c\u5f53 $x_s = Pidgey$ \u65f6\uff0c\u4e0a\u8ff0\u8868\u8fbe\u5f0f\u5c31\u53ef\u4ee5\u5316\u7b80\u4e3a\uff1a\n",
                "\n",
                "$\\begin{aligned} y = & b_1\u00b71 +  w_1\u00b71\u00b7x_{cp}+ \\\\ & b_2\u00b70 +  w_2\u00b70\u00b7x_{cp}+ \\\\&b_3\u00b70+  w_3\u00b70\u00b7x_{cp} +\\\\ & b_4\u00b70 + w_4\u00b70\u00b7x_{cp}\\\\ =&b_1 +  w_1\u00b7x_{cp}\\end{aligned}$  \n",
                "\n",
                "\u540c\u7406\uff0c\u5f53 $x_s = $Weedle \u65f6\uff0c$y=b_2 +  w_2\u00b7x_{cp}$\uff1b\n",
                "\n",
                "\u5f53 $x_s = $Caterpie \u65f6\uff0c$y=b_3 +  w_3\u00b7x_{cp}$\uff1b\n",
                "\n",
                "\u5f53 $x_s = $Eevee \u65f6\uff0c $y =b_4 +  w_4\u00b7x_{cp} $\uff0c\n",
                "\n",
                "\u56e0\u6b64\uff0c\u6b64\u65f6\u8be5\u6a21\u578b\u8fd8\u662f\u7ebf\u6027\u6a21\u578b\u3002\n",
                "\n",
                "\n",
                "\u6b64\u65f6\u6211\u4eec\u7ed8\u5236\u51fa\u6765\u56db\u6761\u66f2\u7ebf\uff0c\u5176\u4e2d\u6709\u4e24\u6761\u91cd\u5408\u5728\u4e00\u8d77\u3002\n",
                "\n",
                "\u6b64\u65f6\u6211\u4eec\u53d1\u73b0\u5728\u8bad\u7ec3\u96c6\u4e0a\u8bef\u5dee 3.8\uff0c\u5728\u6d4b\u8bd5\u96c6\u4e0a\u8bef\u5dee 14.3\uff1b\n",
                "\n",
                "\u6211\u4eec\u5728\u4e0a\u4e00\u4e2a\u6a21\u578b\u4e2d\uff0c\u6700\u597d\u7684 function \u4e2d\uff0c\u5728\u8bad\u7ec3\u96c6\u4e0a\u7684\u8bef\u5dee 15.3\uff0c\u5728\u6d4b\u8bd5\u96c6\u4e0a\u7684\u8bef\u5dee 18.1\u3002"
            ]
        },
        {
            "cell_type": "markdown",
            "metadata": {},
            "source": [
                "+ \u662f\u5426\u8fd8\u6709\u5176\u4ed6\u9690\u85cf\u7684\u56e0\u7d20\u5462\uff1f\n",
                "\n",
                "  ![](http://imgbed.momodel.cn/28.png)\n",
                "\n",
                "\u6bd4\u5982\u91cd\u91cf\uff0c\u9ad8\u5ea6\uff0cHP \u662f\u5426\u6709\u7528\u5462\uff1f\u4e0d\u77e5\u9053\u54ea\u4e9b features \u6709\u7528\uff0c\u90a3\u4e48\u6211\u4eec\u5c31\u76f4\u63a5\u7528\u5168\u90e8\u7684 features\u3002"
            ]
        },
        {
            "cell_type": "markdown",
            "metadata": {},
            "source": [
                "  ![](http://imgbed.momodel.cn/29.png)\n",
                "\n",
                "\u4ee5\u4e0a\u6a21\u578b\u4e00\u5171 18 \u4e2a\u53c2\u6570\uff0c\u4e5f\u4e0d\u7b97\u591a\u3002\u7136\u540e\u6211\u4eec\u8ba1\u7b97\u8bad\u7ec3\u96c6\u8bef\u5dee\u4e3a 1.9\uff0c\u6d4b\u8bd5\u96c6\u8bef\u5dee\u4e3a 102.3\uff0c\u53d1\u73b0\u8fc7\u62df\u5408\u4e86\uff01\u4e0b\u9762\u4ecb\u7ecd\u53e6\u5916\u4e00\u79cd\u65b9\u6cd5\u9632\u6b62\u8fc7\u62df\u5408\u3002"
            ]
        },
        {
            "cell_type": "markdown",
            "metadata": {},
            "source": [
                "+ \u6b63\u5219\u5316"
            ]
        },
        {
            "cell_type": "markdown",
            "metadata": {},
            "source": [
                "  ![](http://imgbed.momodel.cn/30.png)\n",
                "\n",
                "\u6b63\u5219\u9879\uff1a$\\lambda\\sum{(w_{i})^2}$\n",
                "\n",
                "\u6b63\u5219\u9879\u8d8a\u5c0f\uff0c\u610f\u5473\u7740 $w_i$ \u8d8a\u5c0f\uff0c\u540c\u65f6\u4e5f\u8bf4\u660e\u635f\u5931\u51fd\u6570\u6bd4\u8f83\u5e73\u6ed1\u3002\n",
                "\n",
                "\u5e73\u6ed1\u7684\u7406\u89e3\u662f\u8f93\u5165\u7684\u53d8\u5316\u5f88\u5927\u800c\u8f93\u51fa\u7684\u53d8\u5316\u5f88\u5c0f\uff0c\u5219 function \u662f\u6bd4\u8f83\u5e73\u6ed1\u7684\u3002\n",
                "\n",
                "- \u4e3a\u4ec0\u4e48\u6211\u4eec\u8981\u9009\u62e9\u65e2\u8ba9\u635f\u5931\u51fd\u6570\u5c0f\u7684 function\uff0c\u540c\u65f6\u53c8\u8981\u4e00\u4e2a smoother \u7684 function\uff1f\n",
                "\n",
                "  \u56e0\u4e3a\u4e00\u822c\u60c5\u51b5\uff0csmoother function \u66f4\u503e\u5411\u4e8e\u6b63\u786e\u7684\u90a3\u4e2a\u6a21\u578b\uff1b\n",
                "  \n",
                "- \u4e3a\u4ec0\u4e48\u6b63\u5219\u5316\u6ca1\u6709\u8003\u8651 bias\uff1f\n",
                "\n",
                "  \u4e00\u65b9\u9762\uff0cy = bias\u662f\u4e00\u6761\u6c34\u5e73\u7ebf\uff0c\u5bf9function\u662f\u5426\u5e73\u6ed1\u6ca1\u6709\u5f71\u54cd\uff1b\n",
                "    \n",
                "\u6b63\u5219\u5316\u7ed3\u679c\uff1a\n",
                "\n",
                "  ![](http://imgbed.momodel.cn/31.png)\n"
            ]
        },
        {
            "cell_type": "markdown",
            "metadata": {},
            "source": [
                "$\\lambda$ \u662f\u624b\u52a8\u8c03\u6574\u7684\u3002\n",
                "\n",
                "\u5728\u5b9d\u53ef\u68a6CP\u503c\u9884\u6d4b\u7684\u6a21\u578b\u4e0a\uff0c$\\lambda$ \u8d8a\u5927\uff0c\u5728\u8bad\u7ec3\u96c6\u4e0a\u7684\u8bef\u5dee\u662f\u8d8a\u6765\u8d8a\u5927\u7684\uff0c\u6d4b\u8bd5\u96c6\u4e0a\u7684\u8bef\u5dee\u662f\u5148\u964d\u4f4e\u540e\u589e\u5927\u3002\n",
                "\n",
                "\u56e0\u6b64\u6211\u4eec\u66f4\u504f\u5411\u4e8e\u5e73\u6ed1\u7684 function\uff0c\u4f46\u662f\u8981\u8003\u8651\u8bad\u7ec3\u96c6\u8bef\u5dee\uff0c\u6545\u4e5f\u4e0d\u80fd\u592a\u5e73\u6ed1\u3002\n",
                "\n",
                "\u56e0\u6b64\u9009\u62e9\u53c2\u6570 $\\lambda$ \u503c\u4e5f\u5f88\u91cd\u8981\uff0c\u5177\u4f53\u65b9\u6cd5\u8bf7\u53c2\u8003\u540e\u7eed\u8bfe\u7a0b\u3002\n"
            ]
        },
        {
            "cell_type": "markdown",
            "metadata": {},
            "source": [
                "### 7.\u603b\u7ed3\uff1a\n",
                "\n",
                "- \u5b9d\u53ef\u68a6\u8fdb\u5316\u540e\u7684 CP \u503c\u663e\u7136\u8ddf\u5b9d\u53ef\u68a6\u7684\u79cd\u7c7b\u548c\u8fdb\u5316\u524d\u7684CP\u503c\u6709\u5173\u7cfb\n",
                "  - \u53ef\u80fd\u8fd8\u6709\u5176\u4ed6\u7684\u9690\u85cf\u56e0\u7d20\uff0c\u76ee\u524d\u8fd8\u672a\u7814\u7a76\u51fa\u6765\n",
                "- \u68af\u5ea6\u4e0b\u964d\u6cd5\n",
                "  - \u66f4\u591a\u7684\u7406\u8bba\u548c\u63a8\u5230\u7ec6\u8282\u653e\u5728\u540e\u7eed\u8bfe\u7a0b\u4e2d\n",
                "- \u6211\u4eec\u6700\u7ec8\u5f97\u5230\u5728\u6d4b\u8bd5\u96c6\u4e0a\u8bef\u5dee\u4e3a 11.1 \u7684\u673a\u5668\u5b66\u4e60\u6a21\u578b\n",
                "  - \u6211\u4eec\u7684\u6a21\u578b\u5bf9\u65b0\u6570\u636e\u5982\u4f55\uff1f\u5982\u679c\u65b0\u6570\u636e\u653e\u5728\u6211\u4eec\u7684\u6a21\u578b\u4e2d\uff0c\u5f97\u5230\u7684\u8bef\u5dee\u4f1a\u5927\u4e8e 11.1 \u8fd8\u662f\u5c0f\u4e8e 11.1?\n",
                "- \u4e0b\u8282\u8bfe\uff1a\u8bef\u5dee\u7684\u6765\u6e90\uff1f"
            ]
        }
    ],
    "metadata": {
        "kernelspec": {
            "display_name": "Python 3",
            "language": "python",
            "name": "python3"
        },
        "language_info": {
            "codemirror_mode": {
                "name": "ipython",
                "version": 3
            },
            "file_extension": ".py",
            "mimetype": "text/x-python",
            "name": "python",
            "nbconvert_exporter": "python",
            "pygments_lexer": "ipython3",
            "version": "3.6.7"
        }
    },
    "nbformat": 4,
    "nbformat_minor": 2
}