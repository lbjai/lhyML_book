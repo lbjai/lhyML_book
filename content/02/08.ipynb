{
    "cells": [
        {
            "cell_type": "markdown",
            "metadata": {},
            "source": [
                "\n",
                "### \u9884\u6d4bPM2.5"
            ]
        },
        {
            "cell_type": "markdown",
            "metadata": {},
            "source": [
                "#### \u6570\u636e\u96c6\n",
                "+ train.csv:\u6bcf\u4e2a\u6708\u524d20\u5929\u6bcf\u4e2a\u5c0f\u65f6\u7684\u6c14\u8c61\u8d44\u6599\uff08\u6bcf\u5c0f\u65f6\u670918\u79cd\u6d4b\u8d44\uff09\u517112\u4e2a\u6708\n",
                "+ test.csv: \u6392\u9664train.csv\u5269\u4f59\u7684\u8d44\u6599 \u53d6\u8fde\u7eed9\u5c0f\u65f6\u7684\u8d44\u6599\u5f53\u4f5cfeature \u9884\u6d4b\u7b2c10\u5c0f\u65f6\u7684PM2.5\u503c \u603b\u5171240\u7b14\n",
                "+ sample.py \u6559\u7a0bppt\u5bf9\u5e94\u7684sample\u4ee3\u7801 \u7528\u4f5c\u53c2\u8003\n",
                "+ ans.csv test\u7684answer\n",
                "\n",
                "\u6570\u636e\u96c6\u4fdd\u5b58\u5728 HW01 \u6587\u4ef6\u5939\u4e2d"
            ]
        },
        {
            "cell_type": "code",
            "execution_count": 1,
            "metadata": {},
            "outputs": [],
            "source": [
                "# \u5bfc\u5165\u76f8\u5173\u7684\u5305\n",
                "import csv, os\n",
                "import numpy as np\n",
                "import matplotlib.pyplot as plt\n",
                "from numpy.linalg import inv\n",
                "import random\n",
                "import math\n",
                "import sys"
            ]
        },
        {
            "cell_type": "code",
            "execution_count": 2,
            "metadata": {},
            "outputs": [],
            "source": [
                "def ada(X, Y, w, eta, iteration, lambdaL2):\n",
                "    s_grad = np.zeros(len(X[0]))\n",
                "    list_cost = []\n",
                "    for i in range(iteration):\n",
                "        hypo = np.dot(X,w)\n",
                "        loss = hypo - Y\n",
                "        cost = np.sum(loss**2)/len(X)\n",
                "        list_cost.append(cost)\n",
                "\n",
                "        grad = np.dot(X.T, loss)/len(X) + lambdaL2*w\n",
                "        s_grad += grad**2\n",
                "        ada = np.sqrt(s_grad)\n",
                "        w = w - eta*grad/ada\n",
                "    return w, list_cost"
            ]
        },
        {
            "cell_type": "code",
            "execution_count": 3,
            "metadata": {},
            "outputs": [],
            "source": [
                "def SGD(X, Y, w, eta, iteration, lambdaL2):\n",
                "    list_cost = []\n",
                "    for i in range(iteration):\n",
                "        hypo = np.dot(X,w)\n",
                "        loss = hypo - Y\n",
                "        cost = np.sum(loss**2)/len(X)\n",
                "        list_cost.append(cost)\n",
                "\n",
                "        rand = np.random.randint(0, len(X))\n",
                "        grad = X[rand]*loss[rand]/len(X) + lambdaL2*w\n",
                "        w = w - eta*grad\n",
                "    return w, list_cost"
            ]
        },
        {
            "cell_type": "code",
            "execution_count": 4,
            "metadata": {},
            "outputs": [],
            "source": [
                "def GD(X, Y, w, eta, iteration, lambdaL2):\n",
                "    list_cost = []\n",
                "    for i in range(iteration):\n",
                "        hypo = np.dot(X,w)\n",
                "        loss = hypo - Y\n",
                "        cost = np.sum(loss**2)/len(X)\n",
                "        list_cost.append(cost)\n",
                "\n",
                "        grad = np.dot(X.T, loss)/len(X) + lambdaL2 * w\n",
                "        w = w - eta*grad\n",
                "    return w, list_cost"
            ]
        },
        {
            "cell_type": "code",
            "execution_count": 5,
            "metadata": {},
            "outputs": [],
            "source": [
                "# \u6bcf\u4e00\u4e2a\u7ef4\u5ea6\u50a8\u5b58\u4e00\u79cd\u6c61\u67d3\u7269\u7684\u54a8\u8be2\n",
                "data = []\n",
                "for i in range(18):\n",
                "    data.append([])"
            ]
        },
        {
            "cell_type": "code",
            "execution_count": 6,
            "metadata": {},
            "outputs": [
                {
                    "data": {
                        "text/plain": [
                            "<function TextIOWrapper.close>"
                        ]
                    },
                    "execution_count": 6,
                    "metadata": {},
                    "output_type": "execute_result"
                }
            ],
            "source": [
                "# \u8bfb\u53d6\u6570\u636e\n",
                "n_row = 0\n",
                "text = open('HW01/train.csv', 'r', encoding='big5')\n",
                "row = csv.reader(text, delimiter=',')\n",
                "for r in row:\n",
                "    if n_row != 0:\n",
                "        for i in range(3,27):\n",
                "            if r[i] != \"NR\":\n",
                "                data[(n_row-1)%18].append(float(r[i]))\n",
                "            else:\n",
                "                data[(n_row-1)%18].append(float(0))\n",
                "    n_row = n_row + 1\n",
                "text.close"
            ]
        },
        {
            "cell_type": "code",
            "execution_count": 7,
            "metadata": {},
            "outputs": [
                {
                    "data": {
                        "text/plain": [
                            "array([[14. , 14. , 14. , ...,  2. ,  2. ,  0.5],\n",
                            "       [14. , 14. , 13. , ...,  2. ,  0.5,  0.3],\n",
                            "       [14. , 13. , 12. , ...,  0.5,  0.3,  0.8],\n",
                            "       ...,\n",
                            "       [17. , 18. , 19. , ...,  1.1,  1.4,  1.3],\n",
                            "       [18. , 19. , 18. , ...,  1.4,  1.3,  1.6],\n",
                            "       [19. , 18. , 17. , ...,  1.3,  1.6,  1.8]])"
                        ]
                    },
                    "execution_count": 7,
                    "metadata": {},
                    "output_type": "execute_result"
                }
            ],
            "source": [
                "#parse data to trainX and trainY\n",
                "x = []\n",
                "y = []\n",
                "for i in range(12):\n",
                "    for j in range(471):\n",
                "        x.append([])\n",
                "        for t in range(18):\n",
                "            for s in range(9):\n",
                "                x[471*i + j].append(data[t][480*i+j+s])\n",
                "        y.append(data[9][480*i+j+9])\n",
                "trainX = np.array(x) #\u6bcf\u4e00\u884c\u67099*18\u4e2a\u6570 \u6bcf9\u4e2a\u4ee3\u88689\u5929\u7684\u67d0\u4e00\u79cd\u6c61\u67d3\u7269\n",
                "trainY = np.array(y)\n",
                "trainX\n"
            ]
        },
        {
            "cell_type": "code",
            "execution_count": 8,
            "metadata": {},
            "outputs": [
                {
                    "data": {
                        "text/plain": [
                            "array([30., 41., 44., ..., 17., 24., 29.])"
                        ]
                    },
                    "execution_count": 8,
                    "metadata": {},
                    "output_type": "execute_result"
                }
            ],
            "source": [
                "trainY"
            ]
        },
        {
            "cell_type": "code",
            "execution_count": 9,
            "metadata": {},
            "outputs": [
                {
                    "data": {
                        "text/plain": [
                            "array([[15. , 14. , 14. , ...,  2.5,  2.5,  2.3],\n",
                            "       [12. , 12. , 12. , ...,  2.1,  2.6,  1.5],\n",
                            "       [ 8.8, 12. , 15. , ...,  2.6,  1.8,  1.4],\n",
                            "       ...,\n",
                            "       [12. , 11. , 11. , ...,  1.8,  1.6,  0.6],\n",
                            "       [14. , 13. , 12. , ...,  1.6,  2.1,  1.8],\n",
                            "       [11. , 11. , 11. , ...,  0.6,  0.5,  0.5]])"
                        ]
                    },
                    "execution_count": 9,
                    "metadata": {},
                    "output_type": "execute_result"
                }
            ],
            "source": [
                "#parse test data\n",
                "\n",
                "test_x = []\n",
                "n_row = 0\n",
                "text = open('HW01/test.csv' ,\"r\")\n",
                "row = csv.reader(text , delimiter= \",\")\n",
                "\n",
                "for r in row:\n",
                "    if n_row %18 == 0:\n",
                "        test_x.append([])\n",
                "        for i in range(2,11):\n",
                "            test_x[n_row//18].append(float(r[i]) )\n",
                "    else :\n",
                "        for i in range(2,11):\n",
                "            if r[i] !=\"NR\":\n",
                "                test_x[n_row//18].append(float(r[i]))\n",
                "            else:\n",
                "                test_x[n_row//18].append(0)\n",
                "    n_row = n_row+1\n",
                "text.close()\n",
                "test_x = np.array(test_x)\n",
                "test_x"
            ]
        },
        {
            "cell_type": "code",
            "execution_count": 10,
            "metadata": {},
            "outputs": [],
            "source": [
                "#parse anser\n",
                "ans_y = []\n",
                "n_row = 0\n",
                "text = open('HW01/ans.csv', \"r\")\n",
                "row = csv.reader(text, delimiter=\",\")\n",
                "\n",
                "for r in row:\n",
                "    ans_y.append(r[1])\n",
                "\n",
                "ans_y = ans_y[1:]\n",
                "ans_y = np.array(list(map(int, ans_y)))\n",
                "\n",
                "\n",
                "# add bias\n",
                "test_x = np.concatenate((np.ones((test_x.shape[0],1)),test_x), axis=1)\n",
                "trainX = np.concatenate((np.ones((trainX.shape[0],1)), trainX), axis=1)\n",
                "\n",
                "\n",
                "#train data\n",
                "w = np.zeros(len(trainX[0]))\n",
                "w_sgd, cost_list_sgd = SGD(trainX, trainY, w, eta=0.0001, iteration=20000, lambdaL2=0)\n",
                "# w_sgd50, cost_list_sgd50 = SGD(trainX, trainY, w, eta=0.0001, iteration=20000, lambdaL2=50)\n",
                "w_ada, cost_list_ada = ada(trainX, trainY, w, eta=1, iteration=20000, lambdaL2=0)\n",
                "# w_gd, cost_list_gd = SGD(trainX, trainY, w, eta=0.0001, iteration=20000, lambdaL2=0)\n",
                "\n",
                "#close form\n",
                "w_cf = inv(trainX.T.dot(trainX)).dot(trainX.T).dot(trainY)\n",
                "cost_wcf = np.sum((trainX.dot(w_cf)-trainY)**2) / len(trainX)\n",
                "hori = [cost_wcf for i in range(20000-3)]\n",
                "\n",
                "\n",
                "\n",
                "#output testdata\n",
                "y_ada = np.dot(test_x, w_ada)\n",
                "y_sgd = np.dot(test_x, w_sgd)\n",
                "y_cf = np.dot(test_x, w_cf)\n",
                "\n",
                "#csv format\n",
                "ans = []\n",
                "for i in range(len(test_x)):\n",
                "    ans.append([\"id_\"+str(i)])\n",
                "    a = np.dot(w_ada,test_x[i])\n",
                "    ans[i].append(a)\n",
                "\n",
                "filename = \"HW01/predict.csv\"\n",
                "text = open(filename, \"w+\")\n",
                "s = csv.writer(text,delimiter=',',lineterminator='\\n')\n",
                "s.writerow([\"id\",\"value\"])\n",
                "for i in range(len(ans)):\n",
                "    s.writerow(ans[i])\n",
                "text.close()"
            ]
        },
        {
            "cell_type": "code",
            "execution_count": 11,
            "metadata": {},
            "outputs": [
                {
                    "data": {
                        "image/png": "[encoded data removed]",
                        "text/plain": [
                            "<Figure size 432x288 with 1 Axes>"
                        ]
                    },
                    "metadata": {
                        "needs_background": "light"
                    },
                    "output_type": "display_data"
                }
            ],
            "source": [
                "#plot training data with different gradiant method\n",
                "plt.plot(np.arange(len(cost_list_ada[3:])), cost_list_ada[3:], 'b', label=\"ada\")\n",
                "plt.plot(np.arange(len(cost_list_sgd[3:])), cost_list_sgd[3:], 'g', label='sgd')\n",
                "# plt.plot(np.arange(len(cost_list_sgd50[3:])), cost_list_sgd50[3:], 'c', label='sgd50')\n",
                "# plt.plot(np.arange(len(cost_list_gd[3:])), cost_list_gd[3:], 'r', label='gd')\n",
                "plt.plot(np.arange(len(cost_list_ada[3:])), hori, 'y--', label='close-form')\n",
                "plt.title('Train Process')\n",
                "plt.xlabel('Iteration')\n",
                "plt.ylabel('Loss Function(Quadratic)')\n",
                "plt.legend()\n",
                "# plt.savefig(os.path.join(os.path.dirname(__file__), \"HW01/TrainProcess\"))\n",
                "plt.show()"
            ]
        },
        {
            "cell_type": "code",
            "execution_count": 12,
            "metadata": {},
            "outputs": [
                {
                    "data": {
                        "image/png": "[encoded data removed]",
                        "text/plain": [
                            "<Figure size 432x288 with 3 Axes>"
                        ]
                    },
                    "metadata": {
                        "needs_background": "light"
                    },
                    "output_type": "display_data"
                }
            ],
            "source": [
                "#plot fianl answer\n",
                "plt.figure()\n",
                "plt.subplot(131)\n",
                "plt.title('CloseForm')\n",
                "plt.xlabel('dataset')\n",
                "plt.ylabel('pm2.5')\n",
                "plt.plot(np.arange((len(ans_y))), ans_y, 'r,')\n",
                "plt.plot(np.arange(240), y_cf, 'b')\n",
                "plt.subplot(132)\n",
                "plt.title('ada')\n",
                "plt.xlabel('dataset')\n",
                "plt.ylabel('pm2.5')\n",
                "plt.plot(np.arange((len(ans_y))), ans_y, 'r,')\n",
                "plt.plot(np.arange(240), y_ada, 'g')\n",
                "plt.subplot(133)\n",
                "plt.title('sgd')\n",
                "plt.xlabel('dataset')\n",
                "plt.ylabel('pm2.5')\n",
                "plt.plot(np.arange((len(ans_y))), ans_y, 'r,')\n",
                "plt.plot(np.arange(240), y_sgd, 'b')\n",
                "plt.tight_layout()\n",
                "#plt.savefig(os.path.join(os.path.dirname(__file__), \"HWO1/Compare\"))\n",
                "plt.show()\n"
            ]
        }
    ],
    "metadata": {
        "kernelspec": {
            "display_name": "Python 3",
            "language": "python",
            "name": "python3"
        },
        "language_info": {
            "codemirror_mode": {
                "name": "ipython",
                "version": 3
            },
            "file_extension": ".py",
            "mimetype": "text/x-python",
            "name": "python",
            "nbconvert_exporter": "python",
            "pygments_lexer": "ipython3",
            "version": "3.6.7"
        }
    },
    "nbformat": 4,
    "nbformat_minor": 2
}