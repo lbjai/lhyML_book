{
    "cells": [
        {
            "cell_type": "markdown",
            "metadata": {},
            "source": [
                "\n",
                "",
                "\n",
                "\n",
                "+ \u7ed3\u6784\u5316\u7ebf\u6027\u6a21\u578b\u7684\u4e09\u4e2a\u95ee\u9898\n",
                "\n"
            ]
        },
        {
            "cell_type": "markdown",
            "metadata": {},
            "source": [
                "### 1.\u7ed3\u6784\u5316\u7ebf\u6027\u6a21\u578b"
            ]
        },
        {
            "cell_type": "markdown",
            "metadata": {},
            "source": [
                "\n",
                "![](http://imgbed.momodel.cn/33-1 structured linear.png)"
            ]
        },
        {
            "cell_type": "markdown",
            "metadata": {},
            "source": [
                "#### 1.1 \u95ee\u98981"
            ]
        },
        {
            "cell_type": "markdown",
            "metadata": {},
            "source": [
                "\n",
                "",
                "\n",
                "$F(x,y)$ \u957f\u4ec0\u4e48\u6837\u5b50\uff1a"
            ]
        },
        {
            "cell_type": "markdown",
            "metadata": {},
            "source": [
                "![](http://imgbed.momodel.cn/33-2 problem1.png)",
                "\n",
                "\n",
                "\u5c06$ F(x,y) $\u8868\u793a\u6210\u4e0a\u56fe\u7684\u5f62\u5f0f\uff0c$ \\phi_1 (x,y) $,$ \\phi_2 (x,y) $,$ \\phi_3 (x,y) $\u8868\u793a$ x,y $\u7279\u5f811,2,3\u7684\u5f3a\u5ea6\u503c\uff1b\n",
                "\n",
                "$ F(x,y) $\u4f9d\u65e7\u662f$ x,y $\u7684\u51fd\u6570\uff0c$ w_1,w_2,w_3 $\u901a\u8fc7\u5b66\u4e60\u6570\u636e\u5f97\u5230"
            ]
        },
        {
            "cell_type": "markdown",
            "metadata": {},
            "source": [
                "\n",
                "",
                "\n",
                "![](http://imgbed.momodel.cn/33-3 object detection.png)",
                "\n",
                "\u6211\u4eec\u4f7f\u7528\u6df1\u5ea6\u5b66\u4e60\u6765\u62bd\u53d6\u7279\u5f81\uff1b\u5728\u76ee\u6807\u68c0\u6d4b\u4e2d\uff0c\u6211\u4eec\u4f7f\u7528\u5377\u79ef\u795e\u7ecf\u7f51\u7edc\u6765\u5f97\u5230$\\phi (x,y)$\n",
                "\n",
                "![](http://imgbed.momodel.cn/33-4 cnn.png)"
            ]
        },
        {
            "cell_type": "markdown",
            "metadata": {},
            "source": [
                "\n",
                "",
                " \n",
                "![](http://imgbed.momodel.cn/33-5 summarization.png)"
            ]
        },
        {
            "cell_type": "markdown",
            "metadata": {},
            "source": [
                "\n",
                "",
                " \n",
                "![](http://imgbed.momodel.cn/33-6 retrieval.png)"
            ]
        },
        {
            "cell_type": "markdown",
            "metadata": {},
            "source": [
                "#### 1.2 \u95ee\u98982"
            ]
        },
        {
            "cell_type": "markdown",
            "metadata": {},
            "source": [
                "\n",
                "",
                "\n",
                "\u5982\u4f55\u89e3\u51b3$arg$ $max$\u95ee\u9898\uff1a\n",
                "\n",
                "\n",
                "\n",
                "![](http://imgbed.momodel.cn/33-7 problem2.png)",
                "\n",
                "\u6211\u4eec\u5148\u5047\u8bbe\u95ee\u98982\u5df2\u7ecf\u88ab\u89e3\u51b3"
            ]
        },
        {
            "cell_type": "markdown",
            "metadata": {},
            "source": [
                "#### 1.3 \u95ee\u98983"
            ]
        },
        {
            "cell_type": "markdown",
            "metadata": {},
            "source": [
                "\n",
                "",
                "\n",
                "\u7ed9\u51fa\u8bad\u7ec3\u6570\u636e\uff0c\u5982\u4f55\u5b66\u4e60$ F(x,y) $\n",
                "\n",
                "+ $F(x,y)=w*\\phi(x,y)$,\u6211\u4eec\u9700\u8981\u505a\u7684\u5c31\u662f\u5b66\u4e60$w$\n",
                "\n",
                "\n",
                "![](http://imgbed.momodel.cn/33-8 problem3.png)",
                "\n",
                "\u6211\u4eec\u5e0c\u671b\u8bad\u7ec3\u6570\u636e\u96c6\u4e2d\u7684**$ w*\\phi(x^r,\\hat y^r) $ \u5927\u4e8e\u4e0d\u6b63\u786e\u7684\u6807\u7b7e\u5f97\u5230\u7684\u503c $w*\\phi(x^r, y^r)$**"
            ]
        },
        {
            "cell_type": "markdown",
            "metadata": {},
            "source": [
                "\u7ea2\u8272\u70b9\u8868\u793a\u8bad\u7ec3\u6570\u636e\u5f97\u5230\u7684\u7279\u5f81\u503c\uff0c\u5728\u56fe\u4e2d\u7531\u7ea2\u8272\u8fb9\u754c\u6846\u8868\u793a\u3002\n",
                "\n",
                "![](http://imgbed.momodel.cn/33-9 inner product.png)"
            ]
        },
        {
            "cell_type": "markdown",
            "metadata": {},
            "source": [
                "\u5982\u56fe\uff0c\u70b9\u7b26\u53f7\u548c\u661f\u661f\u7b26\u53f7\u5206\u522b\u8868\u793a\u4e0d\u540c\u7684\u6570\u636e\u70b9\uff1b\n",
                "\n",
                "![](http://imgbed.momodel.cn/33-10 p123.png)",
                "\n",
                "\n",
                "\u6211\u4eec\u9700\u8981\u627e\u4e00\u4e2a$w$,\u4f7f\u7ea2\u8272\u6807\u8bb0\u70b9\u7684\u7279\u5f81\u503c\u4e0e$w$\u70b9\u79ef\u7684\u7ed3\u679c\u6bd4\u5bf9\u5e94\u7684\u84dd\u8272\u6807\u8bb0\u70b9\u7684\u90fd\u5927\n",
                "\n",
                "![](http://imgbed.momodel.cn/33-11 max inner p.png)"
            ]
        },
        {
            "cell_type": "markdown",
            "metadata": {},
            "source": [
                "\n",
                "",
                "\n",
                "![](http://imgbed.momodel.cn/33-12 algorithm.png)",
                "\n",
                "+ do\n",
                "    + \u5faa\u73af\u6bcf\u4e00\u4e2a\u8bad\u7ec3\u6570\u636e\n",
                "        + \u6211\u4eec\u90fd\u8981\u627e\u5230\u4f7f$ w*\\phi(x^r,y) $\u6700\u5927\u7684\u6807\u7b7e<font size=3>$ \\tilde y^r $</font>\n",
                "    + if(\u6c42\u5f97\u7684\u6807\u7b7e\u503c\u4e0e\u8bad\u7ec3\u96c6\u6570\u636e\u7ed9\u5b9a\u7684\u6807\u7b7e\u503c\u4e0d\u540c)\n",
                "        + $w \\rightarrow w+\\phi(x^r,\\hat y^r)-\\phi(x^r,\\tilde y^r)$\n",
                "+ while($w$\u4e0d\u518d\u53d8\u5316)"
            ]
        },
        {
            "cell_type": "markdown",
            "metadata": {},
            "source": [
                "\n",
                "",
                "\n",
                "\u5bf9\u4e8e\u7b2c\u4e00\u4e2a\u8bad\u7ec3\u6570\u636e\u70b9\uff0c\u56e0\u4e3a\u521d\u59cb\u5316$w=0$,\n",
                "\n",
                "\u6240\u4ee5\u6211\u4eec\u968f\u610f\u9009\u62e9\u4e00\u4e2a$y$\u4f5c\u4e3a$\\tilde y^1$,\u7136\u540e\u66f4\u65b0$w$\n",
                "\n",
                "![](http://imgbed.momodel.cn/33-13 example.png)"
            ]
        },
        {
            "cell_type": "markdown",
            "metadata": {},
            "source": [
                "\u63a5\u4e0b\u6765\u9488\u5bf9\u7b2c\u4e8c\u4e2a\u8bad\u7ec3\u6570\u636e\u8fdb\u884c\u66f4\u65b0$w$\n",
                "\n",
                "![](http://imgbed.momodel.cn/33-14 data2.png)"
            ]
        },
        {
            "cell_type": "markdown",
            "metadata": {},
            "source": [
                "\u7ecf\u8fc7\u4e00\u6b21\u5faa\u73af\u4e4b\u540e\uff0c\u6211\u4eec\u53d1\u73b0$\\hat y^1=\\tilde y^1$, $\\hat y^2=\\tilde y^2$\n",
                "\n",
                "\u6b64\u65f6\u4efb\u52a1\u5b8c\u6210\uff0c\u4e0d\u9700\u8981\u518d\u8fdb\u884c\u66f4\u65b0\u3002\n",
                "\n",
                "![](http://imgbed.momodel.cn/33-15 done.png)"
            ]
        }
    ],
    "metadata": {
        "kernelspec": {
            "display_name": "Python 3",
            "language": "python",
            "name": "python3"
        },
        "language_info": {
            "codemirror_mode": {
                "name": "ipython",
                "version": 3
            },
            "file_extension": ".py",
            "mimetype": "text/x-python",
            "name": "python",
            "nbconvert_exporter": "python",
            "pygments_lexer": "ipython3",
            "version": "3.5.2"
        }
    },
    "nbformat": 4,
    "nbformat_minor": 2
}