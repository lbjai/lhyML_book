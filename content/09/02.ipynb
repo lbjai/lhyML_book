{
 "cells": [
  {
   "cell_type": "markdown",
   "metadata": {},
   "source": [
    "### 这节我们主要学习\n",
    "\n",
    "\n",
    "+ 结构化学习介绍\n",
    "+ 结构化学习的统一框架\n",
    "+ 结构化学习中需要解决的几个问题\n",
    "\n",
    "\n"
   ]
  },
  {
   "cell_type": "markdown",
   "metadata": {},
   "source": [
    "### 1. 结构化学习"
   ]
  },
  {
   "cell_type": "markdown",
   "metadata": {},
   "source": [
    "\n",
    "\n",
    "+ 我们需要一个功能更加强大的函数$f$\n",
    "  + 输入和输出都是具有结构的对象\n",
    "  + 对象：序列，列表，树，边界框\n",
    "  \n",
    "<font size=5> $f:X \\rightarrow Y$ </font>\n",
    "<br>\n",
    "\n",
    "$X$是一种对象的空间,$Y$是另一种对象的空间。\n",
    "\n",
    "在之前的课程中，输入和输出都是向量。"
   ]
  },
  {
   "cell_type": "markdown",
   "metadata": {},
   "source": [
    "\n",
    "\n",
    "+ 语音是被：\n",
    "  + X:语音信号(序列)$\\rightarrow$Y:文字（序列）\n",
    "  \n",
    "+ 翻译：\n",
    "  + X:普通话句子（序列）$\\rightarrow$Y:英文句子（序列）\n",
    "  \n",
    "+ 句法分析：\n",
    "  + X：句子$\\rightarrow$Y:解析树（树结构）\n",
    "  \n",
    "+ 目标检测：\n",
    "  + X:图像$\\rightarrow$Y:边界框\n",
    "  \n",
    "+ 总结：\n",
    "  + X：一段较长的文件$\\rightarrow$Y:概要（较短的段落）\n",
    "  \n",
    "+ 搜索：\n",
    "  + X:关键字$\\rightarrow$Y:搜索结果（网页列表）"
   ]
  },
  {
   "cell_type": "markdown",
   "metadata": {},
   "source": [
    "### 2.统一框架"
   ]
  },
  {
   "cell_type": "markdown",
   "metadata": {},
   "source": [
    "\n",
    "\n",
    "![](http://imgbed.momodel.cn/32-1 unified framework.png)\n",
    "$F(x,y)$用来衡量两个对象$x$，$y$到底有多匹配；\n",
    "\n",
    "在测试的时候，给定一个对象$x$，穷举所有的$y$，找到使$F(x,y)$最大的$y$\n",
    "\n",
    "<font size=3> $f:X \\rightarrow Y$ </font>中的$f$,是穷举的所有$y$中满足最大$F(x,y)$\n",
    "\n",
    "这种对应关系的映射。"
   ]
  },
  {
   "cell_type": "markdown",
   "metadata": {},
   "source": [
    "#### 2.1 目标检测"
   ]
  },
  {
   "cell_type": "markdown",
   "metadata": {},
   "source": [
    "\n",
    "\n",
    "+ 任务描述\n",
    "  + 使用边界框突出显示图像中某个对象的位置\n",
    "  + 例如，Haruhi的探测器\n",
    "  \n",
    "![](http://imgbed.momodel.cn/32-2 detector.png)"
   ]
  },
  {
   "cell_type": "markdown",
   "metadata": {},
   "source": [
    "![](http://imgbed.momodel.cn/32-3 train.png)\n",
    "输入为图像,输出为边界框；判断边界框的正确性。\n",
    "\n",
    "\n",
    "![](http://imgbed.momodel.cn/32-4 testing.png)\n",
    "测试时，穷举所有可能的边界框y，找到评分最高的<font size=4>$\\tilde y$</font>"
   ]
  },
  {
   "cell_type": "markdown",
   "metadata": {},
   "source": [
    "#### 2.2 文本总结"
   ]
  },
  {
   "cell_type": "markdown",
   "metadata": {},
   "source": [
    "\n",
    "\n",
    "+ 任务描述\n",
    "  + 给出一段较长的文档\n",
    "  + 在文档中选择一些句子，并级联句子形成一小段话\n",
    "  \n",
    "\n",
    "![](http://imgbed.momodel.cn/32-5 summarization.png)"
   ]
  },
  {
   "cell_type": "markdown",
   "metadata": {},
   "source": [
    "\n",
    "![](http://imgbed.momodel.cn/32-6 train and test.png)\n",
    "测试时穷举所有的 y，找到使 F(x,y) 最大的 y"
   ]
  },
  {
   "cell_type": "markdown",
   "metadata": {},
   "source": [
    "#### 2.4 关键字搜索"
   ]
  },
  {
   "cell_type": "markdown",
   "metadata": {},
   "source": [
    "\n",
    "\n",
    "+ 任务描述\n",
    "  + 用户输入关键字 Q\n",
    "  + 系统返回网页列表\n",
    "  \n",
    "![](http://imgbed.momodel.cn/32-7 retrival.png)\n",
    "\n"
   ]
  },
  {
   "cell_type": "markdown",
   "metadata": {},
   "source": [
    "找出评价函数F(x,y),穷举所有的y找到最佳的<font size=4>$\\tilde y$</font>\n",
    "\n",
    "![](http://imgbed.momodel.cn/32-8 retrieval1.png)"
   ]
  },
  {
   "cell_type": "markdown",
   "metadata": {},
   "source": [
    "#### 2.5 统一的框架"
   ]
  },
  {
   "cell_type": "markdown",
   "metadata": {},
   "source": [
    "\n",
    "\n",
    "![](http://imgbed.momodel.cn/32-9 unified .png)\n",
    "最终的目标就是找到使一起出现的概率最大的<font size=3>$\\tilde y$</font>\n",
    "\n",
    "我们把这里的 $F(x,y)$ 看做x，y 一起出现的概率；\n"
   ]
  },
  {
   "cell_type": "markdown",
   "metadata": {},
   "source": [
    "将$F(x,y)$ 看做概率：\n",
    "\n",
    "+ 缺点：\n",
    " + 并不是所有的模型都适合把$F(x,y)$ 看做概率\n",
    " + 0-1 约束不是必需的\n",
    "\n",
    "+ 优点：\n",
    " + $F(x,y)$ 具有实际意义\n",
    " + <font size=4>https://cs.nyu.edu/home/index.html</font>\n",
    " \n",
    " "
   ]
  },
  {
   "cell_type": "markdown",
   "metadata": {},
   "source": [
    "### 3. 待解决的问题"
   ]
  },
  {
   "cell_type": "markdown",
   "metadata": {},
   "source": [
    "\n",
    "\n",
    "![](http://imgbed.momodel.cn/32-10 problems.png)\n",
    "要实现这个Framework，要解决三个问题。"
   ]
  },
  {
   "cell_type": "markdown",
   "metadata": {},
   "source": [
    "\n",
    "+ 评价：$F(x,y)$应该长什么样子\n",
    "  + $F(x,y)$如何计算$x$和$y$的兼容性\n",
    "  \n",
    "![](http://imgbed.momodel.cn/32-11 problem1.png)"
   ]
  },
  {
   "cell_type": "markdown",
   "metadata": {},
   "source": [
    "\n",
    "+ 推理：如何解决“arg max”问题\n",
    "\n",
    "\n",
    "![](http://imgbed.momodel.cn/32-13 problems2.png)"
   ]
  },
  {
   "cell_type": "markdown",
   "metadata": {},
   "source": [
    "\n",
    "+ 训练：给出训练数据，找到$F(x,y)$\n",
    "\n",
    "\n",
    "![](http://imgbed.momodel.cn/32-14 problems3.png)"
   ]
  },
  {
   "cell_type": "markdown",
   "metadata": {},
   "source": [
    "\n",
    "![](http://imgbed.momodel.cn/32-15 link.png)"
   ]
  }
 ],
 "metadata": {
  "kernelspec": {
   "display_name": "Python 3",
   "language": "python",
   "name": "python3"
  },
  "language_info": {
   "codemirror_mode": {
    "name": "ipython",
    "version": 3
   },
   "file_extension": ".py",
   "mimetype": "text/x-python",
   "name": "python",
   "nbconvert_exporter": "python",
   "pygments_lexer": "ipython3",
   "version": "3.6.7"
  }
 },
 "nbformat": 4,
 "nbformat_minor": 2
}
