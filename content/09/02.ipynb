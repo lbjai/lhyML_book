{
    "cells": [
        {
            "cell_type": "markdown",
            "metadata": {},
            "source": [
                "\n",
                "",
                "\n",
                "\n",
                "+ \u7ed3\u6784\u5316\u5b66\u4e60\u4ecb\u7ecd\n",
                "+ \u7ed3\u6784\u5316\u5b66\u4e60\u7684\u7edf\u4e00\u6846\u67b6\n",
                "+ \u7ed3\u6784\u5316\u5b66\u4e60\u4e2d\u9700\u8981\u89e3\u51b3\u7684\u51e0\u4e2a\u95ee\u9898\n",
                "\n",
                "\n"
            ]
        },
        {
            "cell_type": "markdown",
            "metadata": {},
            "source": [
                "### 1. \u7ed3\u6784\u5316\u5b66\u4e60"
            ]
        },
        {
            "cell_type": "markdown",
            "metadata": {},
            "source": [
                "\n",
                "",
                "\n",
                "+ \u6211\u4eec\u9700\u8981\u4e00\u4e2a\u529f\u80fd\u66f4\u52a0\u5f3a\u5927\u7684\u51fd\u6570$f$\n",
                "  + \u8f93\u5165\u548c\u8f93\u51fa\u90fd\u662f\u5177\u6709\u7ed3\u6784\u7684\u5bf9\u8c61\n",
                "  + \u5bf9\u8c61\uff1a\u5e8f\u5217\uff0c\u5217\u8868\uff0c\u6811\uff0c\u8fb9\u754c\u6846\n",
                "  \n",
                "<font size=5> $f:X \\rightarrow Y$ </font>\n",
                "<br>\n",
                "\n",
                "$X$\u662f\u4e00\u79cd\u5bf9\u8c61\u7684\u7a7a\u95f4,$Y$\u662f\u53e6\u4e00\u79cd\u5bf9\u8c61\u7684\u7a7a\u95f4\u3002\n",
                "\n",
                "\u5728\u4e4b\u524d\u7684\u8bfe\u7a0b\u4e2d\uff0c\u8f93\u5165\u548c\u8f93\u51fa\u90fd\u662f\u5411\u91cf\u3002"
            ]
        },
        {
            "cell_type": "markdown",
            "metadata": {},
            "source": [
                "\n",
                "",
                "\n",
                "+ \u8bed\u97f3\u662f\u88ab\uff1a\n",
                "  + X:\u8bed\u97f3\u4fe1\u53f7(\u5e8f\u5217)$\\rightarrow$Y:\u6587\u5b57\uff08\u5e8f\u5217\uff09\n",
                "  \n",
                "+ \u7ffb\u8bd1\uff1a\n",
                "  + X:\u666e\u901a\u8bdd\u53e5\u5b50\uff08\u5e8f\u5217\uff09$\\rightarrow$Y:\u82f1\u6587\u53e5\u5b50\uff08\u5e8f\u5217\uff09\n",
                "  \n",
                "+ \u53e5\u6cd5\u5206\u6790\uff1a\n",
                "  + X\uff1a\u53e5\u5b50$\\rightarrow$Y:\u89e3\u6790\u6811\uff08\u6811\u7ed3\u6784\uff09\n",
                "  \n",
                "+ \u76ee\u6807\u68c0\u6d4b\uff1a\n",
                "  + X:\u56fe\u50cf$\\rightarrow$Y:\u8fb9\u754c\u6846\n",
                "  \n",
                "+ \u603b\u7ed3\uff1a\n",
                "  + X\uff1a\u4e00\u6bb5\u8f83\u957f\u7684\u6587\u4ef6$\\rightarrow$Y:\u6982\u8981\uff08\u8f83\u77ed\u7684\u6bb5\u843d\uff09\n",
                "  \n",
                "+ \u641c\u7d22\uff1a\n",
                "  + X:\u5173\u952e\u5b57$\\rightarrow$Y:\u641c\u7d22\u7ed3\u679c\uff08\u7f51\u9875\u5217\u8868\uff09"
            ]
        },
        {
            "cell_type": "markdown",
            "metadata": {},
            "source": [
                "### 2.\u7edf\u4e00\u6846\u67b6"
            ]
        },
        {
            "cell_type": "markdown",
            "metadata": {},
            "source": [
                "\n",
                "",
                "\n",
                "![](http://imgbed.momodel.cn/32-1 unified framework.png)",
                "\n",
                "$F(x,y)$\u7528\u6765\u8861\u91cf\u4e24\u4e2a\u5bf9\u8c61$x$\uff0c$y$\u5230\u5e95\u6709\u591a\u5339\u914d\uff1b\n",
                "\n",
                "\u5728\u6d4b\u8bd5\u7684\u65f6\u5019\uff0c\u7ed9\u5b9a\u4e00\u4e2a\u5bf9\u8c61$x$\uff0c\u7a77\u4e3e\u6240\u6709\u7684$y$\uff0c\u627e\u5230\u4f7f$F(x,y)$\u6700\u5927\u7684$y$\n",
                "\n",
                "<font size=3> $f:X \\rightarrow Y$ </font>\u4e2d\u7684$f$,\u662f\u7a77\u4e3e\u7684\u6240\u6709$y$\u4e2d\u6ee1\u8db3\u6700\u5927$F(x,y)$\n",
                "\n",
                "\u8fd9\u79cd\u5bf9\u5e94\u5173\u7cfb\u7684\u6620\u5c04\u3002"
            ]
        },
        {
            "cell_type": "markdown",
            "metadata": {},
            "source": [
                "#### 2.1 \u76ee\u6807\u68c0\u6d4b"
            ]
        },
        {
            "cell_type": "markdown",
            "metadata": {},
            "source": [
                "\n",
                "",
                "\n",
                "+ \u4efb\u52a1\u63cf\u8ff0\n",
                "  + \u4f7f\u7528\u8fb9\u754c\u6846\u7a81\u51fa\u663e\u793a\u56fe\u50cf\u4e2d\u67d0\u4e2a\u5bf9\u8c61\u7684\u4f4d\u7f6e\n",
                "  + \u4f8b\u5982\uff0cHaruhi\u7684\u63a2\u6d4b\u5668\n",
                "  \n",
                "![](http://imgbed.momodel.cn/32-2 detector.png)"
            ]
        },
        {
            "cell_type": "markdown",
            "metadata": {},
            "source": [
                "![](http://imgbed.momodel.cn/32-3 train.png)",
                "\n",
                "\u8f93\u5165\u4e3a\u56fe\u50cf,\u8f93\u51fa\u4e3a\u8fb9\u754c\u6846\uff1b\u5224\u65ad\u8fb9\u754c\u6846\u7684\u6b63\u786e\u6027\u3002\n",
                "\n",
                "\n",
                "![](http://imgbed.momodel.cn/32-4 testing.png)",
                "\n",
                "\u6d4b\u8bd5\u65f6\uff0c\u7a77\u4e3e\u6240\u6709\u53ef\u80fd\u7684\u8fb9\u754c\u6846y\uff0c\u627e\u5230\u8bc4\u5206\u6700\u9ad8\u7684<font size=4>$\\tilde y$</font>"
            ]
        },
        {
            "cell_type": "markdown",
            "metadata": {},
            "source": [
                "#### 2.2 \u6587\u672c\u603b\u7ed3"
            ]
        },
        {
            "cell_type": "markdown",
            "metadata": {},
            "source": [
                "\n",
                "",
                "\n",
                "+ \u4efb\u52a1\u63cf\u8ff0\n",
                "  + \u7ed9\u51fa\u4e00\u6bb5\u8f83\u957f\u7684\u6587\u6863\n",
                "  + \u5728\u6587\u6863\u4e2d\u9009\u62e9\u4e00\u4e9b\u53e5\u5b50\uff0c\u5e76\u7ea7\u8054\u53e5\u5b50\u5f62\u6210\u4e00\u5c0f\u6bb5\u8bdd\n",
                "  \n",
                "\n",
                "![](http://imgbed.momodel.cn/32-5 summarization.png)"
            ]
        },
        {
            "cell_type": "markdown",
            "metadata": {},
            "source": [
                "\n",
                "![](http://imgbed.momodel.cn/32-6 train and test.png)",
                "\n",
                "\u6d4b\u8bd5\u65f6\u7a77\u4e3e\u6240\u6709\u7684 y\uff0c\u627e\u5230\u4f7f F(x,y) \u6700\u5927\u7684 y"
            ]
        },
        {
            "cell_type": "markdown",
            "metadata": {},
            "source": [
                "#### 2.4 \u5173\u952e\u5b57\u641c\u7d22"
            ]
        },
        {
            "cell_type": "markdown",
            "metadata": {},
            "source": [
                "\n",
                "",
                "\n",
                "+ \u4efb\u52a1\u63cf\u8ff0\n",
                "  + \u7528\u6237\u8f93\u5165\u5173\u952e\u5b57 Q\n",
                "  + \u7cfb\u7edf\u8fd4\u56de\u7f51\u9875\u5217\u8868\n",
                "  \n",
                "![](http://imgbed.momodel.cn/32-7 retrival.png)",
                "\n",
                "\n"
            ]
        },
        {
            "cell_type": "markdown",
            "metadata": {},
            "source": [
                "\u627e\u51fa\u8bc4\u4ef7\u51fd\u6570F(x,y),\u7a77\u4e3e\u6240\u6709\u7684y\u627e\u5230\u6700\u4f73\u7684<font size=4>$\\tilde y$</font>\n",
                "\n",
                "![](http://imgbed.momodel.cn/32-8 retrieval1.png)"
            ]
        },
        {
            "cell_type": "markdown",
            "metadata": {},
            "source": [
                "#### 2.5 \u7edf\u4e00\u7684\u6846\u67b6"
            ]
        },
        {
            "cell_type": "markdown",
            "metadata": {},
            "source": [
                "\n",
                "",
                "\n",
                "![](http://imgbed.momodel.cn/32-9 unified .png)",
                "\n",
                "\u6700\u7ec8\u7684\u76ee\u6807\u5c31\u662f\u627e\u5230\u4f7f\u4e00\u8d77\u51fa\u73b0\u7684\u6982\u7387\u6700\u5927\u7684<font size=3>$\\tilde y$</font>\n",
                "\n",
                "\u6211\u4eec\u628a\u8fd9\u91cc\u7684 $F(x,y)$ \u770b\u505ax\uff0cy \u4e00\u8d77\u51fa\u73b0\u7684\u6982\u7387\uff1b\n"
            ]
        },
        {
            "cell_type": "markdown",
            "metadata": {},
            "source": [
                "\u5c06$F(x,y)$ \u770b\u505a\u6982\u7387\uff1a\n",
                "\n",
                "+ \u7f3a\u70b9\uff1a\n",
                " + \u5e76\u4e0d\u662f\u6240\u6709\u7684\u6a21\u578b\u90fd\u9002\u5408\u628a$F(x,y)$ \u770b\u505a\u6982\u7387\n",
                " + 0-1 \u7ea6\u675f\u4e0d\u662f\u5fc5\u9700\u7684\n",
                "\n",
                "+ \u4f18\u70b9\uff1a\n",
                " + $F(x,y)$ \u5177\u6709\u5b9e\u9645\u610f\u4e49\n",
                " + <font size=4>https://cs.nyu.edu/home/index.html</font>\n",
                " \n",
                " "
            ]
        },
        {
            "cell_type": "markdown",
            "metadata": {},
            "source": [
                "### 3. \u5f85\u89e3\u51b3\u7684\u95ee\u9898"
            ]
        },
        {
            "cell_type": "markdown",
            "metadata": {},
            "source": [
                "\n",
                "",
                "\n",
                "![](http://imgbed.momodel.cn/32-10 problems.png)",
                "\n",
                "\u8981\u5b9e\u73b0\u8fd9\u4e2aFramework\uff0c\u8981\u89e3\u51b3\u4e09\u4e2a\u95ee\u9898\u3002"
            ]
        },
        {
            "cell_type": "markdown",
            "metadata": {},
            "source": [
                "",
                "\n",
                "+ \u8bc4\u4ef7\uff1a$F(x,y)$\u5e94\u8be5\u957f\u4ec0\u4e48\u6837\u5b50\n",
                "  + $F(x,y)$\u5982\u4f55\u8ba1\u7b97$x$\u548c$y$\u7684\u517c\u5bb9\u6027\n",
                "  \n",
                "![](http://imgbed.momodel.cn/32-11 problem1.png)"
            ]
        },
        {
            "cell_type": "markdown",
            "metadata": {},
            "source": [
                "",
                "\n",
                "+ \u63a8\u7406\uff1a\u5982\u4f55\u89e3\u51b3\u201carg max\u201d\u95ee\u9898\n",
                "\n",
                "\n",
                "![](http://imgbed.momodel.cn/32-13 problems2.png)"
            ]
        },
        {
            "cell_type": "markdown",
            "metadata": {},
            "source": [
                "",
                "\n",
                "+ \u8bad\u7ec3\uff1a\u7ed9\u51fa\u8bad\u7ec3\u6570\u636e\uff0c\u627e\u5230$F(x,y)$\n",
                "\n",
                "\n",
                "![](http://imgbed.momodel.cn/32-14 problems3.png)"
            ]
        },
        {
            "cell_type": "markdown",
            "metadata": {},
            "source": [
                "\n",
                "![](http://imgbed.momodel.cn/32-15 link.png)"
            ]
        },
        {
            "cell_type": "markdown",
            "metadata": {},
            "source": [
                "**\u725b\u5200\u5c0f\u8bd5**\n",
                "\n",
                "\u601d\u8003\uff1a\u7ed3\u6784\u5316\u5b66\u4e60\u4e0eDNN\u6709\u4ec0\u4e48\u5173\u7cfb\uff1f"
            ]
        },
        {
            "cell_type": "markdown",
            "metadata": {},
            "source": [
                "<span class='md-hint-alone-link pop 0'>\u67e5\u770b\u7b54\u6848</span>"
            ]
        }
    ],
    "metadata": {
        "kernelspec": {
            "display_name": "Python 3",
            "language": "python",
            "name": "python3"
        },
        "language_info": {
            "codemirror_mode": {
                "name": "ipython",
                "version": 3
            },
            "file_extension": ".py",
            "mimetype": "text/x-python",
            "name": "python",
            "nbconvert_exporter": "python",
            "pygments_lexer": "ipython3",
            "version": "3.5.2"
        }
    },
    "nbformat": 4,
    "nbformat_minor": 2
}