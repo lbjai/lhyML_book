{
    "cells": [
        {
            "cell_type": "markdown",
            "metadata": {},
            "source": [
                "### \u8fd9\u4e00\u8282\u6211\u4eec\u4e3b\u8981\u5b66\u4e60",
                "\n",
                "+ \u652f\u6301\u5411\u91cf\u673a\u7684\u4ecb\u7ecd\n",
                "+ \u94f0\u94fe\u635f\u5931\n",
                "+ \u7ebf\u6027\u652f\u6301\u5411\u91cf\u673a\n",
                "+ \u6838\u65b9\u6cd5"
            ]
        },
        {
            "cell_type": "markdown",
            "metadata": {},
            "source": [
                "### 1. \u652f\u6301\u5411\u91cf\u79ef"
            ]
        },
        {
            "cell_type": "markdown",
            "metadata": {},
            "source": [
                "",
                "\n",
                "\n",
                "[\u652f\u6301\u5411\u91cf\u673a(SVM)](https://baike.baidu.com/item/%E6%94%AF%E6%8C%81%E5%90%91%E9%87%8F%E6%9C%BA/9683835?fr=aladdin)\u57fa\u672c\u6a21\u578b\u662f\u5b9a\u4e49\u5728\u7279\u5f81\u7a7a\u95f4\u4e0a\u7684\u95f4\u9694\u6700\u5927\u7684\u7ebf\u6027\u5206\u7c7b\u5668\uff0c\u4e3b\u8981\u6709 2 \u5927\u7279\u70b9: **Hinge Loss** \u548c **Kernel Method **\u3002<br>\n",
                "SVM\u662f\u4e00\u79cd\u5206\u7c7b\u6a21\u578b\uff0c\u5229\u7528\u652f\u6301\u5411\u91cf\u5bfb\u627e\u8d85\u5e73\u9762\uff0c\u53ef\u4ee5\u7528\u4e8e\u89e3\u51b3\u56de\u5f52\u548c\u5206\u7c7b\u95ee\u9898\u3002<br>"
            ]
        },
        {
            "cell_type": "markdown",
            "metadata": {},
            "source": [
                "![](http://imgbed.momodel.cn/31_01_SVM.png)"
            ]
        },
        {
            "cell_type": "markdown",
            "metadata": {},
            "source": [
                "<br>"
            ]
        },
        {
            "cell_type": "markdown",
            "metadata": {},
            "source": [
                "### 2. \u94f0\u94fe\u635f\u5931\u51fd\u6570"
            ]
        },
        {
            "cell_type": "markdown",
            "metadata": {},
            "source": [
                "",
                "\n",
                "![](http://imgbed.momodel.cn/31_02_SVM_BC.png)"
            ]
        },
        {
            "cell_type": "markdown",
            "metadata": {},
            "source": [
                "\u5728**\u6b65\u9aa4 2**\u4e2d\uff0c\u5982\u679c\u6211\u4eec\u91c7\u7528 <font size=3.5>$\\delta (g(x^n) \\ne \\hat y^n)$</font> ,\u5728\u7b2c\u4e09\u6b65\u5bf9\u76ee\u6807\u51fd\u6570\u8fdb\u884c\u4f18\u5316\u7684\u65f6\u5019\uff0c\u4f1a\u51fa\u73b0\u4e0d\u53ef\u5fae\u5206\u7684\u60c5\u51b5\u3002<br>\n",
                "\u5176\u4e2d <font size=3.5>$\\delta (g(x^n) \\ne \\hat y^n)$</font>  \u51fd\u6570\u8868\u793a\uff0c\u5f53 $g(x^n)$ \u548c $y^n$ \u4e0d\u76f8\u7b49\u65f6\uff0c\u51fd\u6570\u503c\u53d6 1 \uff1b\u5f53 $g(x^n)$ \u548c $y^n$ \u76f8\u7b49\u65f6\uff0c\u51fd\u6570\u503c\u53d6 0 \u3002\n",
                "\n",
                "\u6211\u4eec\u4f7f\u7528\u4e00\u4e2a\u8fd1\u4f3c\u7684\u51fd\u6570 <font size=3.5>$l(f(x^n),\\hat y^n)$</font> \u6765\u4ee3\u66ff\u51fd\u6570 <font size=3.5>$\\delta (g(x^n) \\ne \\hat y^n)$</font> \u6765\u89e3\u51b3\u4f18\u5316\u8fc7\u7a0b\u51fa\u73b0\u7684\u4e0d\u53ef\u5fae\u5206\u7684\u95ee\u9898\u3002"
            ]
        },
        {
            "cell_type": "markdown",
            "metadata": {},
            "source": [
                "",
                "\n",
                "![](http://imgbed.momodel.cn/31_03_SVM_loss.png)"
            ]
        },
        {
            "cell_type": "markdown",
            "metadata": {},
            "source": [
                "<font size=3.5>$\\hat{y}f(x)$</font> \u8868\u793a\u8bad\u7ec3\u96c6\u4e2d\u6570\u636e\u7684\u6807\u7b7e\u503c\u3002\u5f53\u6807\u7b7e\u503c\u4e3a +1 \u65f6\uff0c\u6211\u4eec\u5e0c\u671b <font size=3.5>$f(x)$</font> \u7684\u503c\u8d8a\u6b63\u8d8a\u597d\uff1b\u5f53\u6807\u7b7e\u503c\u4e3a -1 \u65f6\uff0c\u6211\u4eec\u5e0c\u671b <font size=3.5>$f(x)$</font> \u7684\u503c\u8d8a\u8d1f\u8d8a\u597d\u3002<br>\n",
                "\u6574\u4f53\u6765\u770b\uff0c\u6211\u4eec\u5e0c\u671b <font size=3.5>$\\hat y^nf(x)$</font> \u7684\u503c\u8d8a\u5927\u8d8a\u597d\u3002 <font size=3.5>$\\hat y^nf(x)$</font> \u7684\u503c\u8d8a\u5927\uff0c\u635f\u5931\u5c31\u8d8a\u5c0f\u3002<br>\n",
                "<br>\n",
                "\u6211\u4eec\u7528\u6a2a\u5750\u6807 <font size=3.5>$\\hat y^nf(x)$</font> \u7684\u503c\uff0c\u7eb5\u5750\u6807\u8868\u793a\u635f\u5931\u51fd\u6570\u7684\u503c\u3002<br>\n",
                "\u7406\u60f3\u7684\u635f\u5931\u51fd\u6570 <font size=3.5>$\\delta (g(x^n) \\ne \\hat y^n)$</font> \u5728\u4f18\u5316\u8fc7\u7a0b\u4e2d\u51fa\u73b0\u4e0d\u53ef\u5fae\u5206\u7684\u60c5\u51b5\uff0c\n",
                "\u6211\u4eec\u4f7f\u7528\u8fd1\u4f3c\u7684\u51fd\u6570 <font size=3.5>$l(f(x^n),\\hat y^n)$</font> \u6765\u4ee3\u66ff\uff0c\u5176\u4e2d\u635f\u5931\u51fd\u6570\u53ef\u4ee5\u7531\u6211\u4eec\u81ea\u5df1\u6765\u5b9a\u4e49\u3002\n"
            ]
        },
        {
            "cell_type": "markdown",
            "metadata": {},
            "source": [
                "",
                "\n",
                "![](http://imgbed.momodel.cn/31_04_SVM_loss.png)"
            ]
        },
        {
            "cell_type": "markdown",
            "metadata": {},
            "source": [
                "\u5f53 <font size=3.5>$\\hat y^n$</font>$=+1$ \u65f6\uff0c\u6211\u4eec\u5e0c\u671b <font size=3.5>$f(x)$</font> \u7684\u503c\u8d8a\u63a5\u8fd1 +1 \u8d8a\u597d\uff1b\u5f53 <font size=3.5>$\\hat y^n$</font>$=-1$ \u65f6\uff0c\u6211\u4eec\u5e0c\u671b <font size=3.5>$f(x)$</font> \u7684\u503c\u8d8a\u63a5\u8fd1 -1 \u8d8a\u597d\u3002<br>\n",
                "\u5e73\u65b9\u635f\u5931\u51fd\u6570\uff08\u7ea2\u8272\u7684\u7ebf\uff09\u53ef\u8868\u793a\u4e3a <font size=3.5>$l(f(x^n),\\hat y^n)={(\\hat y^nf(x^n)-1)}^2$</font> \u3002<br>\n",
                "\u4f46\u662f\u8be5\u51fd\u6570\u662f\u4e0d\u5408\u7406\u7684\uff1a\u5f53 <font size=3.5>$\\hat{y}f(x)$</font> \u5f88\u5927\u65f6\uff0c\u635f\u5931\u51fd\u6570\u7684\u5f88\u5927\uff0c\u4e0d\u6ee1\u8db3\u6211\u4eec\u5bf9\u635f\u5931\u51fd\u6570\u7684\u8981\u6c42\u3002\n"
            ]
        },
        {
            "cell_type": "markdown",
            "metadata": {},
            "source": [
                "",
                "\n",
                "![](http://imgbed.momodel.cn/31_05_SVM_loss.png)",
                "\n"
            ]
        },
        {
            "cell_type": "markdown",
            "metadata": {},
            "source": [
                "\u5f53 <font size=3.5>$\\hat y^n$</font>$=+1$ \u65f6\uff0c\u6211\u4eec\u5e0c\u671b <font size=3.5>$\\delta (f(x))$</font> \u7684\u503c\u8d8a\u63a5\u8fd1 +1 \u8d8a\u597d\uff1b\u5f53 <font size=3.5>$\\hat y^n$</font>$=-1$ \u65f6\uff0c\u6211\u4eec\u5e0c\u671b <font size=3.5>$\\delta (f(x))$</font> \u7684\u503c\u8d8a\u63a5\u8fd1 0 \u8d8a\u597d\u3002<br>\n",
                "\u5e73\u65b9\u635f\u5931\u51fd\u6570\uff08\u84dd\u8272\u7684\u7ebf\uff09\u53ef\u8868\u793a\u4e3a <font size=3.5>$l(f(x^n),\\hat y^n)={ (\\delta (\\hat y^nf(x^n))-1)}^2$</font> \u3002<br>\n",
                "\u4f46\u5b9e\u9645\u4e0a\u5728\u89e3\u51b3\u4e8c\u5206\u7c7b\u95ee\u9898\uff0c\u5229\u7528\u903b\u8f91\u56de\u5f52\u65b9\u6cd5\u65f6\uff0c\u6211\u4eec\u4e0d\u4f1a\u7528 <font size=4>$square$ $loss$</font> \u4f5c\u4e3a\u635f\u5931\u51fd\u6570\uff0c\u800c\u662f\u4f7f\u7528<font size=4>$cross$ $entropy$</font>\u3002<br>\n"
            ]
        },
        {
            "cell_type": "markdown",
            "metadata": {},
            "source": [
                "",
                "\n",
                "![](http://imgbed.momodel.cn/31_06_SVM_loss.png)"
            ]
        },
        {
            "cell_type": "markdown",
            "metadata": {},
            "source": [
                "\u5229\u7528 <font size=4>$ sigmoid + cross entropy$</font> \u8ba1\u7b97\u5f97\u5230\u7684\u635f\u5931\u51fd\u6570\u8868\u8fbe\u5f0f\u4e3a  <font size=3.5>$l(f(x^n),\\hat y^n)=ln(1+exp(-\\hat y^n f(x))$</font> "
            ]
        },
        {
            "cell_type": "markdown",
            "metadata": {},
            "source": [
                "Sigmoid + cross entropy\uff1a\u7eff\u8272\u7ebf\uff1b\u56fe\u7247\u4e2d\u66f2\u7ebf\u9664\u4ee5ln2 <br>\n",
                "Sigmoid + cross entropy\uff1a\u84dd\u8272\u7ebf\uff1b<br>\n",
                "\n",
                "\u7eff\u8272\u66f2\u7ebf\u7684\u635f\u5931\u51fd\u6570\u4e00\u4fa7\u8d8b\u4e8e 0 \uff0c\u4e00\u4fa7\u8d8b\u4e8e\u65e0\u7a77\u5927\uff0c\u662f\u5408\u7406\u7684\u3002<br>\n",
                "\n",
                "\u6bd4\u8f83\u7eff\u7ebf\u548c\u84dd\u7ebf\uff0c\u53ef\u77e5\u9053\u4e3a\u4ec0\u4e48\u5728\u903b\u8f91\u56de\u5f52\u65f6\u8981\u7528cross entropy\u4f5c\u4e3a\u635f\u5931\u51fd\u6570\uff0c\u800c\u4e0d\u7528square loss\uff1a\n",
                "\n",
                "$\\hat{y}f(x)$ \u4ece-2\u53d8\u5230-1\u65f6\uff0c\u84dd\u8272\u7ebf\u53d8\u5316\u5f88\u5c0f\uff0c\u7eff\u8272\u7ebf\u53d8\u5316\u5f88\u5927\uff1b<br>\n",
                "\u6216\u8005\u8bf4\u7eff\u8272\u66f2\u7ebf\uff1a\u52aa\u529b\u5c31\u53ef\u4ee5\u6709\u56de\u62a5\uff1b\u800c\u84dd\u8272\u66f2\u7ebf\uff1a\u6ca1\u6709\u56de\u62a5\u4e0d\u60f3\u52aa\u529b \u6765\u7406\u89e3\u8fd9\u6bb5\u5173\u7cfb\u3002\n",
                "$\\hat{y}f(x)$ \u5f88\u8d1f\u65f6\uff0c\u5e94\u8be5\u671d\u6b63\u65b9\u5411\u8c03\u6574\uff0c\u4f46\u5bf9\u84dd\u8272\u7ebf\u6765\u8bb2\u8c03\u6574\u6ca1\u6709\u56de\u62a5\uff0c\u800c\u5bf9\u7eff\u8272\u7ebf\u8c03\u6574\u6709\u56de\u62a5\u3002<br> \n"
            ]
        },
        {
            "cell_type": "markdown",
            "metadata": {},
            "source": [
                "",
                "\n",
                "![](http://imgbed.momodel.cn/31_07_SVM_loss.png)"
            ]
        },
        {
            "cell_type": "markdown",
            "metadata": {},
            "source": [
                "\u635f\u5931\u51fd\u6570 <font size=4>$l(f(x^n),\\hat{y}^n)=max(0,1-\\hat y^nf(x))$</font>\uff0c\u5728\u56fe\u4e2d\u7531\u7d2b\u8272\u7684\u7ebf\u8868\u793a\u3002<br>\n",
                "\u5f53 <font size=4>$\\hat y^nf(x)$</font> \u7684\u503c\u5927\u4e8e 1 \u7684\u65f6\u5019\uff0c<font size=4>$loss$</font> \u7684\u503c\u4e3a 0\uff1b<br>\n",
                "\u5f53 <font size=4>$\\hat y^nf(x)$</font> \u7684\u503c\u5728 0 \u548c 1 \u4e4b\u95f4\u7684\u65f6\u5019\uff0c<font size=4>$loss$</font> \u4f1a\u6709\u4e00\u4e2a\u8f83\u5c0f\u7684\u503c\uff0c\u8868\u793a\u9884\u6d4b\u7684\u7ed3\u679c\u8fd8\u4e0d\u8db3\u591f\u597d\uff0c\u9700\u8981\u7ee7\u7eed\u4f18\u5316\u3002<br>\n",
                "\u51fd\u6570\u8868\u8fbe\u5f0f\u4e2d\u7684 \u201c1\u201d \u53ef\u4ee5\u770b\u505a\u662f <font size=4>$Ideal$ $loss$</font> \u7684\u4e0a\u754c,\u6211\u4eec\u5e0c\u671b\u901a\u8fc7\u6700\u5c0f\u5316\u94f0\u94fe\u635f\u5931\u51fd\u6570\u7684\u503c\u6765\u8fbe\u5230\u6700\u5c0f\u5316\u7406\u60f3\u635f\u5931\u51fd\u6570\u7684\u76ee\u7684\u3002<br>"
            ]
        },
        {
            "cell_type": "markdown",
            "metadata": {},
            "source": [
                "\n",
                "+ <font size=3.5>$Hinge$ $Loss$</font> \u4e0e <font size=3.5>$Sigmoid + cross entropy$</font> \u76f8\u6bd4\uff0c\u533a\u522b\u5728\u4e8e\uff1a<br>\n",
                "\u5f53 <font size=3.5>$\\hat y^nf(x)$</font> \u7684\u503c\u5927\u4e8e 1 \u7684\u65f6\u5019\uff0c<font size=3.5>$Hinge$ $Loss$</font> \u5c06\u4e0d\u518d\u8fdb\u884c\u4f18\u5316,\u800c <font size=3.5>$Sigmoid + cross entropy$</font> \u4f1a\u7ee7\u7eed\u5bf9\u76ee\u6807\u51fd\u6570\u8fdb\u884c\u4f18\u5316\uff1b<br>\n",
                "\u5728\u5b9e\u8df5\u4e2d\u7684\u8fc7\u7a0b\u4e2d\u4e24\u8005\u7684\u8868\u73b0\u76f8\u5dee\u65e0\u51e0\uff0c\u5f53\u9047\u5230 <font size=3.5>$outlier$</font> \u7684\u60c5\u51b5\u7684\u65f6\u5019\uff0c<font size=3.5>$Hinge$ $Loss$</font> \u7684\u8868\u73b0\u8981\u66f4\u597d\uff0c\u5177\u6709\u8f83\u5f3a\u7684\u9c81\u68d2\u6027\u3002<br>\n",
                "\n"
            ]
        },
        {
            "cell_type": "markdown",
            "metadata": {},
            "source": [
                "### 3. \u7ebf\u6027\u652f\u6301\u5411\u91cf\u673a\uff08Linear SVM\uff09"
            ]
        },
        {
            "cell_type": "markdown",
            "metadata": {},
            "source": [
                "",
                "\n",
                "\n",
                "![](http://imgbed.momodel.cn/31_08_SVM_linearSVM.png)"
            ]
        },
        {
            "cell_type": "markdown",
            "metadata": {},
            "source": [
                "+ \u6b65\u9aa4\u4e00\uff1a\u7ebf\u6027\u652f\u6301\u5411\u91cf\u673a\u4e2d\u7684 <font size=4>$f(x)$</font> \u662f\u7ebf\u6027\u7684\uff0c\u53ef\u4ee5\u8868\u793a\u4e3a\u4e24\u4e2a\u5411\u91cf\u7684\u5185\u79ef\u7684\u5f62\u5f0f\u3002\n",
                "+ \u6b65\u9aa4\u4e8c\uff1a\u652f\u6301\u5411\u91cf\u673a\u4e2d\u7684\u635f\u5931\u51fd\u6570\u901a\u5e38\u91c7\u7528\u94f0\u94fe\u635f\u5931\u51fd\u6570,\u901a\u5e38\u8fd8\u4f1a\u52a0\u4e0a\u6b63\u5219\u5316\u7684\u90e8\u5206\u3002\n",
                "+ \u6b65\u9aa4\u4e09\uff1a\u7531\u4e8e\u635f\u5931\u51fd\u6570\u4e2d\u7684\u94f0\u94fe\u635f\u5931\u51fd\u6570\u548c\u6b63\u5219\u5316\u7684\u90e8\u5206\u90fd\u662f\u51f8\u51fd\u6570\uff0c\u6240\u4ee5\u635f\u5931\u51fd\u6570\u4e5f\u662f\u51f8\u51fd\u6570\uff0c\u53ef\u4ee5\u901a\u8fc7\u68af\u5ea6\u4e0b\u964d\u627e\u5230\u6700\u4f18\u89e3\u3002"
            ]
        },
        {
            "cell_type": "markdown",
            "metadata": {},
            "source": [
                "",
                "\n",
                "![](http://imgbed.momodel.cn/31_09_SVM_linearSVM.png)"
            ]
        },
        {
            "cell_type": "markdown",
            "metadata": {},
            "source": [
                "\u5ffd\u7565\u6b63\u5219\u5316\u7684\u90e8\u5206\uff0c\u4f7f\u7528\u68af\u5ea6\u4e0b\u964d\u7684\u65b9\u6cd5\u6700\u5c0f\u5316\u635f\u5931\u51fd\u6570\u5173\u952e\u5728\u4e8e\u6c42\u89e3\u635f\u5931\u51fd\u6570\u5bf9\u6743\u91cd $w$ \u7684\u504f\u5fae\u5206\u3002<br>\n",
                "\u8fd9\u91cc\u6211\u4eec\u4f7f\u7528\u94fe\u5f0f\u6cd5\u5219\u6765\u6c42\u89e3\uff0c\u91cd\u70b9\u5728\u4e8e\u6c42\u89e3 <font size=5>$\\frac{\\partial l(f(x^n),\\hat y^n)}{\\partial f(x^n)}$</font>\uff1a<br>\n",
                "\u5f53 <font size=4>$\\hat y^nf(x^n)$</font> \u5c0f\u4e8e 1 \u65f6\uff0c\u504f\u5bfc\u503c\u4e3a <font size=4>$-\\hat y^n$</font> ;<br>\n",
                "\u5f53 <font size=4>$\\hat y^nf(x^n)$</font> \u5927\u4e8e 1 \u65f6\uff0c\u504f\u5bfc\u503c\u4e3a 0\u3002<br>"
            ]
        },
        {
            "cell_type": "markdown",
            "metadata": {},
            "source": [
                "\n",
                "\u56fe\u4e2d\u7ea2\u8272\u65b9\u6846\u7b49\u4e8e$x^n_i$ , \u5c06\u5212\u7ea2\u7ebf\u7684\u90e8\u5206\u5b9a\u4e49\u4e3a$c^n(w)$\uff08\u4f9d\u8d56\u4e8e\u73b0\u5728\u7684\u53c2\u6570w\uff09\uff0c\u7ea2\u7ebf\u540e\u9762\u7684$x_i$ \u5e94\u6539\u4e3a$x^n_i$\u3002"
            ]
        },
        {
            "cell_type": "markdown",
            "metadata": {},
            "source": [
                "",
                "\n",
                "![](http://imgbed.momodel.cn/31_10_SVM_linearSVM.png)"
            ]
        },
        {
            "cell_type": "markdown",
            "metadata": {},
            "source": [
                "\u6211\u4eec\u5c06 <font size=4>$l(f(x^n),\\hat{y}^n)$</font> \u8bb0\u4f5c $\u03b5^n$\uff1a<br>\n",
                "\u4e0a\u4e0b\u4e24\u4e2a\u7ea2\u8272\u65b9\u6846\u91cc\u7684\u5185\u5bb9\u662f\u4e0d\u7b49\u4ef7\u7684\uff08\u4e0a\u9762\u53ef\u4ee5\u63a8\u51fa\u4e0b\u9762\uff0c\u4f46\u662f\u4e0b\u9762\u4e0d\u80fd\u63a8\u51fa\u4e0a\u9762\uff09\uff0c\u4f46\u662f\u52a0\u4e0a\u201c\u6700\u5c0f\u5316\u635f\u5931\u51fd\u6570 L\u201d\u8fd9\u4e2a\u6761\u4ef6\u4e4b\u540e\uff0c\u4e8c\u8005\u5c31\u7b49\u4ef7\u4e86\u3002<br>\n",
                "\n",
                "\u4e0b\u9762\u7ea2\u8272\u65b9\u6846\u91cc\u7684\u5f0f\u5b50\u5c31\u662f\u6211\u4eec\u5e38\u89c1\u7684 SVM \u7684\u7ea6\u675f\u5f62\u5f0f\uff0c$\u03b5^n$ \u79f0\u4e3a\u677e\u5f1b\u56e0\u5b50\u3002<br>\n",
                "\u5728\u6ee1\u8db3\u4e0a\u8ff0\u7ea6\u675f\u6761\u4ef6\u7684\u60c5\u51b5\u4e0b\uff0c\u6211\u4eec\u9700\u8981\u6c42\u89e3\u635f\u5931\u51fd\u6570\u7684\u6700\u5c0f\u503c\u3002\u8fd9\u662f\u4e00\u4e2a\u4e8c\u6b21\u89c4\u5212\u95ee\u9898\uff0c\u56e0\u6b64\u6211\u4eec\u53ef\u4ee5\u4f7f\u7528\u4e8c\u6b21\u89c4\u5212\u7684\u65b9\u6cd5\u6c42\u89e3\u652f\u6301\u5411\u91cf\u673a\u7684\u95ee\u9898\u3002<br>\n",
                "\u9488\u5bf9\u4ee5\u4e0a\u4e24\u79cd\u4e0d\u540c\u5f62\u5f0f\u7684\u652f\u6301\u5411\u91cf\u673a\uff0c\u6211\u4eec\u5206\u522b\u53ef\u4ee5\u4f7f\u7528\u68af\u5ea6\u4e0b\u964d\u548c\u4e8c\u6b21\u89c4\u5212\u7684\u65b9\u6cd5\u6765\u6c42\u89e3\u3002"
            ]
        },
        {
            "cell_type": "markdown",
            "metadata": {},
            "source": [
                "### 4. \u6838\u65b9\u6cd5"
            ]
        },
        {
            "cell_type": "markdown",
            "metadata": {},
            "source": [
                "\u6838\u65b9\u6cd5\u662fSVM\u7684\u7b2c\u4e8c\u5927\u7279\u70b9\u3002\u6838\u65b9\u6cd5\u7684\u4e3b\u8981\u601d\u60f3\u662f\u57fa\u4e8e\u8fd9\u6837\u4e00\u4e2a\u5047\u8bbe\uff1a<br>\n",
                "\u201c\u5728\u4f4e\u7ef4\u7a7a\u95f4\u4e2d\u4e0d\u80fd\u7ebf\u6027\u5206\u5272\u7684\u70b9\u96c6\uff0c\u901a\u8fc7\u8f6c\u5316\u4e3a\u9ad8\u7ef4\u7a7a\u95f4\u4e2d\u7684\u70b9\u96c6\u65f6\uff0c\u5f88\u6709\u53ef\u80fd\u53d8\u4e3a\u7ebf\u6027\u53ef\u5206\u7684\u201d\u3002<br>"
            ]
        },
        {
            "cell_type": "markdown",
            "metadata": {},
            "source": [
                "",
                "\n",
                "\n",
                "\n",
                "![](http://imgbed.momodel.cn/31_11_SVM_KernelMethod.png)"
            ]
        },
        {
            "cell_type": "markdown",
            "metadata": {},
            "source": [
                "+ \u53cc\u91cd\u8868\u5f81\u6307\u7684\u662f\uff1a\u6700\u5c0f\u5316\u635f\u5931\u51fd\u6570\u7684\u6743\u91cd\u53c2\u6570$w^\u2217$ \u53ef\u4ee5\u8868\u793a\u4e3a\u6570\u636e\u70b9$x^n$ \u7684\u7ebf\u6027\u7ec4\u5408\u3002<br>"
            ]
        },
        {
            "cell_type": "markdown",
            "metadata": {},
            "source": [
                "\u6211\u4eec\u53ef\u4ee5\u4ece\u68af\u5ea6\u4e0b\u964d\u7684\u89d2\u5ea6\u6765\u7406\u89e3\u8be5\u6027\u8d28\uff1a<br>\n",
                "\u5047\u8bbe $w$ \u521d\u59cb\u5316\u4e3a\u96f6\u5411\u91cf\u7684\uff0c\u5219\u5f97\u5230\u7684$w^\u2217$  \u53ef\u4ee5\u770b\u505a\u662f $x^n$  \u7684\u7ebf\u6027\u7ec4\u5408\uff0c\u5176\u4e2d\u7684\u6743\u91cd$c^n(w)$ \u662f\u635f\u5931\u51fd\u6570$l(f(x^n),\\hat{y}^n)$ \u5bf9 $f(x^n)$ \u7684\u504f\u5bfc\u6570\u3002<br>\n",
                "\u7531\u4e8e\u635f\u5931\u51fd\u6570\u91c7\u7528\u7684\u662f Hinge Loss\uff0c\u5f88\u591a\u7684 $c^n(w)$ \u53ef\u80fd\u4e3a 0\uff0c\u4ece\u800c $\u03b1_n^\u2217$ \u662f\u7a00\u758f\u7684\u7684\uff0c\u800c\u90a3\u4e9b\u5177\u6709\u975e\u96f6 $\u03b1_n^\u2217$ \u7684\u6570\u636e\u70b9 $x^n$ \u79f0\u4e3a\u652f\u6301\u5411\u91cf\u3002<br>\n",
                "<br>\n",
                "\u8fd9\u6837\u7684\u597d\u5904\u662f\u6a21\u578b\u5177\u6709\u8f83\u597d\u7684\u9c81\u68d2\u6027\uff1a<br>\n",
                "\u4e0d\u662f\u652f\u6301\u5411\u91cf\u7684\u6570\u636e\u70b9\uff0c\u5c31\u7b97\u53bb\u6389\u4e5f\u4e0d\u4f1a\u5bf9\u7ed3\u679c\u6709\u5f71\u54cd\uff0coutlier\u53ea\u8981\u4e0d\u662f\u652f\u6301\u5411\u91cf\uff0c\u5c31\u4e0d\u4f1a\u5bf9\u7ed3\u679c\u6709\u5f71\u54cd\u3002<br>\n",
                "\u76f8\u6bd4\u4e8e\u4f7f\u7528\u4ea4\u53c9\u71b5\u4f5c\u4e3a\u635f\u5931\u51fd\u6570\u7684\u903b\u8f91\u56de\u5f52\u6a21\u578b\uff0c\u5b83\u5728\u66f4\u65b0\u53c2\u6570\u65f6\u7684\u6743\u91cd\u5c31\u4e0d\u7a00\u758f\u7684\uff0c\u6240\u4ee5\u6bcf\u7b14\u6570\u636e\u90fd\u5bf9\u7ed3\u679c\u6709\u5f71\u54cd\u3002<br>\n"
            ]
        },
        {
            "cell_type": "markdown",
            "metadata": {},
            "source": [
                "",
                "\n",
                "![](http://imgbed.momodel.cn/31_12_SVM_KernelMethod.png)"
            ]
        },
        {
            "cell_type": "markdown",
            "metadata": {},
            "source": [
                "\u628a w \u5199\u6210 $x^n$ \u7684\u7ebf\u6027\u7ec4\u5408\uff0c\u6700\u5927\u7684\u597d\u5904\u662f\u53ef\u4ee5\u4f7f\u7528\u6838\u6280\u5de7\u5c06\u51fd\u6570 f(x) \u7528\u6838\u51fd\u6570\u8868\u793a\uff1a<br>\n",
                "\u6839\u636e $w=X \\alpha$, $f(x)$ \u53ef\u4ee5\u5199\u6210 $f(x)=\u03a3_n$ $\\alpha_n (x^n\u22c5x)$ \u7684\u5f62\u5f0f\uff0c<br>\n",
                "\u7531\u4e8e\u7528\u7684\u635f\u5931\u51fd\u6570\u662f Hinge Loss\uff0c\u6240\u4ee5 $\u03b1_n$ \u662f\u7a00\u758f\u7684\u7684\uff0c\u53ea\u9700\u8981\u8ba1\u7b97\u652f\u6301\u5411\u91cf\u4e0e\u6570\u636e\u70b9x\u4e4b\u95f4\u7684\u5185\u79ef\u5373\u53ef\u3002<br> \n",
                "\u6211\u4eec\u628a\u5185\u79ef $(x^n\u22c5x)$ \u5199\u4f5c $K(x^n,x)$ \u7684\u5f62\u5f0f\uff0c\u5c06\u5176\u79f0\u4e3a[\u6838\u51fd\u6570](https://baike.baidu.com/item/%E6%A0%B8%E5%87%BD%E6%95%B0/4693132?fr=aladdin)\u3002<br>\n"
            ]
        },
        {
            "cell_type": "markdown",
            "metadata": {},
            "source": [
                "",
                "\n",
                "![](http://imgbed.momodel.cn/31_13_SVM_KernelMethod.png)"
            ]
        },
        {
            "cell_type": "markdown",
            "metadata": {},
            "source": [
                "\u5c06\u635f\u5931\u51fd\u6570\u53ef\u4ee5\u6539\u5199\u4e3a\u4e0a\u56fe\u4e2d\u7684\u6837\u5b50\uff0c\u6211\u4eec\u4e0d\u9700\u8981\u77e5\u9053 $x$\uff0c\u53ea\u9700\u8981\u77e5\u9053\u6838\u51fd\u6570 $K(x,z)$ \u7684\u503c\u5373\u53ef\uff0c\u8fd9\u79cd\u65b9\u6cd5\u5c31\u53eb\u505a**\u6838\u6280\u5de7**\u3002<br>\n",
                "\u6838\u6280\u5de7\u4e0d\u53ea\u53ef\u7528\u4e8e\u652f\u6301\u5411\u91cf\u673a\uff0c\u4e5f\u53ef\u7528\u4e8e\u903b\u8f91\u56de\u5f52\u3001\u7ebf\u6027\u56de\u5f52\u7b49\u6a21\u578b\u3002<br>\n",
                "\u3010\u56fe\u4e2d\u201dproject\u201d\u5e94\u6539\u4e3a\u201dproduct\u201d\u3011"
            ]
        },
        {
            "cell_type": "markdown",
            "metadata": {},
            "source": [
                "",
                "\n",
                "![](http://imgbed.momodel.cn/31_14_SVM_KernelMethod.png)",
                "\n",
                "![](http://imgbed.momodel.cn/31_15_SVM_KernelMethod1.png)"
            ]
        },
        {
            "cell_type": "markdown",
            "metadata": {},
            "source": [
                "\u6211\u4eec\u5904\u7406\u5206\u7c7b\u95ee\u9898\u65f6\u53ef\u80fd\u4f1a\u9047\u5230\u4e00\u4e9b\u7ebf\u6027\u4e0d\u53ef\u5206\u7684\u60c5\u51b5\uff0c\u6b64\u65f6\u6211\u4eec\u9700\u8981\u5bf9\u6570\u636e\u7279\u5f81\u505a\u4e00\u4e9b\u7279\u5f81\u53d8\u6362\u518d\u8fdb\u884c\u5206\u7c7b\uff0c<br>\n",
                "\u800c\u6211\u4eec\u53ef\u4ee5\u4f7f\u7528\u6838\u51fd\u6570\u6765\u8fbe\u5230\u76f8\u540c\u7684\u6548\u679c\uff0c\u800c\u4e14\u4f7f\u7528\u6838\u51fd\u6570\u6765\u8fdb\u884c\u8ba1\u7b97\u4f1a\u6bd4\u5148\u8fdb\u884c\u7279\u5f81\u53d8\u6362\u518d\u8ba1\u7b97\u5185\u79ef\u66f4\u5feb\u3002<br>"
            ]
        },
        {
            "cell_type": "markdown",
            "metadata": {},
            "source": [
                "",
                "\n",
                "![](http://imgbed.momodel.cn/31_16_SVM_KernelMethod.png)"
            ]
        },
        {
            "cell_type": "markdown",
            "metadata": {},
            "source": [
                "\u5f84\u5411\u57fa\u51fd\u6570\u53ef\u4ee5\u7528\u4e8e\u8861\u91cf x, z \u7684\u76f8\u4f3c\u7a0b\u5ea6\uff1ax \u548c z\u8d8a\u63a5\u8fd1\uff0c\u6838\u51fd\u6570\u7684\u503c\u5c31\u8d8a\u5927\u3002<br>\n",
                "\u5c06\u6838\u51fd\u6570\u5c55\u5f00\u4e3a\u6cf0\u52d2\u7ea7\u6570\u7684\u5f62\u5f0f\uff0c\u53ef\u4ee5\u770b\u51fa\u8be5\u51fd\u6570\u7b49\u4ef7\u4e8e\u6700\u9ad8\u7ef4\u5ea6\u4e3a\u65e0\u7a77\u591a\u7ef4\u5411\u91cf\u7684\u5411\u91cf\u5185\u79ef\u7684\u591a\u9879\u5f0f\u5f62\u5f0f\u3002<br>\n",
                "\u4f7f\u7528\u8be5[\u5f84\u5411\u57fa\u6838\u51fd\u6570](https://baike.baidu.com/item/%E5%BE%84%E5%90%91%E5%9F%BA%E5%87%BD%E6%95%B0/3687692?fr=aladdin)\uff08RBF Kernel\uff09\u7684\u6548\u679c\u7b49\u540c\u4e8e\u5c06\u6570\u636e\u7279\u5f81\u8f6c\u6362\u5230\u65e0\u7a77\u591a\u7ef4\u7684\u5e73\u9762\u4e0a\u518d\u5904\u7406\u95ee\u9898\uff0c\u4f46\u662f\u4f7f\u7528\u8be5\u6838\u51fd\u6570\u5bb9\u6613\u51fa\u73b0\u8fc7\u62df\u5408\u7684\u95ee\u9898\u3002<br>\n",
                "\n"
            ]
        },
        {
            "cell_type": "markdown",
            "metadata": {},
            "source": [
                "",
                "\n",
                "![](http://imgbed.momodel.cn/31_17_SVM_KernelMethod.png)"
            ]
        },
        {
            "cell_type": "markdown",
            "metadata": {},
            "source": [
                "\u5f53\u6211\u4eec\u4f7f\u7528 Sigmoid \u6838\u51fd\u6570\u7684\u65f6\u5019\uff0c\u6211\u4eec\u53ef\u4ee5\u5c06\u652f\u6301\u5411\u91cf\u673a\u7684\u6a21\u578b\u770b\u505a\u53ea\u6709\u4e00\u4e2a\u9690\u85cf\u5c42\u7684\u795e\u7ecf\u7f51\u7edc\u3002<br>\n",
                "\u5176\u4e2d\u795e\u7ecf\u5143\u7684\u4e2a\u6570\u5c31\u662f\u652f\u6301\u5411\u91cf\u4e2a\u6570\uff0c\u800c\u6743\u91cd\u5c31\u662f\u5bf9\u5e94\u7684\u652f\u6301\u5411\u91cf\u3002<br>\n",
                "\u3010\u56fe\u4e2d$\u03b1^n,\u03b1^1,\u03b1^2$ \u5e94\u6539\u4e3a $\u03b1_n,\u03b1_1,\u03b1_2$ \u3011<br>"
            ]
        },
        {
            "cell_type": "markdown",
            "metadata": {},
            "source": [
                "",
                "\n",
                "![](http://imgbed.momodel.cn/31_18_SVM_KernelMethod.png)"
            ]
        },
        {
            "cell_type": "markdown",
            "metadata": {},
            "source": [
                "\u5728\u4f7f\u7528\u6838\u6280\u5de7\u6784\u9020\u6838\u51fd\u6570\u4e4b\u540e\uff0c\u6211\u4eec\u5c31\u4e0d\u9700\u8981\u5173\u6ce8\u8f93\u5165\u7279\u5f81\u7684\u5177\u4f53\u5f62\u5f0f\uff0c\u800c\u53ea\u9700\u8981\u5173\u6ce8 x \u548c z \u7684\u5185\u79ef\u7684\u7ed3\u679c\u3002<br>\n",
                "\u8fd9\u79cd\u505a\u6cd5\u5728\u5904\u7406\u67d0\u4e9b\u7ed3\u6784\u5316\u7684\u6570\u636e\u7684\u65f6\u5019\u6bd4\u8f83\u65b9\u4fbf\uff0c\u6bd4\u5982\u58f0\u97f3\u4fe1\u53f7\uff1b<br>\n",
                "\u6211\u4eec\u4f7f\u7528\u6838\u65b9\u6cd5\u8fdb\u884c\u5904\u7406\u4e0d\u9700\u8981\u5173\u6ce8\u58f0\u97f3\u4fe1\u53f7\u8f6c\u6362\u6210\u5411\u91cf\u7684\u5177\u4f53\u5f62\u5f0f\uff0c\u53ea\u9700\u5173\u6ce8\u5b83\u4eec\u4ee3\u5165\u6838\u51fd\u6570\u5f97\u5230\u7684\u7ed3\u679c\u5373\u53ef\u3002\n",
                "\n",
                "\u6838\u51fd\u6570\u662f\u7528\u6765\u63cf\u8ff0\u53d8\u91cf\u95f4\u76f8\u4f3c\u7a0b\u5ea6\u7684\uff0c\u4e0d\u662f\u6240\u6709\u7684 $K(x,z)$ \u90fd\u53ef\u4ee5\u62c6\u6210$\u03d5(x)\u22c5\u03d5(z)$\u3002<br>\n",
                "\u6838\u51fd\u6570\u7684\u5fc5\u8981\u6761\u4ef6\uff1aK\u662f\u6709\u6548\u7684\u6838\u51fd\u6570 ==> \u6838\u51fd\u6570\u77e9\u9635K\u662f\u5bf9\u79f0\u534a\u6b63\u5b9a\u7684\uff1b\u6211\u4eec\u53ef\u4ee5\u53c2\u8003[Mercer\u5b9a\u7406](https://baike.baidu.com/item/Mercer%E5%AE%9A%E7%90%86/19446322?fr=aladdin)\u3002\n"
            ]
        },
        {
            "cell_type": "markdown",
            "metadata": {},
            "source": [
                "SVM related methods:<br>\n",
                "\n",
                "+ Support Vector Regression (SVR) \n",
                "    + [Bishop, Chapter 7.1.4]\n",
                "+ Ranking SVM \n",
                "    + [Alpaydin, Chapter 13.11]\n",
                "+ One-Class SVM \n",
                "    + [Alpaydin, Chapter 13.11]\n"
            ]
        },
        {
            "cell_type": "markdown",
            "metadata": {},
            "source": [
                ""
            ]
        },
        {
            "cell_type": "markdown",
            "metadata": {},
            "source": [
                "![](http://imgbed.momodel.cn/31_19_SVM_KernelMethod.png)"
            ]
        },
        {
            "cell_type": "markdown",
            "metadata": {},
            "source": [
                "\u6df1\u5ea6\u5b66\u4e60\u524d\u51e0\u5c42\u53ef\u80fd\u5c31\u662f\u5728\u505a\u7279\u5f81\u8f6c\u6362\uff0c\u63a5\u7740\u518d\u4e00\u4e2a\u7ebf\u6027\u5206\u7c7b\u3002<br>\n",
                "\u5728SVM\u540c\u6837\u5982\u6b64\uff0c\u57fa\u4e8e\u6838\u51fd\u6570\u540c\u6837\u80fd\u591f\u8fdb\u884c\u7279\u5f81\u8f6c\u6362\uff0c\u5728\u65b0\u7684\u7279\u5f81\u7a7a\u95f4\u4e2d\u518d\u7528\u7ebf\u6027\u5206\u7c7b\u5668\u8fdb\u884c\u5206\u7c7b\u3002<br>\n",
                "\u533a\u522b\u5728\u4e8e\u6df1\u5ea6\u5b66\u4e60\u4e2d\u7684\u201c\u6838\u51fd\u6570\u201d\u662f\u66f4\u52a0\u5f3a\u5927\u7684\u3002<br>"
            ]
        },
        {
            "cell_type": "markdown",
            "metadata": {},
            "source": [
                "### 5. \u603b\u7ed3\n",
                "\u4e3b\u8981\u4ecb\u7ecd\u4e86\u652f\u6301\u5411\u91cf\u673a\u65b9\u6cd5\u7684\u4e24\u5927\u7279\u70b9Hinge Loss\u548c\u6838\u65b9\u6cd5\uff08Kernel Method\uff09\u3002"
            ]
        },
        {
            "cell_type": "markdown",
            "metadata": {},
            "source": [
                "**\u725b\u5200\u5c0f\u8bd5**\n",
                "\n",
                "\u652f\u6301\u5411\u91cf\u673a\u4e2d\u5e38\u7528\u7684\u6838\u51fd\u6570\u6709\u54ea\u4e9b\uff1f"
            ]
        },
        {
            "cell_type": "markdown",
            "metadata": {},
            "source": [
                "<span class='md-hint-alone-link pop 0'>\u67e5\u770b\u7b54\u6848</span>"
            ]
        }
    ],
    "metadata": {
        "kernelspec": {
            "display_name": "Python 3",
            "language": "python",
            "name": "python3"
        },
        "language_info": {
            "codemirror_mode": {
                "name": "ipython",
                "version": 3
            },
            "file_extension": ".py",
            "mimetype": "text/x-python",
            "name": "python",
            "nbconvert_exporter": "python",
            "pygments_lexer": "ipython3",
            "version": "3.5.2"
        }
    },
    "nbformat": 4,
    "nbformat_minor": 2
}