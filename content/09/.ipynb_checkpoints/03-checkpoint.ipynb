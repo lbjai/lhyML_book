{
 "cells": [
  {
   "cell_type": "markdown",
   "metadata": {},
   "source": [
    "### 这节我们主要学习\n",
    "\n",
    "\n",
    "+ 结构化线性模型的三个问题\n",
    "\n"
   ]
  },
  {
   "cell_type": "markdown",
   "metadata": {},
   "source": [
    "### 1.结构化线性模型"
   ]
  },
  {
   "cell_type": "markdown",
   "metadata": {},
   "source": [
    "\n",
    "![](http://imgbed.momodel.cn/33-1 structured linear.png)"
   ]
  },
  {
   "cell_type": "markdown",
   "metadata": {},
   "source": [
    "#### 1.1 问题1"
   ]
  },
  {
   "cell_type": "markdown",
   "metadata": {},
   "source": [
    "\n",
    "\n",
    "$F(x,y)$ 长什么样子："
   ]
  },
  {
   "cell_type": "markdown",
   "metadata": {},
   "source": [
    "![](http://imgbed.momodel.cn/33-2 problem1.png)\n",
    "\n",
    "将$ F(x,y) $表示成上图的形式，$ \\phi_1 (x,y) $,$ \\phi_2 (x,y) $,$ \\phi_3 (x,y) $表示$ x,y $特征1,2,3的强度值；\n",
    "\n",
    "$ F(x,y) $依旧是$ x,y $的函数，$ w_1,w_2,w_3 $通过学习数据得到"
   ]
  },
  {
   "cell_type": "markdown",
   "metadata": {},
   "source": [
    "\n",
    "\n",
    "![](http://imgbed.momodel.cn/33-3 object detection.png)\n",
    "我们使用深度学习来抽取特征；在目标检测中，我们使用卷积神经网络来得到$\\phi (x,y)$\n",
    "\n",
    "![](http://imgbed.momodel.cn/33-4 cnn.png)"
   ]
  },
  {
   "cell_type": "markdown",
   "metadata": {},
   "source": [
    "\n",
    " \n",
    "![](http://imgbed.momodel.cn/33-5 summarization.png)"
   ]
  },
  {
   "cell_type": "markdown",
   "metadata": {},
   "source": [
    "\n",
    " \n",
    "![](http://imgbed.momodel.cn/33-6 retrieval.png)"
   ]
  },
  {
   "cell_type": "markdown",
   "metadata": {},
   "source": [
    "#### 1.2 问题2"
   ]
  },
  {
   "cell_type": "markdown",
   "metadata": {},
   "source": [
    "\n",
    "\n",
    "如何解决$arg$ $max$问题：\n",
    "\n",
    "\n",
    "\n",
    "![](http://imgbed.momodel.cn/33-7 problem2.png)\n",
    "我们先假设问题2已经被解决"
   ]
  },
  {
   "cell_type": "markdown",
   "metadata": {},
   "source": [
    "#### 1.3 问题3"
   ]
  },
  {
   "cell_type": "markdown",
   "metadata": {},
   "source": [
    "\n",
    "\n",
    "给出训练数据，如何学习$ F(x,y) $\n",
    "\n",
    "+ $F(x,y)=w*\\phi(x,y)$,我们需要做的就是学习$w$\n",
    "\n",
    "\n",
    "![](http://imgbed.momodel.cn/33-8 problem3.png)\n",
    "我们希望训练数据集中的**$ w*\\phi(x^r,\\hat y^r) $ 大于不正确的标签得到的值 $w*\\phi(x^r, y^r)$**"
   ]
  },
  {
   "cell_type": "markdown",
   "metadata": {},
   "source": [
    "红色点表示训练数据得到的特征值，在图中由红色边界框表示。\n",
    "\n",
    "![](http://imgbed.momodel.cn/33-9 inner product.png)"
   ]
  },
  {
   "cell_type": "markdown",
   "metadata": {},
   "source": [
    "如图，点符号和星星符号分别表示不同的数据点；\n",
    "\n",
    "![](http://imgbed.momodel.cn/33-10 p123.png)\n",
    "\n",
    "我们需要找一个$w$,使红色标记点的特征值与$w$点积的结果比对应的蓝色标记点的都大\n",
    "\n",
    "![](http://imgbed.momodel.cn/33-11 max inner p.png)"
   ]
  },
  {
   "cell_type": "markdown",
   "metadata": {},
   "source": [
    "\n",
    "\n",
    "![](http://imgbed.momodel.cn/33-12 algorithm.png)\n",
    "+ do\n",
    "    + 循环每一个训练数据\n",
    "        + 我们都要找到使$ w*\\phi(x^r,y) $最大的标签<font size=3>$ \\tilde y^r $</font>\n",
    "    + if(求得的标签值与训练集数据给定的标签值不同)\n",
    "        + $w \\rightarrow w+\\phi(x^r,\\hat y^r)-\\phi(x^r,\\tilde y^r)$\n",
    "+ while($w$不再变化)"
   ]
  },
  {
   "cell_type": "markdown",
   "metadata": {},
   "source": [
    "\n",
    "\n",
    "对于第一个训练数据点，因为初始化$w=0$,\n",
    "\n",
    "所以我们随意选择一个$y$作为$\\tilde y^1$,然后更新$w$\n",
    "\n",
    "![](http://imgbed.momodel.cn/33-13 example.png)"
   ]
  },
  {
   "cell_type": "markdown",
   "metadata": {},
   "source": [
    "接下来针对第二个训练数据进行更新$w$\n",
    "\n",
    "![](http://imgbed.momodel.cn/33-14 data2.png)"
   ]
  },
  {
   "cell_type": "markdown",
   "metadata": {},
   "source": [
    "经过一次循环之后，我们发现$\\hat y^1=\\tilde y^1$, $\\hat y^2=\\tilde y^2$\n",
    "\n",
    "此时任务完成，不需要再进行更新。\n",
    "\n",
    "![](http://imgbed.momodel.cn/33-15 done.png)"
   ]
  }
 ],
 "metadata": {
  "kernelspec": {
   "display_name": "Python 3",
   "language": "python",
   "name": "python3"
  },
  "language_info": {
   "codemirror_mode": {
    "name": "ipython",
    "version": 3
   },
   "file_extension": ".py",
   "mimetype": "text/x-python",
   "name": "python",
   "nbconvert_exporter": "python",
   "pygments_lexer": "ipython3",
   "version": "3.6.7"
  }
 },
 "nbformat": 4,
 "nbformat_minor": 2
}
