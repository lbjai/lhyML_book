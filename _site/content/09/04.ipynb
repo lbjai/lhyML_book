{
    "cells": [
        {
            "cell_type": "markdown",
            "metadata": {},
            "source": [
                "\n",
                "",
                "\n",
                "\n",
                "+ \u56de\u987e\u4e00\u4e0b\u7ed3\u6784\u5316\u5b66\u4e60\u7684\u6a21\u578b\n",
                "+ \u53ef\u5206\u79bb\u7684\u60c5\u51b5\n",
                "+ \u4e0d\u53ef\u5206\u79bb\u7684\u60c5\u51b5\n",
                "+ \u7ed3\u6784\u5316\u652f\u6301\u5411\u91cf\u673a\n",
                "+ \u5207\u5272\u5e73\u9762\u6cd5\n",
                "+ \u591a\u5206\u7c7b\u652f\u6301\u5411\u91cf\u673a\n",
                "\n"
            ]
        },
        {
            "cell_type": "markdown",
            "metadata": {},
            "source": [
                "### 1. \u56de\u987e"
            ]
        },
        {
            "cell_type": "markdown",
            "metadata": {},
            "source": [
                "#### 1.1 \u7ed3\u6784\u5316\u5b66\u4e60"
            ]
        },
        {
            "cell_type": "markdown",
            "metadata": {},
            "source": [
                "\n",
                "",
                "\n",
                "+ \u6211\u4eec\u9700\u8981\u4e00\u4e2a\u529f\u80fd\u66f4\u5f3a\u5927\u7684\u51fd\u6570$f$\n",
                "  + \u8f93\u5165\u548c\u8f93\u51fa\u90fd\u662f\u5177\u6709\u7ed3\u6784\u7684\u5bf9\u8c61\n",
                "  + \u5bf9\u8c61\uff1a\u5e8f\u5217\uff0c\u5217\u8868\uff0c\u6811\uff0c\u8fb9\u754c\u6846$...$\n",
                "\n",
                "![](http://imgbed.momodel.cn/34-1 structured learning.png)"
            ]
        },
        {
            "cell_type": "markdown",
            "metadata": {},
            "source": [
                "#### 1.2 \u7edf\u4e00\u6846\u67b6"
            ]
        },
        {
            "cell_type": "markdown",
            "metadata": {},
            "source": [
                "\n",
                "",
                "\n",
                "![](http://imgbed.momodel.cn/34-2 unified work.png)",
                "\n",
                "\u5206\u4e3a Training \u548c Testing \u4e24\u4e2a\u90e8\u5206\u3002"
            ]
        },
        {
            "cell_type": "markdown",
            "metadata": {},
            "source": [
                "#### 1.3 \u4e09\u4e2a\u95ee\u9898"
            ]
        },
        {
            "cell_type": "markdown",
            "metadata": {},
            "source": [
                "\n",
                "",
                "\n",
                "+ $F(x,y)$ \u957f\u4ec0\u4e48\u6837\u5b50\n",
                "+ \u600e\u6837\u6c42\u89e3 **arg max** \u95ee\u9898\n",
                "+ \u5982\u4f55\u627e\u5230$F(x,y)$\n",
                "\n",
                "![](http://imgbed.momodel.cn/34-3 problems.png)"
            ]
        },
        {
            "cell_type": "markdown",
            "metadata": {},
            "source": [
                "#### 1.4 \u5b9e\u4f8b\u4efb\u52a1"
            ]
        },
        {
            "cell_type": "markdown",
            "metadata": {},
            "source": [
                "\n",
                "",
                "\n",
                "![](http://imgbed.momodel.cn/34-4 task.png)",
                "\n",
                "\u5728\u672c\u8282\u8bfe\u7a0b\u4e2d\uff0c\u6211\u4eec\u4f7f\u7528\u76ee\u6807\u68c0\u6d4b\u7684\u4f8b\u5b50\u8fdb\u884c\u8bb2\u89e3\uff1b\n",
                "\n",
                "\u4f46\u6211\u4eec\u4eca\u5929\u5b66\u4e60\u5230\u7684\u5185\u5bb9\u540c\u6837\u53ef\u4ee5\u7528\u4f5c\u5176\u4ed6\u4efb\u52a1.\n",
                "\n"
            ]
        },
        {
            "cell_type": "markdown",
            "metadata": {},
            "source": [
                "<font size=4>**\u95ee\u98981\uff1a\u4f30\u7b97**</font>\n",
                "\n",
                "**\u5047\u8bbe $F(x,y)$ \u662f\u7ebf\u6027\u7684**\n",
                "\n",
                "![](http://imgbed.momodel.cn/34-5 problem1.png)"
            ]
        },
        {
            "cell_type": "markdown",
            "metadata": {},
            "source": [
                "<font size=4>**\u95ee\u98982\uff1a\u63a8\u7406**</font>\n",
                "\n",
                "\n",
                "![](http://imgbed.momodel.cn/34-6 problem2.png)",
                "\n",
                "\u627e\u5230\u4f7f $F(x,y)$ \u6700\u5927\u7684 $\\tilde y$"
            ]
        },
        {
            "cell_type": "markdown",
            "metadata": {},
            "source": [
                "\u6c42\u89e3 <font size=4>$\\tilde y$ </font> \u7684\u65b9\u6cd5\n",
                "\n",
                "+ \u76ee\u6807\u68c0\u6d4b\n",
                "    + \u5206\u652f\u5b9a\u754c\u7b97\u6cd5\n",
                "    + \u9009\u62e9\u6027\u641c\u7d22\n",
                " \n",
                "+ \u5e8f\u5217\u6807\u8bb0\n",
                "    + \u7ef4\u7279\u6bd4\u7b97\u6cd5\n",
                " \n",
                "+ \u7b97\u6cd5\u4f9d\u8d56\u4e8e $\\phi (x,y)$\n",
                "\n",
                "+ \u9057\u4f20\u7b97\u6cd5"
            ]
        },
        {
            "cell_type": "markdown",
            "metadata": {},
            "source": [
                "<font size=4>**\u95ee\u98983\uff1a\u8bad\u7ec3**</font>\n",
                "\n",
                "\n",
                "![](http://imgbed.momodel.cn/34-7 proble3.png)",
                "\n",
                "\u6570\u636e\u96c6\u5bf9\u5e94\u7684 $F(x,y)$ \u5e94\u8be5\u662f\u6700\u5927\u7684\n",
                "\n",
                "\u63a5\u4e0b\u6765\u6211\u4eec\u5ffd\u7565\u95ee\u9898 1 \u548c\u95ee\u9898 2\uff0c\u76f4\u63a5\u5173\u6ce8\u4e8e\u95ee\u9898 3\u3002"
            ]
        },
        {
            "cell_type": "markdown",
            "metadata": {},
            "source": [
                "### 2. \u53ef\u5206\u79bb\u7684\u60c5\u51b5"
            ]
        },
        {
            "cell_type": "markdown",
            "metadata": {},
            "source": [
                "\n",
                "",
                "\n",
                "\u5047\u8bbe\uff1a\u53ef\u5206\u79bb\n",
                "\n",
                "+ \u6743\u91cd\u5411\u91cf $\\hat w$ \u5b58\u5728,\u4f7f\u5f97\u6240\u6709\u7ea2\u8272\u6807\u8bb0\u70b9\u7684\u4e58\u79ef\u7684\u503c\u5927\u4e8e\u5176\u4f59\u84dd\u8272\u70b9\u7684\u4e58\u79ef\u7684\u503c\u52a0\u4e0a $\\delta$\uff08\u7ea2\u8272\u4ee3\u8868\u662f\u6b63\u786e\u7684\uff0c\u84dd\u8272\u4ee3\u8868\u662f\u9519\u8bef\u7684\uff09\n",
                "\n",
                "\n",
                "![](http://imgbed.momodel.cn/34-8 separable.png)",
                "\n"
            ]
        },
        {
            "cell_type": "markdown",
            "metadata": {},
            "source": [
                "#### 2.1 \u7ed3\u6784\u611f\u77e5\u5668"
            ]
        },
        {
            "cell_type": "markdown",
            "metadata": {},
            "source": [
                "\n",
                "",
                "\n",
                "\n",
                "![](http://imgbed.momodel.cn/34-9 structured perceptron.png)",
                "\n",
                "**\u5f53 $w$ \u4e0d\u518d\u66f4\u65b0\u7684\u65f6\u5019\uff0c\u7b97\u6cd5\u7ed3\u675f\u3002**\n"
            ]
        },
        {
            "cell_type": "markdown",
            "metadata": {},
            "source": [
                "#### 2.2 \u6570\u5b66\u8bc1\u660e"
            ]
        },
        {
            "cell_type": "markdown",
            "metadata": {},
            "source": [
                "\n",
                "",
                "\n",
                "\u5728\u53ef\u5206\u79bb\u7684\u6848\u4f8b\u4e2d\uff0c\u4e3a\u4e86\u83b7\u5f97 $\\hat w$\uff0c\u6700\u591a\u9700\u8981\u66f4\u65b0 $(\\frac {R} {\\delta})^2$ \u6b21\n",
                "\n",
                "$\\delta\uff1a$\u8fb9\u8ddd\uff1b\n",
                "\n",
                "$R:$ $\\phi(x,y)$ \u548c $\\phi (x,y')$ \u4e4b\u95f4\u7684\u6700\u5927\u8ddd\u79bb"
            ]
        },
        {
            "cell_type": "markdown",
            "metadata": {},
            "source": [
                " \u5f53\u770b\u89c1\u4e00\u4e2a\u9519\u8bef\u7684\u65f6\u5019\uff0c$w$ \u8fdb\u884c\u66f4\u65b0\n",
                " \n",
                "\n",
                "![](http://imgbed.momodel.cn/34-10 update.png)",
                "\n",
                "\u5728\u53ef\u5206\u79bb\u7684\u6848\u4f8b\u4e2d\uff0c\u6211\u4eec\u4e0d\u662f\u4e00\u822c\u6027\u5730\u8bbe $\\hat w$ \u7684\u957f\u5ea6\u4e3a 1\uff08\u82e5 $\\hat w$ \u7684\u957f\u5ea6\u4e0d\u4e3a 1\uff0c\u4f46\u662f\u5bf9\u5176\u6807\u51c6\u5316\u4e4b\u540e\uff0c\u8fd9\u4f9d\u7136\u662f\u4e00\u4e2a\u53ef\u5206\u79bb\u7684\u95ee\u9898\uff09\n",
                "\n",
                "![](http://imgbed.momodel.cn/34-11 remind12.png)"
            ]
        },
        {
            "cell_type": "markdown",
            "metadata": {},
            "source": [
                "\n",
                "",
                "\n",
                "\u968f\u7740 $k$ \u7684\u589e\u52a0\uff0c$\\hat w$ \u548c $w^k$ \u4e4b\u95f4\u7684\u5939\u89d2 <font size=4>$\\rho_k$</font> \u8d8a\u6765\u8d8a\u5c0f\u3002\n",
                "\n",
                "<font size=4>$cos\\rho_k= \\frac{\\hat w}{\\|\\hat w\\|}$</font>\n",
                "\n",
                "\n",
                "![](http://imgbed.momodel.cn/34-12 delta.png)",
                "\n",
                "\u5982\u56fe\uff0c\u5206\u5b50 $\\hat w \\cdot w^k$ \u7684\u503c\u968f\u7740 $k$ \u7684\u589e\u5927\u8d8a\u6765\u8d8a\u5927\n",
                "\n",
                "![](http://imgbed.momodel.cn/34-13 proof.png)",
                "\n",
                "\u5206\u6bcd\uff0c\u6211\u4eec\u4e4b\u524d\u5047\u8bbe $\\hat w$ \u7684\u957f\u5ea6\u4e3a1\uff0c\u786e\u5b9a $w^k$ \u7684\u957f\u5ea6\u5373\u53ef\u3002\n",
                " \n",
                "\n",
                "\n",
                "![](http://imgbed.momodel.cn/34-14 long distance.png)"
            ]
        },
        {
            "cell_type": "markdown",
            "metadata": {},
            "source": [
                "\u5939\u89d2\u7684\u4f59\u5f26\u503c\u4e3a\uff1a\n",
                "\n",
                "\n",
                "![](http://imgbed.momodel.cn/34-15 cos.png)",
                "\n",
                "\u4f59\u5f26\u503c\u7684\u4e0b\u754c\u4f1a\u4e0d\u65ad\u589e\u52a0\uff0c\u4f46\u4f59\u5f26\u503c\u4e0d\u4f1a\u8d85\u8fc71\uff1b\n",
                "\n",
                "\u6240\u4ee5$k$\u8981\u5c0f\u4e8e\u7b49\u4e8e$(\\frac {R} {\\delta})^2$\uff0c\u5373\u6700\u591a\u9700\u8981\u66f4\u65b0$(\\frac {R} {\\delta})^2$\u6b21"
            ]
        },
        {
            "cell_type": "markdown",
            "metadata": {},
            "source": [
                "\u5982\u4f55\u8ba9\u8bad\u7ec3\u66f4\u5feb\uff1f\n",
                "\n",
                "\n",
                "![](http://imgbed.momodel.cn/34-16 fast.png)",
                "\n",
                "\u5f53\u8fb9\u8ddd\u8d8a\u5927\u7684\u65f6\u5019\uff0c\u8bad\u7ec3\u8d8a\u5feb"
            ]
        },
        {
            "cell_type": "markdown",
            "metadata": {},
            "source": [
                "### 3. \u4e0d\u53ef\u5206\u79bb\u7684\u60c5\u51b5"
            ]
        },
        {
            "cell_type": "markdown",
            "metadata": {},
            "source": [
                "\n",
                "",
                "\n",
                "\u5f53\u6570\u636e\u4e0d\u80fd\u5b8c\u5168\u5206\u79bb\u7684\u65f6\u5019\uff0c\u6211\u4eec\u4f9d\u65e7\u53ef\u4ee5\u5224\u65ad\u67d0\u4e9b\u6743\u91cd\u6bd4\u5176\u4ed6\u7684\u6743\u91cd\u66f4\u597d\u3002\n",
                "\n",
                "![](http://imgbed.momodel.cn/34-17 non separable.png)"
            ]
        },
        {
            "cell_type": "markdown",
            "metadata": {},
            "source": [
                "\u5b9a\u4e49\u4e00\u4e2a\u635f\u5931 $C$ \u6765\u4f30\u8ba1\u6743\u91cd $w$ \u5230\u5e95\u6709\u591a\u5dee\uff0c\u6211\u4eec\u9700\u8981\u9009\u62e9\u6700\u5c0f\u5316\u635f\u5931 $C$ \u7684 $w$\n"
            ]
        },
        {
            "cell_type": "markdown",
            "metadata": {},
            "source": [
                "\u635f\u5931\u7684\u5b9a\u4e49\u5982\u4e0b\uff1a\n",
                "\n",
                "![](http://imgbed.momodel.cn/34-18 cost.png)",
                "\n",
                "\u7528\u6240\u6709\u53ef\u80fdy\u5f97\u5230\u7684\u6700\u5927\u503c\u51cf\u53bb\u8bad\u7ec3\u6837\u672c\u5bf9\u5e94\u7684\u503c\uff0c\u5f97\u5230\u6700\u540e\u7684\u635f\u5931\u51fd\u6570\u7684\u503c\uff08\u90fd\u662f\u5927\u4e8e\u7b49\u4e8e 0 \u7684\uff09\u3002\n",
                "\n"
            ]
        },
        {
            "cell_type": "markdown",
            "metadata": {},
            "source": [
                "#### 3.1 \u968f\u673a\u68af\u5ea6\u4e0b\u964d"
            ]
        },
        {
            "cell_type": "markdown",
            "metadata": {},
            "source": [
                "\n",
                "",
                "\n",
                "$C^n=max[w\\cdot \\phi (x^n,y)]-w\\cdot \\phi (x^n,\\hat y^n)$\n",
                "\n",
                "\u7531\u4e8e\u5b58\u5728 $max$ \u51fd\u6570\uff0c\u5f53 $w$ \u5728\u4e0d\u540c\u7684\u533a\u57df\u7684\u65f6\u5019\uff0c$y$ \u7684\u53d6\u503c\u662f\u4e0d\u4e00\u6837\u7684"
            ]
        },
        {
            "cell_type": "markdown",
            "metadata": {},
            "source": [
                "\u8ba1\u7b97\u68af\u5ea6\uff1a\n",
                "\n",
                "![](http://imgbed.momodel.cn/34-19 gradient.png)",
                "\n",
                "\u968f\u673a\u9009\u53d6\u4e00\u4e2a\u8bad\u7ec3\u6570\u636e\uff0c\u786e\u5b9a $y$ \u5728 $w$ \u7684\u54ea\u4e2a\u533a\u57df\u4e2d\uff0c\u7136\u540e\u91c7\u7528\u68af\u5ea6\u4e0b\u964d\u6cd5\u8fdb\u884c\u66f4\u65b0\u3002\n",
                "\n",
                "\u5f53 $\\eta$=1 \u7684\u65f6\u5019\uff0c\u6211\u4eec\u5b9e\u9645\u4e0a\u662f\u5728\u5904\u7406\u7ed3\u6784\u5316\u611f\u77e5\u5668"
            ]
        },
        {
            "cell_type": "markdown",
            "metadata": {},
            "source": [
                "#### 3.2 \u8003\u8651\u8bef\u5dee"
            ]
        },
        {
            "cell_type": "markdown",
            "metadata": {},
            "source": [
                "\n",
                "",
                "\n",
                "![](http://imgbed.momodel.cn/34-20 error.png)",
                "\n",
                "\u4e4b\u524d\uff0c\u6211\u4eec\u5e76\u6ca1\u6709\u8003\u8651\u4e0d\u6b63\u786e\u7684 $y$ \u7684\u5dee\u5f02\u6027\uff0c\u5b9e\u9645\u4e0a\u53f3\u8fb9\u7684\u60c5\u51b5\uff0c\u6bd4\u5de6\u8fb9\u7684\u8981\u597d\u5f88\u591a\u3002"
            ]
        },
        {
            "cell_type": "markdown",
            "metadata": {},
            "source": [
                "\u6240\u4ee5\uff0c\u6211\u4eec\u9700\u8981\u8003\u8651\u4e0d\u6b63\u786e\u7684 $y$ \u4e4b\u95f4\u7684\u597d\u574f\u3002\n",
                "\n",
                "\n",
                "![](http://imgbed.momodel.cn/34-21 consider.png)",
                "\n",
                ""
            ]
        },
        {
            "cell_type": "markdown",
            "metadata": {},
            "source": [
                "\u5b9a\u4e49\u8bef\u5dee\u51fd\u6570\uff1a\n",
                "\n",
                "$\\Delta (\\hat y,y)$\uff1ay \u548c $\\hat y$ \u4e4b\u95f4\u7684\u8bef\u5dee\uff08\u662f\u5927\u4e8e 0 \u7684\uff09\n",
                "\n",
                "![](http://imgbed.momodel.cn/34-22 error function.png)",
                "\n",
                "\u5f53 $\\hat y$ \u548c $y$ \u4e4b\u95f4\u5b8c\u5168\u6ca1\u6709\u91cd\u53e0\u7684\u65f6\u5019\uff0c\u8bef\u5dee\u6700\u5927\u4e3a 1\uff1b\n",
                "\n",
                "\u5f53 $\\hat y$ \u548c $y$ \u4e4b\u95f4\u91cd\u5408\u7684\u65f6\u5019\uff0c\u8bef\u5dee\u4e3a 0\u3002"
            ]
        },
        {
            "cell_type": "markdown",
            "metadata": {},
            "source": [
                "\n",
                "",
                "\n",
                "\n",
                "![](http://imgbed.momodel.cn/34-23 another.png)"
            ]
        },
        {
            "cell_type": "markdown",
            "metadata": {},
            "source": [
                "\n",
                "",
                "\n",
                "![](http://imgbed.momodel.cn/34-24 gradient descent.png)",
                "\n",
                "\u6211\u4eec\u9700\u8981\u627e\u5230\u65b0\u7684\u51fd\u6570\u7684\u6700\u5927\u503c\uff0c\u56e0\u6b64\u6211\u4eec\u9700\u8981\u8bbe\u8ba1\u4e00\u4e2a\u8f83\u597d\u7684\u8bef\u5dee\uff0c\u8ba9\u8fd9\u4e2a\u6700\u5927\u503c\u80fd\u591f\u89e3\u51fa\u6765\uff1b\n",
                "\n",
                "\u5176\u4f59\u90e8\u5206\u4e0e\u6539\u826f\u524d\u7684\u7b97\u6cd5\u6ca1\u6709\u4ec0\u4e48\u533a\u522b\u3002"
            ]
        },
        {
            "cell_type": "markdown",
            "metadata": {},
            "source": [
                "\n",
                "",
                "\n",
                "+ \u6700\u5c0f\u5316\u65b0\u7684\u635f\u5931\u51fd\u6570\u662f\u6700\u5c0f\u5316\u8bad\u7ec3\u96c6\u4e0a\u8bef\u5dee\u7684\u4e0a\u9650\n",
                "\n",
                "\n",
                "![](http://imgbed.momodel.cn/34-25 upper bound.png)",
                "\n",
                "$C'$ \u8bef\u5dee\u53ef\u80fd\u51fa\u73b0\u9636\u68af\u72b6\u7684\u60c5\u51b5\uff0c\u5f71\u54cd\u68af\u5ea6\u66f4\u65b0\uff1b\u6211\u4eec\u4f7f\u7528\u65b0\u7684\u635f\u5931\u51fd\u6570 $C$ \u6765\u4ee3\u66ff\uff1b\n",
                "\n"
            ]
        },
        {
            "cell_type": "markdown",
            "metadata": {},
            "source": [
                "",
                "\n",
                "![](http://imgbed.momodel.cn/34-26 proof upper.png)"
            ]
        },
        {
            "cell_type": "markdown",
            "metadata": {},
            "source": [
                "\n",
                "",
                "\n",
                "\n",
                "![](http://imgbed.momodel.cn/34-27 more function.png)",
                "\n"
            ]
        },
        {
            "cell_type": "markdown",
            "metadata": {},
            "source": [
                "**\u725b\u5200\u5c0f\u8bd5**\n",
                "\n",
                "\u76f8\u5bf9\u4e8e\u52a0\u6cd5\uff0c\u91c7\u7528\u4e58\u6cd5\u6709\u4ec0\u4e48\u597d\u5904\uff1f"
            ]
        },
        {
            "cell_type": "markdown",
            "metadata": {},
            "source": [
                "\n",
                "<span class='md-hint-alone-link pop 0'>\u67e5\u770b\u7b54\u6848</span>"
            ]
        },
        {
            "cell_type": "markdown",
            "metadata": {},
            "source": [
                "#### 3.3 \u6b63\u5219\u5316"
            ]
        },
        {
            "cell_type": "markdown",
            "metadata": {},
            "source": [
                "\n",
                "",
                "\n",
                "\u5f53\u8bad\u7ec3\u96c6\u6570\u636e\u548c\u6d4b\u8bd5\u96c6\u6570\u636e\u5c5e\u4e8e\u4e0d\u540c\u7684\u5206\u5e03\u7684\u65f6\u5019\uff0c$w$ \u63a5\u8fd10\u53ef\u4ee5\u6d88\u9664 mismatch \u7684\u5f71\u54cd\u3002\n",
                "\n",
                "\n",
                "\n",
                "![](http://imgbed.momodel.cn/34-28 regularization.png)",
                "\n",
                "\u539f\u59cb\u7684\u635f\u5931\u51fd\u6570\u53ef\u4ee5\u8ba9\u9519\u8bef\u7684\u7b54\u6848\u4e0e\u6b63\u786e\u7b54\u6848\u4e4b\u95f4\u4fdd\u6301\u95f4\u8ddd\uff1b\n",
                "\n",
                "\u6b63\u5219\u5316\u80fd\u591f\u8ba9 $w$ \u63a5\u8fd1 0\u3002\n",
                "\n",
                "\n"
            ]
        },
        {
            "cell_type": "markdown",
            "metadata": {},
            "source": [
                "\n",
                "",
                "\n",
                "![](http://imgbed.momodel.cn/34-29 weight decay.png)"
            ]
        },
        {
            "cell_type": "markdown",
            "metadata": {},
            "source": [
                "### 4. \u7ed3\u6784\u5316\u652f\u6301\u5411\u91cf\u673a"
            ]
        },
        {
            "cell_type": "markdown",
            "metadata": {},
            "source": [
                "\n",
                "",
                "\n",
                "\u6211\u4eec\u9700\u8981\u627e\u5230 $w$\uff0c\u4f7f\u635f\u5931\u51fd\u6570\u8fbe\u5230\u6700\u5c0f\u3002\n",
                "\n",
                "![](http://imgbed.momodel.cn/34-30 structured svm.png)"
            ]
        },
        {
            "cell_type": "markdown",
            "metadata": {},
            "source": [
                "\n",
                "\u7531\u4e8e\u6211\u4eec\u9700\u8981\u6700\u5c0f\u5316\u635f\u5931\u51fd\u6570\uff0c\u6240\u4ee5\u4e0a\u5f0f\u548c\u4e0b\u9762\u7684\u4e0d\u7b49\u5f0f\u76f8\u7b49\uff08\u5c06 $w \\cdot \\phi(x^{n},\\hat y^{n})$ \u79fb\u5230\u7b49\u5f0f\u5de6\u8fb9\uff09\u3002\n",
                "\n",
                "![](http://imgbed.momodel.cn/34-31 equivalent.png)"
            ]
        },
        {
            "cell_type": "markdown",
            "metadata": {},
            "source": [
                "\u6211\u4eec\u5c06 $C^n$ \u79f0\u4e3a\u677e\u5f1b\u53d8\u91cf\uff0c\u4f7f\u7528 $\\epsilon$ \u6765\u8868\u793a\u3002\n",
                "\n",
                "![](http://imgbed.momodel.cn/34-32 slack variable.png)"
            ]
        },
        {
            "cell_type": "markdown",
            "metadata": {},
            "source": [
                "\u5bf9\u4e8e\u4efb\u610f\u7684 $y$ \u4e0d\u7b49\u4e8e $\\hat y$,\u4e0a\u8ff0\u4e0d\u7b49\u5f0f\u5747\u6210\u7acb\u3002\n",
                "\n",
                "![](http://imgbed.momodel.cn/34-33 epsilon.png)"
            ]
        },
        {
            "cell_type": "markdown",
            "metadata": {},
            "source": [
                "\n",
                "\n",
                "![](http://imgbed.momodel.cn/34-34 possible.png)",
                "\n",
                "\u6211\u4eec\u53ef\u80fd\u4f1a\u9047\u5230\u4e0d\u5b58\u5728 w \u4f7f w \u4e0e $\\phi (x^n,\\hat y^n)$ \u7684\u4e58\u79ef\u6ee1\u8db3 margin \u7684\u8981\u6c42\uff0c\n",
                "\n",
                "\u6240\u4ee5\uff0c\u53ef\u4ee5\u4f7f\u7528\u677e\u5f1b\u53d8\u91cf\u6765\u51cf\u5c0f\u4e0d\u7b49\u5f0f\u7684\u7ea6\u675f\u3002\n",
                "\n",
                "![](http://imgbed.momodel.cn/34-35 slack.png)",
                "\n",
                "\u4e0d\u8ba9\u4e0d\u7b49\u5f0f\u7684\u7ea6\u675f\u65e0\u9650\u51cf\u5c0f\uff0c$\\epsilon$ \u5e94\u8be5\u7adf\u53ef\u80fd\u7684\u5c0f\u3002"
            ]
        },
        {
            "cell_type": "markdown",
            "metadata": {},
            "source": [
                "\n",
                "![](http://imgbed.momodel.cn/34-36 summation.png)",
                "\n",
                "\u5728\u6ee1\u8db3\u4e0d\u7b49\u5f0f\u7684\u60c5\u51b5\u4e0b\uff0c\u6211\u4eec\u5e0c\u671b $\\epsilon$ \u7684\u548c\u6700\u5c0f"
            ]
        },
        {
            "cell_type": "markdown",
            "metadata": {},
            "source": [
                "\n",
                "![](http://imgbed.momodel.cn/34-37 sun.png)",
                "\n",
                "\u6211\u4eec\u5728\u6700\u5c0f\u5316\u635f\u5931\u51fd\u6570\u540c\u65f6\uff0c\u9700\u8981\u6ee1\u8db3\u4e0a\u9762\u7684\u7ea6\u675f\u6761\u4ef6\u3002\n",
                "\n",
                "$y$ \u7684\u53d6\u503c\u6709\u6210\u5343\u4e0a\u4e07\u4e2d\u53ef\u80fd\uff0c\u5f53\u9650\u5236\u6761\u4ef6\u8fd9\u4e48\u591a\u60c5\u51b5\u4e0b\uff0c\u6211\u4eec\u5e94\u8be5\u5982\u4f55\u6c42\u89e3\u6700\u5c0f\u503c\uff1f\n",
                "\n"
            ]
        },
        {
            "cell_type": "markdown",
            "metadata": {},
            "source": [
                "### 5. \u5207\u5272\u5e73\u9762\u7b97\u6cd5"
            ]
        },
        {
            "cell_type": "markdown",
            "metadata": {},
            "source": [
                "\n",
                "",
                "\n",
                "\u6211\u4eec\u9700\u8981\u5728\u6ee1\u8db3\u4e0b\u9762\u7ea6\u675f\u6761\u4ef6\u7684\u60c5\u51b5\u4e0b\uff0c\u6c42\u5f97\u635f\u5931\u51fd\u6570\u7684\u6700\u5c0f\u503c\u3002\n",
                "\n",
                "![](http://imgbed.momodel.cn/34-38 cut plane.png)",
                "\n",
                "\n",
                "\u6839\u636e\u4e0d\u540c\u7684\u7ea6\u675f\u6761\u4ef6\uff0c\u6211\u4eec\u53ef\u4ee5\u5c06\u66f2\u9762\u5206\u6210\u4e0d\u540c\u7684\u533a\u57df\uff0c\u6c42\u5f97\u5bf9\u5e94\u533a\u57df\u7684\u6700\u5c0f\u503c\u3002\n",
                "\n",
                "![](http://imgbed.momodel.cn/34-39 curve.png)"
            ]
        },
        {
            "cell_type": "markdown",
            "metadata": {},
            "source": [
                "\n",
                "",
                "\n",
                "![](http://imgbed.momodel.cn/34-40 parameter space.png)",
                "\n",
                "\u4e0d\u540c\u7684\u7ea6\u675f\u6761\u4ef6\u5c06\u53c2\u6570\u7a7a\u95f4\u5206\u5272\u6210\u4e0d\u540c\u7684\u90e8\u5206\u3002\n",
                "\n",
                "![](http://imgbed.momodel.cn/34-40 working set.png)",
                "\n",
                "\u5c3d\u7ba1\u8fd9\u91cc\u4f17\u591a\u7684\u7ea6\u675f\u6761\u4ef6\uff0c\u4f46\u662f\u771f\u771f\u8d77\u4f5c\u7528\u7684\u8fd8\u662f\u7ea2\u8272\u7ebf\u6761\u8868\u793a\u7684\u90e8\u5206\u3002"
            ]
        },
        {
            "cell_type": "markdown",
            "metadata": {},
            "source": [
                "\n",
                "",
                "\n",
                "+ \u5143\u7d20\u88ab\u4e0d\u65ad\u8fed\u4ee3\u5730\u9009\u5165\u5de5\u4f5c\u96c6\n",
                "\n",
                "![](http://imgbed.momodel.cn/34-41 iterative.png)",
                "\n",
                "\u6bcf\u6b21\u8fed\u4ee3\u4e4b\u524d\uff0c\u90fd\u4f1a\u6709\u4e00\u4e2a\u5de5\u4f5c\u96c6\uff0c\u8ba1\u7b97 $w$\uff0c\n",
                "\n",
                "\u7136\u540e\u9009\u62e9\u5408\u9002\u7684\u5143\u7d20\u52a0\u5165\u5de5\u4f5c\u96c6\uff0c\u8fdb\u884c\u4e0b\u4e00\u6b21\u8fed\u4ee3"
            ]
        },
        {
            "cell_type": "markdown",
            "metadata": {},
            "source": [
                "+ \u5c06\u5143\u7d20\u9010\u6e10\u6dfb\u52a0\u5230\u5de5\u4f5c\u96c6\u4e2d\n",
                "\n",
                "![](http://imgbed.momodel.cn/34-42 null.png)",
                "\n",
                "\u6211\u4eec\u521d\u59cb\u5316\u5de5\u4f5c\u96c6\u4e3a\u7a7a\u96c6\uff0c\u8ba1\u7b97\u5f97\u5230\uff08\u4e8c\u6b21\u89c4\u5212\u95ee\u9898\uff09\u4e00\u4e2a $w$,\n",
                "\n",
                "\n",
                "![](http://imgbed.momodel.cn/34-44 most.png)",
                "\n",
                "\u7136\u540e\u627e\u5230\u6700\u4e0d\u6ee1\u8db3\u5f53\u524d\u7ea6\u675f\u6761\u4ef6\u7684\u5143\u7d20\u52a0\u5165\u5230\u5de5\u4f5c\u96c6\u4e2d,\u4e0d\u65ad\u8fed\u4ee3\u3002"
            ]
        },
        {
            "cell_type": "markdown",
            "metadata": {},
            "source": [
                "+ \u627e\u5230\u6700\u4e0d\u6ee1\u8db3\u7ea6\u675f\u7684\u5143\u7d20\n",
                "\n",
                "\u5f53$w$\u548c$\\epsilon$\u786e\u5b9a\u4e4b\u540e\uff0c\u5982\u4f55\u5bfb\u627e\u6700\u4e0d\u6ee1\u8db3\u7ea6\u675f\u6761\u4ef6\u7684 $y$\uff1a\n",
                "\n",
                "\n",
                "![](http://imgbed.momodel.cn/34-45 find.png)"
            ]
        },
        {
            "cell_type": "markdown",
            "metadata": {},
            "source": [
                "\n",
                "",
                "\n",
                "![](http://imgbed.momodel.cn/34-47 repeat.png)",
                "\n",
                "+ \u521d\u59cb\u5316\u6bcf\u4e2a\u8bad\u7ec3\u96c6\u6570\u636e\u7684\u5de5\u4f5c\u96c6\u4e3a\u7a7a\uff1b\n",
                "\n",
                "+ \u4e0d\u65ad\u5faa\u73af\u76f4\u5230\u6bcf\u4e2a\u5de5\u4f5c\u96c6\u4e0d\u518d\u6539\u53d8\uff1a\n",
                " + \u5728\u76f8\u5e94\u7684\u5de5\u4f5c\u96c6\u4e0b\uff0c\u5229\u7528[\u4e8c\u6b21\u89c4\u5212](https://baike.baidu.com/item/%E4%BA%8C%E6%AC%A1%E8%A7%84%E5%88%92)\u6c42\u89e3 $w$\n",
                " + \u5bf9\u4e8e\u6bcf\u4e00\u4e2a\u8bad\u7ec3\u6570\u636e\uff0c\u627e\u5230\u6700\u8fdd\u53cd\u89c4\u5219\u7684 y\n",
                " + \u5c06\u8be5\u5143\u7d20\u52a0\u5165\u5230\u76f8\u5e94\u7684\u5de5\u4f5c\u96c6\u8fdb\u884c\u66f4\u65b0\n",
                "\n",
                "+ \u8fd4\u56de $w$\n"
            ]
        },
        {
            "cell_type": "markdown",
            "metadata": {},
            "source": [
                "**\u725b\u5200\u5c0f\u8bd5**\n",
                "\n",
                "\u5f71\u54cd\u8fed\u4ee3\u6b21\u6570\u7684\u5f71\u54cd\u56e0\u7d20\u3002"
            ]
        },
        {
            "cell_type": "markdown",
            "metadata": {},
            "source": [
                "<span class='md-hint-alone-link pop 1'>\u67e5\u770b\u7b54\u6848</span>"
            ]
        },
        {
            "cell_type": "markdown",
            "metadata": {},
            "source": [
                "### 6.\u591a\u5206\u7c7b\u652f\u6301\u5411\u91cf\u673a"
            ]
        },
        {
            "cell_type": "markdown",
            "metadata": {},
            "source": [
                "\n",
                "",
                "\n",
                "\u6211\u4eec\u53ef\u4ee5\u7528\u7ed3\u6784\u5316\u5b66\u4e60\u7684\u6846\u67b6\u6765\u5904\u7406\u591a\u5206\u7c7b\u95ee\u9898\uff1a\n",
                "\n",
                "+ \u8bc4\u4f30\uff1a\n",
                " + \u5982\u679c\u6709K\u7c7b\uff0c\u90a3\u4e48\u6211\u4eec\u6709K\u4e2a\u6743\u91cd\u5411\u91cf{$w^1,w^2,...,w^K$}\n",
                "\n",
                "![](http://imgbed.momodel.cn/34-49 problem1.png)",
                "\n"
            ]
        },
        {
            "cell_type": "markdown",
            "metadata": {},
            "source": [
                "+ \u63a8\u7406\uff1a\n",
                "\n",
                "\n",
                "![](http://imgbed.momodel.cn/34-50 inference.png)",
                "\n",
                "\u7c7b\u7684\u6570\u91cf\u901a\u5e38\u5f88\u5c0f\uff0c\u6240\u4ee5\u6211\u4eec\u53ef\u4ee5\u679a\u4e3e\u5b83\u4eec\u3002\n"
            ]
        },
        {
            "cell_type": "markdown",
            "metadata": {},
            "source": [
                "+ \u8bad\u7ec3\n",
                "\n",
                "\u7531\u4e8e\u7ea6\u675f\u6761\u4ef6\u6bd4\u8f83\u5c11\uff0c\u6211\u4eec\u76f4\u63a5\u7a77\u4e3e\u5373\u53ef\u3002\n",
                "\n",
                "![](http://imgbed.momodel.cn/34-51 \u8bad\u7ec3.png)",
                "\n",
                "\u5f53\u4e24\u4e2a\u7c7b\u522b\u5dee\u522b\u8f83\u5927\u65f6\uff0c\u6211\u4eec\u53ef\u4ee5\u5c06 $\\Delta$ \u7684\u503c\u8bbe\u7f6e\u7684\u8f83\u5927"
            ]
        },
        {
            "cell_type": "markdown",
            "metadata": {},
            "source": [
                "\n",
                "",
                "\n",
                "![](http://imgbed.momodel.cn/34-52 binary.png)"
            ]
        },
        {
            "cell_type": "markdown",
            "metadata": {},
            "source": [
                "### 7. \u6df1\u5ea6\u795e\u7ecf\u7f51\u7edc\u4e0e\u7ed3\u6784\u5316\u652f\u6301\u5411\u91cf\u673a"
            ]
        },
        {
            "cell_type": "markdown",
            "metadata": {},
            "source": [
                "\n",
                "",
                "\n",
                "\u524d\u9762\u6211\u4eec\u5b66\u4e60\u7684\u7ed3\u6784\u5316\u6a21\u578b\u90fd\u662f\u7ebf\u6027\u7684\uff0c\u529f\u80fd\u4e0d\u662f\u5f88\u5f3a\u5927\uff1b\n",
                "\n",
                "+ \u4f7f\u7528\u6df1\u5ea6\u795e\u7ecf\u7f51\u7edc\u751f\u6210\u8f83\u4e3a\u5f3a\u5927\u7684\u6a21\u578b\uff0c\n",
                "\n",
                "\n",
                "![](http://imgbed.momodel.cn/34-53 beyond.png)"
            ]
        },
        {
            "cell_type": "markdown",
            "metadata": {},
            "source": [
                "+ \u5c06\u7ed3\u6784\u5316\u652f\u6301\u5411\u91cf\u673a\u548c\u6df1\u5ea6\u795e\u7ecf\u7f51\u7edc\u4e00\u8d77\u8bad\u7ec3\n",
                "\n",
                "\n",
                "![](http://imgbed.momodel.cn/34-54 join.png)"
            ]
        },
        {
            "cell_type": "markdown",
            "metadata": {},
            "source": [
                "+ \u5c06\u7ed3\u6784\u5316\u652f\u6301\u5411\u91cf\u673a\u7528\u6df1\u5ea6\u795e\u7ecf\u7f51\u7edc\u4ee3\u66ff\uff0c\u53d8\u6210\u66f4\u6df1\u7684\u795e\u7ecf\u7f51\u7edc\n",
                "\n",
                "![](http://imgbed.momodel.cn/34-55 replace.png)"
            ]
        }
    ],
    "metadata": {
        "kernelspec": {
            "display_name": "Python 3",
            "language": "python",
            "name": "python3"
        },
        "language_info": {
            "codemirror_mode": {
                "name": "ipython",
                "version": 3
            },
            "file_extension": ".py",
            "mimetype": "text/x-python",
            "name": "python",
            "nbconvert_exporter": "python",
            "pygments_lexer": "ipython3",
            "version": "3.5.2"
        }
    },
    "nbformat": 4,
    "nbformat_minor": 2
}