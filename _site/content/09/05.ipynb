{
    "cells": [
        {
            "cell_type": "markdown",
            "metadata": {},
            "source": [
                "\n",
                "### \u8fd9\u4e00\u8282\u6211\u4eec\u4e3b\u8981\u5b66\u4e60",
                "\n",
                "\n",
                "+ \u5e8f\u5217\u6807\u7b7e\n",
                "+ \u9690\u9a6c\u5c14\u79d1\u592b\u6a21\u578b\n",
                "+ \u6761\u4ef6\u968f\u673a\u573a\n",
                "+ \u7ed3\u6784\u611f\u77e5\u5668\u548c\u7ed3\u6784\u5316\u652f\u6301\u5411\u91cf\u673a\n",
                "\n",
                "\n"
            ]
        },
        {
            "cell_type": "markdown",
            "metadata": {},
            "source": [
                "### 1. \u5e8f\u5217\u6807\u7b7e"
            ]
        },
        {
            "cell_type": "markdown",
            "metadata": {},
            "source": [
                "\u8f93\u5165\u4e3a\u4e00\u4e2a\u5e8f\u5217\uff0c\u8f93\u51fa\u4e3a\u53e6\u4e00\u4e2a\u5e8f\u5217\u3002\u4e0d\u4ec5 RNN \u53ef\u4ee5\u89e3\u51b3\u8fd9\u4e2a\u95ee\u9898\uff0c\u540c\u65f6\u57fa\u4e8e\u7ed3\u6784\u5316\u5b66\u4e60\u4e5f\u80fd\u89e3\u51b3\u8fd9\u4e2a\u95ee\u9898\u3002\n",
                "\n",
                "![](http://imgbed.momodel.cn/35-1 seq label.png)"
            ]
        },
        {
            "cell_type": "markdown",
            "metadata": {},
            "source": [
                "#### 1.1 \u4efb\u52a1\u2014\u2014\u8bcd\u6027\u6807\u6ce8"
            ]
        },
        {
            "cell_type": "markdown",
            "metadata": {},
            "source": [
                "",
                "+ \u7528\u8bcd\u6027\u6ce8\u91ca\u53e5\u5b50\u4e2d\u7684\u6bcf\u4e2a\u5355\u8bcd\n",
                "\n",
                "![](http://imgbed.momodel.cn/35-2 annotate.png)",
                "\n",
                "+ \u5bf9\u540e\u7eed\u7684\u53e5\u6cd5\u5206\u6790\u548c\u8bcd\u4e49\u6d88\u6b67\u7b49\u6709\u7528\u3002\n",
                "\n",
                "![](http://imgbed.momodel.cn/35-3 disambiguation.png)"
            ]
        },
        {
            "cell_type": "markdown",
            "metadata": {},
            "source": [
                "### 2. \u9690\u9a6c\u5c14\u79d1\u592b\u6a21\u578b"
            ]
        },
        {
            "cell_type": "markdown",
            "metadata": {},
            "source": [
                "",
                "+ \u5982\u4f55\u4ea7\u751f\u4e00\u4e2a\u53e5\u5b50\n",
                "    + \u7b2c\u4e00\u6b65\uff1a\u6839\u636e\u8bed\u6cd5\uff0c\u4ea7\u751f\u8bcd\u6027\u5e8f\u5217\n",
                "    + \u7b2c\u4e8c\u6b65\uff1a\u6839\u636e\u5b57\u5178\uff0c\u6709\u7ed9\u51fa\u7684\u8bcd\u6027\u5e8f\u5217\u4ea7\u751f\u4e00\u4e2a\u53e5\u5b50\n",
                "\n",
                "![](http://imgbed.momodel.cn/35-4 hmm.png)"
            ]
        },
        {
            "cell_type": "markdown",
            "metadata": {},
            "source": [
                "\n",
                "",
                "\n",
                "![](http://imgbed.momodel.cn/35-5 step1.png)"
            ]
        },
        {
            "cell_type": "markdown",
            "metadata": {},
            "source": [
                "\n",
                "",
                "\n",
                "\n",
                "\n",
                "![](http://imgbed.momodel.cn/35-6 step2.png)"
            ]
        },
        {
            "cell_type": "markdown",
            "metadata": {},
            "source": [
                "\u5982\u4f55\u8ba1\u7b97 $P(x,y)=P(x)P(y|x)$?\n",
                "\n",
                "",
                "\n",
                "\u8ba1\u7b97\u8fc7\u7a0b\u5982\u4e0b\uff1a\n",
                "\n",
                "![](http://imgbed.momodel.cn/35-7 calculate.png)"
            ]
        },
        {
            "cell_type": "markdown",
            "metadata": {},
            "source": [
                "\n",
                "![](http://imgbed.momodel.cn/35-8 step12.png)",
                "\n",
                "\u7b2c\u4e00\u6b65\u8ba1\u7b97\u8f6c\u6362\u6982\u7387\uff0c\u7b2c\u4e8c\u6b65\u8ba1\u7b97\u53d1\u5c04\u6982\u7387\u3002"
            ]
        },
        {
            "cell_type": "markdown",
            "metadata": {},
            "source": [
                "",
                "\n",
                "+ \u4f30\u7b97\u6982\u7387\n",
                "  + \u5982\u4f55\u8ba1\u7b97$P(V|PN),P(saw|V)$?\n",
                "  + \u4ece\u8bad\u7ec3\u6570\u636e\u4e2d\u83b7\u5f97\n",
                "\n",
                "![](http://imgbed.momodel.cn/35-9 training data.png)"
            ]
        },
        {
            "cell_type": "markdown",
            "metadata": {},
            "source": [
                "\u4f7f\u7528\u8bad\u7ec3\u6837\u672c\u4e2d\u4e8b\u4ef6\u53d1\u751f\u7684\u9891\u7387\u6765\u4f30\u8ba1\u6982\u7387\uff1a\n",
                "\n",
                "![](http://imgbed.momodel.cn/35-10 estimation.png)"
            ]
        },
        {
            "cell_type": "markdown",
            "metadata": {},
            "source": [
                "",
                "\n",
                "\u6709\u4e86\u5404\u4e2a\u4e8b\u4ef6\u53d1\u751f\u7684\u6982\u7387\u4e4b\u540e\uff0c\u6211\u4eec\u5c31\u53ef\u4ee5\u6c42\u51fa\u53ef\u80fd\u6027\u6700\u5927\u7684 $y$\n",
                "\n",
                "![](http://imgbed.momodel.cn/35-11 compute P.png)"
            ]
        },
        {
            "cell_type": "markdown",
            "metadata": {},
            "source": [
                "\u5982\u679c\u679a\u4e3e\u6240\u6709\u7684 $y$\uff0c\u8ba1\u7b97\u7684\u590d\u6742\u5ea6\u4f1a\u975e\u5e38\u7684\u5927\uff1b\n",
                "\n",
                "\u8fd9\u91cc\u6211\u4eec\u4f7f\u7528[\u7ef4\u6bd4\u7279\u7b97\u6cd5](https://blog.csdn.net/gzmfxy/article/details/78712878)\u6765\u6c42\u89e3\u53ef\u80fd\u6027\u6700\u5927\u7684 $y$\n",
                "\n",
                "![](http://imgbed.momodel.cn/35-12 enumerate.png)"
            ]
        },
        {
            "cell_type": "markdown",
            "metadata": {},
            "source": [
                "",
                "\n",
                "\n",
                "![](http://imgbed.momodel.cn/35-13 summary.png)"
            ]
        },
        {
            "cell_type": "markdown",
            "metadata": {},
            "source": [
                "\n",
                "![](http://imgbed.momodel.cn/35-15 high probability.png)",
                "\n",
                "\n",
                "\u6309\u7167\u8bad\u7ec3\u96c6\u7684\u6570\u636e\u6765\u770b\uff0c$y_l$ \u6700\u53ef\u80fd\u5e94\u8be5\u662f $D$\uff0c\u4f46\u662f HMM \u6a21\u578b\u53ef\u80fd\u4f1a\u81ea\u884c\u201c\u8111\u8865\u201c\u51fa $V$.\n",
                "\n",
                "\n",
                "![](http://imgbed.momodel.cn/35-16 little.png)",
                "\n",
                " + **\u4f18\u70b9\uff1a**\n",
                "     + \u5f53\u8bad\u7ec3\u6570\u636e\u8f83\u5c11\u7684\u65f6\u5019\uff0c\u4f7f\u7528 HMM \u6a21\u578b\u6bd4\u8f83\u597d\u3002\n",
                "\n",
                " + **\u7f3a\u70b9\uff1a**\n",
                "     + HMM \u6a21\u578b\u53ef\u80fd\u4ea7\u751f\u6837\u672c\u4e2d\u5e76\u672a\u51fa\u73b0\u7684\u60c5\u51b5\uff1b\u4f7f\u7528 CRF \u6a21\u578b\u53ef\u4ee5\u89e3\u51b3\u8be5\u95ee\u9898\u3002\n",
                "     + HMM \u6a21\u578b\u5e76\u4e0d\u80fd\u4fdd\u8bc1\u6570\u636e\u96c6\u4e2d\u6570\u636e\u70b9\u53d1\u751f\u7684\u6982\u7387\u662f\u6700\u5927\u7684\n",
                "\n",
                "\n",
                "\n"
            ]
        },
        {
            "cell_type": "markdown",
            "metadata": {},
            "source": [
                "### 3. \u6761\u4ef6\u968f\u673a\u573a"
            ]
        },
        {
            "cell_type": "markdown",
            "metadata": {},
            "source": [
                "#### 3.1 CRF"
            ]
        },
        {
            "cell_type": "markdown",
            "metadata": {},
            "source": [
                "",
                "\n",
                "$P(x,y)\u221d exp(w \\cdot \\phi(x,y))$\n",
                "\n",
                "+ $\\phi(x,y)$ \u662f\u7279\u5f81\u5411\u91cf\n",
                "+ $w$ \u662f\u901a\u8fc7\u8bad\u7ec3\u6570\u636e\u5b66\u4e60\u51fa\u6765\u7684\u6743\u91cd\u5411\u91cf\n",
                "+ $exp(w \\cdot \\phi(x,y))$ \u4e3a\u6b63\uff0c\u6709\u53ef\u80fd\u5927\u4e8e 1\n",
                "\n",
                "\n",
                "![](http://imgbed.momodel.cn/35-17 crf.png)"
            ]
        },
        {
            "cell_type": "markdown",
            "metadata": {},
            "source": [
                "",
                "\n",
                "![](http://imgbed.momodel.cn/35-18 log.png)",
                "\n",
                "\u5c06 $P(x,y)$ \u4e24\u8fb9\u540c\u53d6 $log$ \u53d8\u6362"
            ]
        },
        {
            "cell_type": "markdown",
            "metadata": {},
            "source": [
                "\n",
                "![](http://imgbed.momodel.cn/35-19 aggagag.png)",
                "\n",
                "\u5c06 $\\sum logP(x_l|y_l)$ \u8868\u793a\u6210 $\\sum logP(t|s)*N{s,t}(x,y)$ \u7684\u5f62\u5f0f"
            ]
        },
        {
            "cell_type": "markdown",
            "metadata": {},
            "source": [
                "",
                "\n",
                "\n",
                "![](http://imgbed.momodel.cn/35-20 example.png)"
            ]
        },
        {
            "cell_type": "markdown",
            "metadata": {},
            "source": [
                "\u540c\u7406\uff0c\u5bf9\u4e8e $logP(x,y)$ \u53ef\u4ee5\u5f97\u5230\u5982\u4e0b\u7684\u7ed3\u679c\uff1a\n",
                "\n",
                "\n",
                "![](http://imgbed.momodel.cn/35-21 logpxy.png)"
            ]
        },
        {
            "cell_type": "markdown",
            "metadata": {},
            "source": [
                "\u5c06\u4e0a\u5f0f\u8868\u793a\u6210\u7279\u5f81\u5411\u91cf\u4e58\u4ee5\u6743\u91cd\u5411\u91cf\u7684\u5f62\u5f0f\uff1a\n",
                "\n",
                "![](http://imgbed.momodel.cn/35-22 frame.png)",
                "\n",
                "**\u6ce8\u610f\uff1a**\n",
                "\n",
                "![](http://imgbed.momodel.cn/35-23 improve.png)",
                "\n",
                "\u7531\u4e8e\u6211\u4eec\u5728\u8bad\u7ec3\u7684\u65f6\u5019\u6ca1\u6709\u7ed9$w$\u4efb\u4f55\u7684\u9650\u5236\uff0c\u662f\u6709\u6b63\u6709\u8d1f\u7684\uff0c\u6211\u4eec\u5c06 $=$ \u6539\u4e3a $ \u221d$\uff08\u6210\u6b63\u6bd4\uff09\u3002"
            ]
        },
        {
            "cell_type": "markdown",
            "metadata": {},
            "source": [
                "#### 3.2 \u7279\u5f81\u5411\u91cf"
            ]
        },
        {
            "cell_type": "markdown",
            "metadata": {},
            "source": [
                "\n",
                ""
            ]
        },
        {
            "cell_type": "markdown",
            "metadata": {},
            "source": [
                "$\\phi (x,y)$ \u6709\u4e24\u90e8\u5206\uff1a\n",
                "\n",
                "+ \u6807\u7b7e\u548c\u5355\u8bcd\u4e4b\u95f4\u7684\u5173\u7cfb\n",
                "\n",
                "\u8be5\u90e8\u5206\u7684\u7ef4\u5ea6\u53ef\u80fd\u6bd4\u8f83\u5927\uff0c\u4f46\u662f\u975e\u96f6\u7684\u503c\u6bd4\u8f83\u5c11\uff0c\u8f83\u4e3a\u7a00\u758f\n",
                "\n",
                "![](http://imgbed.momodel.cn/35-24 features factor.png)"
            ]
        },
        {
            "cell_type": "markdown",
            "metadata": {},
            "source": [
                "+ \u6807\u7b7e\u4e4b\u95f4\u7684\u5173\u7cfb\n",
                "\n",
                "\u8be5\u90e8\u5206\u7684\u7ef4\u5ea6\u548c\u6807\u7b7e\u7684\u4e2a\u6570\u76f8\u5173\n",
                "\n",
                "![](http://imgbed.momodel.cn/35-26 partt2.png)",
                "\n",
                "** \u6ce8\uff1a$\\phi (x,y)$ \u53ef\u4ee5\u5b9a\u4e49\u4e3a\u4efb\u610f\u4f60\u60f3\u8981\u7684**"
            ]
        },
        {
            "cell_type": "markdown",
            "metadata": {},
            "source": [
                "#### 3.3 \u8bad\u7ec3\u6807\u51c6"
            ]
        },
        {
            "cell_type": "markdown",
            "metadata": {},
            "source": [
                "\n",
                "",
                "\n",
                "\n",
                "![](http://imgbed.momodel.cn/35-27 train criteria.png)",
                "\n",
                "\u6211\u4eec\u9700\u8981\u589e\u5927\u6211\u4eec\u89c2\u5bdf\u5230\u7684\u4e8b\u4ef6\u7684\u6982\u7387\uff0c\u51cf\u5c0f\u672a\u89c2\u5bdf\u5230\u7684\u4e8b\u4ef6\u7684\u6982\u7387\u3002"
            ]
        },
        {
            "cell_type": "markdown",
            "metadata": {},
            "source": [
                "#### 3.4 \u68af\u5ea6\u4e0a\u5347\n",
                "\n",
                "",
                "\n",
                "![](http://imgbed.momodel.cn/35-28 gradient ascent.png)"
            ]
        },
        {
            "cell_type": "markdown",
            "metadata": {},
            "source": [
                "#### 3.5 \u8bad\u7ec3"
            ]
        },
        {
            "cell_type": "markdown",
            "metadata": {},
            "source": [
                "\n",
                "",
                "\n",
                "![](http://imgbed.momodel.cn/35-29 ascent.png)",
                "\n",
                "+ \u7b2c\u4e00\u9879\u8868\u793a\uff08\u7eff\u4e0b\u5212\u7ebf\uff09\uff1a\u5982\u679c\u5355\u8bcd\u88ab\u6807\u7b7es\u6807\u8bb0\u5728\u8bad\u7ec3\u96c6\u4e2d\uff0c\u90a3\u4e48\u5c31\u8981\u589e\u5927 $w_{s,t}$\n",
                "+ \u7b2c\u4e8c\u9879\u8868\u793a\uff08\u9ec4\u4e0b\u5212\u7ebf\uff09\uff1a\u5982\u679c\u5355\u8bcd\u88ab\u6807\u7b7es\u6807\u8bb0\u4e0d\u5728\u8bad\u7ec3\u96c6\u4e2d\uff0c\u90a3\u4e48\u5c31\u8981\u51cf\u5c0f $w_{s,t}$\n",
                "\n",
                "\n",
                "![](http://imgbed.momodel.cn/35-30 equivalent.png)"
            ]
        },
        {
            "cell_type": "markdown",
            "metadata": {},
            "source": [
                "**\u968f\u673a\u68af\u5ea6\u4e0b\u964d:**\n",
                "\n",
                "\u968f\u673a\u9009\u62e9\u4e00\u4e2a\u6570\u636e$(x^n,y^n)$\uff0c\u8fdb\u884c\u8bad\u7ec3\uff1a\n",
                "\n",
                "\n",
                "![](http://imgbed.momodel.cn/35-31 sochastic.png)"
            ]
        },
        {
            "cell_type": "markdown",
            "metadata": {},
            "source": [
                "#### 3.6 \u63a8\u7406"
            ]
        },
        {
            "cell_type": "markdown",
            "metadata": {},
            "source": [
                "\n",
                "",
                "\n",
                "\n",
                "\u7528\u7ef4\u7279\u6bd4\u7b97\u6cd5\u6c42\u51fa\u6700\u5927\u7684y\u3002\n",
                "\n",
                "![](http://imgbed.momodel.cn/35-32 vtebi.png)"
            ]
        },
        {
            "cell_type": "markdown",
            "metadata": {},
            "source": [
                "#### 3.6 CRF v.s. HMM"
            ]
        },
        {
            "cell_type": "markdown",
            "metadata": {},
            "source": [
                "\n",
                "",
                " \n",
                "\n",
                "![](http://imgbed.momodel.cn/35-33 vs.png)",
                "\n",
                "\n",
                "\u76f8\u6bd4\u4e8e HMM\uff0cCRF \u9664\u4e86\u589e\u5927\u6b63\u786e\u4e8b\u4ef6\u53d1\u751f\u7684\u6982\u7387\u5916\uff0c\u540c\u65f6\u51cf\u5c0f\u4e86\u9519\u8bef\u4e8b\u4ef6\u53d1\u751f\u7684\u6982\u7387\uff08HMM \u5c31\u6ca1\u6709\u51cf\u5c0f\uff09\uff1b\n",
                "\n",
                "\u56e0\u6b64\uff0cCRF \u901a\u5e38\u53ef\u4ee5\u4ea7\u751f\u66f4\u597d\u7684\u7ed3\u679c\u3002"
            ]
        },
        {
            "cell_type": "markdown",
            "metadata": {},
            "source": [
                "",
                "\n",
                "![](http://imgbed.momodel.cn/35-34 synthetic.png)"
            ]
        },
        {
            "cell_type": "markdown",
            "metadata": {},
            "source": [
                "",
                "\n",
                "![](http://imgbed.momodel.cn/35-35 vs22.png)",
                "\n",
                "\u5f53$\\alpha$\u8d8a\u5c0f\u65f6\uff0c\u5b9e\u9a8c\u7ed3\u679c\u8d8a\u5dee\uff1b\n",
                "\n",
                "\u5f53$\\alpha > \\frac {1}{2}$\u65f6\uff0cHMM\u7684\u8868\u73b0\u66f4\u597d\uff1b\n",
                "\n",
                "\u5f53$\\alpha < \\frac{1}{2}$\u65f6\uff0cCRF\u7684\u8868\u73b0\u66f4\u597d\u3002"
            ]
        },
        {
            "cell_type": "markdown",
            "metadata": {},
            "source": [
                "#### 3.7 \u603b\u7ed3"
            ]
        },
        {
            "cell_type": "markdown",
            "metadata": {},
            "source": [
                "\n",
                "",
                "\n",
                "\n",
                "![](http://imgbed.momodel.cn/35-36 summary.png)"
            ]
        },
        {
            "cell_type": "markdown",
            "metadata": {},
            "source": [
                "<br>"
            ]
        },
        {
            "cell_type": "markdown",
            "metadata": {},
            "source": [
                "### 4.\u7ed3\u6784\u611f\u77e5\u5668\u548c\u652f\u6301\u5411\u91cf\u673a"
            ]
        },
        {
            "cell_type": "markdown",
            "metadata": {},
            "source": [
                "#### 4.1 \u7ed3\u6784\u611f\u77e5\u5668"
            ]
        },
        {
            "cell_type": "markdown",
            "metadata": {},
            "source": [
                "\n",
                "",
                "\n",
                "\u7ed3\u6784\u611f\u77e5\u673a\u7684\u6a21\u578b\u5982\u56fe\u6240\u793a\uff0c\n",
                "\n",
                "![](http://imgbed.momodel.cn/35-37 structured perceptron.png)"
            ]
        },
        {
            "cell_type": "markdown",
            "metadata": {},
            "source": [
                "\n",
                "![](http://imgbed.momodel.cn/35-38  perceptron123.png)",
                "\n",
                "\u4e0d\u540c\u7684\u5730\u65b9\u5728\u4e8e\u7ed3\u6784\u611f\u77e5\u673a\u51cf\u53bb\u7684\u51e0\u7387\u6700\u5927\u7684 y \u5f62\u6210\u7684 $\\phi$\uff1b\n",
                "\n",
                "CRF\u51cf\u53bb\u7684\u662f\u6240\u6709\u53ef\u80fd\u7684 y \u5f62\u6210\u7684 $\\phi$ \u4e58\u4e0a\u53d1\u751f\u8fd9\u4e2a y \u7684\u6982\u7387\u3002\n"
            ]
        },
        {
            "cell_type": "markdown",
            "metadata": {},
            "source": [
                "#### 4.2 \u7ed3\u6784\u5316\u652f\u6301\u5411\u91cf\u673a "
            ]
        },
        {
            "cell_type": "markdown",
            "metadata": {},
            "source": [
                "\n",
                "",
                "\n",
                "![](http://imgbed.momodel.cn/35-39 ssvm.png)",
                "\n",
                "\u5728\u6b65\u9aa4\u4e09\u4e2d\uff0c\u4e0e\u7ed3\u6784\u611f\u77e5\u5668\u4e0d\u540c\u7684\u662f\uff0c\u7ed3\u6784\u5316\u652f\u6301\u5411\u91cf\u673a\u9700\u8981\u8003\u8651\u8fb9\u8ddd\u548c\u8bef\u5dee\uff0c\u65b9\u6cd5\u6709\uff1a\n",
                "\n",
                "   + \u68af\u5ea6\u4e0b\u964d\u6cd5\n",
                "   + \u4e8c\u6b21\u89c4\u5212\uff08\u5207\u5272\u5e73\u9762\u6cd5\uff09"
            ]
        },
        {
            "cell_type": "markdown",
            "metadata": {},
            "source": [
                "",
                "\n",
                "![](http://imgbed.momodel.cn/35-40 error.png)",
                "\n",
                "+ $\\Delta(\\hat y,y)$\uff1ay \u4e0e $\\hat y$ \u7684\u504f\u5dee\n",
                "\n",
                "+ \u7ed3\u6784\u5316\u652f\u6301\u5411\u91cf\u673a\u7684\u635f\u5931\u51fd\u6570\u662f\u8bef\u5dee\u51fd\u6570\u7684\u4e0a\u754c\n",
                "\n",
                "+ \u7406\u8bba\u4e0a\uff0c\u8bef\u5dee\u51fd\u6570\u53ef\u4ee5\u8bbe\u7f6e\u4e3a\u4efb\u4f55\u4f60\u559c\u6b22\u7684\u6837\u5b50\n",
                "\n",
                "+ \u5728\u8bbe\u7f6e\u8bef\u5dee\u51fd\u6570\u65f6\uff0c\u8981\u4fdd\u8bc1\u80fd\u591f <u>Problem $2.1$</u> \u80fd\u591f\u65b9\u4fbf\u5730\u89e3\u51b3\u3002\n",
                "    + Problem $2.1$ : $\\hat y^{n}$ = argmax[$\\Delta(\\hat y,y)+w \\cdot \\phi(x^{n},y)$]\uff08\u53ef\u4ee5\u7528 Vitervi \u7b97\u6cd5\u89e3\u51b3\uff09"
            ]
        },
        {
            "cell_type": "markdown",
            "metadata": {},
            "source": [
                "\u4e0d\u540c\u65b9\u6cd5\u7684\u5b9e\u9a8c\u7ed3\u679c\uff1a\n",
                "\n",
                "![](http://imgbed.momodel.cn/35-41 perfomance.png)"
            ]
        },
        {
            "cell_type": "markdown",
            "metadata": {},
            "source": [
                "",
                "\n",
                "\n",
                "![](http://imgbed.momodel.cn/35-42 rnn.png)",
                "\n",
                "+ CRF\uff0c\u7ed3\u6784\u5316\u652f\u6301\u5411\u91cf\u673a\u7b49\u7684\u4f18\u70b9\uff1a\n",
                "  + \u8003\u8651\u6574\u4e2a\u5e8f\u5217\n",
                "  + \u53ef\u4ee5\u660e\u786e\u8003\u8651\u6807\u7b7e\u4f9d\u8d56\u6027\n",
                "  + \u635f\u5931\u51fd\u6570\u662f\u8bef\u5dee\u7684\u4e0a\u754c\n",
                "+ RNN \u7684\u4f18\u70b9\uff1a\n",
                "  + \u7f51\u7edc\u7ed3\u6784\u6bd4\u8f83\u6df1\n",
                "  \n",
                "\u4f46\u662f\uff0cRNN \u7684\u4f18\u70b9\u76f8\u6bd4\u4e8e CRF\uff0c\u7ed3\u6784\u5316\u652f\u6301\u5411\u91cf\u673a\u7b49\u7684\u4f18\u70b9\u66f4\u597d\uff0c\u6240\u4ee5 RNN \u8868\u73b0\u5f97\u8fc7\u66f4\u597d\u3002"
            ]
        },
        {
            "cell_type": "markdown",
            "metadata": {},
            "source": [
                "\n",
                "",
                "\n",
                "\n",
                "![](http://imgbed.momodel.cn/35-43 integrate.png)"
            ]
        },
        {
            "cell_type": "markdown",
            "metadata": {},
            "source": [
                "+ \u8bed\u97f3\u8bc6\u522b\uff1a CNN/LSTM/DNN + HMM\n",
                "\n",
                "\n",
                "![](http://imgbed.momodel.cn/35-45 hmm integarte.png)",
                "\n",
                "\u7528\u8d1d\u53f6\u65af\u516c\u5f0f\u6c42\u89e3\u6982\u7387 $P(x_l|y_l)$"
            ]
        },
        {
            "cell_type": "markdown",
            "metadata": {},
            "source": [
                "+ \u8bed\u4e49\u6807\u8bb0\uff1aBi-directional LSTM + CRF/Structured SVM\n",
                "\n",
                "![](http://imgbed.momodel.cn/35-46 crf tagggg.png)",
                "\n",
                "\u5229\u7528 RNN \u6a21\u578b\u5f97\u5230\u7279\u5f81\u5411\u91cf\uff0c\u518d\u7528 CRF \u8fdb\u884c\u6807\u8bb0\u3002"
            ]
        },
        {
            "cell_type": "markdown",
            "metadata": {},
            "source": [
                "### 5.\u603b\u7ed3"
            ]
        },
        {
            "cell_type": "markdown",
            "metadata": {},
            "source": [
                "\n",
                "",
                "\n",
                "![](http://imgbed.momodel.cn/35-47 remark.png)",
                "\n",
                "\u8fd9\u4e9b\u65b9\u6cd5\u90fd\u80fd\u52a0\u4e0a\u6df1\u5ea6\u5b66\u4e60\uff0c\u4ece\u800c\u6709\u4e00\u4e2a\u66f4\u597d\u7684\u8868\u73b0"
            ]
        }
    ],
    "metadata": {
        "kernelspec": {
            "display_name": "Python 3",
            "language": "python",
            "name": "python3"
        },
        "language_info": {
            "codemirror_mode": {
                "name": "ipython",
                "version": 3
            },
            "file_extension": ".py",
            "mimetype": "text/x-python",
            "name": "python",
            "nbconvert_exporter": "python",
            "pygments_lexer": "ipython3",
            "version": "3.5.2"
        }
    },
    "nbformat": 4,
    "nbformat_minor": 2
}