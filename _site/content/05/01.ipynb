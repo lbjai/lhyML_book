{
 "cells": [
  {
   "cell_type": "markdown",
   "metadata": {},
   "source": [
    "\n",
    "\n",
    "### 这节我们主要学习\n",
    "\n",
    "+ 1.卷积神经网络（CNN）简介\n",
    "+ 2.CNN模型\n",
    "+ 3.在Keras中实现CNN\n",
    "+ 4.理解CNN实际在做什么\n",
    "+ 5.CNN的一些应用"
   ]
  },
  {
   "cell_type": "markdown",
   "metadata": {},
   "source": [
    "### 1. CNN 简介\n",
    "\n",
    "\n"
   ]
  },
  {
   "cell_type": "markdown",
   "metadata": {},
   "source": [
    "#### 1.1 为什么使用卷积神经网络"
   ]
  },
  {
   "cell_type": "markdown",
   "metadata": {},
   "source": [
    "典型的深度学习模型就是很深的神经网络，包含多个隐含层，多隐含层的神经网络很难直接使用BP算法进行直接训练。\n",
    "\n",
    "因为反向传播误差是往往会发散，很难收敛。\n",
    "\n",
    "为什么使用卷积神经网络处理图像问题：\n",
    "  + 使用比整个图片小很多的图案\n",
    "  <br>通常一个神经元不需要通过整个图片来发现一些图案；\n",
    "  <br>即神经元只需要选取一些特征图案就可做出判断，如通过判断鸟嘴来分类鸟，而不是使用鸟的整张图片。\n",
    "\n",
    "![](http://imgbed.momodel.cn/21-1 与更小的区域连接.png)"
   ]
  },
  {
   "cell_type": "markdown",
   "metadata": {},
   "source": [
    "  + 相同的图案出现在不同的地区\n",
    "  <br>对整张图片中不同位置的相同图案进行提取，并且可以使用相同的参数设置进行训练。\n",
    "  <br>如下图，不同位置的鸟嘴，不用分别设置 detector 处理，直接使用相同参数相同 detector（下文详解）。\n",
    "\n",
    "![](http://imgbed.momodel.cn/21-2 出现在不同的区域.png)"
   ]
  },
  {
   "cell_type": "markdown",
   "metadata": {},
   "source": [
    "  + 对像素进行二次采样不会更改对象\n",
    "　<br>二次采用可以减小图片尺寸，但不改变图像中特征图案，即对训练结果没有影响。<br>\n",
    "![](http://imgbed.momodel.cn/21-3 二次采样不影响.png)"
   ]
  },
  {
   "cell_type": "markdown",
   "metadata": {},
   "source": [
    "#### 1.2 整个 CNN 模型架构\n"
   ]
  },
  {
   "cell_type": "markdown",
   "metadata": {},
   "source": [
    "\n",
    "![](http://imgbed.momodel.cn/21-4 整个CNN.png)\n",
    "CNN 模型中图像处理具有以下性质：\n",
    "\n",
    "性质1：使用比整个图片小很多的图案\n",
    "\n",
    "性质2：能够处理不同区域相同的图案\n",
    "\n",
    "性质3： 对像素进行二次采样不会更改对象\n",
    "\n",
    "性质1和2使用卷积操作实现，性质3使用最大池化操作实现。\n",
    "\n",
    "![](http://imgbed.momodel.cn/21-5 整个cnn2.png)"
   ]
  },
  {
   "cell_type": "markdown",
   "metadata": {},
   "source": [
    "<br>"
   ]
  },
  {
   "cell_type": "markdown",
   "metadata": {},
   "source": [
    "<br>"
   ]
  },
  {
   "cell_type": "markdown",
   "metadata": {},
   "source": [
    "### 2. 卷积神经网络主要内容\n"
   ]
  },
  {
   "cell_type": "markdown",
   "metadata": {},
   "source": [
    "#### 2.1 卷积操作"
   ]
  },
  {
   "cell_type": "markdown",
   "metadata": {},
   "source": [
    "   卷积过程如下。首先，将过滤器叠加在图像数组的左上部。\n",
    "   \n",
    "   接下来，对过滤器及其目前所在的图像子部分执行对应元素乘积。\n",
    "   \n",
    "   也就是说，将过滤器的左上部元素与图像的左上部元素相乘，依此类推。\n",
    "   \n",
    "   然后，将这些结果相加来生成一个值。接着，将过滤器在图像上移动一段距离（称为步幅），并重复该过程。"
   ]
  },
  {
   "cell_type": "markdown",
   "metadata": {},
   "source": [
    "\n",
    "![](http://imgbed.momodel.cn/21-6 卷积操作.png)\n",
    "卷积核（也叫过滤器）： Filter1，Filter2，$...$；需要一个人为设计卷积核的大小和个数, 这里大小是一个 3X3 的矩阵。\n",
    "<br>因为使用卷积操作可以将图片的局部特性提取出来，所以实现了性质1，使用比图像小的特征图案。"
   ]
  },
  {
   "cell_type": "markdown",
   "metadata": {},
   "source": [
    "确定卷积操作的步长 stride：<br>\n",
    "stride=1（每次操作向右移动一列）：\n",
    "\n",
    "![](http://imgbed.momodel.cn/21-7 确定卷积操作的步长.png)\n",
    "stride=2（每次操作向右移动两列）：\n",
    "\n",
    "\n",
    "![](http://imgbed.momodel.cn/21-8 步长2.png)<br>\n",
    "![ZUl7DO.gif](https://s2.ax1x.com/2019/07/04/ZUl7DO.gif)"
   ]
  },
  {
   "cell_type": "markdown",
   "metadata": {},
   "source": [
    "使用卷积操作提取图像的特征，因为卷积核扫描整个图像,所以在不同区域的特征图案都会被提取到，这也是性质２的实现。\n",
    "\n",
    "\n",
    "![](http://imgbed.momodel.cn/21-9 解决性质2.png)"
   ]
  },
  {
   "cell_type": "markdown",
   "metadata": {},
   "source": [
    "特征图谱：\n",
    "采用不同的过滤器，得到不同的特征图谱。"
   ]
  },
  {
   "cell_type": "markdown",
   "metadata": {},
   "source": [
    "#### 2.2 对彩色图片作卷积"
   ]
  },
  {
   "cell_type": "markdown",
   "metadata": {},
   "source": [
    "图像是一种二阶或三阶字节数组，二阶数组包含宽度和高度两个维度，三阶数组有 3 个维度，包括宽度、高度和多个通道。\n",
    "\n",
    "所以灰阶图是二阶的，而 RGB 图(彩色图片)是三阶的（包含 3 个通道）。\n",
    "\n",
    "那么对应的卷积核就要设计成一个三维矩阵, 这也是和上面灰阶图作卷积不同的地方。\n",
    "<br>\n",
    "![](https://s2.ax1x.com/2019/07/04/ZUYzxs.png)"
   ]
  },
  {
   "cell_type": "markdown",
   "metadata": {},
   "source": [
    "#### 2.3 卷积和全连接对比\n"
   ]
  },
  {
   "cell_type": "markdown",
   "metadata": {},
   "source": [
    "\n",
    "![](http://imgbed.momodel.cn/21-12 卷积和全连接的对比.png)"
   ]
  },
  {
   "cell_type": "markdown",
   "metadata": {},
   "source": [
    "更少的参数：过滤器中的每个参数，仅仅连接到9个输入，而不是全连接。\n",
    "\n",
    "![](http://imgbed.momodel.cn/21-13 更少的参数.png)"
   ]
  },
  {
   "cell_type": "markdown",
   "metadata": {},
   "source": [
    "权值共享：每次卷积操作使用相同的卷积核，实现了权值共享。\n",
    "\n",
    "![](http://imgbed.momodel.cn/21-14 权值共享.png)\n"
   ]
  },
  {
   "cell_type": "markdown",
   "metadata": {},
   "source": [
    "#### 2.2 最大池化\n"
   ]
  },
  {
   "cell_type": "markdown",
   "metadata": {},
   "source": [
    "取每个池化区域的最大值：\n",
    "    \n",
    "![](http://imgbed.momodel.cn/21-15 最大池化.png)\n",
    "最终得到一个 2X2 的结果：\n",
    "\n",
    "\n",
    "![](http://imgbed.momodel.cn/21-16 池化结果.png)\n",
    "得到的新的图片更小，每一个过滤器代表一个通道。"
   ]
  },
  {
   "cell_type": "markdown",
   "metadata": {},
   "source": [
    "经过卷积和池化操作之后得到的图片比原图片更小；通道的数量和卷积核的数量相同。 \n",
    "\n",
    "![](http://imgbed.momodel.cn/21-17 池化的效果.png)"
   ]
  },
  {
   "cell_type": "markdown",
   "metadata": {},
   "source": [
    "#### 2.3 Flatten"
   ]
  },
  {
   "cell_type": "markdown",
   "metadata": {},
   "source": [
    "经过一些列的卷积和池化操作之后，我们需要将得到的图片平展开来，经过最后一层的全连接层达到最终的输出结果。\n",
    "\n",
    "![](http://imgbed.momodel.cn/21-18 平铺.png)"
   ]
  },
  {
   "cell_type": "markdown",
   "metadata": {},
   "source": [
    "<br>"
   ]
  },
  {
   "cell_type": "markdown",
   "metadata": {},
   "source": [
    "### 3. 在 Keras 中实现 CNN\n",
    "\n"
   ]
  },
  {
   "cell_type": "markdown",
   "metadata": {},
   "source": [
    "在 Keras 中，我们只需要修改网络的结构和输入的形式。\n",
    "\n",
    "![](http://imgbed.momodel.cn/21-19 在keras中实现CNN.png)\n",
    "如图，我们有25个 3X3 的过滤器，输入的 shape 为（28,28,1）：\n",
    "\n",
    "当为黑白图像时，最后一位为1；当为彩色图片时，最后一位为3。\n",
    "\n",
    "左下角使用最大池化操作，池化的结果为一个单独的像素值3。"
   ]
  },
  {
   "cell_type": "markdown",
   "metadata": {},
   "source": [
    "每一个卷积层中，每个滤波器所包含的参数的多少：\n",
    "\n",
    "![](http://imgbed.momodel.cn/21-20 keras中的cnn2.png)\n",
    "第一个卷积层为单通道，每一个通道的卷积核的大小为 3X3，每个过滤器包含的参数的个数为9。\n",
    "\n",
    "第二个卷积层有25个通道，每一个通道的卷积核的大小为 3X3，每个过滤器包含的参数的个数为225。"
   ]
  },
  {
   "cell_type": "markdown",
   "metadata": {},
   "source": [
    "**全连接层：**\n",
    "\n",
    "经过卷积和池化操作之后，将特征图像平铺，并添加两个全连接层，得到最终的输出结果。\n",
    "\n",
    "![](http://imgbed.momodel.cn/21-21 keras中的全连接层.png)"
   ]
  },
  {
   "cell_type": "markdown",
   "metadata": {},
   "source": [
    "<br>"
   ]
  },
  {
   "cell_type": "markdown",
   "metadata": {},
   "source": [
    "### 4. CNN 实际在做什么\n"
   ]
  },
  {
   "cell_type": "markdown",
   "metadata": {},
   "source": [
    "实际上，机器可能不会识别这是一双鞋子，而是一头美洲狮。\n",
    "\n",
    "![](http://imgbed.momodel.cn/21-22 美洲狮.png)"
   ]
  },
  {
   "cell_type": "markdown",
   "metadata": {},
   "source": [
    "#### 4.1 第一个卷积层\n"
   ]
  },
  {
   "cell_type": "markdown",
   "metadata": {},
   "source": [
    "AlexNet 网络中第一个卷积层的过滤器的可视化结果：\n",
    "\n",
    "![](http://imgbed.momodel.cn/21-23 第一个卷积层.png)"
   ]
  },
  {
   "cell_type": "markdown",
   "metadata": {},
   "source": [
    "#### 4.2 更高的卷积层\n",
    "  \n",
    "  + 哪张图片会使一个特定的神经元活跃\n",
    "  \n",
    "  \n",
    "![](http://imgbed.momodel.cn/21-24 哪张图片更活跃.png)\n",
    "\n",
    "取出一个特定的神经元和相应的过滤器，将图片经过CNN网络的训练从该过滤器输出；\n",
    "\n",
    "观察输出的结果，可以判断该神经元究竟在干什么。"
   ]
  },
  {
   "cell_type": "markdown",
   "metadata": {},
   "source": [
    "第k个滤波器的输出是 11X11 矩阵，第k个滤波器的活跃程度：\n",
    "\n",
    "$a^k=\\sum_{i=1}^{11} \\sum_{j=1}^{11} a^{k}_{ij} $\n",
    "\n",
    "<font size=4>$x^* = arg$ $ \\smash{\\displaystyle\\max_{x}}a^k$ <font>(gradient descent)\n",
    "\n",
    "$\\frac{\\partial a^k}{\\partial x_{ij}}$，我们通过梯度下降的方法找到使 $a^k$ 最大的 $x$。\n",
    "\n",
    "\n",
    "![](http://imgbed.momodel.cn/21-25 梯度下降的方法.png)"
   ]
  },
  {
   "cell_type": "markdown",
   "metadata": {},
   "source": [
    "如图，是对第二个卷积层的前12个卷积核求出的使 $a^k$ 最大对应的 $x$ 图像。\n",
    "\n",
    "![](http://imgbed.momodel.cn/21-26 最终的结果.png)"
   ]
  },
  {
   "cell_type": "markdown",
   "metadata": {},
   "source": [
    "#### 4.3 全连接层\n"
   ]
  },
  {
   "cell_type": "markdown",
   "metadata": {},
   "source": [
    "对于全连接层，我们可以使用与卷积层相同的方法，找到哪一张图片使该神经元的激活程度最大。\n",
    "\n",
    "\n",
    "![](http://imgbed.momodel.cn/21-27 全连接层.png)\n",
    "上图展示了前九个神经元对应的结果。"
   ]
  },
  {
   "cell_type": "markdown",
   "metadata": {},
   "source": [
    "#### 4.4 最后一层\n"
   ]
  },
  {
   "cell_type": "markdown",
   "metadata": {},
   "source": [
    "类似上述处理得到的 $x$。\n",
    "\n",
    "![](http://imgbed.momodel.cn/21-28 最后一层.png)"
   ]
  },
  {
   "cell_type": "markdown",
   "metadata": {},
   "source": [
    "图片可视化结果的改良：\n",
    "\n",
    "\n",
    "![](http://imgbed.momodel.cn/21-29 regularization.png)"
   ]
  },
  {
   "cell_type": "markdown",
   "metadata": {},
   "source": [
    "彩色图片得到的结果：\n",
    "\n",
    "![](http://imgbed.momodel.cn/21-30 彩色图片处理的结果.png)"
   ]
  },
  {
   "cell_type": "markdown",
   "metadata": {},
   "source": [
    "判断某些像素点对分类影响的大小：\n",
    "\n",
    "通过微分的大小判断某些像素点的影响大小：\n",
    "\n",
    "![](http://imgbed.momodel.cn/21-31 判断某些pixel对分类的影响.png)\n",
    "通过将某一部分遮住，判断该区域对最终分类的影响：\n",
    "\n",
    "![](http://imgbed.momodel.cn/21-32 影响大小.png)\n",
    "\n",
    "![](http://imgbed.momodel.cn/21-33 遮住一些部分.png)"
   ]
  },
  {
   "cell_type": "markdown",
   "metadata": {},
   "source": [
    "<br>"
   ]
  },
  {
   "cell_type": "markdown",
   "metadata": {},
   "source": [
    "### 5. CNN 的应用\n"
   ]
  },
  {
   "cell_type": "markdown",
   "metadata": {},
   "source": [
    "#### 5.1 Deep Dream"
   ]
  },
  {
   "cell_type": "markdown",
   "metadata": {},
   "source": [
    "\n",
    "![](http://imgbed.momodel.cn/21-34 Deep Dream.png)\n",
    "将得到的结果夸张化：\n",
    "\n",
    "\n",
    "![](http://imgbed.momodel.cn/21-35 得到的结果夸张化.png)\n",
    "参考网址：<font size=4>http://deepdreamgenerator.com/<font>"
   ]
  },
  {
   "cell_type": "markdown",
   "metadata": {},
   "source": [
    "#### 5.2 Deep Style"
   ]
  },
  {
   "cell_type": "markdown",
   "metadata": {},
   "source": [
    "风格迁移：\n",
    "\n",
    "![](http://imgbed.momodel.cn/21-36 风格迁移.png)\n",
    "结果：\n",
    "\n",
    "![](http://imgbed.momodel.cn/21-37 风格迁移结果.png)\n",
    "\n",
    "\n",
    "参考网址：<font size=1>https://dreamscopeapp.com/<font>"
   ]
  },
  {
   "cell_type": "markdown",
   "metadata": {},
   "source": [
    "原理：\n",
    "\n",
    "将左右两张图片分别卷积得到他们的内容和风格，在找出一张图片，使其内容与左边的相似，风格与右边的相似。\n",
    "\n",
    "![](http://imgbed.momodel.cn/21-38 迁移的原理.png)"
   ]
  },
  {
   "cell_type": "markdown",
   "metadata": {},
   "source": [
    "#### 5.3 CNN 网络更多应用"
   ]
  },
  {
   "cell_type": "markdown",
   "metadata": {},
   "source": [
    "\n",
    "![](http://imgbed.momodel.cn/21-39 更多的应用.png)\n",
    "使用 CNN 网络能将棋盘当做图片来处理，而不是一个 19X19 的向量。"
   ]
  },
  {
   "cell_type": "markdown",
   "metadata": {},
   "source": [
    "训练过程就是输入以前下过的棋谱，得到下一步的落子位置。\n",
    "\n",
    "\n",
    "![](http://imgbed.momodel.cn/21-40 围棋训练.png)"
   ]
  },
  {
   "cell_type": "markdown",
   "metadata": {},
   "source": [
    "使用 CNN 的原因：\n",
    "  \n",
    "  + 有些图案比整个图像小得多\n",
    "  \n",
    "  + 相同的图案出现在不同的地区\n",
    "\n",
    "\n",
    "![](http://imgbed.momodel.cn/21-41 使用cnn的原yin.png)\n",
    "下围棋也有相似的特点。"
   ]
  },
  {
   "cell_type": "markdown",
   "metadata": {},
   "source": [
    "+ 对像素进行二次采样不会更改对象\n",
    "\n",
    "在图像识别中具有这样的特点，需要进行池化操作，那么在下围棋时也有同样的特点吗？"
   ]
  },
  {
   "cell_type": "markdown",
   "metadata": {},
   "source": [
    "\n",
    "![](http://imgbed.momodel.cn/21-42 不需要进行池化操作.png)"
   ]
  },
  {
   "cell_type": "markdown",
   "metadata": {},
   "source": [
    "在语音处理上应用：\n",
    "\n",
    "\n",
    "![](http://imgbed.momodel.cn/21-43 语音辨识.png)\n",
    "滤波器在声谱频率方向上移动。"
   ]
  }
 ],
 "metadata": {
  "kernelspec": {
   "display_name": "Python 3",
   "language": "python",
   "name": "python3"
  },
  "language_info": {
   "codemirror_mode": {
    "name": "ipython",
    "version": 3
   },
   "file_extension": ".py",
   "mimetype": "text/x-python",
   "name": "python",
   "nbconvert_exporter": "python",
   "pygments_lexer": "ipython3",
   "version": "3.6.7"
  }
 },
 "nbformat": 4,
 "nbformat_minor": 2
}
