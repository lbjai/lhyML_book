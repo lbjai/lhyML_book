{
    "cells": [
        {
            "cell_type": "markdown",
            "metadata": {},
            "source": [
                "\n",
                "### \u8fd9\u4e00\u8282\u6211\u4eec\u4e3b\u8981\u5b66\u4e60",
                "\n",
                "+ \u6df1\u5ea6\u5f3a\u5316\u5b66\u4e60\u7684\u57fa\u7840\u77e5\u8bc6\u53ca\u5176\u5e94\u7528\u573a\u666f\n",
                "+ \u7528\u57fa\u4e8e\u7b56\u7565\u7684\u65b9\u6cd5\uff08Policy-based\uff09\u5b66\u4e60\u4e00\u4e2a\u505a\u4e8b\u7684 Actor\n",
                "+ \u7528\u57fa\u4e8e\u4ef7\u503c\u7684\u65b9\u6cd5\uff08Value-based\uff09\u5b66\u4e60\u4e00\u4e2a\u6279\u8bc4\u7684 Critic(\u4e0b\u5b66\u671f\u5185\u5bb9)\n",
                "+ \u5c06 Actor \u4e0e Critic \u7ed3\u5408\u5f97\u5230\u5f53\u524d\u6700\u5f3a\u7684\u65b9\u6cd5 A3C\uff08\u4e0b\u5b66\u671f\u5185\u5bb9\uff09"
            ]
        },
        {
            "cell_type": "markdown",
            "metadata": {},
            "source": [
                "### 1.\u6df1\u5ea6\u5f3a\u5316\u5b66\u4e60"
            ]
        },
        {
            "cell_type": "markdown",
            "metadata": {},
            "source": [
                "\n",
                "\n",
                "![](http://imgbed.momodel.cn/39-1 deep.png)",
                "\n",
                "\n",
                "David Sivler \u8bf4 \u4eba\u5de5\u667a\u80fd\uff08AI\uff09= \u5f3a\u5316\u5b66\u4e60\uff08RL\uff09+ \u6df1\u5ea6\u5b66\u4e60\uff08DL\uff09\n",
                "\n",
                "15\u5e74 Google \u5728 nature \u53d1\u8868 \u6df1\u5ea6\u5f3a\u5316\u5b66\u4e60\u73a9 Atari \u6e38\u620f\u7684\u8bba\u6587\n",
                "\n",
                "16\u5e74\u8457\u540d\u7684 Alpha Go \u75db\u6241\u4eba\u7c7b"
            ]
        },
        {
            "cell_type": "markdown",
            "metadata": {},
            "source": [
                "#### 1.1 \u5f3a\u5316\u5b66\u4e60\u5e94\u7528\u573a\u666f\n",
                "\n",
                ""
            ]
        },
        {
            "cell_type": "markdown",
            "metadata": {},
            "source": [
                "\n",
                "![](http://imgbed.momodel.cn/39-2  scenario.png)",
                "\n",
                "\u6709\u4e2a\u50bb\u50bb\u7684\u673a\u5668\u4eba\u5c0f\u767d\uff08 Agent \uff09\u53bb\u95ef\u8361\u4e16\u754c\uff08 Environment \uff09\uff0c\u4e16\u754c\u662f\u975e\u5e38\u5f00\u653e\u7684\uff0c\u5c06\u81ea\u5df1\u7684\u72b6\u6001\uff08 State \uff09\u6beb\u4e0d\u541d\u556c\u5730\u7ed9\u5c0f\u767d\u5448\u73b0 \uff0c<br>\n",
                "\u800c\u5c0f\u767d\u4e5f\u4f1a\u505a\u51fa\u4e00\u4e9b\u61f5\u61f5\u61c2\u61c2\u7684\u63a2\u7d22\u52a8\u4f5c\uff08 Action \uff09\uff0c\u8fd9\u65f6\u5019\u4e16\u754c\u5c31\u4f1a\u544a\u8bc9\u5c0f\u767d\u4f60\u7684\u6240\u4f5c\u6240\u4e3a\u662f\u597d\u7684\u8fd8\u662f\u4e0d\u597d\u7684\uff08 Reward \uff09\u3002<br>\n",
                "\u5c0f\u767d\u770b\u5230\u4e00\u676f\u6c34\uff08 State \uff09\uff0c\u61f5\u61c2\u7684\u5c0f\u767d\u4e00\u4e0b\u5b50\u5c06\u5b83\u6253\u7ffb\u4e86\uff08 Action \uff09\uff0c\u5219\u4ed6\u4f1a\u6536\u5230\u8d1f\u9762\u53cd\u9988\uff08 Reword \uff09\u3002\u7531\u4e8e\u73af\u5883\u662f\u8fde\u7eed\u7684\uff0c<br>\n",
                "\u7d27\u63a5\u7740\u5c0f\u767d\u9762\u524d\u7684\u5c31\u662f\u4e00\u676f\u88ab\u6253\u7ffb\u7684\u6c34\uff08 State \uff09\uff0c\u4e8e\u662f\u8bd5\u7740\u628a\u6c34\u64e6\u5e72\u51c0\uff08 Action \uff09\uff0c\u5f97\u5230\u4e86\u6b63\u9762\u53cd\u9988\uff08 Reward \uff09\u3002<br>\n",
                "\n",
                "\n",
                "![](http://imgbed.momodel.cn/39-3 reward.png)",
                "\n",
                "\n",
                "\u4e8e\u662f\uff0c\u5c0f\u767d\u8981\u505a\u7684\u5c31\u662f\uff0c\u6839\u636e\u524d\u9762\u6536\u83b7\u7684\u6b63\u9762\u548c\u8d1f\u9762\u53cd\u9988\uff0c\u53bb\u5b66\u4e60\u54ea\u4e9b\u80fd\u65f6\u6b63\u9762\u53cd\u9988\u6700\u5927\u5316\u7684\u884c\u4e3a\u3002"
            ]
        },
        {
            "cell_type": "markdown",
            "metadata": {},
            "source": [
                "#### 1.2 \u76d1\u7763\u5b66\u4e60\u4e0e\u589e\u5f3a\u5b66\u4e60\n",
                "\n",
                ""
            ]
        },
        {
            "cell_type": "markdown",
            "metadata": {},
            "source": [
                "\n",
                "![](http://imgbed.momodel.cn/39-4 AlphaGo.png)",
                "\n",
                "\u5728\u4e0b\u56f4\u68cb\u7684\u8fc7\u7a0b\u4e2d\uff0c\u73af\u5883\u4e3a\u4f60\u7684\u5bf9\u624b\uff0c\u673a\u5668\u89c2\u5bdf\u68cb\u76d8\u4e0a\u7684\u843d\u5b50\u60c5\u51b5\uff0c\n",
                "\n",
                "\u6839\u636e\u5bf9\u624b\u7684\u843d\u5b50\uff0c\u673a\u5668\u505a\u51fa\u4e0d\u540c\u7684\u52a8\u4f5c\u3002\n",
                "\n",
                "![](http://imgbed.momodel.cn/39-5 alphago2.png)",
                "\n",
                "\u95ee\u9898\u7684\u96be\u70b9\u5728\u4e8e\uff0c\u4e0d\u662f\u6bcf\u6b21\u843d\u5b50\u90fd\u80fd\u591f\u5f97\u5230\u6709\u6548\u7684 reward\uff0c\u9700\u8981\u7ed3\u675f\u4e00\u76d8\u68cb\u5c40\u624d\u80fd\u5f97\u5230 reward\uff0c\u5927\u591a\u6570\u60c5\u51b5\u4e0b\uff0creward \u7684\u503c\u4e3a 0\u3002"
            ]
        },
        {
            "cell_type": "markdown",
            "metadata": {},
            "source": [
                "\n",
                ""
            ]
        },
        {
            "cell_type": "markdown",
            "metadata": {},
            "source": [
                "\u76d1\u7763\u5b66\u4e60\u6839\u636e\u68cb\u8c31\u6765\u8fdb\u884c\u5b66\u4e60\u3002\n",
                "\n",
                "\u5f3a\u5316\u5b66\u4e60\u662f\u8ba9\u4e24\u4e2a agent \u8fdb\u884c\u5927\u91cf\u7684\u76f8\u4e92\u5bf9\u5f08\uff0c\u4f9d\u636e\u7ecf\u9a8c\u6765\u8fdb\u884c\u5b66\u4e60\u3002\n",
                "\n",
                "![](http://imgbed.momodel.cn/39-6 supervised reinforce.png)",
                "\n",
                "+ Supervised <br>\n",
                "\u5c31\u662f\u544a\u8bc9\u673a\u5668\u8bf4\u770b\u5230\u4ec0\u4e48\u6837\u7684\u6001\u52bf\u5c31\u843d\u5728\u6307\u5b9a\u7684\u4f4d\u7f6e\u3002<br>\n",
                "Supervised\u4e0d\u8db3\u7684\u5730\u65b9\u5c31\u662f\u5177\u4f53\u6001\u52bf\u4e0b\u843d\u5728\u54ea\u4e2a\u5730\u65b9\u662f\u6700\u597d\u7684\uff0c\u5176\u5b9e\u4eba\u4e5f\u4e0d\u77e5\u9053\uff0c\u56e0\u6b64\u4e0d\u592a\u5bb9\u6613\u505aSupervised\u3002<br>\n",
                "\u7528Supervised\u5c31\u662fmachine\u4ece\u8001\u5e08\u90a3\u5b66\uff0c\u8001\u5e08\u8bf4\u4e0b\u54ea\u5c31\u4e0b\u54ea\u3002\n",
                "<br>\n",
                "+ Reinforcement \n",
                "\u5c31\u662f\u8ba9\u673a\u5668\u627e\u4e00\u4e2a\u5bf9\u624b\u4e0d\u65ad\u4e0b\u4e0b\uff0c\u8d62\u4e86\u5c31\u83b7\u5f97\u6b63\u7684reward\uff0c\u6ca1\u6709\u4eba\u544a\u8bc9\u5b83\u4e4b\u524d\u54ea\u51e0\u6b65\u4e0b\u6cd5\u662f\u597d\u7684\uff0c<br>\n",
                "\u5b83\u8981\u81ea\u5df1\u53bb\u8bd5\uff0c\u53bb\u5b66\u4e60\u3002Reinforcement \u662f\u4ece\u8fc7\u53bb\u7684\u7ecf\u9a8c\u53bb\u5b66\u4e60\uff0c\u6ca1\u6709\u8001\u5e08\u544a\u8bc9\u5b83\u4ec0\u4e48\u662f\u597d\u7684\uff0c\u4ec0\u4e48\u662f\u4e0d\u597d\u7684\uff0cmachine\u8981\u81ea\u5df1\u60f3\u529e\u6cd5\uff0c<br>\n",
                "\u5176\u5b9e\u5728\u505aReinforcement \u8fd9\u4e2atask\u91cc\u9762\uff0cmachine\u9700\u8981\u5927\u91cf\u7684training\uff0c\u53ef\u4ee5\u4e24\u4e2amachine\u4e92\u76f8\u4e0b\u3002<br>\n",
                "\n",
                "Alpha Go \u7ed3\u5408\u4e86\u4e24\u79cd\u65b9\u6cd5\uff0c\u5148\u8fdb\u884c\u76d1\u7763\u5b66\u4e60\uff0c\u83b7\u5f97\u8f83\u597d\u7684\u8868\u73b0\u4e4b\u540e\u518d\u8fdb\u884c\u5f3a\u5316\u5b66\u4e60\u3002"
            ]
        },
        {
            "cell_type": "markdown",
            "metadata": {},
            "source": [
                "#### 1.3 \u804a\u5929\u673a\u5668\u4eba\n",
                "\n",
                ""
            ]
        },
        {
            "cell_type": "markdown",
            "metadata": {},
            "source": [
                "Reinforcement Learning \u4e5f\u53ef\u4ee5\u88ab\u7528\u5728Learning a chat-bot\u3002<br>\n",
                "\n",
                "chat-bot \u662fseq2seq\uff0cinput \u5c31\u662f\u4e00\u53e5\u8bdd\uff0coutput \u5c31\u662f\u673a\u5668\u7684\u56de\u7b54\u3002<br>\n",
                "\n",
                "\u5982\u679c\u91c7\u7528Supervised \uff0c\u5c31\u662f\u544a\u8bc9\u673a\u5668\u6709\u4eba\u8ddf\u4f60\u8bf4\u201chello\u201d\uff0c\u4f60\u5c31\u56de\u7b54\u201chi\u201d\u3002<br>\n",
                "\u5982\u679c\u6709\u4eba\u8ddf\u4f60\u8bf4\u201cbye bye\u201d\uff0c\u4f60\u5c31\u8981\u8bf4\u201cgood bye\u201d\u3002<br>\n",
                "\n",
                "\u5982\u679c\u662fReinforcement Learning \u5c31\u662f\u8ba9\u673a\u5668\u80e1\u4e71\u53bb\u8ddf\u4eba\u8bb2\u8bdd\uff0c\u8bb2\u8bb2\uff0c\u4eba\u5c31\u751f\u6c14\u4e86\uff0c<br>\n",
                "machine\u5c31\u77e5\u9053\u4e00\u53e5\u8bdd\u53ef\u80fd\u8bb2\u5f97\u4e0d\u592a\u597d\u3002\u4e0d\u8fc7\u6ca1\u4eba\u544a\u8bc9\u5b83\u54ea\u4e00\u53e5\u8bdd\u8bb2\u5f97\u4e0d\u597d\uff0c\u5b83\u8981\u81ea\u5df1\u53bb\u53d1\u6398\u8fd9\u4ef6\u4e8b\u60c5\u3002<br>\n",
                "\n",
                "![](http://imgbed.momodel.cn/39-8 sequence to sequence.png)",
                "\n",
                "\n",
                "\n"
            ]
        },
        {
            "cell_type": "markdown",
            "metadata": {},
            "source": [
                "\u4f7f\u7528\u5f3a\u5316\u5b66\u4e60\u7684\u4e00\u79cd\u65b9\u6cd5\u662f\u8ba9 Agent \u548c\u4eba\u5bf9\u8bdd\uff0cAgent \u4f1a\u968f\u673a\u56de\u7b54\uff0c\u6700\u7ec8\u53ef\u80fd\u5f97\u5230\u5f88\u4e0d\u597d\u7684\u7ed3\u679c\uff0c\u673a\u5668\u518d\u6839\u636e reward \u6765\u8c03\u6574\u3002\n",
                "\n",
                "![](http://imgbed.momodel.cn/39-7 chatbot.png)"
            ]
        },
        {
            "cell_type": "markdown",
            "metadata": {},
            "source": [
                "\u5728\u8fdb\u884c\u5f3a\u5316\u5b66\u4e60\u65f6\uff0c\u673a\u5668\u8981\u8fdb\u884c\u5927\u91cf\u7684\u5bf9\u8bdd\uff0c\u4e00\u822c\u91c7\u53d6\u7684\u65b9\u6cd5\u662f\uff0c\n",
                "\n",
                "+ \u8ba9\u4e24\u4e2a\u673a\u5668\u4eba\u4e92\u76f8\u4ea4\u8c08\uff08\u6709\u65f6\u4f1a\u4ea7\u751f\u826f\u597d\u7684\u5bf9\u8bdd\uff0c\u6709\u65f6\u4f1a\u4ea7\u751f\u4e0d\u826f\u5f71\u54cd\uff09\u3002\n",
                "\n",
                "![](http://imgbed.momodel.cn/39-10 agent to.png)"
            ]
        },
        {
            "cell_type": "markdown",
            "metadata": {},
            "source": [
                "+ \u901a\u8fc7\u8fd9\u79cd\u65b9\u6cd5\uff0c\u6211\u4eec\u53ef\u4ee5\u751f\u6210\u5f88\u591a\u5bf9\u8bdd\n",
                "+ \u4f7f\u7528\u4e00\u4e9b\u9884\u5b9a\u4e49\u7684\u89c4\u5219\u6765\u8bc4\u4f30\u5bf9\u8bdd\u7684\u4f18\u70b9\n",
                "\n",
                "\n",
                "![](http://imgbed.momodel.cn/39-11 pre-defined rule.png)",
                "\n",
                "\u4e24\u4e2achat-bot\u4e92\u76f8\u5bf9\u8bdd\uff0c\u5bf9\u8bdd\u4e4b\u540e\u6709\u4eba\u8981\u544a\u8bc9\u5b83\u4eec\u5b83\u4eec\u8bb2\u5f97\u597d\u8fd8\u662f\u4e0d\u597d\u3002<br>\n",
                "\u5728\u56f4\u68cb\u91cc\u6bd4\u8f83\u7b80\u5355\uff0c\u8f93\u8d62\u662f\u6bd4\u8f83\u660e\u786e\u7684\uff0c\u5bf9\u8bdd\u7684\u8bdd\u5c31\u6bd4\u8f83\u9ebb\u70e6\uff0c<br>\n",
                "\u4f60\u53ef\u4ee5\u8ba9\u4e24\u4e2amachine\u8fdb\u884c\u65e0\u6570\u8f6e\u4e92\u76f8\u5bf9\u8bdd\uff0c<br>\n",
                "\u95ee\u9898\u662f\u4f60\u4e0d\u77e5\u9053\u5b83\u4eec\u8fd9\u804a\u5929\u804a\u5f97\u597d\u8fd8\u662f\u4e0d\u597d\uff0c\u8fd9\u662f\u4e00\u4e2a\u5f85\u89e3\u51b3\u95ee\u9898\u3002<br>\n",
                "\u73b0\u6709\u7684\u65b9\u5f0f\u662f\u5236\u5b9a\u51e0\u6761\u89c4\u5219\uff0c\u5982\u679c\u8bb2\u5f97\u597d\u5c31\u7ed9\u5b83positive reward \uff0c<br>\n",
                "\u8bb2\u5f97\u4e0d\u597d\u5c31\u7ed9\u5b83negative reward\uff0c\u597d\u4e0d\u597d\u7531\u4eba\u4e3b\u89c2\u51b3\u5b9a\uff0c<br>\n",
                "\u7136\u540emachine\u5c31\u4ece\u5b83\u7684reward\u4e2d\u53bb\u5b66\u8bf4\u5b83\u8981\u600e\u4e48\u8bb2\u624d\u662f\u597d\u3002<br>\n",
                "\u540e\u7eed\u53ef\u80fd\u4f1a\u6709\u4eba\u7528GAN\u7684\u65b9\u5f0f\u53bb\u5b66chat-bot\u3002\u901a\u8fc7discriminator\u5224\u65ad\u662f\u5426\u50cf\u4eba\u5bf9\u8bdd\uff0c<br>\n",
                "\u4e24\u4e2aagent\u5c31\u4f1a\u60f3\u9a97\u8fc7discriminator\uff0c\u5373\u7528discriminator\u81ea\u52a8\u8ba4\u51fa\u7ed9reward\u7684\u65b9\u5f0f\u3002 <br>\n",
                "Reinforcement Learning \u6709\u5f88\u591a\u5e94\u7528\uff0c\u5c24\u5176\u662f\u4eba\u4e5f\u4e0d\u77e5\u9053\u600e\u4e48\u505a\u7684\u573a\u666f\u975e\u5e38\u9002\u5408\u3002<br>"
            ]
        },
        {
            "cell_type": "markdown",
            "metadata": {},
            "source": [
                "#### 1.4 \u4ea4\u4e92\u5f0f\u641c\u7d22\n",
                "\n",
                ""
            ]
        },
        {
            "cell_type": "markdown",
            "metadata": {},
            "source": [
                "![](http://imgbed.momodel.cn/39-12 interactive retrival.png)",
                "\n",
                "\u8ba9machine\u5b66\u4f1a\u505aInteractive retrieval\uff0c<br>\n",
                "\u610f\u601d\u5c31\u662f\u8bf4\u6709\u4e00\u4e2a\u641c\u5bfb\u7cfb\u7edf\uff0c\u80fd\u591f\u8ddfuser\u8fdb\u884c\u4fe1\u606f\u786e\u8ba4\u7684\u65b9\u5f0f\uff0c<br>\n",
                "\u4ece\u800c\u641c\u5bfb\u5230user\u6240\u9700\u8981\u7684\u4fe1\u606f\u3002<br>\n",
                "\u76f4\u63a5\u8fd4\u56deuser\u6240\u9700\u4fe1\u606f\uff0c\u5b83\u4f1a\u5f97\u5230\u4e00\u4e2apositive reward\uff0c\u7136\u540e\u6bcf\u95ee\u4e00\u4e2a\u95ee\u9898\uff0c\u90fd\u4f1a\u5f97\u5230\u4e00\u4e2anegative reward\u3002<br>"
            ]
        },
        {
            "cell_type": "markdown",
            "metadata": {},
            "source": [
                "",
                "\n",
                "Reinforcement Learning \u8fd8\u6709\u5f88\u591a\u5e94\u7528\uff0c\u6bd4\u5982\u5f00\u4e2a\u76f4\u5347\u673a\uff0c\u5f00\u4e2a\u65e0\u4eba\u8f66\u5440\uff0c<br>\n",
                "\u4e5f\u6709\u901a\u8fc7deepmind\u5e2e\u52a9\u8c37\u6b4c\u8282\u7535\uff0c\u4e5f\u6709\u6587\u672c\u751f\u6210\u7b49\u3002<br>\n",
                "\u73b0\u5728Reinforcement Learning\u6700\u5e38\u7528\u7684\u573a\u666f\u662f\u7535\u73a9\u3002<br>\n",
                "\u73b0\u5728\u6709\u73b0\u6210\u7684environment\uff0c\u6bd4\u5982Gym,Universe\u3002<br>\n",
                "\u8ba9machine \u7528Reinforcement Learning\u6765\u73a9\u6e38\u620f\uff0c<br>\n",
                "\u8ddf\u4eba\u4e00\u6837\uff0c\u5b83\u770b\u5230\u7684\u4e1c\u897f\u5c31\u662f\u4e00\u5e45\u753b\u9762\uff0c\u5c31\u662fpixel\uff0c\u7136\u540e\u770b\u5230\u753b\u9762\uff0c<br>\n",
                "\u5b83\u8981\u505a\u4ec0\u4e48\u4e8b\u60c5\u5b83\u81ea\u5df1\u51b3\u5b9a\uff0c\u5e76\u4e0d\u662f\u5199\u7a0b\u5e8f\u544a\u8bc9\u5b83\u8bf4\u4f60\u770b\u5230\u8fd9\u4e2a\u4e1c\u897f\u8981\u505a\u4ec0\u4e48\u3002\u9700\u8981\u5b83\u81ea\u5df1\u53bb\u5b66\u51fa\u6765\u3002<br>"
            ]
        },
        {
            "cell_type": "markdown",
            "metadata": {},
            "source": [
                "\n",
                ""
            ]
        },
        {
            "cell_type": "markdown",
            "metadata": {},
            "source": [
                "\n",
                "![](http://imgbed.momodel.cn/39-13 play video game.png)",
                "\n",
                "\u673a\u5668\u50cf\u4eba\u7c7b\u4e00\u6837\u5b66\u4e60\u5982\u4f55\u73a9\u6e38\u620f\uff0c\n",
                "\n",
                "+ \u673a\u5668\u89c2\u5bdf\u6e38\u620f\u753b\u9762\n",
                "\n",
                "+ \u673a\u5668\u5b66\u4e60\u91c7\u53d6\u5408\u9002\u7684\u52a8\u4f5c"
            ]
        },
        {
            "cell_type": "markdown",
            "metadata": {},
            "source": [
                "+ \u592a\u7a7a\u5165\u4fb5\u8005\u6e38\u620f\n",
                "\n",
                "\n",
                "![](http://imgbed.momodel.cn/39-14 space invader.png)",
                "\n",
                "\u6e38\u620f\u5f97\u5206\u4e3a reward\uff1b\u5f53\u6240\u6709\u7684\u5916\u661f\u4eba\u88ab\u6740\u5149\u6216\u8005\u98de\u8239\u88ab\u6bc1\u6e38\u620f\u7ed3\u675f\u3002\n",
                "\n"
            ]
        },
        {
            "cell_type": "markdown",
            "metadata": {},
            "source": [
                "\n",
                "\n",
                "![](http://imgbed.momodel.cn/39-15 action1.png)",
                "\n",
                "\u52a8\u4f5c$a_1$\uff1a\u5de6\u79fb, reward\u4e3a 0\uff1b\u5f53\u6267\u884c\u5b8c\u52a8\u4f5c $a_1 $\u4e4b\u540e\uff0c\u5916\u661f\u4eba\u4e5f\u8fdb\u884c\u4e86\u4e00\u4e9b\u79fb\u52a8\uff1b\n",
                "\n",
                "\u4f46\u8fd9\u79cd\u53d8\u5316\u4e0e\u673a\u5668\u91c7\u53d6\u7684\u52a8\u4f5c\u662f\u6ca1\u6709\u5173\u7cfb\u7684\uff0c\u6709\u65f6\u5019\u73af\u5883\u7684\u53d8\u5316\u662f\u7eaf\u7cb9\u968f\u673a\u7684\u3002\n",
                "\n",
                "\u52a8\u4f5c $a_2$\uff1a\u5f00\u706b\uff0creward \u4e3a 5\u3002"
            ]
        },
        {
            "cell_type": "markdown",
            "metadata": {},
            "source": [
                "\u7ecf\u8fc7\u591a\u8f6e\u7684\u5faa\u73af\u4e4b\u540e\uff0c\u6e38\u620f\u7ed3\u675f\uff08\u98de\u8239\u88ab\u6467\u6bc1\uff09\uff1b\u8fd9\u4e00\u8fc7\u7a0b\u88ab\u79f0\u4e3a\u4e00\u4e2a\n",
                "\n",
                "episode\uff0c\u6211\u4eec\u7684\u5b66\u4e60\u76ee\u6807\u662f\uff0c\u5728\u6bcf\u4e00\u8f6e\u7684 episode \u4e2d\uff0c\u6700\u5927\u5316\u7d2f\u79ef\u7684 reward\u3002\n",
                "\n",
                "\n",
                "![](http://imgbed.momodel.cn/39-16 episode.png)",
                "\n"
            ]
        },
        {
            "cell_type": "markdown",
            "metadata": {},
            "source": [
                "#### 1.5 \u5f3a\u5316\u5b66\u4e60\u7684\u96be\u70b9\n",
                ""
            ]
        },
        {
            "cell_type": "markdown",
            "metadata": {},
            "source": [
                "+ \u5956\u52b1\u5ef6\u8fdf\n",
                "\n",
                "  + \u5728\u592a\u7a7a\u5165\u4fb5\u7684\u6e38\u620f\u4e2d\uff0c\u4ec5\u4ec5\u5f00\u706b\u8fd9\u4e00\u4e2a\u52a8\u4f5c\u80fd\u591f\u83b7\u5f97\u5956\u52b1\uff0c\u5c3d\u7ba1\u5f00\u706b\u524d\u7684\u79fb\u52a8\u4e5f\u5f88\u91cd\u8981\n",
                "  \n",
                "  + \u5728\u4e0b\u56f4\u68cb\u65f6\uff0c\u727a\u7272\u77ed\u671f\u7684\u597d\u5904\u4ee5\u83b7\u5f97\u957f\u8db3\u7684\u5229\u76ca\u53ef\u80fd\u624d\u662f\u66f4\u597d\u7684\u9009\u62e9\n",
                "  \n",
                "+ \u673a\u5668\u7684\u64cd\u4f5c\u4f1a\u5f71\u54cd\u5176\u63a5\u53d7\u7684\u540e\u7eed\u6570\u636e\n",
                "\n",
                "     + \u673a\u5668\u8981\u80fd\u591f\u63a2\u7d22\u4ed6\u6ca1\u6709\u505a\u8fc7\u7684\u884c\u4e3a"
            ]
        },
        {
            "cell_type": "markdown",
            "metadata": {},
            "source": [
                "### 2. \u5f3a\u5316\u5b66\u4e60\u7684\u65b9\u6cd5\n",
                "\n",
                "",
                "\n",
                "Reinforcement Learning \u7684\u65b9\u6cd5\u4e3b\u8981\u5206\u4e3aPolicy-based\u7684\u65b9\u6cd5\u548c Valued-based \u7684\u65b9\u6cd5\u3002<br>\n",
                "\u5148\u6709Valued-based\u7684\u65b9\u6cd5\uff0c\u518d\u6709Policy-based\u7684\u65b9\u6cd5\u3002<br>\n",
                "\u5728Policy-based\u7684\u65b9\u6cd5\u91cc\u9762\uff0c\u4f1alearn\u4e00\u4e2a\u8d1f\u8d23\u505a\u4e8b\u7684Actor\uff0c<br>\n",
                "\u5728Valued-based\u7684\u65b9\u6cd5\u4f1alearn\u4e00\u4e2a\u4e0d\u505a\u4e8b\u7684Critic\uff0c\u4e13\u95e8\u6279\u8bc4\u4e0d\u505a\u4e8b\u7684\u4eba\u3002<br>\n",
                "\u6211\u4eec\u8981\u628aActor\u548cCritic\u52a0\u8d77\u6765\u53eb\u505aActor+Critic\u7684\u65b9\u6cd5\u3002<br>\n",
                "\n",
                "\n",
                "#### 2.1 \u7528\u57fa\u4e8e\u7b56\u7565\u7684\u65b9\u6cd5\uff08Policy-based Approach\uff09\u5b66\u4e60\u4e00\u4e2a Actor\n"
            ]
        },
        {
            "cell_type": "markdown",
            "metadata": {},
            "source": [
                "\n",
                "",
                "\n",
                "![](http://imgbed.momodel.cn/39-17 look for a function.png)",
                "    \n",
                "\u5148\u6765\u770b\u770b\u600e\u4e48\u5b66\u4e00\u4e2aActor:<br>\n",
                "\u6240\u8c13\u7684Actor\u662f\u4ec0\u4e48\u5462?\u6211\u4eec\u4e4b\u524d\u8bb2\u8fc7\uff0cMachine Learning \u5c31\u662f\u627e\u4e00\u4e2aFunction\uff0c<br>  \n",
                "Reinforcement Learning\u4e5f\u662fMachine Learning \u7684\u4e00\u79cd\uff0c\u6240\u4ee5\u8981\u505a\u7684\u4e8b\u60c5\u4e5f\u662f\u627eFunction\u3002<br>\n",
                "\u8fd9\u4e2aFunction\u5c31\u662f\u6240\u8c13\u7684\u9b54\u672f\u53d1\u73b0\uff0cActor\u5c31\u662f\u4e00\u4e2aFunction\u3002<br>\n",
                "\u8fd9\u4e2aFunction\u7684input\u5c31\u662fMachine\u770b\u5230\u7684observation\uff0c\u5b83\u7684output\u5c31\u662fMachine\u8981\u91c7\u53d6\u7684Action\u3002<br>\n",
                "\u6211\u4eec\u8981\u900f\u8fc7reward\u6765\u5e2e\u6211\u4eec\u627e\u8fd9\u4e2abest Function\u3002<br>"
            ]
        },
        {
            "cell_type": "markdown",
            "metadata": {},
            "source": [
                "\u627e\u4e2a\u8fd9\u4e2aFunction\u6709\u4e09\u4e2a\u6b65\u9aa4\uff1a\n",
                "\n",
                "",
                "\n",
                "\u7b2c\u4e00\u4e2a\u6b65\u9aa4\u5c31\u662f\u51b3\u5b9a\u4f60\u7684Function\u957f\u4ec0\u4e48\u6837\u5b50\uff0c\u5047\u8bbe\u4f60\u7684Function\u662f\u4e00\u4e2aNeural Network\uff0c\u5c31\u662f\u4e00\u4e2adeep learning\u3002\n",
                "\n",
                "![](http://imgbed.momodel.cn/39-18 steps.png)",
                "\n",
                "\u5982\u679cNeural Network\u4f5c\u4e3a\u4e00\u4e2aActor\uff0c\u8fd9\u4e2aNeural Network\u7684\u8f93\u5165\u5c31\u662fobservation\uff0c<br>\n",
                "\u53ef\u4ee5\u901a\u8fc7\u4e00\u4e2avector\u6216\u8005\u4e00\u4e2amatrix \u6765\u63cf\u8ff0\u3002<br>\n",
                "output\u5c31\u662f\u4f60\u73b0\u5728\u53ef\u4ee5\u91c7\u53d6\u7684action\u3002<br>\n",
                "\u4e3e\u4e2a\u4f8b\u5b50\uff0cNeural Network\u4f5c\u4e3a\u4e00\u4e2aActor\uff0cinpiut\u662f\u4e00\u5f20image\uff0c<br>\n",
                "output\u5c31\u662f\u4f60\u73b0\u5728\u6709\u51e0\u4e2a\u53ef\u4ee5\u91c7\u53d6\u7684action\uff0coutput\u5c31\u6709\u51e0\u4e2adimension\u3002<br>\n",
                "\u5047\u8bbe\u6211\u4eec\u5728\u73a9Space invader\uff0coutput\u5c31\u662f\u53ef\u80fd\u91c7\u53d6\u7684action\u5de6\u79fb\u3001\u53f3\u79fb\u548c\u5f00\u706b\uff0c<br>\n",
                "\u8fd9\u6837output\u5c31\u6709\u4e09\u4e2adimension\u5206\u522b\u4ee3\u8868\u4e86\u5de6\u79fb\u3001\u53f3\u79fb\u548c\u5f00\u706b\u3002<br>"
            ]
        },
        {
            "cell_type": "markdown",
            "metadata": {},
            "source": [
                "![](http://imgbed.momodel.cn/39-19 nn as actor.png)",
                "\n",
                "\u795e\u7ecf\u7f51\u7edc\u7684\u8f93\u5165\u4e3a\u673a\u5668\u7684 observation\uff0c\u5373\u50cf\u7d20\u70b9\u7ec4\u6210\u7684\u5411\u91cf\u6216\u77e9\u9635\uff0c\u8f93\u51fa\u5bf9\u5e94\u673a\u5668\u6bcf\u4e00\u4e2a\u52a8\u4f5c\u7684\u53d1\u751f\u6982\u7387\u3002\n",
                "\n",
                "\u76f8\u6bd4\u4e8e\u4f20\u7edf\u7684\u67e5\u627e\u8868\uff0c\u795e\u7ecf\u7f51\u7edc\u6709**<span>\u6cdb\u5316</span>**\u7684\u529f\u80fd\uff0c\u4e0d\u7528\u7a77\u4e3e\u6240\u6709\u8f93\u5165\u7684\u60c5\u51b5"
            ]
        },
        {
            "cell_type": "markdown",
            "metadata": {},
            "source": [
                "\n",
                "",
                "\n",
                "\u7b2c\u4e8c\u6b65\u9aa4\u5c31\u662f\uff0c\u6211\u4eec\u8981\u51b3\u5b9a\u4e00\u4e2aActor\u7684\u597d\u574f\u3002<br>\n",
                "\u5728Supervised learning\u4e2d\uff0c\u6211\u4eec\u662f\u600e\u6837\u51b3\u5b9a\u4e00\u4e2aFunction\u7684\u597d\u574f\u5462\uff1f<br>\n",
                "\u4e3e\u4e2aTraining Example\u4f8b\u5b50\u6765\u8bf4\uff0c\u6211\u4eec\u628a\u56fe\u7247\u6254\u8fdb\u53bb\uff0c\u770b\u5b83\u7684\u7ed3\u679c\u548ctarget\u662f\u5426\u50cf\uff0c<br>\n",
                "\u5982\u679c\u8d8a\u50cf\u7684\u8bdd\u8fd9\u4e2aFunction\u5c31\u4f1a\u8d8a\u597d\uff0c<br>\n",
                "\u6211\u4eec\u4f1a\u4e00\u4e2aloss\uff0c\u7136\u540e\u8ba1\u7b97\u6bcf\u4e2aexample\u7684loss\uff0c\u6211\u4eec\u8981\u627e\u4e00\u4e2a\u53c2\u6570\u53bbminimize\u8fd9\u4e2a\u53c2\u6570\u3002<br>\n",
                "\n",
                "![](http://imgbed.momodel.cn/39-20 goodness.png)",
                "\n",
                "\u5728\u5206\u7c7b\u95ee\u9898\u4e2d\uff0c\u6211\u4eec\u4f7f\u7528\u4ea4\u53c9\u71b5\u4f5c\u4e3a\u635f\u5931\u51fd\u6570\uff0c\u6211\u4eec\u9700\u8981\u627e\u5230\u6700\u4f73\u7684\u53c2\u6570 $\\theta^*$ \u4f7f\u635f\u5931\u51fd\u6570\u6700\u5c0f\u3002"
            ]
        },
        {
            "cell_type": "markdown",
            "metadata": {},
            "source": [
                "\n",
                "\n",
                "![](http://imgbed.momodel.cn/39-21 godness of actor.png)",
                "\n",
                "\u5728\u5f3a\u5316\u5b66\u4e60\u4e2d\uff0c\u6211\u4eec\u4f7f\u7528\u603b\u5956\u52b1\u7684\u671f\u671b\u503c $\\bar R_{\\theta}$ \uff0c\u6765\u8bc4\u4f30\u4e00\u4e2a Actor $\\pi_{\\theta}(s)$ \u7684\u597d\u574f"
            ]
        },
        {
            "cell_type": "markdown",
            "metadata": {},
            "source": [
                "\n",
                "![](http://imgbed.momodel.cn/39-22 godness2.png)",
                "\n",
                "\u6211\u4eec\u4f7f\u7528 $\\pi_{\\theta}(s)$ \u8fdb\u884c N \u6b21\u6e38\u620f\uff0c\u7528 $R_{\\theta}$ \u7684\u5e73\u5747\u503c\u6765\u4ee3\u66ff\u671f\u671b $\\bar R_{\\theta}$"
            ]
        },
        {
            "cell_type": "markdown",
            "metadata": {},
            "source": [
                "",
                "\n",
                "\u600e\u4e48\u9009\u62e9\u6700\u597d\u7684function\uff0c\u5176\u5b9e\u5c31\u662f\u7528\u6211\u4eec\u7684Gradient Ascent\u3002\u6211\u4eec\u5df2\u7ecf\u627e\u5230\u76ee\u6807\u4e86\uff0c\u5c31\u662f\u6700\u5927\u5316\u8fd9\u4e2a$\\bar{R}_\\theta$\n",
                "\n",
                "\u7136\u540e\u7528\u68af\u5ea6\u4e0b\u964d\u7684\u65b9\u6cd5\u627e\u5230\u6700\u4f73\u7684 Actor\uff1a\n",
                "\n",
                "+ \u95ee\u9898\u63cf\u8ff0\uff1a\n",
                "  \n",
                "  $\\theta^* = arg max \\bar R_{\\theta}$     $\\bar R_{\\theta}$ = $\\sum_{\\tau} R(\\tau)P(\\tau|\\theta)$ \n",
                "\n",
                "<br>\n",
                "  \n",
                "+ \u68af\u5ea6\u4e0b\u964d\uff1a\n",
                "\n",
                "  \n",
                "![](http://imgbed.momodel.cn/39-23 gradient descent.png)"
            ]
        },
        {
            "cell_type": "markdown",
            "metadata": {},
            "source": [
                "\n",
                "\u56e0\u4e3a\u6211\u4eec\u53ea\u80fd\u6539\u53d8 $\\theta$ \u6765\u6539\u53d8 Actor,\u6240\u4ee5\u53ea\u5bf9 $\\theta$ \u6c42\u5bfc\u3002\n",
                "\n",
                "![](http://imgbed.momodel.cn/39-24 gd2.png)",
                "\n",
                "\u8fd9\u91cc\u6211\u4eec\u540c\u6837\u9700\u8981\u4f7f\u7528\u6837\u672c\u7684\u6982\u7387\u6765\u4ee3\u66ff $P(\\tau|\\theta)$ "
            ]
        },
        {
            "cell_type": "markdown",
            "metadata": {},
            "source": [
                "+ $P(\\tau|\\theta)$ \u7684\u8ba1\u7b97\uff1a\n",
                "\n",
                "\u5176\u4e2d\u6709\u4e9b\u6982\u7387\u9879\u548c Actor \u65e0\u5173\uff0c\u6709\u4e9b\u4e0e Actor \u6709\u5173\n",
                "\n",
                "\n",
                "![](http://imgbed.momodel.cn/39-25  p.png)"
            ]
        },
        {
            "cell_type": "markdown",
            "metadata": {},
            "source": [
                "+ \u8ba1\u7b97$\\nabla$ $\\log{P(\\tau|\\theta)}$\uff1a\n",
                "\n",
                "\u5ffd\u7565\u6389\u4e0e $\\theta$ \u65e0\u5173\u7684\u90e8\u5206\n",
                "\n",
                "\n",
                "![](http://imgbed.momodel.cn/39-26 nabla logp.png)"
            ]
        },
        {
            "cell_type": "markdown",
            "metadata": {},
            "source": [
                "\u6700\u7ec8\u7684\u8ba1\u7b97\u7ed3\u679c\uff1a\n",
                "\n",
                "\n",
                "![](http://imgbed.momodel.cn/39-27 answer.png)",
                "\n",
                "\u5f53 R \u4e3a\u6b63\u65f6\uff0c\u8c03\u6574 $\\theta$ \u7684\u503c\uff0c\u6765\u589e\u5927\u67d0\u4e00\u4e2a\u52a8\u4f5c\u53d1\u751f\u7684\u6982\u7387\u3002\n",
                "\n",
                "\u5f53 R \u4e3a\u8d1f\u65f6\uff0c\u8c03\u6574 $\\theta$ \u7684\u503c\uff0c\u6765\u51cf\u5c0f\u67d0\u4e00\u4e2a\u52a8\u4f5c\u53d1\u751f\u7684\u6982\u7387\u3002\n",
                "\n",
                "\n",
                "![](http://imgbed.momodel.cn/39-28 tune.png)",
                "\n",
                "\u6211\u4eec\u4f7f\u7528\u7d2f\u8ba1\u7684 reward \u800c\u4e0d\u662f\u53ca\u65f6\u7684\u5956\u52b1\u3002"
            ]
        },
        {
            "cell_type": "markdown",
            "metadata": {},
            "source": [
                "\n",
                "![](http://imgbed.momodel.cn/39-29 division.png)"
            ]
        },
        {
            "cell_type": "markdown",
            "metadata": {},
            "source": [
                "+ 1.\u5f53 $R_{\\theta}$ \u4e00\u76f4\u4e3a\u6b63\u65f6\uff0c\u5e76\u4e0d\u4f1a\u5f71\u54cd\u90a3\u4e9b reward \u503c\u8f83\u5927\u7684\u52a8\u4f5c\uff1b<br>\n",
                "   \u56e0\u4e3a\u6700\u540e\u795e\u7ecf\u7f51\u7edc\u8981\u7ecf\u8fc7 softmax \u6765\u8f93\u51fa\u6bcf\u4e2a\u52a8\u4f5c\u7684\u6982\u7387\uff0c\u90a3\u4e9b reward \u8f83\u5c0f<br>\n",
                "   \u7684\u52a8\u4f5c\uff0c\u53d1\u751f\u7684\u6982\u7387\u4e5f\u4f1a\u76f8\u5e94\u51cf\u5c0f\u3002\n",
                "   \n",
                "+ 2.\u5728\u91c7\u6837\u7684\u8fc7\u7a0b\u4e2d\uff0c\u6211\u4eec\u53ef\u80fd\u4f1a\u9047\u5230\u67d0\u4e00\u4e2a action \u4e0d\u88ab\u91c7\u6837\u7684\u60c5\u51b5\uff0c\u8fd9\u65f6\u6211\u4eec\u9700\u8981\u6dfb\u52a0<br>\n",
                "  \u4e00\u4e2a baseline\uff0c\u53ea\u6709 reward \u8d85\u8fc7 baseline \u7684\u52a8\u4f5c\u53d1\u751f\u7684\u6982\u7387\u624d\u4f1a\u589e\u52a0\u3002\u8fd9\u6837\u67d0\u4e9b\u52a8\u4f5c<br>\n",
                "  \u4e0d\u88ab\u91c7\u6837\u7684\u6982\u7387\u5c06\u4f1a\u51cf\u5c0f\u3002\n",
                "\n",
                "![](http://imgbed.momodel.cn/39-30 baseline.png)"
            ]
        },
        {
            "cell_type": "markdown",
            "metadata": {},
            "source": [
                "<br>"
            ]
        },
        {
            "cell_type": "markdown",
            "metadata": {},
            "source": [
                "#### 2.2 \u7528\u57fa\u4e8e\u4ef7\u503c\u7684\u65b9\u6cd5\uff08Value-based Approach\uff09\u5b66\u4e60\u4e00\u4e2a Critic\n",
                "\n",
                "",
                "\n",
                "Critic\u5c31\u662fLearn\u4e00\u4e2aNeural Network\uff0c\u8fd9\u4e2aNeural Network\u4e0d\u505a\u4e8b\uff0c\u7136\u540eActor\u53ef\u4ee5\u4ece\u8fd9\u4e2aCritic\u4e2d\u83b7\u5f97\uff0c\u8fd9\u5c31\u662fQ-learning\u3002 <br>\n",
                "Critic\u5c31\u662flearn\u4e00\u4e2afunction\uff0c\u8fd9\u4e2afunction\u53ef\u4ee5\u544a\u8bc9\u4f60\u8bf4\u73b0\u5728\u770b\u5230\u67d0\u4e00\u4e2aobservation\u7684\u65f6\u5019\uff0c\u8fd9\u4e2aobservation\u6709\u6709\u591a\u597d\u8fd9\u6837\u3002 <br>\n",
                "\n",
                "+ \u6839\u636eactor \u03c0 \u8bc4\u4f30critic function\n",
                "\n",
                "\u8fd9\u4e2afunction\u662f\u7528Neural Network\u8868\u793a\n",
                "\n",
                "+ state value function $V^\\pi(s)$\n",
                "\n",
                "\u8fd9\u4e2a\u7d2f\u52a0\u7684reward\u662f\u901a\u8fc7\u89c2\u5bdf\u591a\u4e2aobservation\n",
                "\n",
                "![](http://imgbed.momodel.cn/chapter39_15.png)",
                "\n",
                "\u90a3\u4e48\u5982\u4f55\u4f30\u8ba1 $V^\\pi(s)$ \u5462\uff1f\u53ef\u4ee5\u91c7\u7528Monte-Carlo based approach\u3002\n",
                "\n",
                "+ State-action value function $Q^\u03c0(s,a)$\n",
                "\n",
                "\u8fd9\u4e2a\u7d2f\u52a0\u7684reward\u662f\u901a\u8fc7\u89c2\u5bdfobservation\u548ctake\u7684action\n",
                "\n",
                "![](http://imgbed.momodel.cn/chapter39_16.png)",
                "\n",
                "#### 2.3 Actor-Critic\n",
                "\n",
                "![](http://imgbed.momodel.cn/chapter39_17.png)",
                "    \n",
                "\u8be5\u90e8\u5206\u5728\u674e\u5b8f\u6bc5\u8bfe\u7a0b\u7684\u7b2c\u4e8c\u4e2a\u5b66\u671f\u4e2d\u4ecb\u7ecd\uff1ahttps://www.bilibili.com/video/av35757082/?p=33"
            ]
        }
    ],
    "metadata": {
        "kernelspec": {
            "display_name": "Python 3",
            "language": "python",
            "name": "python3"
        },
        "language_info": {
            "codemirror_mode": {
                "name": "ipython",
                "version": 3
            },
            "file_extension": ".py",
            "mimetype": "text/x-python",
            "name": "python",
            "nbconvert_exporter": "python",
            "pygments_lexer": "ipython3",
            "version": "3.5.2"
        }
    },
    "nbformat": 4,
    "nbformat_minor": 2
}