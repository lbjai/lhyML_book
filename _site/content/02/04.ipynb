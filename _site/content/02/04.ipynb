{
    "cells": [
        {
            "cell_type": "markdown",
            "metadata": {},
            "source": [
                "\n",
                "\n"
            ]
        },
        {
            "cell_type": "markdown",
            "metadata": {},
            "source": [
                "### \u8fd9\u4e00\u8282\u6211\u4eec\u4e3b\u8981\u5b66\u4e60",
                "\n",
                "+ \u68af\u5ea6\u4e0b\u964d\u6cd5\n",
                "+ \u68af\u5ea6\u4e0b\u964d\u6cd5\u5c0f\u6280\u5de7\uff0c\u6bd4\u5982 Adagrad\u3001\u968f\u673a\u68af\u5ea6\u4e0b\u964d\u6cd5\u3001\u7279\u5f81\u653e\u7f29\u7b49\u3002"
            ]
        },
        {
            "cell_type": "markdown",
            "metadata": {},
            "source": [
                "<br>"
            ]
        },
        {
            "cell_type": "markdown",
            "metadata": {},
            "source": [
                "### 1. \u68af\u5ea6\u4e0b\u964d\u6cd5 (Gradient Descent)\n",
                "\n",
                "\n",
                "  ![](http://imgbed.momodel.cn/06_1_reviewGD.png)"
            ]
        },
        {
            "cell_type": "markdown",
            "metadata": {},
            "source": [
                "<br/>\n",
                "\n",
                "  ![](http://imgbed.momodel.cn/06_02_reviewGD.png)"
            ]
        },
        {
            "cell_type": "markdown",
            "metadata": {},
            "source": [
                "\u4e0a\u56fe\u4e2d\uff1a\u7ea2\u8272\u662f\u68af\u5ea6\u65b9\u5411\uff0c\u84dd\u8272\u662f\u68af\u5ea6\u4e0b\u964d\u65b9\u5411\uff0c\u6a2a\u7eb5\u5750\u6807\u90fd\u662f\u53c2\u6570\uff0c\u6545\u53ef\u4ee5\u770b\u4f5c\u662f\u635f\u5931\u51fd\u6570\u7684\u7b49\u9ad8\u7ebf\u3002\n",
                "\n",
                "\u800c\u68af\u5ea6\u65b9\u5411\u662f\u635f\u5931\u51fd\u6570\u7b49\u9ad8\u7ebf\u7684\u6cd5\u7ebf\u65b9\u5411\u3002\n"
            ]
        },
        {
            "cell_type": "markdown",
            "metadata": {},
            "source": [
                "<br>"
            ]
        },
        {
            "cell_type": "markdown",
            "metadata": {},
            "source": [
                "### 2. \u8c03\u6574\u5b66\u4e60\u7387 (Learning Rate)\n"
            ]
        },
        {
            "cell_type": "markdown",
            "metadata": {},
            "source": [
                "![](http://imgbed.momodel.cn/06_03_learnrate.png)"
            ]
        },
        {
            "cell_type": "markdown",
            "metadata": {},
            "source": [
                "\u4e0a\u56fe\u4e3b\u8981\u7406\u89e3\u5b66\u4e60\u7387\u5bf9\u635f\u5931\u51fd\u6570\u7684\u5f71\u54cd\u3002\n",
                "\n",
                "\u5de6\u8fb9\u7684\u6a2a\u5750\u6807\u662f\u5b66\u4e60\u7387\u3001\u53f3\u8fb9\u7684\u6a2a\u5750\u6807\u662f\u53c2\u6570\u7684\u8fed\u4ee3\u6b21\u6570\u3002\n",
                "\n",
                "+ \u5404\u79cd\u989c\u8272\u4ee3\u8868\u542b\u4e49\uff1a\n",
                "    + \u84dd\u8272\uff1a\u5b66\u4e60\u7387\u8fc7\u5c0f\u7684\u60c5\u51b5\n",
                "    + \u7ea2\u8272\uff1a\u5b66\u4e60\u7387\u521a\u521a\u597d\n",
                "    + \u7eff\u8272\uff1a\u5b66\u4e60\u7387\u504f\u5927\u60c5\u51b5\n",
                "    + \u9ec4\u8272\uff1a\u5b66\u4e60\u7387\u8fc7\u5927\u60c5\u51b5\n",
                "</br>\n",
                "\n",
                "\n",
                "+ \u84dd\u8272\uff1a\u5b66\u4e60\u7387\u8fc7\u5c0f\uff0c\u627e\u5230\u6700\u4f18\u89e3\u9700\u8981\u8fed\u4ee3\u7684\u6b21\u6570\u6bd4\u8f83\u591a\uff0c\u635f\u5931\u51fd\u6570\u53d8\u5316\u6bd4\u8f83\u7f13\u6162\u3002\n",
                "\n",
                "+ \u7ea2\u8272\uff1a**\u5b66\u4e60\u7387\u521a\u521a\u597d\uff0c\u627e\u5230\u6700\u4f18\u89e3\u8fed\u4ee3\u7684\u6b65\u6570\u521a\u521a\u597d\uff0c\u635f\u5931\u51fd\u6570\u53d8\u5316\u4e5f\u521a\u521a\u597d\u3002**\n",
                "\n",
                "+ \u7eff\u8272\uff1a\u5b66\u4e60\u7387\u8fc7\u5927\uff0c\u5728\u627e\u6700\u4f18\u89e3\u65f6\u53ef\u80fd\u8df3\u8fc7\u6216\u8005\u5982\u4e0a\u56fe\u6240\u793a\uff0c\u5728\u90a3\u9644\u8fd1\u5faa\u73af\uff0c\u635f\u5931\u51fd\u6570\u4e0b\u964d\u5f88\u5feb\u5e76\u4e0d\u518d\u53d8\u5316\u3002\n",
                "\n",
                "+ \u9ec4\u8272\uff1a\u5b66\u4e60\u7387\u592a\u5927\uff0c\u635f\u5931\u51fd\u6570\u53ef\u80fd\u4e0d\u964d\u53cd\u771f\u3002\n",
                "\n",
                "\u53ea\u6709\u628a\u5b66\u4e60\u7387\u8c03\u6574\u7684\u521a\u521a\u597d\uff0c\u624d\u80fd\u5f97\u5230\u6700\u9002\u5408\u66f2\u7ebf\u3002"
            ]
        },
        {
            "cell_type": "markdown",
            "metadata": {},
            "source": [
                "<br>"
            ]
        },
        {
            "cell_type": "markdown",
            "metadata": {},
            "source": [
                "### 3. \u4f7f\u7528Adagrad\u6765\u81ea\u52a8\u8c03\u6574\u5b66\u4e60\u7387 (Adaptive Learning Rate)\n"
            ]
        },
        {
            "cell_type": "markdown",
            "metadata": {},
            "source": [
                "\u5b66\u4e60\u7387\u7b80\u5355\u5e38\u89c1\u7684\u57fa\u672c\u539f\u5219\uff1a\u5b66\u4e60\u7387\u901a\u5e38\u968f\u7740\u53c2\u6570\u7684\u66f4\u65b0\u4f1a\u8d8a\u6765\u8d8a\u5c0f\u3002\n",
                "+ \u5728\u8d77\u59cb\u70b9\uff0c\u8ddd\u79bb\u76ee\u6807\u6bd4\u8f83\u8fdc\uff0c\u9700\u8981\u5927\u4e00\u70b9\u7684\u5b66\u4e60\u7387\uff1b\n",
                "\n",
                "+ \u8fed\u4ee3\u591a\u6b21\u4ee5\u540e\uff0c\u6bd4\u8f83\u9760\u8fd1\u76ee\u6807\uff0c\u6b64\u65f6\u9700\u8981\u5c0f\u4e00\u70b9\u7684\u5b66\u4e60\u7387\uff0c\u4f7f\u5176\u6536\u655b\u4e8e\u6700\u4f4e\u70b9\n",
                "\n",
                "+ \u5047\u8bbe\u7b2ct\u6b21\u5b66\u4e60\u7387\u8bbe\u7f6e\u4e3a\uff1a$\\eta^t = \\eta/\\sqrt{t+1}$\n",
                "\n",
                "+ \u6bcf\u4e2a\u4e0d\u540c\u7684\u53c2\u6570\u6709\u81ea\u5df1\u4e0d\u540c\u7684\u5b66\u4e60\u7387"
            ]
        },
        {
            "cell_type": "markdown",
            "metadata": {},
            "source": [
                "#### 3.1 Adagrad \u5b9a\u4e49\u548c\u8868\u8fbe\u5f0f"
            ]
        },
        {
            "cell_type": "markdown",
            "metadata": {},
            "source": [
                "Adagrad \u81ea\u9002\u5e94\u5730\u4e3a\u5404\u4e2a\u53c2\u6570\u5206\u914d\u4e0d\u540c\u5b66\u4e60\u7387\u7684\u7b97\u6cd5"
            ]
        },
        {
            "cell_type": "markdown",
            "metadata": {},
            "source": [
                "![](http://imgbed.momodel.cn/06_04_Adagrad.png)"
            ]
        },
        {
            "cell_type": "markdown",
            "metadata": {},
            "source": [
                "\u6ce8\u610f\uff1a\u4e0a\u5f0f\u4e2d $g^t = \\frac{\\partial L(\\theta^t)}{\\partial{\\theta}}$"
            ]
        },
        {
            "cell_type": "markdown",
            "metadata": {},
            "source": [
                "+ \u7406\u89e3 $\\sigma^t$ \u548c\u63a8\u5bfc\u516c\u5f0f\u8fc7\u7a0b"
            ]
        },
        {
            "cell_type": "markdown",
            "metadata": {},
            "source": [
                "![](http://imgbed.momodel.cn/06_05_Adagrad_learning.png)\n",
                "![](http://imgbed.momodel.cn/06_06_Adagrad_learning_rate.png)"
            ]
        },
        {
            "cell_type": "markdown",
            "metadata": {},
            "source": [
                "#### 3.2 \u7406\u89e3 Adagrad \u53cd\u5dee\u95ee\u9898\n"
            ]
        },
        {
            "cell_type": "markdown",
            "metadata": {},
            "source": [
                "![](http://imgbed.momodel.cn/06_08_Adagrad_fc.png)"
            ]
        },
        {
            "cell_type": "markdown",
            "metadata": {},
            "source": [
                "$g^t$ \u8d8a\u5927\uff0c\u6bcf\u6b21\u8fed\u4ee3\u7684\u6b65\u5e45\u5c31\u8d8a\u5927\uff1b\n",
                "\n",
                "$\\sqrt{\\sum_{i=0}^t (g^i)^2}$ \u8d8a\u5927\uff0c\u6bcf\u6b21\u8fed\u4ee3\u7684\u6b65\u4f10\u5c31\u8d8a\u5c0f\uff1b\n",
                "\n",
                "\u5373\uff1a\u5206\u5b50\u90e8\u5206\u53c2\u6570\u504f\u5fae\u5206\u8d8a\u5927\uff0c\u66f4\u65b0\u6b65\u4f10\u5c31\u8d8a\u5927\uff1b\u800c\u5206\u6bcd\u8d8a\u5927\uff0c\u5219\u6bcf\u6b21\u66f4\u65b0\u7684\u6b65\u4f10\u5c31\u8d8a\u5c0f\u3002\n",
                "\n",
                "\u90a3\u4e48\u5982\u4f55\u7406\u89e3\u8fd9\u4e00\u90e8\u5206\u5462\uff1f\n",
                "+ \u76f4\u89c2\u89e3\u91ca"
            ]
        },
        {
            "cell_type": "markdown",
            "metadata": {},
            "source": [
                "![](http://imgbed.momodel.cn/06_09_Adagrad.png)"
            ]
        },
        {
            "cell_type": "markdown",
            "metadata": {},
            "source": [
                "+ \u5177\u4f53\u89e3\u91ca\n",
                "\n",
                "![](http://imgbed.momodel.cn/06_10_Adagrad_fc_2.png)"
            ]
        },
        {
            "cell_type": "markdown",
            "metadata": {},
            "source": [
                "\u5047\u8bbe\u4e0a\u56fe\u4e2d  $x_0$ \u662f\u521d\u59cb\u70b9\uff0c\u6c42\u4e8c\u6b21\u51fd\u6570\u7684\u6700\u4f4e\u70b9\uff1a\n",
                "\n",
                "\u6700\u597d\u7684\u6b65\u4f10\u5c31\u662f\u8be5\u70b9\u5230\u5bf9\u79f0\u8f74\u7684\u8ddd\u79bb $|x_0-(-\\frac{b}{2a})|=\\frac{|2ax_0+b|}{2a}$\n",
                "\n",
                "\u800c\u4e8c\u6b21\u51fd\u6570\u7684\u5012\u6570\u7edd\u5bf9\u503c\u5c31\u662f $|2ax_0+b|$\n",
                "\n",
                "\u56e0\u6b64\uff1a**\u6700\u597d\u7684\u6b65\u4f10\u662f\u4e0e\u5fae\u5206\u7684\u5927\u5c0f\u6210\u6b63\u6bd4\uff08\u9488\u5bf9\u4e00\u4e2a\u53c2\u6570\u65f6\u6210\u7acb\uff09**\n",
                "\n"
            ]
        },
        {
            "cell_type": "markdown",
            "metadata": {},
            "source": [
                "+ \u8003\u8651\u591a\u4e2a\u53c2\u6570\u5fae\u5206\u4e0e\u6b65\u4f10\u7684\u5173\u7cfb\n",
                "\n",
                "![](http://imgbed.momodel.cn/06_11_Adagrad_fc_2.png)"
            ]
        },
        {
            "cell_type": "markdown",
            "metadata": {},
            "source": [
                "\u6b64\u65f6\u8003\u8651 2 \u4e2a\u53c2\u6570\u5fae\u5206\u4e0e\u6b65\u4f10\u4e4b\u95f4\u7684\u5173\u7cfb\uff1a\n",
                "\n",
                "\u5982\u679c\u4ec5\u8003\u8651 a \u4e0e b \u6216\u8005 c \u4e0e d \u4e4b\u95f4\u5fae\u5206\u4e0e\u6b65\u4f10\u7684\u5173\u7cfb\uff0c\u7b54\u6848\u662f\u5f88\u660e\u663e\u7684\u3002\n",
                "\n",
                "\u8ddd\u79bb\u6700\u4f4e\u70b9\u8d8a\u8fdc\u7684\u5fae\u5206\u503c\u6bd4\u8f83\u5927\u3002\n",
                "\n",
                "\u8003\u8651 a \u5bf9 w1 \u7684\u5fae\u5206\u548c c \u5bf9 w2 \u7684\u5fae\u5206\uff0c\u4e0a\u9762\u7684\u7b54\u6848\u5c31\u4e0d\u6b63\u786e\u3002\n",
                "\n",
                "\u6b64\u65f6\u6211\u4eec\u53d1\u73b0\uff1a\n",
                "\n",
                "\u4e8c\u6b21\u51fd\u6570\u521d\u59cb\u503c $x_0$ \u5230\u6700\u4f4e\u70b9\u7684\u8ddd\u79bb\u8868\u8fbe\u5f0f $\\frac{|2a x_0 +b|}{2a}$ \u7684\u5206\u6bcd\u9879 2a\n",
                "\n",
                "\u6b63\u597d\u662f\u4e8c\u6b21\u51fd\u6570\u5bf9 x \u7684\u4e8c\u6b21\u5fae\u5206\u3002\n",
                "\n",
                "\u6545\u6700\u597d\u7684\u6b65\u4f10\u662f\uff1a**|First derivative| /Second derivative**\n",
                "\n",
                "\u5373 $\\frac{|f'(x)|}{f''(x)}$\n",
                "\n",
                "![](http://imgbed.momodel.cn/06_12_Adagrad_fc_2.png)\n",
                "\n"
            ]
        },
        {
            "cell_type": "markdown",
            "metadata": {},
            "source": [
                "**$\\sqrt{\\sum_{i=0}^{t}(g^i)^2}$ \u53cd\u5e94\u4e86\u4e8c\u6b21\u5fae\u5206\u7684\u5927\u5c0f**"
            ]
        },
        {
            "cell_type": "markdown",
            "metadata": {},
            "source": [
                "<br>"
            ]
        },
        {
            "cell_type": "markdown",
            "metadata": {},
            "source": [
                "### 4. \u968f\u673a\u68af\u5ea6\u4e0b\u964d\u6cd5 (Stochastic Gradient Descent)\n"
            ]
        },
        {
            "cell_type": "markdown",
            "metadata": {},
            "source": [
                "![](http://imgbed.momodel.cn/06_13_sgd.png)"
            ]
        },
        {
            "cell_type": "markdown",
            "metadata": {},
            "source": [
                "\u68af\u5ea6\u4e0b\u964d\u6cd5\u7684\u4e00\u822c\u6d41\u7a0b\u662f\uff1a\n",
                "+ \u8ba1\u7b97\u5168\u90e8\u8bad\u7ec3\u96c6\u7684\u635f\u5931\u51fd\u6570 L\n",
                "\n",
                "+ \u8ba1\u7b97\u76f8\u5173\u53c2\u6570\u68af\u5ea6\u5e76\u66f4\u65b0\u53c2\u6570\u6743\u91cd\n",
                "\n",
                "\u968f\u673a\u68af\u5ea6\u4e0b\u964d\u6cd5\u7684\u6d41\u7a0b\u662f\uff1a\n",
                "+ \u9009\u62e9\u8bad\u7ec3\u96c6\u4e2d\u7684\u4e00\u4e2a\u6837\u672c $x^n$ \uff0c\u53ef\u4ee5\u968f\u673a\u53d6\u4e5f\u53ef\u4ee5\u6309\u7167\u987a\u5e8f\u53d6\n",
                "\n",
                "+ \u635f\u5931\u51fd\u6570\u4e5f\u53ea\u662f\u4e00\u4e2a\u6837\u672c\u7684\u635f\u5931\u51fd\u6570 $L^n$\n",
                "\n",
                "+ \u8ba1\u7b97\u53c2\u6570\u68af\u5ea6\u4e5f\u53ea\u662f\u8ba1\u7b97\u4e00\u4e2a\u6837\u672c\u5bf9\u5e94\u7684\u53c2\u6570\u68af\u5ea6\u5e76\u4ee5\u6b64\u66f4\u65b0\u53c2\u6570\u6743\u91cd"
            ]
        },
        {
            "cell_type": "markdown",
            "metadata": {},
            "source": [
                "![](http://imgbed.momodel.cn/06_14_sgd.png)"
            ]
        },
        {
            "cell_type": "markdown",
            "metadata": {},
            "source": [
                "\n",
                "\u68af\u5ea6\u4e0b\u964d\u6cd5\u53c2\u6570\u66f4\u65b0\u8fc7\u7a0b\u5982\u4e0a\u56fe\u5de6\u8fb9\uff0c\u53c2\u6570\u66f4\u65b0\u65b9\u5411\u5c31\u662f\u6781\u503c\u70b9\u65b9\u5411\u3002\n",
                "\n",
                "\u968f\u673a\u68af\u5ea6\u4e0b\u964d\u6cd5\u53c2\u6570\u66f4\u65b0\u8fc7\u7a0b\u5982\u4e0a\u56fe\u53f3\u8fb9\uff0c\u6bcf\u4e2a\u6837\u672c\u53c2\u6570\u66f4\u65b0\u4e00\u6b21\uff0c\u5982\u679c\u6709 20 \u4e2a\u6837\u672c\u5c31\u66f4\u65b0 20 \u6b21\u3002\n"
            ]
        },
        {
            "cell_type": "markdown",
            "metadata": {},
            "source": [
                "<br>"
            ]
        },
        {
            "cell_type": "markdown",
            "metadata": {},
            "source": [
                "### 5. \u7279\u5f81\u7f29\u653e\uff08Feature Scaling\uff09\n"
            ]
        },
        {
            "cell_type": "markdown",
            "metadata": {},
            "source": [
                "![](http://imgbed.momodel.cn/06_15_featureScaling.png)"
            ]
        },
        {
            "cell_type": "markdown",
            "metadata": {},
            "source": [
                "\u4e0a\u56fe\u4e2d x1 \u4e0e x2 \u5206\u5e03\u4e0d\u4e00\u81f4\u4e14 x2 \u5206\u5e03\u8fdc\u6bd4 x1 \u5927\uff0c\u628a x2 \u7279\u5f81\u7f29\u653e\u540e\u5982\u56fe\u53f3\u8fb9\u6240\u793a\uff0c\u4e8c\u8005\u7279\u5f81\u5206\u5e03\u4e00\u81f4\u3002"
            ]
        },
        {
            "cell_type": "markdown",
            "metadata": {},
            "source": [
                "![](http://imgbed.momodel.cn/06_16_featureScaling.png)"
            ]
        },
        {
            "cell_type": "markdown",
            "metadata": {},
            "source": [
                "\n",
                "+ **\u7279\u5f81\u7f29\u653e\u7684\u4f5c\u7528\uff1a**\n",
                "\n",
                "\u4e0a\u56fe\u8868\u793a\u7279\u5f81\u7f29\u653e\u524d\u540e\u53c2\u6570\u5bf9\u635f\u5931\u51fd\u6570\u7684\u5f71\u54cd\uff1b\n",
                "\n",
                "\u6ca1\u6709\u7279\u5f81\u7f29\u653e\u7684\u53c2\u6570\u5f88\u96be\u627e\u5230\u635f\u5931\u51fd\u6570\u6781\u503c\u70b9\uff08\u692d\u5706\u4e2d\u5fc3\u548c\u5706\u4e2d\u5fc3\uff09\u3002\n",
                "\n",
                "\u7279\u5f81\u7f29\u653e\u540e\u5206\u5e03\u4e00\u81f4\uff0c\u66f4\u65b0\u53c2\u6570\u4e5f\u5f88\u5bb9\u6613\uff0c\u627e\u5230\u635f\u5931\u51fd\u6570\u7684\u6781\u503c\u70b9\u4e5f\u5bb9\u6613\u3002\n",
                "\n",
                "\u53ef\u4ee5\u7406\u89e3\u662f\u6bcf\u6b21\u53c2\u6570\u66f4\u65b0\u7684\u65b9\u5411\u662f\u635f\u5931\u51fd\u6570\u7b49\u9ad8\u7ebf\u7684\u6cd5\u7ebf\u65b9\u5411\uff0c\u5f88\u660e\u663e\u692d\u5706\u7b49\u9ad8\u7ebf\u7684\u6cd5\u7ebf\u65b9\u5411\u5b9e\u65f6\u53d8\u5316\uff0c\u800c\u5706\u7684\u6cd5\u7ebf\u65b9\u5411\u4e00\u76f4\u6307\u5411\u5706\u5fc3\u3002\n",
                "\n"
            ]
        },
        {
            "cell_type": "markdown",
            "metadata": {},
            "source": [
                "+ **\u7279\u5f81\u7f29\u653e\u5e38\u89c1\u7684\u65b9\u6cd5\uff1a**\n",
                "\n",
                "\u7279\u5f81\u6807\u51c6\u5316\uff08\u7279\u5f81\u5747\u503c\u662f0\uff0c\u65b9\u5dee\u662f1\uff09<br/>\n",
                "\n",
                "&ensp; &ensp;$x_i = \\frac{x_i-\\mu}{\\sigma}$\n"
            ]
        },
        {
            "cell_type": "markdown",
            "metadata": {},
            "source": [
                "<br>"
            ]
        },
        {
            "cell_type": "markdown",
            "metadata": {},
            "source": [
                "### 6. \u68af\u5ea6\u4e0b\u964d\u6cd5\u7406\u8bba (Theory)\n"
            ]
        },
        {
            "cell_type": "markdown",
            "metadata": {},
            "source": [
                "![](http://imgbed.momodel.cn/06_17_gd_method.png)"
            ]
        },
        {
            "cell_type": "markdown",
            "metadata": {},
            "source": [
                "\u5047\u8bbe\u53c2\u6570 $\\theta$ \u6709\u4e24\u4e2a\u53d8\u91cf {$\\theta_1,\\theta_2$}\uff0c\u53c2\u6570\u4e0e\u635f\u5931\u51fd\u6570\u5173\u7cfb\u5982\u4e0a\u56fe\u3002\n",
                "\n",
                "\u7136\u540e\u5728\u8d77\u59cb\u70b9 $\\theta^0$ \u4e3a\u5706\u5fc3\uff0c\u7ed8\u5236\u4e00\u4e2a\u5706\uff0c\u627e\u5230\u5706\u4e0a\u6700\u5c0f\u503c\u70b9 $\\theta^1$\uff1b<br/>\n",
                "\n",
                "\u4e4b\u540e\u5728\u8d77\u59cb\u70b9 $\\theta^1$ \u4e3a\u5706\u5fc3\uff0c\u7ed8\u5236\u4e00\u4e2a\u5706\uff0c\u627e\u5230\u5706\u4e0a\u6700\u5c0f\u503c\u70b9 $\\theta^2$\uff1b<br/>\n",
                "\n",
                "\u4f9d\u6b21\u5185\u63a8\uff0c\u4e00\u76f4\u627e\u5230\u6700\u5c0f\u503c\u70b9\u9644\u8fd1\u3002\n",
                "\n",
                "**\u95ee\u9898\uff1a**\u600e\u4e48\u5f88\u5feb\u7684\u5728\u7ea2\u8272\u5706\u5708\u91cc\u9762\u627e\u5230\u8ba9\u635f\u5931\u51fd\u6570\u6700\u5c0f\u7684\u53c2\u6570\uff1f"
            ]
        },
        {
            "cell_type": "markdown",
            "metadata": {},
            "source": [
                "+  \u6cf0\u52d2\u516c\u5f0f\n",
                "\n",
                "![](http://imgbed.momodel.cn/06_18_tl.png)"
            ]
        },
        {
            "cell_type": "markdown",
            "metadata": {},
            "source": [
                "+ \u591a\u5143\u6cf0\u52d2\u5c55\u5f00\n",
                "\n",
                "![](http://imgbed.momodel.cn/06_19_mtl.png)"
            ]
        },
        {
            "cell_type": "markdown",
            "metadata": {},
            "source": [
                "\u6309\u7167\u6cf0\u52d2\u516c\u5f0f\u5bf9\u51fd\u6570\u8fdb\u884c\u5c55\u5f00\u3002"
            ]
        },
        {
            "cell_type": "markdown",
            "metadata": {},
            "source": [
                "+ \u68af\u5ea6\u4e0b\u964d\u4e0e\u6cf0\u52d2\u516c\u5f0f\u76f8\u7ed3\u5408\n",
                "\n",
                "![](http://imgbed.momodel.cn/06_20_bfd.png)\n",
                "\n",
                "![](http://imgbed.momodel.cn/06_21_bfd.png)"
            ]
        },
        {
            "cell_type": "markdown",
            "metadata": {},
            "source": [
                "\u5047\u8bbe\u7ea2\u8272\u5706\u5708\u8db3\u591f\u5c0f\uff0c\u7ea2\u8272\u5706\u5708\u5706\u5fc3 (a,b)\uff0c\u5728\u7ea2\u8272\u5706\u5708\u5185\uff0c\u7528\u6cf0\u52d2\u516c\u5f0f\u5bf9\u635f\u5931\u51fd\u6570\u8fdb\u884c\u7b80\u5316\uff1a\n",
                "\n",
                "$L(\\theta)\\approx L(a,b)+\\frac{\\partial L(a,b)}{\\partial \\theta_1}(\\theta_1-a)+\\frac{\\partial L(a,b)}{\\partial \\theta_2}(\\theta_2-b)$<br>\n",
                "\n",
                "\u5c06\u5e38\u6570\u9879\u7b80\u5316\uff1a<br>\n",
                "\n",
                "$s = L(a,b)$<br>\n",
                "\n",
                "$u = \\frac{\\partial L(a,b)}{\\partial \\theta_1}$<br>\n",
                "\n",
                "$v = \\frac{\\partial L(a,b)}{\\partial \\theta_1}$<br>\n",
                "\n",
                "\u5373\u5173\u952e\u8868\u8fbe\u5f0f\uff1a<br>\n",
                "\n",
                "$L(\\theta) \\approx s + u(\\theta_1-a)+v(\\theta_2-b)$<br>\n",
                "\n",
                "\u7ea2\u8272\u5706\u5708\u8303\u56f4\u5185\u8868\u8fbe\u5f0f\uff1a<br>\n",
                "\n",
                "$(\\theta_1-a)^2+(\\theta_2-b)^2 \\leq d^2$\n",
                "\n",
                "\u4e0a\u8ff0\u95ee\u9898\u8f6c\u5316\u4e3a\uff1a\n",
                "\n",
                "**\u6ee1\u8db3\u7ea2\u8272\u5706\u5708\u8303\u56f4\u5185\u7684 {$\\theta_1,\\theta_2$}\uff0c\u4f7f\u5f97\u635f\u5931\u51fd\u6570 $L(\\theta) \\approx s + u(\\theta_1-a)+v(\\theta_2-b)$ \u6700\u5c0f\u3002**"
            ]
        },
        {
            "cell_type": "markdown",
            "metadata": {},
            "source": [
                "![](http://imgbed.momodel.cn/06_22_bfd.png)"
            ]
        },
        {
            "cell_type": "markdown",
            "metadata": {},
            "source": [
                "\u6309\u7167\u68af\u5ea6\u4e0b\u964d\u6cd5\u8fdb\u884c\u6c42\u89e3\uff0c\u5f97\u5230\u53c2\u6570 $\\theta_1\uff0c\\theta_2$ \u8fd1\u4f3c\u89e3\u7684\u8868\u8fbe\u5f0f\u3002"
            ]
        },
        {
            "cell_type": "markdown",
            "metadata": {},
            "source": [
                "<br>"
            ]
        },
        {
            "cell_type": "markdown",
            "metadata": {},
            "source": [
                "### 7. \u68af\u5ea6\u4e0b\u964d\u6cd5\u7684\u9650\u5236 (More Limitation of Gradient Descent)\n"
            ]
        },
        {
            "cell_type": "markdown",
            "metadata": {},
            "source": [
                "![](http://imgbed.momodel.cn/06_23_bfd.png)\n",
                "\n",
                "\u68af\u5ea6\u4e0b\u964d\u8fc7\u7a0b\u4e2d\uff0c\u5c40\u90e8\u6700\u4f18\u89e3\u548c\u978d\u70b9\u4e0d\u662f\u6700\u4e3b\u8981\u7684\u3002<br>\n",
                "\n",
                "\u6700\u4e25\u91cd\u7684\u662f\u56fe\u4e2d\u7ea2\u8272\u65b9\u6846\u7684\u4f4d\u7f6e\uff0c\u6211\u4eec\u8ba1\u7b97\u5176\u5fae\u5206\u503c\u5c0f\u4e8e\u4e00\u4e2a\u975e\u5e38\u5c0f\u7684\u6570\uff08$10^{-6}$\uff09\u662f\u65f6\u5c31\u8ba4\u4e3a\u5176\u5fae\u5206\u503c\u4e3a 0\uff0c\u800c\u5b9e\u9645\u4e0a\u6b64\u65f6\u4e0d\u4e00\u5b9a\u6bd4\u8f83\u63a5\u8fd1\u6700\u4f18\u89e3\u3002"
            ]
        }
    ],
    "metadata": {
        "kernelspec": {
            "display_name": "Python 3",
            "language": "python",
            "name": "python3"
        },
        "language_info": {
            "codemirror_mode": {
                "name": "ipython",
                "version": 3
            },
            "file_extension": ".py",
            "mimetype": "text/x-python",
            "name": "python",
            "nbconvert_exporter": "python",
            "pygments_lexer": "ipython3",
            "version": "3.6.7"
        }
    },
    "nbformat": 4,
    "nbformat_minor": 2
}