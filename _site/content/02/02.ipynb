{
    "cells": [
        {
            "cell_type": "markdown",
            "metadata": {},
            "source": [
                "### \u8fd9\u8282\u6211\u4eec\u4e3b\u8981\u5b66\u4e60\n",
                "\n",
                "\n",
                "+ 1.\u673a\u5668\u5b66\u4e60\u5e38\u89c1\u7684 python \u5305\n",
                "+ 2.\u68af\u5ea6\u4e0b\u964d\u6cd5\u4ee3\u7801\u5b9e\u73b0\n"
            ]
        },
        {
            "cell_type": "code",
            "execution_count": 1,
            "metadata": {},
            "outputs": [],
            "source": [
                "# \u5bfc\u5165\u5de5\u5177\u5305\n",
                "import numpy as np\n",
                "import matplotlib\n",
                "import matplotlib.pyplot as plt"
            ]
        },
        {
            "cell_type": "code",
            "execution_count": 2,
            "metadata": {},
            "outputs": [],
            "source": [
                "# \u751f\u6210\u6570\u636e\n",
                "x_data = [338.,333.,328.,207.,226.,25.,179.,60.,208.,606.]\n",
                "y_data = [640.,633.,619.,393.,428.,27.,193.,66.,226.,1591.]\n",
                "# ydata = b + w * xdata"
            ]
        },
        {
            "cell_type": "code",
            "execution_count": 3,
            "metadata": {},
            "outputs": [],
            "source": [
                "x = np.arange(-200,-100,1) # bias\n",
                "y = np.arange(-5,5,0.1) # weight\n",
                "z = np.zeros((len(x),len(y)))\n",
                "X,Y = np.meshgrid(x,y)\n",
                "for i in range(len(x)):\n",
                "    for j in range(len(y)):\n",
                "        b = x[i]\n",
                "        w = y[j]\n",
                "        z[j][i] = 0\n",
                "        for n in range(len(x_data)):\n",
                "             z[j][i] = z[j][i] + (y_data[n]-b-w*x_data[n])**2\n",
                "        z[j][i] = z[j][i]/len(x_data)"
            ]
        },
        {
            "cell_type": "code",
            "execution_count": 4,
            "metadata": {},
            "outputs": [
                {
                    "data": {
                        "image/png": "[encoded data removed]",
                        "text/plain": [
                            "<Figure size 432x288 with 1 Axes>"
                        ]
                    },
                    "metadata": {
                        "needs_background": "light"
                    },
                    "output_type": "display_data"
                }
            ],
            "source": [
                "# ydata = b + w * xdata\n",
                "b = -120 # initial b\n",
                "w = -4  # inital w\n",
                "lr = 0.0000001 # learning rate\n",
                "iteration = 100000\n",
                "\n",
                "# store initial values for plotting\n",
                "b_history = [b]\n",
                "w_history = [w]\n",
                "\n",
                "# Iterations\n",
                "for i in range(iteration):\n",
                "    \n",
                "    b_grad = 0.0\n",
                "    w_grad = 0.0\n",
                "    for n in range(len(x_data)):\n",
                "        b_grad = b_grad - 2.0*(y_data[n] - b - w*x_data[n])*1.0\n",
                "        w_grad = w_grad - 2.0*(y_data[n] - b - w*x_data[n])*x_data[n]\n",
                "        \n",
                "    # update parameters\n",
                "    b = b - lr * b_grad\n",
                "    w = w - lr * w_grad\n",
                "    \n",
                "    # Store parameters for plotting \n",
                "    b_history.append(b)\n",
                "    w_history.append(w)\n",
                "    \n",
                "# plot the figure\n",
                "plt.contourf(x,y,z,50,alpha=0.5,cmap=plt.get_cmap('jet'))\n",
                "# plt.contourf(x,y,z,50,alpha=0.5,cmap='jet')\n",
                "plt.plot([-188.4],[2.67],'x',ms=12,markeredgewidth=3,color='orange')\n",
                "plt.plot(b_history,w_history,'o-',ms=3,lw=1.5,color='black')\n",
                "plt.xlim(-200,-100)\n",
                "plt.ylim(-5,5)\n",
                "plt.xlabel(r'$b$',fontsize=16)\n",
                "plt.ylabel(r'$w$',fontsize=16)\n",
                "plt.show()   "
            ]
        },
        {
            "cell_type": "markdown",
            "metadata": {},
            "source": [
                "\u4e0a\u56fe\u4e2d\uff0c\u6a2a\u8f74\u4ee3\u8868 b \u7684\u53d8\u5316\uff0c\u7eb5\u8f74\u4ee3\u8868 w \u7684\u53d8\u5316\uff0c\u4e0d\u540c\u989c\u8272\u7684 w \u548c b \u6211\u4eec\u53ef\u4ee5\u5f97\u5230\u4e0d\u540c\u7684\u635f\u5931\u51fd\u6570\u503c\uff0c\u635f\u5931\u51fd\u6570\u6700\u4f4e\u7684\u70b9\u662f\u4e0a\u56fe\u7684\u53c9\u53f7\u4f4d\u7f6e\uff0c\u8be5\u70b9\u7684 w \u4f4d\u4e8e (2,4) \u4e4b\u95f4\uff0cb \u4f4d\u4e8e (-200,-180) \u4e4b\u95f4\u3002\u521d\u59cb\u65f6 w \u548c b \u5c31\u5728\u9ed1\u7ebf\u7684\u53f3\u4e0b\u65b9\uff0c\u7136\u540e\u4e00\u76f4\u53d8\u5316\u5411\u4e0a\u8d70\uff0c\u7136\u540e\u5de6\u8f6c\uff1b\u8fed\u4ee3 10 \u4e07\u6b21\u4ee5\u540e\u53d1\u73b0\u8fd8\u672a\u5230 loss \u6700\u4f4e\u70b9\uff0c\u6545\u6211\u4eec\u5b66\u4e60\u7387\u8bbe\u7f6e\u592a\u4f4e\uff0c\u73b0\u5728\u53bb\u8c03\u5927\u5b66\u4e60\u7387\uff0c\u89c6\u9891\u4e2d\u5b66\u4e60\u7387\u5148\u662f 10 \u500d\u7684\u6269\u5927\uff0c\u8fd9\u91cc\u6211\u5c31\u4e0d\u6f14\u793a\u4e86\uff0c\u76f4\u63a5\u6269\u5927 100 \u500d\u540e\u770b\u770b\u60c5\u51b5\u3002"
            ]
        },
        {
            "cell_type": "markdown",
            "metadata": {},
            "source": [
                "+ \u5b66\u4e60\u7387\u6269\u5927 100 \u500d\n"
            ]
        },
        {
            "cell_type": "code",
            "execution_count": 5,
            "metadata": {},
            "outputs": [
                {
                    "data": {
                        "image/png": "[encoded data removed]",
                        "text/plain": [
                            "<Figure size 432x288 with 1 Axes>"
                        ]
                    },
                    "metadata": {
                        "needs_background": "light"
                    },
                    "output_type": "display_data"
                }
            ],
            "source": [
                "# ydata = b + w * xdata\n",
                "b = -120 # initial b\n",
                "w = -4  # inital w\n",
                "lr = 0.00001 # learning rate\n",
                "iteration = 100000\n",
                "\n",
                "# store initial values for plotting\n",
                "b_history = [b]\n",
                "w_history = [w]\n",
                "\n",
                "# Iterations\n",
                "for i in range(iteration):\n",
                "    \n",
                "    b_grad = 0.0\n",
                "    w_grad = 0.0\n",
                "    for n in range(len(x_data)):\n",
                "        b_grad = b_grad - 2.0*(y_data[n] - b - w*x_data[n])*1.0\n",
                "        w_grad = w_grad - 2.0*(y_data[n] - b - w*x_data[n])*x_data[n]\n",
                "        \n",
                "    # update parameters\n",
                "    b = b - lr * b_grad\n",
                "    w = w - lr * w_grad\n",
                "    \n",
                "    # Store parameters for plotting \n",
                "    b_history.append(b)\n",
                "    w_history.append(w)\n",
                "    \n",
                "# plot the figure\n",
                "plt.contourf(x,y,z,50,alpha=0.5,cmap=plt.get_cmap('jet'))\n",
                "# plt.contourf(x,y,z,50,alpha=0.5,cmap='jet')\n",
                "plt.plot([-188.4],[2.67],'x',ms=12,markeredgewidth=3,color='orange')\n",
                "plt.plot(b_history,w_history,'o-',ms=3,lw=1.5,color='black')\n",
                "plt.xlim(-200,-100)\n",
                "plt.ylim(-5,5)\n",
                "plt.xlabel(r'$b$',fontsize=16)\n",
                "plt.ylabel(r'$w$',fontsize=16)\n",
                "plt.show()"
            ]
        },
        {
            "cell_type": "markdown",
            "metadata": {},
            "source": [
                "\u6b64\u65f6\u5b66\u4e60\u7387\u592a\u5927\uff0c\u76f4\u63a5\u8dd1\u51fa\u56fe\u7247\u8303\u56f4\u4ee5\u5916\u4e86\u3002\n",
                "\n",
                "\u90a3\u6211\u4eec\u8be5\u5982\u4f55\u8bbe\u7f6e\u5b66\u4e60\u7387\u5462\uff1f"
            ]
        },
        {
            "cell_type": "code",
            "execution_count": 6,
            "metadata": {},
            "outputs": [
                {
                    "data": {
                        "image/png": "[encoded data removed]",
                        "text/plain": [
                            "<Figure size 432x288 with 1 Axes>"
                        ]
                    },
                    "metadata": {
                        "needs_background": "light"
                    },
                    "output_type": "display_data"
                }
            ],
            "source": [
                "# ydata = b + w * xdata\n",
                "b = -120 # initial b\n",
                "w = -4  # inital w\n",
                "lr = 1 # learning rate\n",
                "iteration = 100000\n",
                "\n",
                "# store initial values for plotting\n",
                "b_history = [b]\n",
                "w_history = [w]\n",
                "\n",
                "# \u7ed9w b \u7279\u5236\u5316\u4e00\u4e2a\u5b66\u4e60\u7387\n",
                "lr_b = 0\n",
                "lr_w = 0\n",
                "\n",
                "# Iterations\n",
                "for i in range(iteration):\n",
                "    \n",
                "    b_grad = 0.0\n",
                "    w_grad = 0.0\n",
                "    for n in range(len(x_data)):\n",
                "        b_grad = b_grad - 2.0*(y_data[n] - b - w*x_data[n])*1.0\n",
                "        w_grad = w_grad - 2.0*(y_data[n] - b - w*x_data[n])*x_data[n]\n",
                "    \n",
                "    lr_b = lr_b + b_grad ** 2\n",
                "    lr_w = lr_w + w_grad ** 2\n",
                "    \n",
                "    \n",
                "    # update parameters\n",
                "    b = b - lr/np.sqrt(lr_b) * b_grad\n",
                "    w = w - lr/np.sqrt(lr_w) * w_grad\n",
                "    \n",
                "    # Store parameters for plotting \n",
                "    b_history.append(b)\n",
                "    w_history.append(w)\n",
                "    \n",
                "# plot the figure\n",
                "plt.contourf(x,y,z,50,alpha=0.5,cmap=plt.get_cmap('jet'))\n",
                "# plt.contourf(x,y,z,50,alpha=0.5,cmap='jet')\n",
                "plt.plot([-188.4],[2.67],'x',ms=12,markeredgewidth=3,color='orange')\n",
                "plt.plot(b_history,w_history,'o-',ms=3,lw=1.5,color='black')\n",
                "plt.xlim(-200,-100)\n",
                "plt.ylim(-5,5)\n",
                "plt.xlabel(r'$b$',fontsize=16)\n",
                "plt.ylabel(r'$w$',fontsize=16)\n",
                "plt.show()"
            ]
        },
        {
            "cell_type": "markdown",
            "metadata": {},
            "source": [
                "\u4ee5\u4e0a\u5b66\u4e60\u7387\u91c7\u7528\u7684 AdaGrad \u65b9\u5f0f\u8fdb\u884c\u66f4\u65b0\uff0c\u611f\u5174\u8da3\u7684\u53ef\u4ee5\u81ea\u5df1\u5148\u4e86\u89e3\u4e00\u4e0b\u3002\u73b0\u5728\u6211\u4eec\u628a\u5b66\u4e60\u7387\u8bbe\u7f6e\u4e3a 1\uff0c\n",
                "\n",
                "\u7ed3\u679c\u5982\u56fe\uff1a\u4ece\u521d\u59cb\u503c\u5230\u7ec8\u70b9\u6211\u4eec\u5c31\u5f88\u5bb9\u6613\u5b9e\u73b0\u4e86\u3002"
            ]
        }
    ],
    "metadata": {
        "kernelspec": {
            "display_name": "Python 3",
            "language": "python",
            "name": "python3"
        },
        "language_info": {
            "codemirror_mode": {
                "name": "ipython",
                "version": 3
            },
            "file_extension": ".py",
            "mimetype": "text/x-python",
            "name": "python",
            "nbconvert_exporter": "python",
            "pygments_lexer": "ipython3",
            "version": "3.6.7"
        }
    },
    "nbformat": 4,
    "nbformat_minor": 2
}