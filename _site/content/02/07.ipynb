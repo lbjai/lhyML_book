{
    "cells": [
        {
            "cell_type": "markdown",
            "metadata": {},
            "source": [
                "<br>"
            ]
        },
        {
            "cell_type": "markdown",
            "metadata": {},
            "source": [
                "### \u8fd9\u4e00\u8282\u6211\u4eec\u4e3b\u8981\u5b66\u4e60",
                "\n",
                "+ \u7406\u89e3\u9898\u610f\uff0c\u8fd0\u7528\u56de\u5f52\u5b9e\u73b0PM2.5\u9884\u6d4b"
            ]
        },
        {
            "cell_type": "markdown",
            "metadata": {},
            "source": [
                "### 1 \u4efb\u52a1\u63cf\u8ff0 (Task Description)\n",
                "\n",
                "\n",
                "![](http://imgbed.momodel.cn/09_01_task.png)\n",
                "\n",
                "\n",
                "\u9884\u6d4b\u4e30\u539f\u7ad9\u4e0b\u4e00\u4e2a\u5c0f\u65f6\u4f1a\u89c2\u6d4b\u5230\u7684PM2.5<br/>\n",
                "\u4e2d\u56fd\u53f0\u6e7e\u5730\u56fe\u4e0a\u9ec4\u70b9\u548c\u7eff\u70b9\u4ee3\u8868\u6c14\u8c61\u89c2\u6d4b\u7ad9\u7684\u4f4d\u7f6e<br/>\n",
                "\u9ec4\u8272\u8868\u793a\u7a7a\u6c14\u8d28\u91cf\u6307\u6807\u6bd4\u8f83\u5dee<br/>\n",
                "\u7eff\u8272\u8868\u793a\u7a7a\u6c14\u8d28\u91cf\u6307\u6807\u6bd4\u8f83\u597d<br/>"
            ]
        },
        {
            "cell_type": "markdown",
            "metadata": {},
            "source": [
                "![](http://imgbed.momodel.cn/09_02_task.png)\n"
            ]
        },
        {
            "cell_type": "markdown",
            "metadata": {},
            "source": [
                "### 2 \u4ecb\u7ecd\u6570\u636e\u96c6\n"
            ]
        },
        {
            "cell_type": "markdown",
            "metadata": {},
            "source": [
                "![](http://imgbed.momodel.cn/09_03_testingdata.png)\n"
            ]
        },
        {
            "cell_type": "markdown",
            "metadata": {},
            "source": [
                "\u7b2c A \u5217\u662fid\uff1a\u6bcf\u4e00\u4e2aid\u4ee3\u8868\u4e00\u4e2a\u65f6\u95f4\u70b9\uff1b<br>\n",
                "\u7b2c B \u5217\u662f\u5404\u9879\u6307\u6807\uff1b<br>\n",
                "\u7b2c K \u5217\u8868\u793a\u7b2c N-1 \u65f6\u7684\u6307\u6807\u503c\u3002\n",
                "\n"
            ]
        },
        {
            "cell_type": "markdown",
            "metadata": {},
            "source": [
                "### 3 \u673a\u5668\u5b66\u4e60\u7b2c\u4e00\u6b65\uff1a\u5b9a\u4e49\u4f60\u7684\u6a21\u578b\n"
            ]
        },
        {
            "cell_type": "markdown",
            "metadata": {},
            "source": [
                "![](http://imgbed.momodel.cn/09_04_model.png)"
            ]
        },
        {
            "cell_type": "markdown",
            "metadata": {},
            "source": [
                "\u9884\u6d4b\u503cy\uff1aA\u5e74B\u6708C\u65e5 N\u65f6\u7684PM2.5\n",
                "\n",
                "\u8f93\u5165\u503c$x_{K,M}\uff1a$A\u5e74B\u6708C\u65e5 N-K \u65f6\u7684 M \u89c2\u6d4b\u503c\n",
                "\n",
                "M = **PM2.5**\uff0cCH4\uff0c NO\uff0c NO2\uff0c O3 ...(\u603b\u517118\u79cd)\n",
                "\n",
                "\u6570\u636e\u96c6\u4e2d\u67d0\u4e9b\u6307\u6807\u4e0d\u662f\u6570\u503c\uff0c\u6bd4\u5982RAINFALL = NR\uff0c\u8be5\u600e\u4e48\u8868\u793a\u5462\uff1f\n",
                "\n",
                "+ \u5047\u8bbe\u8bf4PM2.5 \u4ec5\u4e0e\u8fc7\u53bb9\u4e2a\u5c0f\u65f6\u7684PM2.5 \u76f8\u5173\uff0c\u5219\uff1a\n",
                "<br>\n",
                "\n",
                "$ y = b + w_{1,PM}\u00b7x_{1,PM}+ w_{2,PM}\u00b7x_{2,PM}+...+ w_{9,PM}\u00b7x_{9,PM}$\n",
                "\n",
                "+ \u5047\u8bbe\u8bf4PM2.5 \u4ec5\u4e0e\u8fc7\u53bb5\u4e2a\u5c0f\u65f6\u7684PM2.5 \u76f8\u5173\uff0c\u5219\uff1a\n",
                "\n",
                "$ y = b + w_{1,PM}\u00b7x_{1,PM}+ w_{2,PM}\u00b7x_{2,PM}+...+ w_{5,PM}\u00b7x_{5,PM}$\n",
                "\n",
                "+ \u5047\u8bbe\u8bf4PM2.5 \u4e0e\u8fc7\u53bb5\u4e2a\u5c0f\u65f6\u7684PM2.5\u548cN0\uff0cO3,... \u76f8\u5173\uff0c\u5219\uff1a\n",
                "\n",
                "\\begin{aligned}\n",
                "y  =  b & + w_{1,PM}\u00b7x_{1,PM}+ w_{2,PM}\u00b7x_{2,PM}+...+ w_{5,PM}\u00b7x_{5,PM}\\\\\n",
                "     & + w_{1,NO}\u00b7x_{1,NO}+ w_{2,NO}\u00b7x_{2,NO}+...+ w_{5,NO}\u00b7x_{5,NO}\\\\\n",
                "     & + w_{1,O3}\u00b7x_{1,O3}+ w_{2,O3}\u00b7x_{2,O3}+...+ w_{5,O3}\u00b7x_{5,O3}\\\\\n",
                "     &......\n",
                "\\end{aligned}\n",
                "\n"
            ]
        },
        {
            "cell_type": "markdown",
            "metadata": {},
            "source": [
                "### 4 \u673a\u5668\u5b66\u4e60\u7b2c\u4e8c\u6b65\uff1a\u6839\u636e\u8bad\u7ec3\u96c6\u786e\u5b9a\u635f\u5931\u51fd\u6570"
            ]
        },
        {
            "cell_type": "markdown",
            "metadata": {},
            "source": [
                "![](http://imgbed.momodel.cn/09_05_model.png)"
            ]
        },
        {
            "cell_type": "markdown",
            "metadata": {},
            "source": [
                "\u8bad\u7ec3\u96c6\u6765\u81ea\u6bcf\u4e2a\u6708\u7684\u524d20\u5929\uff1b<br>\n",
                "\u6d4b\u8bd5\u96c6\u6765\u81ea\u6bcf\u4e2a\u6708\u7684\u540e10\u5929\uff1b<br>\n",
                "\u4ece\u8bad\u7ec3\u96c6\u4e2d\u62ff\u51fa\u4e00\u4e9b\u6570\u636e\u96c6\u4f5c\u4e3a\u9a8c\u8bc1\u96c6\uff082\uff1a8/3:7)<br>"
            ]
        },
        {
            "cell_type": "markdown",
            "metadata": {},
            "source": [
                "### 5 \u673a\u5668\u5b66\u4e60\u7b2c\u4e09\u6b65\uff1a\u627e\u5230\u6700\u597d\u7684\u6a21\u578b"
            ]
        },
        {
            "cell_type": "markdown",
            "metadata": {},
            "source": [
                "![](http://imgbed.momodel.cn/09_06_model.png)"
            ]
        },
        {
            "cell_type": "markdown",
            "metadata": {},
            "source": [
                "\u91c7\u7528\u68af\u5ea6\u4e0b\u964d\u6cd5\u627e\u5230\u6700\u597d\u7684\u6a21\u578b\n",
                "\n",
                "\u7ebf\u6027\u4ee3\u6570\u6b63\u89c4\u65b9\u7a0b\u6c42\u89e3\u4e0e\u68af\u5ea6\u4e0b\u964d\u6cd5\u7684\u89e3\u5f62\u6210\u5bf9\u6bd4\u3002"
            ]
        }
    ],
    "metadata": {
        "kernelspec": {
            "display_name": "Python 3",
            "language": "python",
            "name": "python3"
        },
        "language_info": {
            "codemirror_mode": {
                "name": "ipython",
                "version": 3
            },
            "file_extension": ".py",
            "mimetype": "text/x-python",
            "name": "python",
            "nbconvert_exporter": "python",
            "pygments_lexer": "ipython3",
            "version": "3.6.7"
        }
    },
    "nbformat": 4,
    "nbformat_minor": 2
}