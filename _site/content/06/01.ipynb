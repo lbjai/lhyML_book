{
    "cells": [
        {
            "cell_type": "markdown",
            "metadata": {},
            "source": [
                "### \u8fd9\u4e00\u8282\u6211\u4eec\u4e3b\u8981\u5b66\u4e60",
                "\n",
                "+ \u751f\u6210\u6a21\u578b\u4e2d\u7684\u534a\u76d1\u7763\u5b66\u4e60\uff08Semi-supervised Learning for Generative Model\uff09\n",
                "+ \u4f4e\u5bc6\u5ea6\u5206\u79bb\uff08Low-density Separation\uff09\n",
                "+ \u5e73\u6ed1\u6027\u5047\u8bbe\uff08Smoothness Assumption\uff09\n",
                "+ \u66f4\u597d\u7684\u8868\u8fbe\uff08Better Representation\uff09"
            ]
        },
        {
            "cell_type": "markdown",
            "metadata": {},
            "source": [
                "### 1.\u534a\u76d1\u7763\u5b66\u4e60\u4ecb\u7ecd"
            ]
        },
        {
            "cell_type": "markdown",
            "metadata": {},
            "source": [
                "",
                "\n",
                "+ \u76d1\u7763\u5b66\u4e60\uff1a$\\{x^r,\\hat{y}^r\\}_{r=1}^{R}$\n",
                "    + $x^r\uff1a$\u8f93\u5165\u7279\u5f81\uff0c\u6bd4\u5982 image\n",
                "    + $\\hat{y}^r\uff1a$\u7c7b\u522b\u6807\u7b7e\n",
                "    \n",
                "+ \u534a\u76d1\u7763\u5b66\u4e60\uff1a$\\{x^r,\\hat{y}^r\\}_{r=1}^{R}\uff0c\\{x^u\\}_{u=R}^{R+U}$\n",
                "    + \u6ca1\u6709\u6807\u7b7e\u7684\u6570\u636e\u8fdc\u5927\u4e8e\u6709\u6807\u7b7e\u7684\u6570\u636e\uff0c\u5373 $U \\gg R$\n",
                "    + \u8f6c\u5316\u5b66\u4e60\uff08Transductive learning\uff09\uff1a\u65e0\u6807\u7b7e\u7684\u6570\u636e\u662f\u6d4b\u8bd5\u96c6\u6570\u636e\uff08\u9664\u53bblabel\uff09\n",
                "    + \u5f52\u7eb3\u5b66\u4e60\uff08Inductive learning\uff09\uff1a\u65e0\u6807\u7b7e\u7684\u6570\u636e\u4e0d\u5305\u62ec\u6d4b\u8bd5\u6570\u636e\n",
                "    \n",
                "+ \u4e3a\u4ec0\u4e48\u505a\u534a\u76d1\u7763\u5b66\u4e60\uff1f\n",
                "    + \u6570\u636e\u7684\u6536\u96c6\u6bd4\u8f83\u5bb9\u6613\uff0c\u4f46\u662f\u5f97\u5230\u6709\u6807\u7b7e\u7684\u6570\u636e\u662f\u6bd4\u8f83\u9ebb\u70e6\u7684\uff1b\n",
                "    + \u4eba\u7c7b\u672c\u8eab\u7684\u5b66\u4e60\u8fc7\u7a0b\u5c31\u662f\u4e00\u79cd\u534a\u76d1\u7763\u5b66\u4e60\u3002"
            ]
        },
        {
            "cell_type": "markdown",
            "metadata": {},
            "source": [
                ""
            ]
        },
        {
            "cell_type": "markdown",
            "metadata": {},
            "source": [
                "+ \u5728\u8fdb\u884c\u534a\u76d1\u7763\u5b66\u4e60\u7684\u8fc7\u7a0b\u4e2d\uff0c\u6211\u4eec\u9700\u8981\u4f5c\u51fa\u4e00\u4e9b\u5047\u8bbe\uff0c\u800c\u534a\u76d1\u7763\u5b66\u4e60\u80fd\u5426\u53d6\u5f97\u7406\u60f3\u4e2d\u7684\u6548\u679c\u53d6\u51b3\u4e8e\u6211\u4eec\u4f5c\u51fa\u7684\u5047\u8bbe\u662f\u5426\u7cbe\u786e\u3001\u662f\u5426\u7b26\u5408\u5b9e\u9645\u3002\n",
                "\n",
                "![](http://imgbed.momodel.cn/23_01_ssl_h.png)",
                "\n",
                "![](http://imgbed.momodel.cn/23_02_ssl_h.png)"
            ]
        },
        {
            "cell_type": "markdown",
            "metadata": {},
            "source": [
                "\u5982\u4e0a\u56fe\u6240\u793a\uff0c\u5f53\u672a\u52a0\u5165\u65e0\u6807\u7b7e\u7684\u6570\u636e\u7684\u65f6\u5019\uff0c\u6211\u4eec\u753b\u51fa\u7684\u51b3\u7b56\u8fb9\u754c\u662f\u7ad6\u7740\u7684\u90a3\u6761\u7ea2\u7ebf\uff1b<br>\n",
                "\u5f53\u6211\u4eec\u52a0\u5165\u4e00\u4e9b\u65e0\u6807\u7b7e\u7684\u6570\u636e\uff08\u7070\u8272\u7684\u6570\u636e\u70b9\uff09\u4e4b\u540e\uff0c\u6211\u4eec\u5f97\u5230\u7684\u8fb9\u754c\u53ef\u80fd\u4f1a\u53d8\u6210\u659c\u7740\u7684\u90a3\u6761\u7ebf\u3002<br>\n",
                "\n"
            ]
        },
        {
            "cell_type": "markdown",
            "metadata": {},
            "source": [
                "\u56e0\u4e3a\u5f53\u7ed9\u51fa\u90a3\u4e9b\u65e0\u6807\u7b7e\u7684\u6570\u636e\u70b9\u7684\u65f6\u5019\uff0c\u6211\u4eec\u4f1a\u5047\u8bbe\u5de6\u4e0b\u89d2\u7684\u6570\u636e\u70b9\u662f\u732b\uff0c\u4ece\u800c\u5f97\u51fa\u65b0\u7684\u51b3\u7b56\u8fb9\u754c\u3002<br>\n",
                "\u4f46\u662f\u6211\u4eec\u4f5c\u51fa\u7684\u5047\u8bbe\u4e0d\u4e00\u5b9a\u6b63\u786e\uff0c\u56e0\u6b64\u5047\u8bbe\u7684\u5408\u7406\u6027\u5f88\u5927\u7a0b\u5ea6\u4e0a\u51b3\u5b9a\u4e86\u534a\u76d1\u7763\u5b66\u4e60\u7684\u6709\u6548\u6027\u3002"
            ]
        },
        {
            "cell_type": "markdown",
            "metadata": {},
            "source": [
                "<br>"
            ]
        },
        {
            "cell_type": "markdown",
            "metadata": {},
            "source": [
                "### 2. \u534a\u76d1\u7763\u5b66\u4e60\u751f\u6210\u6a21\u578b"
            ]
        },
        {
            "cell_type": "markdown",
            "metadata": {},
            "source": [
                "",
                "\n",
                "![](http://imgbed.momodel.cn/23_03_ssl_sgm.png)"
            ]
        },
        {
            "cell_type": "markdown",
            "metadata": {},
            "source": [
                "+ \u76d1\u7763\u5b66\u4e60\u751f\u6210\u6a21\u578b\u8bad\u7ec3\u6d41\u7a0b\uff1a\n",
                "    + \u5e26\u6807\u7b7e\u7684\u8bad\u7ec3\u6837\u672c$x^r \\in C_1,C_2$\n",
                "    + \u8ba1\u7b97\u5148\u9a8c\u6982\u7387\u5206\u5e03$P\uff08C_i\uff09$\u548c\u6761\u4ef6\u6982\u7387\u5206\u5e03$P(x|C_i)$\n",
                "    + \u6761\u4ef6\u6982\u7387\u5206\u5e03\u7b26\u5408\u5747\u503c$\\mu^i$\u3001\u65b9\u5dee$\\\\Sigma$\u7684\u9ad8\u65af\u5206\u5e03\n",
                "    + \u6839\u636e\u8d1d\u53f6\u65af\u516c\u5f0f\u8ba1\u7b97\u540e\u9a8c\u6982\u7387$P\uff08C_i|x\uff09$\uff0c\u5c06\u540e\u9a8c\u6982\u7387\u6700\u5927\u7684\u7c7b\u4f5c\u4e3a$x$\u7684\u8f93\u51fa\u7c7b"
            ]
        },
        {
            "cell_type": "markdown",
            "metadata": {},
            "source": [
                "",
                "\n",
                "\n",
                "\n",
                "![](http://imgbed.momodel.cn/23_04_ssl_ssgm.png)",
                "\n",
                "\n",
                "\u4e0a\u56fe\u4e2d\uff0c\u7ea2\u8272\u7684\u70b9\u548c\u84dd\u8272\u7684\u70b9\u4ee3\u8868\u6709\u6807\u7b7e\u7684\u6570\u636e\uff0c\u7eff\u8272\u7684\u70b9\u4ee3\u8868\u65e0\u6807\u7b7e\u6570\u636e\u3002<br>\n",
                "\u52a0\u5165\u65e0\u6807\u7b7e\u7684\u6570\u636e\u70b9\u4e4b\u540e\uff0c\u6570\u636e\u70b9\u7684\u5206\u5e03\u53d1\u751f\u4e86\u6539\u53d8\uff1a\u7531\u5b9e\u7ebf\u8868\u793a\u7684\u5206\u5e03\u53d8\u6210\u865a\u7ebf\u8868\u793a\u7684\u5206\u5e03\u3002<br>\n",
                "**\u65e0\u6807\u7b7e\u6570\u636e$x^{\\mu}$ \u5bf9\u5148\u9a8c\u6982\u7387\u5206\u5e03$P\uff08C_i\uff09$\u3001\u6761\u4ef6\u6982\u7387\u5206\u5e03$P(x|C_i)$\u3001\u9ad8\u65af\u5206\u5e03\u53c2\u6570$\\mu^i,\\sum$\u4f30\u6d4b\u6709\u5f71\u54cd\uff0c\u4ece\u800c\u5f71\u54cd\u51b3\u7b56\u8fb9\u754c**\u3002<br>\n",
                "    \n"
            ]
        },
        {
            "cell_type": "markdown",
            "metadata": {},
            "source": [
                "",
                "\n",
                "![](http://imgbed.momodel.cn/23_05_ssl_ssgm1.png)",
                "\n",
                "   + \u521d\u59cb\u5316\u53c2\u6570\uff1a$\\theta=\\{P(C_i),u^i,\\sum\\}$<br>\n",
                "   + step1\uff1a\u8ba1\u7b97\u65e0\u6807\u7b7e\u6570\u636e$P_{\\theta}(C_i|x^{\\mu})$,**\u4f9d\u8d56\u6a21\u578b\u53c2\u6570**<br>\n",
                "   + step2\uff1a\u6309\u7167\u56fe\u4e2d\u8868\u8fbe\u5f0f\u66f4\u65b0\u6a21\u578b <br>\n",
                "   + \u5c06\u66f4\u65b0\u540e\u7684\u6a21\u578b\u8fdb\u884c\u7b2c\u4e00\u6b65\u64cd\u4f5c\uff0c\u91cd\u65b0\u8ba1\u7b97$P_{\\theta}\uff08C_i|x^{\\mu})$,\u7136\u540e\u7ee7\u7eed\u66f4\u65b0\u6a21\u578b\uff0c\u4f9d\u6b64\u8fed\u4ee3...<br>\n",
                "   **\u7406\u8bba\u4e0a\u8be5\u65b9\u6cd5\u4f1a\u6536\u655b\uff0c\u521d\u59cb\u503c\u5f71\u54cd\u6536\u655b\u7684\u7ed3\u679c\u3002**<br>"
            ]
        },
        {
            "cell_type": "markdown",
            "metadata": {},
            "source": [
                "",
                "\n",
                "![](http://imgbed.momodel.cn/23_06_ssl_lc.png)",
                "\n",
                "\u5728\u76d1\u7763\u5b66\u4e60\u751f\u6210\u6a21\u578b\u4e2d\uff0c\u6211\u4eec\u9700\u8981\u6700\u5927\u5316\u7684\u4f3c\u7136\u51fd\u6570\u4e3a $logL(\\theta)=\\sum_{x^r}P_{\\theta}(x^r,\\hat y^r)$\u3002<br>\n",
                "\n",
                "\u5728\u534a\u76d1\u7763\u5b66\u4e60\u751f\u6210\u6a21\u578b\u4e2d\uff0c\u6211\u4eec\u9664\u4e86\u9700\u8981\u8003\u8651\u6709\u6807\u7b7e\u6570\u636e\u4e4b\u5916\uff0c\u8fd8\u8981\u8003\u8651\u65e0\u6807\u7b7e\u6570\u636e\u4ea7\u751f\u7684\u6982\u7387 $P_{\\theta}(x^u)$\uff0c<br>\n",
                "\u6700\u5927\u4f3c\u7136\u51fd\u6570\u53d8\u4e3a$logL(\\theta)=\\sum_{x^r}P_{\\theta}(x^r,\\hat y^r)+\\sum_{x^u}P_{\\theta}(x^u)$\u3002<br>\n",
                "\n",
                "\u7531\u4e8e\u52a0\u5165\u65e0\u6807\u7b7e\u6570\u636e\u540e\uff0c\u4f3c\u7136\u51fd\u6570\u4e0d\u518d\u662f\u51f8\u51fd\u6570\uff0c\u6700\u7ec8\u7684\u53d6\u503c\u4e0e\u521d\u59cb\u5316\u53c2\u6570 $\\theta$ \u6709\u5173\uff1b<br>\n",
                "\u6211\u4eec\u9700\u8981\u5728\u6bcf\u6b21\u66f4\u65b0\u53c2\u6570 $\\theta$ \u4e4b\u540e\uff0c\u6c42\u89e3\u4e00\u6b21\u4f3c\u7136\u51fd\u6570\u7684\u6700\u5927\u503c\u3002\uff08[EM\u7b97\u6cd5](https://baike.baidu.com/item/%E6%9C%80%E5%A4%A7%E6%9C%9F%E6%9C%9B%E7%AE%97%E6%B3%95/10180861?fromtitle=em%E7%AE%97%E6%B3%95&fromid=1866163&fr=aladdin)\uff09"
            ]
        },
        {
            "cell_type": "markdown",
            "metadata": {},
            "source": [
                "<br>"
            ]
        },
        {
            "cell_type": "markdown",
            "metadata": {},
            "source": [
                "### 3.\u534a\u76d1\u7763\u5b66\u4e60\u4f4e\u5bc6\u5ea6\u5206\u79bb\n"
            ]
        },
        {
            "cell_type": "markdown",
            "metadata": {},
            "source": [
                "",
                "\n",
                "![](http://imgbed.momodel.cn/23_07_ssl_ls.png)",
                "\n",
                "\u76f8\u6bd4\u4e8e\u4e4b\u524d\u7684\u751f\u6210\u6a21\u578b\uff0c\u8fd9\u91cc\u6211\u4eec\u4f5c\u51fa\u4e00\u4e2a\u5047\u8bbe\uff1a<br>\n",
                "\u5982\u679c\u4e00\u4e2a\u6570\u636e\u6837\u672c\u4e0d\u5c5e\u4e8e\u7c7b\u522b\u4e00\uff0c\u90a3\u4e48\u5b83\u4e00\u5b9a\u5c5e\u4e8e\u7c7b\u522b\u4e8c\u3002<br>\n",
                "\u6211\u4eec\u5c06\u8fd9\u79cd\u505a\u6cd5\u4ea7\u751f\u7684\u6807\u7b7e\u79f0\u4e3a\u786c\u6807\u7b7e\u3002"
            ]
        },
        {
            "cell_type": "markdown",
            "metadata": {},
            "source": [
                "",
                "\n",
                "![](http://imgbed.momodel.cn/23_08_ssl_st.png)",
                "\n",
                "+ \u6570\u636e\u96c6\uff1a<br>\n",
                "    + \u6709\u6807\u7b7e\u6570\u636e\u96c6$\\{(x^r,\\hat{y}^r)\\}_{r=1}^R$\n",
                "    + \u65e0\u6807\u7b7e\u6570\u636e\u96c6$\\{x^u\\}_{u=l}^{R+U}$\n",
                "\n",
                "+ \u5faa\u73af\uff1a                \n",
                "    + **step1:**\u7528\u5df2\u77e5\u6807\u7b7e\u7684\u6570\u636e\u8bad\u7ec3\uff08\u5229\u7528\u903b\u8f91\u56de\u5f52\uff0c\u795e\u7ecf\u7f51\u7edc\uff0c\u51b3\u7b56\u6811\u7b49\u65b9\u6cd5\uff09\u51fa\u6a21\u578b $f^*$\n",
                "    + **step2:**\u5c06\u672a\u77e5\u6807\u7b7e\u7684\u6570\u636e\u5e26\u5165\u8be5\u51fd\u6570\u4e2d\uff0c\u5f97\u5230\u201c\u65b0\u6807\u7b7e\u201d\u3002\n",
                "    + **step3:**\u7136\u540e\u4ece\u5f97\u5230\u201c\u65b0\u6807\u7b7e\u201d\u7684\u672a\u77e5\u6807\u7b7e\u7684\u6570\u636e\u4e2d\u62bd\u53d6\u4e00\u4e9b\u6570\u636e\u653e\u5165\u5df2\u77e5\u6807\u7b7e\u7684\u6570\u636e\u4e2d\u3002\n",
                "    + \u91cd\u590d\u4e0a\u8ff0\u6b65\u9aa4\u3002\n",
                "    \n"
            ]
        },
        {
            "cell_type": "markdown",
            "metadata": {},
            "source": [
                "**\u8865\u5145\uff1a**<br>\n",
                "\n",
                "\u6211\u4eec\u53ef\u4ee5\u901a\u8fc7\u7ed9\u672a\u77e5\u6807\u7b7e\u7684\u6570\u636e\u6dfb\u52a0\u6743\u91cd\u7684\u65b9\u5f0f\u6765\u8f85\u52a9\u62bd\u53d6\u6570\u636e\uff1b\u5bf9\u4e8e\u56de\u5f52\u51fd\u6570\u800c\u8a00\uff0c\u8fd9\u79cd\u8bad\u7ec3\u65b9\u5f0f\u5bf9\u51fd\u6570\u6ca1\u6709\u5f71\u54cd\u3002<br>\n",
                "\u6211\u4eec\u53ef\u4ee5\u901a\u8fc7\u71b5\u6765\u5ea6\u91cf\u901a\u8fc7\u51fd\u6570 **f** \u7ed9\u672a\u77e5\u6807\u7b7e\u7684\u6570\u636e\u751f\u6210\u7684\u6807\u7b7e\u7684\u8d28\u91cf\u3002\u71b5\u8d8a\u5c0f\uff0c\u8868\u793a\u751f\u6210\u7684\u6807\u7b7e\u8d28\u91cf\u8d8a\u9ad8\u3002<br>"
            ]
        },
        {
            "cell_type": "markdown",
            "metadata": {},
            "source": [
                "**\u725b\u5200\u5c0f\u8bd5**\n",
                "\n",
                "\u8bad\u7ec3\u6a21\u578b\u7684\u65b9\u6cd5\u53ef\u4ee5\u662f\u56de\u5f52\u6a21\u578b\u4e2d\u5417\uff1f"
            ]
        },
        {
            "cell_type": "markdown",
            "metadata": {},
            "source": [
                "<span class='md-hint-alone-link pop 0'>\u67e5\u770b\u7b54\u6848</span>"
            ]
        },
        {
            "cell_type": "markdown",
            "metadata": {},
            "source": [
                ""
            ]
        },
        {
            "cell_type": "markdown",
            "metadata": {},
            "source": [
                "\n",
                "![](http://imgbed.momodel.cn/23_09_ssl_st.png)",
                "\n",
                "\u81ea\u6211\u5b66\u4e60\u7684\u65b9\u6cd5\u4e0e\u751f\u6210\u6a21\u578b\u6709\u4e9b\u7c7b\u4f3c\uff0c\u4f46\u662f\u524d\u8005\u91c7\u7528\u7684\u662f\u786c\u6807\u7b7e\uff0c\u540e\u8005\u91c7\u7528\u7684\u662f\u8f6f\u6807\u7b7e\u3002<br>\n",
                "\n",
                "\u5728\u795e\u7ecf\u7f51\u7edc\u4e2d\uff0c\u5047\u8bbe\u6a21\u578b\u9884\u6d4b\u67d0\u4e00\u4e2a\u6837\u672c\u662f\u7c7b\u522b\u4e00\u7684\u6982\u7387\u4e3a 0.7\uff0c\u662f\u7c7b\u522b\u4e8c\u7684\u6982\u7387\u4e3a 0.3\u3002<br>\n",
                "\u82e5\u91c7\u53d6\u786c\u6807\u7b7e\u7684\u65b9\u6cd5\uff0c\u6211\u4eec\u4f1a\u5c06\u8be5\u6837\u672c\u7684\u6807\u7b7e\u503c\u8bbe\u4e3a [1 0]\uff1b<br>\n",
                "\u82e5\u91c7\u53d6\u8f6f\u6807\u7b7e\u7684\u65b9\u6cd5\uff0c\u5219\u6807\u7b7e\u503c\u4f9d\u65e7\u4e3a [0.7 0.3]\u3002<br>\n",
                "\u5bf9\u4e8e\u795e\u7ecf\u7f51\u7edc\u800c\u8a00\uff0c\u5f53\u6211\u4eec\u91c7\u7528\u786c\u6807\u7b7e\u65f6\uff0c\u624d\u4f1a\u5bf9\u6a21\u578b\u4ea7\u751f\u5f71\u54cd\u3002"
            ]
        },
        {
            "cell_type": "markdown",
            "metadata": {},
            "source": [
                "",
                "\n",
                "![](http://imgbed.momodel.cn/23_10_ssl_st.png)",
                "<br>\n",
                "\n",
                "\u6211\u4eec\u4f9d\u636e\u8bad\u7ec3\u597d\u7684\u6a21\u578b\u53c2\u6570\u6765\u5f97\u5230\u65e0\u6807\u7b7e\u6570\u636e\u7684\u6982\u7387\u5206\u5e03\uff0c<br>\n",
                "\u6211\u4eec\u5e0c\u671b\u65e0\u6807\u7b7e\u6570\u636e\u7684\u9884\u6d4b\u503c\u8d8a\u96c6\u4e2d\u8d8a\u597d\u3002\u5982\u5de6\u4e0b 3 \u4e2a\u9884\u6d4b\u503c\u4e2d\u524d\u4e24\u4e2a\u6bd4\u8f83\u5bc6\u96c6\u96c6\uff1b\u7b2c\u4e09\u4e2a\u5c31\u6bd4\u8f83\u5e73\u5747\uff0cji\u4e0d\u662f\u4ee4\u4eba\u5341\u5206\u6ee1\u610f\u3002\n",
                "\n",
                "\u6211\u4eec\u5f15\u5165[\u71b5](https://baike.baidu.com/item/%E4%BF%A1%E6%81%AF%E7%86%B5)\u7684\u516c\u5f0f\uff0c\u6765\u8bc4\u4f30\u6570\u636e\u7684\u5206\u5e03\u662f\u5426\u96c6\u4e2d\u3002<br>\n",
                "\u5982\u56fe\u6240\u793a\uff0c\u524d\u4e24\u4e2a\u7684\u71b5\u662f 0\uff0c\u7b2c\u4e09\u4e2a\u7684\u71b5\u6700\u5927\u662fln5\u3002\u71b5\u8d8a\u5c0f\u8bf4\u660e\u6570\u636e\u7684\u5206\u5e03\u8d8a\u96c6\u4e2d\uff0c\u9884\u6d4b\u7684\u7ed3\u679c\u8d8a\u597d\u3002<br>\n",
                "\u6211\u4eec\u5728\u635f\u5931\u51fd\u6570\u4e0a\u52a0\u4e86**\u65e0\u6807\u7b7e\u90e8\u5206\u7684\u71b5\u7684\u6b63\u5219\u9879**\uff0c$\\lambda$ \u6765\u51b3\u5b9a\u662f\u8003\u8651\u6709\u6807\u7b7e\u6570\u636e\u591a\u4e00\u70b9\u8fd8\u662f\u8003\u8651\u65e0\u6807\u7b7e\u6570\u636e\u591a\u4e00\u70b9\u3002<br>"
            ]
        },
        {
            "cell_type": "markdown",
            "metadata": {},
            "source": [
                "",
                "\n",
                "![](http://imgbed.momodel.cn/23_11_ssl_st.png)",
                "<br>\n",
                "<br>\n",
                "\u5982\u4e0a\u56fe\u6240\u793a\uff0c\u5047\u8bbe\u6211\u4eec\u6709 4 \u4e2a\u672a\u6807\u8bb0\u7684\u6570\u636e\uff0c\u652f\u6301\u5411\u91cf\u673a\u4f1a\u627e\u5230\u4e00\u4e2a\u6700\u5927\u95f4\u9694\u5e76\u4f7f\u8bef\u5dee\u6700\u5c0f\u7684\u8fb9\u754c\u3002<br>\n",
                "\u8fd9\u91cc\u5bf9\u65e0\u6807\u7b7e\u6570\u636e\u96c6\u91c7\u7528\u679a\u4e3e\u6cd5\u904d\u5386\u5176\u6240\u6709\u7684\u53ef\u80fd\u6027\u3002\u7136\u540e\u5206\u522b\u4f5c\u51fa\u6bcf\u79cd\u53ef\u80fd\u6027\u7684\u51b3\u7b56\u8fb9\u754c\uff0c\u5e76\u4ece\u4e2d\u9009\u51fa\u5206\u7c7b\u8fb9\u8ddd\u6700\u5927\u7684\u90a3\u4e2a\uff08\u56fe\u4e2d\u9ed1\u8272\u65b9\u6846\uff09\u3002<br>\n",
                "\n",
                "\u5047\u5982\u6211\u4eec\u6709 M \u4e2a\u672a\u6807\u7b7e\u6570\u636e\uff0c\u5219\u9700\u8981\u505a $2^M$ \u4e2a\u5047\u8bbe\u3002<br>\n",
                "\u4f46\u662f\u5728\u5b9e\u9645\u64cd\u4f5c\u4e2d\uff0c\u6211\u4eec\u90fd\u662f\u6539\u53d8\u4e00\u7b14\u6570\u636e\u7684\u6807\u7b7e\u89c2\u5bdf\u8fb9\u754c\u662f\u5426\u53d8\u5927\uff0c\u5982\u679c\u53d8\u5927\u5c31\u91c7\u7528\u8be5\u5047\u8bbe\u3002<br>"
            ]
        },
        {
            "cell_type": "markdown",
            "metadata": {},
            "source": [
                "<br>"
            ]
        },
        {
            "cell_type": "markdown",
            "metadata": {},
            "source": [
                "### 4 \u5e73\u6ed1\u5047\u8bbe\n"
            ]
        },
        {
            "cell_type": "markdown",
            "metadata": {},
            "source": [
                "#### 4.1 \u5e73\u6ed1\u5047\u8bbe\u7684\u65b9\u6cd5\u4ecb\u7ecd"
            ]
        },
        {
            "cell_type": "markdown",
            "metadata": {},
            "source": [
                "",
                "\n",
                "![](http://imgbed.momodel.cn/23_12_ssl_st.png)",
                "\n",
                "\u5e73\u6ed1\u6027\u5047\u8bbe\u7684\u4e3b\u8981\u601d\u60f3\u662f\u201c\u8fd1\u6731\u8005\u8d64,\u8fd1\u58a8\u8005\u9ed1\u201d\uff0c\u6211\u4eec\u5c06\u5177\u6709\u76f8\u4f3c\u6027\u7684\u6570\u636e\u6837\u672c\u5f52\u4e3a\u540c\u4e00\u7c7b\u3002"
            ]
        },
        {
            "cell_type": "markdown",
            "metadata": {},
            "source": [
                "",
                "\n",
                "\n",
                "![](http://imgbed.momodel.cn/23_13_ssl_st.png)"
            ]
        },
        {
            "cell_type": "markdown",
            "metadata": {},
            "source": [
                "\u5047\u8bbe x \u5206\u5e03\u662f\u4e0d\u5747\u5300\u7684\uff0c\u67d0\u4e9b\u5730\u65b9\u5f88\u96c6\u4e2d\u800c\u67d0\u4e9b\u5730\u65b9\u5f88\u5206\u6563\uff1b<br>\n",
                "\u5982\u679c $x^1$ \u548c $x^2$ \u5206\u5e03\u5728\u4e00\u4e2a\u5f88\u96c6\u4e2d\u533a\u57df\uff0c\u90a3\u4e48\u5b83\u4eec\u5bf9\u5e94\u7684\u6807\u7b7e $\\hat{y}^1$ \u548c $\\hat{y}^2$ \u662f\u76f8\u7b49\u7684\u3002<br>\n",
                "\n",
                "\u6bd4\u5982\u56fe\u4e2d $x^1$ \u548c $x^2$ \u76f8\u8fd1\u4e14\u5728\u4e00\u4e2a\u9ad8\u5bc6\u5ea6\u7684\u533a\u57df\u4e2d\uff0c\u5219\u5b83\u4eec\u7684\u6807\u7b7e\u76f8\u540c\uff1b<br>\n",
                "\u4ec5\u4ec5\u89c2\u5bdf x \u7279\u5f81\u4f3c\u4e4e $x^2$ \u548c $x^3$ \u6bd4\u8f83\u76f8\u8fd1\uff0c\u4f46\u662f\u5b9e\u9645\u4e0a $x^1$ \u548c $x^2$ \u5728\u4e00\u7c07\u91cc\uff0c\u800c $x^3$ \u5728\u53e6\u5916\u4e00\u7c07\u3002\n",
                " "
            ]
        },
        {
            "cell_type": "markdown",
            "metadata": {},
            "source": [
                "",
                "\n",
                "![](http://imgbed.momodel.cn/23_14_ssl_st.png)",
                "\n",
                "\u6bd4\u5982\u6211\u4eec\u624b\u5199\u6570\u5b57\uff0c\u4e24\u4e2a 2\uff0c\u4e00\u4e2a\u5e26\u4e00\u4e2a\u5305\u56f4\u7684\u5f2f\uff0c\u4e00\u4e2a\u6ca1\u6709\uff0c\u53ef\u80fd\u540e\u8fb9\u7684 2 \u53cd\u800c\u548c 3 \u6bd4\u8f83\u50cf\u3002<br>\n",
                "\u4f46\u662f\u770b\u5927\u90e8\u5206\u6ca1\u6807\u7b7e\u7684\u6570\u636e\uff0c\u6211\u4eec\u4f1a\u53d1\u73b0\u8fd9\u4e24\u4e2a 2 \u5176\u5b9e\u662f\u901a\u8fc7\u5f88\u591a\u4e2a\u8fc7\u6e21\u7684 2 \u8fde\u63a5\u5728\u4e00\u8d77\uff0c<br>\n",
                "\u4f46\u662f 2 \u548c 3 \u867d\u7136\u6bd4\u4e4b\u524d\u76842\u63a5\u8fd1\uff0c\u4f46\u662f\u4ed6\u4eec\u4e4b\u95f4\u5e76\u6ca1\u6709\u8fc7\u6e21\u7684\u6570\u636e\u3002<br>\n",
                "<br>\n",
                "\u6bd4\u5982\u5de6\u4fa7\u4eba\u8138\u548c\u53f3\u4fa7\u4eba\u8138\uff0c\u4ece\u56fe\u7247\u6570\u636e\u4e0a\u53ef\u80fd\u53e6\u4e00\u4e2a\u5de6\u4fa7\u4eba\u8138\u548c\u56fe\u7247\u5de6\u4fa7\u4eba\u8138\u90fd\u6bd4\u8f83\u63a5\u8fd1\uff0c<br>\n",
                "\u4f46\u662f\u5f53\u5f15\u5165\u8fc7\u6e21\u6570\u636e\uff08\u4e0d\u540c\u89d2\u5ea6\u7684\u4eba\u8138\u540e\uff09\u5c31\u4f1a\u53d1\u73b0\u5176\u5b9e\u4ed6\u4eec\u662f1\u7c7b\u3002<br>"
            ]
        },
        {
            "cell_type": "markdown",
            "metadata": {},
            "source": [
                "#### 4.2 \u5e73\u6ed1\u5047\u8bbe\u7684\u5b9e\u73b0\u65b9\u6cd5"
            ]
        },
        {
            "cell_type": "markdown",
            "metadata": {},
            "source": [
                "",
                "\n",
                "![](http://imgbed.momodel.cn/23_15_ssl.png)"
            ]
        },
        {
            "cell_type": "markdown",
            "metadata": {},
            "source": [
                "",
                "\n",
                "   \n",
                "![](http://imgbed.momodel.cn/23_16_ssl.png)",
                "  "
            ]
        },
        {
            "cell_type": "markdown",
            "metadata": {},
            "source": [
                "+ \u8ba1\u7b97\u4e24\u4e2a\u6570\u636e\u70b9\u4e4b\u95f4\u7684\u76f8\u4f3c\u5ea6\n",
                "+ \u6839\u636e\u8ba1\u7b97\u51fa\u7684\u76f8\u4f3c\u5ea6\uff0c\u5229\u7528 [KNN \u7b97\u6cd5](https://baike.baidu.com/item/%E9%82%BB%E8%BF%91%E7%AE%97%E6%B3%95/1151153?fr=aladdin)\u6216\u8005 e-neighborhood(e-\u90bb\u5c45\u7b97\u6cd5)\u7ed9\u6570\u636e\u70b9\u4e4b\u95f4\u52a0\u8fb9\n",
                "+ \u6211\u4eec\u8fd8\u53ef\u4ee5\u7ed9\u6bcf\u6761\u8fb9\u589e\u52a0\u6743\u91cd\uff0c\u8fd9\u91cc\u6211\u4eec\u91c7\u7528\u9ad8\u65af\u5f84\u5411\u57fa\u51fd\u6570\u6765\u8ba1\u7b97\u76f8\u4f3c\u5ea6\u4f5c\u4e3a\u6743\u91cd\u3002\u91c7\u7528\u9ad8\u65af\u5f84\u5411\u57fa\u51fd\u6570\u6709\u4e00\u4e2a\u597d\u5904<br>\n",
                "  \u5c31\u662f\u5bf9\u4e8e\u90a3\u4e9b\u8ddd\u79bb\u4e0d\u662f\u7279\u522b\u8fd1\u7684\u70b9\uff0c\u6743\u91cd\u4f1a\u975e\u5e38\u5c0f\uff0c\u6709\u5229\u4e8e\u805a\u7c7b\u3002\n"
            ]
        },
        {
            "cell_type": "markdown",
            "metadata": {},
            "source": [
                "![](http://imgbed.momodel.cn/23_17_ssl.png)",
                "\n",
                "\u57fa\u4e8e\u56fe\u7684\u65b9\u6cd5\u7684\u597d\u5904\u662f\u53ef\u4ee5\u5c06\u6807\u7b7e\u4f20\u9012\u51fa\u53bb\uff0c\u5f53\u7136\u8fd9\u6837\u7684\u505a\u6cd5\u5c31\u9700\u8981\u6d77\u91cf\u7684\u6570\u636e\uff0c\u5426\u5219\u8fd9\u79cd\u8fde\u63a5\u5c31\u53ef\u80fd\u65ad\u6389\u3002<br>\n",
                "\u5e26\u6807\u7b7e\u7684\u6570\u636e\u901a\u8fc7\u56fe\u6765\u5f71\u54cd\u4e0e\u5176\u76f8\u90bb\u7684\u70b9\u3002<br>\n",
                "\n"
            ]
        },
        {
            "cell_type": "markdown",
            "metadata": {},
            "source": [
                "",
                "\n",
                "![](http://imgbed.momodel.cn/23_18_ssl.png)",
                "\n",
                "\u56fe\u4e2d\u4e0d\u540c\u6570\u636e\u70b9\u7684\u6807\u7b7e\u4e4b\u95f4\u7684\u5e73\u6ed1\u5ea6\u7684\u5b9a\u4e49\u5982\u4e0b\uff1a\n",
                "\n",
                "<font size=4.5> $S=\\frac{1}{2}\\sum_{i,j} w_{i,j}{(y^i-y^j)}^2$ </font>\n",
                "<br>\n",
                "\n",
                "\u6211\u4eec\u5e0c\u671b\u5e73\u6ed1\u5ea6 S \u8d8a\u5c0f\u8d8a\u597d\u3002\n",
                "\n"
            ]
        },
        {
            "cell_type": "markdown",
            "metadata": {},
            "source": [
                "",
                "\n",
                "![](http://imgbed.momodel.cn/23_19_ssl.png)",
                "\n",
                "$w_{i,j}$ \u8868\u793a\u56fe\u4e2d\u4e24\u4e2a\u70b9\u4e4b\u95f4\u7684\u6743\u91cd\uff1b\u77e9\u9635 $W$ \u5219\u662f\u7531 $w_{i,j}$ \u7ec4\u6210\u7684\u6743\u91cd\u77e9\u9635\u3002<br>\n",
                "\u77e9\u9635 D \u4e2d\u5bf9\u89d2\u7ebf\u5143\u7d20\u7684\u503c\u4e3a $W$ \u77e9\u9635\u4e2d\u6bcf\u884c\u5143\u7d20\u7684\u548c\u3002<br>\n",
                "$y$ \u662f\u6570\u636e\u6837\u672c\u7684\u6807\u7b7e\u503c\u7ec4\u6210\u7684\u5411\u91cf\uff08\u65e2\u5305\u542b\u4e86\u6709\u6807\u7b7e\u7684\u6570\u636e\uff0c\u4e5f\u5305\u542b\u4e86\u65e0\u6807\u7b7e\u7684\u6570\u636e\uff09\uff1b\u5411\u91cf\u7684\u7ef4\u5ea6\u4e3a (R+U)\u3002<br>\n",
                "L \u76f8\u5e94\u7684\u5c31\u662f\u4e00\u4e2a (R+U)\u00d7(R+U) \u7684\u4e00\u4e2a\u77e9\u9635\uff0c\u53eb\u505a\u56fe\u62c9\u666e\u62c9\u65af\u77e9\u9635\uff0c\u5b9a\u4e49\u4e3a L=D\u2212W\u3002<br>\n"
            ]
        },
        {
            "cell_type": "markdown",
            "metadata": {},
            "source": [
                "",
                "\n",
                "![](http://imgbed.momodel.cn/23_20_ssl.png)"
            ]
        },
        {
            "cell_type": "markdown",
            "metadata": {},
            "source": [
                "\u5e73\u6ed1\u5ea6 S \u7684\u503c\u662f\u53d6\u51b3\u4e8e\u7f51\u7edc\u53c2\u6570\u7684\uff0c\u4e3a\u4e86\u5c06\u5e73\u6ed1\u5ea6\u7684\u5f71\u54cd\u52a0\u5165\u5230\u7f51\u7edc\u7684\u8bad\u7ec3\u8fc7\u7a0b\u4e2d\uff0c<br>\n",
                "\u6211\u4eec\u5c06\u5e73\u6ed1\u5ea6 S \u4f5c\u4e3a\u6b63\u5219\u9879\u52a0\u5165\u5230\u635f\u5931\u51fd\u6570\u4e2d\uff0c\u5f97\u5230 $L=\u2211_{x^r}C(y^r,\\hat{y}^r)+\u03bbS$\u3002<br>\n",
                "\u6211\u4eec\u5728\u4e0d\u4ec5\u9700\u8981\u8003\u8651\u6709\u6807\u7b7e\u6570\u636e\u7ed9\u635f\u5931\u51fd\u6570\u5e26\u6765\u7684\u5f71\u54cd $C(y^r,\\hat y^r)$\uff0c\u8fd8\u9700\u8981\u8003\u8651\u65e0\u6807\u7b7e\u6570\u636e\u4ea7\u751f\u7684\u5f71\u54cd $\\lambda S$\u3002<br>\n",
                "\u5f53\u6211\u4eec\u7684\u6a21\u578b\u662f\u6df1\u5ea6\u7f51\u7edc\u7684\u65f6\u5019\uff0c\u6211\u4eec\u53ef\u4ee5\u5c06\u5e73\u6ed1\u5ea6\u653e\u5728\u7f51\u7edc\u4e2d\u7684\u4efb\u4f55\u4f4d\u7f6e\u3002<br>"
            ]
        },
        {
            "cell_type": "markdown",
            "metadata": {},
            "source": [
                "<br>"
            ]
        },
        {
            "cell_type": "markdown",
            "metadata": {},
            "source": [
                "### 5.\u66f4\u597d\u7684\u8868\u8fbe\n"
            ]
        },
        {
            "cell_type": "markdown",
            "metadata": {},
            "source": [
                "",
                "\n",
                "\u4e3b\u8981\u601d\u60f3\u662f\u201c\u53bb\u829c\u5b58\u83c1\uff0c\u5316\u7e41\u4e3a\u7b80\u201d\u3002\u6307\u7684\u662f\u8981\u6293\u4f4f\u91cd\u70b9\uff0c\u5f97\u5230\u66f4\u597d\u7684\u8868\u8fbe\u3002\n",
                "\n",
                "![](http://imgbed.momodel.cn/23_21_ssl.png)"
            ]
        },
        {
            "cell_type": "markdown",
            "metadata": {},
            "source": [
                "\u627e\u5230\u5728\u89c2\u5bdf(observation)\u4e0b\u7684\u6f5c\u5728\u56e0\u7d20\uff08latent factor\uff09\uff0c\u8fd9\u4e9b\u6f5c\u5728\u7684\u56e0\u7d20(\u901a\u5e38\u66f4\u7b80\u5355)\u662f\u66f4\u597d\u7684\u8868\u8fbe(better represevtation)\u3002<br>\n",
                "\u4e0a\u56fe\u6f2b\u753b\u4e2d\uff0c\u80e1\u5b50\u662f\u89c2\u5bdf\uff0c\u5934\u624d\u662f\u91cd\u70b9\u662f\u66f4\u597d\u7684\u8868\u8fbe\u3002<br>\n",
                "\n",
                "\u5173\u4e8e\u8fd9\u65b9\u9762\u7684\u5185\u5bb9\u5728\u975e\u76d1\u7763\u5b66\u4e60\u4e2d\u5c06\u4f1a\u91cd\u70b9\u8bb2\u89e3\u3002"
            ]
        },
        {
            "cell_type": "markdown",
            "metadata": {},
            "source": [
                "### 7.\u603b\u7ed3\n",
                "\u672c\u5c0f\u8282\u8bb2\u8ff0\u4e86\u534a\u76d1\u7763\u5b66\u4e60\uff1a\n",
                "+ \u751f\u6210\u6a21\u578b\u4e2d\u7684\u534a\u76d1\u7763\u5b66\u4e60\n",
                "+ \u4f4e\u5bc6\u5ea6\u5206\u79bb\n",
                "+ \u5e73\u6ed1\u6027\u5047\u8bbe\n",
                "+ \u66f4\u597d\u7684\u8868\u8fbe\n"
            ]
        }
    ],
    "metadata": {
        "kernelspec": {
            "display_name": "Python 3",
            "language": "python",
            "name": "python3"
        },
        "language_info": {
            "codemirror_mode": {
                "name": "ipython",
                "version": 3
            },
            "file_extension": ".py",
            "mimetype": "text/x-python",
            "name": "python",
            "nbconvert_exporter": "python",
            "pygments_lexer": "ipython3",
            "version": "3.5.2"
        }
    },
    "nbformat": 4,
    "nbformat_minor": 2
}