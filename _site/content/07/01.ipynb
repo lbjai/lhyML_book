{
    "cells": [
        {
            "cell_type": "markdown",
            "metadata": {},
            "source": [
                "### \u8fd9\u4e00\u8282\u6211\u4eec\u4e3b\u8981\u5b66\u4e60",
                "+ \u65e0\u76d1\u7763\u5b66\u4e60\u7684\u5206\u7c7b\n",
                "+ \u805a\u7c7b\n",
                "+ \u5206\u5e03\u5f0f\u8868\u5f81\uff08Distributed Representation\uff09\n",
                "+ \u964d\u7ef4\uff08Dimension Reduction\uff09\n",
                "+ PCA \u4e3b\u6210\u5206\u5206\u6790\n",
                "+ \u77e9\u9635\u5206\u89e3"
            ]
        },
        {
            "cell_type": "markdown",
            "metadata": {},
            "source": [
                "### 1. \u65e0\u76d1\u7763\u5b66\u4e60\u7684\u5206\u7c7b\n",
                "\n",
                ""
            ]
        },
        {
            "cell_type": "markdown",
            "metadata": {},
            "source": [
                "![](http://imgbed.momodel.cn/24_1_ul.png)"
            ]
        },
        {
            "cell_type": "markdown",
            "metadata": {},
            "source": [
                "+ \u805a\u7c7b\u548c\u964d\u7ef4\uff08**\u5316\u7e41\u4e3a\u7b80**\uff09<br>\n",
                "\u590d\u6742\u7684input --->  \u7b80\u5355\u7684output\uff0c\u8bad\u7ec3\u65f6\u53ea\u6709\u4e00\u5806\u8f93\u5165\uff0c\u4e0d\u77e5\u9053\u8f93\u51fa<br>\n",
                "+ Generation\uff08\u751f\u6210\u5668\uff0c**\u65e0\u4e2d\u751f\u6709**\uff09<br>\n",
                "\u968f\u673a\u8f93\u5165\uff08\u6bd4\u5982\u8f93\u5165\u4e0d\u540c\u7684\u6570\u5b57\uff09\u5f97\u5230\u4e0d\u540c\u7684\u8f93\u51fa\uff08image\uff09<br>\n",
                "\u77e5\u9053\u8f93\u51fa\uff08image\uff09\uff0c\u4f46\u662f\u4e0d\u77e5\u9053\u8f93\u5165<br>"
            ]
        },
        {
            "cell_type": "markdown",
            "metadata": {},
            "source": [
                "<br>"
            ]
        },
        {
            "cell_type": "markdown",
            "metadata": {},
            "source": [
                "### 2. \u805a\u7c7b\n",
                "![](http://imgbed.momodel.cn/24_3_ul.png)"
            ]
        },
        {
            "cell_type": "markdown",
            "metadata": {},
            "source": [
                "\u5173\u952e\u95ee\u9898\uff1a\u805a\u7c7b\u7684\u4e2a\u6570"
            ]
        },
        {
            "cell_type": "markdown",
            "metadata": {},
            "source": [
                "#### 2.1 k-\u5747\u503c\u805a\u7c7b\uff08K-means\uff09\n",
                "\n",
                "\n",
                "",
                "\n",
                "![](http://imgbed.momodel.cn/24_4_ul_kmeans.png)",
                "+ \u5c06\u6837\u672c X={x1,x2\u2026xN} \u805a\u5408\u6210 K \u4e2a\u7c7b\n",
                "+ \u521d\u59cb\u5316\u7c7b\u4e2d\u5fc3 ci\uff0ci=1,2,\u2026K\n",
                "+ \u91cd\u590d \n",
                "   + \u5229\u7528 ci \u5c06\u6837\u672c\u5206\u4e3a K \u5404\u7c7b \n",
                "   + \u5229\u7528\u5206\u597d\u7684 K \u4e2a\u7c7b\u4e2d\u7684\u6837\u672c\u91cd\u65b0\u7b97\u51fa\u6bcf\u4e00\u4e2a\u7c7b\u7684 ci"
            ]
        },
        {
            "cell_type": "markdown",
            "metadata": {},
            "source": [
                "#### 2.2 \u5206\u7ea7\u805a\u7c7b(Hierarchical Agglomerative Clustering(HAC))\n",
                "\n",
                "\n",
                "",
                "\n",
                "![](http://imgbed.momodel.cn/24_5_ul_HAC.png)",
                "\n",
                "\u5047\u8bbe\u67095\u4e2a\u6837\u672c\uff0c\u8ba1\u7b97\u4e24\u4e24\u4e4b\u95f4\u7684\u76f8\u4f3c\u5ea6\uff0c\u5c06\u6700\u76f8\u4f3c\u7684\u4e24\u4e2a\u6837\u672c\u805a\u5408\u5728\u4e00\u8d77\uff08\u6bd4\u5982\u7b2c\u4e00\u4e2a\u548c\u7b2c\u4e8c\u4e2a\uff09<br>\n",
                "\u518d\u5c06\u5269\u4e0b\u76844\u4e2a\u805a\u5408\u5728\u4e00\u8d77\uff0c\u4ee5\u6b64\u7c7b\u63a8\u3002 "
            ]
        },
        {
            "cell_type": "markdown",
            "metadata": {},
            "source": [
                "<br>"
            ]
        },
        {
            "cell_type": "markdown",
            "metadata": {},
            "source": [
                "### 3. \u5206\u5e03\u5f0f\u8868\u5f81\uff08Distributed Representation\uff09\n",
                "\n",
                "\n",
                "",
                "\n",
                "\n",
                "![](http://imgbed.momodel.cn/24_6_ul_DR.png)",
                "\n",
                "\u4ec5\u4ec5\u505a\u805a\u7c7b\u662f\u4e0d\u51c6\u786e\u7684\uff0c\u6709\u7684\u4e2a\u4f53\u5e76\u4e0d\u53ea\u5c5e\u4e8e\u4e00\u4e2a\u5927\u7c7b\uff0c\u6240\u4ee5\u9700\u8981\u4e00\u4e2a\u5411\u91cf\u6765\u8868\u793a\u5728\u5404\u4e2a\u7c7b\u4e2d\u7684\u6982\u7387\u3002<br>\n",
                "\u8fd9\u6837\uff0c\u4ece\u4e00\u4e2a\uff08\u9ad8\u7ef4\uff09\u56fe\u7247\u5230\u4e00\u4e2a\u5404\u5c5e\u6027\u6982\u7387\uff08\u4f4e\u7ef4\uff09\u5c31\u662f\u4e00\u4e2a\u964d\u7ef4\u3002\n",
                "+ \u805a\u7c7b\uff1a\u4e00\u4e2a\u5bf9\u8c61\u5fc5\u987b\u5c5e\u4e8e\u4e00\u4e2a\u7c7b\u522b\uff1b\n",
                "+ \u964d\u7ef4\uff1a\u76f4\u63a5\u6309\u7167\u7279\u5f81\u7684\u5206\u5e03\u6765\u9009\u53d6\u6709\u5206\u5e03\u7684\u7279\u5f81\u3002"
            ]
        },
        {
            "cell_type": "markdown",
            "metadata": {},
            "source": [
                "<br>"
            ]
        },
        {
            "cell_type": "markdown",
            "metadata": {},
            "source": [
                "### 4. \u964d\u7ef4\uff08Dimension Reduction\uff09\n",
                "\n",
                "",
                "\n",
                "\n",
                "\u4e3a\u4ec0\u4e48\u8bf4\u964d\u7ef4\u662f\u5f88\u6709\u7528\u7684\u5462\uff1f <br>\n",
                "\u6709\u65f6\u5019\u57283D\u79cd\u5f88\u590d\u6742\u7684\u56fe\u50cf\u52302D\u79cd\u5c31\u88ab\u7b80\u5316\u4e86<br>\n",
                "![](http://imgbed.momodel.cn/24_7_ul_DR.png)"
            ]
        },
        {
            "cell_type": "markdown",
            "metadata": {},
            "source": [
                "![](http://imgbed.momodel.cn/24_8_ul_DR.png)"
            ]
        },
        {
            "cell_type": "markdown",
            "metadata": {},
            "source": [
                "\u5728 MNIST \u8bad\u7ec3\u96c6\u4e2d\uff0c\u5f88\u591a28X28\u7ef4\u7684\u5411\u91cf\u8f6c\u6210\u56fe\u50cf\u770b\u8d77\u6765\u6839\u672c\u4e0d\u50cf\u6570\u5b57\uff0c<br>\n",
                "\u76f4\u89c9\u4e0a\u53ef\u4ee5\u7406\u89e3\u5411\u91cf\u4e2d\u4e0e\u6570\u5b57\u6709\u5173\u7684\u5411\u91cf\u7ef4\u6570\u8f83\u5c11\uff08\u80cc\u666f\u7684\u50cf\u7d20\u70b9\u5747\u4e3a\u65e0\u6548\u5411\u91cf\uff09\uff0c\u6240\u4ee5\u6211\u4eec\u53ef\u4ee5\u7528\u5c11\u4e8e28X28\u7ef4\u7684\u5411\u91cf\u6765\u63cf\u8ff0\u5b83\u3002 <br>\n",
                "\u6bd4\u5982\u4e0a\u56fe\u4e00\u58063\uff0c\u6bcf\u4e00\u4e2a\u90fd\u662f28X28\u7ef4\u7684\u5411\u91cf\uff0c\u4f46\u662f\u6211\u4eec\u53d1\u73b0\uff0c\u5b83\u4eec\u4ec5\u4ec5\u662f\u89d2\u5ea6\u7684\u4e0d\u540c\uff0c<br>\n",
                "\u6240\u4ee5\u6211\u4eec\u53ef\u4ee5\u52a0\u4e0a\u89d2\u5ea6\u503c\u8fdb\u884c\u964d\u7ef4\uff0c\u6765\u7b80\u5316\u8868\u793a\u3002<br>"
            ]
        },
        {
            "cell_type": "markdown",
            "metadata": {},
            "source": [
                "![](http://imgbed.momodel.cn/24_9_ul_DR.png)"
            ]
        },
        {
            "cell_type": "markdown",
            "metadata": {},
            "source": [
                "\u964d\u7ef4\u4e00\u822c\u6709\u4e24\u4e2a\u65b9\u6cd5\uff1a\n",
                "+ \u7279\u5f81\u9009\u62e9\uff08Feature selection \uff09\uff1a<br>\n",
                "    \u6bd4\u5982\u5728\u5de6\u56fe\u4e8c\u7ef4\u5750\u6807\u7cfb\u4e2d\uff0c\u6211\u4eec\u53d1\u73b0X1\u8f74\u5bf9\u6837\u672c\u70b9\u5f71\u54cd\u4e0d\u5927\uff0c\u90a3\u4e48\u5c31\u53ef\u4ee5\u628a\u5b83\u62ff\u6389\u3002<br> \n",
                "    <br>\n",
                "+ \u4e3b\u6210\u5206\u5206\u6790\uff08PCA \uff09\uff1a <br>\n",
                "    \u8f93\u51fa z=Wx \u8f93\u5165\uff0c\u627e\u5230\u8fd9\u4e2a\u5411\u91cf **W** \u3002<br>"
            ]
        },
        {
            "cell_type": "markdown",
            "metadata": {},
            "source": [
                "<br>"
            ]
        },
        {
            "cell_type": "markdown",
            "metadata": {},
            "source": [
                "### 5. \u4e3b\u6210\u5206\u5206\u6790(PCA)\n",
                "\n",
                "\n",
                "\n",
                "#### 5.1 PCA\u539f\u7406\n",
                "\n",
                "\n",
                "\n",
                ""
            ]
        },
        {
            "cell_type": "markdown",
            "metadata": {},
            "source": [
                "![](http://imgbed.momodel.cn/24_10_ul_PCA.png)"
            ]
        },
        {
            "cell_type": "markdown",
            "metadata": {},
            "source": [
                "\u5047\u8bbez\u662f\u4e00\u7ef4\u6570\u636e\uff0c\u5047\u5b9a $||w^1||_2 = 1$\uff0c\u6b64\u65f6 $w^1x$ \u8868\u793a x \u5728 $w^1$ \u4e0a\u7684\u6295\u5f71\uff1b<br>\n",
                "\u76ee\u6807\uff1a\u627e\u5230\u7684 w \u4f7f\u5f97\u6837\u672c\u6295\u5f71\u5728\u8fd9\u4e00\u5411\u91cf\u4e0a\u7684\u70b9\u7684\u5206\u5e03\u65b9\u5dee\u6700\u5927\uff0c\u5982\u56fe\uff0c\u6211\u4eec\u9009\u62e9 Large variance \u8fd9\u4e00\u5411\u91cf\u3002\n"
            ]
        },
        {
            "cell_type": "markdown",
            "metadata": {},
            "source": [
                "![](http://imgbed.momodel.cn/24_11_ul_PCA.png)"
            ]
        },
        {
            "cell_type": "markdown",
            "metadata": {},
            "source": [
                "\u73b0\u5728\u8003\u8651\u9ad8\u7ef4\u60c5\u51b5\uff0c\u6b64\u65f6\u540c\u6837\u7684\u601d\u8def\u4e5f\u662f\u627e\u5230\u76f8\u4e92**\u5782\u76f4**\u7684 $w^1,w^2\u2026w^K$ \uff0c\u4f7f\u5f97 $z^1,z^2\u2026z^K$ \u5206\u5e03\u65b9\u5dee\u6700\u5927\u3002 "
            ]
        },
        {
            "cell_type": "markdown",
            "metadata": {},
            "source": [
                "#### 5.2 PCA\u6570\u5b66\u63a8\u5bfc\u90e8\u5206\n",
                "\n",
                "\n",
                ""
            ]
        },
        {
            "cell_type": "markdown",
            "metadata": {},
            "source": [
                "![](http://imgbed.momodel.cn/24_12_ul_PCA.png)"
            ]
        },
        {
            "cell_type": "markdown",
            "metadata": {},
            "source": [
                "\u7ecf\u8fc7\u4e00\u7cfb\u5217\u7684\u6570\u5b66\u63a8\u5bfc\uff0c\u6700\u540e\u76ee\u6807\u51fd\u6570\u8f6c\u5316\u4e3a\u5982\u4e0b\u5f62\u5f0f\uff1a\n",
                "\n",
                "![](http://imgbed.momodel.cn/24_13_ul_PCA.png)"
            ]
        },
        {
            "cell_type": "markdown",
            "metadata": {},
            "source": [
                "![](http://imgbed.momodel.cn/24_15_ul_PCA.png)",
                "\n"
            ]
        },
        {
            "cell_type": "markdown",
            "metadata": {},
            "source": [
                "\u5728\u6c42\u89e3\u7684\u8fc7\u7a0b\u4e2d\uff1a\u53ea\u9700\u8981\u77e5\u9053\u4e0a\u56fe\u4e2d\u7ea2\u8272\u65b9\u6846\u7684\u7ed3\u8bba\u5373\u53ef\uff1a<br>\n",
                "**$w^1$\u662f\u534f\u65b9\u5dee\u77e9\u9635S\u7684\u7279\u5f81\u5411\u91cf\uff1b\u5e76\u4e14\u4e0e\u5176\u76f8\u5bf9\u5e94\u7684\u6700\u5927\u7279\u5f81\u503c$\\lambda_1$**<br>"
            ]
        },
        {
            "cell_type": "markdown",
            "metadata": {},
            "source": [
                "\u540c\u7406\u8ba1\u7b97 $w^2$"
            ]
        },
        {
            "cell_type": "markdown",
            "metadata": {},
            "source": [
                "![](http://imgbed.momodel.cn/24_16_ul_PCA1.png)",
                "\n",
                "\n"
            ]
        },
        {
            "cell_type": "markdown",
            "metadata": {},
            "source": [
                "\u7ed3\u8bba:<br> \n",
                "**$w^2$ \u662f\u534f\u65b9\u5dee\u77e9\u9635 S \u7684\u7279\u5f81\u5411\u91cf\uff1b\u5e76\u4e0e\u5176\u7b2c\u4e8c\u5927\u7279\u5f81\u503c $\\lambda_2$** \u76f8\u5bf9\u5e94<br>"
            ]
        },
        {
            "cell_type": "markdown",
            "metadata": {},
            "source": [
                "####  5.3 PCA\n",
                "\n",
                "",
                "\n"
            ]
        },
        {
            "cell_type": "markdown",
            "metadata": {},
            "source": [
                "![](http://imgbed.momodel.cn/24_17_ul_PCA.png)"
            ]
        },
        {
            "cell_type": "markdown",
            "metadata": {},
            "source": [
                "\u964d\u7ef4\u4e4b\u540e\u7684 z \u4e4b\u95f4\u5f7c\u6b64\u662f\u4e92\u76f8\u5782\u76f4\u7684\uff08 cov(z) \u662f\u4e00\u4e2a\u5bf9\u89d2\u77e9\u9635\uff09\uff0c<br>\n",
                "\u7531\u6b64\u5f97\u51fa\u7684\u7ed3\u679c\u518d\u4f5c\u4e3a\u5176\u4ed6\u6a21\u578b\u7684\u8f93\u5165\uff0c\u53ef\u4ee5\u5927\u5927\u51cf\u5c11\u6a21\u578b\u7684\u53c2\u6570\u3002<br> "
            ]
        },
        {
            "cell_type": "markdown",
            "metadata": {},
            "source": [
                "####  5.4 SVD \u5bf9 PCA \u8fdb\u884c\u6c42\u89e3\n",
                "\n",
                ""
            ]
        },
        {
            "cell_type": "markdown",
            "metadata": {},
            "source": [
                "![](http://imgbed.momodel.cn/24_18_ul_PCA_svd.png)"
            ]
        },
        {
            "cell_type": "markdown",
            "metadata": {},
            "source": [
                "![](http://imgbed.momodel.cn/24_19_ul_PCA_svd.png)"
            ]
        },
        {
            "cell_type": "markdown",
            "metadata": {},
            "source": [
                "![](http://imgbed.momodel.cn/24_20_ul_PCA_svd.png)"
            ]
        },
        {
            "cell_type": "markdown",
            "metadata": {},
            "source": [
                "![](http://imgbed.momodel.cn/24_21_ul_PCA_svd.png)"
            ]
        },
        {
            "cell_type": "markdown",
            "metadata": {},
            "source": [
                "U \u7684 K \u5217\uff1a$XX^T$\u7684 K \u4e2a\u6700\u5927\u7279\u5f81\u503c\u5bf9\u5e94\u7684\u4e00\u7ec4\u6807\u51c6\u6b63\u4ea4**\u7279\u5f81\u5411\u91cf**<br>\n",
                "$\\sum$\uff1a$XX^T$ \u7684\u975e\u8d1f\u7279\u5f81\u503c<br>\n",
                "\n",
                "SVD \u77e9\u9635\u5206\u89e3\u77e5\u8bc6\uff1a<br>\n",
                "http://speech.ee.ntu.edu.tw/~tlkagk/courses/LA_2016/Lecture/SVD.pdf"
            ]
        },
        {
            "cell_type": "markdown",
            "metadata": {},
            "source": [
                "#### 5.5 \u4ece NN \u89d2\u5ea6\u7406\u89e3 PCA\n",
                "\n",
                "\n",
                "",
                "\n"
            ]
        },
        {
            "cell_type": "markdown",
            "metadata": {},
            "source": [
                "![](http://imgbed.momodel.cn/24_22_ul_PCA_nn.png)"
            ]
        },
        {
            "cell_type": "markdown",
            "metadata": {},
            "source": [
                "\u8bad\u7ec3\u8fd9\u4e2aNN\u7684\u53c2\u6570\uff0c\u8ba9\u8f93\u5165\u548c\u8f93\u51fa\u8d8a\u63a5\u8fd1\u8d8a\u597d\u3002<br> \n",
                "\u4e0d\u80fd\u7528 gradient descent \uff0c\u56e0\u4e3a\u4e0d\u80fd\u4fdd\u8bc1 $w^i,w^j$ \u6b63\u4ea4\u3002<br> \n",
                "\u6548\u679c\u4e5f\u4e0d\u4f1a\u6bd4 SVD \u65b9\u6cd5\u66f4\u597d\u3002<br> "
            ]
        },
        {
            "cell_type": "markdown",
            "metadata": {},
            "source": [
                "#### 5.6 PCA\u7684\u7f3a\u70b9\n",
                "\n",
                "",
                "\n",
                "![](http://imgbed.momodel.cn/24_23_ul_PCA_shortcoming.png)"
            ]
        },
        {
            "cell_type": "markdown",
            "metadata": {},
            "source": [
                "+ PCA \u662f\u65e0\u76d1\u7763\u7684\uff0c\u4e0d\u77e5\u9053\u6570\u636e\u7684\u6807\u7b7e\uff0c\u8fd9\u6837\u5728\u964d\u7ef4\u6620\u5c04\u4e4b\u540e\u53ef\u80fd\u4f1a\u628a\u4e24\u7c7b\u6570\u636e\u6df7\u5230\u4e00\u8d77\u3002<br> \n",
                "    \u8003\u8651\u6570\u636e\u6807\u7b7e\u7684\u65b9\u6cd5 LDA\uff08Linear Discriminant Analysis\uff09\u53ef\u4ee5\u907f\u514d\u8fd9\u4e00\u95ee\u9898\u3002<br> \n",
                "+ PCA \u662f\u7ebf\u6027\u7684\u3002\u628a\u4e00\u4e2a\u4e09\u7ef4\u7a7a\u95f4\u4e2d\u7684S\u5f62\u5206\u5e03\u7684\u6570\u636e\u505a PCA \u4e4b\u540e\u7684\u6548\u679c\uff0c\u5c31\u662f\u628a S \u5f62\u62cd\u6241\uff0c\u800c\u975e\u5c55\u5f00\u3002\n"
            ]
        },
        {
            "cell_type": "markdown",
            "metadata": {},
            "source": [
                "#### 5.7 PCA \u5b9e\u4f8b\u5316\n",
                "\n",
                "\n",
                "\n",
                "",
                "\n"
            ]
        },
        {
            "cell_type": "markdown",
            "metadata": {},
            "source": [
                "+ \u5bf9\u5b9d\u53ef\u68a6\u505aPCA\n",
                "<br>\n"
            ]
        },
        {
            "cell_type": "markdown",
            "metadata": {},
            "source": [
                "![](http://imgbed.momodel.cn/24_24_ul_PCA_bkm.png)"
            ]
        },
        {
            "cell_type": "markdown",
            "metadata": {},
            "source": [
                "![](http://imgbed.momodel.cn/24_25_ul_PCA_bkm.png)"
            ]
        },
        {
            "cell_type": "markdown",
            "metadata": {},
            "source": [
                "![](http://imgbed.momodel.cn/24_26_ul_PCA_bkm.png)"
            ]
        },
        {
            "cell_type": "markdown",
            "metadata": {},
            "source": [
                "\u6bcf\u4e2a\u5b9d\u53ef\u68a6\u662f\u516d\u7ef4\u5411\u91cf\uff0c\u8ba1\u7b97\u51fa6\u4e2a\u7279\u5f81\u503c\uff0c\u8ba1\u7b976\u4e2a\u7279\u5f81\u503c\u7684 ratio \uff0c<br>\n",
                "\u820d\u53bb\u8f83\u5c0f\u7684\uff08\u53ea\u53d6\u524d\u56db\u4e2a\u7279\u5f81\u503c\u7684\u7279\u5f81\u5411\u91cf\u4f5c\u4e3a\u65b0\u7684\u7279\u5f81\uff09<br>\n",
                "\u7279\u5f81\u503c\u7684\u610f\u4e49\u662f\uff0c PCA \u964d\u7ef4\u65f6\uff0c\u5728\u76f8\u5e94\u7ef4\u5ea6\u7684 variance \u6709\u591a\u5927\u3002<br> \n",
                "\u6bcf\u4e2a PC \u90fd\u662f\u4e00\u4e2a\u516d\u7ef4\u5411\u91cf\uff0c\u5206\u6790\u5b83\u4eec\u5728\u54ea\u4e2a\u7ef4\u5ea6\u662f\u5927\u7684\u6b63\u503c/\u8d1f\u503c\uff0c<br> \n",
                "\u53ef\u4ee5\u5206\u6790\u51fa\u8fd9\u4e2a PC \u6240\u4ee3\u8868\u7684\u610f\u4e49\u3002<br> "
            ]
        },
        {
            "cell_type": "markdown",
            "metadata": {},
            "source": [
                "+ PCA-MNIST"
            ]
        },
        {
            "cell_type": "markdown",
            "metadata": {},
            "source": [
                "![](http://imgbed.momodel.cn/24_26_ul_PCA_MNIST.png)"
            ]
        },
        {
            "cell_type": "markdown",
            "metadata": {},
            "source": [
                "\u5bf9\u624b\u5199\u6570\u5b57\u8bc6\u522b\uff0c\u53d6\u524d30\u4e2a PC \uff0c\u5982\u4e0a\u56fe\uff1a<br>\n",
                "\u767d\u8272\u90e8\u5206\u4ee3\u8868\u6709\u7b14\u753b\uff0c\u524d\u9762\u770b\u8d77\u6765\u6bd4\u8f83\u6e05\u6670\uff0c\u540e\u9762\u5c31\u6bd4\u8f83\u590d\u6742\u3002<br>"
            ]
        },
        {
            "cell_type": "markdown",
            "metadata": {},
            "source": [
                "+ PCA-Face"
            ]
        },
        {
            "cell_type": "markdown",
            "metadata": {},
            "source": [
                "\n",
                "![](http://imgbed.momodel.cn/24_26_ul_PCA_FACE.png)"
            ]
        },
        {
            "cell_type": "markdown",
            "metadata": {},
            "source": [
                "\u5bf9\u4eba\u8138\uff0c\u53d6\u524d30\u4e2a PC \uff0c\u6bcf\u4e2a PC \u62fc\u6210\u56fe\u7247\uff0c\u53d1\u73b0\u90fd\u662f\u8138\uff0c\u800c\u4e0d\u662f\u8138\u7684\u4e00\u90e8\u5206\u3002"
            ]
        },
        {
            "cell_type": "markdown",
            "metadata": {},
            "source": [
                "#### 5.8  What happens to PCA?\n",
                "\n",
                ""
            ]
        },
        {
            "cell_type": "markdown",
            "metadata": {},
            "source": [
                "![](http://imgbed.momodel.cn/24_27_ul_PCA.png)"
            ]
        },
        {
            "cell_type": "markdown",
            "metadata": {},
            "source": [
                "+  \u5bf9\u6570\u5b57\u548c\u4eba\u8138\u505aNMF<br>\n",
                "\u6b64\u65f6\u5f97\u5230\u7684\u90fd\u662f\u201c\u90e8\u5206\u201d\uff1a"
            ]
        },
        {
            "cell_type": "markdown",
            "metadata": {},
            "source": [
                "![](http://imgbed.momodel.cn/24_28_ul_PCA_NMF_M.png)",
                "\n"
            ]
        },
        {
            "cell_type": "markdown",
            "metadata": {},
            "source": [
                "![](http://imgbed.momodel.cn/24_28_ul_PCA_NMF_F.png)"
            ]
        },
        {
            "cell_type": "markdown",
            "metadata": {},
            "source": [
                "<br>"
            ]
        },
        {
            "cell_type": "markdown",
            "metadata": {},
            "source": [
                "### 6. \u77e9\u9635\u5206\u89e3\n",
                "\n",
                ""
            ]
        },
        {
            "cell_type": "markdown",
            "metadata": {},
            "source": [
                "\u4eba\u4e70\u516c\u4ed4\uff0c\u4eba\u548c\u516c\u4ed4\u80cc\u540e\u90fd\u6709\u5171\u540c\u7684\u9690\u85cf\u5c5e\u6027\u5f71\u54cd\u4eba\u4e70\u591a\u5c11\u516c\u4ed4\uff0c\u4f8b\u5982\uff1a<br>\n",
                "\u4eba\u7684\u5c5e\u6027\uff1a\u840c\u50b2\u5a07/\u840c\u5929\u7136\u5446\uff1b\u516c\u4ed4\u7684\u5c5e\u6027\uff1a\u50b2\u5a07/\u5929\u7136\u5446\u3002<br> \n",
                "\u6211\u4eec\u8981\u4ece\u8d2d\u4e70\u8bb0\u5f55\uff08\u77e9\u9635\uff09\u4e2d\u63a8\u65ad\u51fa latent factor \uff0clatent factor \u7684\u6570\u76ee\u9700\u8981\u4e8b\u5148\u5b9a\u597d\u3002<br> "
            ]
        },
        {
            "cell_type": "markdown",
            "metadata": {},
            "source": [
                "![](http://imgbed.momodel.cn/24_29_ul_MF1.png)"
            ]
        },
        {
            "cell_type": "markdown",
            "metadata": {},
            "source": [
                "**[\u6ce8\u610f]**\uff1a\u77e9\u9635\u5206\u89e3\u7684\u7b2c\u4e00\u4e2a\u77e9\u9635\u5e94\u8be5\u4e3a M X K<br>\n",
                "\u5bf9\u77e9\u9635\u8fdb\u884c SVD \u5206\u89e3\uff0c SVD \u5206\u89e3\u540e\u7684\u77e9\u9635 $\\sum$ \u5e76\u5165\u5de6\u8fb9\u6216\u8005\u53f3\u8fb9\u90fd\u53ef\u4ee5\u3002"
            ]
        },
        {
            "cell_type": "markdown",
            "metadata": {},
            "source": [
                "![](http://imgbed.momodel.cn/24_30_ul_MF2.png)"
            ]
        },
        {
            "cell_type": "markdown",
            "metadata": {},
            "source": [
                "\u5bf9\u7f3a\u5931\u503c\u7684\u5904\u7406\uff08missing data\uff09\uff1a<br>\n",
                "\u5148\u5b9a\u4e49 loss function L\uff08\u53ea\u8003\u8651\u6709\u5b9a\u4e49\u7684\u6570\u636e\uff09\uff0c\u7528 gradient descent \u5b9e\u73b0\u3002<br>"
            ]
        },
        {
            "cell_type": "markdown",
            "metadata": {},
            "source": [
                "![](http://imgbed.momodel.cn/24_31_ul_MF3.png)"
            ]
        },
        {
            "cell_type": "markdown",
            "metadata": {},
            "source": [
                "\u5f97\u5230$rA,rB,rC,rD,rE,r1,r2,r3,r4rA,rB,rC,rD,rE,r1,r2,r3,r4$ \u4e4b\u540e\uff0c\u5e76\u4e0d\u77e5\u9053\u6bcf\u4e2a\u7ef4\u5ea6\u4ee3\u8868\u4ec0\u4e48\u5c5e\u6027\uff0c\u9700\u8981\u4e8b\u540e\u5206\u6790\u3002\n",
                "\n",
                "\u5df2\u77e5\u59d0\u5bfa\u4e0e\u5c0f\u552f\u5c5e\u4e8e\u5929\u7136\u5446\u7c7b\u578b\u3001\u6625\u65e5\u4e0e\u70ae\u59d0\u5c5e\u4e8e\u50b2\u5a07\u7c7b\u578b\uff0c\u6240\u4ee5\u7b2c\u4e00\u4e2a\u7ef4\u5ea6\u4ee3\u8868\u5929\u7136\u5446\uff0c\u7b2c\u4e8c\u4e2a\u7ef4\u5ea6\u4ee3\u8868\u50b2\u5a07\u3002\n"
            ]
        },
        {
            "cell_type": "markdown",
            "metadata": {},
            "source": [
                "![](http://imgbed.momodel.cn/24_32_ul_MF4.png)"
            ]
        },
        {
            "cell_type": "markdown",
            "metadata": {},
            "source": [
                "$b_A$\uff1a\u8868\u793a A \u8d2d\u4e70\u516c\u4ed4\u7684\u559c\u6b22\u7a0b\u5ea6\uff1b\u4e0e\u5c5e\u6027\u65e0\u5173<br>\n",
                "$b_1$\uff1a\u8868\u793a\u516c\u4ed41\u88ab\u8d2d\u4e70\u7684\u7a0b\u5ea6\uff1b\u4e0e\u5c5e\u6027\u65e0\u5173<br>\n",
                "\n",
                "\u53c2\u8003\u8d44\u6599\uff1ahttp://www.quuxlabs.com/blog/2010/09/matrix-factorization-a-simple-tutorial-and-implementation-in-python/"
            ]
        },
        {
            "cell_type": "markdown",
            "metadata": {},
            "source": [
                "### 7. \u4f5c\u4e1a\uff1a\u5bf9\u4e3b\u9898\u5206\u6790\u8fdb\u884c\u77e9\u9635\u5206\u89e3"
            ]
        },
        {
            "cell_type": "markdown",
            "metadata": {},
            "source": [
                "![](http://imgbed.momodel.cn/24_33_ul_MF.png)",
                "![](http://imgbed.momodel.cn/24_33_ul_MF1.png)"
            ]
        },
        {
            "cell_type": "markdown",
            "metadata": {},
            "source": [
                "**\u725b\u5200\u5c0f\u8bd5**\n",
                "\n",
                "K-means \u4e0e HAC \u7684\u533a\u522b?"
            ]
        },
        {
            "cell_type": "markdown",
            "metadata": {},
            "source": [
                "\n",
                "<span class='md-hint-alone-link pop 0'>\u67e5\u770b\u7b54\u6848</span>"
            ]
        }
    ],
    "metadata": {
        "kernelspec": {
            "display_name": "Python 3",
            "language": "python",
            "name": "python3"
        },
        "language_info": {
            "codemirror_mode": {
                "name": "ipython",
                "version": 3
            },
            "file_extension": ".py",
            "mimetype": "text/x-python",
            "name": "python",
            "nbconvert_exporter": "python",
            "pygments_lexer": "ipython3",
            "version": "3.5.2"
        }
    },
    "nbformat": 4,
    "nbformat_minor": 2
}