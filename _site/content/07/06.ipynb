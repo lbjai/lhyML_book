{
    "cells": [
        {
            "cell_type": "markdown",
            "metadata": {},
            "source": [
                "### \u8fd9\u4e00\u8282\u6211\u4eec\u4e3b\u8981\u5b66\u4e60",
                "\n",
                "+ \u4e3a\u4ec0\u4e48\u4f7f\u7528VAE\n",
                "+ \u9ad8\u65af\u6df7\u5408\u6a21\u578b\uff08Gaussian Mixture Model\uff09\n",
                "+ VAE\u7684\u95ee\u9898\n",
                "+ \u751f\u6210\u5bf9\u6297\u7f51\u7edc\uff08GAN\uff09"
            ]
        },
        {
            "cell_type": "markdown",
            "metadata": {},
            "source": [
                "### 1. \u4e3a\u4ec0\u4e48\u4f7f\u7528VAE\uff1f\n",
                "\n",
                "",
                "\n"
            ]
        },
        {
            "cell_type": "markdown",
            "metadata": {},
            "source": [
                "![](http://imgbed.momodel.cn/29_01_ul_VAE.png)"
            ]
        },
        {
            "cell_type": "markdown",
            "metadata": {},
            "source": [
                "\u4e3a\u4ec0\u4e48\u8981\u7528VAE\uff1f<br>\n",
                "\u4e00\u4e2a\u76f4\u89c9\u7684\u89e3\u91ca\u662f\uff0c auto-encoder \u7684 encoder \u4e0e decoder \u90fd\u662f\u975e\u7ebf\u6027\u7684\uff0c<br>\n",
                "\u4f7f\u7528 auto-encoder \u65f6\uff0c\u4e2d\u95f4\u7684 code \u4e0e\u6ee1\u6708\u7684 code \u548c\u5f26\u6708\u7684 code \u90fd\u6709\u504f\u5dee\uff0c\u6240\u4ee5\u5f88\u96be\u9884\u6d4b\u95ee\u53f7\u5904\u662f\u4e00\u5f20\u4ecb\u4e8e\u6ee1\u6708\u4e0e\u5f26\u6708\u4e4b\u95f4\u7684\u56fe\u50cf\u3002<br>\n",
                "\u800c VAE \u4f7f\u5f97 code \u52a0\u4e0a\u566a\u58f0\u4e4b\u540e\u8fd8\u80fd\u6062\u590d\u51fa\u6765\uff0c<br>\n",
                "\u8fd9\u6837\u95ee\u53f7\u5904\u7684 code \u867d\u7136\u4e0e\u6ee1\u6708\u6216\u5f26\u6708\u7684 code \u6709\u504f\u5dee\u53ef\u4ecd\u6709\u53ef\u80fd\u6062\u590d\u51fa\u4ecb\u4e8e\u4e24\u8005\u4e4b\u95f4\u7684\u56fe\u50cf\u3002<br>\n"
            ]
        },
        {
            "cell_type": "markdown",
            "metadata": {},
            "source": [
                "![](http://imgbed.momodel.cn/29_02_ul_VAE.png)"
            ]
        },
        {
            "cell_type": "markdown",
            "metadata": {},
            "source": [
                "VAE \u662f\u5728 encoder \u7684\u8f93\u51fa\u4e0a\u52a0\u566a\u58f0\uff0c<br>\n",
                "\u800c De-noising auto-encoder \u662f\u5728 encoder input \u4e0a\u52a0\u566a\u58f0 \u3002 <br>\n",
                "\u5982\u679c\u53ea\u6700\u5c0f\u5316\u91cd\u6784\u8bef\u5dee\uff0c\u90a3\u4e48\u8bad\u7ec3\u51fa\u6765\u7684\u7ed3\u679c\u4e0d\u4f1a\u662f\u9884\u671f\u7684\u6837\u5b50\uff0c<br>\n",
                "\u56e0\u4e3a\u65b9\u5dee\u662f\u5b66\u51fa\u6765\u7684\uff0c\u4f1a\u5b66\u6210 0\u3002 <br>\n"
            ]
        },
        {
            "cell_type": "markdown",
            "metadata": {},
            "source": [
                "![](http://imgbed.momodel.cn/29_03_ul_VAE.png)"
            ]
        },
        {
            "cell_type": "markdown",
            "metadata": {},
            "source": [
                "exp \u662f\u4e3a\u4e86\u786e\u4fdd\u65b9\u5dee\u5927\u5c0f\u662f\u6b63\u6570\uff0c<br>\n",
                "\u53f3\u4e0b\u65b9\u7684 minimize \u662f\u4e3a\u4e86\u8ba9\u65b9\u5dee\u4e0d\u80fd\u592a\u5c0f\uff0c<br>\n",
                "\u5176\u4e2d\u7b2c\u4e00\u9879\u4e3a\u84dd\u8272\u66f2\u7ebf\u3001\u7b2c\u4e8c\u9879\u4e3a\u7ea2\u8272\u66f2\u7ebf\u3001\u4e8c\u8005\u76f8\u51cf\u5f97\u7eff\u8272\u66f2\u7ebf\uff0c\u8fd9\u6837\u65b9\u5dee\u6700\u5c0f\u4e3a1\uff0c<br>\n",
                "\u7b2c\u4e09\u9879\u662f L2 \u6b63\u5219\u5316\uff0c\u5e0c\u671b\u53c2\u6570\u7a00\u758f\u907f\u514d\u8fc7\u62df\u5408\u3002<br>"
            ]
        },
        {
            "cell_type": "markdown",
            "metadata": {},
            "source": [
                "![](http://imgbed.momodel.cn/29_04_ul_VAE.png)"
            ]
        },
        {
            "cell_type": "markdown",
            "metadata": {},
            "source": [
                "\u4e0a\u56fe\u4e2d\u7528\u4e00\u7ef4\u8868\u793a\u7684\u662f20X20\u9ad8\u7ef4\u7a7a\u95f4\uff0c\u7136\u540e\u4f30\u8ba1\u5176\u6982\u7387\u5206\u5e03P(x)\uff1b<br>\n",
                "\u7136\u540e\u6839\u636e\u6982\u7387\u5206\u5e03\u751f\u6210\u4e00\u5f20\u5b9d\u53ef\u68a6\u7684\u56fe\u7247\uff1b<br>\n",
                "\u5982\u679c\u56fe\u7247\u662f\u5b9d\u53ef\u68a6\u7684\u7684\u8bdd\uff0c\u5176\u51e0\u7387\u6bd4\u8f83\u9ad8\uff0c\u4e0d\u50cf\u5b9d\u53ef\u68a6\u65f6\u5176\u51e0\u7387\u6bd4\u8f83\u4f4e\u3002"
            ]
        },
        {
            "cell_type": "markdown",
            "metadata": {},
            "source": [
                "### 2. \u9ad8\u65af\u6df7\u5408\u6a21\u578b\uff08Gaussian Mixture Model\uff09\n",
                "\n",
                "\n",
                "",
                "\n"
            ]
        },
        {
            "cell_type": "markdown",
            "metadata": {},
            "source": [
                "![](http://imgbed.momodel.cn/29_05_ul_VAE.png)"
            ]
        },
        {
            "cell_type": "markdown",
            "metadata": {},
            "source": [
                "\u901a\u5e38\u5bf9\u4e8e VAE \u7684\u89e3\u91ca\u5982\u4e0b\uff0c\u6bcf\u4e00\u4e2a\u56fe\u7247\u53ef\u4ee5\u770b\u4f5c\u662f\u9ad8\u7ef4\u7a7a\u95f4\u7684\u4e00\u4e2a\u70b9\uff0c<br>\n",
                "\u800c VAE \u5219\u662f\u4f30\u8ba1\u9ad8\u7ef4\u7a7a\u95f4\u7684\u70b9\u5206\u5e03\uff0c\u5373\u8ba1\u7b97\u51fa P(x)\uff0c\u9009\u53d6\u7684\u8f93\u51fa\u5728\u6982\u7387\u8f83\u5927\u7684\u5730\u65b9\u3002<br>\n",
                "\u8fd9\u91cc\u4f7f\u7528\u9ad8\u65af\u6df7\u5408\u6a21\u578b\u8fdb\u884c\u89e3\u91ca\uff0c\u5982\u4e0a\u56fe\u6240\u793a\uff1a<br>\n",
                "\u590d\u6742\u7684\u6982\u7387\u5206\u5e03\u53ef\u4ee5\u770b\u4f5c\u662f\u591a\u4e2a\u9ad8\u65af\u5206\u5e03\u901a\u8fc7\u4e0d\u540c\u7684\u52a0\u6743\u53e0\u52a0\u7684\u7ed3\u679c\u3002<br>\n",
                "\u5728\u8fdb\u884c\u6982\u7387\u5206\u5e03\u8ba1\u7b97\u65f6\uff0c\u9996\u5148\u51b3\u5b9a\u4ece\u54ea\u4e00\u4e2a\u9ad8\u65af\u5206\u5e03\u8fdb\u884c\u53d6\u6837\uff0c<br>\n",
                "\u7136\u540e\u518d\u8ba1\u7b97\u8be5\u9ad8\u65af\u5206\u5e03\u7684\u6982\u7387\uff0c\u8fd9\u4e5f\u5c31\u5bf9\u5e94\u7684\u5168\u6982\u7387\u516c\u5f0f\u7684\u5f62\u5f0f\u3002<br> \n",
                "\u9996\u5148\uff0c\u4ece multinomial distribution\uff08\u591a\u9879\u5f0f\u5206\u5e03\uff09\u4e2d\u9009\u53d6m\uff0c\u6b64\u65f6m\u4e3a\u6b63\u6574\u6570\uff1b<br>\n",
                "\u5bf9\u4e8e\u6bcf\u4e00\u4e2am\uff0c\u90fd\u5b58\u5728\u5747\u503c\u548c\u65b9\u5dee\uff0c\u5219\u53ef\u4ee5\u5f97\u5230m\u5bf9\u5e94\u7684\u9ad8\u65af\u5206\u5e03\uff0c\u6700\u540e\u5f97\u5230p(x|m)\u3002<br>\n",
                "<br>\n",
                "\u5bf9\u4e8e\u5b9e\u9645\u64cd\u4f5c\uff0c\u9700\u8981\u51b3\u5b9a\u6709\u591a\u5c11\u4e2a mixture \uff0c<br>\n",
                "\u7136\u540e\u6839\u636e\u6570\u636e\uff0c\u91c7\u7528 EM \u65b9\u6cd5\uff0c\u53ef\u4ee5\u5f97\u5230\u6743\u91cd\u3001\u5747\u503c\u548c\u65b9\u5dee\u3002<br>\n",
                "\u8fdb\u4e00\u6b65\u5730\uff0c\u6211\u4eec\u53ef\u4ee5\u91c7\u7528\u79bb\u6563\u5206\u5e03\u4f30\u8ba1\u6765\u8fdb\u884c VAE \u64cd\u4f5c\uff0c\u800c\u4e0d\u662f\u5c40\u9650\u4e8e\u6b64\u5904\u7684\u805a\u7c7b\u64cd\u4f5c\u3002<br>\n"
            ]
        },
        {
            "cell_type": "markdown",
            "metadata": {},
            "source": [
                "![](http://imgbed.momodel.cn/29_06_ul_VAE.png)",
                "\n",
                "\n"
            ]
        },
        {
            "cell_type": "markdown",
            "metadata": {},
            "source": [
                "VAE \u662f\u9ad8\u65af\u6df7\u5408\u6a21\u578b\u7684distributive representation \u7684\u7248\u672c\u3002<br>\n",
                "\u9996\u5148\uff0c\u4ece\u6b63\u6001\u5206\u5e03\u9009\u53d6\u4e00\u4e2az\uff0cz\u4e3a\u5411\u91cf\uff0c\u6bcf\u4e00\u4e2a\u7ef4\u5ea6\u4ee3\u8868\u8981\u9009\u53d6\u7684\u6bcf\u4e00\u4e2a\u7279\u5f81\uff1b<br>\n",
                "\u7136\u540e\u6839\u636ez\u5f97\u5230\u9ad8\u65af\u5206\u5e03\u7684 $\u03bc,\u03c3$ \u5047\u8bbe\u4e3a $\u03bc(z),\u03c3(z)$ \uff0c\u4e5f\u5c31\u662f\u524d\u8ff0\u7684\u53d8\u91cf\u90fd\u662f\u5173\u4e8ez\u7684\u4e00\u4e2a\u5206\u5e03\uff0c<br>\n",
                "\u8fd9\u4e2a\u5206\u5e03\u540c\u6837\u53ef\u4ee5\u4f7f\u7528\u795e\u7ecf\u7f51\u7edc\u8868\u793a\uff0c\u8f93\u5165\u4e3az\uff0c\u8f93\u51fa\u4e3a\u5747\u503c\u5411\u91cf\uff0c<br>\n",
                "\u5bf9\u4e8e\u65b9\u5dee\u77e9\u9635\uff0c\u53ef\u4ee5\u5c06\u5176\u5411\u91cf\u5316\u6216\u8005\u91c7\u7528\u8f93\u51fa\u5bf9\u89d2\u7ebf\u5143\u7d20\uff0c non-diagonal \u5143\u7d20\u4e3a0\uff0c<br>\n",
                "\u6700\u7ec8\u7684\u6982\u7387\u4e3a$P(x)$\u3002\n",
                "\n"
            ]
        },
        {
            "cell_type": "markdown",
            "metadata": {},
            "source": [
                "![](http://imgbed.momodel.cn/29_07_ul_VAE.png)"
            ]
        },
        {
            "cell_type": "markdown",
            "metadata": {},
            "source": [
                "\u5bf9\u4e8e code space \u4e2d\u7684\u4e00\u4e2a\u5411\u91cfz\uff0c\u5411\u91cfz\u7b26\u5408\u67d0\u4e2a\u5206\u5e03\uff08\u4e00\u822c\u4e3a\u9ad8\u65af\u5206\u5e03\uff09\uff0c<br>\n",
                "\u9700\u8981\u5229\u7528\u795e\u7ecf\u7f51\u7edc\u8868\u793a\u51fa$\u03bc(z),\u03c3(z)$\uff0c<br>\n",
                "\u8f93\u51fa\u7684\u7ed3\u679c\u5728\u8fdb\u884c\u5b8c\u5168\u7684 decode \u540e\uff0c\u5f97\u5230x\uff0c\u9700\u8981\u4fdd\u8bc1\u4e0a\u8ff0p(x)\u7684\u4f3c\u7136\u51fd\u6570\u6700\u5927\u3002<br>"
            ]
        },
        {
            "cell_type": "markdown",
            "metadata": {},
            "source": [
                "![](http://imgbed.momodel.cn/29_09_ul_VAE.png)"
            ]
        },
        {
            "cell_type": "markdown",
            "metadata": {},
            "source": [
                "\u5c06\u4f3c\u7136\u51fd\u6570 P(x) \u5206\u89e3\uff0c\u5176\u4e2d q(z|x) \u53ef\u4ee5\u4e3a\u4efb\u610f\u6982\u7387\u5206\u5e03\uff0c\n",
                "\u6700\u540e\u5316\u7b80\u7684\u53f3\u4fa7\u9879\u4e3a KL-divergence \uff0c\u8861\u91cf\u4e24\u4e2a\u6982\u7387\u5206\u5e03\u7684\u76f8\u4f3c\u7a0b\u5ea6\uff08\u76f8\u5bf9\u71b5\uff09\uff0c\n",
                "\u5f97\u5230\u4e86\u4e0b\u8fb9\u754c$L_b$\u3002 "
            ]
        },
        {
            "cell_type": "markdown",
            "metadata": {},
            "source": [
                "![](http://imgbed.momodel.cn/29_10_ul_VAE.png)"
            ]
        },
        {
            "cell_type": "markdown",
            "metadata": {},
            "source": [
                "$logP(x)$\u53ea\u4e0eP(x|z)\u6709\u5173\uff0c\u4e0eq(z|x)\u65e0\u5173\uff1b<br>\n",
                "\u5bfb\u627eP(x|z)\u548cq(z|x),\u4f7f\u5f97$L_b$\u6700\u5927\uff1b<br>\n",
                "\u5373\uff1a\u627e\u5230\u5408\u9002\u7684q(z|x)\u4f7f\u5f97$L_b$\u4e0e$logP(x)$\u8d8a\u6765\u8d8a\u63a5\u8fd1\uff1b<br>\n",
                "\u800c\u5982\u679c\u80fd\u591f\u6700\u5927\u5316$L_b$\uff0c\u5219\u4f1a\u6700\u5c0f\u5316KL\uff0c<br>\n",
                "\u8fd9\u610f\u5473\u7740\u4f3c\u7136\u51fd\u6570 logP(x) \u4e0e$L_b$\u9010\u6e10\u9760\u8fd1\u3002<br>\n",
                "\u6700\u540e\u4f7f\u5f97\uff1aq(z|x)\u8d8a\u6765\u8d8a\u63a5\u8fd1p(z|x)\n"
            ]
        },
        {
            "cell_type": "markdown",
            "metadata": {},
            "source": [
                "![](http://imgbed.momodel.cn/29_11_ul_VAE.png)"
            ]
        },
        {
            "cell_type": "markdown",
            "metadata": {},
            "source": [
                "\u6700\u540e\u5316\u7b80$L_b$\u5f0f\u5b50\u5982\u4e0a\u56fe\uff0c\u5305\u542b\u4e86\u4e00\u4e2a KL-divergence \u548c\u4e00\u4e2a\u79ef\u5206\u9879\uff0c<br>\n",
                "\u9700\u8981\u6700\u5c0f\u5316 KL-divergence \uff0c\u5bf9\u5e94\u4e8e regularization \u9879\u7684\u524d\u4e24\u4e2a\u3002<br>"
            ]
        },
        {
            "cell_type": "markdown",
            "metadata": {},
            "source": [
                "![](http://imgbed.momodel.cn/29_12_ul_VAE.png)"
            ]
        },
        {
            "cell_type": "markdown",
            "metadata": {},
            "source": [
                "\u6700\u5c0f\u5316 KL(q(z|x)||P(z)) \uff1a<br>\n",
                "\u5bf9\u4e8ex\uff0c\u8fdb\u5165 encoder \u795e\u7ecf\u7f51\u7edc\uff0c\u8868\u793a\u51fa$\u03bc^{'}(x),\u03c3^{'}(x)$\uff0c<br>\n",
                "\u5176\u5b9e\u4ee5\u4e0a\u8fc7\u7a0b\u5c31\u7b49\u4ef7\u4e8e\u4e0a\u56fe\u4e2d\u9ec4\u8272\u65b9\u6846\u90a3\u90e8\u5206\u5185\u5bb9\u3002\u5177\u4f53\u53ef\u4ee5\u53c2\u8003\u540e\u9762\u7684\u8bba\u6587<br>\n",
                "<br>\n",
                "\u6700\u5927\u5316\u79ef\u5206\u9879\uff1a<br>\n",
                "\u9996\u5148\u5bf9\u4e8ex\uff0c\u8fdb\u5165 encoder \uff0c\u5f97\u5230x\u7684 mean \u548c variance \uff1b<br>\n",
                "\u5176\u6b21\u6839\u636ex\u7684 mean \u548c variance \u5f97\u5230z\uff1b<br>\n",
                "\u7136\u540e\u5c06z\u8f93\u5165\u5230 decoder \u795e\u7ecf\u7f51\u7edc\uff0c\u4f7f\u5f97\u5230\u7684$\u03bc(x)$\u8d8a\u63a5\u8fd1x\u8d8a\u597d\u3002\n",
                "\n"
            ]
        },
        {
            "cell_type": "markdown",
            "metadata": {},
            "source": [
                "### 3. VAE\u7684\u95ee\u9898\n",
                "\n",
                "\n",
                "\n",
                "",
                "\n"
            ]
        },
        {
            "cell_type": "markdown",
            "metadata": {},
            "source": [
                "![](http://imgbed.momodel.cn/29_13_ul_VAE.png)"
            ]
        },
        {
            "cell_type": "markdown",
            "metadata": {},
            "source": [
                "VAE \u7684\u95ee\u9898\u662f\u5176\u5b9e VAE \u5e76\u6ca1\u6709\u60f3\u8fc7\u4ece\u6570\u636e\u4e2d\u5b66\u4e60\u600e\u6837\u53bb\u751f\u6210\u4e00\u5f20\u65b0\u56fe\uff0c<br>\n",
                "\u800c\u662f\u5728\u4ea7\u751f\u4e00\u5f20\u4e0e\u6570\u636e\u4e2d\u7684\u56fe\u5c3d\u53ef\u80fd\u76f8\u4f3c\u7684\u56fe\uff0c\u53ea\u662f\u5728\u6a21\u4eff\u3002<br>\n",
                "\n",
                "\u4e0a\u56fe\u4e2d\u4e00\u4e2a\u50cf\u7d20\u70b9\u7684\u4e0d\u540c\u5728\u539f\u59cb\u7684\u201c7\u201d\u56fe\u4e0a\uff0c\u5de6\u8fb9\u7684\u53ef\u4ee5\u7406\u89e3\uff0c<br>\n",
                "\u4f46\u662f\u53f3\u56fe\u662f\u4e0d\u4e00\u6837\u7684\uff0c\u662f\u5047\u7684\uff0c\u4f46\u662fVAE\u4f1a\u8ba4\u4e3a\u8bf4\u5176\u4e0e\u539f\u59cb\u76ee\u6807\u662f\u4e00\u81f4\u7684\u3002<br>\n",
                "**VAE \u5e76\u6ca1\u6709\u751f\u6210\u65b0\u56fe\uff0c\u800c\u662f\u4ec5\u4ec5\u8bb0\u4f4f\u4e86\u5df2\u7ecf\u5b58\u5728\u4e86\u7684\u56fe\u3002**<br>\n"
            ]
        },
        {
            "cell_type": "markdown",
            "metadata": {},
            "source": [
                "### 4. \u751f\u6210\u5bf9\u6297\u7f51\u7edc\uff08GAN\uff09\n",
                "\n",
                "\n",
                "\n",
                "",
                "\n"
            ]
        },
        {
            "cell_type": "markdown",
            "metadata": {},
            "source": [
                "Yann LeCun \u8bf4\u8fc7\uff0c GAN \u662f ML \u9886\u57df\u8fd1\u5341\u5e74\u6700\u6709\u610f\u601d\u7684\u60f3\u6cd5\u3002"
            ]
        },
        {
            "cell_type": "markdown",
            "metadata": {},
            "source": [
                "#### 4.1 \u4ecb\u7ecdGAN\u6982\u5ff5\n",
                "<br>\n",
                "\u7528\u62df\u6001\u7684\u6f14\u5316\u6765\u7c7b\u6bd4 GAN \uff0c\u4e0b\u9762\u4ecb\u7ecd\u67af\u53f6\u8776\u7684\u6f14\u5316\u8fc7\u7a0b\uff1a"
            ]
        },
        {
            "cell_type": "markdown",
            "metadata": {},
            "source": [
                "![](http://imgbed.momodel.cn/29_14_ul_GAN.png)"
            ]
        },
        {
            "cell_type": "markdown",
            "metadata": {},
            "source": [
                "\u5047\u8bbe\u67af\u53f6\u8776\u6700\u521d\u4e5f\u662f\u5f69\u8272\u7684\uff0c\u4f46\u662f\u5176\u6709\u5929\u654c\uff0c\u7c7b\u4f3c\u4e8e\u9ebb\u96c0\u7b49\uff1b<br>\n",
                "\u5047\u5982\u8bf4\u8774\u8776\u7684\u5929\u654c\u8ba4\u4e3a\u8774\u8776\u4e0d\u662f\u68d5\u8272\u7684\uff0c\u6240\u4ee5\u8774\u8776\u5c31\u6f14\u5316\u4e3a\u68d5\u8272\u7684\uff1b<br>\n",
                "\u4e0e\u6b64\u540c\u65f6\uff0c\u8774\u8776\u7684\u5929\u654c\u4e5f\u4f1a\u8fdb\u884c\u6f14\u5316\uff0c\u6b64\u65f6\u8ba4\u4e3a\u8774\u8776\u6ca1\u6709\u53f6\u8109\uff1b<br>\n",
                "\u56e0\u6b64\u8774\u8776\u9700\u8981\u7ee7\u7eed\u6f14\u5316\uff0c\u6f14\u5316\u4e3a\u67af\u53f6\u8776\u3002\u800c\u6b64\u65f6\u5176\u5929\u654c\u4e5f\u4f1a\u7ee7\u7eed\u6f14\u5316..."
            ]
        },
        {
            "cell_type": "markdown",
            "metadata": {},
            "source": [
                "![](http://imgbed.momodel.cn/29_15_ul_GAN.png)"
            ]
        },
        {
            "cell_type": "markdown",
            "metadata": {},
            "source": [
                "Discriminator v1 \u5224\u65ad image \u662f Generator v1 \u4ea7\u751f\u7684\u8fd8\u662f real images,\u7136\u540e\u636e\u6b64\u66f4\u65b0\u53c2\u6570\u5f62\u6210 Generator v2\uff1b<br>\n",
                "Discriminator v2 \u5224\u65ad image \u662f Generator v2 \u4ea7\u751f\u7684\u8fd8\u662f real images,\u7136\u540e\u636e\u6b64\u66f4\u65b0\u53c2\u6570\u5f62\u6210 Generator v3\uff1b<br>\n",
                "Discriminator v3 \u5224\u65ad image \u662f Generator v3 \u4ea7\u751f\u7684\u8fd8\u662f real images,\u7136\u540e\u636e\u6b64\u66f4\u65b0\u53c2\u6570\u5f62\u6210\u65b0\u7684Generator\uff1b<br>\n",
                "Generator v3\u4ea7\u751f\u7684image\u66f4\u50cf\u771f\u5b9e\u7684image\uff0c\u5b83\u53ef\u4ee5\u9a97\u8fc7Discriminator v2\uff1bGenerator v2\u4ea7\u751f\u7684image\u53ef\u4ee5\u9a97\u8fc7Discriminator v1\uff1b<br>\n",
                "\u4e0e\u6b64\u540c\u65f6\uff0c\u5224\u522b\u7f51\u7edcDiscriminator\u4e5f\u5728\u6f14\u5316\u3002\n",
                "\u56e0\u6b64,Generator\u6839\u636eDiscriminator\u6f14\u5316\u3002 <br>\n",
                "**Generator\u4ece\u672a\u770b\u8fc7real images, \u4ea7\u751f\u7684\u662fdatabase\u4e2d\u6ca1\u6709\u89c1\u8fc7\u7684image**\u3002"
            ]
        },
        {
            "cell_type": "markdown",
            "metadata": {},
            "source": [
                "#### 4.2 \u8bad\u7ec3\n",
                "\n",
                "+ \u5224\u522b\u7f51\u7edc\uff08Discriminator\uff09"
            ]
        },
        {
            "cell_type": "markdown",
            "metadata": {},
            "source": [
                "![](http://imgbed.momodel.cn/29_16_ul_GAN.png)"
            ]
        },
        {
            "cell_type": "markdown",
            "metadata": {},
            "source": [
                "\u5224\u522b\u7f51\u7edc\u6a21\u578b\u7684\u8f93\u5165\u662fimage(\u53ef\u4ee5\u662f\u771f\u5b9e\u56fe\u7247\uff0c\u4e5f\u53ef\u4ee5\u662f\u751f\u6210\u7f51\u7edc\u751f\u6210\u7684\u56fe\u7247)<br>\n",
                "\u5224\u522b\u7f51\u7edc\u6a21\u578b\u7684\u8f93\u51fa\u662f\u6807\u91cf\uff0c\u53ef\u4ee5\u901a\u8fc7 sigmoid \u4f7f\u8f93\u51fa\u503c\u4ecb\u4e8e0-1\u4e4b\u95f4\uff1b<br>\n",
                "\u53ef\u4ee5\u901a\u8fc7\u8bbe\u7f6e\u9608\u503c\u8868\u793a\u671f\u671b\u7ed3\u679c\u7684\u53ef\u4fe1\u5ea6\uff0c\u4f8b\u5982\u5e0c\u671b\u5224\u65ad\u4e3a\u771f\u5b9e\u56fe\u7247\u7684\u7ed3\u679c\u5c3d\u53ef\u80fd\u6b63\u786e\uff0c\u53ef\u4ee5\u8bbe\u7f6e\u5f53\u8f93\u51fa\u5927\u4e8e0.8\u65f6\uff0c\u6807\u6ce8\u4e3a1\u3002<br>\n",
                "\u8f93\u51fa\u4e3a1\u8868\u793a\u8f93\u5165\u7684\u56fe\u7247\u662f\u771f\u5b9e\u7684\uff0c\u5426\u5219\u8f93\u5165\u7684\u56fe\u50cf\u662f\u5047\u7684,\u662f\u751f\u6210\u6a21\u578b\u751f\u6210\u7684\u3002<br>\n",
                "<br>\n",
                "\u751f\u6210\u7f51\u7edc\u7684\u67b6\u6784\u4e0e VAE \u7684 decoder \u90e8\u5206\u76f8\u4f3c\uff1b\u4e5f\u662f\u4e00\u4e2a\u795e\u7ecf\u7f51\u7edc\u6a21\u578b\u3002<br>\n",
                "\u8f93\u5165\u662f\u4e00\u4e2a\u968f\u673a\u5206\u5e03\u7684\u5411\u91cf\uff0c\u8f93\u5165\u5230\u751f\u6210\u7f51\u7edc\u4e2d\u5f97\u5230\u4e00\u4e2a image \uff1b<br>\n",
                "\u8f93\u5165\u4e0d\u540c\u7684\u5411\u91cf\uff0c\u5f97\u5230\u4e0d\u540c\u7684 image \uff1b<br>\n",
                "\u5c06\u8f93\u51fa\u7684 image \u90fd\u6807\u6ce8\u4e3a0\uff0c\u5373 fake \uff1b<br>\n",
                "\u5c06\u771f\u5b9e\u56fe\u7247\u90fd\u6807\u6ce8\u4e3a1\uff0c\u5373 real \uff1b<br>"
            ]
        },
        {
            "cell_type": "markdown",
            "metadata": {},
            "source": [
                "+ \u751f\u6210\u7f51\u7edc\uff08Generator\uff09"
            ]
        },
        {
            "cell_type": "markdown",
            "metadata": {},
            "source": [
                "![](http://imgbed.momodel.cn/29_17_ul_GAN.png)"
            ]
        },
        {
            "cell_type": "markdown",
            "metadata": {},
            "source": [
                "\u968f\u673a\u8f93\u5165\u4e00\u4e2a\u5411\u91cf\u5230\u751f\u6210\u7f51\u7edc\u6a21\u578b\u4e2d\uff0c\u4f1a\u5f97\u5230\u4e00\u5f20\u56fe\u7247\uff1b<br>\n",
                "\u7136\u540e\u5c06\u56fe\u7247\u8f93\u5165\u5230\u5224\u522b\u7f51\u7edc\u6a21\u578b\u4e2d\uff0c\u5f97\u5230\u4e00\u4e2a\u6807\u91cf\uff0c\u6bd4\u59820.87\uff1b<br>\n",
                "\u7136\u540e\u5f00\u59cb\u8c03\u6574\u751f\u6210\u7f51\u7edc\u6a21\u578b\u7684\u53c2\u6570\uff0c\u4f7f\u5176\u751f\u6210\u7684\u56fe\u7247\u8d8a\u771f\u5b9e\u8d8a\u597d\uff1b<br>\n",
                "\u5373\u5c06\u5176\u751f\u6210\u7684\u56fe\u7247\u653e\u5165\u5224\u522b\u7f51\u7edc\u6a21\u578b\u4e2d\uff0c\u4f7f\u5176\u8f93\u51fa\u8d8a\u63a5\u8fd11\u8d8a\u597d\u3002<br>\n",
                "\u5728\u4ee5\u4e0a\u7684\u8fc7\u7a0b\u4e2d\u9700\u8981\u56fa\u5b9a\u4f4f\u5224\u522b\u7f51\u7edc\u6a21\u578b\u7684\u53c2\u6570\u3002"
            ]
        },
        {
            "cell_type": "markdown",
            "metadata": {},
            "source": [
                "+ GAN - Toy Example"
            ]
        },
        {
            "cell_type": "markdown",
            "metadata": {},
            "source": [
                "![](http://imgbed.momodel.cn/29_18_ul_GAN.png)"
            ]
        },
        {
            "cell_type": "markdown",
            "metadata": {},
            "source": [
                "\u56fe\u4e2d\uff08\u9ed1\u70b9\uff1a real \uff0c\u7eff\u7ebf\uff1a Generator \uff0c\u84dd\u7ebf\uff1a Discriminator \uff09"
            ]
        },
        {
            "cell_type": "markdown",
            "metadata": {},
            "source": [
                "\u5c06Z\u8f93\u5165\u5230\u751f\u6210\u7f51\u7edc\u6a21\u578b\u4e2d\u751f\u6210x(\u4e0a\u56fe\u4e2d\u7eff\u8272\u66f2\u7ebf)\uff0c<br>\n",
                "\u7136\u540e\u5c06x\u8f93\u5165\u5230\u5224\u522b\u7f51\u7edc\u4e2d\u53bb\uff0c\u5f97\u5230\u7ed3\u679c(\u56fe\u4e2d\u84dd\u8272\u66f2\u7ebf)\uff1b<br>\n",
                "\u7136\u540e\u901a\u8fc7\u84dd\u8272\u66f2\u7ebf\u4e86\u89e3\u751f\u6210x\u4e0e\u771f\u5b9e\u56fe\u7247(\u9ed1\u8272\u66f2\u7ebf)\u4e4b\u95f4\u7684\u533a\u522b\uff1b<br>\n",
                "\u76f4\u81f3\u84dd\u8272\u66f2\u7ebf\u6210\u4e3a\u4e00\u6761\u76f4\u7ebf\uff0c\u8868\u793a\u751f\u6210\u56fe\u7247x\u4e0e\u771f\u5b9e\u56fe\u7247\u4e00\u6a21\u4e00\u6837\uff0c\u5224\u522b\u7f51\u7edc\u8bc6\u522b\u4e0d\u51fa\u6765\u3002<br>"
            ]
        },
        {
            "cell_type": "markdown",
            "metadata": {},
            "source": [
                "#### 4.3  GAN \u9047\u5230\u7684\u95ee\u9898"
            ]
        },
        {
            "cell_type": "markdown",
            "metadata": {},
            "source": [
                "![](http://imgbed.momodel.cn/29_19_ul_GAN.png)"
            ]
        },
        {
            "cell_type": "markdown",
            "metadata": {},
            "source": [
                "#### 4.4 \u53c2\u8003\u8d44\u6599"
            ]
        },
        {
            "cell_type": "markdown",
            "metadata": {},
            "source": [
                "+ \u201cUnsupervised Representation Learning with Deep Convolutional Generative Adversarial Networks\u201d\n",
                "+ \u201cImproved Techniques for Training GANs\u201d\n",
                "+ \u201cAutoencoding beyond pixels using a learned similarity metric\u201d\n",
                "+ \u201cDeep Generative Image Models using a Laplacian Pyramid of Adversarial Network\u201d\n",
                "+ \u201cSuper Resolution using GANs\u201d\n",
                "+ \u201cGenerative Adversarial Text to Image Synthesis\u201d"
            ]
        },
        {
            "cell_type": "markdown",
            "metadata": {},
            "source": [
                "+ \u57fa\u672c\u6750\u6599\uff1a\n",
                "    + http://blog.aylien.com/introduction-generative-adversarial-networks-code-tensorflow/\n",
                "    + https://bamos.github.io/2016/08/09/deep-completion/\n",
                "    + http://blog.evjang.com/2016/06/generative-adversarial-nets-in.html"
            ]
        },
        {
            "cell_type": "markdown",
            "metadata": {},
            "source": [
                "### 5. \u603b\u7ed3\n",
                "+ VAE \u7684\u539f\u7406\u53ca\u5176\u4f18\u7f3a\u70b9\n",
                "+ GAN \u7684\u539f\u7406"
            ]
        },
        {
            "cell_type": "markdown",
            "metadata": {},
            "source": [
                "**\u725b\u5200\u5c0f\u8bd5**\n",
                "\n",
                "\u6bd4\u8f83 VAE \u4e0e GAN \u7684\u4f18\u7f3a\u70b9\u3002\n"
            ]
        },
        {
            "cell_type": "markdown",
            "metadata": {},
            "source": [
                "<span class='md-hint-alone-link pop 0'>\u67e5\u770b\u7b54\u6848</span>"
            ]
        }
    ],
    "metadata": {
        "kernelspec": {
            "display_name": "Python 3",
            "language": "python",
            "name": "python3"
        },
        "language_info": {
            "codemirror_mode": {
                "name": "ipython",
                "version": 3
            },
            "file_extension": ".py",
            "mimetype": "text/x-python",
            "name": "python",
            "nbconvert_exporter": "python",
            "pygments_lexer": "ipython3",
            "version": "3.5.2"
        }
    },
    "nbformat": 4,
    "nbformat_minor": 2
}