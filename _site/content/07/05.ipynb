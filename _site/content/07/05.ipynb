{
    "cells": [
        {
            "cell_type": "markdown",
            "metadata": {},
            "source": [
                "### \u8fd9\u4e00\u8282\u6211\u4eec\u4e3b\u8981\u5b66\u4e60",
                "\n",
                "\n",
                "+ \u751f\u6210\u6a21\u578b\uff08Generative Models\uff09\n",
                "+ \u50cf\u7d20\u5faa\u73af\u795e\u7ecf\u7f51\u7edc\uff08PixelRNN\uff09\n",
                "+ \u53d8\u5206\u81ea\u7f16\u7801\u5668\uff08Variational Autoencoder(VAE)\uff09"
            ]
        },
        {
            "cell_type": "markdown",
            "metadata": {},
            "source": [
                "### 1. \u751f\u6210\u6a21\u578b\uff08Generative Models\uff09\n",
                "\n",
                ""
            ]
        },
        {
            "cell_type": "markdown",
            "metadata": {},
            "source": [
                "![](http://imgbed.momodel.cn/28_01_ul_generayion.png)"
            ]
        },
        {
            "cell_type": "markdown",
            "metadata": {},
            "source": [
                "Generative Models:<br>\n",
                "https://openai.com/blog/generative-models/  \n",
                "<br>\n",
                "\u51e1\u6211\u4e0d\u80fd\u521b\u9020\u7684\uff0c\u6211\u90fd\u6ca1\u6709\u7406\u89e3 <br>\n",
                "Generative models \uff0c\u5c31\u662f\u5728\u505a\u521b\u9020\u7684\u4e8b\u60c5\u3002"
            ]
        },
        {
            "cell_type": "markdown",
            "metadata": {},
            "source": [
                "+ \u751f\u6210\u6a21\u578b\u5206\u7c7b\n",
                "    + PixelRNN\n",
                "    + Variational Autoencoder\uff08VAE\uff09 \n",
                "    + Generative Adversarial Network(GAN)"
            ]
        },
        {
            "cell_type": "markdown",
            "metadata": {},
            "source": [
                "### 2. \u50cf\u7d20\u5faa\u73af\u795e\u7ecf\u7f51\u7edc\uff08PixelRNN\uff09\n",
                "#### 2.1 \u4ecb\u7ecd\u50cf\u7d20\u5faa\u73af\u795e\u7ecf\u7f51\u7edc\n",
                "\n",
                ""
            ]
        },
        {
            "cell_type": "markdown",
            "metadata": {},
            "source": [
                "![](http://imgbed.momodel.cn/28_02_ul_generayion.png)"
            ]
        },
        {
            "cell_type": "markdown",
            "metadata": {},
            "source": [
                "PixelRNN \u6839\u636e\u524d\u9762\u7684\u50cf\u7d20\u9884\u6d4b\u63a5\u4e0b\u6765\u7684\u50cf\u7d20\u3002<br>\n",
                "\u5047\u8bbe\u751f\u6210\u4e00\u4e2a3X3\u7684 image \uff0c\u6d41\u7a0b\u5982\u4e0b\uff1a\n",
                "+ \u5c061\u4f5c\u4e3aRNN\u7684\u8f93\u5165\uff0c\u8f93\u51fa\u4e3a2\uff1b\n",
                "+ \u5c061\uff0c2\u4f5c\u4e3aRNN\u7684\u8f93\u5165\uff0c\u8f93\u51fa\u4e3a3\uff1b\n",
                "+ \u5c061\uff0c2\uff0c3\u4f5c\u4e3aRNN\u7684\u8f93\u5165\uff0c\u8f93\u51fa\u4e3a4\uff1b<br>\n",
                "\u4f9d\u6b21\u5185\u63a8\uff0c\u8f93\u51fa3X3\u5927\u5c0f\u7684image\u3002<br> "
            ]
        },
        {
            "cell_type": "markdown",
            "metadata": {},
            "source": [
                "![](http://imgbed.momodel.cn/28_03_ul_generayion.png)"
            ]
        },
        {
            "cell_type": "markdown",
            "metadata": {},
            "source": [
                "PixelRNN \u4e0d\u4ec5\u6709\u6548\uff0c\u800c\u4e14\u5728\u5404\u79cd\u751f\u6210\u65b9\u6cd5\u4e2d PixelRNN \u4ea7\u751f\u7684\u56fe\u662f\u6700\u6e05\u6670\u7684\u3002<br>\n",
                "\u4e0a\u56fe\u7684\u72d7\u662f\u771f\u5b9e\u4e16\u754c\u7684\u56fe\u7247\uff0c\u5047\u8bbe\u53ea\u77e5\u9053\u56fe\u7247\u7684\u4e0a\u534a\u8eab\uff1a<br>\n",
                "\u7136\u540e\u7528\u6a21\u578b\u9884\u6d4b\u51fa\u72d7\u7684\u4e0b\u534a\u8eab\uff0c\u5982\u4e0a\u56fe\u6240\u793a\u3002<br>\n",
                "\u4e0a\u8ff0\u6280\u672f\u8fd8\u53ef\u4ee5\u5e94\u7528\u4e8e\u8bed\u97f3\u65b9\u9762,\u5982\u4e0b\u56fe\uff1a"
            ]
        },
        {
            "cell_type": "markdown",
            "metadata": {},
            "source": [
                "![](http://imgbed.momodel.cn/28_04_ul_generayion.png)"
            ]
        },
        {
            "cell_type": "markdown",
            "metadata": {},
            "source": [
                "#### 2.2 \u7ec3\u4e60\u751f\u6210\u5b9d\u53ef\u68a6\u6a21\u578b\n",
                "\n",
                "\n",
                ""
            ]
        },
        {
            "cell_type": "markdown",
            "metadata": {},
            "source": [
                "![](http://imgbed.momodel.cn/28_05_ul_generayion.png)"
            ]
        },
        {
            "cell_type": "markdown",
            "metadata": {},
            "source": [
                "![](http://imgbed.momodel.cn/28_06_ul_generayion.png)"
            ]
        },
        {
            "cell_type": "markdown",
            "metadata": {},
            "source": [
                "\u7528\u5728\u56fe\u50cf\u4e0a\u6709\u4e00\u4e9b tips : \u5982\u679c RGB \u4e09\u4e2a\u503c\u76f8\u5dee\u4e0d\u5927\uff0c<br>\n",
                "\u5219\u5f97\u5230\u7684\u989c\u8272\u7070\u7070\u7684\u3001\u4e0d\u591f\u660e\u4eae\uff0c<br>\n",
                "\u53ef\u4ee5\u628a\u4f17\u591a\u989c\u8272\u805a\u6210\u82e5\u5e72\u7c7b\u7136\u540e\u505a 1-of-N encoding \u3002 <br>\n",
                "<br>\n",
                "\u989c\u8272\u4e00\u5171\u6709256X256X256\u79cd\u53ef\u80fd\uff0c\u7136\u540e\u628a\u76f8\u4f3c\u7684\u989c\u8272\u7b97\u4f5c\u4e00\u79cd\u7c7b\u522b\uff0c\u6700\u540e\u751f\u6210167\u79cd\u989c\u8272\u3002"
            ]
        },
        {
            "cell_type": "markdown",
            "metadata": {},
            "source": [
                "![](http://imgbed.momodel.cn/28_07_ul_generayion.png)"
            ]
        },
        {
            "cell_type": "markdown",
            "metadata": {},
            "source": [
                "\u9884\u6d4b\u7ed3\u679c\u5982\u4e0b\uff1a<br>\n",
                "![](http://imgbed.momodel.cn/28_08_ul_generayion.png)"
            ]
        },
        {
            "cell_type": "markdown",
            "metadata": {},
            "source": [
                "\u4e0a\u56fe\u4e2d\u5b9d\u53ef\u68a6\u672a\u5728\u8bad\u7ec3\u96c6\u4e2d\u51fa\u73b0\u8fc7\u3002<br>\n",
                "\u5982\u679c\u8981\u8ba1\u7b97\u673a\u4ece\u7a7a\u767d\u5f00\u59cb\u753b\uff0c\u8981\u7ed9\u4e00\u4e2a\u968f\u673a\u6570\uff0c\u4ee5\u514d\u6bcf\u6b21\u753b\u51fa\u6765\u7684\u90fd\u4e00\u6837\u3002"
            ]
        },
        {
            "cell_type": "markdown",
            "metadata": {},
            "source": [
                "### 3. \u53d8\u81ea\u7f16\u7801\u5668\uff08Variational Autoencoder (VAE)\uff09"
            ]
        },
        {
            "cell_type": "markdown",
            "metadata": {},
            "source": [
                "![](http://imgbed.momodel.cn/28_09_ul_generayion.png)"
            ]
        },
        {
            "cell_type": "markdown",
            "metadata": {},
            "source": [
                "+ AutoEncoder <br>\n",
                "\u6839\u636e\u81ea\u7f16\u7801\u5668\u7684\u77e5\u8bc6\uff0c\u6700\u521d\u7684\u60f3\u6cd5\u662f\u5229\u7528\u89e3\u7801\u5668\uff0c<br>\n",
                "\u968f\u673a\u4ea7\u751f\u4e00\u4e2a code \u4f5c\u4e3a\u8f93\u5165\u5411\u91cf\uff0c\u6765\u4ea7\u751f\u56fe\u50cf\uff0c\u4f46\u662f\u6548\u679c\u5e76\u4e0d\u7406\u60f3\u3002<br>\n",
                "<br>\n",
                "+ VAE<br>\n",
                "\u5bf9\u7f16\u7801\u5668\u7684\u8f93\u51fa\u505a\u51fa\u6539\u53d8\uff0c\u5982\u4e0a\u56fe\u6240\u793a\u3002<br>\n",
                "\u5047\u8bbecode\u7ef4\u5ea6\u662f\u4e09\u7ef4\uff0c\u5219\uff1a<br>\n",
                "\u7f16\u7801\u5668\u7684\u8f93\u51fam1\u3001m2\u3001m3\u662f\u539f\u59cbcode\uff0c<br>\n",
                "\u03c31\u3001\u03c32\u3001\u03c33\u89c6\u4e3a\u6dfb\u52a0\u7684\u566a\u58f0\u7684\u65b9\u5dee\uff0c\u8fd9\u662f\u81ea\u52a8\u5b66\u4e60\u7684\uff0c\u901a\u8fc7\u6307\u6570\u64cd\u4f5c\u4fdd\u8bc1\u975e\u8d1f\uff0c<br>\n",
                "e1\u3001e2\u3001e3\u662f\u7cfb\u6570\uff1b<br>\n",
                "\u6839\u636e\u516c\u5f0f\u8ba1\u7b97\u5f97\u5230\u7684\u65b0\u7684 code \u662f\u5e26\u566a\u58f0\u7684\u3002<br>\n",
                "\u7136\u540e\u901a\u8fc7\u89e3\u7801\u5668\u5f97\u5230\u8f93\u51fa\uff0c\u5e76\u4e14\u80fd\u591f\u6700\u5c0f\u5316\u91cd\u6784\u8bef\u5dee(\u56fe\u4e2d\u7ea2\u8272\u65b9\u68461)\u548c\u6700\u5c0f\u5316\u516c\u5f0f2\uff08\u56fe\u4e2d\u7ea2\u8272\u65b9\u68462\uff09\u3002<br>\n",
                "<br>\n",
                "\u5982\u679c\u5728\u5b66\u4e60\u65f6\uff0c\u4ec5\u4ec5\u6700\u5c0f\u5316\u91cd\u6784\u8bef\u5dee\u4f1a\u600e\u6837\u5462\uff1f<br>\n",
                "\u663e\u7136\uff0c\u566a\u58f0\u65b9\u5dee\u4e3a0\u5c31\u80fd\u4f7f\u5f97\u8bef\u5dee\u6700\u5c0f\uff0c\u4f46\u8fd9\u548c\u6211\u4eec\u7684\u60f3\u6cd5\u4e0d\u4e00\u81f4\u3002<br>\n",
                "\u6240\u4ee5\u5728\u4e0a\u56fe\u53f3\u4e0b\u65b9\uff0c\u5728\u5b66\u4e60\u65f6\u4e0d\u4ec5\u8981\u6700\u5c0f\u5316\u91cd\u6784\u8bef\u5dee\u4e5f\u8981\u6700\u5c0f\u5316\u8be5\u516c\u5f0f\u7684\u503c\u3002<br>\n"
            ]
        },
        {
            "cell_type": "markdown",
            "metadata": {},
            "source": [
                "#### 3.1 VAE \u751f\u6210\u5b9d\u53ef\u68a6\n",
                "\n",
                "",
                "\n"
            ]
        },
        {
            "cell_type": "markdown",
            "metadata": {},
            "source": [
                "![](http://imgbed.momodel.cn/28_10_ul_generayion.png)"
            ]
        },
        {
            "cell_type": "markdown",
            "metadata": {},
            "source": [
                "VAE \u5f97\u5230\u7684\u7ed3\u679c\u4e0d\u592a\u6e05\u695a\u3002<br>\n",
                "VAE \u4e0e PixelRNN \u533a\u522b\u5728\u4e8e\uff1a**\u7406\u8bba\u4e0a VAE \u53ef\u4ee5\u63a7\u5236\u8981\u751f\u6210\u7684 image **\u3002<br> \n",
                "\u6bd4\u5982 code \u662f10\u7ef4\uff0c\u56fa\u5b9a\u5176\u4e2d8\u7ef4\u3001\u8c03\u6574\u5269\u4f592\u7ef4\uff0c<br>\n",
                "\u770b\u7ed3\u679c\uff0c\u53ef\u4ee5\u89e3\u8bfb code \u7684\u6bcf\u4e2a\u7ef4\u5ea6\u4ee3\u8868\u4ec0\u4e48\u610f\u601d\uff0c<br>\n",
                "\u4ece\u800c\u6bcf\u4e2a\u7ef4\u5ea6\u5c31\u50cf\u62c9\u6746\u4e00\u6837\u53ef\u4ee5\u6709\u76ee\u7684\u7684\u8c03\u6574\u3002<br>"
            ]
        },
        {
            "cell_type": "markdown",
            "metadata": {},
            "source": [
                "![](http://imgbed.momodel.cn/28_11_ul_generayion.png)"
            ]
        },
        {
            "cell_type": "markdown",
            "metadata": {},
            "source": [
                "#### 3.2 VAE \u5199\u8bd7\n",
                "\n",
                "\n",
                "",
                "\n"
            ]
        },
        {
            "cell_type": "markdown",
            "metadata": {},
            "source": [
                "![](http://imgbed.momodel.cn/28_12_ul_generayion.png)"
            ]
        },
        {
            "cell_type": "markdown",
            "metadata": {},
            "source": [
                "\u5148\u4efb\u610f\u9009\u4e24\u4e2a\u53e5\u5b50\uff0c\u7ecf\u8fc7 encoder \u5f97\u5230\u8fd9\u4e24\u4e2a\u53e5\u5b50\u7684 code \uff0c<br>\n",
                "\u5728 code space \u4e0a\u662f\u4e24\u4e2a\u70b9\uff0c\u8fde\u63a5\u4e24\u70b9\u3001\u7b49\u8ddd\u91c7\u6837\u3001\u7528 decoder \u8fd8\u539f\uff0c\u5f97\u5230\u4e00\u7cfb\u5217\u53e5\u5b50\u3002<br>"
            ]
        },
        {
            "cell_type": "markdown",
            "metadata": {},
            "source": [
                "### 4. \u603b\u7ed3\n",
                "+ \u751f\u6210\u6a21\u578b\n",
                "+ \u751f\u6210\u6a21\u578b\u65b9\u6cd5\u4e4b PixelRNN\n",
                "+ \u751f\u6210\u6a21\u578b\u65b9\u6cd5\u4e4b Variational AutoEncoder(VAE)"
            ]
        },
        {
            "cell_type": "markdown",
            "metadata": {},
            "source": [
                "**\u725b\u5200\u5c0f\u8bd5**\n",
                "\n",
                "VAE \u4e3a\u4f55\u8981\u8fdb\u884c\u52a0\u566a\u5904\u7406\uff1f\n",
                "\n"
            ]
        },
        {
            "cell_type": "markdown",
            "metadata": {},
            "source": [
                "<span class='md-hint-alone-link pop 0'>\u67e5\u770b\u7b54\u6848</span>"
            ]
        }
    ],
    "metadata": {
        "kernelspec": {
            "display_name": "Python 3",
            "language": "python",
            "name": "python3"
        },
        "language_info": {
            "codemirror_mode": {
                "name": "ipython",
                "version": 3
            },
            "file_extension": ".py",
            "mimetype": "text/x-python",
            "name": "python",
            "nbconvert_exporter": "python",
            "pygments_lexer": "ipython3",
            "version": "3.5.2"
        }
    },
    "nbformat": 4,
    "nbformat_minor": 2
}