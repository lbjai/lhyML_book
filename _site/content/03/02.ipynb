{
    "cells": [
        {
            "cell_type": "markdown",
            "metadata": {},
            "source": [
                "<br>"
            ]
        },
        {
            "cell_type": "markdown",
            "metadata": {},
            "source": [
                "### \u8fd9\u4e00\u8282\u6211\u4eec\u4e3b\u8981\u5b66\u4e60",
                "\n",
                "+ \u903b\u8f91\u56de\u5f52\u6a21\u578b\n",
                "+ \u903b\u8f91\u56de\u5f52\u4e0e\u5e73\u65b9\u8bef\u5dee\n",
                "+ \u5224\u522b\u6a21\u578b vs. \u751f\u6210\u6a21\u578b\n",
                "+ \u591a\u5143\u5206\u7c7b\n",
                "+ \u903b\u8f91\u56de\u5f52\u7684\u5c40\u9650\u6027\n",
                "+ \u5ef6\u4f38\uff1a\u6df1\u5ea6\u5b66\u4e60"
            ]
        },
        {
            "cell_type": "markdown",
            "metadata": {},
            "source": [
                "### **1. \u5efa\u7acb\u903b\u8f91\u56de\u5f52\u6a21\u578b**"
            ]
        },
        {
            "cell_type": "markdown",
            "metadata": {},
            "source": [
                "#### 1.1 \u6b65\u9aa41\uff1a**\u786e\u5b9a\u51fd\u6570\u96c6**\n",
                "",
                "\n",
                "  \u6211\u4eec\u9700\u8981\u627e\u5230\u4e00\u4e2a\u6982\u7387\u51fd\u6570 $P_{w,b}(C_1|x)$  \uff0c\u8be5\u51fd\u6570\u6709\u5982\u4e0b\u7279\u5f81\uff1a\n",
                "  \n",
                "  \u5f53 $P_{w,b}(C_1|x) \\geq 0.5$ &nbsp;\u65f6\uff0c\u8f93\u51fa $C_1$ \uff1b \u5426\u5219\u8f93\u51fa $C_2$\u3002\n",
                "  \n",
                "  \u51fd\u6570 $P_{w,b}(C_1|x) = \u03c3(z)$ \uff0c \u6ee1\u8db3\u4e0a\u8ff0\u6761\u4ef6\u3002\n",
                "  \n",
                "  \u5176\u4e2d$z = wx + b\uff0c\u03c3(z) = \\frac{1}{1+exp(-z)}$ \uff0c\u5982\u56fe\u3002\n",
                "    \n",
                "![](http://imgbed.momodel.cn/10-1 sigmod\u51fd\u6570\u56fe\u50cf.png)"
            ]
        },
        {
            "cell_type": "markdown",
            "metadata": {},
            "source": [
                "  \n",
                "  \u51fd\u6570\u96c6 $f_{w,b}(x) = P_{w,b}(C_1|x)$  \uff0c\u5982\u56fe\uff1a\n",
                "  \n",
                "  \n",
                "![](http://imgbed.momodel.cn/10-2 \u51fd\u6570\u96c6\u793a\u610f\u56fe.png)",
                "  \n",
                "  "
            ]
        },
        {
            "cell_type": "markdown",
            "metadata": {},
            "source": [
                "+ \u6bd4\u8f83\u903b\u8f91\u56de\u5f52\u548c\u7ebf\u6027\u56de\u5f52\uff1a\n",
                "  \n",
                "  + \u903b\u8f91\u56de\u5f52\uff1a$f_{w,b}(x) = \u03c3(\\sum_{i}w_ix_i+b)$ \uff1b \u8f93\u51fa\u8303\u56f4(0 , 1)\n",
                "  \n",
                "  + \u7ebf\u6027\u56de\u5f52\uff1a$f_{w,b}(x) = \\sum_{i}w_ix_i+b$ \uff1b\u8f93\u51fa\u8303\u56f4($-\\infty$,$+\\infty$)\n",
                "<br>\n"
            ]
        },
        {
            "cell_type": "markdown",
            "metadata": {},
            "source": [
                "#### 1.2 \u6b65\u9aa42\uff1a**\u6a21\u578b\u8bc4\u4ef7**\n",
                "",
                "<span class='md-video-link https://player.bilibili.com/player.html?aid=10590361&cid=17482193&page=11'>\u6a21\u578b\u8bc4\u4ef7 - 3m54s</span>**\n",
                "\n",
                "  \u5982\u56fe\u6240\u793a\uff0c\u5047\u8bbe\u8bad\u7ec3\u6570\u636e\u96c6\u662f\u4f9d\u636e $f_{w,b}(x) = P_{w,b}(C_1|x)$ \u4ea7\u751f\u7684\uff0c\u7ed9\u51fa\u4e00\u7cfb\u5217\u7684 $w$ \u548c $b$\uff0c\u4ea7\u751f\u8be5\u6570\u636e\u96c6\u7684\u6982\u7387\u4e3a\u591a\u5c11\uff1f\n",
                "  \n",
                "  \n",
                "![](http://imgbed.momodel.cn/10-3 \u8bad\u7ec3\u6570\u636e\u793a\u610f\u56fe.png)",
                "  \n",
                "  \n",
                "  \n",
                "  \u4ea7\u751f\u8be5\u6570\u636e\u96c6\u7684\u6982\u7387\u4e3a $L(w,b) = f_{w,b}(x^1)f_{w,b}(x^2)(1-f_{w,b}(x^3)) \\cdots f_{w,b}(x^N)$\n",
                "      \uff08\u6ce8\u610f$x^3$\u5c5e\u4e8e$C_2$\u7c7b\u522b\uff09\n",
                "  \n",
                "  \u5176\u4e2d $w^*,b^* = arg maxL(a,b)$\uff0c\u5f53 $w$ \u548c $b$ \u5206\u522b\u53d6 $w^*,b^* $ \u65f6\uff0c\u51fd\u6570 $L(w,b)$ \u53d6\u6700\u5927\u503c\u3002\n",
                "  \n",
                "\n",
                " "
            ]
        },
        {
            "cell_type": "markdown",
            "metadata": {},
            "source": [
                " ** $L(w,b)$\u7684\u4f18\u5316\uff1a**\n",
                " \n",
                "![](http://imgbed.momodel.cn/10-4 \u6807\u7b7ey\u7684\u53d6\u503c.png)",
                "  \n",
                "  $L(w,b) = f_{w,b}(x^1)f_{w,b}(x^2)(1-f_{w,b}(x^3)) \\cdots $\n",
                "  \n",
                "  \u4e3a\u7b80\u5316\u8ba1\u7b97\uff0c\u6211\u4eec\u5c06\u6c42\u89e3 $L(w,b)$ \u7684\u6700\u5927\u503c\uff0c\u8f6c\u5316\u4e3a\u6c42\u89e3 $-lnL(w,b)$ \u7684\u6700\u5c0f\u503c\u3002\n",
                "  \n",
                "  \n",
                "![](http://imgbed.momodel.cn/10-5 \u7b80\u5316\u793a\u610f\u56fe.png)",
                "  \n",
                "  $-lnL(w,b)= \\ln{f_{w,b}(x^1)}\\ln{f_{w,b}(x^2)}\\ln{(1-f_{w,b}(x^3))} \\cdots$ \n",
                "  = $\\sum_{n=1}^{n=N} -[\\hat y^{n}\\ln{f_{w,b}(x^n)}+(1-\\hat y^{n})\\ln({1-f_{w,b}(x^n)})]$,\n",
                "  \n",
                "  \u8be5\u51fd\u6570\u53ef\u4ee5\u770b\u505a\u4e24\u4e2a\u4f2f\u52aa\u5229\u5206\u5e03\u4e4b\u95f4\u7684\u4ea4\u53c9\u71b5\uff0c\u5982\u56fe\u3002\n",
                "  \n",
                "  \n",
                "![](http://imgbed.momodel.cn/10-6 \u4ea4\u53c9\u71b5\u793a\u610f\u56fe.png)",
                "  \n",
                "  \u71b5\u7684\u6982\u5ff5\u672c\u6765\u662f\u70ed\u529b\u5b66\u7684\u4e00\u4e2a\u6982\u5ff5\uff0c\u63cf\u8ff0\u7269\u8d28\u7684\u6df7\u4e71\u7a0b\u5ea6\u3002 \u5728\u8fd9\u91cc\uff0c\u6211\u4eec\u7528\u4ea4\u53c9\u71b5\u7684\u6982\u5ff5\u6765\u63cf\u8ff0\u4e24\u7ec4\u4e0d\u540c\u6982\u7387\u6570\u636e\u5206\u5e03\u7684\u76f8\u4f3c\u7a0b\u5ea6\uff0c\u8d8a\u5c0f\u8d8a\u76f8\u4f3c\u3002\n",
                "  \n",
                "  + **\u903b\u8f91\u56de\u5f52\u548c\u7ebf\u6027\u56de\u5f52\u8bad\u7ec3\u96c6\u4e0a\u7684\u6bd4\u8f83\uff1a**\n",
                "  \n",
                "  \u8bad\u7ec3\u6570\u636e\u96c6($x^n,\\hat y^{n}$)\uff1a<br>\n",
                "  \n",
                "  \u903b\u8f91\u56de\u5f52\uff1a$L(f) = \\sum C(f(x^n),\\hat y^{n})=\\sum-[\\hat{y}^nlnf(x^n)+(1-\\hat{y}^n)ln(1-f(x^n))]$  \u5176\u4e2d\uff1a$\\hat y^{n}$ \u53d61\u8868\u793a\u5206\u7c7b1\uff0c\u53d62\u8868\u793a\u5206\u7c7b2\uff1b\n",
                "  \n",
                "  \u7ebf\u6027\u56de\u5f52\uff1a$L(f) = \\frac{1}{2}\\sum (f(x^n)-\\hat y^{n})^2$ \uff1b\u5176\u4e2d$\\hat y^{n}$ \u8868\u793a\u4e00\u4e2a\u771f\u5b9e\u6709\u5b9e\u9645\u610f\u4e49\u7684\u503c\u3002\n",
                "  \n",
                "\n",
                "\n",
                "  "
            ]
        },
        {
            "cell_type": "markdown",
            "metadata": {},
            "source": [
                "#### 1.3 \u6b65\u9aa43\uff1a**\u6a21\u578b\u4f18\u5316**\n",
                "",
                "\n",
                "  \u504f\u5bfc\u6570\uff1a $\\frac{\\partial (-lnL(w,b))}{\\partial w_i}$ = $\\sum_n-(\\hat y^{n}-f_{w,b}(x^n))x_i^n$\n",
                "  \n",
                "  \u68af\u5ea6\u4e0b\u964d\uff1a$w_i \\leftarrow w_i - \ud835\udf02\\sum_n -(\\hat y^n - f_{w,b}(x^n))x_i^n$\uff0c\u7531\u4e0a\u5f0f\u53ef\u4ee5\u770b\u51fa\uff0c\u504f\u5dee\u8d8a\u5927\uff0c\u66f4\u65b0\u7684\u6b65\u957f\u8d8a\u5927\u3002\n",
                "  \n",
                "  **\u903b\u8f91\u56de\u5f52\u4e0e\u7ebf\u6027\u56de\u5f52\u5728\u53c2\u6570\u66f4\u65b0\u4e0a\u7684\u6bd4\u8f83\uff1a**\n",
                "  \n",
                "  \u68af\u5ea6\u4e0b\u964d\u8868\u8fbe\u5f0f\u5747\u4e3a **$w_i \\leftarrow w_i - \ud835\udf02\\sum_n -(\\hat y^n - f_{w,b}(x^n))x_i^n$**\u3002\n",
                "  \n",
                "  \n"
            ]
        },
        {
            "cell_type": "markdown",
            "metadata": {},
            "source": [
                "#### 1.4 **\u903b\u8f91\u56de\u5f52\u4e0e\u56de\u5f52\u6a21\u578b\u603b\u7ed3\u5bf9\u6bd4**\n",
                "  \n",
                "![](http://imgbed.momodel.cn/10-8 \u603b\u7ed3.png)"
            ]
        },
        {
            "cell_type": "markdown",
            "metadata": {},
            "source": [
                "**\u725b\u5200\u5c0f\u8bd5**\n",
                "\n",
                "\u4f7f\u7528\u4ea4\u53c9\u71b5\u51fd\u6570\u4f5c\u4e3a\u635f\u5931\u51fd\u6570\u6709\u54ea\u4e9b\u4f18\u70b9\uff1f"
            ]
        },
        {
            "cell_type": "markdown",
            "metadata": {},
            "source": [
                "<span class='md-hint-alone-link pop 0'>\u67e5\u770b\u7b54\u6848</span>"
            ]
        },
        {
            "cell_type": "markdown",
            "metadata": {},
            "source": [
                "<br>"
            ]
        },
        {
            "cell_type": "markdown",
            "metadata": {},
            "source": [
                "### **2. \u903b\u8f91\u56de\u5f52\u4e0e\u5e73\u65b9\u8bef\u5dee**\n",
                "\n",
                ""
            ]
        },
        {
            "cell_type": "markdown",
            "metadata": {},
            "source": [
                "+ **\u6b65\u9aa41**\uff1a\n",
                "\n",
                "$f_{w,b}(x) = \u03c3(\\sum_i w_ix_i+b)$\n",
                "\n",
                "\u5bf9\u7ebf\u6027\u56de\u5f52\u4e2d\u7684\u52a0\u901f\u51fd\u6570 $h$ \u4f5c sigmod \u51fd\u6570\u5f97\u5230\u903b\u8f91\u56de\u5f52\u5047\u8bbe\u51fd\u6570\u3002\n",
                "\n",
                "+ **\u6b65\u9aa42**\uff1a\n",
                "\n",
                "\u8bad\u7ec3\u6570\u636e\u96c6($x^n,\\hat y^n$)\uff1a\u5f53 $\\hat y^n$ \u4e3a\u7c7b\u522b1\u65f6\uff0c\u53d61\uff1b\u4e3a\u7c7b\u522b2\u65f6\uff0c\u53d60 \u3002\n",
                "\n",
                "$L(f)=\\frac{1}{2}\\sum_n(f_{w,b}(x^n)-\\hat y^n)^2$\n",
                "\n",
                "+ **\u6b65\u9aa43**\uff1a\n",
                "\n",
                "$\\frac{\\partial (f_{w,b}(x^n)-\\hat y)^2}{\\partial w_i}$ = $2(f_{w,b}(x^n)-\\hat y^n)f_{w,b}(x^n)(1-f_{w,b}(x^n))x_i$\n",
                "       \n",
                "$\\hat y^n$ = 0\u65f6\uff0c\n",
                "\n",
                "\u5982\u679c $f_{w,b}(x^n)$ = 1(\u8fdc\u79bb\u76ee\u6807)\uff0c$\\frac{\\partial L}{\\partial w_i }= 0$\n",
                "\n",
                "\u5982\u679c $f_{w,b}(x^n)$ = 0(\u9760\u8fd1\u76ee\u6807)\uff0c$\\frac{\\partial L}{\\partial w_i }= 0$\n",
                "\n"
            ]
        },
        {
            "cell_type": "markdown",
            "metadata": {},
            "source": [
                "<br>"
            ]
        },
        {
            "cell_type": "markdown",
            "metadata": {},
            "source": [
                " ### **3. \u5224\u522b\u6a21\u578b v.s. \u751f\u6210\u6a21\u578b **       \n",
                " \n",
                ""
            ]
        },
        {
            "cell_type": "markdown",
            "metadata": {},
            "source": [
                "#### **3.1 \u4ecb\u7ecd**\n",
                "\n",
                "\u6211\u4eec\u628a\u903b\u8f91\u56de\u5f52\u65b9\u6cd5\u79f0\u4e3a\u5224\u522b\u6a21\u578b\uff08 Discriminative \uff09\u65b9\u6cd5\uff0c\n",
                "\n",
                "\u4e0a\u8282\u8bfe\u7528\u9ad8\u65af\u65b9\u6cd5\u6765\u63cf\u8ff0\u540e\u9a8c\u6982\u7387\u7684\u65b9\u6cd5\u79f0\u4e3a\u751f\u6210\u6a21\u578b\uff08 Generative \uff09\u65b9\u6cd5\u3002\n",
                "\n",
                "\u6982\u7387\u51fd\u6570 $P_{w,b}(C_1|x)$ \uff0c\u901a\u8fc7\u4e24\u79cd\u4e0d\u540c\u7684\u65b9\u5f0f\u6c42\u89e3 $w,b$\u3002"
            ]
        },
        {
            "cell_type": "markdown",
            "metadata": {},
            "source": [
                "+ 1 \u76f4\u63a5\u6c42\u89e3 $w,b$\n",
                "\n",
                "+ 2 \u8ba1\u7b97 $\u03bc^1$\uff0c$\u03bc^2$ \uff0c$\\sum^{-1}$ \uff0c\u518d\u901a\u8fc7\u4e0b\u5f0f\u8ba1\u7b97\uff1a\n",
                "\n",
                "\n",
                "![](http://imgbed.momodel.cn/10-9 \u751f\u6210\u6a21\u578b\u7684\u53c2\u6570\u6c42\u89e3.png)"
            ]
        },
        {
            "cell_type": "markdown",
            "metadata": {},
            "source": [
                "\n",
                "\n",
                "\u5982\u679c\u4f7f\u7528\u751f\u6210\u6a21\u578b\uff0c\u53ef\u4ee5\u4f7f\u7528\u65b9\u6cd52\u8ba1\u7b97\u3002\n",
                "\n",
                "\u5b83\u4eec\u4f7f\u7528\u76f8\u540c\u7684\u8bad\u7ec3\u6570\u636e\u548c\u51fd\u6570\u96c6\u8fdb\u884c\u8bad\u7ec3\uff0c\u4f46\u662f\u6700\u7ec8\u7684\u5f97\u5230\u7684\u9884\u6d4b\u51fd\u6570\u4e0d\u76f8\u540c\uff0c\u5982\u56fe\u6240\u793a\u3002\n",
                "\n",
                "\n",
                "![](http://imgbed.momodel.cn/10-10 \u9884\u6d4b\u6a21\u578b\u548c\u751f\u6210\u6a21\u578b\u5bf9\u6bd4.png)",
                "\n",
                "\u4e0a\u8ff0\u4e24\u79cd\u6a21\u578b\u91c7\u7528\u4e86\u6570\u636e\u96c6\u76847\u79cd\u6570\u636e\u7279\u5f81\u6765\u5bf9\u6570\u636e\u96c6\u8fdb\u884c\u5206\u7c7b\uff0c\u5176\u4e2d**\u751f\u6210\u6a21\u578b**\u7684\u51c6\u786e\u7387\u4e3a73%\uff0c**\u5224\u522b\u6a21\u578b**\u7684\u51c6\u786e\u7387\u4e3a79%\u3002"
            ]
        },
        {
            "cell_type": "markdown",
            "metadata": {},
            "source": [
                "#### **3.2 \u751f\u6210\u6a21\u578b\u5b9e\u4f8b**"
            ]
        },
        {
            "cell_type": "markdown",
            "metadata": {},
            "source": [
                "\u5df2\u77e5\u7279\u5f81\u5747\u4e3a1\u65f6\uff0c\u662f\u7c7b\u522b1\uff0c\u5176\u4f59\u4e3a\u7c7b\u522b2\u3002\n",
                "\n",
                "![](http://imgbed.momodel.cn/10-11 \u4f8b\u5b50.png)",
                "\n",
                "\u6211\u4eec\u6765\u9884\u6d4b\u4e00\u4e0b\uff1a\n",
                "\n",
                "![](http://imgbed.momodel.cn/20190530233132.png)",
                "\n",
                "\u5982\u679c\u4f7f\u7528\u8d1d\u53f6\u65af\u6a21\u578b\uff08\u751f\u6210\u6a21\u578b\uff09\u4f1a\u5f97\u5230\u4ec0\u4e48\u6837\u7684\u7ed3\u679c\uff1f\n"
            ]
        },
        {
            "cell_type": "markdown",
            "metadata": {},
            "source": [
                "![](http://imgbed.momodel.cn/10-13 \u8d1d\u53f6\u65af\u6982\u7387\u6c42\u89e31.png)",
                "\n",
                "![](http://imgbed.momodel.cn/10-14 \u8d1d\u53f6\u65af\u6c42\u89e32.png)",
                "\n",
                "\u9884\u6d4b\u7ed3\u679c\u4e3a\u7c7b\u522b2\uff0c\u5e94\u8be5\u662f\u7c7b\u522b1\u7684\uff0c\u4e3a\u4ec0\u4e48\u51fa\u9519\u4e86\u5462\uff1f\n",
                "\n",
                "\u751f\u6210\u6a21\u578b\u7ecf\u8fc7\u8ba1\u7b97\u5224\u65ad\u6d4b\u8bd5\u6570\u636e\u662f\u7c7b\u522b1\u7684\u51e0\u7387\u5c0f\u4e8e0.5\uff0c\u539f\u56e0\u5728\u4e8e\u751f\u6210\u6a21\u578b\u4f1a\u9002\u5f53\u8111\u8865\u4e00\u4e9b\u60c5\u5f62\u3002"
            ]
        },
        {
            "cell_type": "markdown",
            "metadata": {},
            "source": [
                "**\u725b\u5200\u5c0f\u8bd5**\n",
                "\n",
                "\u601d\u8003\u4e00\u4e0b\u751f\u6210\u6a21\u578b\u7684\u4f18\u70b9\u3002"
            ]
        },
        {
            "cell_type": "markdown",
            "metadata": {},
            "source": [
                "<span class='md-hint-alone-link pop 1'>\u67e5\u770b\u7b54\u6848</span>"
            ]
        },
        {
            "cell_type": "markdown",
            "metadata": {},
            "source": [
                "### **4. \u591a\u5143\u5206\u7c7b**\n",
                "\n",
                ""
            ]
        },
        {
            "cell_type": "markdown",
            "metadata": {},
            "source": [
                "\u7c7b\u6bd4\u4e8c\u5143\u5206\u7c7b\uff0c\u591a\u5143\u5206\u7c7b\u5373\u6839\u636e\u7279\u5f81\u5c06\u6570\u636e\u5206\u4e3a\u591a\u4e2a\u7c7b\u522b\u3002\n",
                "\n",
                "$C_1:w^1,b^1$;$z_1 = w^1*x + b_1$\n",
                "\n",
                "$C_2:w^2,b^2$;$z_2 = w^2*x + b_2$\n",
                "\n",
                "$C_3:w^3,b^3$;$z_3 = w^3*x + b_3$"
            ]
        },
        {
            "cell_type": "markdown",
            "metadata": {},
            "source": [
                "**Probability**\uff1a$y_i = P(C_i|x)$\n",
                "+ $1 > y_i >0$\n",
                "\n",
                "+ $\\sum_i y_i=1$"
            ]
        },
        {
            "cell_type": "markdown",
            "metadata": {},
            "source": [
                "**\u4f7f\u7528 softmax \u51fd\u6570**\uff1a\n",
                "\n",
                "![](http://imgbed.momodel.cn/10-15 softmax.png)"
            ]
        },
        {
            "cell_type": "markdown",
            "metadata": {},
            "source": [
                "**softmax \u51fd\u6570\u548c \u4ea4\u53c9\u71b5\uff08 cross entropy \uff09:**\n",
                "\n",
                "\u71b5\u7684\u6982\u5ff5\u672c\u6765\u662f\u70ed\u529b\u5b66\u7684\u4e00\u4e2a\u6982\u5ff5\uff0c\u63cf\u8ff0\u7269\u8d28\u7684\u6df7\u4e71\u7a0b\u5ea6\u3002 \n",
                "\n",
                "\u5728\u8fd9\u91cc\uff0c\u6211\u4eec\u7528\u4ea4\u53c9\u71b5\u7684\u6982\u5ff5\u6765\u63cf\u8ff0\u4e24\u7ec4\u4e0d\u540c\u6982\u7387\u6570\u636e\u5206\u5e03\u7684\u76f8\u4f3c\u7a0b\u5ea6\uff0c\u8d8a\u5c0f\u8d8a\u76f8\u4f3c\u3002\n",
                "\n",
                "![](http://imgbed.momodel.cn/10-16softmax\u548ccrossentropy.png)"
            ]
        },
        {
            "cell_type": "markdown",
            "metadata": {},
            "source": [
                "### **5. \u903b\u8f91\u56de\u5f52\u7684\u5c40\u9650\u6027**\n",
                "\n",
                ""
            ]
        },
        {
            "cell_type": "markdown",
            "metadata": {},
            "source": [
                "#### **\u201c\u5f02\u6216\u201d\u51fd\u6570**"
            ]
        },
        {
            "cell_type": "markdown",
            "metadata": {},
            "source": [
                "![](http://imgbed.momodel.cn/10-17 \u5f02\u6216\u51fd\u6570.png)",
                "\n",
                "\n",
                "\u5982\u56fe\uff0c\u6211\u4eec\u4e0d\u80fd\u591f\u5c06\u6570\u636e\u96c6\u8fdb\u884c\u5f88\u597d\u7684\u5206\u7c7b\u3002\u8bf7\u95ee\u4e3a\u4ec0\u4e48\u5462\uff1f"
            ]
        },
        {
            "cell_type": "markdown",
            "metadata": {},
            "source": [
                "#### **\u89e3\u51b3\u529e\u6cd5**"
            ]
        },
        {
            "cell_type": "markdown",
            "metadata": {},
            "source": [
                "##### **\u7279\u5f81\u53d8\u5316\uff1a**"
            ]
        },
        {
            "cell_type": "markdown",
            "metadata": {},
            "source": [
                "![](http://imgbed.momodel.cn/10-18 \u7279\u5f81\u53d8\u6362.png)",
                "\n",
                "\u5982\u56fe\uff0c\u6211\u4eec\u901a\u8fc7\u4e00\u4e9b\u53d8\u6362\u5c06\u6570\u636e\u5728\u5750\u6807\u8f74\u4e0a\u5206\u5f00\uff0c\u4f46\u662f\u6211\u4eec\u5e76\u4e0d\u80fd\u5f88\u5bb9\u6613\u627e\u5230\u4e00\u4e2a\u8f83\u597d\u7684\u53d8\u6362\u3002"
            ]
        },
        {
            "cell_type": "markdown",
            "metadata": {},
            "source": [
                "##### **\u7ea7\u8054\u903b\u8f91\u56de\u5f52\u6a21\u578b**"
            ]
        },
        {
            "cell_type": "markdown",
            "metadata": {},
            "source": [
                "\n",
                "\n",
                "![](http://imgbed.momodel.cn/10-19 \u7ea7\u8054\u903b\u8f91\u56de\u5f52\u6a21\u578b.png)"
            ]
        },
        {
            "cell_type": "markdown",
            "metadata": {},
            "source": [
                "\u9996\u5148\u901a\u8fc7\u7279\u5f81\u53d8\u6362\uff0c\u6539\u53d8\u6bcf\u4e2a\u70b9\u7684\u7279\u5f81\u503c\uff1a\n",
                "\n",
                "\n",
                "\n",
                "![](http://imgbed.momodel.cn/10-20 \u7b2c\u4e00\u7ea7\u53d8\u6362.png)"
            ]
        },
        {
            "cell_type": "markdown",
            "metadata": {},
            "source": [
                "\u901a\u8fc7\u7b2c\u4e8c\u7ea7\u6a21\u578b\u8fdb\u884c\u5206\u7c7b\uff1a\n",
                "\n",
                "\n",
                "![](http://imgbed.momodel.cn/10-21 \u7b2c\u4e8c\u7ea7\u53d8\u5316.png)",
                "\n",
                "\n",
                "\u5982\u56fe\uff0c\u6211\u4eec\u6210\u529f\u5730\u5c06\u6570\u636e\u8fdb\u884c\u5206\u7c7b\u3002"
            ]
        },
        {
            "cell_type": "markdown",
            "metadata": {},
            "source": [
                "### **6. \u6df1\u5ea6\u5b66\u4e60**\n",
                "\n",
                ""
            ]
        },
        {
            "cell_type": "markdown",
            "metadata": {},
            "source": [
                "\n",
                "<br>\n",
                "\n",
                "![](http://imgbed.momodel.cn/10-22 \u6df1\u5ea6\u5b66\u4e60.png)"
            ]
        }
    ],
    "metadata": {
        "kernelspec": {
            "display_name": "Python 3",
            "language": "python",
            "name": "python3"
        },
        "language_info": {
            "codemirror_mode": {
                "name": "ipython",
                "version": 3
            },
            "file_extension": ".py",
            "mimetype": "text/x-python",
            "name": "python",
            "nbconvert_exporter": "python",
            "pygments_lexer": "ipython3",
            "version": "3.6.7"
        }
    },
    "nbformat": 4,
    "nbformat_minor": 2
}