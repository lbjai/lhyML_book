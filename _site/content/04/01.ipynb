{
    "cells": [
        {
            "cell_type": "markdown",
            "metadata": {},
            "source": [
                "\n",
                "### \u8fd9\u4e00\u8282\u6211\u4eec\u4e3b\u8981\u5b66\u4e60",
                "\n",
                "+ \u6df1\u5ea6\u5b66\u4e60\n",
                "+ \u795e\u7ecf\u7f51\u7edc\n",
                "+ \u635f\u5931\u51fd\u6570\n",
                "+ \u53cd\u5411\u4f20\u64ad"
            ]
        },
        {
            "cell_type": "markdown",
            "metadata": {},
            "source": [
                "### 1.\u6df1\u5ea6\u5b66\u4e60"
            ]
        },
        {
            "cell_type": "markdown",
            "metadata": {},
            "source": [
                "#### 1.1 \u6df1\u5ea6\u5b66\u4e60\u7684\u53d1\u5c55\u8d8b\u52bf\n",
                "",
                "\n",
                "\u6df1\u5ea6\u5b66\u4e60\u5438\u5f15\u4e86\u5f88\u591a\u7684\u5173\u6ce8\uff0c\u5e76\u4e14\u5728\u5f88\u591a\u9886\u57df\u90fd\u6709\u5e94\u7528\uff1a\n",
                "\n",
                "![](http://imgbed.momodel.cn/13-1\u6df1\u5ea6\u5b66\u4e60\u7684\u8d8b\u52bf.png)"
            ]
        },
        {
            "cell_type": "markdown",
            "metadata": {},
            "source": [
                "#### 1.2 \u6df1\u5ea6\u5b66\u4e60\u7684\u53d1\u5c55\u5386\u53f2\n",
                "",
                "\n",
                "![](http://imgbed.momodel.cn/13-2 \u6df1\u5ea6\u5b66\u4e60\u7684\u8d77\u8d77\u4f0f\u4f0f.png)"
            ]
        },
        {
            "cell_type": "markdown",
            "metadata": {},
            "source": [
                "#### 1.3 \u6df1\u5ea6\u5b66\u4e60\u7684\u4e09\u4e2a\u6b65\u9aa4\n",
                "",
                "\n",
                "![](http://imgbed.momodel.cn/13-3 \u6df1\u5ea6\u5b66\u4e60\u7684\u4e09\u6b65.png)"
            ]
        },
        {
            "cell_type": "markdown",
            "metadata": {},
            "source": [
                "### 2.\u795e\u7ecf\u7f51\u7edc -- \u6df1\u5ea6\u5b66\u4e60\u7684\u7b2c\u4e00\u6b65"
            ]
        },
        {
            "cell_type": "markdown",
            "metadata": {},
            "source": [
                "#### 2.1 \u4ec0\u4e48\u662f\u795e\u7ecf\u7f51\u7edc\n",
                "",
                "\n",
                " + \u795e\u7ecf\u7f51\u7edc\uff1a\u795e\u7ecf\u5143\u95f4\u7684\u4e0d\u540c\u8fde\u63a5\u7ec4\u6210\u4e0d\u540c\u7684\u7f51\u7edc\u7ed3\u6784\u3002\n",
                " + \u7f51\u7edc\u53c2\u6570 $\\theta$\uff1a\u6240\u6709\u795e\u7ecf\u5143\u7684\u6743\u91cd\u548c\u504f\u5dee\u3002\n",
                "\n",
                "![](http://imgbed.momodel.cn/13-4 \u795e\u7ecf\u7f51\u7edc.png)"
            ]
        },
        {
            "cell_type": "markdown",
            "metadata": {},
            "source": [
                "#### 2.2 \u5168\u8fde\u63a5\u524d\u9988\u7f51\u7edc\n",
                "\n",
                "",
                "\n",
                "+ \u5168\u8fde\u63a5\uff1a\u6bcf\u4e00\u5c42\u7684\u795e\u7ecf\u5143\u4e4b\u95f4\u5168\u90e8\u4e24\u4e24\u8fde\u63a5\uff1b\u524d\u9988\uff1a\u4f20\u9012\u7684\u65b9\u5411\u7531\u540e\u5f80\u524d\n",
                "+ \u5c06\u795e\u7ecf\u5143\u4ee5\u5168\u8fde\u63a5\u7684\u65b9\u5f0f\u8fde\u63a5\u8d77\u6765\uff0c\u4e0d\u786e\u5b9a\u7f51\u7edc\u53c2\u6570\uff08Network parameter\uff09\uff0c\u76f8\u5f53\u4e8e\u786e\u5b9a\u4e86\u4e00\u4e2a\u51fd\u6570\u96c6 - \u795e\u7ecf\u7f51\u7edc\u3002\n",
                "+ \u786e\u5b9a\u7f51\u7edc\u53c2\u6570\u76f8\u5f53\u4e8e\u4ece\u51fd\u6570\u96c6\u4e2d\u786e\u5b9a\u4e86\u4e00\u4e2a\u51fd\u6570\uff0c\u6bcf\u8f93\u5165\u4e00\u4e2a\u5411\u91cf\u90fd\u4f1a\u6709\u4e00\u4e2a\u8f93\u51fa\u7684\u5411\u91cf\u4e0e\u4e4b\u5bf9\u5e94\u3002\n",
                "+ \u7f51\u7edc\u53c2\u6570\u5e94\u8be5\u662f\u4ece\u8bad\u7ec3\u6570\u636e\u4e2d\u5b66\u51fa\u6765\u7684\n",
                "\n",
                "![](http://imgbed.momodel.cn/13-7 \u524d\u9988\u7f51\u7edc.png)"
            ]
        },
        {
            "cell_type": "markdown",
            "metadata": {},
            "source": [
                "+ \u4e00\u822c\u800c\u8a00\uff0c\u6bcf\u4e00\u5c42\u795e\u7ecf\u5143\u7684\u4e2a\u6570\u548c\u5c42\u6570\u90fd\u662f\u4e0d\u786e\u5b9a\u7684\u3002\u9690\u85cf\u5c42\u7684\u5c42\u6570\u5bf9\u5e94 Deep \u7684\u6982\u5ff5\u3002\n",
                "\n",
                "![](http://imgbed.momodel.cn/13-8 \u795e\u7ecf\u7f51\u7edc\u7ed3\u6784.png)",
                "\n",
                "+ \u968f\u7740\u9690\u85cf\u5c42\u6570\u76ee\u589e\u52a0\uff0c\u7f51\u7edc\u7684\u9519\u8bef\u7387\u51cf\u5c11\uff0c\u4e14\u5c42\u95f4\u8fde\u63a5\u65b9\u5f0f\u4f1a\u53d1\u751f\u53d8\u5316\uff0c\u4f7f\u7528\u975e\u5168\u8fde\u63a5\u7684\u5176\u4ed6\u65b9\u5f0f\u3002\n",
                "\n",
                "![](http://imgbed.momodel.cn/13-10 \u6df1\u5ea6\u7f51\u7edc\u7684\u53d1\u5c55.png)"
            ]
        },
        {
            "cell_type": "markdown",
            "metadata": {},
            "source": [
                "",
                "\n",
                "+ \u8c03\u7528 GPU \u5229\u7528\u5e76\u884c\u8ba1\u7b97\u6280\u672f\u52a0\u5feb\u77e9\u9635\u8fd0\u7b97\uff1a\n",
                "\n",
                "![](http://imgbed.momodel.cn/13-12 \u5e76\u884c\u8ba1\u7b97.png)"
            ]
        },
        {
            "cell_type": "markdown",
            "metadata": {},
            "source": [
                "",
                "\n",
                "+ \u5168\u8fde\u63a5\u524d\u9988\u7f51\u7edc\u7684\u9690\u85cf\u5c42\u8d77\u5230\u7279\u5f81\u63d0\u53d6\u7684\u4f5c\u7528\uff0c\u8f93\u5165\u7684\u7279\u5f81\u7ecf\u8fc7\u9690\u85cf\u5c42\u4e4b\u540e\u8f6c\u6362\u6210\u4e00\u7ec4\u65b0\u7684\u7279\u5f81\uff0c\u53d6\u4ee3\u4e4b\u524d\u7684\u624b\u52a8\u7279\u5f81\u8f6c\u6362\u5de5\u7a0b\u3002\n",
                "+ \u8f93\u51fa\u5c42\u76f8\u5f53\u4e8e\u4e00\u4e2a\u591a\u5206\u7c7b\u5668\uff0c\u5c06\u63d0\u53d6\u540e\u7684\u7279\u5f81\u8fdb\u884c\u5206\u7c7b\u3002\u56e0\u4e3a\u591a\u5206\u7c7b\u5668\u8981\u901a\u8fc7 Softmax \u51fd\u6570\uff0c\u6240\u4ee5\u5728\u8f93\u51fa\u5c42\u4e5f\u4f1a\u52a0\u4e0a Softmax \u51fd\u6570\u3002\n",
                "\n",
                "![](http://imgbed.momodel.cn/13-13 \u7279\u5f81\u63d0\u53d6.png)"
            ]
        },
        {
            "cell_type": "markdown",
            "metadata": {},
            "source": [
                "#### 2.3 \u5e94\u7528\u4f8b\u5b50\n",
                "",
                "\n",
                "+ \u8f93\u5165\u4e00\u5f20\u624b\u5199\u6570\u5b57\u7684\u56fe\u7247\uff0c\u8f93\u51fa\u8fd9\u5f20\u56fe\u7247\u5bf9\u5e94\u7684\u6570\u5b57\uff1a\n",
                "+ \u5047\u8bbe\u8f93\u5165\u56fe\u7247\u7684\u89e3\u6790\u5ea6\u4e3a 16 * 16\uff0c\u90a3\u4e48\u5b83\u5c31\u6709 256 \u4e2a\u50cf\u7d20\uff0c\u5bf9\u5e94\u4e00\u4e2a 256 \u7ef4\u7684\u5411\u91cf\uff1b\n",
                "+ \u8f93\u51fa\u662f\u4e00\u4e2a 10 \u7ef4\u7684\u5411\u91cf\uff0c\u6bcf\u4e00\u4e2a\u7ef4\u5ea6\u4ee3\u8868\u5bf9\u5e94\u6570\u5b57\u7684\u51e0\u7387\u3002\n",
                "\n",
                "![](http://imgbed.momodel.cn/13-14 \u5e94\u7528\u4f8b\u5b50.png)",
                "\n",
                "+ \u8981\u5b9e\u73b0\u624b\u5199\u6570\u5b57\u8bc6\u522b\uff0c\u6211\u4eec\u6240\u9700\u8981\u7684\u5c31\u662f\u4e00\u4e2a\u51fd\u6570\uff0c\u5373\u795e\u7ecf\u7f51\u7edc\u3002\n",
                "\n",
                "![](http://imgbed.momodel.cn/13-15 \u624b\u5199\u6570\u5b57\u8bc6\u522b.png)",
                "\n",
                "+ \u90a3\u4e48\u600e\u4e48\u786e\u5b9a\u8fd9\u4e2a\u7f51\u7edc\u5462\uff1f\u5176\u5b9e\uff0c\u8fd9\u91cc\u5bf9\u7f51\u7edc\u7684\u9650\u5236\u53ea\u662f\u8f93\u5165\u662f\u4e00\u4e2a 256 \u7ef4\u7684\u5411\u91cf\uff0c\u8f93\u51fa\u662f\u4e00\u4e2a 10 \u7ef4\u7684\u5411\u91cf\uff0c\u5bf9\u4e2d\u95f4\u7684\u7f51\u7edc\u7ed3\u6784\u5e76\u6ca1\u6709\u4efb\u4f55\u9650\u5236\u3002\n",
                "+ \u5047\u8bbe\u6211\u4eec\u786e\u5b9a\u7528\u5168\u8fde\u63a5\u524d\u9988\u7f51\u7edc\uff0c\u4e5f\u5c31\u662f\u786e\u5b9a\u4e86\u4e00\u4e2a\u51fd\u6570\u96c6\uff0c\u63a5\u4e0b\u6765\u8fd8\u9700\u8981\u7528\u68af\u5ea6\u4e0b\u964d\u7b97\u6cd5\u627e\u5230\u8868\u73b0\u6700\u597d\u7684\u90a3\u4e2a\u51fd\u6570\u3002\n",
                "+ \u4f46\u662f\u4e00\u4e2a\u4e0d\u597d\u7684\u7f51\u7edc\u7ed3\u6784\u53ef\u80fd\u4e0d\u5305\u542b\u4e00\u4e2a\u8868\u73b0\u597d\u7684\u51fd\u6570\uff0c\u6240\u4ee5\u6211\u4eec\u9700\u8981\u8bbe\u8ba1\u7f51\u7edc\u7ed3\u6784\u4ee5\u4fdd\u8bc1\u8868\u73b0\u6700\u597d\u7684\u90a3\u4e2a\u51fd\u6570\u5728\u6211\u4eec\u7684\u51fd\u6570\u96c6\u91cc\u3002\n",
                "+ \u90a3\u4e48\u5982\u4f55\u8bbe\u8ba1\u7f51\u7edc\u7ed3\u6784\u5462\uff1f"
            ]
        },
        {
            "cell_type": "markdown",
            "metadata": {},
            "source": [
                "",
                "\n",
                "+ \u5982\u4f55\u786e\u5b9a\u7f51\u7edc\u7684\u5c42\u6570\u548c\u6bcf\u4e00\u5c42\u6709\u591a\u5c11\u795e\u7ecf\u5143\uff1f\n",
                "\n",
                "   \u7b54\uff1a\u8bd5\u9519\u6cd5\uff08\u7ecf\u9a8c\uff09 + \u76f4\u89c9\n",
                "\n",
                "+ \u7f51\u7edc\u7ed3\u6784\u80fd\u5426\u81ea\u52a8\u5b66\u4e60\uff1f\n",
                "\n",
                "   \u7b54\uff1a\u53ef\u4ee5\uff0c\u6bd4\u5982\u8fdb\u5316\u4eba\u5de5\u795e\u7ecf\u7f51\u7edc\u3002\n",
                "\n",
                "+ \u6211\u4eec\u80fd\u5426\u81ea\u5df1\u8bbe\u8ba1\u7f51\u7edc\u7ed3\u6784\uff1f\n",
                "\n",
                "   \u7b54\uff1a\u53ef\u4ee5\uff0c\u6bd4\u5982\u5377\u79ef\u795e\u7ecf\u7f51\u7edc\uff08CNN\uff09\u3002"
            ]
        },
        {
            "cell_type": "markdown",
            "metadata": {},
            "source": [
                "<br>"
            ]
        },
        {
            "cell_type": "markdown",
            "metadata": {},
            "source": [
                "### 3.\u635f\u5931\u51fd\u6570 -- \u6df1\u5ea6\u5b66\u4e60\u7684\u7b2c\u4e8c\u6b65\u548c\u7b2c\u4e09\u6b65"
            ]
        },
        {
            "cell_type": "markdown",
            "metadata": {},
            "source": [
                "\n",
                "",
                "\n",
                "+ \u5b9a\u4e49\u4e00\u4e2a\u51fd\u6570\u7684\u597d\u574f--\u635f\u5931\u51fd\u6570\n",
                "+ \u5bf9\u4e8e\u4e00\u4e2a\u8bad\u7ec3\u6570\u636e\uff0c\u6211\u4eec\u53ef\u4ee5\u8ba1\u7b97\u51fd\u6570\u7ed3\u679c\u548c\u5b9e\u9645\u6570\u636e\u7684\u4ea4\u53c9\u71b5\n",
                "\n",
                "![](http://imgbed.momodel.cn/13-16 \u635f\u5931\u51fd\u6570.png)",
                "\n",
                "+ \u6574\u4e2a\u7f51\u7edc\u7684\u635f\u5931\u51fd\u6570\uff1a$L=\\sum_{n=1}^N C^n$ \uff0c\u5373\u6240\u6709\u8bad\u7ec3\u6570\u636e\u7684\u4ea4\u53c9\u71b5\u7684\u548c\n",
                "+ \u63a5\u4e0b\u6765\uff0c\u6211\u4eec\u9700\u8981\u5728\u51fd\u6570\u96c6\u4e2d\u786e\u5b9a\u4e00\u4e2a\u51fd\u6570\u4f7f\u603b\u635f\u5931\u8fbe\u5230\u6700\u5c0f\uff0c\u5373\u786e\u5b9a\u795e\u7ecf\u7f51\u7edc\u7684\u53c2\u6570 $\u03b8^*$ \u4f7f\u635f\u5931\u51fd\u6570\u6700\u5c0f\n",
                "\n",
                "![](http://imgbed.momodel.cn/13-17 \u6574\u4e2a\u7f51\u8def\u635f\u5931\u51fd\u6570.png)"
            ]
        },
        {
            "cell_type": "markdown",
            "metadata": {},
            "source": [
                "\n",
                "",
                "\n",
                "+ \u7ed9\u5b9a\u4e00\u7ec4\u53c2\u6570\u7684\u521d\u59cb\u503c\uff0c\u8ba1\u7b97\u68af\u5ea6\uff0c\u6839\u636e\u5b66\u4e60\u7387\u66f4\u65b0\u53c2\u6570\u503c\uff0c\u5faa\u73af\u5f80\u590d\uff0c\u76f4\u5230\u627e\u5230\u4e00\u7ec4\u597d\u7684\u53c2\u6570\u3002\u8fd9\u5c31\u662f\u673a\u5668\u5728\u6df1\u5ea6\u5b66\u4e60\u4e2d\u7684\u5b66\u4e60\u8fc7\u7a0b\u3002\n",
                "\n",
                "![](http://imgbed.momodel.cn/13-18 \u68af\u5ea6\u4e0b\u964d.png)",
                "\n",
                "![](http://imgbed.momodel.cn/13-19 \u68af\u5ea6\u66f4\u65b0.png)"
            ]
        },
        {
            "cell_type": "markdown",
            "metadata": {},
            "source": [
                "<br>"
            ]
        },
        {
            "cell_type": "markdown",
            "metadata": {},
            "source": [
                "### 4.\u53cd\u5411\u4f20\u64ad"
            ]
        },
        {
            "cell_type": "markdown",
            "metadata": {},
            "source": [
                "\n",
                "",
                "\n",
                "+ \u53cd\u5411\u4f20\u64ad\uff1a\u8ba1\u7b97\u795e\u7ecf\u7f51\u7edc\u4e2d\u504f\u5fae\u5206\u7684\u6709\u6548\u65b9\u5f0f\u3002\n",
                "\n",
                "![](http://imgbed.momodel.cn/13-21 \u53cd\u5411\u4f20\u64ad.png)"
            ]
        },
        {
            "cell_type": "markdown",
            "metadata": {},
            "source": [
                "### 5.\u7ed3\u675f\u8bed"
            ]
        },
        {
            "cell_type": "markdown",
            "metadata": {},
            "source": [
                "\n",
                "",
                "\n",
                "+ \u4e3a\u4ec0\u4e48\u8981\u7528\u6df1\u5ea6\u5b66\u4e60\uff1f\u8d8a\u6df1\u8d8a\u597d\uff1f\n",
                "\n",
                "+ \u666e\u904d\u6027\u5b9a\u7406\uff1a\u53ea\u8981\u6709\u8db3\u591f\u591a\u7684\u795e\u7ecf\u5143\uff0c\u4efb\u4f55\u8fde\u7eed\u51fd\u6570 $f: R^N \\rightarrow R^M$ ,\u90fd\u80fd\u591f\u88ab\u4e00\u4e2a\u4ec5\u6709\u4e00\u5c42\u9690\u85cf\u5c42\u7684\u7f51\u7edc\u5b9e\u73b0\u3002\n",
                "\n",
                "![](http://imgbed.momodel.cn/13-22 \u4e00\u4e2a\u9690\u85cf\u5c42.png)"
            ]
        },
        {
            "cell_type": "markdown",
            "metadata": {},
            "source": [
                "**\u725b\u5200\u5c0f\u8bd5**\n",
                "\n",
                "\u6df1\u5ea6\u5b66\u4e60\u4e0e\u673a\u5668\u5b66\u4e60\u7684\u533a\u522b"
            ]
        },
        {
            "cell_type": "markdown",
            "metadata": {},
            "source": [
                "<span class='md-hint-alone-link pop 0'>\u67e5\u770b\u7b54\u6848</span>"
            ]
        }
    ],
    "metadata": {
        "kernelspec": {
            "display_name": "Python 3",
            "language": "python",
            "name": "python3"
        },
        "language_info": {
            "codemirror_mode": {
                "name": "ipython",
                "version": 3
            },
            "file_extension": ".py",
            "mimetype": "text/x-python",
            "name": "python",
            "nbconvert_exporter": "python",
            "pygments_lexer": "ipython3",
            "version": "3.6.7"
        }
    },
    "nbformat": 4,
    "nbformat_minor": 2
}