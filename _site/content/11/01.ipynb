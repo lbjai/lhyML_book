{
    "cells": [
        {
            "cell_type": "markdown",
            "metadata": {},
            "source": [
                "### \u8fd9\u4e00\u8282\u6211\u4eec\u4e3b\u8981\u5b66\u4e60"
            ]
        },
        {
            "cell_type": "markdown",
            "metadata": {},
            "source": [
                "\u5728\u5b9e\u9645\u4e2d\u5e94\u7528\u673a\u5668\u5b66\u4e60\u6280\u672f\uff0c\u9700\u8981\u9762\u5bf9\u548c\u89e3\u51b3\u7684\u96be\u9898\uff1a\n",
                "+ \u5f02\u5e38\u68c0\u6d4b\n",
                "+ \u53ef\u89e3\u91ca\u578b AI\n",
                "+ \u5bf9\u6297\u653b\u51fb\n",
                "+ \u7ec8\u751f\u5b66\u4e60\n",
                "+ \u5143\u5b66\u4e60\n",
                "+ \u5c0f\uff08\u96f6\uff09\u6837\u672c\u5b66\u4e60\n",
                "+ \u5f3a\u5316\u5b66\u4e60\n",
                "+ \u7f51\u7edc\u538b\u7f29\n",
                "+ \u65e0\u76d1\u7763\u57df\u9002\u5e94"
            ]
        },
        {
            "cell_type": "markdown",
            "metadata": {},
            "source": [
                "### 1. \u5f02\u5e38\u68c0\u6d4b Anomaly Detection"
            ]
        },
        {
            "cell_type": "markdown",
            "metadata": {},
            "source": [
                "![](http://imgbed.momodel.cn/40_01_nextstep.png)"
            ]
        },
        {
            "cell_type": "markdown",
            "metadata": {},
            "source": [
                "\u673a\u5668\u80fd\u4e0d\u80fd\u77e5\u9053\u201c\u6211\u4e0d\u77e5\u9053\u201d\uff1f<br>\n",
                "\n",
                "\u4f8b\u5982\uff0c\u5bf9\u4e8e\u4e00\u4e2a\u5c06\u52a8\u7269\u56fe\u7247\u8fdb\u884c\u5206\u7c7b\u7684\u6a21\u578b\uff0c\u5982\u679c\u8f93\u5165\u4e00\u5f20\u52a8\u6f2b\u4eba\u7269\u7684\u56fe\u7247\uff0c\u6a21\u578b\u662f\u5426\u4f1a\u8f93\u51fa\u201c\u6211\u4e0d\u77e5\u9053\u201d\u3002<br>"
            ]
        },
        {
            "cell_type": "markdown",
            "metadata": {},
            "source": [
                "### 2. \u53ef\u89e3\u91caAI Explainable AI"
            ]
        },
        {
            "cell_type": "markdown",
            "metadata": {},
            "source": [
                "![](http://imgbed.momodel.cn/40_02_nextstep.png)",
                "![](http://imgbed.momodel.cn/40_03_nextstep.png)"
            ]
        },
        {
            "cell_type": "markdown",
            "metadata": {},
            "source": [
                "\u673a\u5668\u80fd\u5426\u8bf4\u51fa\u4e3a\u4ec0\u4e48\u201c\u6211\u77e5\u9053\u201d\uff1f"
            ]
        },
        {
            "cell_type": "markdown",
            "metadata": {},
            "source": [
                "### 3. \u5bf9\u6297\u653b\u51fb Adversarial Attack"
            ]
        },
        {
            "cell_type": "markdown",
            "metadata": {},
            "source": [
                "![](http://imgbed.momodel.cn/40_04_nextstep.png)",
                "\n"
            ]
        },
        {
            "cell_type": "markdown",
            "metadata": {},
            "source": [
                "\u5982\u4f55\u9632\u6b62\u673a\u5668\u53d1\u751f\u9519\u89c9\uff1f"
            ]
        },
        {
            "cell_type": "markdown",
            "metadata": {},
            "source": [
                "### 4. \u7ec8\u8eab\u5b66\u4e60 Life-long Learning"
            ]
        },
        {
            "cell_type": "markdown",
            "metadata": {},
            "source": [
                "![](http://imgbed.momodel.cn/40_04_nextstep.png)",
                "![](http://imgbed.momodel.cn/40_06_nextstep.png)"
            ]
        },
        {
            "cell_type": "markdown",
            "metadata": {},
            "source": [
                "\u4eba\u662f\u7ec8\u8eab\u5b66\u4e60\u7684\uff0c\u4f46\u4eca\u5929\u6211\u4eec\u4e00\u822c\u53ea\u8ba9\u4e00\u4e2a\u6a21\u578b\u5b66\u4e60\u4e00\u4e2a\u4efb\u52a1\uff0c\u8fd9\u5bfc\u81f4\uff1a<br>\n",
                "\uff081\uff09\u6a21\u578b\u7684\u6570\u91cf\u65e0\u9650\u589e\u957f\uff0c<br>\n",
                "\uff082\uff09\u4e4b\u524d\u5b66\u5230\u7684\u6280\u80fd\u5bf9\u4e4b\u540e\u7684\u5b66\u4e60\u6ca1\u6709\u5e2e\u52a9\u3002<br>\n",
                "<br>\n",
                "\u7ec8\u8eab\u5b66\u4e60(Life-long Learning) \u7814\u7a76\u5982\u4f55\u89e3\u51b3\u540c\u4e00\u6a21\u578b<br>\n",
                "\u5728\u5b66\u4e60\u4e0d\u540c\u4efb\u52a1\u65f6\u5b58\u5728\u7684\u5b58\u5728\u707e\u96be\u6027\u9057\u5fd8(catastrophic forgetting)\u95ee\u9898\u3002<br>\n"
            ]
        },
        {
            "cell_type": "markdown",
            "metadata": {},
            "source": [
                "### 5. \u5143\u5b66\u4e60 Meta-Learning"
            ]
        },
        {
            "cell_type": "markdown",
            "metadata": {},
            "source": [
                "![](http://imgbed.momodel.cn/40_07_nextstep.png)"
            ]
        },
        {
            "cell_type": "markdown",
            "metadata": {},
            "source": [
                "\u5b66\u4e60\u5982\u4f55\u5b66\u4e60\u3002<br>\n",
                "\u5199\u51fa\u4e00\u4e2a\u7a0b\u5e8f\uff0c\u8fd9\u4e2a\u7a0b\u5e8f\u80fd\u591f\u5199\u51fa\u5177\u6709\u5b66\u4e60\u80fd\u529b\u7a0b\u5e8f\u3002<br>"
            ]
        },
        {
            "cell_type": "markdown",
            "metadata": {},
            "source": [
                "### 6. \u5c0f\u6837\u672c\u5b66\u4e60 Few-shot Learning\u3001\u96f6\u6b21\u5b66\u4e60 Zero-shot learning"
            ]
        },
        {
            "cell_type": "markdown",
            "metadata": {},
            "source": [
                "![](http://imgbed.momodel.cn/40_08_nextstep.png)"
            ]
        },
        {
            "cell_type": "markdown",
            "metadata": {},
            "source": [
                "\u6839\u636e\u5f88\u5c11\u7684\u6837\u672c\u8fdb\u884c\u5b66\u4e60\u3002"
            ]
        },
        {
            "cell_type": "markdown",
            "metadata": {},
            "source": [
                "### 7. \u5f3a\u5316\u5b66\u4e60 Reinforcement Learning"
            ]
        },
        {
            "cell_type": "markdown",
            "metadata": {},
            "source": [
                "![](http://imgbed.momodel.cn/40_09_nextstep.png)"
            ]
        },
        {
            "cell_type": "markdown",
            "metadata": {},
            "source": [
                "\u5f3a\u5316\u5b66\u4e60\u771f\u7684\u80fd\u7528\u5417\uff1f<br>\n",
                "\u53c2\u8003\u8d44\u6599\uff1ahttp://web.standford.edu/class/psych209/Readings/LakeEtAIBBS.pdf"
            ]
        },
        {
            "cell_type": "markdown",
            "metadata": {},
            "source": [
                "### 8. \u7f51\u7edc\u538b\u7f29 Network Compression"
            ]
        },
        {
            "cell_type": "markdown",
            "metadata": {},
            "source": [
                "![](http://imgbed.momodel.cn/40_10_nextstep.png)"
            ]
        },
        {
            "cell_type": "markdown",
            "metadata": {},
            "source": [
                "\u628a\u5927\u7684\u795e\u7ecf\u7f51\u7edc\u7f29\u5c0f\uff0c\u6216\u8005\u628a\u795e\u7ecf\u7f51\u7edc\u7684\u53c2\u6570\u4e8c\u5143\u5316\u3002\n"
            ]
        },
        {
            "cell_type": "markdown",
            "metadata": {},
            "source": [
                "### 9. \u65e0\u76d1\u7763\u57df\u9002\u5e94 Unsupervised Domain Adaptation"
            ]
        },
        {
            "cell_type": "markdown",
            "metadata": {},
            "source": [
                "![](http://imgbed.momodel.cn/40_11_nextstep.png)"
            ]
        },
        {
            "cell_type": "markdown",
            "metadata": {},
            "source": [
                "\u5e94\u5bf9\u8bad\u7ec3\u6570\u636e\u548c\u6d4b\u8bd5\u6570\u636e\u7684\u5206\u5e03\u4e0d\u540c"
            ]
        }
    ],
    "metadata": {
        "kernelspec": {
            "display_name": "Python 3",
            "language": "python",
            "name": "python3"
        },
        "language_info": {
            "codemirror_mode": {
                "name": "ipython",
                "version": 3
            },
            "file_extension": ".py",
            "mimetype": "text/x-python",
            "name": "python",
            "nbconvert_exporter": "python",
            "pygments_lexer": "ipython3",
            "version": "3.5.2"
        }
    },
    "nbformat": 4,
    "nbformat_minor": 2
}